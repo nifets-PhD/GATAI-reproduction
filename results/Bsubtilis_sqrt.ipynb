{
 "cells": [
  {
   "cell_type": "code",
   "execution_count": 1,
   "id": "d76b6cba",
   "metadata": {
    "execution": {
     "iopub.execute_input": "2024-09-26T10:14:35.976691Z",
     "iopub.status.busy": "2024-09-26T10:14:35.976198Z",
     "iopub.status.idle": "2024-09-26T10:14:35.989572Z",
     "shell.execute_reply": "2024-09-26T10:14:35.989222Z"
    },
    "papermill": {
     "duration": 0.034071,
     "end_time": "2024-09-26T10:14:35.990753",
     "exception": false,
     "start_time": "2024-09-26T10:14:35.956682",
     "status": "completed"
    },
    "tags": []
   },
   "outputs": [],
   "source": [
    "%load_ext autoreload\n",
    "%autoreload 2"
   ]
  },
  {
   "cell_type": "markdown",
   "id": "bc4f856f",
   "metadata": {
    "papermill": {
     "duration": 0.011293,
     "end_time": "2024-09-26T10:14:36.018981",
     "exception": false,
     "start_time": "2024-09-26T10:14:36.007688",
     "status": "completed"
    },
    "tags": []
   },
   "source": [
    "## 1. Load expression data\n",
    "\n",
    "The `transformation` value can be one of `\"none\"`, `\"sqrt\"` or `\"log\"`, which determines how the expression data should be transformed in order to reduce outlier influence."
   ]
  },
  {
   "cell_type": "code",
   "execution_count": 2,
   "id": "1e1d081b",
   "metadata": {
    "execution": {
     "iopub.execute_input": "2024-09-26T10:14:36.037566Z",
     "iopub.status.busy": "2024-09-26T10:14:36.037376Z",
     "iopub.status.idle": "2024-09-26T10:14:36.044471Z",
     "shell.execute_reply": "2024-09-26T10:14:36.044105Z"
    },
    "papermill": {
     "duration": 0.017245,
     "end_time": "2024-09-26T10:14:36.045382",
     "exception": false,
     "start_time": "2024-09-26T10:14:36.028137",
     "status": "completed"
    },
    "tags": [
     "parameters"
    ]
   },
   "outputs": [],
   "source": [
    "data_path: str = \"data/Athaliana.csv\"\n",
    "transformation: str = \"sqrt\""
   ]
  },
  {
   "cell_type": "code",
   "execution_count": 3,
   "id": "1b52e85a",
   "metadata": {
    "execution": {
     "iopub.execute_input": "2024-09-26T10:14:36.066916Z",
     "iopub.status.busy": "2024-09-26T10:14:36.066761Z",
     "iopub.status.idle": "2024-09-26T10:14:36.073018Z",
     "shell.execute_reply": "2024-09-26T10:14:36.072698Z"
    },
    "papermill": {
     "duration": 0.01749,
     "end_time": "2024-09-26T10:14:36.073844",
     "exception": false,
     "start_time": "2024-09-26T10:14:36.056354",
     "status": "completed"
    },
    "tags": [
     "injected-parameters"
    ]
   },
   "outputs": [],
   "source": [
    "# Parameters\n",
    "data_path = \"data/Bsubtilis.csv\"\n",
    "transformation = \"sqrt\"\n"
   ]
  },
  {
   "cell_type": "code",
   "execution_count": 4,
   "id": "f4386e2a",
   "metadata": {
    "execution": {
     "iopub.execute_input": "2024-09-26T10:14:36.092018Z",
     "iopub.status.busy": "2024-09-26T10:14:36.091793Z",
     "iopub.status.idle": "2024-09-26T10:14:36.977545Z",
     "shell.execute_reply": "2024-09-26T10:14:36.977243Z"
    },
    "papermill": {
     "duration": 0.895341,
     "end_time": "2024-09-26T10:14:36.978234",
     "exception": false,
     "start_time": "2024-09-26T10:14:36.082893",
     "status": "completed"
    },
    "tags": []
   },
   "outputs": [
    {
     "data": {
      "text/html": [
       "<div>\n",
       "<style scoped>\n",
       "    .dataframe tbody tr th:only-of-type {\n",
       "        vertical-align: middle;\n",
       "    }\n",
       "\n",
       "    .dataframe tbody tr th {\n",
       "        vertical-align: top;\n",
       "    }\n",
       "\n",
       "    .dataframe thead th {\n",
       "        text-align: right;\n",
       "    }\n",
       "</style>\n",
       "<table border=\"1\" class=\"dataframe\">\n",
       "  <thead>\n",
       "    <tr style=\"text-align: right;\">\n",
       "      <th></th>\n",
       "      <th>Phylostratum</th>\n",
       "      <th>GeneID</th>\n",
       "      <th>B1</th>\n",
       "      <th>B2</th>\n",
       "      <th>B3</th>\n",
       "      <th>B4</th>\n",
       "      <th>B5</th>\n",
       "      <th>B6</th>\n",
       "      <th>B7</th>\n",
       "      <th>B8</th>\n",
       "      <th>...</th>\n",
       "      <th>B22</th>\n",
       "      <th>B23</th>\n",
       "      <th>B24</th>\n",
       "      <th>B25</th>\n",
       "      <th>B26</th>\n",
       "      <th>B27</th>\n",
       "      <th>B28</th>\n",
       "      <th>B32</th>\n",
       "      <th>B33</th>\n",
       "      <th>B34</th>\n",
       "    </tr>\n",
       "  </thead>\n",
       "  <tbody>\n",
       "    <tr>\n",
       "      <th>0</th>\n",
       "      <td>0.740398</td>\n",
       "      <td>B4U62_00005</td>\n",
       "      <td>89.632583</td>\n",
       "      <td>90.266273</td>\n",
       "      <td>81.963406</td>\n",
       "      <td>54.184869</td>\n",
       "      <td>56.524331</td>\n",
       "      <td>55.244909</td>\n",
       "      <td>71.505245</td>\n",
       "      <td>57.306195</td>\n",
       "      <td>...</td>\n",
       "      <td>58.923679</td>\n",
       "      <td>10.148892</td>\n",
       "      <td>10.723805</td>\n",
       "      <td>16.881943</td>\n",
       "      <td>32.031235</td>\n",
       "      <td>32.848135</td>\n",
       "      <td>10.344080</td>\n",
       "      <td>20.273135</td>\n",
       "      <td>18.466185</td>\n",
       "      <td>23.579652</td>\n",
       "    </tr>\n",
       "    <tr>\n",
       "      <th>1</th>\n",
       "      <td>0.740398</td>\n",
       "      <td>B4U62_00010</td>\n",
       "      <td>78.019228</td>\n",
       "      <td>76.249590</td>\n",
       "      <td>71.881847</td>\n",
       "      <td>44.698993</td>\n",
       "      <td>45.760245</td>\n",
       "      <td>43.312816</td>\n",
       "      <td>58.249464</td>\n",
       "      <td>47.318073</td>\n",
       "      <td>...</td>\n",
       "      <td>42.579338</td>\n",
       "      <td>9.591663</td>\n",
       "      <td>9.797959</td>\n",
       "      <td>19.798990</td>\n",
       "      <td>28.583212</td>\n",
       "      <td>30.789609</td>\n",
       "      <td>8.000000</td>\n",
       "      <td>33.749074</td>\n",
       "      <td>28.879058</td>\n",
       "      <td>34.394767</td>\n",
       "    </tr>\n",
       "    <tr>\n",
       "      <th>2</th>\n",
       "      <td>0.740398</td>\n",
       "      <td>B4U62_00015</td>\n",
       "      <td>37.762415</td>\n",
       "      <td>38.987177</td>\n",
       "      <td>34.322005</td>\n",
       "      <td>21.908902</td>\n",
       "      <td>25.317978</td>\n",
       "      <td>26.457513</td>\n",
       "      <td>33.136083</td>\n",
       "      <td>24.228083</td>\n",
       "      <td>...</td>\n",
       "      <td>22.360680</td>\n",
       "      <td>5.385165</td>\n",
       "      <td>4.898979</td>\n",
       "      <td>7.615773</td>\n",
       "      <td>13.564660</td>\n",
       "      <td>13.638182</td>\n",
       "      <td>4.000000</td>\n",
       "      <td>7.745967</td>\n",
       "      <td>6.855655</td>\n",
       "      <td>9.591663</td>\n",
       "    </tr>\n",
       "    <tr>\n",
       "      <th>3</th>\n",
       "      <td>0.740398</td>\n",
       "      <td>B4U62_00020</td>\n",
       "      <td>107.098086</td>\n",
       "      <td>118.118584</td>\n",
       "      <td>100.866248</td>\n",
       "      <td>69.137544</td>\n",
       "      <td>73.443856</td>\n",
       "      <td>73.925638</td>\n",
       "      <td>94.466925</td>\n",
       "      <td>76.668116</td>\n",
       "      <td>...</td>\n",
       "      <td>94.482803</td>\n",
       "      <td>34.539832</td>\n",
       "      <td>37.121422</td>\n",
       "      <td>47.528939</td>\n",
       "      <td>85.451741</td>\n",
       "      <td>74.209164</td>\n",
       "      <td>21.260292</td>\n",
       "      <td>98.498731</td>\n",
       "      <td>89.861004</td>\n",
       "      <td>104.312032</td>\n",
       "    </tr>\n",
       "    <tr>\n",
       "      <th>4</th>\n",
       "      <td>0.872975</td>\n",
       "      <td>B4U62_00025</td>\n",
       "      <td>31.811947</td>\n",
       "      <td>33.331667</td>\n",
       "      <td>29.782545</td>\n",
       "      <td>18.894444</td>\n",
       "      <td>22.315914</td>\n",
       "      <td>21.307276</td>\n",
       "      <td>28.982753</td>\n",
       "      <td>24.657656</td>\n",
       "      <td>...</td>\n",
       "      <td>32.726136</td>\n",
       "      <td>5.916080</td>\n",
       "      <td>5.385165</td>\n",
       "      <td>13.000000</td>\n",
       "      <td>26.514147</td>\n",
       "      <td>22.693611</td>\n",
       "      <td>4.898979</td>\n",
       "      <td>33.630343</td>\n",
       "      <td>32.218007</td>\n",
       "      <td>36.523965</td>\n",
       "    </tr>\n",
       "    <tr>\n",
       "      <th>...</th>\n",
       "      <td>...</td>\n",
       "      <td>...</td>\n",
       "      <td>...</td>\n",
       "      <td>...</td>\n",
       "      <td>...</td>\n",
       "      <td>...</td>\n",
       "      <td>...</td>\n",
       "      <td>...</td>\n",
       "      <td>...</td>\n",
       "      <td>...</td>\n",
       "      <td>...</td>\n",
       "      <td>...</td>\n",
       "      <td>...</td>\n",
       "      <td>...</td>\n",
       "      <td>...</td>\n",
       "      <td>...</td>\n",
       "      <td>...</td>\n",
       "      <td>...</td>\n",
       "      <td>...</td>\n",
       "      <td>...</td>\n",
       "      <td>...</td>\n",
       "    </tr>\n",
       "    <tr>\n",
       "      <th>4317</th>\n",
       "      <td>0.993522</td>\n",
       "      <td>B4U62_22565</td>\n",
       "      <td>7.071068</td>\n",
       "      <td>7.348469</td>\n",
       "      <td>7.280110</td>\n",
       "      <td>1.000000</td>\n",
       "      <td>3.464102</td>\n",
       "      <td>2.449490</td>\n",
       "      <td>8.774964</td>\n",
       "      <td>8.000000</td>\n",
       "      <td>...</td>\n",
       "      <td>2.236068</td>\n",
       "      <td>0.000000</td>\n",
       "      <td>0.000000</td>\n",
       "      <td>2.828427</td>\n",
       "      <td>2.236068</td>\n",
       "      <td>1.414214</td>\n",
       "      <td>1.000000</td>\n",
       "      <td>0.000000</td>\n",
       "      <td>2.645751</td>\n",
       "      <td>3.741657</td>\n",
       "    </tr>\n",
       "    <tr>\n",
       "      <th>4318</th>\n",
       "      <td>0.946553</td>\n",
       "      <td>B4U62_22570</td>\n",
       "      <td>10.099505</td>\n",
       "      <td>9.539392</td>\n",
       "      <td>9.110434</td>\n",
       "      <td>12.806248</td>\n",
       "      <td>13.114877</td>\n",
       "      <td>13.341664</td>\n",
       "      <td>13.856406</td>\n",
       "      <td>12.569805</td>\n",
       "      <td>...</td>\n",
       "      <td>3.162278</td>\n",
       "      <td>0.000000</td>\n",
       "      <td>2.000000</td>\n",
       "      <td>1.414214</td>\n",
       "      <td>6.000000</td>\n",
       "      <td>5.567764</td>\n",
       "      <td>1.414214</td>\n",
       "      <td>2.828427</td>\n",
       "      <td>6.000000</td>\n",
       "      <td>13.266499</td>\n",
       "    </tr>\n",
       "    <tr>\n",
       "      <th>4319</th>\n",
       "      <td>1.000000</td>\n",
       "      <td>B4U62_22575</td>\n",
       "      <td>20.346990</td>\n",
       "      <td>21.977261</td>\n",
       "      <td>20.297783</td>\n",
       "      <td>12.767145</td>\n",
       "      <td>18.867962</td>\n",
       "      <td>22.271057</td>\n",
       "      <td>28.017851</td>\n",
       "      <td>21.725561</td>\n",
       "      <td>...</td>\n",
       "      <td>4.123106</td>\n",
       "      <td>0.000000</td>\n",
       "      <td>0.000000</td>\n",
       "      <td>2.645751</td>\n",
       "      <td>6.403124</td>\n",
       "      <td>7.615773</td>\n",
       "      <td>1.000000</td>\n",
       "      <td>2.000000</td>\n",
       "      <td>3.162278</td>\n",
       "      <td>8.185353</td>\n",
       "    </tr>\n",
       "    <tr>\n",
       "      <th>4320</th>\n",
       "      <td>0.740398</td>\n",
       "      <td>B4U62_22580</td>\n",
       "      <td>30.789609</td>\n",
       "      <td>34.871192</td>\n",
       "      <td>30.512293</td>\n",
       "      <td>25.019992</td>\n",
       "      <td>29.933259</td>\n",
       "      <td>31.112698</td>\n",
       "      <td>40.963398</td>\n",
       "      <td>34.044089</td>\n",
       "      <td>...</td>\n",
       "      <td>5.830952</td>\n",
       "      <td>1.000000</td>\n",
       "      <td>1.414214</td>\n",
       "      <td>3.316625</td>\n",
       "      <td>10.954451</td>\n",
       "      <td>10.583005</td>\n",
       "      <td>0.000000</td>\n",
       "      <td>5.291503</td>\n",
       "      <td>5.830952</td>\n",
       "      <td>9.899495</td>\n",
       "    </tr>\n",
       "    <tr>\n",
       "      <th>4321</th>\n",
       "      <td>0.946553</td>\n",
       "      <td>B4U62_22585</td>\n",
       "      <td>109.357213</td>\n",
       "      <td>112.022319</td>\n",
       "      <td>101.838107</td>\n",
       "      <td>62.153037</td>\n",
       "      <td>107.321946</td>\n",
       "      <td>106.216760</td>\n",
       "      <td>213.351822</td>\n",
       "      <td>166.916147</td>\n",
       "      <td>...</td>\n",
       "      <td>20.024984</td>\n",
       "      <td>2.000000</td>\n",
       "      <td>2.000000</td>\n",
       "      <td>14.071247</td>\n",
       "      <td>37.563280</td>\n",
       "      <td>39.786933</td>\n",
       "      <td>4.358899</td>\n",
       "      <td>9.539392</td>\n",
       "      <td>9.110434</td>\n",
       "      <td>8.774964</td>\n",
       "    </tr>\n",
       "  </tbody>\n",
       "</table>\n",
       "<p>4322 rows × 33 columns</p>\n",
       "</div>"
      ],
      "text/plain": [
       "      Phylostratum       GeneID          B1          B2          B3  \\\n",
       "0         0.740398  B4U62_00005   89.632583   90.266273   81.963406   \n",
       "1         0.740398  B4U62_00010   78.019228   76.249590   71.881847   \n",
       "2         0.740398  B4U62_00015   37.762415   38.987177   34.322005   \n",
       "3         0.740398  B4U62_00020  107.098086  118.118584  100.866248   \n",
       "4         0.872975  B4U62_00025   31.811947   33.331667   29.782545   \n",
       "...            ...          ...         ...         ...         ...   \n",
       "4317      0.993522  B4U62_22565    7.071068    7.348469    7.280110   \n",
       "4318      0.946553  B4U62_22570   10.099505    9.539392    9.110434   \n",
       "4319      1.000000  B4U62_22575   20.346990   21.977261   20.297783   \n",
       "4320      0.740398  B4U62_22580   30.789609   34.871192   30.512293   \n",
       "4321      0.946553  B4U62_22585  109.357213  112.022319  101.838107   \n",
       "\n",
       "             B4          B5          B6          B7          B8  ...  \\\n",
       "0     54.184869   56.524331   55.244909   71.505245   57.306195  ...   \n",
       "1     44.698993   45.760245   43.312816   58.249464   47.318073  ...   \n",
       "2     21.908902   25.317978   26.457513   33.136083   24.228083  ...   \n",
       "3     69.137544   73.443856   73.925638   94.466925   76.668116  ...   \n",
       "4     18.894444   22.315914   21.307276   28.982753   24.657656  ...   \n",
       "...         ...         ...         ...         ...         ...  ...   \n",
       "4317   1.000000    3.464102    2.449490    8.774964    8.000000  ...   \n",
       "4318  12.806248   13.114877   13.341664   13.856406   12.569805  ...   \n",
       "4319  12.767145   18.867962   22.271057   28.017851   21.725561  ...   \n",
       "4320  25.019992   29.933259   31.112698   40.963398   34.044089  ...   \n",
       "4321  62.153037  107.321946  106.216760  213.351822  166.916147  ...   \n",
       "\n",
       "            B22        B23        B24        B25        B26        B27  \\\n",
       "0     58.923679  10.148892  10.723805  16.881943  32.031235  32.848135   \n",
       "1     42.579338   9.591663   9.797959  19.798990  28.583212  30.789609   \n",
       "2     22.360680   5.385165   4.898979   7.615773  13.564660  13.638182   \n",
       "3     94.482803  34.539832  37.121422  47.528939  85.451741  74.209164   \n",
       "4     32.726136   5.916080   5.385165  13.000000  26.514147  22.693611   \n",
       "...         ...        ...        ...        ...        ...        ...   \n",
       "4317   2.236068   0.000000   0.000000   2.828427   2.236068   1.414214   \n",
       "4318   3.162278   0.000000   2.000000   1.414214   6.000000   5.567764   \n",
       "4319   4.123106   0.000000   0.000000   2.645751   6.403124   7.615773   \n",
       "4320   5.830952   1.000000   1.414214   3.316625  10.954451  10.583005   \n",
       "4321  20.024984   2.000000   2.000000  14.071247  37.563280  39.786933   \n",
       "\n",
       "            B28        B32        B33         B34  \n",
       "0     10.344080  20.273135  18.466185   23.579652  \n",
       "1      8.000000  33.749074  28.879058   34.394767  \n",
       "2      4.000000   7.745967   6.855655    9.591663  \n",
       "3     21.260292  98.498731  89.861004  104.312032  \n",
       "4      4.898979  33.630343  32.218007   36.523965  \n",
       "...         ...        ...        ...         ...  \n",
       "4317   1.000000   0.000000   2.645751    3.741657  \n",
       "4318   1.414214   2.828427   6.000000   13.266499  \n",
       "4319   1.000000   2.000000   3.162278    8.185353  \n",
       "4320   0.000000   5.291503   5.830952    9.899495  \n",
       "4321   4.358899   9.539392   9.110434    8.774964  \n",
       "\n",
       "[4322 rows x 33 columns]"
      ]
     },
     "execution_count": 4,
     "metadata": {},
     "output_type": "execute_result"
    }
   ],
   "source": [
    "from my_gatai import Expression_data\n",
    "\n",
    "expression_data = Expression_data.from_csv(data_path, \n",
    "                                           transformation=\"sqrt\")\n",
    "expression_data.full"
   ]
  },
  {
   "cell_type": "markdown",
   "id": "36787e13",
   "metadata": {
    "papermill": {
     "duration": 0.009476,
     "end_time": "2024-09-26T10:14:37.003285",
     "exception": false,
     "start_time": "2024-09-26T10:14:36.993809",
     "status": "completed"
    },
    "tags": []
   },
   "source": [
    "### 1.1 Compute TAI value"
   ]
  },
  {
   "cell_type": "code",
   "execution_count": 5,
   "id": "8104f0a3",
   "metadata": {
    "execution": {
     "iopub.execute_input": "2024-09-26T10:14:37.024309Z",
     "iopub.status.busy": "2024-09-26T10:14:37.024150Z",
     "iopub.status.idle": "2024-09-26T10:14:37.090353Z",
     "shell.execute_reply": "2024-09-26T10:14:37.090147Z"
    },
    "papermill": {
     "duration": 0.078209,
     "end_time": "2024-09-26T10:14:37.091019",
     "exception": false,
     "start_time": "2024-09-26T10:14:37.012810",
     "status": "completed"
    },
    "tags": []
   },
   "outputs": [
    {
     "data": {
      "image/png": "[encoded data removed]",
      "text/plain": [
       "<Figure size 640x480 with 1 Axes>"
      ]
     },
     "metadata": {},
     "output_type": "display_data"
    }
   ],
   "source": [
    "import matplotlib.pyplot as plt\n",
    "\n",
    "plt.plot(expression_data.tai)\n",
    "plt.show()"
   ]
  },
  {
   "cell_type": "markdown",
   "id": "3b238312",
   "metadata": {
    "papermill": {
     "duration": 0.010634,
     "end_time": "2024-09-26T10:14:37.113589",
     "exception": false,
     "start_time": "2024-09-26T10:14:37.102955",
     "status": "completed"
    },
    "tags": []
   },
   "source": [
    "## 2. Flatline test"
   ]
  },
  {
   "cell_type": "markdown",
   "id": "11acd140",
   "metadata": {
    "papermill": {
     "duration": 0.006831,
     "end_time": "2024-09-26T10:14:37.129631",
     "exception": false,
     "start_time": "2024-09-26T10:14:37.122800",
     "status": "completed"
    },
    "tags": []
   },
   "source": [
    "### 2.1. Compute variance of TAI curve"
   ]
  },
  {
   "cell_type": "code",
   "execution_count": 6,
   "id": "1e0a2f31",
   "metadata": {
    "execution": {
     "iopub.execute_input": "2024-09-26T10:14:37.144165Z",
     "iopub.status.busy": "2024-09-26T10:14:37.144045Z",
     "iopub.status.idle": "2024-09-26T10:14:37.152803Z",
     "shell.execute_reply": "2024-09-26T10:14:37.152609Z"
    },
    "papermill": {
     "duration": 0.016156,
     "end_time": "2024-09-26T10:14:37.153395",
     "exception": false,
     "start_time": "2024-09-26T10:14:37.137239",
     "status": "completed"
    },
    "tags": []
   },
   "outputs": [
    {
     "data": {
      "text/plain": [
       "2.731232530712422e-05"
      ]
     },
     "execution_count": 6,
     "metadata": {},
     "output_type": "execute_result"
    }
   ],
   "source": [
    "import numpy as np\n",
    "tai_var = np.var(expression_data.tai).item()\n",
    "tai_var"
   ]
  },
  {
   "cell_type": "markdown",
   "id": "2e584898",
   "metadata": {
    "papermill": {
     "duration": 0.006698,
     "end_time": "2024-09-26T10:14:37.168741",
     "exception": false,
     "start_time": "2024-09-26T10:14:37.162043",
     "status": "completed"
    },
    "tags": []
   },
   "source": [
    "### 2.2. Compute permutation variance distribution\n",
    "\n",
    "Permute the assigned gene ages between the genes to run the flat line test"
   ]
  },
  {
   "cell_type": "code",
   "execution_count": null,
   "id": "ef0272f9",
   "metadata": {
    "execution": {
     "iopub.execute_input": "2024-09-26T10:14:37.184293Z",
     "iopub.status.busy": "2024-09-26T10:14:37.184187Z",
     "iopub.status.idle": "2024-09-26T10:14:40.128541Z",
     "shell.execute_reply": "2024-09-26T10:14:40.128315Z"
    },
    "papermill": {
     "duration": 2.95333,
     "end_time": "2024-09-26T10:14:40.129229",
     "exception": false,
     "start_time": "2024-09-26T10:14:37.175899",
     "status": "completed"
    },
    "tags": []
   },
   "outputs": [],
   "source": [
    "from gatai.utils import comp_vars\n",
    "\n",
    "num_permutations = 10000\n",
    "permutation_comp_vars = comp_vars(expression_data, num_permutations)"
   ]
  },
  {
   "cell_type": "markdown",
   "id": "2242352d",
   "metadata": {
    "papermill": {
     "duration": 0.011692,
     "end_time": "2024-09-26T10:14:40.155601",
     "exception": false,
     "start_time": "2024-09-26T10:14:40.143909",
     "status": "completed"
    },
    "tags": []
   },
   "source": [
    "### 2.3. Fit the random variances to a Gamma distribution and compute the p-value of the true TAI"
   ]
  },
  {
   "cell_type": "code",
   "execution_count": 8,
   "id": "6764a2d1",
   "metadata": {
    "execution": {
     "iopub.execute_input": "2024-09-26T10:14:40.176585Z",
     "iopub.status.busy": "2024-09-26T10:14:40.176404Z",
     "iopub.status.idle": "2024-09-26T10:14:40.185177Z",
     "shell.execute_reply": "2024-09-26T10:14:40.184941Z"
    },
    "papermill": {
     "duration": 0.019179,
     "end_time": "2024-09-26T10:14:40.185769",
     "exception": false,
     "start_time": "2024-09-26T10:14:40.166590",
     "status": "completed"
    },
    "tags": []
   },
   "outputs": [
    {
     "name": "stdout",
     "output_type": "stream",
     "text": [
      "Gamma fit params: 1.076449188531894 1.8534819475747548e-07 5.815277849647407e-07\n"
     ]
    }
   ],
   "source": [
    "import scipy.stats as stats\n",
    "\n",
    "# NOTE: the default fitting method used by scipy doesn't achieve a very good fit, so use \"MM\"\n",
    "a, loc, scale = stats.gamma.fit(permutation_comp_vars, method=\"MM\")\n",
    "print(\"Gamma fit params:\", a, loc, scale)"
   ]
  },
  {
   "cell_type": "code",
   "execution_count": 9,
   "id": "c9b4a011",
   "metadata": {
    "execution": {
     "iopub.execute_input": "2024-09-26T10:14:40.205847Z",
     "iopub.status.busy": "2024-09-26T10:14:40.205758Z",
     "iopub.status.idle": "2024-09-26T10:14:40.213927Z",
     "shell.execute_reply": "2024-09-26T10:14:40.213741Z"
    },
    "papermill": {
     "duration": 0.017436,
     "end_time": "2024-09-26T10:14:40.214520",
     "exception": false,
     "start_time": "2024-09-26T10:14:40.197084",
     "status": "completed"
    },
    "tags": []
   },
   "outputs": [
    {
     "name": "stdout",
     "output_type": "stream",
     "text": [
      "p-value of TAI: 7.701193064905027e-21\n"
     ]
    }
   ],
   "source": [
    "print(\"p-value of TAI:\", stats.gamma.sf(tai_var, a, loc=loc, scale=scale))"
   ]
  },
  {
   "cell_type": "markdown",
   "id": "4df06ef5",
   "metadata": {
    "papermill": {
     "duration": 0.008592,
     "end_time": "2024-09-26T10:14:40.235024",
     "exception": false,
     "start_time": "2024-09-26T10:14:40.226432",
     "status": "completed"
    },
    "tags": []
   },
   "source": [
    "### 2.4. Visually compare the random TAI variances against the true one"
   ]
  },
  {
   "cell_type": "code",
   "execution_count": 10,
   "id": "3b535ea5",
   "metadata": {
    "execution": {
     "iopub.execute_input": "2024-09-26T10:14:40.256370Z",
     "iopub.status.busy": "2024-09-26T10:14:40.256262Z",
     "iopub.status.idle": "2024-09-26T10:14:40.334878Z",
     "shell.execute_reply": "2024-09-26T10:14:40.334660Z"
    },
    "papermill": {
     "duration": 0.089575,
     "end_time": "2024-09-26T10:14:40.335514",
     "exception": false,
     "start_time": "2024-09-26T10:14:40.245939",
     "status": "completed"
    },
    "tags": []
   },
   "outputs": [
    {
     "data": {
      "image/png": "[encoded data removed]",
      "text/plain": [
       "<Figure size 640x480 with 1 Axes>"
      ]
     },
     "metadata": {},
     "output_type": "display_data"
    }
   ],
   "source": [
    "plt.hist(permutation_comp_vars, density=True, bins=100, label=\"Random gene age TAI variance\")\n",
    "plt.axvline(x=tai_var, label=\"True TAI variance\", color=\"red\")\n",
    "\n",
    "x = np.linspace(0, tai_var, 200)\n",
    "y = stats.gamma.pdf(x, a, loc=loc, scale=scale)\n",
    "plt.plot(x, y, label=\"Fitted gamma distribution\", linestyle=\"dashed\")\n",
    "\n",
    "plt.legend()\n",
    "plt.show()"
   ]
  },
  {
   "cell_type": "markdown",
   "id": "455a1a50",
   "metadata": {
    "papermill": {
     "duration": 0.010196,
     "end_time": "2024-09-26T10:14:40.360696",
     "exception": false,
     "start_time": "2024-09-26T10:14:40.350500",
     "status": "completed"
    },
    "tags": []
   },
   "source": [
    "## 3. Destroy TAI signal with GATAI"
   ]
  },
  {
   "cell_type": "markdown",
   "id": "d40fe4d3",
   "metadata": {
    "papermill": {
     "duration": 0.009736,
     "end_time": "2024-09-26T10:14:40.379314",
     "exception": false,
     "start_time": "2024-09-26T10:14:40.369578",
     "status": "completed"
    },
    "tags": []
   },
   "source": [
    "### 3.1 Run genetic algorithm to extract genes that break the pattern\n",
    "Note that the transformation used for the expression data heavily influences the number of genes that get extracted, as well as the number of generations needed for convergence.\n",
    "\n",
    "Also, with transformations applied, older genes are better represented"
   ]
  },
  {
   "cell_type": "code",
   "execution_count": 11,
   "id": "8c05b9e4",
   "metadata": {
    "execution": {
     "iopub.execute_input": "2024-09-26T10:14:40.400063Z",
     "iopub.status.busy": "2024-09-26T10:14:40.399934Z",
     "iopub.status.idle": "2024-09-26T10:17:14.063926Z",
     "shell.execute_reply": "2024-09-26T10:17:14.063621Z"
    },
    "papermill": {
     "duration": 153.675347,
     "end_time": "2024-09-26T10:17:14.064753",
     "exception": false,
     "start_time": "2024-09-26T10:14:40.389406",
     "status": "completed"
    },
    "tags": []
   },
   "outputs": [],
   "source": [
    "%%capture\n",
    "from my_gatai import get_extracted_genes\n",
    "\n",
    "ga_genes = get_extracted_genes(expression_data, permutation_comp_vars)"
   ]
  },
  {
   "cell_type": "markdown",
   "id": "c78a5aa8",
   "metadata": {
    "papermill": {
     "duration": 0.009977,
     "end_time": "2024-09-26T10:17:14.085216",
     "exception": false,
     "start_time": "2024-09-26T10:17:14.075239",
     "status": "completed"
    },
    "tags": []
   },
   "source": [
    "#### Genes extracted"
   ]
  },
  {
   "cell_type": "code",
   "execution_count": 12,
   "id": "0756b77c",
   "metadata": {
    "execution": {
     "iopub.execute_input": "2024-09-26T10:17:14.108184Z",
     "iopub.status.busy": "2024-09-26T10:17:14.108047Z",
     "iopub.status.idle": "2024-09-26T10:17:14.116427Z",
     "shell.execute_reply": "2024-09-26T10:17:14.116220Z"
    },
    "papermill": {
     "duration": 0.020439,
     "end_time": "2024-09-26T10:17:14.117021",
     "exception": false,
     "start_time": "2024-09-26T10:17:14.096582",
     "status": "completed"
    },
    "tags": []
   },
   "outputs": [
    {
     "data": {
      "text/plain": [
       "307"
      ]
     },
     "execution_count": 12,
     "metadata": {},
     "output_type": "execute_result"
    }
   ],
   "source": [
    "len(ga_genes)"
   ]
  },
  {
   "cell_type": "code",
   "execution_count": 13,
   "id": "ee84eb1d",
   "metadata": {
    "execution": {
     "iopub.execute_input": "2024-09-26T10:17:14.137387Z",
     "iopub.status.busy": "2024-09-26T10:17:14.137282Z",
     "iopub.status.idle": "2024-09-26T10:17:14.145317Z",
     "shell.execute_reply": "2024-09-26T10:17:14.145129Z"
    },
    "papermill": {
     "duration": 0.018115,
     "end_time": "2024-09-26T10:17:14.145881",
     "exception": false,
     "start_time": "2024-09-26T10:17:14.127766",
     "status": "completed"
    },
    "tags": []
   },
   "outputs": [
    {
     "data": {
      "text/plain": [
       "array(['B4U62_00180', 'B4U62_00330', 'B4U62_00365', 'B4U62_00690',\n",
       "       'B4U62_01210', 'B4U62_01230', 'B4U62_01305', 'B4U62_01855',\n",
       "       'B4U62_01960', 'B4U62_01965', 'B4U62_01990', 'B4U62_02030',\n",
       "       'B4U62_02035', 'B4U62_02130', 'B4U62_02180', 'B4U62_02190',\n",
       "       'B4U62_02280', 'B4U62_02325', 'B4U62_02515', 'B4U62_02570',\n",
       "       'B4U62_02930', 'B4U62_02985', 'B4U62_03165', 'B4U62_03170',\n",
       "       'B4U62_03185', 'B4U62_03190', 'B4U62_03195', 'B4U62_03615',\n",
       "       'B4U62_03670', 'B4U62_03740', 'B4U62_03755', 'B4U62_03915',\n",
       "       'B4U62_03935', 'B4U62_04180', 'B4U62_04260', 'B4U62_04325',\n",
       "       'B4U62_04330', 'B4U62_04355', 'B4U62_04455', 'B4U62_04500',\n",
       "       'B4U62_04730', 'B4U62_04735', 'B4U62_04760', 'B4U62_04765',\n",
       "       'B4U62_04815', 'B4U62_05150', 'B4U62_05170', 'B4U62_05180',\n",
       "       'B4U62_05270', 'B4U62_05465', 'B4U62_05570', 'B4U62_05575',\n",
       "       'B4U62_05580', 'B4U62_05595', 'B4U62_05700', 'B4U62_05720',\n",
       "       'B4U62_05740', 'B4U62_05745', 'B4U62_05810', 'B4U62_05940',\n",
       "       'B4U62_05970', 'B4U62_06175', 'B4U62_06250', 'B4U62_06255',\n",
       "       'B4U62_06275', 'B4U62_06290', 'B4U62_06320', 'B4U62_06360',\n",
       "       'B4U62_06390', 'B4U62_06490', 'B4U62_06495', 'B4U62_06500',\n",
       "       'B4U62_06505', 'B4U62_06510', 'B4U62_06515', 'B4U62_06525',\n",
       "       'B4U62_06535', 'B4U62_06545', 'B4U62_06645', 'B4U62_06675',\n",
       "       'B4U62_06705', 'B4U62_07110', 'B4U62_07295', 'B4U62_07345',\n",
       "       'B4U62_07350', 'B4U62_07365', 'B4U62_07440', 'B4U62_07460',\n",
       "       'B4U62_07465', 'B4U62_07530', 'B4U62_07625', 'B4U62_07735',\n",
       "       'B4U62_07775', 'B4U62_07780', 'B4U62_07790', 'B4U62_07800',\n",
       "       'B4U62_07820', 'B4U62_07865', 'B4U62_08025', 'B4U62_08060',\n",
       "       'B4U62_08080', 'B4U62_08150', 'B4U62_08180', 'B4U62_08405',\n",
       "       'B4U62_08600', 'B4U62_08660', 'B4U62_09160', 'B4U62_09350',\n",
       "       'B4U62_09360', 'B4U62_09365', 'B4U62_09375', 'B4U62_09410',\n",
       "       'B4U62_09435', 'B4U62_09510', 'B4U62_09515', 'B4U62_09605',\n",
       "       'B4U62_09630', 'B4U62_09635', 'B4U62_09650', 'B4U62_09655',\n",
       "       'B4U62_09700', 'B4U62_09775', 'B4U62_09780', 'B4U62_09785',\n",
       "       'B4U62_09805', 'B4U62_09810', 'B4U62_09850', 'B4U62_10015',\n",
       "       'B4U62_10065', 'B4U62_10110', 'B4U62_10115', 'B4U62_10180',\n",
       "       'B4U62_10215', 'B4U62_10240', 'B4U62_10305', 'B4U62_10315',\n",
       "       'B4U62_10335', 'B4U62_10365', 'B4U62_10415', 'B4U62_10510',\n",
       "       'B4U62_10515', 'B4U62_10525', 'B4U62_10530', 'B4U62_10630',\n",
       "       'B4U62_10685', 'B4U62_10700', 'B4U62_10740', 'B4U62_10790',\n",
       "       'B4U62_10795', 'B4U62_10815', 'B4U62_10990', 'B4U62_11125',\n",
       "       'B4U62_11195', 'B4U62_11205', 'B4U62_11300', 'B4U62_11305',\n",
       "       'B4U62_11315', 'B4U62_11340', 'B4U62_11375', 'B4U62_11420',\n",
       "       'B4U62_11595', 'B4U62_11600', 'B4U62_11685', 'B4U62_11705',\n",
       "       'B4U62_11710', 'B4U62_11715', 'B4U62_11735', 'B4U62_11775',\n",
       "       'B4U62_11830', 'B4U62_11925', 'B4U62_11960', 'B4U62_11965',\n",
       "       'B4U62_12045', 'B4U62_12060', 'B4U62_12070', 'B4U62_12100',\n",
       "       'B4U62_12110', 'B4U62_12260', 'B4U62_12495', 'B4U62_12575',\n",
       "       'B4U62_12595', 'B4U62_12620', 'B4U62_12630', 'B4U62_12655',\n",
       "       'B4U62_12750', 'B4U62_12815', 'B4U62_13300', 'B4U62_13310',\n",
       "       'B4U62_13400', 'B4U62_13535', 'B4U62_13550', 'B4U62_13570',\n",
       "       'B4U62_13800', 'B4U62_13865', 'B4U62_13965', 'B4U62_13970',\n",
       "       'B4U62_14055', 'B4U62_14060', 'B4U62_14150', 'B4U62_14280',\n",
       "       'B4U62_14330', 'B4U62_14485', 'B4U62_14490', 'B4U62_14735',\n",
       "       'B4U62_14820', 'B4U62_14825', 'B4U62_14830', 'B4U62_14945',\n",
       "       'B4U62_15020', 'B4U62_15095', 'B4U62_15135', 'B4U62_15155',\n",
       "       'B4U62_15160', 'B4U62_15165', 'B4U62_15230', 'B4U62_15275',\n",
       "       'B4U62_15340', 'B4U62_15360', 'B4U62_15375', 'B4U62_15385',\n",
       "       'B4U62_15460', 'B4U62_15765', 'B4U62_15925', 'B4U62_16040',\n",
       "       'B4U62_16155', 'B4U62_16370', 'B4U62_16450', 'B4U62_16500',\n",
       "       'B4U62_16505', 'B4U62_16510', 'B4U62_16590', 'B4U62_16595',\n",
       "       'B4U62_16605', 'B4U62_17185', 'B4U62_17245', 'B4U62_17330',\n",
       "       'B4U62_17335', 'B4U62_17525', 'B4U62_17615', 'B4U62_17620',\n",
       "       'B4U62_17665', 'B4U62_17690', 'B4U62_17750', 'B4U62_17830',\n",
       "       'B4U62_17950', 'B4U62_18010', 'B4U62_18015', 'B4U62_18225',\n",
       "       'B4U62_18230', 'B4U62_18235', 'B4U62_18300', 'B4U62_18955',\n",
       "       'B4U62_19050', 'B4U62_19230', 'B4U62_19235', 'B4U62_19385',\n",
       "       'B4U62_19420', 'B4U62_19425', 'B4U62_19435', 'B4U62_19490',\n",
       "       'B4U62_19540', 'B4U62_19580', 'B4U62_19625', 'B4U62_19630',\n",
       "       'B4U62_19760', 'B4U62_19770', 'B4U62_19820', 'B4U62_19825',\n",
       "       'B4U62_19830', 'B4U62_19875', 'B4U62_20040', 'B4U62_20115',\n",
       "       'B4U62_20120', 'B4U62_20130', 'B4U62_20165', 'B4U62_20415',\n",
       "       'B4U62_20495', 'B4U62_20775', 'B4U62_20995', 'B4U62_21085',\n",
       "       'B4U62_21160', 'B4U62_21165', 'B4U62_21170', 'B4U62_21175',\n",
       "       'B4U62_21270', 'B4U62_21275', 'B4U62_21430', 'B4U62_21435',\n",
       "       'B4U62_21450', 'B4U62_21535', 'B4U62_21565', 'B4U62_21575',\n",
       "       'B4U62_21585', 'B4U62_21635', 'B4U62_21800', 'B4U62_21850',\n",
       "       'B4U62_21855', 'B4U62_22040', 'B4U62_22110', 'B4U62_22265',\n",
       "       'B4U62_22295', 'B4U62_22340', 'B4U62_22430', 'B4U62_22510',\n",
       "       'B4U62_22525', 'B4U62_22560', 'B4U62_22585'], dtype=object)"
      ]
     },
     "execution_count": 13,
     "metadata": {},
     "output_type": "execute_result"
    }
   ],
   "source": [
    "ga_genes"
   ]
  },
  {
   "cell_type": "markdown",
   "id": "40535c56",
   "metadata": {
    "papermill": {
     "duration": 0.008997,
     "end_time": "2024-09-26T10:17:14.166718",
     "exception": false,
     "start_time": "2024-09-26T10:17:14.157721",
     "status": "completed"
    },
    "tags": []
   },
   "source": [
    "### 3.2 Check variance of destroyed TAI and its new p-value"
   ]
  },
  {
   "cell_type": "code",
   "execution_count": 14,
   "id": "cb1d96a2",
   "metadata": {
    "execution": {
     "iopub.execute_input": "2024-09-26T10:17:14.371967Z",
     "iopub.status.busy": "2024-09-26T10:17:14.371754Z",
     "iopub.status.idle": "2024-09-26T10:17:14.562595Z",
     "shell.execute_reply": "2024-09-26T10:17:14.562395Z"
    },
    "papermill": {
     "duration": 0.216982,
     "end_time": "2024-09-26T10:17:14.563202",
     "exception": false,
     "start_time": "2024-09-26T10:17:14.346220",
     "status": "completed"
    },
    "tags": []
   },
   "outputs": [
    {
     "data": {
      "image/png": "[encoded data removed]",
      "text/plain": [
       "<Figure size 640x480 with 1 Axes>"
      ]
     },
     "metadata": {},
     "output_type": "display_data"
    }
   ],
   "source": [
    "new_data = expression_data.remove_genes(ga_genes)\n",
    "plt.plot(expression_data.tai, label=\"Real TAI\", color=\"blue\")\n",
    "plt.plot(new_data.tai, label=\"Destroyed TAI\", color=\"red\")\n",
    "\n",
    "plt.legend()\n",
    "plt.show()"
   ]
  },
  {
   "cell_type": "code",
   "execution_count": 15,
   "id": "f80c5bd1",
   "metadata": {
    "execution": {
     "iopub.execute_input": "2024-09-26T10:17:14.591223Z",
     "iopub.status.busy": "2024-09-26T10:17:14.591125Z",
     "iopub.status.idle": "2024-09-26T10:17:14.599786Z",
     "shell.execute_reply": "2024-09-26T10:17:14.599598Z"
    },
    "papermill": {
     "duration": 0.020808,
     "end_time": "2024-09-26T10:17:14.600440",
     "exception": false,
     "start_time": "2024-09-26T10:17:14.579632",
     "status": "completed"
    },
    "tags": []
   },
   "outputs": [
    {
     "name": "stdout",
     "output_type": "stream",
     "text": [
      "destroyed TAI p-value: 0.8135950399756112\n"
     ]
    }
   ],
   "source": [
    "new_tai_var = np.var(new_data.tai).item()\n",
    "print(\"destroyed TAI p-value:\", stats.gamma.sf(new_tai_var, a, loc=loc, scale=scale))"
   ]
  },
  {
   "cell_type": "code",
   "execution_count": 16,
   "id": "d649f00b",
   "metadata": {
    "execution": {
     "iopub.execute_input": "2024-09-26T10:17:14.623265Z",
     "iopub.status.busy": "2024-09-26T10:17:14.623147Z",
     "iopub.status.idle": "2024-09-26T10:17:14.703369Z",
     "shell.execute_reply": "2024-09-26T10:17:14.703145Z"
    },
    "papermill": {
     "duration": 0.091578,
     "end_time": "2024-09-26T10:17:14.703975",
     "exception": false,
     "start_time": "2024-09-26T10:17:14.612397",
     "status": "completed"
    },
    "tags": []
   },
   "outputs": [
    {
     "data": {
      "image/png": "[encoded data removed]",
      "text/plain": [
       "<Figure size 640x480 with 1 Axes>"
      ]
     },
     "metadata": {},
     "output_type": "display_data"
    }
   ],
   "source": [
    "plt.hist(permutation_comp_vars, density=True, bins=100, label=\"Random gene age TAI variance\")\n",
    "plt.axvline(x=tai_var, label=\"True TAI variance\", color=\"red\")\n",
    "\n",
    "\n",
    "x = np.linspace(0, tai_var, 200)\n",
    "y = stats.gamma.pdf(x, a, loc=loc, scale=scale)\n",
    "plt.plot(x, y, label=\"Fitted gamma distribution\", linestyle=\"dashed\")\n",
    "plt.axvline(x=new_tai_var, label=\"Destroyed TAI variance\", color=\"black\")\n",
    "plt.legend()\n",
    "plt.show()"
   ]
  },
  {
   "cell_type": "markdown",
   "id": "a2370b9f",
   "metadata": {
    "papermill": {
     "duration": 0.011249,
     "end_time": "2024-09-26T10:17:14.730191",
     "exception": false,
     "start_time": "2024-09-26T10:17:14.718942",
     "status": "completed"
    },
    "tags": []
   },
   "source": [
    "### 3.3 Benchmark GA against greedy removal of genes with highest variance"
   ]
  },
  {
   "cell_type": "code",
   "execution_count": 17,
   "id": "7ce1ef3a",
   "metadata": {
    "execution": {
     "iopub.execute_input": "2024-09-26T10:17:14.752100Z",
     "iopub.status.busy": "2024-09-26T10:17:14.751987Z",
     "iopub.status.idle": "2024-09-26T10:17:14.792728Z",
     "shell.execute_reply": "2024-09-26T10:17:14.792526Z"
    },
    "papermill": {
     "duration": 0.052235,
     "end_time": "2024-09-26T10:17:14.793351",
     "exception": false,
     "start_time": "2024-09-26T10:17:14.741116",
     "status": "completed"
    },
    "tags": []
   },
   "outputs": [
    {
     "data": {
      "text/html": [
       "<div>\n",
       "<style scoped>\n",
       "    .dataframe tbody tr th:only-of-type {\n",
       "        vertical-align: middle;\n",
       "    }\n",
       "\n",
       "    .dataframe tbody tr th {\n",
       "        vertical-align: top;\n",
       "    }\n",
       "\n",
       "    .dataframe thead th {\n",
       "        text-align: right;\n",
       "    }\n",
       "</style>\n",
       "<table border=\"1\" class=\"dataframe\">\n",
       "  <thead>\n",
       "    <tr style=\"text-align: right;\">\n",
       "      <th></th>\n",
       "      <th>Phylostratum</th>\n",
       "      <th>GeneID</th>\n",
       "      <th>Variance</th>\n",
       "    </tr>\n",
       "  </thead>\n",
       "  <tbody>\n",
       "    <tr>\n",
       "      <th>1266</th>\n",
       "      <td>0.872975</td>\n",
       "      <td>B4U62_06880</td>\n",
       "      <td>43790.564963</td>\n",
       "    </tr>\n",
       "    <tr>\n",
       "      <th>879</th>\n",
       "      <td>0.993522</td>\n",
       "      <td>B4U62_04815</td>\n",
       "      <td>40422.015450</td>\n",
       "    </tr>\n",
       "    <tr>\n",
       "      <th>1035</th>\n",
       "      <td>0.993522</td>\n",
       "      <td>B4U62_05700</td>\n",
       "      <td>36902.678072</td>\n",
       "    </tr>\n",
       "    <tr>\n",
       "      <th>3633</th>\n",
       "      <td>0.740398</td>\n",
       "      <td>B4U62_19050</td>\n",
       "      <td>31885.076734</td>\n",
       "    </tr>\n",
       "    <tr>\n",
       "      <th>3709</th>\n",
       "      <td>0.894493</td>\n",
       "      <td>B4U62_19435</td>\n",
       "      <td>31714.722753</td>\n",
       "    </tr>\n",
       "    <tr>\n",
       "      <th>...</th>\n",
       "      <td>...</td>\n",
       "      <td>...</td>\n",
       "      <td>...</td>\n",
       "    </tr>\n",
       "    <tr>\n",
       "      <th>1188</th>\n",
       "      <td>0.740398</td>\n",
       "      <td>B4U62_06465</td>\n",
       "      <td>0.352367</td>\n",
       "    </tr>\n",
       "    <tr>\n",
       "      <th>2680</th>\n",
       "      <td>0.903517</td>\n",
       "      <td>B4U62_14075</td>\n",
       "      <td>0.334209</td>\n",
       "    </tr>\n",
       "    <tr>\n",
       "      <th>2064</th>\n",
       "      <td>0.740398</td>\n",
       "      <td>B4U62_10920</td>\n",
       "      <td>0.317364</td>\n",
       "    </tr>\n",
       "    <tr>\n",
       "      <th>2071</th>\n",
       "      <td>0.993522</td>\n",
       "      <td>B4U62_10970</td>\n",
       "      <td>0.311144</td>\n",
       "    </tr>\n",
       "    <tr>\n",
       "      <th>242</th>\n",
       "      <td>0.911152</td>\n",
       "      <td>B4U62_01465</td>\n",
       "      <td>0.220788</td>\n",
       "    </tr>\n",
       "  </tbody>\n",
       "</table>\n",
       "<p>4322 rows × 3 columns</p>\n",
       "</div>"
      ],
      "text/plain": [
       "      Phylostratum       GeneID      Variance\n",
       "1266      0.872975  B4U62_06880  43790.564963\n",
       "879       0.993522  B4U62_04815  40422.015450\n",
       "1035      0.993522  B4U62_05700  36902.678072\n",
       "3633      0.740398  B4U62_19050  31885.076734\n",
       "3709      0.894493  B4U62_19435  31714.722753\n",
       "...            ...          ...           ...\n",
       "1188      0.740398  B4U62_06465      0.352367\n",
       "2680      0.903517  B4U62_14075      0.334209\n",
       "2064      0.740398  B4U62_10920      0.317364\n",
       "2071      0.993522  B4U62_10970      0.311144\n",
       "242       0.911152  B4U62_01465      0.220788\n",
       "\n",
       "[4322 rows x 3 columns]"
      ]
     },
     "execution_count": 17,
     "metadata": {},
     "output_type": "execute_result"
    }
   ],
   "source": [
    "gene_variances = expression_data.gene_variances.sort_values('Variance', ascending=False)\n",
    "gene_variances"
   ]
  },
  {
   "cell_type": "code",
   "execution_count": 18,
   "id": "5a333038",
   "metadata": {
    "execution": {
     "iopub.execute_input": "2024-09-26T10:17:14.813480Z",
     "iopub.status.busy": "2024-09-26T10:17:14.813381Z",
     "iopub.status.idle": "2024-09-26T10:17:14.821414Z",
     "shell.execute_reply": "2024-09-26T10:17:14.821201Z"
    },
    "papermill": {
     "duration": 0.017551,
     "end_time": "2024-09-26T10:17:14.822039",
     "exception": false,
     "start_time": "2024-09-26T10:17:14.804488",
     "status": "completed"
    },
    "tags": []
   },
   "outputs": [],
   "source": [
    "k_top = len(ga_genes)\n",
    "\n",
    "highest_var_genes = gene_variances.head(k_top)['GeneID'].to_numpy()"
   ]
  },
  {
   "cell_type": "code",
   "execution_count": 19,
   "id": "d0049dd9",
   "metadata": {
    "execution": {
     "iopub.execute_input": "2024-09-26T10:17:14.844725Z",
     "iopub.status.busy": "2024-09-26T10:17:14.844649Z",
     "iopub.status.idle": "2024-09-26T10:17:15.040563Z",
     "shell.execute_reply": "2024-09-26T10:17:15.040338Z"
    },
    "papermill": {
     "duration": 0.207659,
     "end_time": "2024-09-26T10:17:15.041250",
     "exception": false,
     "start_time": "2024-09-26T10:17:14.833591",
     "status": "completed"
    },
    "tags": []
   },
   "outputs": [
    {
     "data": {
      "image/png": "[encoded data removed]",
      "text/plain": [
       "<Figure size 640x480 with 1 Axes>"
      ]
     },
     "metadata": {},
     "output_type": "display_data"
    }
   ],
   "source": [
    "greedy_data = expression_data.remove_genes(highest_var_genes)\n",
    "plt.plot(expression_data.tai, label=\"Real TAI\", color=\"blue\")\n",
    "plt.plot(new_data.tai, label=\"Destroyed TAI\", color=\"red\")\n",
    "plt.plot(greedy_data.tai, label=\"Greedy TAI\", color=\"green\")\n",
    "\n",
    "plt.legend()\n",
    "plt.show()"
   ]
  },
  {
   "cell_type": "code",
   "execution_count": 20,
   "id": "cbbe6dce",
   "metadata": {
    "execution": {
     "iopub.execute_input": "2024-09-26T10:17:15.067706Z",
     "iopub.status.busy": "2024-09-26T10:17:15.067579Z",
     "iopub.status.idle": "2024-09-26T10:17:15.076520Z",
     "shell.execute_reply": "2024-09-26T10:17:15.076289Z"
    },
    "papermill": {
     "duration": 0.022445,
     "end_time": "2024-09-26T10:17:15.077171",
     "exception": false,
     "start_time": "2024-09-26T10:17:15.054726",
     "status": "completed"
    },
    "tags": []
   },
   "outputs": [
    {
     "name": "stdout",
     "output_type": "stream",
     "text": [
      "p-value:  3.798982720176615e-06\n"
     ]
    }
   ],
   "source": [
    "greedy_tai_var = np.var(greedy_data.tai).item()\n",
    "print(\"p-value: \", stats.gamma.sf(greedy_tai_var, a, loc=loc, scale=scale))"
   ]
  },
  {
   "cell_type": "markdown",
   "id": "e0d4de4b",
   "metadata": {
    "papermill": {
     "duration": 0.009147,
     "end_time": "2024-09-26T10:17:15.097425",
     "exception": false,
     "start_time": "2024-09-26T10:17:15.088278",
     "status": "completed"
    },
    "tags": []
   },
   "source": [
    "Conversely, however, the genes that were extracted by GATAI tend to have a high variance (but they need to be carefully selected, it's not as simple as picking the most variant ones, hence the need for the GA approach)"
   ]
  },
  {
   "cell_type": "code",
   "execution_count": 21,
   "id": "cfea1a5f",
   "metadata": {
    "execution": {
     "iopub.execute_input": "2024-09-26T10:17:15.118905Z",
     "iopub.status.busy": "2024-09-26T10:17:15.118778Z",
     "iopub.status.idle": "2024-09-26T10:17:15.127010Z",
     "shell.execute_reply": "2024-09-26T10:17:15.126834Z"
    },
    "papermill": {
     "duration": 0.018839,
     "end_time": "2024-09-26T10:17:15.127587",
     "exception": false,
     "start_time": "2024-09-26T10:17:15.108748",
     "status": "completed"
    },
    "tags": []
   },
   "outputs": [
    {
     "name": "stdout",
     "output_type": "stream",
     "text": [
      "Number of GA selected genes which are also part of the top_k most variant subset of genes in the dataset: 102 out of 307\n"
     ]
    }
   ],
   "source": [
    "common_genes = np.intersect1d(ga_genes, highest_var_genes)\n",
    "\n",
    "print(\"Number of GA selected genes which are also part of the top_k most variant subset of genes in the dataset:\", len(common_genes), \"out of\", len(ga_genes))"
   ]
  },
  {
   "cell_type": "markdown",
   "id": "ceb0db0f",
   "metadata": {
    "papermill": {
     "duration": 0.010247,
     "end_time": "2024-09-26T10:17:15.149718",
     "exception": false,
     "start_time": "2024-09-26T10:17:15.139471",
     "status": "completed"
    },
    "tags": []
   },
   "source": [
    "### 3.4 Stability of solutions"
   ]
  },
  {
   "cell_type": "markdown",
   "id": "1a8b7782",
   "metadata": {
    "papermill": {
     "duration": 0.008514,
     "end_time": "2024-09-26T10:17:15.169140",
     "exception": false,
     "start_time": "2024-09-26T10:17:15.160626",
     "status": "completed"
    },
    "tags": []
   },
   "source": [
    "There doesn't seem to be any way to set a seed for the computation run. This would be useful to have, to make results fully reproducible."
   ]
  },
  {
   "cell_type": "code",
   "execution_count": 22,
   "id": "3013c308",
   "metadata": {
    "execution": {
     "iopub.execute_input": "2024-09-26T10:17:15.186475Z",
     "iopub.status.busy": "2024-09-26T10:17:15.186359Z",
     "iopub.status.idle": "2024-09-26T10:23:45.046597Z",
     "shell.execute_reply": "2024-09-26T10:23:45.046300Z"
    },
    "papermill": {
     "duration": 389.870361,
     "end_time": "2024-09-26T10:23:45.047448",
     "exception": false,
     "start_time": "2024-09-26T10:17:15.177087",
     "status": "completed"
    },
    "tags": []
   },
   "outputs": [],
   "source": [
    "%%capture\n",
    "gene_sets = []\n",
    "\n",
    "for _ in range(3):\n",
    "    genes = get_extracted_genes(expression_data, permutation_comp_vars)\n",
    "    gene_sets.append(set(genes))"
   ]
  },
  {
   "cell_type": "code",
   "execution_count": 23,
   "id": "f84f21b3",
   "metadata": {
    "execution": {
     "iopub.execute_input": "2024-09-26T10:23:45.075001Z",
     "iopub.status.busy": "2024-09-26T10:23:45.074886Z",
     "iopub.status.idle": "2024-09-26T10:23:45.184227Z",
     "shell.execute_reply": "2024-09-26T10:23:45.184036Z"
    },
    "papermill": {
     "duration": 0.123494,
     "end_time": "2024-09-26T10:23:45.184854",
     "exception": false,
     "start_time": "2024-09-26T10:23:45.061360",
     "status": "completed"
    },
    "tags": []
   },
   "outputs": [
    {
     "data": {
      "image/png": "[encoded data removed]",
      "text/plain": [
       "<Figure size 640x480 with 1 Axes>"
      ]
     },
     "metadata": {},
     "output_type": "display_data"
    }
   ],
   "source": [
    "from matplotlib_venn import venn3\n",
    "\n",
    "venn3(gene_sets)\n",
    "plt.title(\"Overlap of genes extracted from 3 different GATAI run\")\n",
    "plt.show()"
   ]
  },
  {
   "cell_type": "markdown",
   "id": "3a0ce5fc",
   "metadata": {
    "papermill": {
     "duration": 0.010685,
     "end_time": "2024-09-26T10:23:45.209230",
     "exception": false,
     "start_time": "2024-09-26T10:23:45.198545",
     "status": "completed"
    },
    "tags": []
   },
   "source": [
    "#### Genes in common"
   ]
  },
  {
   "cell_type": "code",
   "execution_count": 24,
   "id": "e02fc7ce",
   "metadata": {
    "execution": {
     "iopub.execute_input": "2024-09-26T10:23:45.230445Z",
     "iopub.status.busy": "2024-09-26T10:23:45.230327Z",
     "iopub.status.idle": "2024-09-26T10:23:45.239434Z",
     "shell.execute_reply": "2024-09-26T10:23:45.239224Z"
    },
    "papermill": {
     "duration": 0.020682,
     "end_time": "2024-09-26T10:23:45.240047",
     "exception": false,
     "start_time": "2024-09-26T10:23:45.219365",
     "status": "completed"
    },
    "tags": []
   },
   "outputs": [
    {
     "data": {
      "text/plain": [
       "array(['B4U62_21450', 'B4U62_19540', 'B4U62_16155', 'B4U62_11420',\n",
       "       'B4U62_21800', 'B4U62_03915', 'B4U62_18225', 'B4U62_16370',\n",
       "       'B4U62_09605', 'B4U62_11705', 'B4U62_01555', 'B4U62_14330',\n",
       "       'B4U62_17335', 'B4U62_10815', 'B4U62_10065', 'B4U62_15095',\n",
       "       'B4U62_11125', 'B4U62_10315', 'B4U62_05180', 'B4U62_04500',\n",
       "       'B4U62_21275', 'B4U62_09810', 'B4U62_12045', 'B4U62_02130',\n",
       "       'B4U62_05810', 'B4U62_14055', 'B4U62_10685', 'B4U62_17750',\n",
       "       'B4U62_19760', 'B4U62_16500', 'B4U62_09630', 'B4U62_01305',\n",
       "       'B4U62_08405', 'B4U62_11685', 'B4U62_16605', 'B4U62_05700',\n",
       "       'B4U62_01960', 'B4U62_09635', 'B4U62_05940', 'B4U62_20415',\n",
       "       'B4U62_09360', 'B4U62_02930', 'B4U62_10240', 'B4U62_17705',\n",
       "       'B4U62_11830', 'B4U62_18235', 'B4U62_10115', 'B4U62_09510',\n",
       "       'B4U62_19875', 'B4U62_00330', 'B4U62_11690', 'B4U62_10415',\n",
       "       'B4U62_15375', 'B4U62_09805', 'B4U62_16450', 'B4U62_15765',\n",
       "       'B4U62_07865', 'B4U62_05020', 'B4U62_02190', 'B4U62_22510',\n",
       "       'B4U62_05170', 'B4U62_17665', 'B4U62_10630', 'B4U62_05595',\n",
       "       'B4U62_21850', 'B4U62_22585', 'B4U62_02985', 'B4U62_09850',\n",
       "       'B4U62_15135', 'B4U62_11960', 'B4U62_12095', 'B4U62_08080',\n",
       "       'B4U62_21575', 'B4U62_01965', 'B4U62_19435', 'B4U62_11305',\n",
       "       'B4U62_10305', 'B4U62_04815', 'B4U62_05150', 'B4U62_15925',\n",
       "       'B4U62_02925', 'B4U62_19425', 'B4U62_16080', 'B4U62_22340',\n",
       "       'B4U62_04180', 'B4U62_14830', 'B4U62_14825', 'B4U62_06505',\n",
       "       'B4U62_10795', 'B4U62_15020', 'B4U62_11925', 'B4U62_11195',\n",
       "       'B4U62_17245', 'B4U62_21585', 'B4U62_05575', 'B4U62_16590',\n",
       "       'B4U62_17620', 'B4U62_14490', 'B4U62_10335', 'B4U62_19630',\n",
       "       'B4U62_03670', 'B4U62_10110', 'B4U62_21165', 'B4U62_05465',\n",
       "       'B4U62_18015', 'B4U62_06645', 'B4U62_15165', 'B4U62_04330',\n",
       "       'B4U62_11205', 'B4U62_18010', 'B4U62_03170', 'B4U62_22515',\n",
       "       'B4U62_20165', 'B4U62_02325', 'B4U62_13965', 'B4U62_06545',\n",
       "       'B4U62_02570', 'B4U62_13535', 'B4U62_08060', 'B4U62_06525',\n",
       "       'B4U62_06535', 'B4U62_21435', 'B4U62_13570', 'B4U62_19820',\n",
       "       'B4U62_07460', 'B4U62_06510', 'B4U62_19235', 'B4U62_06675',\n",
       "       'B4U62_11595', 'B4U62_15230', 'B4U62_06705', 'B4U62_05275',\n",
       "       'B4U62_01210', 'B4U62_21270', 'B4U62_07295', 'B4U62_07775',\n",
       "       'B4U62_22525', 'B4U62_04760', 'B4U62_00690', 'B4U62_04325',\n",
       "       'B4U62_13310', 'B4U62_06490', 'B4U62_07625', 'B4U62_06360',\n",
       "       'B4U62_13530', 'B4U62_09655', 'B4U62_19625', 'B4U62_22265',\n",
       "       'B4U62_05955', 'B4U62_06175', 'B4U62_09780', 'B4U62_20115',\n",
       "       'B4U62_12115', 'B4U62_09775', 'B4U62_07465', 'B4U62_11600',\n",
       "       'B4U62_13550', 'B4U62_16595', 'B4U62_15160', 'B4U62_10515',\n",
       "       'B4U62_06515', 'B4U62_18955', 'B4U62_10510', 'B4U62_03615',\n",
       "       'B4U62_13300', 'B4U62_05570', 'B4U62_11315', 'B4U62_08025',\n",
       "       'B4U62_08130', 'B4U62_12070', 'B4U62_05270', 'B4U62_02515',\n",
       "       'B4U62_06495', 'B4U62_09785', 'B4U62_20040', 'B4U62_06500',\n",
       "       'B4U62_18230', 'B4U62_06250', 'B4U62_19385', 'B4U62_09375',\n",
       "       'B4U62_10790', 'B4U62_09410', 'B4U62_04730', 'B4U62_09515',\n",
       "       'B4U62_07800', 'B4U62_15070', 'B4U62_14485', 'B4U62_17615'],\n",
       "      dtype='<U11')"
      ]
     },
     "execution_count": 24,
     "metadata": {},
     "output_type": "execute_result"
    }
   ],
   "source": [
    "np.array(list(gene_sets[0] & gene_sets[1] & gene_sets[2]))"
   ]
  }
 ],
 "metadata": {
  "kernelspec": {
   "display_name": "gatai-reproduction-YJP4mtSF-py3.12",
   "language": "python",
   "name": "python3"
  },
  "language_info": {
   "codemirror_mode": {
    "name": "ipython",
    "version": 3
   },
   "file_extension": ".py",
   "mimetype": "text/x-python",
   "name": "python",
   "nbconvert_exporter": "python",
   "pygments_lexer": "ipython3",
   "version": "3.12.6"
  },
  "papermill": {
   "default_parameters": {},
   "duration": 552.822695,
   "end_time": "2024-09-26T10:23:47.872866",
   "environment_variables": {},
   "exception": null,
   "input_path": "tai_destroyer.ipynb",
   "output_path": "results/Bsubtilis_sqrt.ipynb",
   "parameters": {
    "data_path": "data/Bsubtilis.csv",
    "transformation": "sqrt"
   },
   "start_time": "2024-09-26T10:14:35.050171",
   "version": "2.6.0"
  }
 },
 "nbformat": 4,
 "nbformat_minor": 5
}
