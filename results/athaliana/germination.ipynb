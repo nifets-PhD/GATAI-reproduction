{
 "cells": [
  {
   "cell_type": "code",
   "execution_count": 1,
   "id": "2a7809f8",
   "metadata": {
    "execution": {
     "iopub.execute_input": "2024-10-24T15:24:50.454403Z",
     "iopub.status.busy": "2024-10-24T15:24:50.453947Z",
     "iopub.status.idle": "2024-10-24T15:24:50.468473Z",
     "shell.execute_reply": "2024-10-24T15:24:50.468109Z"
    },
    "papermill": {
     "duration": 0.034869,
     "end_time": "2024-10-24T15:24:50.469693",
     "exception": false,
     "start_time": "2024-10-24T15:24:50.434824",
     "status": "completed"
    },
    "tags": []
   },
   "outputs": [],
   "source": [
    "%load_ext autoreload\n",
    "%autoreload 2"
   ]
  },
  {
   "cell_type": "code",
   "execution_count": 2,
   "id": "fe780277",
   "metadata": {
    "execution": {
     "iopub.execute_input": "2024-10-24T15:24:50.496268Z",
     "iopub.status.busy": "2024-10-24T15:24:50.496082Z",
     "iopub.status.idle": "2024-10-24T15:24:50.502995Z",
     "shell.execute_reply": "2024-10-24T15:24:50.502716Z"
    },
    "papermill": {
     "duration": 0.021087,
     "end_time": "2024-10-24T15:24:50.503838",
     "exception": false,
     "start_time": "2024-10-24T15:24:50.482751",
     "status": "completed"
    },
    "tags": []
   },
   "outputs": [],
   "source": [
    "import logging\n",
    "\n",
    "logging.basicConfig(format='%(asctime)s %(levelname)s:%(message)s', level=logging.INFO)"
   ]
  },
  {
   "cell_type": "markdown",
   "id": "c14f84c2",
   "metadata": {
    "papermill": {
     "duration": 0.012053,
     "end_time": "2024-10-24T15:24:50.528619",
     "exception": false,
     "start_time": "2024-10-24T15:24:50.516566",
     "status": "completed"
    },
    "tags": []
   },
   "source": [
    "## 1. Load expression data\n",
    "\n",
    "The `transformation` value can be one of `\"none\"`, `\"sqrt\"` or `\"log\"`, which determines how the expression data should be transformed in order to reduce outlier influence."
   ]
  },
  {
   "cell_type": "code",
   "execution_count": 3,
   "id": "17510189",
   "metadata": {
    "execution": {
     "iopub.execute_input": "2024-10-24T15:24:50.548044Z",
     "iopub.status.busy": "2024-10-24T15:24:50.547911Z",
     "iopub.status.idle": "2024-10-24T15:24:50.554445Z",
     "shell.execute_reply": "2024-10-24T15:24:50.553994Z"
    },
    "papermill": {
     "duration": 0.016838,
     "end_time": "2024-10-24T15:24:50.555430",
     "exception": false,
     "start_time": "2024-10-24T15:24:50.538592",
     "status": "completed"
    },
    "tags": [
     "parameters"
    ]
   },
   "outputs": [],
   "source": [
    "data_path: str = \"data/Athaliana.csv\"\n",
    "transformation: str = \"log\""
   ]
  },
  {
   "cell_type": "code",
   "execution_count": 4,
   "id": "c0e8094e",
   "metadata": {
    "execution": {
     "iopub.execute_input": "2024-10-24T15:24:50.576640Z",
     "iopub.status.busy": "2024-10-24T15:24:50.576462Z",
     "iopub.status.idle": "2024-10-24T15:24:50.582573Z",
     "shell.execute_reply": "2024-10-24T15:24:50.582314Z"
    },
    "papermill": {
     "duration": 0.017694,
     "end_time": "2024-10-24T15:24:50.583410",
     "exception": false,
     "start_time": "2024-10-24T15:24:50.565716",
     "status": "completed"
    },
    "tags": [
     "injected-parameters"
    ]
   },
   "outputs": [],
   "source": [
    "# Parameters\n",
    "data_path = \"data/processed_data/germination.csv\"\n",
    "transformation = \"sqrt\"\n"
   ]
  },
  {
   "cell_type": "code",
   "execution_count": 5,
   "id": "8c23543f",
   "metadata": {
    "execution": {
     "iopub.execute_input": "2024-10-24T15:24:50.606616Z",
     "iopub.status.busy": "2024-10-24T15:24:50.606454Z",
     "iopub.status.idle": "2024-10-24T15:24:52.019649Z",
     "shell.execute_reply": "2024-10-24T15:24:52.019359Z"
    },
    "papermill": {
     "duration": 1.425622,
     "end_time": "2024-10-24T15:24:52.020362",
     "exception": false,
     "start_time": "2024-10-24T15:24:50.594740",
     "status": "completed"
    },
    "tags": []
   },
   "outputs": [
    {
     "data": {
      "text/html": [
       "<div>\n",
       "<style scoped>\n",
       "    .dataframe tbody tr th:only-of-type {\n",
       "        vertical-align: middle;\n",
       "    }\n",
       "\n",
       "    .dataframe tbody tr th {\n",
       "        vertical-align: top;\n",
       "    }\n",
       "\n",
       "    .dataframe thead th {\n",
       "        text-align: right;\n",
       "    }\n",
       "</style>\n",
       "<table border=\"1\" class=\"dataframe\">\n",
       "  <thead>\n",
       "    <tr style=\"text-align: right;\">\n",
       "      <th></th>\n",
       "      <th>Phylostratum</th>\n",
       "      <th>GeneID</th>\n",
       "      <th>dry</th>\n",
       "      <th>imbibed</th>\n",
       "      <th>testa rupture</th>\n",
       "      <th>radicle</th>\n",
       "      <th>first root</th>\n",
       "      <th>greening</th>\n",
       "      <th>opening</th>\n",
       "    </tr>\n",
       "  </thead>\n",
       "  <tbody>\n",
       "    <tr>\n",
       "      <th>0</th>\n",
       "      <td>0.618291</td>\n",
       "      <td>at1g01010</td>\n",
       "      <td>7.040502</td>\n",
       "      <td>5.987987</td>\n",
       "      <td>4.705897</td>\n",
       "      <td>4.591337</td>\n",
       "      <td>5.105047</td>\n",
       "      <td>5.145008</td>\n",
       "      <td>6.070010</td>\n",
       "    </tr>\n",
       "    <tr>\n",
       "      <th>1</th>\n",
       "      <td>0.618291</td>\n",
       "      <td>at1g01020</td>\n",
       "      <td>9.577023</td>\n",
       "      <td>12.528260</td>\n",
       "      <td>10.856195</td>\n",
       "      <td>9.637609</td>\n",
       "      <td>8.872181</td>\n",
       "      <td>8.458219</td>\n",
       "      <td>8.900163</td>\n",
       "    </tr>\n",
       "    <tr>\n",
       "      <th>2</th>\n",
       "      <td>0.618291</td>\n",
       "      <td>at1g01030</td>\n",
       "      <td>5.252610</td>\n",
       "      <td>5.471906</td>\n",
       "      <td>4.242302</td>\n",
       "      <td>4.624531</td>\n",
       "      <td>5.452262</td>\n",
       "      <td>5.461196</td>\n",
       "      <td>4.796889</td>\n",
       "    </tr>\n",
       "    <tr>\n",
       "      <th>3</th>\n",
       "      <td>0.618291</td>\n",
       "      <td>at1g01040</td>\n",
       "      <td>11.430131</td>\n",
       "      <td>13.021799</td>\n",
       "      <td>9.733862</td>\n",
       "      <td>8.988921</td>\n",
       "      <td>8.076421</td>\n",
       "      <td>7.762540</td>\n",
       "      <td>8.329544</td>\n",
       "    </tr>\n",
       "    <tr>\n",
       "      <th>4</th>\n",
       "      <td>0.618291</td>\n",
       "      <td>at1g01050</td>\n",
       "      <td>17.198347</td>\n",
       "      <td>15.757934</td>\n",
       "      <td>17.523287</td>\n",
       "      <td>19.623874</td>\n",
       "      <td>19.618384</td>\n",
       "      <td>21.014689</td>\n",
       "      <td>21.447457</td>\n",
       "    </tr>\n",
       "    <tr>\n",
       "      <th>...</th>\n",
       "      <td>...</td>\n",
       "      <td>...</td>\n",
       "      <td>...</td>\n",
       "      <td>...</td>\n",
       "      <td>...</td>\n",
       "      <td>...</td>\n",
       "      <td>...</td>\n",
       "      <td>...</td>\n",
       "      <td>...</td>\n",
       "    </tr>\n",
       "    <tr>\n",
       "      <th>24553</th>\n",
       "      <td>0.903697</td>\n",
       "      <td>atmg01330</td>\n",
       "      <td>21.456827</td>\n",
       "      <td>25.934794</td>\n",
       "      <td>23.904508</td>\n",
       "      <td>22.554520</td>\n",
       "      <td>19.989724</td>\n",
       "      <td>19.792096</td>\n",
       "      <td>17.423256</td>\n",
       "    </tr>\n",
       "    <tr>\n",
       "      <th>24554</th>\n",
       "      <td>0.618291</td>\n",
       "      <td>atmg01360</td>\n",
       "      <td>59.556511</td>\n",
       "      <td>54.419319</td>\n",
       "      <td>56.495955</td>\n",
       "      <td>56.315488</td>\n",
       "      <td>55.867925</td>\n",
       "      <td>56.001407</td>\n",
       "      <td>56.565657</td>\n",
       "    </tr>\n",
       "    <tr>\n",
       "      <th>24555</th>\n",
       "      <td>0.963841</td>\n",
       "      <td>atmg01370</td>\n",
       "      <td>22.849246</td>\n",
       "      <td>36.392552</td>\n",
       "      <td>38.927497</td>\n",
       "      <td>38.682094</td>\n",
       "      <td>36.973307</td>\n",
       "      <td>33.614163</td>\n",
       "      <td>31.200495</td>\n",
       "    </tr>\n",
       "    <tr>\n",
       "      <th>24556</th>\n",
       "      <td>0.963841</td>\n",
       "      <td>atmg01400</td>\n",
       "      <td>7.096223</td>\n",
       "      <td>10.723592</td>\n",
       "      <td>10.547524</td>\n",
       "      <td>9.800632</td>\n",
       "      <td>8.229588</td>\n",
       "      <td>8.215484</td>\n",
       "      <td>7.595770</td>\n",
       "    </tr>\n",
       "    <tr>\n",
       "      <th>24557</th>\n",
       "      <td>0.618291</td>\n",
       "      <td>atmg01410</td>\n",
       "      <td>8.776646</td>\n",
       "      <td>13.915987</td>\n",
       "      <td>12.773620</td>\n",
       "      <td>11.676987</td>\n",
       "      <td>9.230112</td>\n",
       "      <td>9.502595</td>\n",
       "      <td>9.370477</td>\n",
       "    </tr>\n",
       "  </tbody>\n",
       "</table>\n",
       "<p>24558 rows × 9 columns</p>\n",
       "</div>"
      ],
      "text/plain": [
       "       Phylostratum     GeneID        dry    imbibed  testa rupture  \\\n",
       "0          0.618291  at1g01010   7.040502   5.987987       4.705897   \n",
       "1          0.618291  at1g01020   9.577023  12.528260      10.856195   \n",
       "2          0.618291  at1g01030   5.252610   5.471906       4.242302   \n",
       "3          0.618291  at1g01040  11.430131  13.021799       9.733862   \n",
       "4          0.618291  at1g01050  17.198347  15.757934      17.523287   \n",
       "...             ...        ...        ...        ...            ...   \n",
       "24553      0.903697  atmg01330  21.456827  25.934794      23.904508   \n",
       "24554      0.618291  atmg01360  59.556511  54.419319      56.495955   \n",
       "24555      0.963841  atmg01370  22.849246  36.392552      38.927497   \n",
       "24556      0.963841  atmg01400   7.096223  10.723592      10.547524   \n",
       "24557      0.618291  atmg01410   8.776646  13.915987      12.773620   \n",
       "\n",
       "         radicle  first root   greening    opening  \n",
       "0       4.591337    5.105047   5.145008   6.070010  \n",
       "1       9.637609    8.872181   8.458219   8.900163  \n",
       "2       4.624531    5.452262   5.461196   4.796889  \n",
       "3       8.988921    8.076421   7.762540   8.329544  \n",
       "4      19.623874   19.618384  21.014689  21.447457  \n",
       "...          ...         ...        ...        ...  \n",
       "24553  22.554520   19.989724  19.792096  17.423256  \n",
       "24554  56.315488   55.867925  56.001407  56.565657  \n",
       "24555  38.682094   36.973307  33.614163  31.200495  \n",
       "24556   9.800632    8.229588   8.215484   7.595770  \n",
       "24557  11.676987    9.230112   9.502595   9.370477  \n",
       "\n",
       "[24558 rows x 9 columns]"
      ]
     },
     "execution_count": 5,
     "metadata": {},
     "output_type": "execute_result"
    }
   ],
   "source": [
    "from my_gatai import Expression_data\n",
    "\n",
    "expression_data = Expression_data.from_csv(data_path, \n",
    "                                           transformation=transformation)\n",
    "expression_data.full"
   ]
  },
  {
   "cell_type": "code",
   "execution_count": 6,
   "id": "a856a6a6",
   "metadata": {
    "execution": {
     "iopub.execute_input": "2024-10-24T15:24:52.041617Z",
     "iopub.status.busy": "2024-10-24T15:24:52.041466Z",
     "iopub.status.idle": "2024-10-24T15:24:52.051918Z",
     "shell.execute_reply": "2024-10-24T15:24:52.051697Z"
    },
    "papermill": {
     "duration": 0.018985,
     "end_time": "2024-10-24T15:24:52.052629",
     "exception": false,
     "start_time": "2024-10-24T15:24:52.033644",
     "status": "completed"
    },
    "tags": []
   },
   "outputs": [
    {
     "data": {
      "text/html": [
       "<div>\n",
       "<style scoped>\n",
       "    .dataframe tbody tr th:only-of-type {\n",
       "        vertical-align: middle;\n",
       "    }\n",
       "\n",
       "    .dataframe tbody tr th {\n",
       "        vertical-align: top;\n",
       "    }\n",
       "\n",
       "    .dataframe thead th {\n",
       "        text-align: right;\n",
       "    }\n",
       "</style>\n",
       "<table border=\"1\" class=\"dataframe\">\n",
       "  <thead>\n",
       "    <tr style=\"text-align: right;\">\n",
       "      <th></th>\n",
       "      <th>dry</th>\n",
       "      <th>imbibed</th>\n",
       "      <th>testa rupture</th>\n",
       "      <th>radicle</th>\n",
       "      <th>first root</th>\n",
       "      <th>greening</th>\n",
       "      <th>opening</th>\n",
       "    </tr>\n",
       "  </thead>\n",
       "  <tbody>\n",
       "    <tr>\n",
       "      <th>0</th>\n",
       "      <td>0.000021</td>\n",
       "      <td>0.000018</td>\n",
       "      <td>0.000014</td>\n",
       "      <td>0.000013</td>\n",
       "      <td>0.000015</td>\n",
       "      <td>0.000015</td>\n",
       "      <td>0.000018</td>\n",
       "    </tr>\n",
       "    <tr>\n",
       "      <th>1</th>\n",
       "      <td>0.000028</td>\n",
       "      <td>0.000037</td>\n",
       "      <td>0.000032</td>\n",
       "      <td>0.000028</td>\n",
       "      <td>0.000026</td>\n",
       "      <td>0.000025</td>\n",
       "      <td>0.000026</td>\n",
       "    </tr>\n",
       "    <tr>\n",
       "      <th>2</th>\n",
       "      <td>0.000016</td>\n",
       "      <td>0.000016</td>\n",
       "      <td>0.000012</td>\n",
       "      <td>0.000014</td>\n",
       "      <td>0.000016</td>\n",
       "      <td>0.000016</td>\n",
       "      <td>0.000014</td>\n",
       "    </tr>\n",
       "    <tr>\n",
       "      <th>3</th>\n",
       "      <td>0.000034</td>\n",
       "      <td>0.000038</td>\n",
       "      <td>0.000029</td>\n",
       "      <td>0.000026</td>\n",
       "      <td>0.000024</td>\n",
       "      <td>0.000023</td>\n",
       "      <td>0.000025</td>\n",
       "    </tr>\n",
       "    <tr>\n",
       "      <th>4</th>\n",
       "      <td>0.000051</td>\n",
       "      <td>0.000046</td>\n",
       "      <td>0.000052</td>\n",
       "      <td>0.000058</td>\n",
       "      <td>0.000058</td>\n",
       "      <td>0.000062</td>\n",
       "      <td>0.000063</td>\n",
       "    </tr>\n",
       "    <tr>\n",
       "      <th>...</th>\n",
       "      <td>...</td>\n",
       "      <td>...</td>\n",
       "      <td>...</td>\n",
       "      <td>...</td>\n",
       "      <td>...</td>\n",
       "      <td>...</td>\n",
       "      <td>...</td>\n",
       "    </tr>\n",
       "    <tr>\n",
       "      <th>24553</th>\n",
       "      <td>0.000093</td>\n",
       "      <td>0.000111</td>\n",
       "      <td>0.000103</td>\n",
       "      <td>0.000097</td>\n",
       "      <td>0.000086</td>\n",
       "      <td>0.000085</td>\n",
       "      <td>0.000075</td>\n",
       "    </tr>\n",
       "    <tr>\n",
       "      <th>24554</th>\n",
       "      <td>0.000177</td>\n",
       "      <td>0.000160</td>\n",
       "      <td>0.000166</td>\n",
       "      <td>0.000165</td>\n",
       "      <td>0.000164</td>\n",
       "      <td>0.000165</td>\n",
       "      <td>0.000166</td>\n",
       "    </tr>\n",
       "    <tr>\n",
       "      <th>24555</th>\n",
       "      <td>0.000106</td>\n",
       "      <td>0.000167</td>\n",
       "      <td>0.000178</td>\n",
       "      <td>0.000177</td>\n",
       "      <td>0.000169</td>\n",
       "      <td>0.000154</td>\n",
       "      <td>0.000143</td>\n",
       "    </tr>\n",
       "    <tr>\n",
       "      <th>24556</th>\n",
       "      <td>0.000033</td>\n",
       "      <td>0.000049</td>\n",
       "      <td>0.000048</td>\n",
       "      <td>0.000045</td>\n",
       "      <td>0.000038</td>\n",
       "      <td>0.000038</td>\n",
       "      <td>0.000035</td>\n",
       "    </tr>\n",
       "    <tr>\n",
       "      <th>24557</th>\n",
       "      <td>0.000026</td>\n",
       "      <td>0.000041</td>\n",
       "      <td>0.000038</td>\n",
       "      <td>0.000034</td>\n",
       "      <td>0.000027</td>\n",
       "      <td>0.000028</td>\n",
       "      <td>0.000028</td>\n",
       "    </tr>\n",
       "  </tbody>\n",
       "</table>\n",
       "<p>24558 rows × 7 columns</p>\n",
       "</div>"
      ],
      "text/plain": [
       "            dry   imbibed  testa rupture   radicle  first root  greening  \\\n",
       "0      0.000021  0.000018       0.000014  0.000013    0.000015  0.000015   \n",
       "1      0.000028  0.000037       0.000032  0.000028    0.000026  0.000025   \n",
       "2      0.000016  0.000016       0.000012  0.000014    0.000016  0.000016   \n",
       "3      0.000034  0.000038       0.000029  0.000026    0.000024  0.000023   \n",
       "4      0.000051  0.000046       0.000052  0.000058    0.000058  0.000062   \n",
       "...         ...       ...            ...       ...         ...       ...   \n",
       "24553  0.000093  0.000111       0.000103  0.000097    0.000086  0.000085   \n",
       "24554  0.000177  0.000160       0.000166  0.000165    0.000164  0.000165   \n",
       "24555  0.000106  0.000167       0.000178  0.000177    0.000169  0.000154   \n",
       "24556  0.000033  0.000049       0.000048  0.000045    0.000038  0.000038   \n",
       "24557  0.000026  0.000041       0.000038  0.000034    0.000027  0.000028   \n",
       "\n",
       "        opening  \n",
       "0      0.000018  \n",
       "1      0.000026  \n",
       "2      0.000014  \n",
       "3      0.000025  \n",
       "4      0.000063  \n",
       "...         ...  \n",
       "24553  0.000075  \n",
       "24554  0.000166  \n",
       "24555  0.000143  \n",
       "24556  0.000035  \n",
       "24557  0.000028  \n",
       "\n",
       "[24558 rows x 7 columns]"
      ]
     },
     "execution_count": 6,
     "metadata": {},
     "output_type": "execute_result"
    }
   ],
   "source": [
    "expression_data.p_matrix"
   ]
  },
  {
   "cell_type": "code",
   "execution_count": 7,
   "id": "6c709d79",
   "metadata": {
    "execution": {
     "iopub.execute_input": "2024-10-24T15:24:52.061379Z",
     "iopub.status.busy": "2024-10-24T15:24:52.061267Z",
     "iopub.status.idle": "2024-10-24T15:24:52.069651Z",
     "shell.execute_reply": "2024-10-24T15:24:52.069442Z"
    },
    "papermill": {
     "duration": 0.012989,
     "end_time": "2024-10-24T15:24:52.070343",
     "exception": false,
     "start_time": "2024-10-24T15:24:52.057354",
     "status": "completed"
    },
    "tags": []
   },
   "outputs": [
    {
     "data": {
      "text/plain": [
       "dry              0.678245\n",
       "imbibed          0.674662\n",
       "testa rupture    0.672417\n",
       "radicle          0.671968\n",
       "first root       0.671716\n",
       "greening         0.672485\n",
       "opening          0.673981\n",
       "dtype: float64"
      ]
     },
     "execution_count": 7,
     "metadata": {},
     "output_type": "execute_result"
    }
   ],
   "source": [
    "expression_data.tai"
   ]
  },
  {
   "cell_type": "markdown",
   "id": "ab729899",
   "metadata": {
    "papermill": {
     "duration": 0.00359,
     "end_time": "2024-10-24T15:24:52.078277",
     "exception": false,
     "start_time": "2024-10-24T15:24:52.074687",
     "status": "completed"
    },
    "tags": []
   },
   "source": [
    "### 1.1 Compute TAI value"
   ]
  },
  {
   "cell_type": "code",
   "execution_count": 8,
   "id": "f3cf70a0",
   "metadata": {
    "execution": {
     "iopub.execute_input": "2024-10-24T15:24:52.085372Z",
     "iopub.status.busy": "2024-10-24T15:24:52.085271Z",
     "iopub.status.idle": "2024-10-24T15:24:52.135964Z",
     "shell.execute_reply": "2024-10-24T15:24:52.135722Z"
    },
    "papermill": {
     "duration": 0.055177,
     "end_time": "2024-10-24T15:24:52.136664",
     "exception": false,
     "start_time": "2024-10-24T15:24:52.081487",
     "status": "completed"
    },
    "tags": []
   },
   "outputs": [
    {
     "data": {
      "image/png": "[encoded data removed]",
      "text/plain": [
       "<Figure size 640x480 with 1 Axes>"
      ]
     },
     "metadata": {},
     "output_type": "display_data"
    }
   ],
   "source": [
    "import matplotlib.pyplot as plt\n",
    "\n",
    "plt.plot(expression_data.tai)\n",
    "plt.show()"
   ]
  },
  {
   "cell_type": "markdown",
   "id": "3306ac02",
   "metadata": {
    "papermill": {
     "duration": 0.008537,
     "end_time": "2024-10-24T15:24:52.156555",
     "exception": false,
     "start_time": "2024-10-24T15:24:52.148018",
     "status": "completed"
    },
    "tags": []
   },
   "source": [
    "## 2. Flatline test"
   ]
  },
  {
   "cell_type": "markdown",
   "id": "bc0b0415",
   "metadata": {
    "papermill": {
     "duration": 0.006976,
     "end_time": "2024-10-24T15:24:52.171758",
     "exception": false,
     "start_time": "2024-10-24T15:24:52.164782",
     "status": "completed"
    },
    "tags": []
   },
   "source": [
    "### 2.1. Compute variance of TAI curve"
   ]
  },
  {
   "cell_type": "code",
   "execution_count": 9,
   "id": "873547b6",
   "metadata": {
    "execution": {
     "iopub.execute_input": "2024-10-24T15:24:52.187026Z",
     "iopub.status.busy": "2024-10-24T15:24:52.186916Z",
     "iopub.status.idle": "2024-10-24T15:24:52.195841Z",
     "shell.execute_reply": "2024-10-24T15:24:52.195632Z"
    },
    "papermill": {
     "duration": 0.016863,
     "end_time": "2024-10-24T15:24:52.196528",
     "exception": false,
     "start_time": "2024-10-24T15:24:52.179665",
     "status": "completed"
    },
    "tags": []
   },
   "outputs": [
    {
     "data": {
      "text/plain": [
       "4.52723679740934e-06"
      ]
     },
     "execution_count": 9,
     "metadata": {},
     "output_type": "execute_result"
    }
   ],
   "source": [
    "import numpy as np\n",
    "tai_var = np.var(expression_data.tai).item()\n",
    "tai_var"
   ]
  },
  {
   "cell_type": "markdown",
   "id": "3d4b97f5",
   "metadata": {
    "papermill": {
     "duration": 0.006902,
     "end_time": "2024-10-24T15:24:52.211559",
     "exception": false,
     "start_time": "2024-10-24T15:24:52.204657",
     "status": "completed"
    },
    "tags": []
   },
   "source": [
    "### 2.2. Compute permutation variance distribution\n",
    "\n",
    "Permute the assigned gene ages between the genes to run the flat line test"
   ]
  },
  {
   "cell_type": "code",
   "execution_count": 10,
   "id": "93e78913",
   "metadata": {
    "execution": {
     "iopub.execute_input": "2024-10-24T15:24:52.224859Z",
     "iopub.status.busy": "2024-10-24T15:24:52.224737Z",
     "iopub.status.idle": "2024-10-24T15:24:56.899401Z",
     "shell.execute_reply": "2024-10-24T15:24:56.899181Z"
    },
    "papermill": {
     "duration": 4.682771,
     "end_time": "2024-10-24T15:24:56.899990",
     "exception": false,
     "start_time": "2024-10-24T15:24:52.217219",
     "status": "completed"
    },
    "tags": []
   },
   "outputs": [
    {
     "name": "stdout",
     "output_type": "stream",
     "text": [
      "Running permuations\n"
     ]
    },
    {
     "name": "stderr",
     "output_type": "stream",
     "text": [
      "\r",
      "  0%|                                                                                                                                                                                          | 0/10000 [00:00<?, ?it/s]"
     ]
    },
    {
     "name": "stderr",
     "output_type": "stream",
     "text": [
      "\r",
      "  2%|███▊                                                                                                                                                                          | 220/10000 [00:00<00:04, 2193.04it/s]"
     ]
    },
    {
     "name": "stderr",
     "output_type": "stream",
     "text": [
      "\r",
      "  4%|███████▋                                                                                                                                                                      | 444/10000 [00:00<00:04, 2214.95it/s]"
     ]
    },
    {
     "name": "stderr",
     "output_type": "stream",
     "text": [
      "\r",
      "  7%|███████████▌                                                                                                                                                                  | 666/10000 [00:00<00:04, 2206.69it/s]"
     ]
    },
    {
     "name": "stderr",
     "output_type": "stream",
     "text": [
      "\r",
      "  9%|███████████████▍                                                                                                                                                              | 887/10000 [00:00<00:04, 2203.59it/s]"
     ]
    },
    {
     "name": "stderr",
     "output_type": "stream",
     "text": [
      "\r",
      " 11%|███████████████████▍                                                                                                                                                         | 1125/10000 [00:00<00:03, 2265.45it/s]"
     ]
    },
    {
     "name": "stderr",
     "output_type": "stream",
     "text": [
      "\r",
      " 14%|███████████████████████▍                                                                                                                                                     | 1352/10000 [00:00<00:03, 2244.79it/s]"
     ]
    },
    {
     "name": "stderr",
     "output_type": "stream",
     "text": [
      "\r",
      " 16%|███████████████████████████▌                                                                                                                                                 | 1592/10000 [00:00<00:03, 2292.53it/s]"
     ]
    },
    {
     "name": "stderr",
     "output_type": "stream",
     "text": [
      "\r",
      " 18%|███████████████████████████████▌                                                                                                                                             | 1822/10000 [00:00<00:03, 2073.00it/s]"
     ]
    },
    {
     "name": "stderr",
     "output_type": "stream",
     "text": [
      "\r",
      " 21%|███████████████████████████████████▋                                                                                                                                         | 2060/10000 [00:00<00:03, 2159.85it/s]"
     ]
    },
    {
     "name": "stderr",
     "output_type": "stream",
     "text": [
      "\r",
      " 23%|███████████████████████████████████████▋                                                                                                                                     | 2296/10000 [00:01<00:03, 2218.09it/s]"
     ]
    },
    {
     "name": "stderr",
     "output_type": "stream",
     "text": [
      "\r",
      " 25%|███████████████████████████████████████████▌                                                                                                                                 | 2521/10000 [00:01<00:03, 2209.79it/s]"
     ]
    },
    {
     "name": "stderr",
     "output_type": "stream",
     "text": [
      "\r",
      " 28%|███████████████████████████████████████████████▋                                                                                                                             | 2759/10000 [00:01<00:03, 2259.10it/s]"
     ]
    },
    {
     "name": "stderr",
     "output_type": "stream",
     "text": [
      "\r",
      " 30%|███████████████████████████████████████████████████▊                                                                                                                         | 2997/10000 [00:01<00:03, 2292.99it/s]"
     ]
    },
    {
     "name": "stderr",
     "output_type": "stream",
     "text": [
      "\r",
      " 32%|████████████████████████████████████████████████████████                                                                                                                     | 3242/10000 [00:01<00:02, 2339.00it/s]"
     ]
    },
    {
     "name": "stderr",
     "output_type": "stream",
     "text": [
      "\r",
      " 35%|████████████████████████████████████████████████████████████▏                                                                                                                | 3477/10000 [00:01<00:02, 2298.02it/s]"
     ]
    },
    {
     "name": "stderr",
     "output_type": "stream",
     "text": [
      "\r",
      " 37%|████████████████████████████████████████████████████████████████▍                                                                                                            | 3725/10000 [00:01<00:02, 2349.34it/s]"
     ]
    },
    {
     "name": "stderr",
     "output_type": "stream",
     "text": [
      "\r",
      " 40%|████████████████████████████████████████████████████████████████████▌                                                                                                        | 3961/10000 [00:01<00:02, 2349.13it/s]"
     ]
    },
    {
     "name": "stderr",
     "output_type": "stream",
     "text": [
      "\r",
      " 42%|████████████████████████████████████████████████████████████████████████▋                                                                                                    | 4201/10000 [00:01<00:02, 2363.20it/s]"
     ]
    },
    {
     "name": "stderr",
     "output_type": "stream",
     "text": [
      "\r",
      " 44%|████████████████████████████████████████████████████████████████████████████▊                                                                                                | 4438/10000 [00:01<00:02, 2356.06it/s]"
     ]
    },
    {
     "name": "stderr",
     "output_type": "stream",
     "text": [
      "\r",
      " 47%|████████████████████████████████████████████████████████████████████████████████▊                                                                                            | 4674/10000 [00:02<00:02, 2349.94it/s]"
     ]
    },
    {
     "name": "stderr",
     "output_type": "stream",
     "text": [
      "\r",
      " 49%|████████████████████████████████████████████████████████████████████████████████████▉                                                                                        | 4910/10000 [00:02<00:02, 2312.99it/s]"
     ]
    },
    {
     "name": "stderr",
     "output_type": "stream",
     "text": [
      "\r",
      " 51%|█████████████████████████████████████████████████████████████████████████████████████████                                                                                    | 5145/10000 [00:02<00:02, 2321.10it/s]"
     ]
    },
    {
     "name": "stderr",
     "output_type": "stream",
     "text": [
      "\r",
      " 54%|█████████████████████████████████████████████████████████████████████████████████████████████                                                                                | 5379/10000 [00:02<00:01, 2326.38it/s]"
     ]
    },
    {
     "name": "stderr",
     "output_type": "stream",
     "text": [
      "\r",
      " 56%|█████████████████████████████████████████████████████████████████████████████████████████████████                                                                            | 5612/10000 [00:02<00:01, 2286.31it/s]"
     ]
    },
    {
     "name": "stderr",
     "output_type": "stream",
     "text": [
      "\r",
      " 58%|█████████████████████████████████████████████████████████████████████████████████████████████████████▏                                                                       | 5850/10000 [00:02<00:01, 2311.28it/s]"
     ]
    },
    {
     "name": "stderr",
     "output_type": "stream",
     "text": [
      "\r",
      " 61%|█████████████████████████████████████████████████████████████████████████████████████████████████████████▏                                                                   | 6082/10000 [00:02<00:01, 2272.60it/s]"
     ]
    },
    {
     "name": "stderr",
     "output_type": "stream",
     "text": [
      "\r",
      " 63%|█████████████████████████████████████████████████████████████████████████████████████████████████████████████▏                                                               | 6310/10000 [00:02<00:01, 2272.32it/s]"
     ]
    },
    {
     "name": "stderr",
     "output_type": "stream",
     "text": [
      "\r",
      " 65%|█████████████████████████████████████████████████████████████████████████████████████████████████████████████████▏                                                           | 6540/10000 [00:02<00:01, 2279.74it/s]"
     ]
    },
    {
     "name": "stderr",
     "output_type": "stream",
     "text": [
      "\r",
      " 68%|█████████████████████████████████████████████████████████████████████████████████████████████████████████████████████                                                        | 6769/10000 [00:02<00:01, 2258.02it/s]"
     ]
    },
    {
     "name": "stderr",
     "output_type": "stream",
     "text": [
      "\r",
      " 70%|█████████████████████████████████████████████████████████████████████████████████████████████████████████████████████████                                                    | 6996/10000 [00:03<00:01, 2258.77it/s]"
     ]
    },
    {
     "name": "stderr",
     "output_type": "stream",
     "text": [
      "\r",
      " 72%|█████████████████████████████████████████████████████████████████████████████████████████████████████████████████████████████▏                                               | 7234/10000 [00:03<00:01, 2291.91it/s]"
     ]
    },
    {
     "name": "stderr",
     "output_type": "stream",
     "text": [
      "\r",
      " 75%|█████████████████████████████████████████████████████████████████████████████████████████████████████████████████████████████████▏                                           | 7464/10000 [00:03<00:01, 2255.77it/s]"
     ]
    },
    {
     "name": "stderr",
     "output_type": "stream",
     "text": [
      "\r",
      " 77%|█████████████████████████████████████████████████████████████████████████████████████████████████████████████████████████████████████                                        | 7690/10000 [00:03<00:01, 2115.91it/s]"
     ]
    },
    {
     "name": "stderr",
     "output_type": "stream",
     "text": [
      "\r",
      " 79%|█████████████████████████████████████████████████████████████████████████████████████████████████████████████████████████████████████████▏                                   | 7927/10000 [00:03<00:00, 2186.68it/s]"
     ]
    },
    {
     "name": "stderr",
     "output_type": "stream",
     "text": [
      "\r",
      " 81%|████████████████████████████████████████████████████████████████████████████████████████████████████████████████████████████████████████████▉                                | 8148/10000 [00:03<00:00, 2187.89it/s]"
     ]
    },
    {
     "name": "stderr",
     "output_type": "stream",
     "text": [
      "\r",
      " 84%|█████████████████████████████████████████████████████████████████████████████████████████████████████████████████████████████████████████████████                            | 8387/10000 [00:03<00:00, 2244.44it/s]"
     ]
    },
    {
     "name": "stderr",
     "output_type": "stream",
     "text": [
      "\r",
      " 86%|█████████████████████████████████████████████████████████████████████████████████████████████████████████████████████████████████████████████████████▏                       | 8625/10000 [00:03<00:00, 2281.93it/s]"
     ]
    },
    {
     "name": "stderr",
     "output_type": "stream",
     "text": [
      "\r",
      " 89%|█████████████████████████████████████████████████████████████████████████████████████████████████████████████████████████████████████████████████████████▏                   | 8854/10000 [00:03<00:00, 2255.25it/s]"
     ]
    },
    {
     "name": "stderr",
     "output_type": "stream",
     "text": [
      "\r",
      " 91%|█████████████████████████████████████████████████████████████████████████████████████████████████████████████████████████████████████████████████████████████▎               | 9092/10000 [00:04<00:00, 2289.29it/s]"
     ]
    },
    {
     "name": "stderr",
     "output_type": "stream",
     "text": [
      "\r",
      " 93%|█████████████████████████████████████████████████████████████████████████████████████████████████████████████████████████████████████████████████████████████████▎           | 9322/10000 [00:04<00:00, 2258.12it/s]"
     ]
    },
    {
     "name": "stderr",
     "output_type": "stream",
     "text": [
      "\r",
      " 96%|█████████████████████████████████████████████████████████████████████████████████████████████████████████████████████████████████████████████████████████████████████▍       | 9560/10000 [00:04<00:00, 2291.50it/s]"
     ]
    },
    {
     "name": "stderr",
     "output_type": "stream",
     "text": [
      "\r",
      " 98%|█████████████████████████████████████████████████████████████████████████████████████████████████████████████████████████████████████████████████████████████████████████▎   | 9790/10000 [00:04<00:00, 2258.94it/s]"
     ]
    },
    {
     "name": "stderr",
     "output_type": "stream",
     "text": [
      "\r",
      "100%|████████████████████████████████████████████████████████████████████████████████████████████████████████████████████████████████████████████████████████████████████████████| 10000/10000 [00:04<00:00, 2263.20it/s]"
     ]
    },
    {
     "name": "stderr",
     "output_type": "stream",
     "text": [
      "\n"
     ]
    }
   ],
   "source": [
    "from gatai.utils import comp_vars\n",
    "\n",
    "num_permutations = 10000\n",
    "permutation_comp_vars = comp_vars(expression_data, num_permutations)"
   ]
  },
  {
   "cell_type": "markdown",
   "id": "aaaace51",
   "metadata": {
    "papermill": {
     "duration": 0.009948,
     "end_time": "2024-10-24T15:24:56.919939",
     "exception": false,
     "start_time": "2024-10-24T15:24:56.909991",
     "status": "completed"
    },
    "tags": []
   },
   "source": [
    "### 2.3. Fit the random variances to a Gamma distribution and compute the p-value of the true TAI"
   ]
  },
  {
   "cell_type": "code",
   "execution_count": 11,
   "id": "5f4fdf72",
   "metadata": {
    "execution": {
     "iopub.execute_input": "2024-10-24T15:24:56.940340Z",
     "iopub.status.busy": "2024-10-24T15:24:56.940175Z",
     "iopub.status.idle": "2024-10-24T15:24:56.949918Z",
     "shell.execute_reply": "2024-10-24T15:24:56.949720Z"
    },
    "papermill": {
     "duration": 0.020799,
     "end_time": "2024-10-24T15:24:56.950471",
     "exception": false,
     "start_time": "2024-10-24T15:24:56.929672",
     "status": "completed"
    },
    "tags": []
   },
   "outputs": [
    {
     "name": "stdout",
     "output_type": "stream",
     "text": [
      "Gamma fit params: 0.6677502040964077 1.4025726321273649e-08 9.310726913961684e-08\n"
     ]
    }
   ],
   "source": [
    "from flatline import fit_gamma, p_value_function\n",
    "\n",
    "# NOTE: the default fitting method used by scipy doesn't achieve a very good fit, so use \"MM\"\n",
    "a, loc, scale = fit_gamma(permutation_comp_vars)\n",
    "get_p_value = p_value_function(a, loc, scale)\n",
    "print(\"Gamma fit params:\", a, loc, scale)"
   ]
  },
  {
   "cell_type": "code",
   "execution_count": 12,
   "id": "9691188d",
   "metadata": {
    "execution": {
     "iopub.execute_input": "2024-10-24T15:24:56.971050Z",
     "iopub.status.busy": "2024-10-24T15:24:56.970951Z",
     "iopub.status.idle": "2024-10-24T15:24:56.979112Z",
     "shell.execute_reply": "2024-10-24T15:24:56.978909Z"
    },
    "papermill": {
     "duration": 0.018511,
     "end_time": "2024-10-24T15:24:56.979718",
     "exception": false,
     "start_time": "2024-10-24T15:24:56.961207",
     "status": "completed"
    },
    "tags": []
   },
   "outputs": [
    {
     "name": "stdout",
     "output_type": "stream",
     "text": [
      "p-value of TAI: 1.7963294869539722e-22\n"
     ]
    }
   ],
   "source": [
    "print(\"p-value of TAI:\", get_p_value(tai_var))"
   ]
  },
  {
   "cell_type": "markdown",
   "id": "8ae923b9",
   "metadata": {
    "papermill": {
     "duration": 0.009889,
     "end_time": "2024-10-24T15:24:57.001104",
     "exception": false,
     "start_time": "2024-10-24T15:24:56.991215",
     "status": "completed"
    },
    "tags": []
   },
   "source": [
    "### 2.4. Visually compare the random TAI variances against the true one"
   ]
  },
  {
   "cell_type": "code",
   "execution_count": 13,
   "id": "6d7c6c2a",
   "metadata": {
    "execution": {
     "iopub.execute_input": "2024-10-24T15:24:57.018815Z",
     "iopub.status.busy": "2024-10-24T15:24:57.018611Z",
     "iopub.status.idle": "2024-10-24T15:24:57.098456Z",
     "shell.execute_reply": "2024-10-24T15:24:57.098247Z"
    },
    "papermill": {
     "duration": 0.089751,
     "end_time": "2024-10-24T15:24:57.099147",
     "exception": false,
     "start_time": "2024-10-24T15:24:57.009396",
     "status": "completed"
    },
    "tags": []
   },
   "outputs": [
    {
     "data": {
      "image/png": "[encoded data removed]",
      "text/plain": [
       "<Figure size 640x480 with 1 Axes>"
      ]
     },
     "metadata": {},
     "output_type": "display_data"
    }
   ],
   "source": [
    "from scipy import stats\n",
    "plt.hist(permutation_comp_vars, density=True, bins=100, label=\"Random gene age TAI variance\")\n",
    "plt.axvline(x=tai_var, label=\"True TAI variance\", color=\"red\")\n",
    "\n",
    "x = np.linspace(0, tai_var, 200)\n",
    "y = stats.gamma.pdf(x, a, loc=loc, scale=scale)\n",
    "plt.plot(x, y, label=\"Fitted gamma distribution\", linestyle=\"dashed\")\n",
    "\n",
    "plt.legend()\n",
    "plt.show()"
   ]
  },
  {
   "cell_type": "markdown",
   "id": "b9185af5",
   "metadata": {
    "papermill": {
     "duration": 0.004406,
     "end_time": "2024-10-24T15:24:57.112152",
     "exception": false,
     "start_time": "2024-10-24T15:24:57.107746",
     "status": "completed"
    },
    "tags": []
   },
   "source": [
    "## 3. Destroy TAI signal with GATAI"
   ]
  },
  {
   "cell_type": "markdown",
   "id": "3c84ee22",
   "metadata": {
    "papermill": {
     "duration": 0.006033,
     "end_time": "2024-10-24T15:24:57.125420",
     "exception": false,
     "start_time": "2024-10-24T15:24:57.119387",
     "status": "completed"
    },
    "tags": []
   },
   "source": [
    "### 3.1 Run genetic algorithm to extract genes that break the pattern\n",
    "Note that the transformation used for the expression data heavily influences the number of genes that get extracted, as well as the number of generations needed for convergence.\n",
    "\n",
    "Also, with transformations applied, older genes are better represented"
   ]
  },
  {
   "cell_type": "code",
   "execution_count": 14,
   "id": "3b7c0228",
   "metadata": {
    "execution": {
     "iopub.execute_input": "2024-10-24T15:24:57.138689Z",
     "iopub.status.busy": "2024-10-24T15:24:57.138571Z",
     "iopub.status.idle": "2024-10-24T15:37:43.715262Z",
     "shell.execute_reply": "2024-10-24T15:37:43.714984Z"
    },
    "papermill": {
     "duration": 766.584323,
     "end_time": "2024-10-24T15:37:43.716009",
     "exception": false,
     "start_time": "2024-10-24T15:24:57.131686",
     "status": "completed"
    },
    "tags": []
   },
   "outputs": [
    {
     "name": "stdout",
     "output_type": "stream",
     "text": [
      "gen\tisland\tNum removed\tVariance\n",
      "0  \t      \t4          \t1.99265 \n"
     ]
    },
    {
     "name": "stdout",
     "output_type": "stream",
     "text": [
      "10 \t1     \t464        \t1.76904 \n",
      "10 \t2     \t347        \t1.80257 \n",
      "10 \t3     \t455        \t1.8424  \n",
      "10 \t4     \t357        \t1.9116  \n",
      "\n",
      "\n"
     ]
    },
    {
     "name": "stdout",
     "output_type": "stream",
     "text": [
      "20 \t1     \t548        \t1.7599  \n",
      "20 \t2     \t888        \t1.66721 \n",
      "20 \t3     \t688        \t1.73182 \n",
      "20 \t4     \t689        \t1.77658 \n",
      "\n",
      "\n"
     ]
    },
    {
     "name": "stdout",
     "output_type": "stream",
     "text": [
      "30 \t1     \t608        \t1.70968 \n",
      "30 \t2     \t526        \t1.70963 \n",
      "30 \t3     \t979        \t1.65099 \n",
      "30 \t4     \t1199       \t1.63018 \n",
      "\n",
      "\n"
     ]
    },
    {
     "name": "stdout",
     "output_type": "stream",
     "text": [
      "40 \t1     \t1246       \t1.60909 \n",
      "40 \t2     \t1377       \t1.605   \n",
      "40 \t3     \t1339       \t1.61806 \n",
      "40 \t4     \t1271       \t1.62854 \n",
      "\n",
      "\n"
     ]
    },
    {
     "name": "stdout",
     "output_type": "stream",
     "text": [
      "50 \t1     \t1053       \t1.60944 \n",
      "50 \t2     \t1328       \t1.56955 \n",
      "50 \t3     \t1415       \t1.57425 \n",
      "50 \t4     \t1769       \t1.57714 \n",
      "\n",
      "\n"
     ]
    },
    {
     "name": "stdout",
     "output_type": "stream",
     "text": [
      "60 \t1     \t1039       \t1.57142 \n",
      "60 \t2     \t1199       \t1.53598 \n",
      "60 \t3     \t1393       \t1.54578 \n",
      "60 \t4     \t1511       \t1.55468 \n",
      "\n",
      "\n"
     ]
    },
    {
     "name": "stdout",
     "output_type": "stream",
     "text": [
      "70 \t1     \t1394       \t1.53062 \n",
      "70 \t2     \t1209       \t1.5252  \n",
      "70 \t3     \t1200       \t1.48128 \n",
      "70 \t4     \t1637       \t1.52324 \n",
      "\n",
      "\n"
     ]
    },
    {
     "name": "stdout",
     "output_type": "stream",
     "text": [
      "80 \t1     \t1385       \t1.4588  \n",
      "80 \t2     \t1121       \t1.51094 \n",
      "80 \t3     \t1354       \t1.46292 \n",
      "80 \t4     \t1371       \t1.46696 \n",
      "\n",
      "\n"
     ]
    },
    {
     "name": "stdout",
     "output_type": "stream",
     "text": [
      "90 \t1     \t1414       \t1.42323 \n",
      "90 \t2     \t1379       \t1.43775 \n",
      "90 \t3     \t1543       \t1.43761 \n",
      "90 \t4     \t1572       \t1.44754 \n",
      "\n",
      "\n"
     ]
    },
    {
     "name": "stdout",
     "output_type": "stream",
     "text": [
      "100\t1     \t1447       \t1.42263 \n",
      "100\t2     \t1491       \t1.40646 \n",
      "100\t3     \t1518       \t1.41549 \n",
      "100\t4     \t1469       \t1.42627 \n",
      "\n",
      "\n"
     ]
    },
    {
     "name": "stdout",
     "output_type": "stream",
     "text": [
      "110\t1     \t1567       \t1.39923 \n",
      "110\t2     \t1425       \t1.40384 \n",
      "110\t3     \t1567       \t1.3994  \n",
      "110\t4     \t1599       \t1.38565 \n",
      "\n",
      "\n"
     ]
    },
    {
     "name": "stdout",
     "output_type": "stream",
     "text": [
      "120\t1     \t1804       \t1.36746 \n",
      "120\t2     \t1604       \t1.37176 \n",
      "120\t3     \t1861       \t1.38263 \n",
      "120\t4     \t1881       \t1.36339 \n",
      "\n",
      "\n"
     ]
    },
    {
     "name": "stdout",
     "output_type": "stream",
     "text": [
      "130\t1     \t1775       \t1.34895 \n",
      "130\t2     \t1981       \t1.35258 \n",
      "130\t3     \t1985       \t1.35161 \n",
      "130\t4     \t1902       \t1.35494 \n",
      "\n",
      "\n"
     ]
    },
    {
     "name": "stdout",
     "output_type": "stream",
     "text": [
      "140\t1     \t2073       \t1.33028 \n",
      "140\t2     \t1988       \t1.34026 \n",
      "140\t3     \t1554       \t1.34451 \n",
      "140\t4     \t2085       \t1.33459 \n",
      "\n",
      "\n"
     ]
    },
    {
     "name": "stdout",
     "output_type": "stream",
     "text": [
      "150\t1     \t1511       \t1.32885 \n",
      "150\t2     \t1819       \t1.32066 \n",
      "150\t3     \t1792       \t1.31993 \n",
      "150\t4     \t1609       \t1.3336  \n",
      "\n",
      "\n"
     ]
    },
    {
     "name": "stdout",
     "output_type": "stream",
     "text": [
      "160\t1     \t1767       \t1.31754 \n",
      "160\t2     \t1511       \t1.32885 \n",
      "160\t3     \t1734       \t1.322   \n",
      "160\t4     \t1819       \t1.32066 \n",
      "\n",
      "\n"
     ]
    },
    {
     "name": "stdout",
     "output_type": "stream",
     "text": [
      "170\t1     \t1811       \t1.31351 \n",
      "170\t2     \t1549       \t1.31294 \n",
      "170\t3     \t1803       \t1.30545 \n",
      "170\t4     \t1920       \t1.29322 \n",
      "\n",
      "\n"
     ]
    },
    {
     "name": "stdout",
     "output_type": "stream",
     "text": [
      "180\t1     \t1894       \t1.29136 \n",
      "180\t2     \t1976       \t1.27255 \n",
      "180\t3     \t1742       \t1.29395 \n",
      "180\t4     \t1748       \t1.28634 \n",
      "\n",
      "\n"
     ]
    },
    {
     "name": "stdout",
     "output_type": "stream",
     "text": [
      "190\t1     \t1700       \t1.2711  \n",
      "190\t2     \t1879       \t1.27594 \n",
      "190\t3     \t2036       \t1.26117 \n",
      "190\t4     \t1988       \t1.25528 \n",
      "\n",
      "\n"
     ]
    },
    {
     "name": "stdout",
     "output_type": "stream",
     "text": [
      "200\t1     \t2015       \t1.24888 \n",
      "200\t2     \t1988       \t1.25528 \n",
      "200\t3     \t2043       \t1.25136 \n",
      "200\t4     \t2280       \t1.24989 \n",
      "\n",
      "\n"
     ]
    },
    {
     "name": "stdout",
     "output_type": "stream",
     "text": [
      "210\t1     \t2349       \t1.24446 \n",
      "210\t2     \t2372       \t1.24198 \n",
      "210\t3     \t2044       \t1.23489 \n",
      "210\t4     \t2073       \t1.2383  \n",
      "\n",
      "\n"
     ]
    },
    {
     "name": "stdout",
     "output_type": "stream",
     "text": [
      "220\t1     \t2200       \t1.22956 \n",
      "220\t2     \t2042       \t1.23594 \n",
      "220\t3     \t2448       \t1.22854 \n",
      "220\t4     \t2013       \t1.22051 \n",
      "\n",
      "\n"
     ]
    },
    {
     "name": "stdout",
     "output_type": "stream",
     "text": [
      "230\t1     \t2448       \t1.22854 \n",
      "230\t2     \t2013       \t1.22051 \n",
      "230\t3     \t2184       \t1.22308 \n",
      "230\t4     \t2138       \t1.22583 \n",
      "\n",
      "\n"
     ]
    },
    {
     "name": "stdout",
     "output_type": "stream",
     "text": [
      "240\t1     \t1951       \t1.21971 \n",
      "240\t2     \t2004       \t1.21766 \n",
      "240\t3     \t2198       \t1.20843 \n",
      "240\t4     \t1951       \t1.21903 \n",
      "\n",
      "\n"
     ]
    },
    {
     "name": "stdout",
     "output_type": "stream",
     "text": [
      "250\t1     \t2261       \t1.20467 \n",
      "250\t2     \t2008       \t1.21767 \n",
      "250\t3     \t2187       \t1.20903 \n",
      "250\t4     \t2242       \t1.20816 \n",
      "\n",
      "\n"
     ]
    },
    {
     "name": "stdout",
     "output_type": "stream",
     "text": [
      "260\t1     \t2123       \t1.19866 \n",
      "260\t2     \t2206       \t1.20464 \n",
      "260\t3     \t2157       \t1.20324 \n",
      "260\t4     \t2159       \t1.19803 \n",
      "\n",
      "\n"
     ]
    },
    {
     "name": "stdout",
     "output_type": "stream",
     "text": [
      "270\t1     \t2130       \t1.19967 \n",
      "270\t2     \t2277       \t1.18695 \n",
      "270\t3     \t2211       \t1.1952  \n",
      "270\t4     \t2238       \t1.19531 \n",
      "\n",
      "\n"
     ]
    },
    {
     "name": "stdout",
     "output_type": "stream",
     "text": [
      "280\t1     \t2407       \t1.18722 \n",
      "280\t2     \t2116       \t1.19056 \n",
      "280\t3     \t2361       \t1.18102 \n",
      "280\t4     \t2579       \t1.18177 \n",
      "\n",
      "\n"
     ]
    },
    {
     "name": "stdout",
     "output_type": "stream",
     "text": [
      "290\t1     \t2527       \t1.1688  \n",
      "290\t2     \t2551       \t1.18057 \n",
      "290\t3     \t2365       \t1.17702 \n",
      "290\t4     \t2528       \t1.17178 \n",
      "\n",
      "\n"
     ]
    },
    {
     "name": "stdout",
     "output_type": "stream",
     "text": [
      "300\t1     \t2382       \t1.16907 \n",
      "300\t2     \t2527       \t1.1688  \n",
      "300\t3     \t2681       \t1.15874 \n",
      "300\t4     \t2283       \t1.16693 \n",
      "\n",
      "\n"
     ]
    },
    {
     "name": "stdout",
     "output_type": "stream",
     "text": [
      "310\t1     \t2869       \t1.15693 \n",
      "310\t2     \t2280       \t1.16534 \n",
      "310\t3     \t2659       \t1.15446 \n",
      "310\t4     \t2761       \t1.15395 \n",
      "\n",
      "\n"
     ]
    },
    {
     "name": "stdout",
     "output_type": "stream",
     "text": [
      "320\t1     \t2738       \t1.15146 \n",
      "320\t2     \t2761       \t1.15395 \n",
      "320\t3     \t2770       \t1.14944 \n",
      "320\t4     \t2880       \t1.14074 \n",
      "\n",
      "\n"
     ]
    },
    {
     "name": "stdout",
     "output_type": "stream",
     "text": [
      "330\t1     \t2813       \t1.13899 \n",
      "330\t2     \t2937       \t1.13894 \n",
      "330\t3     \t2521       \t1.14612 \n",
      "330\t4     \t2860       \t1.14861 \n",
      "\n",
      "\n"
     ]
    },
    {
     "name": "stdout",
     "output_type": "stream",
     "text": [
      "340\t1     \t2757       \t1.13753 \n",
      "340\t2     \t2773       \t1.13614 \n",
      "340\t3     \t3125       \t1.1272  \n",
      "340\t4     \t2996       \t1.13407 \n",
      "\n",
      "\n"
     ]
    },
    {
     "name": "stdout",
     "output_type": "stream",
     "text": [
      "350\t1     \t3319       \t1.12048 \n",
      "350\t2     \t2996       \t1.13407 \n",
      "350\t3     \t2716       \t1.131   \n",
      "350\t4     \t3323       \t1.12549 \n",
      "\n",
      "\n"
     ]
    },
    {
     "name": "stdout",
     "output_type": "stream",
     "text": [
      "360\t1     \t3226       \t1.11986 \n",
      "360\t2     \t3191       \t1.11811 \n",
      "360\t3     \t3281       \t1.11918 \n",
      "360\t4     \t3273       \t1.12141 \n",
      "\n",
      "\n"
     ]
    },
    {
     "name": "stdout",
     "output_type": "stream",
     "text": [
      "370\t1     \t3020       \t1.11629 \n",
      "370\t2     \t3139       \t1.12035 \n",
      "370\t3     \t3315       \t1.11342 \n",
      "370\t4     \t3352       \t1.1163  \n",
      "\n",
      "\n"
     ]
    },
    {
     "name": "stdout",
     "output_type": "stream",
     "text": [
      "380\t1     \t3297       \t1.11269 \n",
      "380\t2     \t3352       \t1.1163  \n",
      "380\t3     \t3064       \t1.10621 \n",
      "380\t4     \t3438       \t1.10812 \n",
      "\n",
      "\n"
     ]
    },
    {
     "name": "stdout",
     "output_type": "stream",
     "text": [
      "390\t1     \t3098       \t1.10426 \n",
      "390\t2     \t3438       \t1.10812 \n",
      "390\t3     \t3008       \t1.1006  \n",
      "390\t4     \t3001       \t1.10226 \n",
      "\n",
      "\n"
     ]
    },
    {
     "name": "stdout",
     "output_type": "stream",
     "text": [
      "400\t1     \t2874       \t1.09806 \n",
      "400\t2     \t2994       \t1.09984 \n",
      "400\t3     \t2997       \t1.10029 \n",
      "400\t4     \t3004       \t1.09988 \n",
      "\n",
      "\n"
     ]
    },
    {
     "name": "stdout",
     "output_type": "stream",
     "text": [
      "410\t1     \t3087       \t1.09793 \n",
      "410\t2     \t3004       \t1.09988 \n",
      "410\t3     \t2935       \t1.095   \n",
      "410\t4     \t3081       \t1.09285 \n",
      "\n",
      "\n"
     ]
    },
    {
     "name": "stdout",
     "output_type": "stream",
     "text": [
      "420\t1     \t2861       \t1.08822 \n",
      "420\t2     \t3081       \t1.09285 \n",
      "420\t3     \t2897       \t1.09073 \n",
      "420\t4     \t2894       \t1.09068 \n",
      "\n",
      "\n"
     ]
    },
    {
     "name": "stdout",
     "output_type": "stream",
     "text": [
      "430\t1     \t2961       \t1.07982 \n",
      "430\t2     \t2839       \t1.08813 \n",
      "430\t3     \t2922       \t1.08619 \n",
      "430\t4     \t3001       \t1.07986 \n",
      "\n",
      "\n"
     ]
    },
    {
     "name": "stdout",
     "output_type": "stream",
     "text": [
      "440\t1     \t3066       \t1.07447 \n",
      "440\t2     \t2935       \t1.07725 \n",
      "440\t3     \t2961       \t1.07982 \n",
      "440\t4     \t2904       \t1.08172 \n",
      "\n",
      "\n"
     ]
    },
    {
     "name": "stdout",
     "output_type": "stream",
     "text": [
      "450\t1     \t2960       \t1.07152 \n",
      "450\t2     \t2978       \t1.07518 \n",
      "450\t3     \t3029       \t1.07372 \n",
      "450\t4     \t2897       \t1.07662 \n",
      "\n",
      "\n"
     ]
    },
    {
     "name": "stdout",
     "output_type": "stream",
     "text": [
      "460\t1     \t3115       \t1.07255 \n",
      "460\t2     \t3049       \t1.06884 \n",
      "460\t3     \t3058       \t1.06999 \n",
      "460\t4     \t3220       \t1.06385 \n",
      "\n",
      "\n"
     ]
    },
    {
     "name": "stdout",
     "output_type": "stream",
     "text": [
      "470\t1     \t3144       \t1.0661  \n",
      "470\t2     \t3186       \t1.06056 \n",
      "470\t3     \t2975       \t1.06252 \n",
      "470\t4     \t3030       \t1.06396 \n",
      "\n",
      "\n"
     ]
    },
    {
     "name": "stdout",
     "output_type": "stream",
     "text": [
      "480\t1     \t3069       \t1.06018 \n",
      "480\t2     \t3103       \t1.06069 \n",
      "480\t3     \t3157       \t1.05541 \n",
      "480\t4     \t3186       \t1.06056 \n",
      "\n",
      "\n"
     ]
    },
    {
     "name": "stdout",
     "output_type": "stream",
     "text": [
      "490\t1     \t3211       \t1.04727 \n",
      "490\t2     \t3186       \t1.06056 \n",
      "490\t3     \t3126       \t1.05212 \n",
      "490\t4     \t3048       \t1.04918 \n",
      "\n",
      "\n"
     ]
    },
    {
     "name": "stdout",
     "output_type": "stream",
     "text": [
      "500\t1     \t3021       \t1.04871 \n",
      "500\t2     \t3208       \t1.04486 \n",
      "500\t3     \t3205       \t1.04219 \n",
      "500\t4     \t3108       \t1.04664 \n",
      "\n",
      "\n"
     ]
    },
    {
     "name": "stdout",
     "output_type": "stream",
     "text": [
      "510\t1     \t3248       \t1.0385  \n",
      "510\t2     \t3109       \t1.04116 \n",
      "510\t3     \t3188       \t1.04206 \n",
      "510\t4     \t3348       \t1.03012 \n",
      "\n",
      "\n"
     ]
    },
    {
     "name": "stdout",
     "output_type": "stream",
     "text": [
      "520\t1     \t3219       \t1.02482 \n",
      "520\t2     \t3330       \t1.02289 \n",
      "520\t3     \t3422       \t1.03381 \n",
      "520\t4     \t3178       \t1.03577 \n",
      "\n",
      "\n"
     ]
    },
    {
     "name": "stdout",
     "output_type": "stream",
     "text": [
      "530\t1     \t3592       \t1.02811 \n",
      "530\t2     \t3211       \t1.03293 \n",
      "530\t3     \t3424       \t1.02273 \n",
      "530\t4     \t3330       \t1.02289 \n",
      "\n",
      "\n"
     ]
    },
    {
     "name": "stdout",
     "output_type": "stream",
     "text": [
      "540\t1     \t3418       \t1.01805 \n",
      "540\t2     \t3330       \t1.02289 \n",
      "540\t3     \t3544       \t1.02494 \n",
      "540\t4     \t3576       \t1.0074  \n",
      "\n",
      "\n"
     ]
    },
    {
     "name": "stdout",
     "output_type": "stream",
     "text": [
      "550\t1     \t3574       \t1.0091  \n",
      "550\t2     \t3576       \t1.0074  \n",
      "550\t3     \t3508       \t1.0157  \n",
      "550\t4     \t3478       \t1.01097 \n",
      "\n",
      "\n"
     ]
    },
    {
     "name": "stdout",
     "output_type": "stream",
     "text": [
      "560\t1     \t3664       \t0.999138\n",
      "560\t2     \t3457       \t1.00791 \n",
      "560\t3     \t3668       \t1.00689 \n",
      "560\t4     \t3668       \t1.00379 \n",
      "\n",
      "\n"
     ]
    },
    {
     "name": "stdout",
     "output_type": "stream",
     "text": [
      "570\t1     \t3668       \t1.00689 \n",
      "570\t2     \t3555       \t0.999615\n",
      "570\t3     \t3914       \t0.987772\n",
      "570\t4     \t3533       \t1.00327 \n",
      "\n",
      "\n"
     ]
    },
    {
     "name": "stdout",
     "output_type": "stream",
     "text": [
      "580\t1     \t3914       \t0.987772\n",
      "580\t2     \t3533       \t1.00327 \n",
      "580\t3     \t3714       \t0.990506\n",
      "580\t4     \t3826       \t0.98936 \n",
      "\n",
      "\n"
     ]
    },
    {
     "name": "stdout",
     "output_type": "stream",
     "text": [
      "590\t1     \t3914       \t0.987772\n",
      "590\t2     \t3826       \t0.98936 \n",
      "590\t3     \t3921       \t0.984937\n",
      "590\t4     \t3654       \t0.984186\n",
      "\n",
      "\n"
     ]
    },
    {
     "name": "stdout",
     "output_type": "stream",
     "text": [
      "600\t1     \t3637       \t0.983802\n",
      "600\t2     \t3824       \t0.984899\n",
      "600\t3     \t3824       \t0.984899\n",
      "600\t4     \t3756       \t0.984171\n",
      "\n",
      "\n"
     ]
    },
    {
     "name": "stdout",
     "output_type": "stream",
     "text": [
      "610\t1     \t3897       \t0.982514\n",
      "610\t2     \t3781       \t0.975531\n",
      "610\t3     \t4034       \t0.972095\n",
      "610\t4     \t3992       \t0.973166\n",
      "\n",
      "\n"
     ]
    },
    {
     "name": "stdout",
     "output_type": "stream",
     "text": [
      "620\t1     \t4137       \t0.955821\n",
      "620\t2     \t3557       \t0.970754\n",
      "620\t3     \t3637       \t0.964726\n",
      "620\t4     \t4096       \t0.939701\n",
      "\n",
      "\n"
     ]
    },
    {
     "name": "stdout",
     "output_type": "stream",
     "text": [
      "630\t1     \t4134       \t0.952261\n",
      "630\t2     \t4096       \t0.939701\n",
      "630\t3     \t3597       \t0.957585\n",
      "630\t4     \t4153       \t0.929379\n",
      "\n",
      "\n"
     ]
    },
    {
     "name": "stdout",
     "output_type": "stream",
     "text": [
      "640\t1     \t4142       \t0.928467\n",
      "640\t2     \t4128       \t0.921463\n",
      "640\t3     \t4096       \t0.936841\n",
      "640\t4     \t3851       \t0.925682\n",
      "\n",
      "\n"
     ]
    },
    {
     "name": "stdout",
     "output_type": "stream",
     "text": [
      "650\t1     \t3824       \t0.921329\n",
      "650\t2     \t4010       \t0.913005\n",
      "650\t3     \t4263       \t0.892022\n",
      "650\t4     \t4095       \t0.92006 \n",
      "\n",
      "\n"
     ]
    },
    {
     "name": "stdout",
     "output_type": "stream",
     "text": [
      "660\t1     \t3750       \t0.92135 \n",
      "660\t2     \t3771       \t0.916601\n",
      "660\t3     \t4059       \t0.872856\n",
      "660\t4     \t4489       \t0.865845\n",
      "\n",
      "\n"
     ]
    },
    {
     "name": "stdout",
     "output_type": "stream",
     "text": [
      "670\t1     \t4424       \t0.851001\n",
      "670\t2     \t3482       \t0.892554\n",
      "670\t3     \t4071       \t0.878054\n",
      "670\t4     \t4129       \t0.863795\n",
      "\n",
      "\n"
     ]
    },
    {
     "name": "stdout",
     "output_type": "stream",
     "text": [
      "680\t1     \t4087       \t0.861965\n",
      "680\t2     \t4389       \t0.853337\n",
      "680\t3     \t4407       \t0.84921 \n",
      "680\t4     \t4155       \t0.854915\n",
      "\n",
      "\n"
     ]
    },
    {
     "name": "stdout",
     "output_type": "stream",
     "text": [
      "690\t1     \t3992       \t0.836325\n",
      "690\t2     \t4259       \t0.852347\n",
      "690\t3     \t4178       \t0.847598\n",
      "690\t4     \t4357       \t0.845718\n",
      "\n",
      "\n"
     ]
    },
    {
     "name": "stdout",
     "output_type": "stream",
     "text": [
      "700\t1     \t3919       \t0.848546\n",
      "700\t2     \t3992       \t0.836325\n",
      "700\t3     \t3701       \t0.829122\n",
      "700\t4     \t4256       \t0.81669 \n",
      "\n",
      "\n"
     ]
    },
    {
     "name": "stdout",
     "output_type": "stream",
     "text": [
      "710\t1     \t4086       \t0.790641\n",
      "710\t2     \t3880       \t0.857003\n",
      "710\t3     \t3907       \t0.806804\n",
      "710\t4     \t4092       \t0.783849\n",
      "\n",
      "\n"
     ]
    },
    {
     "name": "stdout",
     "output_type": "stream",
     "text": [
      "720\t1     \t4012       \t0.78608 \n",
      "720\t2     \t4092       \t0.783849\n",
      "720\t3     \t4086       \t0.790641\n",
      "720\t4     \t3855       \t0.764882\n",
      "\n",
      "\n"
     ]
    },
    {
     "name": "stdout",
     "output_type": "stream",
     "text": [
      "730\t1     \t3764       \t0.79117 \n",
      "730\t2     \t3855       \t0.764882\n",
      "730\t3     \t3627       \t0.776424\n",
      "730\t4     \t4038       \t0.767384\n",
      "\n",
      "\n"
     ]
    },
    {
     "name": "stdout",
     "output_type": "stream",
     "text": [
      "740\t1     \t3691       \t0.744317\n",
      "740\t2     \t3680       \t0.786704\n",
      "740\t3     \t3750       \t0.770767\n",
      "740\t4     \t3895       \t0.747202\n",
      "\n",
      "\n"
     ]
    },
    {
     "name": "stdout",
     "output_type": "stream",
     "text": [
      "750\t1     \t3889       \t0.708105\n",
      "750\t2     \t3571       \t0.752632\n",
      "750\t3     \t3676       \t0.741855\n",
      "750\t4     \t3728       \t0.72738 \n",
      "\n",
      "\n"
     ]
    },
    {
     "name": "stdout",
     "output_type": "stream",
     "text": [
      "760\t1     \t3720       \t0.727265\n",
      "760\t2     \t3787       \t0.718348\n",
      "760\t3     \t3809       \t0.690227\n",
      "760\t4     \t3905       \t0.693578\n",
      "\n",
      "\n"
     ]
    },
    {
     "name": "stdout",
     "output_type": "stream",
     "text": [
      "770\t1     \t3859       \t0.66172 \n",
      "770\t2     \t3905       \t0.693578\n",
      "770\t3     \t3742       \t0.709368\n",
      "770\t4     \t3809       \t0.690227\n",
      "\n",
      "\n"
     ]
    },
    {
     "name": "stdout",
     "output_type": "stream",
     "text": [
      "780\t1     \t3809       \t0.690227\n",
      "780\t2     \t3842       \t0.658988\n",
      "780\t3     \t4023       \t0.641963\n",
      "780\t4     \t3577       \t0.709057\n",
      "\n",
      "\n"
     ]
    },
    {
     "name": "stdout",
     "output_type": "stream",
     "text": [
      "790\t1     \t3809       \t0.690227\n",
      "790\t2     \t3769       \t0.657535\n",
      "790\t3     \t3798       \t0.636376\n",
      "790\t4     \t3910       \t0.634405\n",
      "\n",
      "\n"
     ]
    },
    {
     "name": "stdout",
     "output_type": "stream",
     "text": [
      "800\t1     \t3929       \t0.607156\n",
      "800\t2     \t3634       \t0.661195\n",
      "800\t3     \t3685       \t0.655543\n",
      "800\t4     \t3880       \t0.629828\n",
      "\n",
      "\n"
     ]
    },
    {
     "name": "stdout",
     "output_type": "stream",
     "text": [
      "810\t1     \t3922       \t0.593259\n",
      "810\t2     \t3660       \t0.601236\n",
      "810\t3     \t4111       \t0.597616\n",
      "810\t4     \t3855       \t0.601338\n",
      "\n",
      "\n"
     ]
    },
    {
     "name": "stdout",
     "output_type": "stream",
     "text": [
      "820\t1     \t3817       \t0.581558\n",
      "820\t2     \t3909       \t0.580521\n",
      "820\t3     \t4101       \t0.592225\n",
      "820\t4     \t3748       \t0.581762\n",
      "\n",
      "\n"
     ]
    },
    {
     "name": "stdout",
     "output_type": "stream",
     "text": [
      "830\t1     \t3643       \t0.533642\n",
      "830\t2     \t3790       \t0.577602\n",
      "830\t3     \t3909       \t0.580521\n",
      "830\t4     \t3710       \t0.57234 \n",
      "\n",
      "\n"
     ]
    },
    {
     "name": "stdout",
     "output_type": "stream",
     "text": [
      "840\t1     \t3634       \t0.54857 \n",
      "840\t2     \t3633       \t0.521366\n",
      "840\t3     \t3737       \t0.527269\n",
      "840\t4     \t3798       \t0.516949\n",
      "\n",
      "\n"
     ]
    },
    {
     "name": "stdout",
     "output_type": "stream",
     "text": [
      "850\t1     \t3776       \t0.501839\n",
      "850\t2     \t3575       \t0.539283\n",
      "850\t3     \t3633       \t0.521366\n",
      "850\t4     \t3626       \t0.513466\n",
      "\n",
      "\n"
     ]
    },
    {
     "name": "stdout",
     "output_type": "stream",
     "text": [
      "860\t1     \t3529       \t0.478476\n",
      "860\t2     \t3529       \t0.489485\n",
      "860\t3     \t3678       \t0.477146\n",
      "860\t4     \t3860       \t0.456098\n",
      "\n",
      "\n"
     ]
    },
    {
     "name": "stdout",
     "output_type": "stream",
     "text": [
      "870\t1     \t3851       \t0.450861\n",
      "870\t2     \t3860       \t0.456098\n",
      "870\t3     \t3730       \t0.446435\n",
      "870\t4     \t3764       \t0.46573 \n",
      "\n",
      "\n"
     ]
    },
    {
     "name": "stdout",
     "output_type": "stream",
     "text": [
      "880\t1     \t3804       \t0.440581\n",
      "880\t2     \t3631       \t0.436621\n",
      "880\t3     \t3595       \t0.448786\n",
      "880\t4     \t3745       \t0.401624\n",
      "\n",
      "\n"
     ]
    },
    {
     "name": "stdout",
     "output_type": "stream",
     "text": [
      "890\t1     \t3732       \t0.397313\n",
      "890\t2     \t3723       \t0.394049\n",
      "890\t3     \t3616       \t0.435578\n",
      "890\t4     \t3719       \t0.384613\n",
      "\n",
      "\n"
     ]
    },
    {
     "name": "stdout",
     "output_type": "stream",
     "text": [
      "900\t1     \t3804       \t0.407542\n",
      "900\t2     \t3677       \t0.378876\n",
      "900\t3     \t3723       \t0.394049\n",
      "900\t4     \t3723       \t0.394049\n",
      "\n",
      "\n"
     ]
    },
    {
     "name": "stdout",
     "output_type": "stream",
     "text": [
      "910\t1     \t3368       \t0.437465\n",
      "910\t2     \t3677       \t0.378876\n",
      "910\t3     \t3677       \t0.378876\n",
      "910\t4     \t3961       \t0.345665\n",
      "\n",
      "\n"
     ]
    },
    {
     "name": "stdout",
     "output_type": "stream",
     "text": [
      "920\t1     \t3905       \t0.323835\n",
      "920\t2     \t3898       \t0.333317\n",
      "920\t3     \t3772       \t0.344852\n",
      "920\t4     \t3850       \t0.329643\n",
      "\n",
      "\n"
     ]
    },
    {
     "name": "stdout",
     "output_type": "stream",
     "text": [
      "930\t1     \t3896       \t0.347806\n",
      "930\t2     \t3883       \t0.334743\n",
      "930\t3     \t3883       \t0.308177\n",
      "930\t4     \t4069       \t0.288589\n",
      "\n",
      "\n"
     ]
    },
    {
     "name": "stdout",
     "output_type": "stream",
     "text": [
      "940\t1     \t3697       \t0.326905\n",
      "940\t2     \t3864       \t0.273828\n",
      "940\t3     \t3948       \t0.306552\n",
      "940\t4     \t3759       \t0.292161\n",
      "\n",
      "\n"
     ]
    },
    {
     "name": "stdout",
     "output_type": "stream",
     "text": [
      "950\t1     \t3870       \t0.271578\n",
      "950\t2     \t3682       \t0.319878\n",
      "950\t3     \t3862       \t0.263828\n",
      "950\t4     \t3782       \t0.273825\n",
      "\n",
      "\n"
     ]
    },
    {
     "name": "stdout",
     "output_type": "stream",
     "text": [
      "960\t1     \t3768       \t0.258628\n",
      "960\t2     \t3859       \t0.26984 \n",
      "960\t3     \t3661       \t0.240331\n",
      "960\t4     \t3846       \t0.214463\n",
      "\n",
      "\n"
     ]
    },
    {
     "name": "stdout",
     "output_type": "stream",
     "text": [
      "970\t1     \t3830       \t0.207442\n",
      "970\t2     \t3728       \t0.208255\n",
      "970\t3     \t3842       \t0.235642\n",
      "970\t4     \t3721       \t0.237175\n",
      "\n",
      "\n"
     ]
    },
    {
     "name": "stdout",
     "output_type": "stream",
     "text": [
      "980\t1     \t3948       \t0.204888\n",
      "980\t2     \t3717       \t-0      \n",
      "980\t3     \t3734       \t0.205093\n",
      "980\t4     \t3975       \t-0      \n",
      "\n",
      "\n"
     ]
    },
    {
     "name": "stdout",
     "output_type": "stream",
     "text": [
      "990\t1     \t3808       \t-0      \n",
      "990\t2     \t3686       \t-0      \n",
      "990\t3     \t3668       \t-0      \n",
      "990\t4     \t3774       \t-0      \n",
      "\n",
      "\n"
     ]
    },
    {
     "name": "stdout",
     "output_type": "stream",
     "text": [
      "1000\t1     \t3694       \t-0      \n",
      "1000\t2     \t3784       \t-0      \n",
      "1000\t3     \t3686       \t-0      \n",
      "1000\t4     \t3668       \t-0      \n",
      "\n",
      "\n"
     ]
    },
    {
     "name": "stdout",
     "output_type": "stream",
     "text": [
      "1010\t1     \t3668       \t-0      \n",
      "1010\t2     \t3694       \t-0      \n",
      "1010\t3     \t3716       \t-0      \n",
      "1010\t4     \t3550       \t-0      \n",
      "\n",
      "\n"
     ]
    },
    {
     "name": "stdout",
     "output_type": "stream",
     "text": [
      "1020\t1     \t3498       \t-0      \n",
      "1020\t2     \t3668       \t-0      \n",
      "1020\t3     \t3596       \t-0      \n",
      "1020\t4     \t3564       \t0.237068\n",
      "\n",
      "\n"
     ]
    },
    {
     "name": "stdout",
     "output_type": "stream",
     "text": [
      "1030\t1     \t3436       \t0.210499\n",
      "1030\t2     \t3471       \t-0      \n",
      "1030\t3     \t3489       \t-0      \n",
      "1030\t4     \t3558       \t-0      \n",
      "\n",
      "\n"
     ]
    },
    {
     "name": "stdout",
     "output_type": "stream",
     "text": [
      "1040\t1     \t3558       \t-0      \n",
      "1040\t2     \t3470       \t-0      \n",
      "1040\t3     \t3552       \t-0      \n",
      "1040\t4     \t3489       \t-0      \n",
      "\n",
      "\n"
     ]
    },
    {
     "name": "stdout",
     "output_type": "stream",
     "text": [
      "1050\t1     \t3455       \t-0      \n",
      "1050\t2     \t3548       \t-0      \n",
      "1050\t3     \t3454       \t-0      \n",
      "1050\t4     \t3474       \t-0      \n",
      "\n",
      "\n"
     ]
    },
    {
     "name": "stdout",
     "output_type": "stream",
     "text": [
      "1060\t1     \t3433       \t-0      \n",
      "1060\t2     \t3476       \t-0      \n",
      "1060\t3     \t3409       \t-0      \n",
      "1060\t4     \t3395       \t-0      \n",
      "\n",
      "\n"
     ]
    },
    {
     "name": "stdout",
     "output_type": "stream",
     "text": [
      "1070\t1     \t3381       \t-0      \n",
      "1070\t2     \t3275       \t-0      \n",
      "1070\t3     \t3334       \t-0      \n",
      "1070\t4     \t3279       \t-0      \n",
      "\n",
      "\n"
     ]
    },
    {
     "name": "stdout",
     "output_type": "stream",
     "text": [
      "1080\t1     \t3272       \t-0      \n",
      "1080\t2     \t3079       \t-0      \n",
      "1080\t3     \t3187       \t-0      \n",
      "1080\t4     \t3244       \t0.219552\n",
      "\n",
      "\n"
     ]
    },
    {
     "name": "stdout",
     "output_type": "stream",
     "text": [
      "1090\t1     \t3153       \t-0      \n",
      "1090\t2     \t3092       \t0.234511\n",
      "1090\t3     \t3067       \t-0      \n",
      "1090\t4     \t3176       \t-0      \n",
      "\n",
      "\n"
     ]
    },
    {
     "name": "stdout",
     "output_type": "stream",
     "text": [
      "1100\t1     \t3115       \t-0      \n",
      "1100\t2     \t3153       \t-0      \n",
      "1100\t3     \t3091       \t0.233084\n",
      "1100\t4     \t3039       \t-0      \n",
      "\n",
      "\n"
     ]
    },
    {
     "name": "stdout",
     "output_type": "stream",
     "text": [
      "1110\t1     \t2995       \t-0      \n",
      "1110\t2     \t3092       \t-0      \n",
      "1110\t3     \t3082       \t-0      \n",
      "1110\t4     \t3196       \t-0      \n",
      "\n",
      "\n"
     ]
    },
    {
     "name": "stdout",
     "output_type": "stream",
     "text": [
      "1120\t1     \t3196       \t-0      \n",
      "1120\t2     \t2978       \t-0      \n",
      "1120\t3     \t3071       \t-0      \n",
      "1120\t4     \t3060       \t-0      \n",
      "\n",
      "\n"
     ]
    },
    {
     "name": "stdout",
     "output_type": "stream",
     "text": [
      "1130\t1     \t3060       \t-0      \n",
      "1130\t2     \t2953       \t-0      \n",
      "1130\t3     \t2971       \t-0      \n",
      "1130\t4     \t3021       \t-0      \n",
      "\n",
      "\n"
     ]
    },
    {
     "name": "stdout",
     "output_type": "stream",
     "text": [
      "1140\t1     \t3021       \t-0      \n",
      "1140\t2     \t3029       \t-0      \n",
      "1140\t3     \t2925       \t-0      \n",
      "1140\t4     \t2979       \t-0      \n",
      "\n",
      "\n"
     ]
    },
    {
     "name": "stdout",
     "output_type": "stream",
     "text": [
      "1150\t1     \t3021       \t-0      \n",
      "1150\t2     \t3021       \t-0      \n",
      "1150\t3     \t2925       \t-0      \n",
      "1150\t4     \t2921       \t-0      \n",
      "\n",
      "\n"
     ]
    },
    {
     "name": "stdout",
     "output_type": "stream",
     "text": [
      "1160\t1     \t2877       \t-0      \n",
      "1160\t2     \t2878       \t-0      \n",
      "1160\t3     \t2898       \t-0      \n",
      "1160\t4     \t2894       \t-0      \n",
      "\n",
      "\n"
     ]
    },
    {
     "name": "stdout",
     "output_type": "stream",
     "text": [
      "1170\t1     \t2862       \t-0      \n",
      "1170\t2     \t2848       \t-0      \n",
      "1170\t3     \t2869       \t-0      \n",
      "1170\t4     \t2846       \t-0      \n",
      "\n",
      "\n"
     ]
    },
    {
     "name": "stdout",
     "output_type": "stream",
     "text": [
      "1180\t1     \t2846       \t-0      \n",
      "1180\t2     \t2834       \t-0      \n",
      "1180\t3     \t2788       \t-0      \n",
      "1180\t4     \t2801       \t-0      \n",
      "\n",
      "\n"
     ]
    },
    {
     "name": "stdout",
     "output_type": "stream",
     "text": [
      "1190\t1     \t2801       \t-0      \n",
      "1190\t2     \t2758       \t0.213853\n",
      "1190\t3     \t2820       \t-0      \n",
      "1190\t4     \t2788       \t-0      \n",
      "\n",
      "\n"
     ]
    },
    {
     "name": "stdout",
     "output_type": "stream",
     "text": [
      "1200\t1     \t2769       \t-0      \n",
      "1200\t2     \t2797       \t-0      \n",
      "1200\t3     \t2784       \t-0      \n",
      "1200\t4     \t2793       \t-0      \n",
      "\n",
      "\n"
     ]
    },
    {
     "name": "stdout",
     "output_type": "stream",
     "text": [
      "1210\t1     \t2793       \t-0      \n",
      "1210\t2     \t2757       \t-0      \n",
      "1210\t3     \t2772       \t-0      \n",
      "1210\t4     \t2742       \t-0      \n",
      "\n",
      "\n"
     ]
    },
    {
     "name": "stdout",
     "output_type": "stream",
     "text": [
      "1220\t1     \t2705       \t-0      \n",
      "1220\t2     \t2757       \t-0      \n",
      "1220\t3     \t2695       \t0.241144\n",
      "1220\t4     \t2722       \t-0      \n",
      "\n",
      "\n"
     ]
    },
    {
     "name": "stdout",
     "output_type": "stream",
     "text": [
      "1230\t1     \t2658       \t0.214056\n",
      "1230\t2     \t2669       \t-0      \n",
      "1230\t3     \t2757       \t-0      \n",
      "1230\t4     \t2718       \t-0      \n",
      "\n",
      "\n"
     ]
    },
    {
     "name": "stdout",
     "output_type": "stream",
     "text": [
      "1240\t1     \t2718       \t-0      \n",
      "1240\t2     \t2667       \t-0      \n",
      "1240\t3     \t2730       \t-0      \n",
      "1240\t4     \t2757       \t-0      \n",
      "\n",
      "\n"
     ]
    },
    {
     "name": "stdout",
     "output_type": "stream",
     "text": [
      "1250\t1     \t2723       \t-0      \n",
      "1250\t2     \t2684       \t-0      \n",
      "1250\t3     \t2640       \t-0      \n",
      "1250\t4     \t2744       \t-0      \n",
      "\n",
      "\n"
     ]
    },
    {
     "name": "stdout",
     "output_type": "stream",
     "text": [
      "1260\t1     \t2744       \t-0      \n",
      "1260\t2     \t2706       \t-0      \n",
      "1260\t3     \t2644       \t-0      \n",
      "1260\t4     \t2640       \t-0      \n",
      "\n",
      "\n"
     ]
    },
    {
     "name": "stdout",
     "output_type": "stream",
     "text": [
      "1270\t1     \t2633       \t-0      \n",
      "1270\t2     \t2681       \t-0      \n",
      "1270\t3     \t2623       \t-0      \n",
      "1270\t4     \t2621       \t-0      \n",
      "\n",
      "\n"
     ]
    },
    {
     "name": "stdout",
     "output_type": "stream",
     "text": [
      "1280\t1     \t2576       \t-0      \n",
      "1280\t2     \t2626       \t-0      \n",
      "1280\t3     \t2660       \t-0      \n",
      "1280\t4     \t2589       \t-0      \n",
      "\n",
      "\n"
     ]
    },
    {
     "name": "stdout",
     "output_type": "stream",
     "text": [
      "1290\t1     \t2563       \t-0      \n",
      "1290\t2     \t2576       \t-0      \n",
      "1290\t3     \t2654       \t-0      \n",
      "1290\t4     \t2628       \t-0      \n",
      "\n",
      "\n"
     ]
    },
    {
     "name": "stdout",
     "output_type": "stream",
     "text": [
      "1300\t1     \t2627       \t-0      \n",
      "1300\t2     \t2563       \t-0      \n",
      "1300\t3     \t2575       \t-0      \n",
      "1300\t4     \t2578       \t-0      \n",
      "\n",
      "\n"
     ]
    },
    {
     "name": "stdout",
     "output_type": "stream",
     "text": [
      "1310\t1     \t2570       \t-0      \n",
      "1310\t2     \t2547       \t-0      \n",
      "1310\t3     \t2528       \t-0      \n",
      "1310\t4     \t2575       \t-0      \n",
      "\n",
      "\n"
     ]
    },
    {
     "name": "stdout",
     "output_type": "stream",
     "text": [
      "1320\t1     \t2569       \t-0      \n",
      "1320\t2     \t2493       \t-0      \n",
      "1320\t3     \t2547       \t-0      \n",
      "1320\t4     \t2528       \t-0      \n",
      "\n",
      "\n"
     ]
    },
    {
     "name": "stdout",
     "output_type": "stream",
     "text": [
      "1330\t1     \t2528       \t-0      \n",
      "1330\t2     \t2569       \t-0      \n",
      "1330\t3     \t2467       \t-0      \n",
      "1330\t4     \t2575       \t0.22453 \n",
      "\n",
      "\n"
     ]
    },
    {
     "name": "stdout",
     "output_type": "stream",
     "text": [
      "1340\t1     \t2521       \t0.206218\n",
      "1340\t2     \t2508       \t-0      \n",
      "1340\t3     \t2467       \t-0      \n",
      "1340\t4     \t2604       \t0.220873\n",
      "\n",
      "\n"
     ]
    },
    {
     "name": "stdout",
     "output_type": "stream",
     "text": [
      "1350\t1     \t2360       \t-0      \n",
      "1350\t2     \t2483       \t-0      \n",
      "1350\t3     \t2401       \t-0      \n",
      "1350\t4     \t2460       \t-0      \n",
      "\n",
      "\n"
     ]
    },
    {
     "name": "stdout",
     "output_type": "stream",
     "text": [
      "1360\t1     \t2359       \t0.234103\n",
      "1360\t2     \t2360       \t-0      \n",
      "1360\t3     \t2387       \t-0      \n",
      "1360\t4     \t2397       \t-0      \n",
      "\n",
      "\n"
     ]
    },
    {
     "name": "stdout",
     "output_type": "stream",
     "text": [
      "1370\t1     \t2397       \t-0      \n",
      "1370\t2     \t2360       \t-0      \n",
      "1370\t3     \t2372       \t-0      \n",
      "1370\t4     \t2371       \t-0      \n",
      "\n",
      "\n"
     ]
    },
    {
     "name": "stdout",
     "output_type": "stream",
     "text": [
      "1380\t1     \t2371       \t-0      \n",
      "1380\t2     \t2351       \t-0      \n",
      "1380\t3     \t2360       \t-0      \n",
      "1380\t4     \t2370       \t-0      \n",
      "\n",
      "\n"
     ]
    },
    {
     "name": "stdout",
     "output_type": "stream",
     "text": [
      "1390\t1     \t2370       \t-0      \n",
      "1390\t2     \t2351       \t-0      \n",
      "1390\t3     \t2331       \t-0      \n",
      "1390\t4     \t2337       \t-0      \n",
      "\n",
      "\n"
     ]
    },
    {
     "name": "stdout",
     "output_type": "stream",
     "text": [
      "1400\t1     \t2304       \t-0      \n",
      "1400\t2     \t2367       \t-0      \n",
      "1400\t3     \t2347       \t-0      \n",
      "1400\t4     \t2327       \t-0      \n",
      "\n",
      "\n"
     ]
    },
    {
     "name": "stdout",
     "output_type": "stream",
     "text": [
      "1410\t1     \t2304       \t-0      \n",
      "1410\t2     \t2367       \t-0      \n",
      "1410\t3     \t2324       \t0.206832\n",
      "1410\t4     \t2347       \t-0      \n",
      "\n",
      "\n"
     ]
    },
    {
     "name": "stdout",
     "output_type": "stream",
     "text": [
      "1420\t1     \t2303       \t-0      \n",
      "1420\t2     \t2295       \t-0      \n",
      "1420\t3     \t2365       \t-0      \n",
      "1420\t4     \t2343       \t-0      \n",
      "\n",
      "\n"
     ]
    },
    {
     "name": "stdout",
     "output_type": "stream",
     "text": [
      "1430\t1     \t2343       \t-0      \n",
      "1430\t2     \t2273       \t-0      \n",
      "1430\t3     \t2288       \t-0      \n",
      "1430\t4     \t2296       \t-0      \n",
      "\n",
      "\n"
     ]
    },
    {
     "name": "stdout",
     "output_type": "stream",
     "text": [
      "1440\t1     \t2278       \t-0      \n",
      "1440\t2     \t2339       \t-0      \n",
      "1440\t3     \t2253       \t-0      \n",
      "1440\t4     \t2288       \t-0      \n",
      "\n",
      "\n"
     ]
    },
    {
     "name": "stdout",
     "output_type": "stream",
     "text": [
      "1450\t1     \t2274       \t-0      \n",
      "1450\t2     \t2332       \t-0      \n",
      "1450\t3     \t2329       \t-0      \n",
      "1450\t4     \t2246       \t-0      \n",
      "\n",
      "\n"
     ]
    },
    {
     "name": "stdout",
     "output_type": "stream",
     "text": [
      "1460\t1     \t2246       \t-0      \n",
      "1460\t2     \t2274       \t-0      \n",
      "1460\t3     \t2314       \t-0      \n",
      "1460\t4     \t2271       \t-0      \n",
      "\n",
      "\n"
     ]
    },
    {
     "name": "stdout",
     "output_type": "stream",
     "text": [
      "1470\t1     \t2240       \t-0      \n",
      "1470\t2     \t2217       \t-0      \n",
      "1470\t3     \t2247       \t-0      \n",
      "1470\t4     \t2266       \t-0      \n",
      "\n",
      "\n"
     ]
    },
    {
     "name": "stdout",
     "output_type": "stream",
     "text": [
      "1480\t1     \t2239       \t-0      \n",
      "1480\t2     \t2213       \t-0      \n",
      "1480\t3     \t2216       \t-0      \n",
      "1480\t4     \t2243       \t-0      \n",
      "\n",
      "\n"
     ]
    },
    {
     "name": "stdout",
     "output_type": "stream",
     "text": [
      "1490\t1     \t2112       \t0.230751\n",
      "1490\t2     \t2213       \t-0      \n",
      "1490\t3     \t2190       \t-0      \n",
      "1490\t4     \t2211       \t-0      \n",
      "\n",
      "\n"
     ]
    },
    {
     "name": "stdout",
     "output_type": "stream",
     "text": [
      "1500\t1     \t2100       \t0.215984\n",
      "1500\t2     \t2169       \t-0      \n",
      "1500\t3     \t2189       \t-0      \n",
      "1500\t4     \t2202       \t-0      \n",
      "\n",
      "\n"
     ]
    },
    {
     "name": "stdout",
     "output_type": "stream",
     "text": [
      "1510\t1     \t2194       \t-0      \n",
      "1510\t2     \t2097       \t0.210704\n",
      "1510\t3     \t2169       \t-0      \n",
      "1510\t4     \t2189       \t-0      \n",
      "\n",
      "\n"
     ]
    },
    {
     "name": "stdout",
     "output_type": "stream",
     "text": [
      "1520\t1     \t2046       \t0.219551\n",
      "1520\t2     \t2096       \t-0      \n",
      "1520\t3     \t2165       \t-0      \n",
      "1520\t4     \t2176       \t-0      \n",
      "\n",
      "\n"
     ]
    },
    {
     "name": "stdout",
     "output_type": "stream",
     "text": [
      "1530\t1     \t2171       \t-0      \n",
      "1530\t2     \t2095       \t-0      \n",
      "1530\t3     \t2119       \t-0      \n",
      "1530\t4     \t2157       \t-0      \n",
      "\n",
      "\n"
     ]
    },
    {
     "name": "stdout",
     "output_type": "stream",
     "text": [
      "1540\t1     \t2155       \t-0      \n",
      "1540\t2     \t2060       \t-0      \n",
      "1540\t3     \t2095       \t-0      \n",
      "1540\t4     \t2119       \t-0      \n",
      "\n",
      "\n"
     ]
    },
    {
     "name": "stdout",
     "output_type": "stream",
     "text": [
      "1550\t1     \t2117       \t-0      \n",
      "1550\t2     \t2032       \t0.233389\n",
      "1550\t3     \t2060       \t-0      \n",
      "1550\t4     \t2118       \t-0      \n",
      "\n",
      "\n"
     ]
    },
    {
     "name": "stdout",
     "output_type": "stream",
     "text": [
      "1560\t1     \t2113       \t-0      \n",
      "1560\t2     \t2112       \t-0      \n",
      "1560\t3     \t2058       \t-0      \n",
      "1560\t4     \t2115       \t-0      \n",
      "\n",
      "\n"
     ]
    },
    {
     "name": "stdout",
     "output_type": "stream",
     "text": [
      "1570\t1     \t2115       \t-0      \n",
      "1570\t2     \t2113       \t-0      \n",
      "1570\t3     \t2108       \t-0      \n",
      "1570\t4     \t2058       \t-0      \n",
      "\n",
      "\n"
     ]
    },
    {
     "name": "stdout",
     "output_type": "stream",
     "text": [
      "1580\t1     \t2031       \t-0      \n",
      "1580\t2     \t2097       \t-0      \n",
      "1580\t3     \t2103       \t-0      \n",
      "1580\t4     \t2049       \t-0      \n",
      "\n",
      "\n"
     ]
    },
    {
     "name": "stdout",
     "output_type": "stream",
     "text": [
      "1590\t1     \t2049       \t-0      \n",
      "1590\t2     \t2031       \t-0      \n",
      "1590\t3     \t1998       \t-0      \n",
      "1590\t4     \t2080       \t-0      \n",
      "\n",
      "\n"
     ]
    },
    {
     "name": "stdout",
     "output_type": "stream",
     "text": [
      "1600\t1     \t2074       \t-0      \n",
      "1600\t2     \t2030       \t-0      \n",
      "1600\t3     \t2079       \t-0      \n",
      "1600\t4     \t1998       \t-0      \n",
      "\n",
      "\n"
     ]
    },
    {
     "name": "stdout",
     "output_type": "stream",
     "text": [
      "1610\t1     \t1998       \t-0      \n",
      "1610\t2     \t2030       \t-0      \n",
      "1610\t3     \t2026       \t-0      \n",
      "1610\t4     \t1990       \t-0      \n",
      "\n",
      "\n"
     ]
    },
    {
     "name": "stdout",
     "output_type": "stream",
     "text": [
      "1620\t1     \t1974       \t-0      \n",
      "1620\t2     \t1998       \t-0      \n",
      "1620\t3     \t2030       \t-0      \n",
      "1620\t4     \t2026       \t-0      \n",
      "\n",
      "\n"
     ]
    },
    {
     "name": "stdout",
     "output_type": "stream",
     "text": [
      "1630\t1     \t1967       \t-0      \n",
      "1630\t2     \t1974       \t-0      \n",
      "1630\t3     \t1998       \t-0      \n",
      "1630\t4     \t2026       \t-0      \n",
      "\n",
      "\n"
     ]
    },
    {
     "name": "stdout",
     "output_type": "stream",
     "text": [
      "1640\t1     \t2013       \t-0      \n",
      "1640\t2     \t1967       \t-0      \n",
      "1640\t3     \t1974       \t-0      \n",
      "1640\t4     \t2026       \t-0      \n",
      "\n",
      "\n"
     ]
    },
    {
     "name": "stdout",
     "output_type": "stream",
     "text": [
      "1650\t1     \t2026       \t-0      \n",
      "1650\t2     \t1965       \t-0      \n",
      "1650\t3     \t1967       \t-0      \n",
      "1650\t4     \t1974       \t-0      \n",
      "\n",
      "\n"
     ]
    },
    {
     "name": "stdout",
     "output_type": "stream",
     "text": [
      "1660\t1     \t1950       \t-0      \n",
      "1660\t2     \t2012       \t-0      \n",
      "1660\t3     \t1956       \t-0      \n",
      "1660\t4     \t1943       \t-0      \n",
      "\n",
      "\n"
     ]
    },
    {
     "name": "stdout",
     "output_type": "stream",
     "text": [
      "1670\t1     \t1941       \t-0      \n",
      "1670\t2     \t1950       \t-0      \n",
      "1670\t3     \t2006       \t-0      \n",
      "1670\t4     \t1955       \t-0      \n",
      "\n",
      "\n"
     ]
    },
    {
     "name": "stdout",
     "output_type": "stream",
     "text": [
      "1680\t1     \t1953       \t-0      \n",
      "1680\t2     \t1930       \t-0      \n",
      "1680\t3     \t1941       \t-0      \n",
      "1680\t4     \t1931       \t-0      \n",
      "\n",
      "\n"
     ]
    },
    {
     "name": "stdout",
     "output_type": "stream",
     "text": [
      "1690\t1     \t1931       \t-0      \n",
      "1690\t2     \t1941       \t-0      \n",
      "1690\t3     \t1930       \t-0      \n",
      "1690\t4     \t1937       \t-0      \n",
      "\n",
      "\n"
     ]
    },
    {
     "name": "stdout",
     "output_type": "stream",
     "text": [
      "1700\t1     \t1899       \t0.205091\n",
      "1700\t2     \t1918       \t-0      \n",
      "1700\t3     \t1906       \t-0      \n",
      "1700\t4     \t1923       \t-0      \n",
      "\n",
      "\n"
     ]
    },
    {
     "name": "stdout",
     "output_type": "stream",
     "text": [
      "1710\t1     \t1923       \t-0      \n",
      "1710\t2     \t1896       \t-0      \n",
      "1710\t3     \t1918       \t-0      \n",
      "1710\t4     \t1905       \t-0      \n",
      "\n",
      "\n"
     ]
    },
    {
     "name": "stdout",
     "output_type": "stream",
     "text": [
      "1720\t1     \t1892       \t-0      \n",
      "1720\t2     \t1896       \t-0      \n",
      "1720\t3     \t1905       \t-0      \n",
      "1720\t4     \t2001       \t0.222504\n",
      "\n",
      "\n"
     ]
    },
    {
     "name": "stdout",
     "output_type": "stream",
     "text": [
      "1730\t1     \t1867       \t0.210296\n",
      "1730\t2     \t1892       \t-0      \n",
      "1730\t3     \t1896       \t-0      \n",
      "1730\t4     \t1975       \t-0      \n",
      "\n",
      "\n"
     ]
    },
    {
     "name": "stdout",
     "output_type": "stream",
     "text": [
      "1740\t1     \t1969       \t-0      \n",
      "1740\t2     \t1890       \t-0      \n",
      "1740\t3     \t1889       \t-0      \n",
      "1740\t4     \t1896       \t-0      \n",
      "\n",
      "\n"
     ]
    },
    {
     "name": "stdout",
     "output_type": "stream",
     "text": [
      "1750\t1     \t1896       \t-0      \n",
      "1750\t2     \t1961       \t-0      \n",
      "1750\t3     \t1889       \t-0      \n",
      "1750\t4     \t1896       \t-0      \n",
      "\n",
      "\n"
     ]
    },
    {
     "name": "stdout",
     "output_type": "stream",
     "text": [
      "1760\t1     \t1896       \t-0      \n",
      "1760\t2     \t1889       \t-0      \n",
      "1760\t3     \t1885       \t-0      \n",
      "1760\t4     \t1876       \t-0      \n",
      "\n",
      "\n"
     ]
    },
    {
     "name": "stdout",
     "output_type": "stream",
     "text": [
      "1770\t1     \t1896       \t-0      \n",
      "1770\t2     \t1888       \t-0      \n",
      "1770\t3     \t1990       \t-0      \n",
      "1770\t4     \t1870       \t-0      \n",
      "\n",
      "\n"
     ]
    },
    {
     "name": "stdout",
     "output_type": "stream",
     "text": [
      "1780\t1     \t1860       \t-0      \n",
      "1780\t2     \t1896       \t-0      \n",
      "1780\t3     \t1865       \t-0      \n",
      "1780\t4     \t1859       \t-0      \n",
      "\n",
      "\n"
     ]
    },
    {
     "name": "stdout",
     "output_type": "stream",
     "text": [
      "1790\t1     \t1860       \t-0      \n",
      "1790\t2     \t1864       \t0.205803\n",
      "1790\t3     \t1858       \t-0      \n",
      "1790\t4     \t1846       \t-0      \n",
      "\n",
      "\n"
     ]
    },
    {
     "name": "stdout",
     "output_type": "stream",
     "text": [
      "1800\t1     \t1845       \t-0      \n",
      "1800\t2     \t1860       \t-0      \n",
      "1800\t3     \t1898       \t-0      \n",
      "1800\t4     \t1848       \t-0      \n",
      "\n",
      "\n"
     ]
    },
    {
     "name": "stdout",
     "output_type": "stream",
     "text": [
      "1810\t1     \t1845       \t-0      \n",
      "1810\t2     \t1845       \t-0      \n",
      "1810\t3     \t1889       \t-0      \n",
      "1810\t4     \t1846       \t-0      \n",
      "\n",
      "\n"
     ]
    },
    {
     "name": "stdout",
     "output_type": "stream",
     "text": [
      "1820\t1     \t1838       \t-0      \n",
      "1820\t2     \t1840       \t-0      \n",
      "1820\t3     \t1845       \t-0      \n",
      "1820\t4     \t1878       \t-0      \n",
      "\n",
      "\n"
     ]
    },
    {
     "name": "stdout",
     "output_type": "stream",
     "text": [
      "1830\t1     \t1827       \t-0      \n",
      "1830\t2     \t1820       \t-0      \n",
      "1830\t3     \t1840       \t-0      \n",
      "1830\t4     \t1843       \t-0      \n",
      "\n",
      "\n"
     ]
    },
    {
     "name": "stdout",
     "output_type": "stream",
     "text": [
      "1840\t1     \t1814       \t-0      \n",
      "1840\t2     \t1742       \t0.231159\n",
      "1840\t3     \t1797       \t-0      \n",
      "1840\t4     \t1840       \t-0      \n",
      "\n",
      "\n"
     ]
    },
    {
     "name": "stdout",
     "output_type": "stream",
     "text": [
      "1850\t1     \t1814       \t-0      \n",
      "1850\t2     \t1730       \t0.224126\n",
      "1850\t3     \t1825       \t-0      \n",
      "1850\t4     \t1791       \t-0      \n",
      "\n",
      "\n"
     ]
    },
    {
     "name": "stdout",
     "output_type": "stream",
     "text": [
      "1860\t1     \t1744       \t0.220873\n",
      "1860\t2     \t1814       \t-0      \n",
      "1860\t3     \t1838       \t-0      \n",
      "1860\t4     \t1789       \t-0      \n",
      "\n",
      "\n"
     ]
    },
    {
     "name": "stdout",
     "output_type": "stream",
     "text": [
      "1870\t1     \t1778       \t-0      \n",
      "1870\t2     \t1811       \t-0      \n",
      "1870\t3     \t1732       \t-0      \n",
      "1870\t4     \t1780       \t-0      \n",
      "\n",
      "\n"
     ]
    },
    {
     "name": "stdout",
     "output_type": "stream",
     "text": [
      "1880\t1     \t1748       \t-0      \n",
      "1880\t2     \t1774       \t-0      \n",
      "1880\t3     \t1811       \t-0      \n",
      "1880\t4     \t1723       \t-0      \n",
      "\n",
      "\n"
     ]
    },
    {
     "name": "stdout",
     "output_type": "stream",
     "text": [
      "1890\t1     \t1739       \t-0      \n",
      "1890\t2     \t1747       \t-0      \n",
      "1890\t3     \t1772       \t-0      \n",
      "1890\t4     \t1723       \t-0      \n",
      "\n",
      "\n"
     ]
    },
    {
     "name": "stdout",
     "output_type": "stream",
     "text": [
      "1900\t1     \t1737       \t-0      \n",
      "1900\t2     \t1735       \t-0      \n",
      "1900\t3     \t1746       \t-0      \n",
      "1900\t4     \t1703       \t-0      \n",
      "\n",
      "\n"
     ]
    },
    {
     "name": "stdout",
     "output_type": "stream",
     "text": [
      "1910\t1     \t1703       \t-0      \n",
      "1910\t2     \t1802       \t0.204989\n",
      "1910\t3     \t1721       \t-0      \n",
      "1910\t4     \t1746       \t-0      \n",
      "\n",
      "\n"
     ]
    },
    {
     "name": "stdout",
     "output_type": "stream",
     "text": [
      "1920\t1     \t1686       \t-0      \n",
      "1920\t2     \t1703       \t-0      \n",
      "1920\t3     \t1710       \t-0      \n",
      "1920\t4     \t1742       \t-0      \n",
      "\n",
      "\n"
     ]
    },
    {
     "name": "stdout",
     "output_type": "stream",
     "text": [
      "1930\t1     \t1683       \t0.235537\n",
      "1930\t2     \t1681       \t-0      \n",
      "1930\t3     \t1693       \t-0      \n",
      "1930\t4     \t1707       \t-0      \n",
      "\n",
      "\n"
     ]
    },
    {
     "name": "stdout",
     "output_type": "stream",
     "text": [
      "1940\t1     \t1701       \t-0      \n",
      "1940\t2     \t1658       \t0.230129\n",
      "1940\t3     \t1681       \t-0      \n",
      "1940\t4     \t1682       \t-0      \n",
      "\n",
      "\n"
     ]
    },
    {
     "name": "stdout",
     "output_type": "stream",
     "text": [
      "1950\t1     \t1682       \t-0      \n",
      "1950\t2     \t1700       \t-0      \n",
      "1950\t3     \t1670       \t-0      \n",
      "1950\t4     \t1671       \t-0      \n",
      "\n",
      "\n"
     ]
    },
    {
     "name": "stdout",
     "output_type": "stream",
     "text": [
      "1960\t1     \t1671       \t-0      \n",
      "1960\t2     \t1698       \t0.208259\n",
      "1960\t3     \t1700       \t-0      \n",
      "1960\t4     \t1670       \t-0      \n",
      "\n",
      "\n"
     ]
    },
    {
     "name": "stdout",
     "output_type": "stream",
     "text": [
      "1970\t1     \t1666       \t-0      \n",
      "1970\t2     \t1671       \t-0      \n",
      "1970\t3     \t1772       \t-0      \n",
      "1970\t4     \t1700       \t-0      \n",
      "\n",
      "\n"
     ]
    },
    {
     "name": "stdout",
     "output_type": "stream",
     "text": [
      "1980\t1     \t1700       \t-0      \n",
      "1980\t2     \t1648       \t-0      \n",
      "1980\t3     \t1758       \t-0      \n",
      "1980\t4     \t1696       \t-0      \n",
      "\n",
      "\n"
     ]
    },
    {
     "name": "stdout",
     "output_type": "stream",
     "text": [
      "1990\t1     \t1690       \t-0      \n",
      "1990\t2     \t1700       \t-0      \n",
      "1990\t3     \t1642       \t-0      \n",
      "1990\t4     \t1753       \t-0      \n",
      "\n",
      "\n"
     ]
    },
    {
     "name": "stdout",
     "output_type": "stream",
     "text": [
      "2000\t1     \t1690       \t-0      \n",
      "2000\t2     \t1690       \t-0      \n",
      "2000\t3     \t1642       \t-0      \n",
      "2000\t4     \t1619       \t0.240335\n",
      "\n",
      "\n"
     ]
    },
    {
     "name": "stdout",
     "output_type": "stream",
     "text": [
      "2010\t1     \t1690       \t-0      \n",
      "2010\t2     \t1687       \t-0      \n",
      "2010\t3     \t1690       \t-0      \n",
      "2010\t4     \t1642       \t-0      \n",
      "\n",
      "\n"
     ]
    },
    {
     "name": "stdout",
     "output_type": "stream",
     "text": [
      "2020\t1     \t1690       \t-0      \n",
      "2020\t2     \t1644       \t-0      \n",
      "2020\t3     \t1685       \t-0      \n",
      "2020\t4     \t1607       \t-0      \n",
      "\n",
      "\n"
     ]
    },
    {
     "name": "stdout",
     "output_type": "stream",
     "text": [
      "2030\t1     \t1607       \t-0      \n",
      "2030\t2     \t1643       \t-0      \n",
      "2030\t3     \t1644       \t-0      \n",
      "2030\t4     \t1604       \t-0      \n",
      "\n",
      "\n"
     ]
    },
    {
     "name": "stdout",
     "output_type": "stream",
     "text": [
      "2040\t1     \t1565       \t0.239012\n",
      "2040\t2     \t1607       \t-0      \n",
      "2040\t3     \t1753       \t-0      \n",
      "2040\t4     \t1597       \t-0      \n",
      "\n",
      "\n"
     ]
    },
    {
     "name": "stdout",
     "output_type": "stream",
     "text": [
      "2050\t1     \t1597       \t-0      \n",
      "2050\t2     \t1602       \t-0      \n",
      "2050\t3     \t1713       \t-0      \n",
      "2050\t4     \t1691       \t-0      \n",
      "\n",
      "\n"
     ]
    },
    {
     "name": "stdout",
     "output_type": "stream",
     "text": [
      "2060\t1     \t1594       \t-0      \n",
      "2060\t2     \t1579       \t0.20917 \n",
      "2060\t3     \t1602       \t-0      \n",
      "2060\t4     \t1684       \t-0      \n",
      "\n",
      "\n"
     ]
    },
    {
     "name": "stdout",
     "output_type": "stream",
     "text": [
      "2070\t1     \t1591       \t-0      \n",
      "2070\t2     \t1579       \t0.20917 \n",
      "2070\t3     \t1691       \t-0      \n",
      "2070\t4     \t1602       \t-0      \n",
      "\n",
      "\n"
     ]
    },
    {
     "name": "stdout",
     "output_type": "stream",
     "text": [
      "2080\t1     \t1590       \t0.207847\n",
      "2080\t2     \t1591       \t-0      \n",
      "2080\t3     \t1578       \t-0      \n",
      "2080\t4     \t1602       \t-0      \n",
      "\n",
      "\n"
     ]
    },
    {
     "name": "stdout",
     "output_type": "stream",
     "text": [
      "2090\t1     \t1591       \t-0      \n",
      "2090\t2     \t1589       \t0.205398\n",
      "2090\t3     \t1591       \t-0      \n",
      "2090\t4     \t1578       \t-0      \n",
      "\n",
      "\n"
     ]
    },
    {
     "name": "stdout",
     "output_type": "stream",
     "text": [
      "2100\t1     \t1570       \t-0      \n",
      "2100\t2     \t1589       \t0.205398\n",
      "2100\t3     \t1591       \t-0      \n",
      "2100\t4     \t1584       \t-0      \n",
      "\n",
      "\n"
     ]
    },
    {
     "name": "stdout",
     "output_type": "stream",
     "text": [
      "2110\t1     \t1568       \t-0      \n",
      "2110\t2     \t1570       \t-0      \n",
      "2110\t3     \t1573       \t-0      \n",
      "2110\t4     \t1591       \t-0      \n",
      "\n",
      "\n"
     ]
    },
    {
     "name": "stdout",
     "output_type": "stream",
     "text": [
      "2120\t1     \t1566       \t-0      \n",
      "2120\t2     \t1568       \t-0      \n",
      "2120\t3     \t1557       \t-0      \n",
      "2120\t4     \t1564       \t-0      \n",
      "\n",
      "\n"
     ]
    },
    {
     "name": "stdout",
     "output_type": "stream",
     "text": [
      "2130\t1     \t1564       \t-0      \n",
      "2130\t2     \t1566       \t-0      \n",
      "2130\t3     \t1563       \t-0      \n",
      "2130\t4     \t1553       \t-0      \n",
      "\n",
      "\n"
     ]
    },
    {
     "name": "stdout",
     "output_type": "stream",
     "text": [
      "2140\t1     \t1551       \t-0      \n",
      "2140\t2     \t1550       \t-0      \n",
      "2140\t3     \t1566       \t-0      \n",
      "2140\t4     \t1563       \t-0      \n",
      "\n",
      "\n"
     ]
    },
    {
     "name": "stdout",
     "output_type": "stream",
     "text": [
      "2150\t1     \t1551       \t-0      \n",
      "2150\t2     \t1550       \t-0      \n",
      "2150\t3     \t1665       \t0.21722 \n",
      "2150\t4     \t1563       \t-0      \n",
      "\n",
      "\n"
     ]
    },
    {
     "name": "stdout",
     "output_type": "stream",
     "text": [
      "2160\t1     \t1550       \t-0      \n",
      "2160\t2     \t1551       \t-0      \n",
      "2160\t3     \t1531       \t-0      \n",
      "2160\t4     \t1557       \t-0      \n",
      "\n",
      "\n"
     ]
    },
    {
     "name": "stdout",
     "output_type": "stream",
     "text": [
      "2170\t1     \t1550       \t-0      \n",
      "2170\t2     \t1550       \t-0      \n",
      "2170\t3     \t1549       \t-0      \n",
      "2170\t4     \t1530       \t-0      \n",
      "\n",
      "\n"
     ]
    },
    {
     "name": "stdout",
     "output_type": "stream",
     "text": [
      "2180\t1     \t1528       \t-0      \n",
      "2180\t2     \t1550       \t-0      \n",
      "2180\t3     \t1550       \t-0      \n",
      "2180\t4     \t1549       \t-0      \n",
      "\n",
      "\n"
     ]
    },
    {
     "name": "stdout",
     "output_type": "stream",
     "text": [
      "2190\t1     \t1549       \t-0      \n",
      "2190\t2     \t1528       \t-0      \n",
      "2190\t3     \t1549       \t-0      \n",
      "2190\t4     \t1532       \t-0      \n",
      "\n",
      "\n"
     ]
    },
    {
     "name": "stdout",
     "output_type": "stream",
     "text": [
      "2200\t1     \t1532       \t-0      \n",
      "2200\t2     \t1527       \t-0      \n",
      "2200\t3     \t1528       \t-0      \n",
      "2200\t4     \t1549       \t-0      \n",
      "\n",
      "\n"
     ]
    },
    {
     "name": "stdout",
     "output_type": "stream",
     "text": [
      "2210\t1     \t1526       \t-0      \n",
      "2210\t2     \t1532       \t-0      \n",
      "2210\t3     \t1526       \t-0      \n",
      "2210\t4     \t1547       \t-0      \n",
      "\n",
      "\n"
     ]
    },
    {
     "name": "stdout",
     "output_type": "stream",
     "text": [
      "2220\t1     \t1526       \t-0      \n",
      "2220\t2     \t1499       \t0.220875\n",
      "2220\t3     \t1523       \t-0      \n",
      "2220\t4     \t1540       \t-0      \n",
      "\n",
      "\n"
     ]
    },
    {
     "name": "stdout",
     "output_type": "stream",
     "text": [
      "2230\t1     \t1526       \t-0      \n",
      "2230\t2     \t1523       \t-0      \n",
      "2230\t3     \t1523       \t-0      \n",
      "2230\t4     \t1523       \t-0      \n",
      "\n",
      "\n"
     ]
    },
    {
     "name": "stdout",
     "output_type": "stream",
     "text": [
      "2240\t1     \t1512       \t-0      \n",
      "2240\t2     \t1523       \t-0      \n",
      "2240\t3     \t1523       \t-0      \n",
      "2240\t4     \t1521       \t-0      \n",
      "\n",
      "\n"
     ]
    },
    {
     "name": "stdout",
     "output_type": "stream",
     "text": [
      "2250\t1     \t1512       \t-0      \n",
      "2250\t2     \t1516       \t-0      \n",
      "2250\t3     \t1517       \t-0      \n",
      "2250\t4     \t1523       \t-0      \n",
      "\n",
      "\n"
     ]
    },
    {
     "name": "stdout",
     "output_type": "stream",
     "text": [
      "2260\t1     \t1511       \t-0      \n",
      "2260\t2     \t1506       \t-0      \n",
      "2260\t3     \t1605       \t0.206217\n",
      "2260\t4     \t1512       \t-0      \n",
      "\n",
      "\n"
     ]
    },
    {
     "name": "stdout",
     "output_type": "stream",
     "text": [
      "2270\t1     \t1508       \t-0      \n",
      "2270\t2     \t1497       \t0.210194\n",
      "2270\t3     \t1500       \t-0      \n",
      "2270\t4     \t1597       \t-0      \n",
      "\n",
      "\n"
     ]
    },
    {
     "name": "stdout",
     "output_type": "stream",
     "text": [
      "2280\t1     \t1594       \t-0      \n",
      "2280\t2     \t1496       \t-0      \n",
      "2280\t3     \t1499       \t-0      \n",
      "2280\t4     \t1499       \t-0      \n",
      "\n",
      "\n"
     ]
    },
    {
     "name": "stdout",
     "output_type": "stream",
     "text": [
      "2290\t1     \t1494       \t-0      \n",
      "2290\t2     \t1594       \t-0      \n",
      "2290\t3     \t1496       \t-0      \n",
      "2290\t4     \t1611       \t-0      \n",
      "\n",
      "\n"
     ]
    },
    {
     "name": "stdout",
     "output_type": "stream",
     "text": [
      "2300\t1     \t1481       \t-0      \n",
      "2300\t2     \t1494       \t-0      \n",
      "2300\t3     \t1496       \t-0      \n",
      "2300\t4     \t1496       \t-0      \n",
      "\n",
      "\n"
     ]
    },
    {
     "name": "stdout",
     "output_type": "stream",
     "text": [
      "2310\t1     \t1420       \t0.228202\n",
      "2310\t2     \t1481       \t-0      \n",
      "2310\t3     \t1494       \t-0      \n",
      "2310\t4     \t1492       \t-0      \n",
      "\n",
      "\n"
     ]
    },
    {
     "name": "stdout",
     "output_type": "stream",
     "text": [
      "2320\t1     \t1417       \t0.219146\n",
      "2320\t2     \t1463       \t0.207953\n",
      "2320\t3     \t1474       \t-0      \n",
      "2320\t4     \t1487       \t-0      \n",
      "\n",
      "\n"
     ]
    },
    {
     "name": "stdout",
     "output_type": "stream",
     "text": [
      "2330\t1     \t1417       \t0.219146\n",
      "2330\t2     \t1441       \t0.227693\n",
      "2330\t3     \t1569       \t-0      \n",
      "2330\t4     \t1474       \t-0      \n",
      "\n",
      "\n"
     ]
    },
    {
     "name": "stdout",
     "output_type": "stream",
     "text": [
      "2340\t1     \t1474       \t-0      \n",
      "2340\t2     \t1436       \t0.237992\n",
      "2340\t3     \t1553       \t-0      \n",
      "2340\t4     \t1474       \t-0      \n",
      "\n",
      "\n"
     ]
    },
    {
     "name": "stdout",
     "output_type": "stream",
     "text": [
      "2350\t1     \t1464       \t-0      \n",
      "2350\t2     \t1474       \t-0      \n",
      "2350\t3     \t1576       \t-0      \n",
      "2350\t4     \t1474       \t-0      \n",
      "\n",
      "\n"
     ]
    },
    {
     "name": "stdout",
     "output_type": "stream",
     "text": [
      "2360\t1     \t1474       \t-0      \n",
      "2360\t2     \t1456       \t-0      \n",
      "2360\t3     \t1458       \t-0      \n",
      "2360\t4     \t1471       \t-0      \n",
      "\n",
      "\n"
     ]
    },
    {
     "name": "stdout",
     "output_type": "stream",
     "text": [
      "2370\t1     \t1455       \t0.216709\n",
      "2370\t2     \t1456       \t-0      \n",
      "2370\t3     \t1456       \t-0      \n",
      "2370\t4     \t1454       \t-0      \n",
      "\n",
      "\n"
     ]
    },
    {
     "name": "stdout",
     "output_type": "stream",
     "text": [
      "2380\t1     \t1455       \t0.216709\n",
      "2380\t2     \t1450       \t-0      \n",
      "2380\t3     \t1456       \t-0      \n",
      "2380\t4     \t1454       \t-0      \n",
      "\n",
      "\n"
     ]
    },
    {
     "name": "stdout",
     "output_type": "stream",
     "text": [
      "2390\t1     \t1454       \t-0      \n",
      "2390\t2     \t1450       \t-0      \n",
      "2390\t3     \t1450       \t-0      \n",
      "2390\t4     \t1452       \t-0      \n",
      "\n",
      "\n"
     ]
    },
    {
     "name": "stdout",
     "output_type": "stream",
     "text": [
      "2400\t1     \t1445       \t-0      \n",
      "2400\t2     \t1454       \t-0      \n",
      "2400\t3     \t1450       \t-0      \n",
      "2400\t4     \t1445       \t-0      \n",
      "\n",
      "\n"
     ]
    },
    {
     "name": "stdout",
     "output_type": "stream",
     "text": [
      "2410\t1     \t1445       \t-0      \n",
      "2410\t2     \t1445       \t-0      \n",
      "2410\t3     \t1454       \t-0      \n",
      "2410\t4     \t1450       \t-0      \n",
      "\n",
      "\n"
     ]
    },
    {
     "name": "stdout",
     "output_type": "stream",
     "text": [
      "2420\t1     \t1445       \t-0      \n",
      "2420\t2     \t1445       \t-0      \n",
      "2420\t3     \t1441       \t-0      \n",
      "2420\t4     \t1447       \t-0      \n",
      "\n",
      "\n"
     ]
    },
    {
     "name": "stdout",
     "output_type": "stream",
     "text": [
      "2430\t1     \t1444       \t-0      \n",
      "2430\t2     \t1424       \t-0      \n",
      "2430\t3     \t1444       \t-0      \n",
      "2430\t4     \t1428       \t-0      \n",
      "\n",
      "\n"
     ]
    },
    {
     "name": "stdout",
     "output_type": "stream",
     "text": [
      "2440\t1     \t1444       \t-0      \n",
      "2440\t2     \t1417       \t-0      \n",
      "2440\t3     \t1444       \t-0      \n",
      "2440\t4     \t1428       \t-0      \n",
      "\n",
      "\n"
     ]
    },
    {
     "name": "stdout",
     "output_type": "stream",
     "text": [
      "2450\t1     \t1440       \t-0      \n",
      "2450\t2     \t1413       \t-0      \n",
      "2450\t3     \t1439       \t-0      \n",
      "2450\t4     \t1428       \t-0      \n",
      "\n",
      "\n"
     ]
    },
    {
     "name": "stdout",
     "output_type": "stream",
     "text": [
      "2460\t1     \t1425       \t-0      \n",
      "2460\t2     \t1413       \t-0      \n",
      "2460\t3     \t1432       \t-0      \n",
      "2460\t4     \t1428       \t-0      \n",
      "\n",
      "\n"
     ]
    },
    {
     "name": "stdout",
     "output_type": "stream",
     "text": [
      "2470\t1     \t1361       \t0.241145\n",
      "2470\t2     \t1413       \t-0      \n",
      "2470\t3     \t1413       \t-0      \n",
      "2470\t4     \t1420       \t-0      \n",
      "\n",
      "\n"
     ]
    },
    {
     "name": "stdout",
     "output_type": "stream",
     "text": [
      "2480\t1     \t1415       \t-0      \n",
      "2480\t2     \t1404       \t-0      \n",
      "2480\t3     \t1412       \t-0      \n",
      "2480\t4     \t1401       \t0.214362\n",
      "\n",
      "\n"
     ]
    },
    {
     "name": "stdout",
     "output_type": "stream",
     "text": [
      "2490\t1     \t1399       \t0.212024\n",
      "2490\t2     \t1415       \t-0      \n",
      "2490\t3     \t1403       \t-0      \n",
      "2490\t4     \t1403       \t-0      \n",
      "\n",
      "\n"
     ]
    },
    {
     "name": "stdout",
     "output_type": "stream",
     "text": [
      "2500\t1     \t1403       \t-0      \n",
      "2500\t2     \t1415       \t-0      \n",
      "2500\t3     \t1399       \t-0      \n",
      "2500\t4     \t1403       \t-0      \n",
      "\n",
      "\n"
     ]
    },
    {
     "name": "stdout",
     "output_type": "stream",
     "text": [
      "2510\t1     \t1398       \t-0      \n",
      "2510\t2     \t1390       \t-0      \n",
      "2510\t3     \t1399       \t-0      \n",
      "2510\t4     \t1394       \t-0      \n",
      "\n",
      "\n"
     ]
    },
    {
     "name": "stdout",
     "output_type": "stream",
     "text": [
      "2520\t1     \t1392       \t-0      \n",
      "2520\t2     \t1398       \t-0      \n",
      "2520\t3     \t1383       \t-0      \n",
      "2520\t4     \t1394       \t-0      \n",
      "\n",
      "\n"
     ]
    },
    {
     "name": "stdout",
     "output_type": "stream",
     "text": [
      "2530\t1     \t1394       \t-0      \n",
      "2530\t2     \t1392       \t-0      \n",
      "2530\t3     \t1398       \t-0      \n",
      "2530\t4     \t1381       \t-0      \n",
      "\n",
      "\n"
     ]
    },
    {
     "name": "stdout",
     "output_type": "stream",
     "text": [
      "2540\t1     \t1381       \t-0      \n",
      "2540\t2     \t1391       \t-0      \n",
      "2540\t3     \t1392       \t-0      \n",
      "2540\t4     \t1381       \t-0      \n",
      "\n",
      "\n"
     ]
    },
    {
     "name": "stdout",
     "output_type": "stream",
     "text": [
      "2550\t1     \t1381       \t-0      \n",
      "2550\t2     \t1381       \t-0      \n",
      "2550\t3     \t1391       \t-0      \n",
      "2550\t4     \t1377       \t-0      \n",
      "\n",
      "\n"
     ]
    },
    {
     "name": "stdout",
     "output_type": "stream",
     "text": [
      "2560\t1     \t1381       \t-0      \n",
      "2560\t2     \t1376       \t-0      \n",
      "2560\t3     \t1386       \t-0      \n",
      "2560\t4     \t1375       \t-0      \n",
      "\n",
      "\n"
     ]
    },
    {
     "name": "stdout",
     "output_type": "stream",
     "text": [
      "2570\t1     \t1369       \t-0      \n",
      "2570\t2     \t1381       \t-0      \n",
      "2570\t3     \t1376       \t-0      \n",
      "2570\t4     \t1386       \t-0      \n",
      "\n",
      "\n"
     ]
    },
    {
     "name": "stdout",
     "output_type": "stream",
     "text": [
      "2580\t1     \t1369       \t-0      \n",
      "2580\t2     \t1365       \t-0      \n",
      "2580\t3     \t1367       \t-0      \n",
      "2580\t4     \t1386       \t-0      \n",
      "\n",
      "\n"
     ]
    },
    {
     "name": "stdout",
     "output_type": "stream",
     "text": [
      "2590\t1     \t1386       \t-0      \n",
      "2590\t2     \t1369       \t-0      \n",
      "2590\t3     \t1365       \t-0      \n",
      "2590\t4     \t1364       \t-0      \n",
      "\n",
      "\n"
     ]
    },
    {
     "name": "stdout",
     "output_type": "stream",
     "text": [
      "2600\t1     \t1364       \t-0      \n",
      "2600\t2     \t1364       \t-0      \n",
      "2600\t3     \t1361       \t-0      \n",
      "2600\t4     \t1365       \t-0      \n",
      "\n",
      "\n"
     ]
    },
    {
     "name": "stdout",
     "output_type": "stream",
     "text": [
      "2610\t1     \t1355       \t-0      \n",
      "2610\t2     \t1316       \t0.225757\n",
      "2610\t3     \t1361       \t-0      \n",
      "2610\t4     \t1361       \t-0      \n",
      "\n",
      "\n"
     ]
    },
    {
     "name": "stdout",
     "output_type": "stream",
     "text": [
      "2620\t1     \t1348       \t-0      \n",
      "2620\t2     \t1352       \t-0      \n",
      "2620\t3     \t1359       \t-0      \n",
      "2620\t4     \t1360       \t-0      \n",
      "\n",
      "\n"
     ]
    },
    {
     "name": "stdout",
     "output_type": "stream",
     "text": [
      "2630\t1     \t1352       \t-0      \n",
      "2630\t2     \t1346       \t-0      \n",
      "2630\t3     \t1350       \t-0      \n",
      "2630\t4     \t1382       \t0.22637 \n",
      "\n",
      "\n"
     ]
    },
    {
     "name": "stdout",
     "output_type": "stream",
     "text": [
      "2640\t1     \t1338       \t0.216193\n",
      "2640\t2     \t1352       \t-0      \n",
      "2640\t3     \t1346       \t-0      \n",
      "2640\t4     \t1350       \t-0      \n",
      "\n",
      "\n"
     ]
    },
    {
     "name": "stdout",
     "output_type": "stream",
     "text": [
      "2650\t1     \t1350       \t-0      \n",
      "2650\t2     \t1348       \t-0      \n",
      "2650\t3     \t1346       \t-0      \n",
      "2650\t4     \t1346       \t-0      \n",
      "\n",
      "\n"
     ]
    },
    {
     "name": "stdout",
     "output_type": "stream",
     "text": [
      "2660\t1     \t1340       \t-0      \n",
      "2660\t2     \t1350       \t-0      \n",
      "2660\t3     \t1345       \t-0      \n",
      "2660\t4     \t1346       \t-0      \n",
      "\n",
      "\n"
     ]
    },
    {
     "name": "stdout",
     "output_type": "stream",
     "text": [
      "2670\t1     \t1346       \t-0      \n",
      "2670\t2     \t1338       \t-0      \n",
      "2670\t3     \t1342       \t-0      \n",
      "2670\t4     \t1345       \t-0      \n",
      "\n",
      "\n"
     ]
    },
    {
     "name": "stdout",
     "output_type": "stream",
     "text": [
      "2680\t1     \t1335       \t-0      \n",
      "2680\t2     \t1279       \t0.257201\n",
      "2680\t3     \t1338       \t-0      \n",
      "2680\t4     \t1345       \t-0      \n",
      "\n",
      "\n"
     ]
    },
    {
     "name": "stdout",
     "output_type": "stream",
     "text": [
      "2690\t1     \t1345       \t-0      \n",
      "2690\t2     \t1328       \t-0      \n",
      "2690\t3     \t1333       \t-0      \n",
      "2690\t4     \t1338       \t-0      \n",
      "\n",
      "\n"
     ]
    },
    {
     "name": "stdout",
     "output_type": "stream",
     "text": [
      "2700\t1     \t1345       \t-0      \n",
      "2700\t2     \t1322       \t-0      \n",
      "2700\t3     \t1417       \t-0      \n",
      "2700\t4     \t1333       \t-0      \n",
      "\n",
      "\n"
     ]
    },
    {
     "name": "stdout",
     "output_type": "stream",
     "text": [
      "2710\t1     \t1345       \t-0      \n",
      "2710\t2     \t1337       \t-0      \n",
      "2710\t3     \t1322       \t-0      \n",
      "2710\t4     \t1333       \t-0      \n",
      "\n",
      "\n"
     ]
    },
    {
     "name": "stdout",
     "output_type": "stream",
     "text": [
      "2720\t1     \t1332       \t-0      \n",
      "2720\t2     \t1328       \t0.222097\n",
      "2720\t3     \t1322       \t-0      \n",
      "2720\t4     \t1322       \t-0      \n",
      "\n",
      "\n"
     ]
    },
    {
     "name": "stdout",
     "output_type": "stream",
     "text": [
      "2730\t1     \t1322       \t-0      \n",
      "2730\t2     \t1332       \t-0      \n",
      "2730\t3     \t1320       \t-0      \n",
      "2730\t4     \t1319       \t-0      \n",
      "\n",
      "\n"
     ]
    },
    {
     "name": "stdout",
     "output_type": "stream",
     "text": [
      "2740\t1     \t1322       \t-0      \n",
      "2740\t2     \t1322       \t-0      \n",
      "2740\t3     \t1314       \t-0      \n",
      "2740\t4     \t1314       \t-0      \n",
      "\n",
      "\n"
     ]
    },
    {
     "name": "stdout",
     "output_type": "stream",
     "text": [
      "2750\t1     \t1314       \t-0      \n",
      "2750\t2     \t1320       \t-0      \n",
      "2750\t3     \t1310       \t-0      \n",
      "2750\t4     \t1399       \t-0      \n",
      "\n",
      "\n"
     ]
    },
    {
     "name": "stdout",
     "output_type": "stream",
     "text": [
      "2760\t1     \t1314       \t-0      \n",
      "2760\t2     \t1301       \t-0      \n",
      "2760\t3     \t1310       \t-0      \n",
      "2760\t4     \t1310       \t-0      \n",
      "\n",
      "\n"
     ]
    },
    {
     "name": "stdout",
     "output_type": "stream",
     "text": [
      "2770\t1     \t1310       \t-0      \n",
      "2770\t2     \t1314       \t-0      \n",
      "2770\t3     \t1301       \t-0      \n",
      "2770\t4     \t1308       \t-0      \n",
      "\n",
      "\n"
     ]
    },
    {
     "name": "stdout",
     "output_type": "stream",
     "text": [
      "2780\t1     \t1306       \t-0      \n",
      "2780\t2     \t1310       \t-0      \n",
      "2780\t3     \t1298       \t-0      \n",
      "2780\t4     \t1303       \t-0      \n",
      "\n",
      "\n"
     ]
    },
    {
     "name": "stdout",
     "output_type": "stream",
     "text": [
      "2790\t1     \t1303       \t-0      \n",
      "2790\t2     \t1305       \t-0      \n",
      "2790\t3     \t1309       \t-0      \n",
      "2790\t4     \t1292       \t-0      \n",
      "\n",
      "\n"
     ]
    },
    {
     "name": "stdout",
     "output_type": "stream",
     "text": [
      "2800\t1     \t1292       \t-0      \n",
      "2800\t2     \t1303       \t-0      \n",
      "2800\t3     \t1484       \t-0      \n",
      "2800\t4     \t1286       \t-0      \n",
      "\n",
      "\n"
     ]
    },
    {
     "name": "stdout",
     "output_type": "stream",
     "text": [
      "2810\t1     \t1286       \t-0      \n",
      "2810\t2     \t1291       \t-0      \n",
      "2810\t3     \t1303       \t-0      \n",
      "2810\t4     \t1439       \t-0      \n",
      "\n",
      "\n"
     ]
    },
    {
     "name": "stdout",
     "output_type": "stream",
     "text": [
      "2820\t1     \t1439       \t-0      \n",
      "2820\t2     \t1286       \t-0      \n",
      "2820\t3     \t1291       \t-0      \n",
      "2820\t4     \t1303       \t-0      \n",
      "\n",
      "\n"
     ]
    },
    {
     "name": "stdout",
     "output_type": "stream",
     "text": [
      "2830\t1     \t1263       \t0.2221  \n",
      "2830\t2     \t1286       \t-0      \n",
      "2830\t3     \t1286       \t-0      \n",
      "2830\t4     \t1291       \t-0      \n",
      "\n",
      "\n"
     ]
    },
    {
     "name": "stdout",
     "output_type": "stream",
     "text": [
      "2840\t1     \t1261       \t0.220266\n",
      "2840\t2     \t1282       \t-0      \n",
      "2840\t3     \t1278       \t-0      \n",
      "2840\t4     \t1286       \t-0      \n",
      "\n",
      "\n"
     ]
    },
    {
     "name": "stdout",
     "output_type": "stream",
     "text": [
      "2850\t1     \t1356       \t0.220266\n",
      "2850\t2     \t1278       \t-0      \n",
      "2850\t3     \t1282       \t-0      \n",
      "2850\t4     \t1278       \t-0      \n",
      "\n",
      "\n"
     ]
    },
    {
     "name": "stdout",
     "output_type": "stream",
     "text": [
      "2860\t1     \t1278       \t-0      \n",
      "2860\t2     \t1278       \t-0      \n",
      "2860\t3     \t1277       \t-0      \n",
      "2860\t4     \t1282       \t-0      \n",
      "\n",
      "\n"
     ]
    },
    {
     "name": "stdout",
     "output_type": "stream",
     "text": [
      "2870\t1     \t1277       \t-0      \n",
      "2870\t2     \t1255       \t0.244803\n",
      "2870\t3     \t1278       \t-0      \n",
      "2870\t4     \t1277       \t-0      \n",
      "\n",
      "\n"
     ]
    },
    {
     "name": "stdout",
     "output_type": "stream",
     "text": [
      "2880\t1     \t1277       \t-0      \n",
      "2880\t2     \t1270       \t-0      \n",
      "2880\t3     \t1372       \t-0      \n",
      "2880\t4     \t1267       \t-0      \n",
      "\n",
      "\n"
     ]
    },
    {
     "name": "stdout",
     "output_type": "stream",
     "text": [
      "2890\t1     \t1267       \t-0      \n",
      "2890\t2     \t1264       \t-0      \n",
      "2890\t3     \t1262       \t-0      \n",
      "2890\t4     \t1370       \t-0      \n",
      "\n",
      "\n"
     ]
    },
    {
     "name": "stdout",
     "output_type": "stream",
     "text": [
      "2900\t1     \t1267       \t-0      \n",
      "2900\t2     \t1260       \t0.218436\n",
      "2900\t3     \t1261       \t-0      \n",
      "2900\t4     \t1262       \t-0      \n",
      "\n",
      "\n"
     ]
    },
    {
     "name": "stdout",
     "output_type": "stream",
     "text": [
      "2910\t1     \t1262       \t-0      \n",
      "2910\t2     \t1265       \t-0      \n",
      "2910\t3     \t1261       \t-0      \n",
      "2910\t4     \t1429       \t-0      \n",
      "\n",
      "\n"
     ]
    },
    {
     "name": "stdout",
     "output_type": "stream",
     "text": [
      "2920\t1     \t1257       \t-0      \n",
      "2920\t2     \t1257       \t-0      \n",
      "2920\t3     \t1343       \t0.210499\n",
      "2920\t4     \t1261       \t-0      \n",
      "\n",
      "\n"
     ]
    },
    {
     "name": "stdout",
     "output_type": "stream",
     "text": [
      "2930\t1     \t1256       \t0.20846 \n",
      "2930\t2     \t1257       \t-0      \n",
      "2930\t3     \t1253       \t-0      \n",
      "2930\t4     \t1260       \t-0      \n",
      "\n",
      "\n"
     ]
    },
    {
     "name": "stdout",
     "output_type": "stream",
     "text": [
      "2940\t1     \t1260       \t-0      \n",
      "2940\t2     \t1257       \t-0      \n",
      "2940\t3     \t1247       \t-0      \n",
      "2940\t4     \t1355       \t-0      \n",
      "\n",
      "\n"
     ]
    },
    {
     "name": "stdout",
     "output_type": "stream",
     "text": [
      "2950\t1     \t1260       \t-0      \n",
      "2950\t2     \t1252       \t-0      \n",
      "2950\t3     \t1244       \t-0      \n",
      "2950\t4     \t1251       \t-0      \n",
      "\n",
      "\n"
     ]
    },
    {
     "name": "stdout",
     "output_type": "stream",
     "text": [
      "2960\t1     \t1244       \t-0      \n",
      "2960\t2     \t1257       \t-0      \n",
      "2960\t3     \t1252       \t-0      \n",
      "2960\t4     \t1244       \t-0      \n",
      "\n",
      "\n"
     ]
    },
    {
     "name": "stdout",
     "output_type": "stream",
     "text": [
      "2970\t1     \t1242       \t-0      \n",
      "2970\t2     \t1251       \t-0      \n",
      "2970\t3     \t1250       \t-0      \n",
      "2970\t4     \t1249       \t-0      \n",
      "\n",
      "\n"
     ]
    },
    {
     "name": "stdout",
     "output_type": "stream",
     "text": [
      "2980\t1     \t1249       \t-0      \n",
      "2980\t2     \t1242       \t-0      \n",
      "2980\t3     \t1200       \t0.239719\n",
      "2980\t4     \t1246       \t-0      \n",
      "\n",
      "\n"
     ]
    },
    {
     "name": "stdout",
     "output_type": "stream",
     "text": [
      "2990\t1     \t1246       \t-0      \n",
      "2990\t2     \t1239       \t-0      \n",
      "2990\t3     \t1237       \t-0      \n",
      "2990\t4     \t1316       \t0.22881 \n",
      "\n",
      "\n"
     ]
    },
    {
     "name": "stdout",
     "output_type": "stream",
     "text": [
      "3000\t1     \t1246       \t-0      \n",
      "3000\t2     \t1236       \t0.207953\n",
      "3000\t3     \t1239       \t-0      \n",
      "3000\t4     \t1236       \t-0      \n",
      "\n",
      "\n"
     ]
    },
    {
     "name": "stdout",
     "output_type": "stream",
     "text": [
      "3010\t1     \t1236       \t-0      \n",
      "3010\t2     \t1230       \t-0      \n",
      "3010\t3     \t1237       \t-0      \n",
      "3010\t4     \t1304       \t0.232273\n",
      "\n",
      "\n"
     ]
    },
    {
     "name": "stdout",
     "output_type": "stream",
     "text": [
      "3020\t1     \t1227       \t0.219044\n",
      "3020\t2     \t1236       \t-0      \n",
      "3020\t3     \t1230       \t-0      \n",
      "3020\t4     \t1237       \t-0      \n",
      "\n",
      "\n"
     ]
    },
    {
     "name": "stdout",
     "output_type": "stream",
     "text": [
      "3030\t1     \t1237       \t-0      \n",
      "3030\t2     \t1236       \t-0      \n",
      "3030\t3     \t1340       \t-0      \n",
      "3030\t4     \t1230       \t-0      \n",
      "\n",
      "\n"
     ]
    },
    {
     "name": "stdout",
     "output_type": "stream",
     "text": [
      "3040\t1     \t1230       \t-0      \n",
      "3040\t2     \t1235       \t-0      \n",
      "3040\t3     \t1236       \t-0      \n",
      "3040\t4     \t1340       \t-0      \n",
      "\n",
      "\n"
     ]
    },
    {
     "name": "stdout",
     "output_type": "stream",
     "text": [
      "3050\t1     \t1230       \t-0      \n",
      "3050\t2     \t1235       \t-0      \n",
      "3050\t3     \t1221       \t0.217016\n",
      "3050\t4     \t1236       \t-0      \n",
      "\n",
      "\n"
     ]
    },
    {
     "name": "stdout",
     "output_type": "stream",
     "text": [
      "3060\t1     \t1228       \t-0      \n",
      "3060\t2     \t1230       \t-0      \n",
      "3060\t3     \t1234       \t-0      \n",
      "3060\t4     \t1236       \t-0      \n",
      "\n",
      "\n"
     ]
    },
    {
     "name": "stdout",
     "output_type": "stream",
     "text": [
      "3070\t1     \t1223       \t-0      \n",
      "3070\t2     \t1225       \t-0      \n",
      "3070\t3     \t1221       \t0.217016\n",
      "3070\t4     \t1234       \t-0      \n",
      "\n",
      "\n"
     ]
    },
    {
     "name": "stdout",
     "output_type": "stream",
     "text": [
      "3080\t1     \t1234       \t-0      \n",
      "3080\t2     \t1221       \t-0      \n",
      "3080\t3     \t1225       \t-0      \n",
      "3080\t4     \t1345       \t-0      \n",
      "\n",
      "\n"
     ]
    },
    {
     "name": "stdout",
     "output_type": "stream",
     "text": [
      "3090\t1     \t1230       \t-0      \n",
      "3090\t2     \t1211       \t-0      \n",
      "3090\t3     \t1317       \t0.214766\n",
      "3090\t4     \t1225       \t-0      \n",
      "\n",
      "\n"
     ]
    },
    {
     "name": "stdout",
     "output_type": "stream",
     "text": [
      "3100\t1     \t1225       \t-0      \n",
      "3100\t2     \t1230       \t-0      \n",
      "3100\t3     \t1204       \t-0      \n",
      "3100\t4     \t1220       \t-0      \n",
      "\n",
      "\n"
     ]
    },
    {
     "name": "stdout",
     "output_type": "stream",
     "text": [
      "3110\t1     \t1216       \t-0      \n",
      "3110\t2     \t1225       \t-0      \n",
      "3110\t3     \t1202       \t-0      \n",
      "3110\t4     \t1313       \t0.206728\n",
      "\n",
      "\n"
     ]
    },
    {
     "name": "stdout",
     "output_type": "stream",
     "text": [
      "3120\t1     \t1313       \t0.206728\n",
      "3120\t2     \t1216       \t-0      \n",
      "3120\t3     \t1200       \t-0      \n",
      "3120\t4     \t1304       \t-0      \n",
      "\n",
      "\n"
     ]
    },
    {
     "name": "stdout",
     "output_type": "stream",
     "text": [
      "3130\t1     \t1290       \t-0      \n",
      "3130\t2     \t1313       \t0.206728\n",
      "3130\t3     \t1215       \t-0      \n",
      "3130\t4     \t1200       \t-0      \n",
      "\n",
      "\n"
     ]
    },
    {
     "name": "stdout",
     "output_type": "stream",
     "text": [
      "3140\t1     \t1200       \t-0      \n",
      "3140\t2     \t1313       \t0.206728\n",
      "3140\t3     \t1209       \t-0      \n",
      "3140\t4     \t1199       \t-0      \n",
      "\n",
      "\n"
     ]
    },
    {
     "name": "stdout",
     "output_type": "stream",
     "text": [
      "3150\t1     \t1199       \t-0      \n",
      "3150\t2     \t1197       \t-0      \n",
      "3150\t3     \t1209       \t-0      \n",
      "3150\t4     \t1209       \t-0      \n",
      "\n",
      "\n"
     ]
    },
    {
     "name": "stdout",
     "output_type": "stream",
     "text": [
      "3160\t1     \t1199       \t-0      \n",
      "3160\t2     \t1199       \t-0      \n",
      "3160\t3     \t1197       \t-0      \n",
      "3160\t4     \t1209       \t-0      \n",
      "\n",
      "\n"
     ]
    },
    {
     "name": "stdout",
     "output_type": "stream",
     "text": [
      "3170\t1     \t1197       \t-0      \n",
      "3170\t2     \t1199       \t-0      \n",
      "3170\t3     \t1195       \t-0      \n",
      "3170\t4     \t1197       \t-0      \n",
      "\n",
      "\n"
     ]
    },
    {
     "name": "stdout",
     "output_type": "stream",
     "text": [
      "3180\t1     \t1194       \t-0      \n",
      "3180\t2     \t1197       \t-0      \n",
      "3180\t3     \t1266       \t-0      \n",
      "3180\t4     \t1195       \t-0      \n",
      "\n",
      "\n"
     ]
    },
    {
     "name": "stdout",
     "output_type": "stream",
     "text": [
      "3190\t1     \t1190       \t-0      \n",
      "3190\t2     \t1190       \t-0      \n",
      "3190\t3     \t1266       \t-0      \n",
      "3190\t4     \t1195       \t-0      \n",
      "\n",
      "\n"
     ]
    },
    {
     "name": "stdout",
     "output_type": "stream",
     "text": [
      "3200\t1     \t1190       \t-0      \n",
      "3200\t2     \t1190       \t-0      \n",
      "3200\t3     \t1190       \t-0      \n",
      "3200\t4     \t1194       \t-0      \n",
      "\n",
      "\n"
     ]
    },
    {
     "name": "stdout",
     "output_type": "stream",
     "text": [
      "3210\t1     \t1184       \t-0      \n",
      "3210\t2     \t1185       \t-0      \n",
      "3210\t3     \t1188       \t-0      \n",
      "3210\t4     \t1194       \t-0      \n",
      "\n",
      "\n"
     ]
    },
    {
     "name": "stdout",
     "output_type": "stream",
     "text": [
      "3220\t1     \t1184       \t-0      \n",
      "3220\t2     \t1183       \t-0      \n",
      "3220\t3     \t1188       \t-0      \n",
      "3220\t4     \t1285       \t-0      \n",
      "\n",
      "\n"
     ]
    },
    {
     "name": "stdout",
     "output_type": "stream",
     "text": [
      "3230\t1     \t1179       \t-0      \n",
      "3230\t2     \t1183       \t-0      \n",
      "3230\t3     \t1183       \t-0      \n",
      "3230\t4     \t1187       \t-0      \n",
      "\n",
      "\n"
     ]
    },
    {
     "name": "stdout",
     "output_type": "stream",
     "text": [
      "3240\t1     \t1174       \t-0      \n",
      "3240\t2     \t1183       \t-0      \n",
      "3240\t3     \t1182       \t-0      \n",
      "3240\t4     \t1183       \t-0      \n",
      "\n",
      "\n"
     ]
    },
    {
     "name": "stdout",
     "output_type": "stream",
     "text": [
      "3250\t1     \t1174       \t-0      \n",
      "3250\t2     \t1183       \t-0      \n",
      "3250\t3     \t1182       \t-0      \n",
      "3250\t4     \t1182       \t-0      \n",
      "\n",
      "\n"
     ]
    },
    {
     "name": "stdout",
     "output_type": "stream",
     "text": [
      "3260\t1     \t1174       \t-0      \n",
      "3260\t2     \t1174       \t-0      \n",
      "3260\t3     \t1182       \t-0      \n",
      "3260\t4     \t1182       \t-0      \n",
      "\n",
      "\n"
     ]
    },
    {
     "name": "stdout",
     "output_type": "stream",
     "text": [
      "3270\t1     \t1170       \t-0      \n",
      "3270\t2     \t1170       \t-0      \n",
      "3270\t3     \t1181       \t-0      \n",
      "3270\t4     \t1182       \t-0      \n",
      "\n",
      "\n"
     ]
    },
    {
     "name": "stdout",
     "output_type": "stream",
     "text": [
      "3280\t1     \t1170       \t-0      \n",
      "3280\t2     \t1163       \t-0      \n",
      "3280\t3     \t1170       \t-0      \n",
      "3280\t4     \t1181       \t-0      \n",
      "\n",
      "\n"
     ]
    },
    {
     "name": "stdout",
     "output_type": "stream",
     "text": [
      "3290\t1     \t1165       \t-0      \n",
      "3290\t2     \t1131       \t0.237179\n",
      "3290\t3     \t1162       \t-0      \n",
      "3290\t4     \t1178       \t-0      \n",
      "\n",
      "\n"
     ]
    },
    {
     "name": "stdout",
     "output_type": "stream",
     "text": [
      "3300\t1     \t1172       \t-0      \n",
      "3300\t2     \t1165       \t-0      \n",
      "3300\t3     \t1150       \t0.205091\n",
      "3300\t4     \t1159       \t-0      \n",
      "\n",
      "\n"
     ]
    },
    {
     "name": "stdout",
     "output_type": "stream",
     "text": [
      "3310\t1     \t1160       \t0.204887\n",
      "3310\t2     \t1164       \t-0      \n",
      "3310\t3     \t1165       \t-0      \n",
      "3310\t4     \t1159       \t-0      \n",
      "\n",
      "\n"
     ]
    },
    {
     "name": "stdout",
     "output_type": "stream",
     "text": [
      "3320\t1     \t1159       \t-0      \n",
      "3320\t2     \t1161       \t-0      \n",
      "3320\t3     \t1157       \t-0      \n",
      "3320\t4     \t1156       \t-0      \n",
      "\n",
      "\n"
     ]
    },
    {
     "name": "stdout",
     "output_type": "stream",
     "text": [
      "3330\t1     \t1156       \t-0      \n",
      "3330\t2     \t1146       \t0.220874\n",
      "3330\t3     \t1159       \t-0      \n",
      "3330\t4     \t1155       \t-0      \n",
      "\n",
      "\n"
     ]
    },
    {
     "name": "stdout",
     "output_type": "stream",
     "text": [
      "3340\t1     \t1154       \t-0      \n",
      "3340\t2     \t1156       \t-0      \n",
      "3340\t3     \t1159       \t-0      \n",
      "3340\t4     \t1159       \t-0      \n",
      "\n",
      "\n"
     ]
    },
    {
     "name": "stdout",
     "output_type": "stream",
     "text": [
      "3350\t1     \t1159       \t-0      \n",
      "3350\t2     \t1154       \t-0      \n",
      "3350\t3     \t1261       \t-0      \n",
      "3350\t4     \t1159       \t-0      \n",
      "\n",
      "\n"
     ]
    },
    {
     "name": "stdout",
     "output_type": "stream",
     "text": [
      "3360\t1     \t1158       \t-0      \n",
      "3360\t2     \t1157       \t-0      \n",
      "3360\t3     \t1152       \t-0      \n",
      "3360\t4     \t1157       \t-0      \n",
      "\n",
      "\n"
     ]
    },
    {
     "name": "stdout",
     "output_type": "stream",
     "text": [
      "3370\t1     \t1157       \t-0      \n",
      "3370\t2     \t1149       \t-0      \n",
      "3370\t3     \t1257       \t0.205498\n",
      "3370\t4     \t1152       \t-0      \n",
      "\n",
      "\n"
     ]
    },
    {
     "name": "stdout",
     "output_type": "stream",
     "text": [
      "3380\t1     \t1156       \t0.206015\n",
      "3380\t2     \t1157       \t-0      \n",
      "3380\t3     \t1149       \t-0      \n",
      "3380\t4     \t1146       \t-0      \n",
      "\n",
      "\n"
     ]
    },
    {
     "name": "stdout",
     "output_type": "stream",
     "text": [
      "3390\t1     \t1146       \t-0      \n",
      "3390\t2     \t1145       \t-0      \n",
      "3390\t3     \t1149       \t-0      \n",
      "3390\t4     \t1149       \t-0      \n",
      "\n",
      "\n"
     ]
    },
    {
     "name": "stdout",
     "output_type": "stream",
     "text": [
      "3400\t1     \t1146       \t-0      \n",
      "3400\t2     \t1145       \t-0      \n",
      "3400\t3     \t1148       \t-0      \n",
      "3400\t4     \t1148       \t-0      \n",
      "\n",
      "\n"
     ]
    },
    {
     "name": "stdout",
     "output_type": "stream",
     "text": [
      "3410\t1     \t1146       \t-0      \n",
      "3410\t2     \t1145       \t-0      \n",
      "3410\t3     \t1148       \t-0      \n",
      "3410\t4     \t1148       \t-0      \n",
      "\n",
      "\n"
     ]
    },
    {
     "name": "stdout",
     "output_type": "stream",
     "text": [
      "3420\t1     \t1146       \t-0      \n",
      "3420\t2     \t1145       \t-0      \n",
      "3420\t3     \t1145       \t-0      \n",
      "3420\t4     \t1148       \t-0      \n",
      "\n",
      "\n"
     ]
    },
    {
     "name": "stdout",
     "output_type": "stream",
     "text": [
      "3430\t1     \t1146       \t-0      \n",
      "3430\t2     \t1145       \t-0      \n",
      "3430\t3     \t1261       \t-0      \n",
      "3430\t4     \t1143       \t-0      \n",
      "\n",
      "\n"
     ]
    },
    {
     "name": "stdout",
     "output_type": "stream",
     "text": [
      "3440\t1     \t1137       \t-0      \n",
      "3440\t2     \t1142       \t-0      \n",
      "3440\t3     \t1145       \t-0      \n",
      "3440\t4     \t1141       \t-0      \n",
      "\n",
      "\n"
     ]
    },
    {
     "name": "stdout",
     "output_type": "stream",
     "text": [
      "3450\t1     \t1140       \t-0      \n",
      "3450\t2     \t1135       \t-0      \n",
      "3450\t3     \t1142       \t-0      \n",
      "3450\t4     \t1141       \t-0      \n",
      "\n",
      "\n"
     ]
    },
    {
     "name": "stdout",
     "output_type": "stream",
     "text": [
      "3460\t1     \t1140       \t-0      \n",
      "3460\t2     \t1140       \t-0      \n",
      "3460\t3     \t1135       \t-0      \n",
      "3460\t4     \t1141       \t-0      \n",
      "\n",
      "\n"
     ]
    },
    {
     "name": "stdout",
     "output_type": "stream",
     "text": [
      "3470\t1     \t1139       \t-0      \n",
      "3470\t2     \t1140       \t-0      \n",
      "3470\t3     \t1134       \t-0      \n",
      "3470\t4     \t1135       \t-0      \n",
      "\n",
      "\n"
     ]
    },
    {
     "name": "stdout",
     "output_type": "stream",
     "text": [
      "3480\t1     \t1135       \t-0      \n",
      "3480\t2     \t1132       \t-0      \n",
      "3480\t3     \t1134       \t-0      \n",
      "3480\t4     \t1127       \t0.216811\n",
      "\n",
      "\n"
     ]
    },
    {
     "name": "stdout",
     "output_type": "stream",
     "text": [
      "3490\t1     \t1135       \t-0      \n",
      "3490\t2     \t1129       \t-0      \n",
      "3490\t3     \t1134       \t-0      \n",
      "3490\t4     \t1134       \t-0      \n",
      "\n",
      "\n"
     ]
    },
    {
     "name": "stdout",
     "output_type": "stream",
     "text": [
      "3500\t1     \t1130       \t-0      \n",
      "3500\t2     \t1129       \t-0      \n",
      "3500\t3     \t1132       \t-0      \n",
      "3500\t4     \t1131       \t-0      \n",
      "\n",
      "\n"
     ]
    },
    {
     "name": "stdout",
     "output_type": "stream",
     "text": [
      "3510\t1     \t1129       \t-0      \n",
      "3510\t2     \t1129       \t-0      \n",
      "3510\t3     \t1129       \t-0      \n",
      "3510\t4     \t1191       \t0.238096\n",
      "\n",
      "\n"
     ]
    },
    {
     "name": "stdout",
     "output_type": "stream",
     "text": [
      "3520\t1     \t1129       \t-0      \n",
      "3520\t2     \t1128       \t-0      \n",
      "3520\t3     \t1124       \t-0      \n",
      "3520\t4     \t1201       \t0.216193\n",
      "\n",
      "\n"
     ]
    },
    {
     "name": "stdout",
     "output_type": "stream",
     "text": [
      "3530\t1     \t1125       \t-0      \n",
      "3530\t2     \t1126       \t-0      \n",
      "3530\t3     \t1118       \t-0      \n",
      "3530\t4     \t1124       \t-0      \n",
      "\n",
      "\n"
     ]
    },
    {
     "name": "stdout",
     "output_type": "stream",
     "text": [
      "3540\t1     \t1124       \t-0      \n",
      "3540\t2     \t1123       \t-0      \n",
      "3540\t3     \t1123       \t-0      \n",
      "3540\t4     \t1118       \t-0      \n",
      "\n",
      "\n"
     ]
    },
    {
     "name": "stdout",
     "output_type": "stream",
     "text": [
      "3550\t1     \t1117       \t-0      \n",
      "3550\t2     \t1124       \t-0      \n",
      "3550\t3     \t1122       \t-0      \n",
      "3550\t4     \t1123       \t-0      \n",
      "\n",
      "\n"
     ]
    },
    {
     "name": "stdout",
     "output_type": "stream",
     "text": [
      "3560\t1     \t1118       \t-0      \n",
      "3560\t2     \t1116       \t-0      \n",
      "3560\t3     \t1121       \t-0      \n",
      "3560\t4     \t1123       \t-0      \n",
      "\n",
      "\n"
     ]
    },
    {
     "name": "stdout",
     "output_type": "stream",
     "text": [
      "3570\t1     \t1118       \t-0      \n",
      "3570\t2     \t1118       \t-0      \n",
      "3570\t3     \t1114       \t-0      \n",
      "3570\t4     \t1121       \t-0      \n",
      "\n",
      "\n"
     ]
    },
    {
     "name": "stdout",
     "output_type": "stream",
     "text": [
      "3580\t1     \t1114       \t-0      \n",
      "3580\t2     \t1118       \t-0      \n",
      "3580\t3     \t1109       \t-0      \n",
      "3580\t4     \t1104       \t-0      \n",
      "\n",
      "\n"
     ]
    },
    {
     "name": "stdout",
     "output_type": "stream",
     "text": [
      "3590\t1     \t1103       \t0.210193\n",
      "3590\t2     \t1114       \t-0      \n",
      "3590\t3     \t1179       \t0.23595 \n",
      "3590\t4     \t1104       \t-0      \n",
      "\n",
      "\n"
     ]
    },
    {
     "name": "stdout",
     "output_type": "stream",
     "text": [
      "3600\t1     \t1104       \t-0      \n",
      "3600\t2     \t1105       \t0.206732\n",
      "3600\t3     \t1111       \t-0      \n",
      "3600\t4     \t1102       \t-0      \n",
      "\n",
      "\n"
     ]
    },
    {
     "name": "stdout",
     "output_type": "stream",
     "text": [
      "3610\t1     \t1102       \t-0      \n",
      "3610\t2     \t1098       \t-0      \n",
      "3610\t3     \t1111       \t-0      \n",
      "3610\t4     \t1207       \t-0      \n",
      "\n",
      "\n"
     ]
    },
    {
     "name": "stdout",
     "output_type": "stream",
     "text": [
      "3620\t1     \t1102       \t-0      \n",
      "3620\t2     \t1095       \t-0      \n",
      "3620\t3     \t1097       \t-0      \n",
      "3620\t4     \t1111       \t-0      \n",
      "\n",
      "\n"
     ]
    },
    {
     "name": "stdout",
     "output_type": "stream",
     "text": [
      "3630\t1     \t1102       \t-0      \n",
      "3630\t2     \t1102       \t-0      \n",
      "3630\t3     \t1094       \t-0      \n",
      "3630\t4     \t1109       \t-0      \n",
      "\n",
      "\n"
     ]
    },
    {
     "name": "stdout",
     "output_type": "stream",
     "text": [
      "3640\t1     \t1101       \t-0      \n",
      "3640\t2     \t1102       \t-0      \n",
      "3640\t3     \t1094       \t-0      \n",
      "3640\t4     \t1092       \t-0      \n",
      "\n",
      "\n"
     ]
    },
    {
     "name": "stdout",
     "output_type": "stream",
     "text": [
      "3650\t1     \t1091       \t-0      \n",
      "3650\t2     \t1101       \t-0      \n",
      "3650\t3     \t1093       \t-0      \n",
      "3650\t4     \t1090       \t-0      \n",
      "\n",
      "\n"
     ]
    },
    {
     "name": "stdout",
     "output_type": "stream",
     "text": [
      "3660\t1     \t1090       \t-0      \n",
      "3660\t2     \t1101       \t-0      \n",
      "3660\t3     \t1093       \t-0      \n",
      "3660\t4     \t1090       \t-0      \n",
      "\n",
      "\n"
     ]
    },
    {
     "name": "stdout",
     "output_type": "stream",
     "text": [
      "3670\t1     \t1089       \t-0      \n",
      "3670\t2     \t1090       \t-0      \n",
      "3670\t3     \t1089       \t-0      \n",
      "3670\t4     \t1090       \t-0      \n",
      "\n",
      "\n"
     ]
    },
    {
     "name": "stdout",
     "output_type": "stream",
     "text": [
      "3680\t1     \t1089       \t-0      \n",
      "3680\t2     \t1087       \t0.205296\n",
      "3680\t3     \t1090       \t-0      \n",
      "3680\t4     \t1089       \t-0      \n",
      "\n",
      "\n"
     ]
    },
    {
     "name": "stdout",
     "output_type": "stream",
     "text": [
      "3690\t1     \t1089       \t-0      \n",
      "3690\t2     \t1088       \t-0      \n",
      "3690\t3     \t1082       \t-0      \n",
      "3690\t4     \t1084       \t-0      \n",
      "\n",
      "\n"
     ]
    },
    {
     "name": "stdout",
     "output_type": "stream",
     "text": [
      "3700\t1     \t1082       \t-0      \n",
      "3700\t2     \t1089       \t-0      \n",
      "3700\t3     \t1086       \t-0      \n",
      "3700\t4     \t1079       \t-0      \n",
      "\n",
      "\n"
     ]
    },
    {
     "name": "stdout",
     "output_type": "stream",
     "text": [
      "3710\t1     \t1078       \t-0      \n",
      "3710\t2     \t1081       \t-0      \n",
      "3710\t3     \t1083       \t-0      \n",
      "3710\t4     \t1065       \t0.219044\n",
      "\n",
      "\n"
     ]
    },
    {
     "name": "stdout",
     "output_type": "stream",
     "text": [
      "3720\t1     \t1078       \t-0      \n",
      "3720\t2     \t1078       \t-0      \n",
      "3720\t3     \t1081       \t-0      \n",
      "3720\t4     \t1083       \t-0      \n",
      "\n",
      "\n"
     ]
    },
    {
     "name": "stdout",
     "output_type": "stream",
     "text": [
      "3730\t1     \t1078       \t-0      \n",
      "3730\t2     \t1078       \t-0      \n",
      "3730\t3     \t1081       \t-0      \n",
      "3730\t4     \t1081       \t-0      \n",
      "\n",
      "\n"
     ]
    },
    {
     "name": "stdout",
     "output_type": "stream",
     "text": [
      "3740\t1     \t1077       \t-0      \n",
      "3740\t2     \t1078       \t-0      \n",
      "3740\t3     \t1078       \t-0      \n",
      "3740\t4     \t1080       \t-0      \n",
      "\n",
      "\n"
     ]
    },
    {
     "name": "stdout",
     "output_type": "stream",
     "text": [
      "3750\t1     \t1077       \t-0      \n",
      "3750\t2     \t1077       \t-0      \n",
      "3750\t3     \t1078       \t-0      \n",
      "3750\t4     \t1078       \t-0      \n",
      "\n",
      "\n"
     ]
    },
    {
     "name": "stdout",
     "output_type": "stream",
     "text": [
      "3760\t1     \t1072       \t-0      \n",
      "3760\t2     \t1077       \t-0      \n",
      "3760\t3     \t1077       \t-0      \n",
      "3760\t4     \t1078       \t-0      \n",
      "\n",
      "\n"
     ]
    },
    {
     "name": "stdout",
     "output_type": "stream",
     "text": [
      "3770\t1     \t1078       \t-0      \n",
      "3770\t2     \t1072       \t-0      \n",
      "3770\t3     \t1076       \t-0      \n",
      "3770\t4     \t1078       \t-0      \n",
      "\n",
      "\n"
     ]
    },
    {
     "name": "stdout",
     "output_type": "stream",
     "text": [
      "3780\t1     \t1078       \t-0      \n",
      "3780\t2     \t1072       \t-0      \n",
      "3780\t3     \t1071       \t-0      \n",
      "3780\t4     \t1076       \t-0      \n",
      "\n",
      "\n"
     ]
    },
    {
     "name": "stdout",
     "output_type": "stream",
     "text": [
      "3790\t1     \t1076       \t-0      \n",
      "3790\t2     \t1071       \t-0      \n",
      "3790\t3     \t1168       \t-0      \n",
      "3790\t4     \t1071       \t-0      \n",
      "\n",
      "\n"
     ]
    },
    {
     "name": "stdout",
     "output_type": "stream",
     "text": [
      "3800\t1     \t1071       \t-0      \n",
      "3800\t2     \t1071       \t-0      \n",
      "3800\t3     \t1167       \t-0      \n",
      "3800\t4     \t1071       \t-0      \n",
      "\n",
      "\n"
     ]
    },
    {
     "name": "stdout",
     "output_type": "stream",
     "text": [
      "3810\t1     \t1071       \t-0      \n",
      "3810\t2     \t1071       \t-0      \n",
      "3810\t3     \t1067       \t-0      \n",
      "3810\t4     \t1167       \t-0      \n",
      "\n",
      "\n"
     ]
    },
    {
     "name": "stdout",
     "output_type": "stream",
     "text": [
      "3820\t1     \t1067       \t-0      \n",
      "3820\t2     \t1069       \t-0      \n",
      "3820\t3     \t1071       \t-0      \n",
      "3820\t4     \t1065       \t-0      \n",
      "\n",
      "\n"
     ]
    },
    {
     "name": "stdout",
     "output_type": "stream",
     "text": [
      "3830\t1     \t1065       \t-0      \n",
      "3830\t2     \t1065       \t-0      \n",
      "3830\t3     \t1069       \t-0      \n",
      "3830\t4     \t1069       \t-0      \n",
      "\n",
      "\n"
     ]
    },
    {
     "name": "stdout",
     "output_type": "stream",
     "text": [
      "3840\t1     \t1062       \t-0      \n",
      "3840\t2     \t1065       \t-0      \n",
      "3840\t3     \t1065       \t-0      \n",
      "3840\t4     \t1069       \t-0      \n",
      "\n",
      "\n"
     ]
    },
    {
     "name": "stdout",
     "output_type": "stream",
     "text": [
      "3850\t1     \t1062       \t-0      \n",
      "3850\t2     \t1063       \t-0      \n",
      "3850\t3     \t1065       \t-0      \n",
      "3850\t4     \t1129       \t0.220875\n",
      "\n",
      "\n"
     ]
    },
    {
     "name": "stdout",
     "output_type": "stream",
     "text": [
      "3860\t1     \t1062       \t-0      \n",
      "3860\t2     \t1058       \t-0      \n",
      "3860\t3     \t1063       \t-0      \n",
      "3860\t4     \t1065       \t-0      \n",
      "\n",
      "\n"
     ]
    },
    {
     "name": "stdout",
     "output_type": "stream",
     "text": [
      "3870\t1     \t1059       \t-0      \n",
      "3870\t2     \t1062       \t-0      \n",
      "3870\t3     \t1058       \t-0      \n",
      "3870\t4     \t1061       \t-0      \n",
      "\n",
      "\n"
     ]
    },
    {
     "name": "stdout",
     "output_type": "stream",
     "text": [
      "3880\t1     \t1057       \t-0      \n",
      "3880\t2     \t1059       \t-0      \n",
      "3880\t3     \t1058       \t-0      \n",
      "3880\t4     \t1058       \t-0      \n",
      "\n",
      "\n"
     ]
    },
    {
     "name": "stdout",
     "output_type": "stream",
     "text": [
      "3890\t1     \t1049       \t-0      \n",
      "3890\t2     \t1058       \t-0      \n",
      "3890\t3     \t1055       \t-0      \n",
      "3890\t4     \t1058       \t-0      \n",
      "\n",
      "\n"
     ]
    },
    {
     "name": "stdout",
     "output_type": "stream",
     "text": [
      "3900\t1     \t1039       \t-0      \n",
      "3900\t2     \t1055       \t0.206221\n",
      "3900\t3     \t1055       \t-0      \n",
      "3900\t4     \t1055       \t-0      \n",
      "\n",
      "\n"
     ]
    },
    {
     "name": "stdout",
     "output_type": "stream",
     "text": [
      "3910\t1     \t1034       \t0.22708 \n",
      "3910\t2     \t1039       \t-0      \n",
      "3910\t3     \t1171       \t0.206015\n",
      "3910\t4     \t1055       \t-0      \n",
      "\n",
      "\n"
     ]
    },
    {
     "name": "stdout",
     "output_type": "stream",
     "text": [
      "3920\t1     \t1053       \t-0      \n",
      "3920\t2     \t1037       \t-0      \n",
      "3920\t3     \t1171       \t0.206015\n",
      "3920\t4     \t1054       \t-0      \n",
      "\n",
      "\n"
     ]
    },
    {
     "name": "stdout",
     "output_type": "stream",
     "text": [
      "3930\t1     \t1052       \t-0      \n",
      "3930\t2     \t1037       \t-0      \n",
      "3930\t3     \t1150       \t-0      \n",
      "3930\t4     \t1054       \t-0      \n",
      "\n",
      "\n"
     ]
    },
    {
     "name": "stdout",
     "output_type": "stream",
     "text": [
      "3940\t1     \t1054       \t-0      \n",
      "3940\t2     \t1037       \t-0      \n",
      "3940\t3     \t1037       \t-0      \n",
      "3940\t4     \t1054       \t-0      \n",
      "\n",
      "\n"
     ]
    },
    {
     "name": "stdout",
     "output_type": "stream",
     "text": [
      "3950\t1     \t1054       \t-0      \n",
      "3950\t2     \t1037       \t-0      \n",
      "3950\t3     \t1037       \t-0      \n",
      "3950\t4     \t1037       \t-0      \n",
      "\n",
      "\n"
     ]
    },
    {
     "name": "stdout",
     "output_type": "stream",
     "text": [
      "3960\t1     \t1037       \t-0      \n",
      "3960\t2     \t1037       \t-0      \n",
      "3960\t3     \t1036       \t-0      \n",
      "3960\t4     \t1033       \t-0      \n",
      "\n",
      "\n"
     ]
    },
    {
     "name": "stdout",
     "output_type": "stream",
     "text": [
      "3970\t1     \t1031       \t-0      \n",
      "3970\t2     \t1037       \t-0      \n",
      "3970\t3     \t1026       \t0.228607\n",
      "3970\t4     \t1036       \t-0      \n",
      "\n",
      "\n"
     ]
    },
    {
     "name": "stdout",
     "output_type": "stream",
     "text": [
      "3980\t1     \t1036       \t-0      \n",
      "3980\t2     \t1031       \t-0      \n",
      "3980\t3     \t1033       \t-0      \n",
      "3980\t4     \t1035       \t-0      \n",
      "\n",
      "\n"
     ]
    },
    {
     "name": "stdout",
     "output_type": "stream",
     "text": [
      "3990\t1     \t1035       \t-0      \n",
      "3990\t2     \t1028       \t-0      \n",
      "3990\t3     \t1031       \t-0      \n",
      "3990\t4     \t1033       \t-0      \n",
      "\n",
      "\n"
     ]
    },
    {
     "name": "stdout",
     "output_type": "stream",
     "text": [
      "4000\t1     \t1033       \t-0      \n",
      "4000\t2     \t1035       \t-0      \n",
      "4000\t3     \t1028       \t-0      \n",
      "4000\t4     \t1031       \t-0      \n",
      "\n",
      "\n"
     ]
    },
    {
     "name": "stdout",
     "output_type": "stream",
     "text": [
      "4010\t1     \t1029       \t-0      \n",
      "4010\t2     \t1032       \t-0      \n",
      "4010\t3     \t1028       \t-0      \n",
      "4010\t4     \t1031       \t-0      \n",
      "\n",
      "\n"
     ]
    },
    {
     "name": "stdout",
     "output_type": "stream",
     "text": [
      "4020\t1     \t1029       \t-0      \n",
      "4020\t2     \t1003       \t0.242775\n",
      "4020\t3     \t1028       \t-0      \n",
      "4020\t4     \t1028       \t-0      \n",
      "\n",
      "\n"
     ]
    },
    {
     "name": "stdout",
     "output_type": "stream",
     "text": [
      "4030\t1     \t1029       \t-0      \n",
      "4030\t2     \t1001       \t0.242773\n",
      "4030\t3     \t1028       \t-0      \n",
      "4030\t4     \t1028       \t-0      \n",
      "\n",
      "\n"
     ]
    },
    {
     "name": "stdout",
     "output_type": "stream",
     "text": [
      "4040\t1     \t1028       \t-0      \n",
      "4040\t2     \t1001       \t0.242773\n",
      "4040\t3     \t1235       \t0.208864\n",
      "4040\t4     \t1028       \t-0      \n",
      "\n",
      "\n"
     ]
    },
    {
     "name": "stdout",
     "output_type": "stream",
     "text": [
      "4050\t1     \t1028       \t-0      \n",
      "4050\t2     \t1028       \t-0      \n",
      "4050\t3     \t1118       \t0.218128\n",
      "4050\t4     \t1028       \t-0      \n",
      "\n",
      "\n"
     ]
    },
    {
     "name": "stdout",
     "output_type": "stream",
     "text": [
      "4060\t1     \t1027       \t-0      \n",
      "4060\t2     \t1026       \t-0      \n",
      "4060\t3     \t1107       \t0.237583\n",
      "4060\t4     \t1028       \t-0      \n",
      "\n",
      "\n"
     ]
    },
    {
     "name": "stdout",
     "output_type": "stream",
     "text": [
      "4070\t1     \t1027       \t-0      \n",
      "4070\t2     \t1026       \t-0      \n",
      "4070\t3     \t1091       \t0.243689\n",
      "4070\t4     \t1025       \t-0      \n",
      "\n",
      "\n"
     ]
    },
    {
     "name": "stdout",
     "output_type": "stream",
     "text": [
      "4080\t1     \t1025       \t0.210195\n",
      "4080\t2     \t1024       \t-0      \n",
      "4080\t3     \t1025       \t-0      \n",
      "4080\t4     \t1025       \t-0      \n",
      "\n",
      "\n"
     ]
    },
    {
     "name": "stdout",
     "output_type": "stream",
     "text": [
      "4090\t1     \t1024       \t-0      \n",
      "4090\t2     \t1024       \t-0      \n",
      "4090\t3     \t1018       \t0.218233\n",
      "4090\t4     \t1025       \t-0      \n",
      "\n",
      "\n"
     ]
    },
    {
     "name": "stdout",
     "output_type": "stream",
     "text": [
      "4100\t1     \t1024       \t-0      \n",
      "4100\t2     \t1019       \t-0      \n",
      "4100\t3     \t1134       \t-0      \n",
      "4100\t4     \t1130       \t-0      \n",
      "\n",
      "\n"
     ]
    },
    {
     "name": "stdout",
     "output_type": "stream",
     "text": [
      "4110\t1     \t1024       \t-0      \n",
      "4110\t2     \t1018       \t-0      \n",
      "4110\t3     \t1134       \t-0      \n",
      "4110\t4     \t1136       \t0.205093\n",
      "\n",
      "\n"
     ]
    },
    {
     "name": "stdout",
     "output_type": "stream",
     "text": [
      "4120\t1     \t1136       \t0.205093\n",
      "4120\t2     \t1024       \t-0      \n",
      "4120\t3     \t1017       \t-0      \n",
      "4120\t4     \t1128       \t-0      \n",
      "\n",
      "\n"
     ]
    },
    {
     "name": "stdout",
     "output_type": "stream",
     "text": [
      "4130\t1     \t1128       \t-0      \n",
      "4130\t2     \t1024       \t-0      \n",
      "4130\t3     \t1017       \t-0      \n",
      "4130\t4     \t1017       \t-0      \n",
      "\n",
      "\n"
     ]
    },
    {
     "name": "stdout",
     "output_type": "stream",
     "text": [
      "4140\t1     \t1017       \t-0      \n",
      "4140\t2     \t1024       \t-0      \n",
      "4140\t3     \t1341       \t-0      \n",
      "4140\t4     \t1017       \t-0      \n",
      "\n",
      "\n"
     ]
    },
    {
     "name": "stdout",
     "output_type": "stream",
     "text": [
      "4150\t1     \t1012       \t-0      \n",
      "4150\t2     \t1016       \t-0      \n",
      "4150\t3     \t1024       \t-0      \n",
      "4150\t4     \t1014       \t-0      \n",
      "\n",
      "\n"
     ]
    },
    {
     "name": "stdout",
     "output_type": "stream",
     "text": [
      "4160\t1     \t1012       \t-0      \n",
      "4160\t2     \t1106       \t0.22138 \n",
      "4160\t3     \t1016       \t-0      \n",
      "4160\t4     \t1005       \t0.222301\n",
      "\n",
      "\n"
     ]
    },
    {
     "name": "stdout",
     "output_type": "stream",
     "text": [
      "4170\t1     \t1010       \t0.209989\n",
      "4170\t2     \t1012       \t-0      \n",
      "4170\t3     \t1127       \t-0      \n",
      "4170\t4     \t1016       \t-0      \n",
      "\n",
      "\n"
     ]
    },
    {
     "name": "stdout",
     "output_type": "stream",
     "text": [
      "4180\t1     \t1008       \t0.209276\n",
      "4180\t2     \t1010       \t0.209989\n",
      "4180\t3     \t1012       \t-0      \n",
      "4180\t4     \t1016       \t-0      \n",
      "\n",
      "\n"
     ]
    },
    {
     "name": "stdout",
     "output_type": "stream",
     "text": [
      "4190\t1     \t1016       \t-0      \n",
      "4190\t2     \t1007       \t0.209273\n",
      "4190\t3     \t1120       \t-0      \n",
      "4190\t4     \t1012       \t-0      \n",
      "\n",
      "\n"
     ]
    },
    {
     "name": "stdout",
     "output_type": "stream",
     "text": [
      "4200\t1     \t1016       \t-0      \n",
      "4200\t2     \t1016       \t-0      \n",
      "4200\t3     \t1007       \t0.209273\n",
      "4200\t4     \t1011       \t-0      \n",
      "\n",
      "\n"
     ]
    },
    {
     "name": "stdout",
     "output_type": "stream",
     "text": [
      "4210\t1     \t1011       \t-0      \n",
      "4210\t2     \t1015       \t-0      \n",
      "4210\t3     \t1127       \t-0      \n",
      "4210\t4     \t1099       \t-0      \n",
      "\n",
      "\n"
     ]
    },
    {
     "name": "stdout",
     "output_type": "stream",
     "text": [
      "4220\t1     \t1011       \t-0      \n",
      "4220\t2     \t1011       \t-0      \n",
      "4220\t3     \t1015       \t-0      \n",
      "4220\t4     \t1099       \t-0      \n",
      "\n",
      "\n"
     ]
    },
    {
     "name": "stdout",
     "output_type": "stream",
     "text": [
      "4230\t1     \t1010       \t-0      \n",
      "4230\t2     \t1011       \t-0      \n",
      "4230\t3     \t1011       \t-0      \n",
      "4230\t4     \t1015       \t-0      \n",
      "\n",
      "\n"
     ]
    },
    {
     "name": "stdout",
     "output_type": "stream",
     "text": [
      "4240\t1     \t1002       \t0.21436 \n",
      "4240\t2     \t1010       \t-0      \n",
      "4240\t3     \t1011       \t-0      \n",
      "4240\t4     \t1007       \t-0      \n",
      "\n",
      "\n"
     ]
    },
    {
     "name": "stdout",
     "output_type": "stream",
     "text": [
      "4250\t1     \t1007       \t-0      \n",
      "4250\t2     \t1010       \t-0      \n",
      "4250\t3     \t1010       \t-0      \n",
      "4250\t4     \t1115       \t-0      \n",
      "\n",
      "\n"
     ]
    },
    {
     "name": "stdout",
     "output_type": "stream",
     "text": [
      "4260\t1     \t1007       \t-0      \n",
      "4260\t2     \t1007       \t-0      \n",
      "4260\t3     \t1010       \t-0      \n",
      "4260\t4     \t1005       \t0.216503\n",
      "\n",
      "\n"
     ]
    },
    {
     "name": "stdout",
     "output_type": "stream",
     "text": [
      "4270\t1     \t1005       \t0.216503\n",
      "4270\t2     \t1007       \t-0      \n",
      "4270\t3     \t1007       \t-0      \n",
      "4270\t4     \t1010       \t-0      \n",
      "\n",
      "\n"
     ]
    },
    {
     "name": "stdout",
     "output_type": "stream",
     "text": [
      "4280\t1     \t1010       \t-0      \n",
      "4280\t2     \t1006       \t-0      \n",
      "4280\t3     \t1007       \t-0      \n",
      "4280\t4     \t1007       \t-0      \n",
      "\n",
      "\n"
     ]
    },
    {
     "name": "stdout",
     "output_type": "stream",
     "text": [
      "4290\t1     \t1005       \t0.209167\n",
      "4290\t2     \t1010       \t-0      \n",
      "4290\t3     \t1006       \t-0      \n",
      "4290\t4     \t1006       \t-0      \n",
      "\n",
      "\n"
     ]
    },
    {
     "name": "stdout",
     "output_type": "stream",
     "text": [
      "4300\t1     \t1006       \t-0      \n",
      "4300\t2     \t1009       \t-0      \n",
      "4300\t3     \t1006       \t-0      \n",
      "4300\t4     \t1006       \t-0      \n",
      "\n",
      "\n"
     ]
    },
    {
     "name": "stdout",
     "output_type": "stream",
     "text": [
      "4310\t1     \t1004       \t-0      \n",
      "4310\t2     \t1005       \t-0      \n",
      "4310\t3     \t1006       \t-0      \n",
      "4310\t4     \t1005       \t-0      \n",
      "\n",
      "\n"
     ]
    },
    {
     "name": "stdout",
     "output_type": "stream",
     "text": [
      "4320\t1     \t1004       \t-0      \n",
      "4320\t2     \t1004       \t-0      \n",
      "4320\t3     \t1006       \t-0      \n",
      "4320\t4     \t1005       \t-0      \n",
      "\n",
      "\n"
     ]
    },
    {
     "name": "stdout",
     "output_type": "stream",
     "text": [
      "4330\t1     \t1005       \t-0      \n",
      "4330\t2     \t1004       \t-0      \n",
      "4330\t3     \t1006       \t-0      \n",
      "4330\t4     \t1004       \t-0      \n",
      "\n",
      "\n"
     ]
    },
    {
     "name": "stdout",
     "output_type": "stream",
     "text": [
      "4340\t1     \t1004       \t-0      \n",
      "4340\t2     \t1004       \t-0      \n",
      "4340\t3     \t1006       \t-0      \n",
      "4340\t4     \t1004       \t-0      \n",
      "\n",
      "\n"
     ]
    },
    {
     "name": "stdout",
     "output_type": "stream",
     "text": [
      "4350\t1     \t1004       \t-0      \n",
      "4350\t2     \t1004       \t-0      \n",
      "4350\t3     \t1005       \t-0      \n",
      "4350\t4     \t1004       \t-0      \n",
      "\n",
      "\n"
     ]
    },
    {
     "name": "stdout",
     "output_type": "stream",
     "text": [
      "4360\t1     \t1002       \t-0      \n",
      "4360\t2     \t1004       \t-0      \n",
      "4360\t3     \t1004       \t-0      \n",
      "4360\t4     \t1004       \t-0      \n",
      "\n",
      "\n"
     ]
    },
    {
     "name": "stdout",
     "output_type": "stream",
     "text": [
      "4370\t1     \t1004       \t-0      \n",
      "4370\t2     \t1002       \t-0      \n",
      "4370\t3     \t1003       \t-0      \n",
      "4370\t4     \t1003       \t-0      \n",
      "\n",
      "\n"
     ]
    },
    {
     "name": "stdout",
     "output_type": "stream",
     "text": [
      "4380\t1     \t1003       \t-0      \n",
      "4380\t2     \t1002       \t-0      \n",
      "4380\t3     \t1002       \t-0      \n",
      "4380\t4     \t1103       \t-0      \n",
      "\n",
      "\n"
     ]
    },
    {
     "name": "stdout",
     "output_type": "stream",
     "text": [
      "4390\t1     \t1003       \t-0      \n",
      "4390\t2     \t1002       \t-0      \n",
      "4390\t3     \t1083       \t0.23982 \n",
      "4390\t4     \t1002       \t-0      \n",
      "\n",
      "\n"
     ]
    },
    {
     "name": "stdout",
     "output_type": "stream",
     "text": [
      "4400\t1     \t1003       \t-0      \n",
      "4400\t2     \t1002       \t-0      \n",
      "4400\t3     \t1002       \t-0      \n",
      "4400\t4     \t1002       \t-0      \n",
      "\n",
      "\n"
     ]
    },
    {
     "name": "stdout",
     "output_type": "stream",
     "text": [
      "4410\t1     \t1002       \t-0      \n",
      "4410\t2     \t1000       \t-0      \n",
      "4410\t3     \t999        \t-0      \n",
      "4410\t4     \t1001       \t-0      \n",
      "\n",
      "\n"
     ]
    },
    {
     "name": "stdout",
     "output_type": "stream",
     "text": [
      "4420\t1     \t1001       \t-0      \n",
      "4420\t2     \t1002       \t-0      \n",
      "4420\t3     \t999        \t-0      \n",
      "4420\t4     \t998        \t-0      \n",
      "\n",
      "\n"
     ]
    },
    {
     "name": "stdout",
     "output_type": "stream",
     "text": [
      "4430\t1     \t998        \t-0      \n",
      "4430\t2     \t1002       \t-0      \n",
      "4430\t3     \t1002       \t-0      \n",
      "4430\t4     \t999        \t-0      \n",
      "\n",
      "\n"
     ]
    },
    {
     "name": "stdout",
     "output_type": "stream",
     "text": [
      "4440\t1     \t993        \t0.208256\n",
      "4440\t2     \t998        \t-0      \n",
      "4440\t3     \t1002       \t-0      \n",
      "4440\t4     \t999        \t-0      \n",
      "\n",
      "\n"
     ]
    },
    {
     "name": "stdout",
     "output_type": "stream",
     "text": [
      "4450\t1     \t992        \t0.209273\n",
      "4450\t2     \t998        \t-0      \n",
      "4450\t3     \t997        \t-0      \n",
      "4450\t4     \t999        \t-0      \n",
      "\n",
      "\n"
     ]
    },
    {
     "name": "stdout",
     "output_type": "stream",
     "text": [
      "4460\t1     \t999        \t-0      \n",
      "4460\t2     \t998        \t-0      \n",
      "4460\t3     \t996        \t-0      \n",
      "4460\t4     \t996        \t-0      \n",
      "\n",
      "\n"
     ]
    },
    {
     "name": "stdout",
     "output_type": "stream",
     "text": [
      "4470\t1     \t996        \t-0      \n",
      "4470\t2     \t997        \t-0      \n",
      "4470\t3     \t994        \t-0      \n",
      "4470\t4     \t1191       \t0.233388\n",
      "\n",
      "\n"
     ]
    },
    {
     "name": "stdout",
     "output_type": "stream",
     "text": [
      "4480\t1     \t996        \t-0      \n",
      "4480\t2     \t996        \t-0      \n",
      "4480\t3     \t997        \t-0      \n",
      "4480\t4     \t993        \t-0      \n",
      "\n",
      "\n"
     ]
    },
    {
     "name": "stdout",
     "output_type": "stream",
     "text": [
      "4490\t1     \t996        \t-0      \n",
      "4490\t2     \t996        \t-0      \n",
      "4490\t3     \t997        \t-0      \n",
      "4490\t4     \t992        \t-0      \n",
      "\n",
      "\n"
     ]
    },
    {
     "name": "stdout",
     "output_type": "stream",
     "text": [
      "4500\t1     \t992        \t-0      \n",
      "4500\t2     \t993        \t-0      \n",
      "4500\t3     \t996        \t-0      \n",
      "4500\t4     \t997        \t-0      \n",
      "\n",
      "\n"
     ]
    },
    {
     "name": "stdout",
     "output_type": "stream",
     "text": [
      "4510\t1     \t992        \t-0      \n",
      "4510\t2     \t992        \t-0      \n",
      "4510\t3     \t993        \t-0      \n",
      "4510\t4     \t996        \t-0      \n",
      "\n",
      "\n"
     ]
    },
    {
     "name": "stdout",
     "output_type": "stream",
     "text": [
      "4520\t1     \t991        \t-0      \n",
      "4520\t2     \t992        \t-0      \n",
      "4520\t3     \t992        \t-0      \n",
      "4520\t4     \t990        \t-0      \n",
      "\n",
      "\n"
     ]
    },
    {
     "name": "stdout",
     "output_type": "stream",
     "text": [
      "4530\t1     \t990        \t-0      \n",
      "4530\t2     \t991        \t-0      \n",
      "4530\t3     \t991        \t-0      \n",
      "4530\t4     \t991        \t-0      \n",
      "\n",
      "\n"
     ]
    },
    {
     "name": "stdout",
     "output_type": "stream",
     "text": [
      "4540\t1     \t988        \t-0      \n",
      "4540\t2     \t990        \t-0      \n",
      "4540\t3     \t989        \t-0      \n",
      "4540\t4     \t990        \t-0      \n",
      "\n",
      "\n"
     ]
    },
    {
     "name": "stdout",
     "output_type": "stream",
     "text": [
      "4550\t1     \t986        \t-0      \n",
      "4550\t2     \t987        \t-0      \n",
      "4550\t3     \t989        \t-0      \n",
      "4550\t4     \t989        \t-0      \n",
      "\n",
      "\n"
     ]
    },
    {
     "name": "stdout",
     "output_type": "stream",
     "text": [
      "4560\t1     \t986        \t-0      \n",
      "4560\t2     \t973        \t0.228102\n",
      "4560\t3     \t987        \t-0      \n",
      "4560\t4     \t985        \t-0      \n",
      "\n",
      "\n"
     ]
    },
    {
     "name": "stdout",
     "output_type": "stream",
     "text": [
      "4570\t1     \t985        \t-0      \n",
      "4570\t2     \t973        \t0.228102\n",
      "4570\t3     \t987        \t-0      \n",
      "4570\t4     \t987        \t-0      \n",
      "\n",
      "\n"
     ]
    },
    {
     "name": "stdout",
     "output_type": "stream",
     "text": [
      "4580\t1     \t987        \t-0      \n",
      "4580\t2     \t984        \t-0      \n",
      "4580\t3     \t987        \t-0      \n",
      "4580\t4     \t987        \t-0      \n",
      "\n",
      "\n"
     ]
    },
    {
     "name": "stdout",
     "output_type": "stream",
     "text": [
      "4590\t1     \t987        \t-0      \n",
      "4590\t2     \t984        \t-0      \n",
      "4590\t3     \t981        \t-0      \n",
      "4590\t4     \t985        \t-0      \n",
      "\n",
      "\n"
     ]
    },
    {
     "name": "stdout",
     "output_type": "stream",
     "text": [
      "4600\t1     \t985        \t-0      \n",
      "4600\t2     \t987        \t-0      \n",
      "4600\t3     \t984        \t-0      \n",
      "4600\t4     \t981        \t-0      \n",
      "\n",
      "\n"
     ]
    },
    {
     "name": "stdout",
     "output_type": "stream",
     "text": [
      "4610\t1     \t981        \t-0      \n",
      "4610\t2     \t985        \t-0      \n",
      "4610\t3     \t983        \t-0      \n",
      "4610\t4     \t979        \t-0      \n",
      "\n",
      "\n"
     ]
    },
    {
     "name": "stdout",
     "output_type": "stream",
     "text": [
      "4620\t1     \t979        \t-0      \n",
      "4620\t2     \t981        \t-0      \n",
      "4620\t3     \t984        \t-0      \n",
      "4620\t4     \t983        \t-0      \n",
      "\n",
      "\n"
     ]
    },
    {
     "name": "stdout",
     "output_type": "stream",
     "text": [
      "4630\t1     \t978        \t-0      \n",
      "4630\t2     \t979        \t-0      \n",
      "4630\t3     \t981        \t-0      \n",
      "4630\t4     \t983        \t-0      \n",
      "\n",
      "\n"
     ]
    },
    {
     "name": "stdout",
     "output_type": "stream",
     "text": [
      "4640\t1     \t978        \t-0      \n",
      "4640\t2     \t977        \t-0      \n",
      "4640\t3     \t980        \t-0      \n",
      "4640\t4     \t981        \t-0      \n",
      "\n",
      "\n"
     ]
    },
    {
     "name": "stdout",
     "output_type": "stream",
     "text": [
      "4650\t1     \t978        \t-0      \n",
      "4650\t2     \t976        \t-0      \n",
      "4650\t3     \t977        \t-0      \n",
      "4650\t4     \t980        \t-0      \n",
      "\n",
      "\n"
     ]
    },
    {
     "name": "stdout",
     "output_type": "stream",
     "text": [
      "4660\t1     \t977        \t-0      \n",
      "4660\t2     \t975        \t-0      \n",
      "4660\t3     \t977        \t-0      \n",
      "4660\t4     \t977        \t-0      \n",
      "\n",
      "\n"
     ]
    },
    {
     "name": "stdout",
     "output_type": "stream",
     "text": [
      "4670\t1     \t977        \t-0      \n",
      "4670\t2     \t974        \t-0      \n",
      "4670\t3     \t976        \t-0      \n",
      "4670\t4     \t976        \t-0      \n",
      "\n",
      "\n"
     ]
    },
    {
     "name": "stdout",
     "output_type": "stream",
     "text": [
      "4680\t1     \t976        \t-0      \n",
      "4680\t2     \t977        \t-0      \n",
      "4680\t3     \t974        \t-0      \n",
      "4680\t4     \t975        \t-0      \n",
      "\n",
      "\n"
     ]
    },
    {
     "name": "stdout",
     "output_type": "stream",
     "text": [
      "4690\t1     \t975        \t-0      \n",
      "4690\t2     \t976        \t-0      \n",
      "4690\t3     \t973        \t-0      \n",
      "4690\t4     \t974        \t-0      \n",
      "\n",
      "\n"
     ]
    },
    {
     "name": "stdout",
     "output_type": "stream",
     "text": [
      "4700\t1     \t972        \t0.20622 \n",
      "4700\t2     \t975        \t-0      \n",
      "4700\t3     \t972        \t-0      \n",
      "4700\t4     \t972        \t-0      \n",
      "\n",
      "\n"
     ]
    },
    {
     "name": "stdout",
     "output_type": "stream",
     "text": [
      "4710\t1     \t972        \t-0      \n",
      "4710\t2     \t972        \t0.20622 \n",
      "4710\t3     \t975        \t-0      \n",
      "4710\t4     \t972        \t-0      \n",
      "\n",
      "\n"
     ]
    },
    {
     "name": "stdout",
     "output_type": "stream",
     "text": [
      "4720\t1     \t972        \t-0      \n",
      "4720\t2     \t972        \t-0      \n",
      "4720\t3     \t975        \t-0      \n",
      "4720\t4     \t972        \t-0      \n",
      "\n",
      "\n"
     ]
    },
    {
     "name": "stdout",
     "output_type": "stream",
     "text": [
      "4730\t1     \t972        \t-0      \n",
      "4730\t2     \t971        \t-0      \n",
      "4730\t3     \t975        \t-0      \n",
      "4730\t4     \t968        \t-0      \n",
      "\n",
      "\n"
     ]
    },
    {
     "name": "stdout",
     "output_type": "stream",
     "text": [
      "4740\t1     \t968        \t-0      \n",
      "4740\t2     \t972        \t-0      \n",
      "4740\t3     \t971        \t-0      \n",
      "4740\t4     \t968        \t-0      \n",
      "\n",
      "\n"
     ]
    },
    {
     "name": "stdout",
     "output_type": "stream",
     "text": [
      "4750\t1     \t968        \t-0      \n",
      "4750\t2     \t972        \t-0      \n",
      "4750\t3     \t971        \t-0      \n",
      "4750\t4     \t968        \t-0      \n",
      "\n",
      "\n"
     ]
    },
    {
     "name": "stdout",
     "output_type": "stream",
     "text": [
      "4760\t1     \t968        \t-0      \n",
      "4760\t2     \t972        \t-0      \n",
      "4760\t3     \t971        \t-0      \n",
      "4760\t4     \t967        \t-0      \n",
      "\n",
      "\n"
     ]
    },
    {
     "name": "stdout",
     "output_type": "stream",
     "text": [
      "4770\t1     \t967        \t-0      \n",
      "4770\t2     \t968        \t-0      \n",
      "4770\t3     \t971        \t-0      \n",
      "4770\t4     \t1069       \t-0      \n",
      "\n",
      "\n"
     ]
    },
    {
     "name": "stdout",
     "output_type": "stream",
     "text": [
      "4780\t1     \t967        \t-0      \n",
      "4780\t2     \t968        \t-0      \n",
      "4780\t3     \t968        \t-0      \n",
      "4780\t4     \t971        \t-0      \n",
      "\n",
      "\n"
     ]
    },
    {
     "name": "stdout",
     "output_type": "stream",
     "text": [
      "4790\t1     \t967        \t-0      \n",
      "4790\t2     \t967        \t-0      \n",
      "4790\t3     \t968        \t-0      \n",
      "4790\t4     \t968        \t-0      \n",
      "\n",
      "\n"
     ]
    },
    {
     "name": "stdout",
     "output_type": "stream",
     "text": [
      "4800\t1     \t967        \t-0      \n",
      "4800\t2     \t967        \t-0      \n",
      "4800\t3     \t967        \t-0      \n",
      "4800\t4     \t968        \t-0      \n",
      "\n",
      "\n"
     ]
    },
    {
     "name": "stdout",
     "output_type": "stream",
     "text": [
      "4810\t1     \t967        \t-0      \n",
      "4810\t2     \t967        \t-0      \n",
      "4810\t3     \t967        \t-0      \n",
      "4810\t4     \t967        \t-0      \n",
      "\n",
      "\n"
     ]
    },
    {
     "name": "stdout",
     "output_type": "stream",
     "text": [
      "4820\t1     \t966        \t-0      \n",
      "4820\t2     \t966        \t-0      \n",
      "4820\t3     \t967        \t-0      \n",
      "4820\t4     \t967        \t-0      \n",
      "\n",
      "\n"
     ]
    },
    {
     "name": "stdout",
     "output_type": "stream",
     "text": [
      "4830\t1     \t966        \t-0      \n",
      "4830\t2     \t966        \t-0      \n",
      "4830\t3     \t966        \t-0      \n",
      "4830\t4     \t966        \t-0      \n",
      "\n",
      "\n"
     ]
    },
    {
     "name": "stdout",
     "output_type": "stream",
     "text": [
      "4840\t1     \t966        \t-0      \n",
      "4840\t2     \t965        \t-0      \n",
      "4840\t3     \t966        \t-0      \n",
      "4840\t4     \t966        \t-0      \n",
      "\n",
      "\n"
     ]
    },
    {
     "name": "stdout",
     "output_type": "stream",
     "text": [
      "4850\t1     \t966        \t-0      \n",
      "4850\t2     \t965        \t-0      \n",
      "4850\t3     \t965        \t-0      \n",
      "4850\t4     \t966        \t-0      \n",
      "\n",
      "\n"
     ]
    },
    {
     "name": "stdout",
     "output_type": "stream",
     "text": [
      "4860\t1     \t963        \t-0      \n",
      "4860\t2     \t965        \t-0      \n",
      "4860\t3     \t965        \t-0      \n",
      "4860\t4     \t965        \t-0      \n",
      "\n",
      "\n"
     ]
    },
    {
     "name": "stdout",
     "output_type": "stream",
     "text": [
      "4870\t1     \t963        \t-0      \n",
      "4870\t2     \t963        \t-0      \n",
      "4870\t3     \t965        \t-0      \n",
      "4870\t4     \t965        \t-0      \n",
      "\n",
      "\n"
     ]
    },
    {
     "name": "stdout",
     "output_type": "stream",
     "text": [
      "4880\t1     \t962        \t-0      \n",
      "4880\t2     \t962        \t-0      \n",
      "4880\t3     \t963        \t-0      \n",
      "4880\t4     \t963        \t-0      \n",
      "\n",
      "\n"
     ]
    },
    {
     "name": "stdout",
     "output_type": "stream",
     "text": [
      "4890\t1     \t962        \t-0      \n",
      "4890\t2     \t961        \t0.206832\n",
      "4890\t3     \t962        \t-0      \n",
      "4890\t4     \t963        \t-0      \n",
      "\n",
      "\n"
     ]
    },
    {
     "name": "stdout",
     "output_type": "stream",
     "text": [
      "4900\t1     \t963        \t-0      \n",
      "4900\t2     \t962        \t-0      \n",
      "4900\t3     \t961        \t-0      \n",
      "4900\t4     \t963        \t-0      \n",
      "\n",
      "\n"
     ]
    },
    {
     "name": "stdout",
     "output_type": "stream",
     "text": [
      "4910\t1     \t963        \t-0      \n",
      "4910\t2     \t960        \t-0      \n",
      "4910\t3     \t959        \t-0      \n",
      "4910\t4     \t963        \t-0      \n",
      "\n",
      "\n"
     ]
    },
    {
     "name": "stdout",
     "output_type": "stream",
     "text": [
      "4920\t1     \t961        \t-0      \n",
      "4920\t2     \t963        \t-0      \n",
      "4920\t3     \t958        \t-0      \n",
      "4920\t4     \t961        \t-0      \n",
      "\n",
      "\n"
     ]
    },
    {
     "name": "stdout",
     "output_type": "stream",
     "text": [
      "4930\t1     \t961        \t-0      \n",
      "4930\t2     \t961        \t-0      \n",
      "4930\t3     \t958        \t-0      \n",
      "4930\t4     \t960        \t-0      \n",
      "\n",
      "\n"
     ]
    },
    {
     "name": "stdout",
     "output_type": "stream",
     "text": [
      "4940\t1     \t960        \t-0      \n",
      "4940\t2     \t961        \t-0      \n",
      "4940\t3     \t958        \t-0      \n",
      "4940\t4     \t959        \t0.209682\n",
      "\n",
      "\n"
     ]
    },
    {
     "name": "stdout",
     "output_type": "stream",
     "text": [
      "4950\t1     \t960        \t-0      \n",
      "4950\t2     \t960        \t-0      \n",
      "4950\t3     \t958        \t-0      \n",
      "4950\t4     \t958        \t-0      \n",
      "\n",
      "\n"
     ]
    },
    {
     "name": "stdout",
     "output_type": "stream",
     "text": [
      "4960\t1     \t960        \t-0      \n",
      "4960\t2     \t960        \t-0      \n",
      "4960\t3     \t958        \t-0      \n",
      "4960\t4     \t958        \t-0      \n",
      "\n",
      "\n"
     ]
    },
    {
     "name": "stdout",
     "output_type": "stream",
     "text": [
      "4970\t1     \t960        \t-0      \n",
      "4970\t2     \t960        \t-0      \n",
      "4970\t3     \t957        \t-0      \n",
      "4970\t4     \t958        \t-0      \n",
      "\n",
      "\n"
     ]
    },
    {
     "name": "stdout",
     "output_type": "stream",
     "text": [
      "4980\t1     \t958        \t-0      \n",
      "4980\t2     \t960        \t-0      \n",
      "4980\t3     \t960        \t-0      \n",
      "4980\t4     \t957        \t-0      \n",
      "\n",
      "\n"
     ]
    },
    {
     "name": "stdout",
     "output_type": "stream",
     "text": [
      "4990\t1     \t957        \t-0      \n",
      "4990\t2     \t958        \t-0      \n",
      "4990\t3     \t960        \t-0      \n",
      "4990\t4     \t957        \t-0      \n",
      "\n",
      "\n"
     ]
    },
    {
     "name": "stdout",
     "output_type": "stream",
     "text": [
      "5000\t1     \t957        \t-0      \n",
      "5000\t2     \t954        \t-0      \n",
      "5000\t3     \t958        \t-0      \n",
      "5000\t4     \t957        \t-0      \n",
      "\n",
      "\n"
     ]
    },
    {
     "name": "stdout",
     "output_type": "stream",
     "text": [
      "5010\t1     \t957        \t-0      \n",
      "5010\t2     \t954        \t-0      \n",
      "5010\t3     \t958        \t-0      \n",
      "5010\t4     \t957        \t-0      \n",
      "\n",
      "\n"
     ]
    },
    {
     "name": "stdout",
     "output_type": "stream",
     "text": [
      "5020\t1     \t956        \t-0      \n",
      "5020\t2     \t954        \t-0      \n",
      "5020\t3     \t957        \t-0      \n",
      "5020\t4     \t957        \t-0      \n",
      "\n",
      "\n"
     ]
    },
    {
     "name": "stdout",
     "output_type": "stream",
     "text": [
      "5030\t1     \t956        \t-0      \n",
      "5030\t2     \t954        \t-0      \n",
      "5030\t3     \t954        \t-0      \n",
      "5030\t4     \t955        \t-0      \n",
      "\n",
      "\n"
     ]
    },
    {
     "name": "stdout",
     "output_type": "stream",
     "text": [
      "5040\t1     \t955        \t-0      \n",
      "5040\t2     \t952        \t-0      \n",
      "5040\t3     \t953        \t-0      \n",
      "5040\t4     \t954        \t-0      \n",
      "\n",
      "\n"
     ]
    },
    {
     "name": "stdout",
     "output_type": "stream",
     "text": [
      "5050\t1     \t954        \t-0      \n",
      "5050\t2     \t952        \t-0      \n",
      "5050\t3     \t1068       \t-0      \n",
      "5050\t4     \t953        \t-0      \n",
      "\n",
      "\n"
     ]
    },
    {
     "name": "stdout",
     "output_type": "stream",
     "text": [
      "5060\t1     \t954        \t-0      \n",
      "5060\t2     \t952        \t-0      \n",
      "5060\t3     \t952        \t-0      \n",
      "5060\t4     \t953        \t-0      \n",
      "\n",
      "\n"
     ]
    },
    {
     "name": "stdout",
     "output_type": "stream",
     "text": [
      "5070\t1     \t953        \t-0      \n",
      "5070\t2     \t952        \t-0      \n",
      "5070\t3     \t952        \t-0      \n",
      "5070\t4     \t953        \t-0      \n",
      "\n",
      "\n"
     ]
    },
    {
     "name": "stdout",
     "output_type": "stream",
     "text": [
      "5080\t1     \t953        \t-0      \n",
      "5080\t2     \t950        \t-0      \n",
      "5080\t3     \t952        \t-0      \n",
      "5080\t4     \t952        \t-0      \n",
      "\n",
      "\n"
     ]
    },
    {
     "name": "stdout",
     "output_type": "stream",
     "text": [
      "5090\t1     \t952        \t-0      \n",
      "5090\t2     \t950        \t-0      \n",
      "5090\t3     \t952        \t-0      \n",
      "5090\t4     \t952        \t-0      \n",
      "\n",
      "\n"
     ]
    },
    {
     "name": "stdout",
     "output_type": "stream",
     "text": [
      "5100\t1     \t952        \t-0      \n",
      "5100\t2     \t949        \t-0      \n",
      "5100\t3     \t950        \t-0      \n",
      "5100\t4     \t952        \t-0      \n",
      "\n",
      "\n"
     ]
    },
    {
     "name": "stdout",
     "output_type": "stream",
     "text": [
      "5110\t1     \t950        \t-0      \n",
      "5110\t2     \t952        \t-0      \n",
      "5110\t3     \t949        \t-0      \n",
      "5110\t4     \t950        \t-0      \n",
      "\n",
      "\n"
     ]
    },
    {
     "name": "stdout",
     "output_type": "stream",
     "text": [
      "5120\t1     \t950        \t-0      \n",
      "5120\t2     \t950        \t-0      \n",
      "5120\t3     \t949        \t-0      \n",
      "5120\t4     \t949        \t-0      \n",
      "\n",
      "\n"
     ]
    },
    {
     "name": "stdout",
     "output_type": "stream",
     "text": [
      "5130\t1     \t949        \t-0      \n",
      "5130\t2     \t950        \t-0      \n",
      "5130\t3     \t949        \t-0      \n",
      "5130\t4     \t948        \t-0      \n",
      "\n",
      "\n"
     ]
    },
    {
     "name": "stdout",
     "output_type": "stream",
     "text": [
      "5140\t1     \t948        \t-0      \n",
      "5140\t2     \t949        \t-0      \n",
      "5140\t3     \t949        \t-0      \n",
      "5140\t4     \t949        \t-0      \n",
      "\n",
      "\n"
     ]
    },
    {
     "name": "stdout",
     "output_type": "stream",
     "text": [
      "5150\t1     \t948        \t-0      \n",
      "5150\t2     \t948        \t-0      \n",
      "5150\t3     \t949        \t-0      \n",
      "5150\t4     \t949        \t-0      \n",
      "\n",
      "\n"
     ]
    },
    {
     "name": "stdout",
     "output_type": "stream",
     "text": [
      "5160\t1     \t948        \t-0      \n",
      "5160\t2     \t948        \t-0      \n",
      "5160\t3     \t948        \t-0      \n",
      "5160\t4     \t949        \t-0      \n",
      "\n",
      "\n"
     ]
    },
    {
     "name": "stdout",
     "output_type": "stream",
     "text": [
      "5170\t1     \t947        \t-0      \n",
      "5170\t2     \t947        \t-0      \n",
      "5170\t3     \t948        \t-0      \n",
      "5170\t4     \t948        \t-0      \n",
      "\n",
      "\n"
     ]
    },
    {
     "name": "stdout",
     "output_type": "stream",
     "text": [
      "5180\t1     \t948        \t-0      \n",
      "5180\t2     \t946        \t-0      \n",
      "5180\t3     \t947        \t-0      \n",
      "5180\t4     \t948        \t-0      \n",
      "\n",
      "\n"
     ]
    },
    {
     "name": "stdout",
     "output_type": "stream",
     "text": [
      "5190\t1     \t948        \t-0      \n",
      "5190\t2     \t948        \t-0      \n",
      "5190\t3     \t946        \t-0      \n",
      "5190\t4     \t948        \t-0      \n",
      "\n",
      "\n"
     ]
    },
    {
     "name": "stdout",
     "output_type": "stream",
     "text": [
      "5200\t1     \t948        \t-0      \n",
      "5200\t2     \t948        \t-0      \n",
      "5200\t3     \t945        \t-0      \n",
      "5200\t4     \t946        \t-0      \n",
      "\n",
      "\n"
     ]
    },
    {
     "name": "stdout",
     "output_type": "stream",
     "text": [
      "5210\t1     \t946        \t-0      \n",
      "5210\t2     \t947        \t-0      \n",
      "5210\t3     \t945        \t-0      \n",
      "5210\t4     \t945        \t-0      \n",
      "\n",
      "\n"
     ]
    },
    {
     "name": "stdout",
     "output_type": "stream",
     "text": [
      "5220\t1     \t945        \t-0      \n",
      "5220\t2     \t946        \t-0      \n",
      "5220\t3     \t947        \t-0      \n",
      "5220\t4     \t944        \t-0      \n",
      "\n",
      "\n"
     ]
    },
    {
     "name": "stdout",
     "output_type": "stream",
     "text": [
      "5230\t1     \t944        \t-0      \n",
      "5230\t2     \t941        \t-0      \n",
      "5230\t3     \t947        \t-0      \n",
      "5230\t4     \t947        \t-0      \n",
      "\n",
      "\n"
     ]
    },
    {
     "name": "stdout",
     "output_type": "stream",
     "text": [
      "5240\t1     \t947        \t-0      \n",
      "5240\t2     \t944        \t-0      \n",
      "5240\t3     \t941        \t-0      \n",
      "5240\t4     \t947        \t-0      \n",
      "\n",
      "\n"
     ]
    },
    {
     "name": "stdout",
     "output_type": "stream",
     "text": [
      "5250\t1     \t947        \t-0      \n",
      "5250\t2     \t944        \t-0      \n",
      "5250\t3     \t934        \t0.220876\n",
      "5250\t4     \t941        \t-0      \n",
      "\n",
      "\n"
     ]
    },
    {
     "name": "stdout",
     "output_type": "stream",
     "text": [
      "5260\t1     \t941        \t-0      \n",
      "5260\t2     \t944        \t-0      \n",
      "5260\t3     \t944        \t-0      \n",
      "5260\t4     \t941        \t-0      \n",
      "\n",
      "\n"
     ]
    },
    {
     "name": "stdout",
     "output_type": "stream",
     "text": [
      "5270\t1     \t940        \t-0      \n",
      "5270\t2     \t941        \t-0      \n",
      "5270\t3     \t944        \t-0      \n",
      "5270\t4     \t940        \t-0      \n",
      "\n",
      "\n"
     ]
    },
    {
     "name": "stdout",
     "output_type": "stream",
     "text": [
      "5280\t1     \t940        \t-0      \n",
      "5280\t2     \t940        \t-0      \n",
      "5280\t3     \t941        \t-0      \n",
      "5280\t4     \t940        \t-0      \n",
      "\n",
      "\n"
     ]
    },
    {
     "name": "stdout",
     "output_type": "stream",
     "text": [
      "5290\t1     \t940        \t-0      \n",
      "5290\t2     \t940        \t-0      \n",
      "5290\t3     \t940        \t-0      \n",
      "5290\t4     \t940        \t-0      \n",
      "\n",
      "\n"
     ]
    },
    {
     "name": "stdout",
     "output_type": "stream",
     "text": [
      "5300\t1     \t940        \t-0      \n",
      "5300\t2     \t940        \t-0      \n",
      "5300\t3     \t940        \t-0      \n",
      "5300\t4     \t940        \t-0      \n",
      "\n",
      "\n"
     ]
    },
    {
     "name": "stdout",
     "output_type": "stream",
     "text": [
      "5310\t1     \t940        \t-0      \n",
      "5310\t2     \t939        \t-0      \n",
      "5310\t3     \t940        \t-0      \n",
      "5310\t4     \t940        \t-0      \n",
      "\n",
      "\n"
     ]
    },
    {
     "name": "stdout",
     "output_type": "stream",
     "text": [
      "5320\t1     \t940        \t-0      \n",
      "5320\t2     \t939        \t-0      \n",
      "5320\t3     \t939        \t-0      \n",
      "5320\t4     \t940        \t-0      \n",
      "\n",
      "\n"
     ]
    },
    {
     "name": "stdout",
     "output_type": "stream",
     "text": [
      "5330\t1     \t940        \t-0      \n",
      "5330\t2     \t938        \t-0      \n",
      "5330\t3     \t939        \t-0      \n",
      "5330\t4     \t939        \t-0      \n",
      "\n",
      "\n"
     ]
    },
    {
     "name": "stdout",
     "output_type": "stream",
     "text": [
      "5340\t1     \t940        \t-0      \n",
      "5340\t2     \t934        \t0.210194\n",
      "5340\t3     \t938        \t-0      \n",
      "5340\t4     \t939        \t-0      \n",
      "\n",
      "\n"
     ]
    },
    {
     "name": "stdout",
     "output_type": "stream",
     "text": [
      "5350\t1     \t938        \t-0      \n",
      "5350\t2     \t934        \t0.210194\n",
      "5350\t3     \t938        \t-0      \n",
      "5350\t4     \t938        \t-0      \n",
      "\n",
      "\n"
     ]
    },
    {
     "name": "stdout",
     "output_type": "stream",
     "text": [
      "5360\t1     \t938        \t-0      \n",
      "5360\t2     \t938        \t-0      \n",
      "5360\t3     \t938        \t-0      \n",
      "5360\t4     \t1040       \t-0      \n",
      "\n",
      "\n"
     ]
    },
    {
     "name": "stdout",
     "output_type": "stream",
     "text": [
      "5370\t1     \t934        \t0.20917 \n",
      "5370\t2     \t938        \t-0      \n",
      "5370\t3     \t938        \t-0      \n",
      "5370\t4     \t938        \t-0      \n",
      "\n",
      "\n"
     ]
    },
    {
     "name": "stdout",
     "output_type": "stream",
     "text": [
      "5380\t1     \t938        \t-0      \n",
      "5380\t2     \t937        \t-0      \n",
      "5380\t3     \t938        \t-0      \n",
      "5380\t4     \t938        \t-0      \n",
      "\n",
      "\n"
     ]
    },
    {
     "name": "stdout",
     "output_type": "stream",
     "text": [
      "5390\t1     \t938        \t-0      \n",
      "5390\t2     \t934        \t0.208761\n",
      "5390\t3     \t936        \t-0      \n",
      "5390\t4     \t938        \t-0      \n",
      "\n",
      "\n"
     ]
    },
    {
     "name": "stdout",
     "output_type": "stream",
     "text": [
      "5400\t1     \t938        \t-0      \n",
      "5400\t2     \t938        \t-0      \n",
      "5400\t3     \t934        \t0.208761\n",
      "5400\t4     \t936        \t-0      \n",
      "\n",
      "\n"
     ]
    },
    {
     "name": "stdout",
     "output_type": "stream",
     "text": [
      "5410\t1     \t938        \t-0      \n",
      "5410\t2     \t933        \t0.207952\n",
      "5410\t3     \t938        \t-0      \n",
      "5410\t4     \t936        \t-0      \n",
      "\n",
      "\n"
     ]
    },
    {
     "name": "stdout",
     "output_type": "stream",
     "text": [
      "5420\t1     \t938        \t-0      \n",
      "5420\t2     \t933        \t0.207849\n",
      "5420\t3     \t937        \t-0      \n",
      "5420\t4     \t936        \t-0      \n",
      "\n",
      "\n"
     ]
    },
    {
     "name": "stdout",
     "output_type": "stream",
     "text": [
      "5430\t1     \t936        \t-0      \n",
      "5430\t2     \t938        \t-0      \n",
      "5430\t3     \t937        \t-0      \n",
      "5430\t4     \t935        \t-0      \n",
      "\n",
      "\n"
     ]
    },
    {
     "name": "stdout",
     "output_type": "stream",
     "text": [
      "5440\t1     \t932        \t0.208561\n",
      "5440\t2     \t936        \t-0      \n",
      "5440\t3     \t937        \t-0      \n",
      "5440\t4     \t935        \t-0      \n",
      "\n",
      "\n"
     ]
    },
    {
     "name": "stdout",
     "output_type": "stream",
     "text": [
      "5450\t1     \t935        \t-0      \n",
      "5450\t2     \t935        \t-0      \n",
      "5450\t3     \t936        \t-0      \n",
      "5450\t4     \t935        \t-0      \n",
      "\n",
      "\n"
     ]
    },
    {
     "name": "stdout",
     "output_type": "stream",
     "text": [
      "5460\t1     \t934        \t-0      \n",
      "5460\t2     \t933        \t0.206934\n",
      "5460\t3     \t935        \t-0      \n",
      "5460\t4     \t934        \t-0      \n",
      "\n",
      "\n"
     ]
    },
    {
     "name": "stdout",
     "output_type": "stream",
     "text": [
      "5470\t1     \t934        \t-0      \n",
      "5470\t2     \t934        \t-0      \n",
      "5470\t3     \t935        \t-0      \n",
      "5470\t4     \t935        \t-0      \n",
      "\n",
      "\n"
     ]
    },
    {
     "name": "stdout",
     "output_type": "stream",
     "text": [
      "5480\t1     \t934        \t-0      \n",
      "5480\t2     \t934        \t-0      \n",
      "5480\t3     \t934        \t-0      \n",
      "5480\t4     \t935        \t-0      \n",
      "\n",
      "\n"
     ]
    },
    {
     "name": "stdout",
     "output_type": "stream",
     "text": [
      "5490\t1     \t933        \t-0      \n",
      "5490\t2     \t934        \t-0      \n",
      "5490\t3     \t1150       \t0.209683\n",
      "5490\t4     \t933        \t-0      \n",
      "\n",
      "\n"
     ]
    },
    {
     "name": "stdout",
     "output_type": "stream",
     "text": [
      "5500\t1     \t933        \t-0      \n",
      "5500\t2     \t934        \t-0      \n",
      "5500\t3     \t934        \t-0      \n",
      "5500\t4     \t1042       \t-0      \n",
      "\n",
      "\n"
     ]
    },
    {
     "name": "stdout",
     "output_type": "stream",
     "text": [
      "5510\t1     \t933        \t-0      \n",
      "5510\t2     \t933        \t-0      \n",
      "5510\t3     \t933        \t-0      \n",
      "5510\t4     \t933        \t-0      \n",
      "\n",
      "\n"
     ]
    },
    {
     "name": "stdout",
     "output_type": "stream",
     "text": [
      "5520\t1     \t932        \t-0      \n",
      "5520\t2     \t932        \t-0      \n",
      "5520\t3     \t933        \t-0      \n",
      "5520\t4     \t933        \t-0      \n",
      "\n",
      "\n"
     ]
    },
    {
     "name": "stdout",
     "output_type": "stream",
     "text": [
      "5530\t1     \t933        \t-0      \n",
      "5530\t2     \t932        \t-0      \n",
      "5530\t3     \t933        \t-0      \n",
      "5530\t4     \t932        \t-0      \n",
      "\n",
      "\n"
     ]
    },
    {
     "name": "stdout",
     "output_type": "stream",
     "text": [
      "5540\t1     \t932        \t-0      \n",
      "5540\t2     \t931        \t-0      \n",
      "5540\t3     \t932        \t-0      \n",
      "5540\t4     \t933        \t-0      \n",
      "\n",
      "\n"
     ]
    },
    {
     "name": "stdout",
     "output_type": "stream",
     "text": [
      "5550\t1     \t932        \t-0      \n",
      "5550\t2     \t930        \t-0      \n",
      "5550\t3     \t932        \t-0      \n",
      "5550\t4     \t933        \t-0      \n",
      "\n",
      "\n"
     ]
    },
    {
     "name": "stdout",
     "output_type": "stream",
     "text": [
      "5560\t1     \t932        \t-0      \n",
      "5560\t2     \t930        \t-0      \n",
      "5560\t3     \t930        \t-0      \n",
      "5560\t4     \t932        \t-0      \n",
      "\n",
      "\n"
     ]
    },
    {
     "name": "stdout",
     "output_type": "stream",
     "text": [
      "5570\t1     \t931        \t-0      \n",
      "5570\t2     \t930        \t-0      \n",
      "5570\t3     \t930        \t-0      \n",
      "5570\t4     \t930        \t-0      \n",
      "\n",
      "\n"
     ]
    },
    {
     "name": "stdout",
     "output_type": "stream",
     "text": [
      "5580\t1     \t930        \t-0      \n",
      "5580\t2     \t930        \t-0      \n",
      "5580\t3     \t929        \t-0      \n",
      "5580\t4     \t930        \t-0      \n",
      "\n",
      "\n"
     ]
    },
    {
     "name": "stdout",
     "output_type": "stream",
     "text": [
      "5590\t1     \t930        \t-0      \n",
      "5590\t2     \t930        \t-0      \n",
      "5590\t3     \t929        \t-0      \n",
      "5590\t4     \t929        \t-0      \n",
      "\n",
      "\n"
     ]
    },
    {
     "name": "stdout",
     "output_type": "stream",
     "text": [
      "5600\t1     \t929        \t-0      \n",
      "5600\t2     \t929        \t-0      \n",
      "5600\t3     \t929        \t-0      \n",
      "5600\t4     \t929        \t-0      \n",
      "\n",
      "\n"
     ]
    },
    {
     "name": "stdout",
     "output_type": "stream",
     "text": [
      "5610\t1     \t929        \t-0      \n",
      "5610\t2     \t929        \t-0      \n",
      "5610\t3     \t929        \t-0      \n",
      "5610\t4     \t929        \t-0      \n",
      "\n",
      "\n"
     ]
    },
    {
     "name": "stdout",
     "output_type": "stream",
     "text": [
      "5620\t1     \t929        \t-0      \n",
      "5620\t2     \t929        \t-0      \n",
      "5620\t3     \t929        \t-0      \n",
      "5620\t4     \t928        \t-0      \n",
      "\n",
      "\n"
     ]
    },
    {
     "name": "stdout",
     "output_type": "stream",
     "text": [
      "5630\t1     \t928        \t-0      \n",
      "5630\t2     \t928        \t-0      \n",
      "5630\t3     \t929        \t-0      \n",
      "5630\t4     \t928        \t-0      \n",
      "\n",
      "\n"
     ]
    },
    {
     "name": "stdout",
     "output_type": "stream",
     "text": [
      "5640\t1     \t926        \t-0      \n",
      "5640\t2     \t913        \t0.228   \n",
      "5640\t3     \t928        \t-0      \n",
      "5640\t4     \t928        \t-0      \n",
      "\n",
      "\n"
     ]
    },
    {
     "name": "stdout",
     "output_type": "stream",
     "text": [
      "5650\t1     \t928        \t-0      \n",
      "5650\t2     \t926        \t-0      \n",
      "5650\t3     \t926        \t0.2055  \n",
      "5650\t4     \t928        \t-0      \n",
      "\n",
      "\n"
     ]
    },
    {
     "name": "stdout",
     "output_type": "stream",
     "text": [
      "5660\t1     \t928        \t-0      \n",
      "5660\t2     \t926        \t-0      \n",
      "5660\t3     \t926        \t-0      \n",
      "5660\t4     \t928        \t-0      \n",
      "\n",
      "\n"
     ]
    },
    {
     "name": "stdout",
     "output_type": "stream",
     "text": [
      "5670\t1     \t927        \t-0      \n",
      "5670\t2     \t926        \t-0      \n",
      "5670\t3     \t923        \t-0      \n",
      "5670\t4     \t925        \t-0      \n",
      "\n",
      "\n"
     ]
    },
    {
     "name": "stdout",
     "output_type": "stream",
     "text": [
      "5680\t1     \t924        \t-0      \n",
      "5680\t2     \t923        \t-0      \n",
      "5680\t3     \t926        \t-0      \n",
      "5680\t4     \t923        \t-0      \n",
      "\n",
      "\n"
     ]
    },
    {
     "name": "stdout",
     "output_type": "stream",
     "text": [
      "5690\t1     \t923        \t-0      \n",
      "5690\t2     \t922        \t-0      \n",
      "5690\t3     \t923        \t-0      \n",
      "5690\t4     \t926        \t-0      \n",
      "\n",
      "\n"
     ]
    },
    {
     "name": "stdout",
     "output_type": "stream",
     "text": [
      "5700\t1     \t923        \t-0      \n",
      "5700\t2     \t923        \t-0      \n",
      "5700\t3     \t922        \t-0      \n",
      "5700\t4     \t923        \t-0      \n",
      "\n",
      "\n"
     ]
    },
    {
     "name": "stdout",
     "output_type": "stream",
     "text": [
      "5710\t1     \t923        \t-0      \n",
      "5710\t2     \t921        \t-0      \n",
      "5710\t3     \t922        \t-0      \n",
      "5710\t4     \t922        \t-0      \n",
      "\n",
      "\n"
     ]
    },
    {
     "name": "stdout",
     "output_type": "stream",
     "text": [
      "5720\t1     \t922        \t-0      \n",
      "5720\t2     \t921        \t-0      \n",
      "5720\t3     \t922        \t-0      \n",
      "5720\t4     \t922        \t-0      \n",
      "\n",
      "\n"
     ]
    },
    {
     "name": "stdout",
     "output_type": "stream",
     "text": [
      "5730\t1     \t922        \t-0      \n",
      "5730\t2     \t921        \t-0      \n",
      "5730\t3     \t921        \t-0      \n",
      "5730\t4     \t921        \t-0      \n",
      "\n",
      "\n"
     ]
    },
    {
     "name": "stdout",
     "output_type": "stream",
     "text": [
      "5740\t1     \t921        \t-0      \n",
      "5740\t2     \t920        \t-0      \n",
      "5740\t3     \t921        \t-0      \n",
      "5740\t4     \t921        \t-0      \n",
      "\n",
      "\n"
     ]
    },
    {
     "name": "stdout",
     "output_type": "stream",
     "text": [
      "5750\t1     \t915        \t0.216707\n",
      "5750\t2     \t920        \t-0      \n",
      "5750\t3     \t921        \t-0      \n",
      "5750\t4     \t919        \t-0      \n",
      "\n",
      "\n"
     ]
    },
    {
     "name": "stdout",
     "output_type": "stream",
     "text": [
      "5760\t1     \t919        \t-0      \n",
      "5760\t2     \t920        \t-0      \n",
      "5760\t3     \t921        \t-0      \n",
      "5760\t4     \t919        \t-0      \n",
      "\n",
      "\n"
     ]
    },
    {
     "name": "stdout",
     "output_type": "stream",
     "text": [
      "5770\t1     \t919        \t-0      \n",
      "5770\t2     \t920        \t-0      \n",
      "5770\t3     \t920        \t-0      \n",
      "5770\t4     \t919        \t-0      \n",
      "\n",
      "\n"
     ]
    },
    {
     "name": "stdout",
     "output_type": "stream",
     "text": [
      "5780\t1     \t919        \t-0      \n",
      "5780\t2     \t919        \t-0      \n",
      "5780\t3     \t920        \t-0      \n",
      "5780\t4     \t920        \t-0      \n",
      "\n",
      "\n"
     ]
    },
    {
     "name": "stdout",
     "output_type": "stream",
     "text": [
      "5790\t1     \t918        \t-0      \n",
      "5790\t2     \t919        \t-0      \n",
      "5790\t3     \t919        \t-0      \n",
      "5790\t4     \t920        \t-0      \n",
      "\n",
      "\n"
     ]
    },
    {
     "name": "stdout",
     "output_type": "stream",
     "text": [
      "5800\t1     \t919        \t-0      \n",
      "5800\t2     \t918        \t-0      \n",
      "5800\t3     \t919        \t-0      \n",
      "5800\t4     \t919        \t-0      \n",
      "\n",
      "\n"
     ]
    },
    {
     "name": "stdout",
     "output_type": "stream",
     "text": [
      "5810\t1     \t919        \t-0      \n",
      "5810\t2     \t918        \t-0      \n",
      "5810\t3     \t918        \t-0      \n",
      "5810\t4     \t917        \t-0      \n",
      "\n",
      "\n"
     ]
    },
    {
     "name": "stdout",
     "output_type": "stream",
     "text": [
      "5820\t1     \t917        \t-0      \n",
      "5820\t2     \t918        \t-0      \n",
      "5820\t3     \t918        \t-0      \n",
      "5820\t4     \t918        \t-0      \n",
      "\n",
      "\n"
     ]
    },
    {
     "name": "stdout",
     "output_type": "stream",
     "text": [
      "5830\t1     \t917        \t-0      \n",
      "5830\t2     \t918        \t-0      \n",
      "5830\t3     \t918        \t-0      \n",
      "5830\t4     \t918        \t-0      \n",
      "\n",
      "\n"
     ]
    },
    {
     "name": "stdout",
     "output_type": "stream",
     "text": [
      "5840\t1     \t917        \t-0      \n",
      "5840\t2     \t917        \t-0      \n",
      "5840\t3     \t918        \t-0      \n",
      "5840\t4     \t918        \t-0      \n",
      "\n",
      "\n"
     ]
    },
    {
     "name": "stdout",
     "output_type": "stream",
     "text": [
      "5850\t1     \t917        \t-0      \n",
      "5850\t2     \t917        \t-0      \n",
      "5850\t3     \t917        \t-0      \n",
      "5850\t4     \t918        \t-0      \n",
      "\n",
      "\n"
     ]
    },
    {
     "name": "stdout",
     "output_type": "stream",
     "text": [
      "5860\t1     \t917        \t-0      \n",
      "5860\t2     \t917        \t-0      \n",
      "5860\t3     \t917        \t-0      \n",
      "5860\t4     \t917        \t-0      \n",
      "\n",
      "\n"
     ]
    },
    {
     "name": "stdout",
     "output_type": "stream",
     "text": [
      "5870\t1     \t917        \t-0      \n",
      "5870\t2     \t916        \t-0      \n",
      "5870\t3     \t916        \t-0      \n",
      "5870\t4     \t916        \t-0      \n",
      "\n",
      "\n"
     ]
    },
    {
     "name": "stdout",
     "output_type": "stream",
     "text": [
      "5880\t1     \t916        \t-0      \n",
      "5880\t2     \t917        \t-0      \n",
      "5880\t3     \t916        \t-0      \n",
      "5880\t4     \t916        \t-0      \n",
      "\n",
      "\n"
     ]
    },
    {
     "name": "stdout",
     "output_type": "stream",
     "text": [
      "5890\t1     \t915        \t-0      \n",
      "5890\t2     \t908        \t0.21904 \n",
      "5890\t3     \t916        \t-0      \n",
      "5890\t4     \t916        \t-0      \n",
      "\n",
      "\n"
     ]
    },
    {
     "name": "stdout",
     "output_type": "stream",
     "text": [
      "5900\t1     \t915        \t-0      \n",
      "5900\t2     \t908        \t0.222301\n",
      "5900\t3     \t916        \t-0      \n",
      "5900\t4     \t916        \t-0      \n",
      "\n",
      "\n"
     ]
    },
    {
     "name": "stdout",
     "output_type": "stream",
     "text": [
      "5910\t1     \t916        \t-0      \n",
      "5910\t2     \t915        \t-0      \n",
      "5910\t3     \t916        \t-0      \n",
      "5910\t4     \t916        \t-0      \n",
      "\n",
      "\n"
     ]
    },
    {
     "name": "stdout",
     "output_type": "stream",
     "text": [
      "5920\t1     \t916        \t-0      \n",
      "5920\t2     \t915        \t-0      \n",
      "5920\t3     \t915        \t-0      \n",
      "5920\t4     \t914        \t-0      \n",
      "\n",
      "\n"
     ]
    },
    {
     "name": "stdout",
     "output_type": "stream",
     "text": [
      "5930\t1     \t914        \t-0      \n",
      "5930\t2     \t915        \t-0      \n",
      "5930\t3     \t915        \t-0      \n",
      "5930\t4     \t915        \t-0      \n",
      "\n",
      "\n"
     ]
    },
    {
     "name": "stdout",
     "output_type": "stream",
     "text": [
      "5940\t1     \t914        \t-0      \n",
      "5940\t2     \t915        \t-0      \n",
      "5940\t3     \t915        \t-0      \n",
      "5940\t4     \t915        \t-0      \n",
      "\n",
      "\n"
     ]
    },
    {
     "name": "stdout",
     "output_type": "stream",
     "text": [
      "5950\t1     \t914        \t-0      \n",
      "5950\t2     \t914        \t-0      \n",
      "5950\t3     \t915        \t-0      \n",
      "5950\t4     \t915        \t-0      \n",
      "\n",
      "\n"
     ]
    },
    {
     "name": "stdout",
     "output_type": "stream",
     "text": [
      "5960\t1     \t914        \t-0      \n",
      "5960\t2     \t914        \t-0      \n",
      "5960\t3     \t914        \t-0      \n",
      "5960\t4     \t915        \t-0      \n",
      "\n",
      "\n"
     ]
    },
    {
     "name": "stdout",
     "output_type": "stream",
     "text": [
      "5970\t1     \t914        \t-0      \n",
      "5970\t2     \t914        \t-0      \n",
      "5970\t3     \t914        \t-0      \n",
      "5970\t4     \t914        \t-0      \n",
      "\n",
      "\n"
     ]
    },
    {
     "name": "stdout",
     "output_type": "stream",
     "text": [
      "5980\t1     \t914        \t-0      \n",
      "5980\t2     \t914        \t-0      \n",
      "5980\t3     \t914        \t-0      \n",
      "5980\t4     \t914        \t-0      \n",
      "\n",
      "\n"
     ]
    },
    {
     "name": "stdout",
     "output_type": "stream",
     "text": [
      "5990\t1     \t913        \t-0      \n",
      "5990\t2     \t914        \t-0      \n",
      "5990\t3     \t914        \t-0      \n",
      "5990\t4     \t914        \t-0      \n",
      "\n",
      "\n"
     ]
    },
    {
     "name": "stdout",
     "output_type": "stream",
     "text": [
      "6000\t1     \t914        \t-0      \n",
      "6000\t2     \t913        \t-0      \n",
      "6000\t3     \t914        \t-0      \n",
      "6000\t4     \t914        \t-0      \n",
      "\n",
      "\n"
     ]
    },
    {
     "name": "stdout",
     "output_type": "stream",
     "text": [
      "6010\t1     \t914        \t-0      \n",
      "6010\t2     \t913        \t-0      \n",
      "6010\t3     \t912        \t-0      \n",
      "6010\t4     \t914        \t-0      \n",
      "\n",
      "\n"
     ]
    },
    {
     "name": "stdout",
     "output_type": "stream",
     "text": [
      "6020\t1     \t914        \t-0      \n",
      "6020\t2     \t913        \t-0      \n",
      "6020\t3     \t1018       \t-0      \n",
      "6020\t4     \t912        \t-0      \n",
      "\n",
      "\n"
     ]
    },
    {
     "name": "stdout",
     "output_type": "stream",
     "text": [
      "6030\t1     \t912        \t-0      \n",
      "6030\t2     \t913        \t-0      \n",
      "6030\t3     \t913        \t-0      \n",
      "6030\t4     \t912        \t-0      \n",
      "\n",
      "\n"
     ]
    },
    {
     "name": "stdout",
     "output_type": "stream",
     "text": [
      "6040\t1     \t912        \t-0      \n",
      "6040\t2     \t913        \t-0      \n",
      "6040\t3     \t913        \t-0      \n",
      "6040\t4     \t912        \t-0      \n",
      "\n",
      "\n"
     ]
    },
    {
     "name": "stdout",
     "output_type": "stream",
     "text": [
      "6050\t1     \t912        \t-0      \n",
      "6050\t2     \t912        \t-0      \n",
      "6050\t3     \t913        \t-0      \n",
      "6050\t4     \t912        \t-0      \n",
      "\n",
      "\n"
     ]
    },
    {
     "name": "stdout",
     "output_type": "stream",
     "text": [
      "6060\t1     \t912        \t-0      \n",
      "6060\t2     \t904        \t0.218537\n",
      "6060\t3     \t911        \t-0      \n",
      "6060\t4     \t912        \t-0      \n",
      "\n",
      "\n"
     ]
    },
    {
     "name": "stdout",
     "output_type": "stream",
     "text": [
      "6070\t1     \t912        \t-0      \n",
      "6070\t2     \t904        \t0.218537\n",
      "6070\t3     \t911        \t-0      \n",
      "6070\t4     \t911        \t-0      \n",
      "\n",
      "\n"
     ]
    },
    {
     "name": "stdout",
     "output_type": "stream",
     "text": [
      "6080\t1     \t911        \t-0      \n",
      "6080\t2     \t904        \t0.218537\n",
      "6080\t3     \t911        \t-0      \n",
      "6080\t4     \t911        \t-0      \n",
      "\n",
      "\n"
     ]
    },
    {
     "name": "stdout",
     "output_type": "stream",
     "text": [
      "6090\t1     \t911        \t-0      \n",
      "6090\t2     \t911        \t-0      \n",
      "6090\t3     \t911        \t-0      \n",
      "6090\t4     \t910        \t-0      \n",
      "\n",
      "\n"
     ]
    },
    {
     "name": "stdout",
     "output_type": "stream",
     "text": [
      "6100\t1     \t910        \t-0      \n",
      "6100\t2     \t911        \t-0      \n",
      "6100\t3     \t911        \t-0      \n",
      "6100\t4     \t910        \t-0      \n",
      "\n",
      "\n"
     ]
    },
    {
     "name": "stdout",
     "output_type": "stream",
     "text": [
      "6110\t1     \t909        \t-0      \n",
      "6110\t2     \t911        \t-0      \n",
      "6110\t3     \t910        \t-0      \n",
      "6110\t4     \t909        \t-0      \n",
      "\n",
      "\n"
     ]
    },
    {
     "name": "stdout",
     "output_type": "stream",
     "text": [
      "6120\t1     \t909        \t-0      \n",
      "6120\t2     \t911        \t-0      \n",
      "6120\t3     \t910        \t-0      \n",
      "6120\t4     \t909        \t-0      \n",
      "\n",
      "\n"
     ]
    },
    {
     "name": "stdout",
     "output_type": "stream",
     "text": [
      "6130\t1     \t909        \t-0      \n",
      "6130\t2     \t910        \t-0      \n",
      "6130\t3     \t910        \t-0      \n",
      "6130\t4     \t910        \t-0      \n",
      "\n",
      "\n"
     ]
    },
    {
     "name": "stdout",
     "output_type": "stream",
     "text": [
      "6140\t1     \t909        \t-0      \n",
      "6140\t2     \t909        \t-0      \n",
      "6140\t3     \t910        \t-0      \n",
      "6140\t4     \t910        \t-0      \n",
      "\n",
      "\n"
     ]
    },
    {
     "name": "stdout",
     "output_type": "stream",
     "text": [
      "6150\t1     \t909        \t-0      \n",
      "6150\t2     \t909        \t-0      \n",
      "6150\t3     \t909        \t-0      \n",
      "6150\t4     \t910        \t-0      \n",
      "\n",
      "\n"
     ]
    },
    {
     "name": "stdout",
     "output_type": "stream",
     "text": [
      "6160\t1     \t909        \t-0      \n",
      "6160\t2     \t909        \t-0      \n",
      "6160\t3     \t909        \t-0      \n",
      "6160\t4     \t909        \t-0      \n",
      "\n",
      "\n"
     ]
    },
    {
     "name": "stdout",
     "output_type": "stream",
     "text": [
      "6170\t1     \t909        \t-0      \n",
      "6170\t2     \t909        \t-0      \n",
      "6170\t3     \t909        \t-0      \n",
      "6170\t4     \t909        \t-0      \n",
      "\n",
      "\n"
     ]
    },
    {
     "name": "stdout",
     "output_type": "stream",
     "text": [
      "6180\t1     \t909        \t-0      \n",
      "6180\t2     \t909        \t-0      \n",
      "6180\t3     \t909        \t-0      \n",
      "6180\t4     \t909        \t-0      \n",
      "\n",
      "\n"
     ]
    },
    {
     "name": "stdout",
     "output_type": "stream",
     "text": [
      "6190\t1     \t909        \t-0      \n",
      "6190\t2     \t909        \t-0      \n",
      "6190\t3     \t909        \t-0      \n",
      "6190\t4     \t909        \t-0      \n",
      "\n",
      "\n"
     ]
    },
    {
     "name": "stdout",
     "output_type": "stream",
     "text": [
      "6200\t1     \t909        \t-0      \n",
      "6200\t2     \t909        \t-0      \n",
      "6200\t3     \t909        \t-0      \n",
      "6200\t4     \t909        \t-0      \n",
      "\n",
      "\n"
     ]
    },
    {
     "name": "stdout",
     "output_type": "stream",
     "text": [
      "6210\t1     \t909        \t-0      \n",
      "6210\t2     \t909        \t-0      \n",
      "6210\t3     \t909        \t-0      \n",
      "6210\t4     \t909        \t-0      \n",
      "\n",
      "\n"
     ]
    },
    {
     "name": "stdout",
     "output_type": "stream",
     "text": [
      "6220\t1     \t909        \t-0      \n",
      "6220\t2     \t909        \t-0      \n",
      "6220\t3     \t909        \t-0      \n",
      "6220\t4     \t909        \t-0      \n",
      "\n",
      "\n"
     ]
    },
    {
     "name": "stdout",
     "output_type": "stream",
     "text": [
      "6230\t1     \t909        \t-0      \n",
      "6230\t2     \t909        \t-0      \n",
      "6230\t3     \t909        \t-0      \n",
      "6230\t4     \t909        \t-0      \n",
      "\n",
      "\n"
     ]
    },
    {
     "name": "stdout",
     "output_type": "stream",
     "text": [
      "6240\t1     \t909        \t-0      \n",
      "6240\t2     \t909        \t-0      \n",
      "6240\t3     \t909        \t-0      \n",
      "6240\t4     \t909        \t-0      \n",
      "\n",
      "\n"
     ]
    },
    {
     "name": "stdout",
     "output_type": "stream",
     "text": [
      "6250\t1     \t909        \t-0      \n",
      "6250\t2     \t909        \t-0      \n",
      "6250\t3     \t909        \t-0      \n",
      "6250\t4     \t909        \t-0      \n",
      "\n",
      "\n"
     ]
    },
    {
     "name": "stdout",
     "output_type": "stream",
     "text": [
      "6260\t1     \t909        \t-0      \n",
      "6260\t2     \t909        \t-0      \n",
      "6260\t3     \t909        \t-0      \n",
      "6260\t4     \t908        \t-0      \n",
      "\n",
      "\n"
     ]
    },
    {
     "name": "stdout",
     "output_type": "stream",
     "text": [
      "6270\t1     \t908        \t-0      \n",
      "6270\t2     \t909        \t-0      \n",
      "6270\t3     \t909        \t-0      \n",
      "6270\t4     \t909        \t-0      \n",
      "\n",
      "\n"
     ]
    },
    {
     "name": "stdout",
     "output_type": "stream",
     "text": [
      "6280\t1     \t908        \t-0      \n",
      "6280\t2     \t908        \t-0      \n",
      "6280\t3     \t909        \t-0      \n",
      "6280\t4     \t909        \t-0      \n",
      "\n",
      "\n"
     ]
    },
    {
     "name": "stdout",
     "output_type": "stream",
     "text": [
      "6290\t1     \t902        \t0.2165  \n",
      "6290\t2     \t908        \t-0      \n",
      "6290\t3     \t908        \t-0      \n",
      "6290\t4     \t909        \t-0      \n",
      "\n",
      "\n"
     ]
    },
    {
     "name": "stdout",
     "output_type": "stream",
     "text": [
      "6300\t1     \t909        \t-0      \n",
      "6300\t2     \t908        \t-0      \n",
      "6300\t3     \t908        \t-0      \n",
      "6300\t4     \t908        \t-0      \n",
      "\n",
      "\n"
     ]
    },
    {
     "name": "stdout",
     "output_type": "stream",
     "text": [
      "6310\t1     \t908        \t-0      \n",
      "6310\t2     \t908        \t-0      \n",
      "6310\t3     \t908        \t-0      \n",
      "6310\t4     \t908        \t-0      \n",
      "\n",
      "\n"
     ]
    },
    {
     "name": "stdout",
     "output_type": "stream",
     "text": [
      "6320\t1     \t908        \t-0      \n",
      "6320\t2     \t908        \t-0      \n",
      "6320\t3     \t908        \t-0      \n",
      "6320\t4     \t908        \t-0      \n",
      "\n",
      "\n"
     ]
    },
    {
     "name": "stdout",
     "output_type": "stream",
     "text": [
      "6330\t1     \t908        \t-0      \n",
      "6330\t2     \t908        \t-0      \n",
      "6330\t3     \t908        \t-0      \n",
      "6330\t4     \t908        \t-0      \n",
      "\n",
      "\n"
     ]
    },
    {
     "name": "stdout",
     "output_type": "stream",
     "text": [
      "6340\t1     \t908        \t-0      \n",
      "6340\t2     \t908        \t-0      \n",
      "6340\t3     \t907        \t-0      \n",
      "6340\t4     \t908        \t-0      \n",
      "\n",
      "\n"
     ]
    },
    {
     "name": "stdout",
     "output_type": "stream",
     "text": [
      "6350\t1     \t908        \t-0      \n",
      "6350\t2     \t908        \t-0      \n",
      "6350\t3     \t908        \t-0      \n",
      "6350\t4     \t907        \t-0      \n",
      "\n",
      "\n"
     ]
    },
    {
     "name": "stdout",
     "output_type": "stream",
     "text": [
      "6360\t1     \t907        \t-0      \n",
      "6360\t2     \t908        \t-0      \n",
      "6360\t3     \t908        \t-0      \n",
      "6360\t4     \t907        \t-0      \n",
      "\n",
      "\n"
     ]
    },
    {
     "name": "stdout",
     "output_type": "stream",
     "text": [
      "6370\t1     \t907        \t-0      \n",
      "6370\t2     \t907        \t-0      \n",
      "6370\t3     \t908        \t-0      \n",
      "6370\t4     \t907        \t-0      \n",
      "\n",
      "\n"
     ]
    },
    {
     "name": "stdout",
     "output_type": "stream",
     "text": [
      "6380\t1     \t907        \t-0      \n",
      "6380\t2     \t907        \t-0      \n",
      "6380\t3     \t907        \t-0      \n",
      "6380\t4     \t907        \t-0      \n",
      "\n",
      "\n"
     ]
    },
    {
     "name": "stdout",
     "output_type": "stream",
     "text": [
      "6390\t1     \t907        \t-0      \n",
      "6390\t2     \t907        \t-0      \n",
      "6390\t3     \t907        \t-0      \n",
      "6390\t4     \t907        \t-0      \n",
      "\n",
      "\n"
     ]
    },
    {
     "name": "stdout",
     "output_type": "stream",
     "text": [
      "6400\t1     \t907        \t-0      \n",
      "6400\t2     \t907        \t-0      \n",
      "6400\t3     \t907        \t-0      \n",
      "6400\t4     \t907        \t-0      \n",
      "\n",
      "\n"
     ]
    },
    {
     "name": "stdout",
     "output_type": "stream",
     "text": [
      "6410\t1     \t907        \t-0      \n",
      "6410\t2     \t907        \t-0      \n",
      "6410\t3     \t907        \t-0      \n",
      "6410\t4     \t906        \t-0      \n",
      "\n",
      "\n"
     ]
    },
    {
     "name": "stdout",
     "output_type": "stream",
     "text": [
      "6420\t1     \t907        \t-0      \n",
      "6420\t2     \t907        \t-0      \n",
      "6420\t3     \t907        \t-0      \n",
      "6420\t4     \t906        \t-0      \n",
      "\n",
      "\n"
     ]
    },
    {
     "name": "stdout",
     "output_type": "stream",
     "text": [
      "6430\t1     \t907        \t-0      \n",
      "6430\t2     \t907        \t-0      \n",
      "6430\t3     \t907        \t-0      \n",
      "6430\t4     \t906        \t-0      \n",
      "\n",
      "\n"
     ]
    },
    {
     "name": "stdout",
     "output_type": "stream",
     "text": [
      "6440\t1     \t906        \t-0      \n",
      "6440\t2     \t907        \t-0      \n",
      "6440\t3     \t907        \t-0      \n",
      "6440\t4     \t907        \t-0      \n",
      "\n",
      "\n"
     ]
    },
    {
     "name": "stdout",
     "output_type": "stream",
     "text": [
      "6450\t1     \t906        \t-0      \n",
      "6450\t2     \t907        \t-0      \n",
      "6450\t3     \t907        \t-0      \n",
      "6450\t4     \t907        \t-0      \n",
      "\n",
      "\n"
     ]
    },
    {
     "name": "stdout",
     "output_type": "stream",
     "text": [
      "6460\t1     \t905        \t-0      \n",
      "6460\t2     \t907        \t-0      \n",
      "6460\t3     \t907        \t-0      \n",
      "6460\t4     \t906        \t-0      \n",
      "\n",
      "\n"
     ]
    },
    {
     "name": "stdout",
     "output_type": "stream",
     "text": [
      "6470\t1     \t906        \t-0      \n",
      "6470\t2     \t905        \t-0      \n",
      "6470\t3     \t907        \t-0      \n",
      "6470\t4     \t907        \t-0      \n",
      "\n",
      "\n"
     ]
    },
    {
     "name": "stdout",
     "output_type": "stream",
     "text": [
      "6480\t1     \t905        \t-0      \n",
      "6480\t2     \t905        \t-0      \n",
      "6480\t3     \t905        \t-0      \n",
      "6480\t4     \t907        \t-0      \n",
      "\n",
      "\n"
     ]
    },
    {
     "name": "stdout",
     "output_type": "stream",
     "text": [
      "6490\t1     \t907        \t-0      \n",
      "6490\t2     \t905        \t-0      \n",
      "6490\t3     \t905        \t-0      \n",
      "6490\t4     \t907        \t-0      \n",
      "\n",
      "\n"
     ]
    },
    {
     "name": "stdout",
     "output_type": "stream",
     "text": [
      "6500\t1     \t907        \t-0      \n",
      "6500\t2     \t905        \t-0      \n",
      "6500\t3     \t905        \t-0      \n",
      "6500\t4     \t905        \t-0      \n",
      "\n",
      "\n"
     ]
    },
    {
     "name": "stdout",
     "output_type": "stream",
     "text": [
      "6510\t1     \t907        \t-0      \n",
      "6510\t2     \t905        \t-0      \n",
      "6510\t3     \t905        \t-0      \n",
      "6510\t4     \t905        \t-0      \n",
      "\n",
      "\n"
     ]
    },
    {
     "name": "stdout",
     "output_type": "stream",
     "text": [
      "6520\t1     \t907        \t-0      \n",
      "6520\t2     \t905        \t-0      \n",
      "6520\t3     \t905        \t-0      \n",
      "6520\t4     \t904        \t-0      \n",
      "\n",
      "\n"
     ]
    },
    {
     "name": "stdout",
     "output_type": "stream",
     "text": [
      "6530\t1     \t907        \t-0      \n",
      "6530\t2     \t905        \t-0      \n",
      "6530\t3     \t905        \t-0      \n",
      "6530\t4     \t904        \t-0      \n",
      "\n",
      "\n"
     ]
    },
    {
     "name": "stdout",
     "output_type": "stream",
     "text": [
      "6540\t1     \t904        \t-0      \n",
      "6540\t2     \t905        \t-0      \n",
      "6540\t3     \t904        \t-0      \n",
      "6540\t4     \t904        \t-0      \n",
      "\n",
      "\n"
     ]
    },
    {
     "name": "stdout",
     "output_type": "stream",
     "text": [
      "6550\t1     \t904        \t-0      \n",
      "6550\t2     \t904        \t-0      \n",
      "6550\t3     \t904        \t-0      \n",
      "6550\t4     \t904        \t-0      \n",
      "\n",
      "\n"
     ]
    },
    {
     "name": "stdout",
     "output_type": "stream",
     "text": [
      "6560\t1     \t904        \t-0      \n",
      "6560\t2     \t904        \t-0      \n",
      "6560\t3     \t904        \t-0      \n",
      "6560\t4     \t904        \t-0      \n",
      "\n",
      "\n"
     ]
    },
    {
     "name": "stdout",
     "output_type": "stream",
     "text": [
      "6570\t1     \t904        \t-0      \n",
      "6570\t2     \t904        \t-0      \n",
      "6570\t3     \t904        \t-0      \n",
      "6570\t4     \t903        \t-0      \n",
      "\n",
      "\n"
     ]
    },
    {
     "name": "stdout",
     "output_type": "stream",
     "text": [
      "6580\t1     \t903        \t-0      \n",
      "6580\t2     \t904        \t-0      \n",
      "6580\t3     \t903        \t-0      \n",
      "6580\t4     \t904        \t-0      \n",
      "\n",
      "\n"
     ]
    },
    {
     "name": "stdout",
     "output_type": "stream",
     "text": [
      "6590\t1     \t903        \t-0      \n",
      "6590\t2     \t903        \t-0      \n",
      "6590\t3     \t903        \t-0      \n",
      "6590\t4     \t903        \t-0      \n",
      "\n",
      "\n"
     ]
    },
    {
     "name": "stdout",
     "output_type": "stream",
     "text": [
      "6600\t1     \t902        \t-0      \n",
      "6600\t2     \t903        \t-0      \n",
      "6600\t3     \t903        \t-0      \n",
      "6600\t4     \t903        \t-0      \n",
      "\n",
      "\n"
     ]
    },
    {
     "name": "stdout",
     "output_type": "stream",
     "text": [
      "6610\t1     \t902        \t-0      \n",
      "6610\t2     \t902        \t-0      \n",
      "6610\t3     \t903        \t-0      \n",
      "6610\t4     \t903        \t-0      \n",
      "\n",
      "\n"
     ]
    },
    {
     "name": "stdout",
     "output_type": "stream",
     "text": [
      "6620\t1     \t903        \t-0      \n",
      "6620\t2     \t902        \t-0      \n",
      "6620\t3     \t902        \t-0      \n",
      "6620\t4     \t902        \t-0      \n",
      "\n",
      "\n"
     ]
    },
    {
     "name": "stdout",
     "output_type": "stream",
     "text": [
      "6630\t1     \t902        \t-0      \n",
      "6630\t2     \t902        \t-0      \n",
      "6630\t3     \t902        \t-0      \n",
      "6630\t4     \t901        \t-0      \n",
      "\n",
      "\n"
     ]
    },
    {
     "name": "stdout",
     "output_type": "stream",
     "text": [
      "6640\t1     \t901        \t-0      \n",
      "6640\t2     \t902        \t-0      \n",
      "6640\t3     \t1008       \t-0      \n",
      "6640\t4     \t902        \t-0      \n",
      "\n",
      "\n"
     ]
    },
    {
     "name": "stdout",
     "output_type": "stream",
     "text": [
      "6650\t1     \t901        \t-0      \n",
      "6650\t2     \t901        \t-0      \n",
      "6650\t3     \t902        \t-0      \n",
      "6650\t4     \t1008       \t-0      \n",
      "\n",
      "\n"
     ]
    },
    {
     "name": "stdout",
     "output_type": "stream",
     "text": [
      "6660\t1     \t901        \t-0      \n",
      "6660\t2     \t901        \t-0      \n",
      "6660\t3     \t901        \t-0      \n",
      "6660\t4     \t902        \t-0      \n",
      "\n",
      "\n"
     ]
    },
    {
     "name": "stdout",
     "output_type": "stream",
     "text": [
      "6670\t1     \t901        \t-0      \n",
      "6670\t2     \t901        \t-0      \n",
      "6670\t3     \t901        \t-0      \n",
      "6670\t4     \t901        \t-0      \n",
      "\n",
      "\n"
     ]
    },
    {
     "name": "stdout",
     "output_type": "stream",
     "text": [
      "6680\t1     \t901        \t-0      \n",
      "6680\t2     \t901        \t-0      \n",
      "6680\t3     \t901        \t-0      \n",
      "6680\t4     \t999        \t-0      \n",
      "\n",
      "\n"
     ]
    },
    {
     "name": "stdout",
     "output_type": "stream",
     "text": [
      "6690\t1     \t901        \t-0      \n",
      "6690\t2     \t901        \t-0      \n",
      "6690\t3     \t901        \t-0      \n",
      "6690\t4     \t1010       \t-0      \n",
      "\n",
      "\n"
     ]
    },
    {
     "name": "stdout",
     "output_type": "stream",
     "text": [
      "6700\t1     \t901        \t-0      \n",
      "6700\t2     \t901        \t-0      \n",
      "6700\t3     \t901        \t-0      \n",
      "6700\t4     \t901        \t-0      \n",
      "\n",
      "\n"
     ]
    },
    {
     "name": "stdout",
     "output_type": "stream",
     "text": [
      "6710\t1     \t901        \t-0      \n",
      "6710\t2     \t901        \t-0      \n",
      "6710\t3     \t901        \t-0      \n",
      "6710\t4     \t901        \t-0      \n",
      "\n",
      "\n"
     ]
    },
    {
     "name": "stdout",
     "output_type": "stream",
     "text": [
      "6720\t1     \t901        \t-0      \n",
      "6720\t2     \t901        \t-0      \n",
      "6720\t3     \t901        \t-0      \n",
      "6720\t4     \t901        \t-0      \n",
      "\n",
      "\n"
     ]
    },
    {
     "name": "stdout",
     "output_type": "stream",
     "text": [
      "6730\t1     \t901        \t-0      \n",
      "6730\t2     \t901        \t-0      \n",
      "6730\t3     \t901        \t-0      \n",
      "6730\t4     \t901        \t-0      \n",
      "\n",
      "\n"
     ]
    },
    {
     "name": "stdout",
     "output_type": "stream",
     "text": [
      "6740\t1     \t901        \t-0      \n",
      "6740\t2     \t901        \t-0      \n",
      "6740\t3     \t900        \t-0      \n",
      "6740\t4     \t901        \t-0      \n",
      "\n",
      "\n"
     ]
    },
    {
     "name": "stdout",
     "output_type": "stream",
     "text": [
      "6750\t1     \t901        \t-0      \n",
      "6750\t2     \t901        \t-0      \n",
      "6750\t3     \t901        \t-0      \n",
      "6750\t4     \t900        \t-0      \n",
      "\n",
      "\n"
     ]
    },
    {
     "name": "stdout",
     "output_type": "stream",
     "text": [
      "6760\t1     \t900        \t-0      \n",
      "6760\t2     \t901        \t-0      \n",
      "6760\t3     \t901        \t-0      \n",
      "6760\t4     \t901        \t-0      \n",
      "\n",
      "\n"
     ]
    },
    {
     "name": "stdout",
     "output_type": "stream",
     "text": [
      "6770\t1     \t873        \t0.242467\n",
      "6770\t2     \t900        \t-0      \n",
      "6770\t3     \t901        \t-0      \n",
      "6770\t4     \t901        \t-0      \n",
      "\n",
      "\n"
     ]
    },
    {
     "name": "stdout",
     "output_type": "stream",
     "text": [
      "6780\t1     \t901        \t-0      \n",
      "6780\t2     \t890        \t0.220162\n",
      "6780\t3     \t900        \t-0      \n",
      "6780\t4     \t901        \t-0      \n",
      "\n",
      "\n"
     ]
    },
    {
     "name": "stdout",
     "output_type": "stream",
     "text": [
      "6790\t1     \t901        \t-0      \n",
      "6790\t2     \t901        \t-0      \n",
      "6790\t3     \t1087       \t0.218738\n",
      "6790\t4     \t900        \t-0      \n",
      "\n",
      "\n"
     ]
    },
    {
     "name": "stdout",
     "output_type": "stream",
     "text": [
      "6800\t1     \t900        \t-0      \n",
      "6800\t2     \t901        \t-0      \n",
      "6800\t3     \t901        \t-0      \n",
      "6800\t4     \t900        \t-0      \n",
      "\n",
      "\n"
     ]
    },
    {
     "name": "stdout",
     "output_type": "stream",
     "text": [
      "6810\t1     \t900        \t-0      \n",
      "6810\t2     \t900        \t-0      \n",
      "6810\t3     \t1002       \t0.21121 \n",
      "6810\t4     \t900        \t-0      \n",
      "\n",
      "\n"
     ]
    },
    {
     "name": "stdout",
     "output_type": "stream",
     "text": [
      "6820\t1     \t900        \t-0      \n",
      "6820\t2     \t900        \t-0      \n",
      "6820\t3     \t900        \t-0      \n",
      "6820\t4     \t900        \t-0      \n",
      "\n",
      "\n"
     ]
    },
    {
     "name": "stdout",
     "output_type": "stream",
     "text": [
      "6830\t1     \t900        \t-0      \n",
      "6830\t2     \t900        \t-0      \n",
      "6830\t3     \t900        \t-0      \n",
      "6830\t4     \t900        \t-0      \n",
      "\n",
      "\n"
     ]
    },
    {
     "name": "stdout",
     "output_type": "stream",
     "text": [
      "6840\t1     \t900        \t-0      \n",
      "6840\t2     \t900        \t-0      \n",
      "6840\t3     \t900        \t-0      \n",
      "6840\t4     \t900        \t-0      \n",
      "\n",
      "\n"
     ]
    },
    {
     "name": "stdout",
     "output_type": "stream",
     "text": [
      "6850\t1     \t900        \t-0      \n",
      "6850\t2     \t900        \t-0      \n",
      "6850\t3     \t900        \t-0      \n",
      "6850\t4     \t900        \t-0      \n",
      "\n",
      "\n"
     ]
    },
    {
     "name": "stdout",
     "output_type": "stream",
     "text": [
      "6860\t1     \t900        \t-0      \n",
      "6860\t2     \t900        \t-0      \n",
      "6860\t3     \t900        \t-0      \n",
      "6860\t4     \t900        \t-0      \n",
      "\n",
      "\n"
     ]
    },
    {
     "name": "stdout",
     "output_type": "stream",
     "text": [
      "6870\t1     \t900        \t-0      \n",
      "6870\t2     \t900        \t-0      \n",
      "6870\t3     \t899        \t-0      \n",
      "6870\t4     \t900        \t-0      \n",
      "\n",
      "\n"
     ]
    },
    {
     "name": "stdout",
     "output_type": "stream",
     "text": [
      "6880\t1     \t900        \t-0      \n",
      "6880\t2     \t900        \t-0      \n",
      "6880\t3     \t899        \t-0      \n",
      "6880\t4     \t900        \t-0      \n",
      "\n",
      "\n"
     ]
    },
    {
     "name": "stdout",
     "output_type": "stream",
     "text": [
      "6890\t1     \t900        \t-0      \n",
      "6890\t2     \t900        \t-0      \n",
      "6890\t3     \t900        \t-0      \n",
      "6890\t4     \t899        \t-0      \n",
      "\n",
      "\n"
     ]
    },
    {
     "name": "stdout",
     "output_type": "stream",
     "text": [
      "6900\t1     \t899        \t-0      \n",
      "6900\t2     \t900        \t-0      \n",
      "6900\t3     \t900        \t-0      \n",
      "6900\t4     \t899        \t-0      \n",
      "\n",
      "\n"
     ]
    },
    {
     "name": "stdout",
     "output_type": "stream",
     "text": [
      "6910\t1     \t899        \t-0      \n",
      "6910\t2     \t899        \t-0      \n",
      "6910\t3     \t899        \t-0      \n",
      "6910\t4     \t900        \t-0      \n",
      "\n",
      "\n"
     ]
    },
    {
     "name": "stdout",
     "output_type": "stream",
     "text": [
      "6920\t1     \t899        \t-0      \n",
      "6920\t2     \t899        \t-0      \n",
      "6920\t3     \t899        \t-0      \n",
      "6920\t4     \t899        \t-0      \n",
      "\n",
      "\n"
     ]
    },
    {
     "name": "stdout",
     "output_type": "stream",
     "text": [
      "6930\t1     \t899        \t-0      \n",
      "6930\t2     \t899        \t-0      \n",
      "6930\t3     \t899        \t-0      \n",
      "6930\t4     \t899        \t-0      \n",
      "\n",
      "\n"
     ]
    },
    {
     "name": "stdout",
     "output_type": "stream",
     "text": [
      "6940\t1     \t899        \t-0      \n",
      "6940\t2     \t899        \t-0      \n",
      "6940\t3     \t899        \t-0      \n",
      "6940\t4     \t899        \t-0      \n",
      "\n",
      "\n"
     ]
    },
    {
     "name": "stdout",
     "output_type": "stream",
     "text": [
      "6950\t1     \t899        \t-0      \n",
      "6950\t2     \t899        \t-0      \n",
      "6950\t3     \t899        \t-0      \n",
      "6950\t4     \t899        \t-0      \n",
      "\n",
      "\n"
     ]
    },
    {
     "name": "stdout",
     "output_type": "stream",
     "text": [
      "6960\t1     \t899        \t-0      \n",
      "6960\t2     \t899        \t-0      \n",
      "6960\t3     \t899        \t-0      \n",
      "6960\t4     \t899        \t-0      \n",
      "\n",
      "\n"
     ]
    },
    {
     "name": "stdout",
     "output_type": "stream",
     "text": [
      "6970\t1     \t899        \t-0      \n",
      "6970\t2     \t899        \t-0      \n",
      "6970\t3     \t899        \t-0      \n",
      "6970\t4     \t899        \t-0      \n",
      "\n",
      "\n"
     ]
    },
    {
     "name": "stdout",
     "output_type": "stream",
     "text": [
      "6980\t1     \t899        \t-0      \n",
      "6980\t2     \t899        \t-0      \n",
      "6980\t3     \t899        \t-0      \n",
      "6980\t4     \t899        \t-0      \n",
      "\n",
      "\n"
     ]
    },
    {
     "name": "stdout",
     "output_type": "stream",
     "text": [
      "6990\t1     \t899        \t-0      \n",
      "6990\t2     \t899        \t-0      \n",
      "6990\t3     \t899        \t-0      \n",
      "6990\t4     \t899        \t-0      \n",
      "\n",
      "\n"
     ]
    },
    {
     "name": "stdout",
     "output_type": "stream",
     "text": [
      "7000\t1     \t899        \t-0      \n",
      "7000\t2     \t899        \t-0      \n",
      "7000\t3     \t899        \t-0      \n",
      "7000\t4     \t899        \t-0      \n",
      "\n",
      "\n"
     ]
    },
    {
     "name": "stdout",
     "output_type": "stream",
     "text": [
      "7010\t1     \t899        \t-0      \n",
      "7010\t2     \t899        \t-0      \n",
      "7010\t3     \t899        \t-0      \n",
      "7010\t4     \t899        \t-0      \n",
      "\n",
      "\n"
     ]
    },
    {
     "name": "stdout",
     "output_type": "stream",
     "text": [
      "7020\t1     \t899        \t-0      \n",
      "7020\t2     \t899        \t-0      \n",
      "7020\t3     \t899        \t-0      \n",
      "7020\t4     \t899        \t-0      \n",
      "\n",
      "\n"
     ]
    },
    {
     "name": "stdout",
     "output_type": "stream",
     "text": [
      "7030\t1     \t899        \t-0      \n",
      "7030\t2     \t899        \t-0      \n",
      "7030\t3     \t899        \t-0      \n",
      "7030\t4     \t899        \t-0      \n",
      "\n",
      "\n"
     ]
    },
    {
     "name": "stdout",
     "output_type": "stream",
     "text": [
      "7040\t1     \t899        \t-0      \n",
      "7040\t2     \t899        \t-0      \n",
      "7040\t3     \t899        \t-0      \n",
      "7040\t4     \t899        \t-0      \n",
      "\n",
      "\n"
     ]
    },
    {
     "name": "stdout",
     "output_type": "stream",
     "text": [
      "7050\t1     \t899        \t-0      \n",
      "7050\t2     \t899        \t-0      \n",
      "7050\t3     \t899        \t-0      \n",
      "7050\t4     \t899        \t-0      \n",
      "\n",
      "\n"
     ]
    },
    {
     "name": "stdout",
     "output_type": "stream",
     "text": [
      "7060\t1     \t899        \t-0      \n",
      "7060\t2     \t899        \t-0      \n",
      "7060\t3     \t899        \t-0      \n",
      "7060\t4     \t899        \t-0      \n",
      "\n",
      "\n"
     ]
    },
    {
     "name": "stdout",
     "output_type": "stream",
     "text": [
      "7070\t1     \t899        \t-0      \n",
      "7070\t2     \t899        \t-0      \n",
      "7070\t3     \t899        \t-0      \n",
      "7070\t4     \t899        \t-0      \n",
      "\n",
      "\n"
     ]
    },
    {
     "name": "stdout",
     "output_type": "stream",
     "text": [
      "7080\t1     \t899        \t-0      \n",
      "7080\t2     \t899        \t-0      \n",
      "7080\t3     \t899        \t-0      \n",
      "7080\t4     \t899        \t-0      \n",
      "\n",
      "\n"
     ]
    },
    {
     "name": "stdout",
     "output_type": "stream",
     "text": [
      "7090\t1     \t898        \t-0      \n",
      "7090\t2     \t899        \t-0      \n",
      "7090\t3     \t899        \t-0      \n",
      "7090\t4     \t899        \t-0      \n",
      "\n",
      "\n"
     ]
    },
    {
     "name": "stdout",
     "output_type": "stream",
     "text": [
      "7100\t1     \t897        \t0.206014\n",
      "7100\t2     \t898        \t-0      \n",
      "7100\t3     \t899        \t-0      \n",
      "7100\t4     \t899        \t-0      \n",
      "\n",
      "\n"
     ]
    },
    {
     "name": "stdout",
     "output_type": "stream",
     "text": [
      "7110\t1     \t897        \t0.206014\n",
      "7110\t2     \t898        \t-0      \n",
      "7110\t3     \t898        \t-0      \n",
      "7110\t4     \t899        \t-0      \n",
      "\n",
      "\n"
     ]
    },
    {
     "name": "stdout",
     "output_type": "stream",
     "text": [
      "7120\t1     \t899        \t-0      \n",
      "7120\t2     \t897        \t0.206014\n",
      "7120\t3     \t898        \t-0      \n",
      "7120\t4     \t898        \t-0      \n",
      "\n",
      "\n"
     ]
    },
    {
     "name": "stdout",
     "output_type": "stream",
     "text": [
      "7130\t1     \t890        \t0.216396\n",
      "7130\t2     \t899        \t-0      \n",
      "7130\t3     \t898        \t-0      \n",
      "7130\t4     \t898        \t-0      \n",
      "\n",
      "\n"
     ]
    },
    {
     "name": "stdout",
     "output_type": "stream",
     "text": [
      "7140\t1     \t898        \t-0      \n",
      "7140\t2     \t899        \t-0      \n",
      "7140\t3     \t897        \t-0      \n",
      "7140\t4     \t897        \t-0      \n",
      "\n",
      "\n"
     ]
    },
    {
     "name": "stdout",
     "output_type": "stream",
     "text": [
      "7150\t1     \t897        \t-0      \n",
      "7150\t2     \t898        \t-0      \n",
      "7150\t3     \t897        \t-0      \n",
      "7150\t4     \t897        \t-0      \n",
      "\n",
      "\n"
     ]
    },
    {
     "name": "stdout",
     "output_type": "stream",
     "text": [
      "7160\t1     \t897        \t-0      \n",
      "7160\t2     \t897        \t-0      \n",
      "7160\t3     \t897        \t-0      \n",
      "7160\t4     \t897        \t-0      \n",
      "\n",
      "\n"
     ]
    },
    {
     "name": "stdout",
     "output_type": "stream",
     "text": [
      "7170\t1     \t897        \t-0      \n",
      "7170\t2     \t897        \t-0      \n",
      "7170\t3     \t896        \t-0      \n",
      "7170\t4     \t896        \t-0      \n",
      "\n",
      "\n"
     ]
    },
    {
     "name": "stdout",
     "output_type": "stream",
     "text": [
      "7180\t1     \t897        \t-0      \n",
      "7180\t2     \t897        \t-0      \n",
      "7180\t3     \t896        \t-0      \n",
      "7180\t4     \t896        \t-0      \n",
      "\n",
      "\n"
     ]
    },
    {
     "name": "stdout",
     "output_type": "stream",
     "text": [
      "7190\t1     \t896        \t-0      \n",
      "7190\t2     \t897        \t-0      \n",
      "7190\t3     \t897        \t-0      \n",
      "7190\t4     \t895        \t-0      \n",
      "\n",
      "\n"
     ]
    },
    {
     "name": "stdout",
     "output_type": "stream",
     "text": [
      "7200\t1     \t895        \t-0      \n",
      "7200\t2     \t897        \t-0      \n",
      "7200\t3     \t897        \t-0      \n",
      "7200\t4     \t897        \t-0      \n",
      "\n",
      "\n"
     ]
    },
    {
     "name": "stdout",
     "output_type": "stream",
     "text": [
      "7210\t1     \t895        \t-0      \n",
      "7210\t2     \t895        \t-0      \n",
      "7210\t3     \t897        \t-0      \n",
      "7210\t4     \t897        \t-0      \n",
      "\n",
      "\n"
     ]
    },
    {
     "name": "stdout",
     "output_type": "stream",
     "text": [
      "7220\t1     \t895        \t-0      \n",
      "7220\t2     \t895        \t-0      \n",
      "7220\t3     \t897        \t-0      \n",
      "7220\t4     \t897        \t-0      \n",
      "\n",
      "\n"
     ]
    },
    {
     "name": "stdout",
     "output_type": "stream",
     "text": [
      "7230\t1     \t895        \t-0      \n",
      "7230\t2     \t892        \t-0      \n",
      "7230\t3     \t895        \t-0      \n",
      "7230\t4     \t897        \t-0      \n",
      "\n",
      "\n"
     ]
    },
    {
     "name": "stdout",
     "output_type": "stream",
     "text": [
      "7240\t1     \t894        \t-0      \n",
      "7240\t2     \t892        \t-0      \n",
      "7240\t3     \t892        \t-0      \n",
      "7240\t4     \t895        \t-0      \n",
      "\n",
      "\n"
     ]
    },
    {
     "name": "stdout",
     "output_type": "stream",
     "text": [
      "7250\t1     \t895        \t-0      \n",
      "7250\t2     \t892        \t-0      \n",
      "7250\t3     \t892        \t-0      \n",
      "7250\t4     \t892        \t-0      \n",
      "\n",
      "\n"
     ]
    },
    {
     "name": "stdout",
     "output_type": "stream",
     "text": [
      "7260\t1     \t892        \t-0      \n",
      "7260\t2     \t891        \t-0      \n",
      "7260\t3     \t892        \t-0      \n",
      "7260\t4     \t892        \t-0      \n",
      "\n",
      "\n"
     ]
    },
    {
     "name": "stdout",
     "output_type": "stream",
     "text": [
      "7270\t1     \t892        \t-0      \n",
      "7270\t2     \t892        \t-0      \n",
      "7270\t3     \t891        \t-0      \n",
      "7270\t4     \t892        \t-0      \n",
      "\n",
      "\n"
     ]
    },
    {
     "name": "stdout",
     "output_type": "stream",
     "text": [
      "7280\t1     \t892        \t-0      \n",
      "7280\t2     \t885        \t0.212737\n",
      "7280\t3     \t891        \t-0      \n",
      "7280\t4     \t892        \t-0      \n",
      "\n",
      "\n"
     ]
    },
    {
     "name": "stdout",
     "output_type": "stream",
     "text": [
      "7290\t1     \t892        \t-0      \n",
      "7290\t2     \t892        \t-0      \n",
      "7290\t3     \t891        \t-0      \n",
      "7290\t4     \t891        \t-0      \n",
      "\n",
      "\n"
     ]
    },
    {
     "name": "stdout",
     "output_type": "stream",
     "text": [
      "7300\t1     \t891        \t-0      \n",
      "7300\t2     \t892        \t-0      \n",
      "7300\t3     \t891        \t-0      \n",
      "7300\t4     \t891        \t-0      \n",
      "\n",
      "\n"
     ]
    },
    {
     "name": "stdout",
     "output_type": "stream",
     "text": [
      "7310\t1     \t891        \t-0      \n",
      "7310\t2     \t892        \t-0      \n",
      "7310\t3     \t891        \t-0      \n",
      "7310\t4     \t891        \t-0      \n",
      "\n",
      "\n"
     ]
    },
    {
     "name": "stdout",
     "output_type": "stream",
     "text": [
      "7320\t1     \t880        \t0.229925\n",
      "7320\t2     \t891        \t-0      \n",
      "7320\t3     \t891        \t-0      \n",
      "7320\t4     \t891        \t-0      \n",
      "\n",
      "\n"
     ]
    },
    {
     "name": "stdout",
     "output_type": "stream",
     "text": [
      "7330\t1     \t891        \t-0      \n",
      "7330\t2     \t891        \t-0      \n",
      "7330\t3     \t891        \t-0      \n",
      "7330\t4     \t891        \t-0      \n",
      "\n",
      "\n"
     ]
    },
    {
     "name": "stdout",
     "output_type": "stream",
     "text": [
      "7340\t1     \t891        \t-0      \n",
      "7340\t2     \t891        \t-0      \n",
      "7340\t3     \t891        \t-0      \n",
      "7340\t4     \t891        \t-0      \n",
      "\n",
      "\n"
     ]
    },
    {
     "name": "stdout",
     "output_type": "stream",
     "text": [
      "7350\t1     \t891        \t-0      \n",
      "7350\t2     \t891        \t-0      \n",
      "7350\t3     \t891        \t-0      \n",
      "7350\t4     \t891        \t-0      \n",
      "\n",
      "\n"
     ]
    },
    {
     "name": "stdout",
     "output_type": "stream",
     "text": [
      "7360\t1     \t891        \t-0      \n",
      "7360\t2     \t891        \t-0      \n",
      "7360\t3     \t891        \t-0      \n",
      "7360\t4     \t891        \t-0      \n",
      "\n",
      "\n"
     ]
    },
    {
     "name": "stdout",
     "output_type": "stream",
     "text": [
      "7370\t1     \t891        \t-0      \n",
      "7370\t2     \t891        \t-0      \n",
      "7370\t3     \t891        \t-0      \n",
      "7370\t4     \t891        \t-0      \n",
      "\n",
      "\n"
     ]
    },
    {
     "name": "stdout",
     "output_type": "stream",
     "text": [
      "7380\t1     \t891        \t-0      \n",
      "7380\t2     \t891        \t-0      \n",
      "7380\t3     \t891        \t-0      \n",
      "7380\t4     \t891        \t-0      \n",
      "\n",
      "\n"
     ]
    },
    {
     "name": "stdout",
     "output_type": "stream",
     "text": [
      "7390\t1     \t891        \t-0      \n",
      "7390\t2     \t891        \t-0      \n",
      "7390\t3     \t891        \t-0      \n",
      "7390\t4     \t891        \t-0      \n",
      "\n",
      "\n"
     ]
    },
    {
     "name": "stdout",
     "output_type": "stream",
     "text": [
      "7400\t1     \t891        \t-0      \n",
      "7400\t2     \t891        \t-0      \n",
      "7400\t3     \t891        \t-0      \n",
      "7400\t4     \t891        \t-0      \n",
      "\n",
      "\n"
     ]
    },
    {
     "name": "stdout",
     "output_type": "stream",
     "text": [
      "7410\t1     \t891        \t-0      \n",
      "7410\t2     \t891        \t-0      \n",
      "7410\t3     \t891        \t-0      \n",
      "7410\t4     \t891        \t-0      \n",
      "\n",
      "\n"
     ]
    },
    {
     "name": "stdout",
     "output_type": "stream",
     "text": [
      "7420\t1     \t891        \t-0      \n",
      "7420\t2     \t891        \t-0      \n",
      "7420\t3     \t891        \t-0      \n",
      "7420\t4     \t890        \t-0      \n",
      "\n",
      "\n"
     ]
    },
    {
     "name": "stdout",
     "output_type": "stream",
     "text": [
      "7430\t1     \t891        \t-0      \n",
      "7430\t2     \t891        \t-0      \n",
      "7430\t3     \t891        \t-0      \n",
      "7430\t4     \t890        \t-0      \n",
      "\n",
      "\n"
     ]
    },
    {
     "name": "stdout",
     "output_type": "stream",
     "text": [
      "7440\t1     \t890        \t-0      \n",
      "7440\t2     \t891        \t-0      \n",
      "7440\t3     \t891        \t-0      \n",
      "7440\t4     \t890        \t-0      \n",
      "\n",
      "\n"
     ]
    },
    {
     "name": "stdout",
     "output_type": "stream",
     "text": [
      "7450\t1     \t890        \t-0      \n",
      "7450\t2     \t890        \t-0      \n",
      "7450\t3     \t891        \t-0      \n",
      "7450\t4     \t890        \t-0      \n",
      "\n",
      "\n"
     ]
    },
    {
     "name": "stdout",
     "output_type": "stream",
     "text": [
      "7460\t1     \t890        \t-0      \n",
      "7460\t2     \t890        \t-0      \n",
      "7460\t3     \t890        \t-0      \n",
      "7460\t4     \t890        \t-0      \n",
      "\n",
      "\n"
     ]
    },
    {
     "name": "stdout",
     "output_type": "stream",
     "text": [
      "7470\t1     \t890        \t-0      \n",
      "7470\t2     \t890        \t-0      \n",
      "7470\t3     \t890        \t-0      \n",
      "7470\t4     \t890        \t-0      \n",
      "\n",
      "\n"
     ]
    },
    {
     "name": "stdout",
     "output_type": "stream",
     "text": [
      "7480\t1     \t890        \t-0      \n",
      "7480\t2     \t890        \t-0      \n",
      "7480\t3     \t890        \t-0      \n",
      "7480\t4     \t890        \t-0      \n",
      "\n",
      "\n"
     ]
    },
    {
     "name": "stdout",
     "output_type": "stream",
     "text": [
      "7490\t1     \t890        \t-0      \n",
      "7490\t2     \t890        \t-0      \n",
      "7490\t3     \t890        \t-0      \n",
      "7490\t4     \t890        \t-0      \n",
      "\n",
      "\n"
     ]
    },
    {
     "name": "stdout",
     "output_type": "stream",
     "text": [
      "7500\t1     \t890        \t-0      \n",
      "7500\t2     \t890        \t-0      \n",
      "7500\t3     \t890        \t-0      \n",
      "7500\t4     \t890        \t-0      \n",
      "\n",
      "\n"
     ]
    },
    {
     "name": "stdout",
     "output_type": "stream",
     "text": [
      "7510\t1     \t890        \t-0      \n",
      "7510\t2     \t890        \t-0      \n",
      "7510\t3     \t889        \t-0      \n",
      "7510\t4     \t890        \t-0      \n",
      "\n",
      "\n"
     ]
    },
    {
     "name": "stdout",
     "output_type": "stream",
     "text": [
      "7520\t1     \t890        \t-0      \n",
      "7520\t2     \t890        \t-0      \n",
      "7520\t3     \t889        \t-0      \n",
      "7520\t4     \t890        \t-0      \n",
      "\n",
      "\n"
     ]
    },
    {
     "name": "stdout",
     "output_type": "stream",
     "text": [
      "7530\t1     \t890        \t-0      \n",
      "7530\t2     \t890        \t-0      \n",
      "7530\t3     \t889        \t-0      \n",
      "7530\t4     \t890        \t-0      \n",
      "\n",
      "\n"
     ]
    },
    {
     "name": "stdout",
     "output_type": "stream",
     "text": [
      "7540\t1     \t890        \t-0      \n",
      "7540\t2     \t890        \t-0      \n",
      "7540\t3     \t889        \t-0      \n",
      "7540\t4     \t889        \t-0      \n",
      "\n",
      "\n"
     ]
    },
    {
     "name": "stdout",
     "output_type": "stream",
     "text": [
      "7550\t1     \t889        \t-0      \n",
      "7550\t2     \t890        \t-0      \n",
      "7550\t3     \t889        \t-0      \n",
      "7550\t4     \t889        \t-0      \n",
      "\n",
      "\n"
     ]
    },
    {
     "name": "stdout",
     "output_type": "stream",
     "text": [
      "7560\t1     \t889        \t-0      \n",
      "7560\t2     \t889        \t-0      \n",
      "7560\t3     \t889        \t-0      \n",
      "7560\t4     \t889        \t-0      \n",
      "\n",
      "\n"
     ]
    },
    {
     "name": "stdout",
     "output_type": "stream",
     "text": [
      "7570\t1     \t889        \t-0      \n",
      "7570\t2     \t889        \t-0      \n",
      "7570\t3     \t889        \t-0      \n",
      "7570\t4     \t889        \t-0      \n",
      "\n",
      "\n"
     ]
    },
    {
     "name": "stdout",
     "output_type": "stream",
     "text": [
      "7580\t1     \t889        \t-0      \n",
      "7580\t2     \t889        \t-0      \n",
      "7580\t3     \t889        \t-0      \n",
      "7580\t4     \t889        \t-0      \n",
      "\n",
      "\n"
     ]
    },
    {
     "name": "stdout",
     "output_type": "stream",
     "text": [
      "7590\t1     \t889        \t-0      \n",
      "7590\t2     \t889        \t-0      \n",
      "7590\t3     \t889        \t-0      \n",
      "7590\t4     \t889        \t-0      \n",
      "\n",
      "\n"
     ]
    },
    {
     "name": "stdout",
     "output_type": "stream",
     "text": [
      "7600\t1     \t889        \t-0      \n",
      "7600\t2     \t889        \t-0      \n",
      "7600\t3     \t889        \t-0      \n",
      "7600\t4     \t889        \t-0      \n",
      "\n",
      "\n"
     ]
    },
    {
     "name": "stdout",
     "output_type": "stream",
     "text": [
      "7610\t1     \t889        \t-0      \n",
      "7610\t2     \t889        \t-0      \n",
      "7610\t3     \t889        \t-0      \n",
      "7610\t4     \t889        \t-0      \n",
      "\n",
      "\n"
     ]
    },
    {
     "name": "stdout",
     "output_type": "stream",
     "text": [
      "7620\t1     \t889        \t-0      \n",
      "7620\t2     \t889        \t-0      \n",
      "7620\t3     \t889        \t-0      \n",
      "7620\t4     \t889        \t-0      \n",
      "\n",
      "\n"
     ]
    },
    {
     "name": "stdout",
     "output_type": "stream",
     "text": [
      "7630\t1     \t889        \t-0      \n",
      "7630\t2     \t889        \t-0      \n",
      "7630\t3     \t889        \t-0      \n",
      "7630\t4     \t887        \t-0      \n",
      "\n",
      "\n"
     ]
    },
    {
     "name": "stdout",
     "output_type": "stream",
     "text": [
      "7640\t1     \t887        \t-0      \n",
      "7640\t2     \t889        \t-0      \n",
      "7640\t3     \t889        \t-0      \n",
      "7640\t4     \t889        \t-0      \n",
      "\n",
      "\n"
     ]
    },
    {
     "name": "stdout",
     "output_type": "stream",
     "text": [
      "7650\t1     \t887        \t-0      \n",
      "7650\t2     \t887        \t-0      \n",
      "7650\t3     \t889        \t-0      \n",
      "7650\t4     \t889        \t-0      \n",
      "\n",
      "\n"
     ]
    },
    {
     "name": "stdout",
     "output_type": "stream",
     "text": [
      "7660\t1     \t887        \t-0      \n",
      "7660\t2     \t885        \t-0      \n",
      "7660\t3     \t886        \t-0      \n",
      "7660\t4     \t889        \t-0      \n",
      "\n",
      "\n"
     ]
    },
    {
     "name": "stdout",
     "output_type": "stream",
     "text": [
      "7670\t1     \t886        \t-0      \n",
      "7670\t2     \t885        \t-0      \n",
      "7670\t3     \t1002       \t-0      \n",
      "7670\t4     \t886        \t-0      \n",
      "\n",
      "\n"
     ]
    },
    {
     "name": "stdout",
     "output_type": "stream",
     "text": [
      "7680\t1     \t886        \t-0      \n",
      "7680\t2     \t885        \t-0      \n",
      "7680\t3     \t885        \t-0      \n",
      "7680\t4     \t886        \t-0      \n",
      "\n",
      "\n"
     ]
    },
    {
     "name": "stdout",
     "output_type": "stream",
     "text": [
      "7690\t1     \t886        \t-0      \n",
      "7690\t2     \t884        \t-0      \n",
      "7690\t3     \t885        \t-0      \n",
      "7690\t4     \t885        \t-0      \n",
      "\n",
      "\n"
     ]
    },
    {
     "name": "stdout",
     "output_type": "stream",
     "text": [
      "7700\t1     \t885        \t-0      \n",
      "7700\t2     \t886        \t-0      \n",
      "7700\t3     \t884        \t-0      \n",
      "7700\t4     \t885        \t-0      \n",
      "\n",
      "\n"
     ]
    },
    {
     "name": "stdout",
     "output_type": "stream",
     "text": [
      "7710\t1     \t885        \t-0      \n",
      "7710\t2     \t885        \t-0      \n",
      "7710\t3     \t884        \t-0      \n",
      "7710\t4     \t884        \t-0      \n",
      "\n",
      "\n"
     ]
    },
    {
     "name": "stdout",
     "output_type": "stream",
     "text": [
      "7720\t1     \t884        \t-0      \n",
      "7720\t2     \t885        \t-0      \n",
      "7720\t3     \t884        \t-0      \n",
      "7720\t4     \t884        \t-0      \n",
      "\n",
      "\n"
     ]
    },
    {
     "name": "stdout",
     "output_type": "stream",
     "text": [
      "7730\t1     \t884        \t-0      \n",
      "7730\t2     \t884        \t-0      \n",
      "7730\t3     \t884        \t-0      \n",
      "7730\t4     \t884        \t-0      \n",
      "\n",
      "\n"
     ]
    },
    {
     "name": "stdout",
     "output_type": "stream",
     "text": [
      "7740\t1     \t884        \t-0      \n",
      "7740\t2     \t880        \t0.210704\n",
      "7740\t3     \t884        \t-0      \n",
      "7740\t4     \t884        \t-0      \n",
      "\n",
      "\n"
     ]
    },
    {
     "name": "stdout",
     "output_type": "stream",
     "text": [
      "7750\t1     \t884        \t-0      \n",
      "7750\t2     \t884        \t-0      \n",
      "7750\t3     \t882        \t-0      \n",
      "7750\t4     \t884        \t-0      \n",
      "\n",
      "\n"
     ]
    },
    {
     "name": "stdout",
     "output_type": "stream",
     "text": [
      "7760\t1     \t884        \t-0      \n",
      "7760\t2     \t884        \t-0      \n",
      "7760\t3     \t882        \t-0      \n",
      "7760\t4     \t884        \t-0      \n",
      "\n",
      "\n"
     ]
    },
    {
     "name": "stdout",
     "output_type": "stream",
     "text": [
      "7770\t1     \t884        \t-0      \n",
      "7770\t2     \t884        \t-0      \n",
      "7770\t3     \t980        \t0.207137\n",
      "7770\t4     \t882        \t-0      \n",
      "\n",
      "\n"
     ]
    },
    {
     "name": "stdout",
     "output_type": "stream",
     "text": [
      "7780\t1     \t882        \t-0      \n",
      "7780\t2     \t884        \t-0      \n",
      "7780\t3     \t979        \t-0      \n",
      "7780\t4     \t882        \t-0      \n",
      "\n",
      "\n"
     ]
    },
    {
     "name": "stdout",
     "output_type": "stream",
     "text": [
      "7790\t1     \t882        \t-0      \n",
      "7790\t2     \t884        \t-0      \n",
      "7790\t3     \t884        \t-0      \n",
      "7790\t4     \t882        \t-0      \n",
      "\n",
      "\n"
     ]
    },
    {
     "name": "stdout",
     "output_type": "stream",
     "text": [
      "7800\t1     \t882        \t-0      \n",
      "7800\t2     \t882        \t-0      \n",
      "7800\t3     \t884        \t-0      \n",
      "7800\t4     \t881        \t-0      \n",
      "\n",
      "\n"
     ]
    },
    {
     "name": "stdout",
     "output_type": "stream",
     "text": [
      "7810\t1     \t881        \t-0      \n",
      "7810\t2     \t881        \t-0      \n",
      "7810\t3     \t882        \t-0      \n",
      "7810\t4     \t983        \t-0      \n",
      "\n",
      "\n"
     ]
    },
    {
     "name": "stdout",
     "output_type": "stream",
     "text": [
      "7820\t1     \t881        \t-0      \n",
      "7820\t2     \t881        \t-0      \n",
      "7820\t3     \t881        \t-0      \n",
      "7820\t4     \t882        \t-0      \n",
      "\n",
      "\n"
     ]
    },
    {
     "name": "stdout",
     "output_type": "stream",
     "text": [
      "7830\t1     \t881        \t-0      \n",
      "7830\t2     \t881        \t-0      \n",
      "7830\t3     \t881        \t-0      \n",
      "7830\t4     \t881        \t-0      \n",
      "\n",
      "\n"
     ]
    },
    {
     "name": "stdout",
     "output_type": "stream",
     "text": [
      "7840\t1     \t881        \t-0      \n",
      "7840\t2     \t881        \t-0      \n",
      "7840\t3     \t880        \t-0      \n",
      "7840\t4     \t881        \t-0      \n",
      "\n",
      "\n"
     ]
    },
    {
     "name": "stdout",
     "output_type": "stream",
     "text": [
      "7850\t1     \t881        \t-0      \n",
      "7850\t2     \t881        \t-0      \n",
      "7850\t3     \t881        \t-0      \n",
      "7850\t4     \t880        \t-0      \n",
      "\n",
      "\n"
     ]
    },
    {
     "name": "stdout",
     "output_type": "stream",
     "text": [
      "7860\t1     \t881        \t-0      \n",
      "7860\t2     \t881        \t-0      \n",
      "7860\t3     \t881        \t-0      \n",
      "7860\t4     \t880        \t-0      \n",
      "\n",
      "\n"
     ]
    },
    {
     "name": "stdout",
     "output_type": "stream",
     "text": [
      "7870\t1     \t880        \t-0      \n",
      "7870\t2     \t881        \t-0      \n",
      "7870\t3     \t881        \t-0      \n",
      "7870\t4     \t880        \t-0      \n",
      "\n",
      "\n"
     ]
    },
    {
     "name": "stdout",
     "output_type": "stream",
     "text": [
      "7880\t1     \t880        \t-0      \n",
      "7880\t2     \t881        \t-0      \n",
      "7880\t3     \t881        \t-0      \n",
      "7880\t4     \t880        \t-0      \n",
      "\n",
      "\n"
     ]
    },
    {
     "name": "stdout",
     "output_type": "stream",
     "text": [
      "7890\t1     \t880        \t-0      \n",
      "7890\t2     \t881        \t-0      \n",
      "7890\t3     \t881        \t-0      \n",
      "7890\t4     \t880        \t-0      \n",
      "\n",
      "\n"
     ]
    },
    {
     "name": "stdout",
     "output_type": "stream",
     "text": [
      "7900\t1     \t880        \t-0      \n",
      "7900\t2     \t881        \t-0      \n",
      "7900\t3     \t881        \t-0      \n",
      "7900\t4     \t880        \t-0      \n",
      "\n",
      "\n"
     ]
    },
    {
     "name": "stdout",
     "output_type": "stream",
     "text": [
      "7910\t1     \t880        \t-0      \n",
      "7910\t2     \t880        \t-0      \n",
      "7910\t3     \t881        \t-0      \n",
      "7910\t4     \t880        \t-0      \n",
      "\n",
      "\n"
     ]
    },
    {
     "name": "stdout",
     "output_type": "stream",
     "text": [
      "7920\t1     \t880        \t-0      \n",
      "7920\t2     \t880        \t-0      \n",
      "7920\t3     \t880        \t-0      \n",
      "7920\t4     \t880        \t-0      \n",
      "\n",
      "\n"
     ]
    },
    {
     "name": "stdout",
     "output_type": "stream",
     "text": [
      "7930\t1     \t880        \t-0      \n",
      "7930\t2     \t880        \t-0      \n",
      "7930\t3     \t880        \t-0      \n",
      "7930\t4     \t880        \t-0      \n",
      "\n",
      "\n"
     ]
    },
    {
     "name": "stdout",
     "output_type": "stream",
     "text": [
      "7940\t1     \t880        \t-0      \n",
      "7940\t2     \t880        \t-0      \n",
      "7940\t3     \t880        \t-0      \n",
      "7940\t4     \t880        \t-0      \n",
      "\n",
      "\n"
     ]
    },
    {
     "name": "stdout",
     "output_type": "stream",
     "text": [
      "7950\t1     \t880        \t-0      \n",
      "7950\t2     \t880        \t-0      \n",
      "7950\t3     \t880        \t-0      \n",
      "7950\t4     \t880        \t-0      \n",
      "\n",
      "\n"
     ]
    },
    {
     "name": "stdout",
     "output_type": "stream",
     "text": [
      "7960\t1     \t880        \t-0      \n",
      "7960\t2     \t880        \t-0      \n",
      "7960\t3     \t880        \t-0      \n",
      "7960\t4     \t880        \t-0      \n",
      "\n",
      "\n"
     ]
    },
    {
     "name": "stdout",
     "output_type": "stream",
     "text": [
      "7970\t1     \t880        \t-0      \n",
      "7970\t2     \t879        \t-0      \n",
      "7970\t3     \t880        \t-0      \n",
      "7970\t4     \t880        \t-0      \n",
      "\n",
      "\n"
     ]
    },
    {
     "name": "stdout",
     "output_type": "stream",
     "text": [
      "7980\t1     \t880        \t-0      \n",
      "7980\t2     \t880        \t-0      \n",
      "7980\t3     \t879        \t-0      \n",
      "7980\t4     \t880        \t-0      \n",
      "\n",
      "\n"
     ]
    },
    {
     "name": "stdout",
     "output_type": "stream",
     "text": [
      "7990\t1     \t880        \t-0      \n",
      "7990\t2     \t880        \t-0      \n",
      "7990\t3     \t879        \t-0      \n",
      "7990\t4     \t879        \t-0      \n",
      "\n",
      "\n"
     ]
    },
    {
     "name": "stdout",
     "output_type": "stream",
     "text": [
      "8000\t1     \t879        \t-0      \n",
      "8000\t2     \t880        \t-0      \n",
      "8000\t3     \t880        \t-0      \n",
      "8000\t4     \t879        \t-0      \n",
      "\n",
      "\n"
     ]
    },
    {
     "name": "stdout",
     "output_type": "stream",
     "text": [
      "8010\t1     \t879        \t-0      \n",
      "8010\t2     \t879        \t-0      \n",
      "8010\t3     \t880        \t-0      \n",
      "8010\t4     \t967        \t0.229113\n",
      "\n",
      "\n"
     ]
    },
    {
     "name": "stdout",
     "output_type": "stream",
     "text": [
      "8020\t1     \t879        \t-0      \n",
      "8020\t2     \t875        \t0.211414\n",
      "8020\t3     \t879        \t-0      \n",
      "8020\t4     \t880        \t-0      \n",
      "\n",
      "\n"
     ]
    },
    {
     "name": "stdout",
     "output_type": "stream",
     "text": [
      "8030\t1     \t879        \t-0      \n",
      "8030\t2     \t879        \t-0      \n",
      "8030\t3     \t879        \t-0      \n",
      "8030\t4     \t879        \t-0      \n",
      "\n",
      "\n"
     ]
    },
    {
     "name": "stdout",
     "output_type": "stream",
     "text": [
      "8040\t1     \t879        \t-0      \n",
      "8040\t2     \t879        \t-0      \n",
      "8040\t3     \t879        \t-0      \n",
      "8040\t4     \t879        \t-0      \n",
      "\n",
      "\n"
     ]
    },
    {
     "name": "stdout",
     "output_type": "stream",
     "text": [
      "8050\t1     \t879        \t-0      \n",
      "8050\t2     \t878        \t-0      \n",
      "8050\t3     \t879        \t-0      \n",
      "8050\t4     \t878        \t-0      \n",
      "\n",
      "\n"
     ]
    },
    {
     "name": "stdout",
     "output_type": "stream",
     "text": [
      "8060\t1     \t878        \t-0      \n",
      "8060\t2     \t879        \t-0      \n",
      "8060\t3     \t878        \t-0      \n",
      "8060\t4     \t879        \t-0      \n",
      "\n",
      "\n"
     ]
    },
    {
     "name": "stdout",
     "output_type": "stream",
     "text": [
      "8070\t1     \t878        \t-0      \n",
      "8070\t2     \t878        \t-0      \n",
      "8070\t3     \t878        \t-0      \n",
      "8070\t4     \t878        \t-0      \n",
      "\n",
      "\n"
     ]
    },
    {
     "name": "stdout",
     "output_type": "stream",
     "text": [
      "8080\t1     \t878        \t-0      \n",
      "8080\t2     \t878        \t-0      \n",
      "8080\t3     \t878        \t-0      \n",
      "8080\t4     \t878        \t-0      \n",
      "\n",
      "\n"
     ]
    },
    {
     "name": "stdout",
     "output_type": "stream",
     "text": [
      "8090\t1     \t878        \t-0      \n",
      "8090\t2     \t878        \t-0      \n",
      "8090\t3     \t878        \t-0      \n",
      "8090\t4     \t878        \t-0      \n",
      "\n",
      "\n"
     ]
    },
    {
     "name": "stdout",
     "output_type": "stream",
     "text": [
      "8100\t1     \t878        \t-0      \n",
      "8100\t2     \t878        \t-0      \n",
      "8100\t3     \t878        \t-0      \n",
      "8100\t4     \t878        \t-0      \n",
      "\n",
      "\n"
     ]
    },
    {
     "name": "stdout",
     "output_type": "stream",
     "text": [
      "8110\t1     \t878        \t-0      \n",
      "8110\t2     \t878        \t-0      \n",
      "8110\t3     \t878        \t-0      \n",
      "8110\t4     \t878        \t-0      \n",
      "\n",
      "\n"
     ]
    },
    {
     "name": "stdout",
     "output_type": "stream",
     "text": [
      "8120\t1     \t878        \t-0      \n",
      "8120\t2     \t878        \t-0      \n",
      "8120\t3     \t878        \t-0      \n",
      "8120\t4     \t878        \t-0      \n",
      "\n",
      "\n"
     ]
    },
    {
     "name": "stdout",
     "output_type": "stream",
     "text": [
      "8130\t1     \t878        \t-0      \n",
      "8130\t2     \t878        \t-0      \n",
      "8130\t3     \t878        \t-0      \n",
      "8130\t4     \t878        \t-0      \n",
      "\n",
      "\n"
     ]
    },
    {
     "name": "stdout",
     "output_type": "stream",
     "text": [
      "8140\t1     \t878        \t-0      \n",
      "8140\t2     \t878        \t-0      \n",
      "8140\t3     \t878        \t-0      \n",
      "8140\t4     \t878        \t-0      \n",
      "\n",
      "\n"
     ]
    },
    {
     "name": "stdout",
     "output_type": "stream",
     "text": [
      "8150\t1     \t878        \t-0      \n",
      "8150\t2     \t878        \t-0      \n",
      "8150\t3     \t878        \t-0      \n",
      "8150\t4     \t878        \t-0      \n",
      "\n",
      "\n"
     ]
    },
    {
     "name": "stdout",
     "output_type": "stream",
     "text": [
      "8160\t1     \t878        \t-0      \n",
      "8160\t2     \t878        \t-0      \n",
      "8160\t3     \t878        \t-0      \n",
      "8160\t4     \t878        \t-0      \n",
      "\n",
      "\n"
     ]
    },
    {
     "name": "stdout",
     "output_type": "stream",
     "text": [
      "8170\t1     \t878        \t-0      \n",
      "8170\t2     \t878        \t-0      \n",
      "8170\t3     \t878        \t-0      \n",
      "8170\t4     \t878        \t-0      \n",
      "\n",
      "\n"
     ]
    },
    {
     "name": "stdout",
     "output_type": "stream",
     "text": [
      "8180\t1     \t878        \t-0      \n",
      "8180\t2     \t878        \t-0      \n",
      "8180\t3     \t878        \t-0      \n",
      "8180\t4     \t878        \t-0      \n",
      "\n",
      "\n"
     ]
    },
    {
     "name": "stdout",
     "output_type": "stream",
     "text": [
      "8190\t1     \t878        \t-0      \n",
      "8190\t2     \t878        \t-0      \n",
      "8190\t3     \t878        \t-0      \n",
      "8190\t4     \t878        \t-0      \n",
      "\n",
      "\n"
     ]
    },
    {
     "name": "stdout",
     "output_type": "stream",
     "text": [
      "8200\t1     \t878        \t-0      \n",
      "8200\t2     \t878        \t-0      \n",
      "8200\t3     \t878        \t-0      \n",
      "8200\t4     \t878        \t-0      \n",
      "\n",
      "\n"
     ]
    },
    {
     "name": "stdout",
     "output_type": "stream",
     "text": [
      "8210\t1     \t878        \t-0      \n",
      "8210\t2     \t878        \t-0      \n",
      "8210\t3     \t878        \t-0      \n",
      "8210\t4     \t878        \t-0      \n",
      "\n",
      "\n"
     ]
    },
    {
     "name": "stdout",
     "output_type": "stream",
     "text": [
      "8220\t1     \t878        \t-0      \n",
      "8220\t2     \t878        \t-0      \n",
      "8220\t3     \t878        \t-0      \n",
      "8220\t4     \t878        \t-0      \n",
      "\n",
      "\n"
     ]
    },
    {
     "name": "stdout",
     "output_type": "stream",
     "text": [
      "8230\t1     \t878        \t-0      \n",
      "8230\t2     \t878        \t-0      \n",
      "8230\t3     \t878        \t-0      \n",
      "8230\t4     \t878        \t-0      \n",
      "\n",
      "\n"
     ]
    },
    {
     "name": "stdout",
     "output_type": "stream",
     "text": [
      "8240\t1     \t878        \t-0      \n",
      "8240\t2     \t878        \t-0      \n",
      "8240\t3     \t878        \t-0      \n",
      "8240\t4     \t878        \t-0      \n",
      "\n",
      "\n"
     ]
    },
    {
     "name": "stdout",
     "output_type": "stream",
     "text": [
      "8250\t1     \t878        \t-0      \n",
      "8250\t2     \t878        \t-0      \n",
      "8250\t3     \t878        \t-0      \n",
      "8250\t4     \t878        \t-0      \n",
      "\n",
      "\n"
     ]
    },
    {
     "name": "stdout",
     "output_type": "stream",
     "text": [
      "8260\t1     \t878        \t-0      \n",
      "8260\t2     \t878        \t-0      \n",
      "8260\t3     \t878        \t-0      \n",
      "8260\t4     \t878        \t-0      \n",
      "\n",
      "\n"
     ]
    }
   ],
   "source": [
    "from my_gatai import get_extracted_genes\n",
    "\n",
    "ga_genes = get_extracted_genes(expression_data, permutation_comp_vars)"
   ]
  },
  {
   "cell_type": "markdown",
   "id": "aa401117",
   "metadata": {
    "papermill": {
     "duration": 0.026702,
     "end_time": "2024-10-24T15:37:43.770998",
     "exception": false,
     "start_time": "2024-10-24T15:37:43.744296",
     "status": "completed"
    },
    "tags": []
   },
   "source": [
    "#### Genes extracted"
   ]
  },
  {
   "cell_type": "code",
   "execution_count": 15,
   "id": "d99988b5",
   "metadata": {
    "execution": {
     "iopub.execute_input": "2024-10-24T15:37:43.818669Z",
     "iopub.status.busy": "2024-10-24T15:37:43.818505Z",
     "iopub.status.idle": "2024-10-24T15:37:43.828835Z",
     "shell.execute_reply": "2024-10-24T15:37:43.828589Z"
    },
    "papermill": {
     "duration": 0.035457,
     "end_time": "2024-10-24T15:37:43.829593",
     "exception": false,
     "start_time": "2024-10-24T15:37:43.794136",
     "status": "completed"
    },
    "tags": []
   },
   "outputs": [
    {
     "data": {
      "text/plain": [
       "796"
      ]
     },
     "execution_count": 15,
     "metadata": {},
     "output_type": "execute_result"
    }
   ],
   "source": [
    "len(ga_genes)"
   ]
  },
  {
   "cell_type": "code",
   "execution_count": 16,
   "id": "9296fa98",
   "metadata": {
    "execution": {
     "iopub.execute_input": "2024-10-24T15:37:43.884724Z",
     "iopub.status.busy": "2024-10-24T15:37:43.884606Z",
     "iopub.status.idle": "2024-10-24T15:37:43.893469Z",
     "shell.execute_reply": "2024-10-24T15:37:43.893257Z"
    },
    "papermill": {
     "duration": 0.035711,
     "end_time": "2024-10-24T15:37:43.894055",
     "exception": false,
     "start_time": "2024-10-24T15:37:43.858344",
     "status": "completed"
    },
    "tags": []
   },
   "outputs": [
    {
     "data": {
      "text/plain": [
       "array(['at1g01080', 'at1g01210', 'at1g01240', 'at1g01725', 'at1g01750',\n",
       "       'at1g02205', 'at1g02405', 'at1g02640', 'at1g02770', 'at1g03106',\n",
       "       'at1g03200', 'at1g04250', 'at1g04445', 'at1g04660', 'at1g04800',\n",
       "       'at1g04820', 'at1g05330', 'at1g05340', 'at1g05835', 'at1g06040',\n",
       "       'at1g06080', 'at1g06540', 'at1g07210', 'at1g07500', 'at1g07985',\n",
       "       'at1g08165', 'at1g09210', 'at1g09250', 'at1g09750', 'at1g10120',\n",
       "       'at1g10200', 'at1g10740', 'at1g10760', 'at1g10770', 'at1g10960',\n",
       "       'at1g11240', 'at1g11430', 'at1g11480', 'at1g11750', 'at1g12330',\n",
       "       'at1g12800', 'at1g13080', 'at1g13160', 'at1g13609', 'at1g13930',\n",
       "       'at1g14345', 'at1g14455', 'at1g14642', 'at1g14760', 'at1g15230',\n",
       "       'at1g15930', 'at1g16025', 'at1g16560', 'at1g16730', 'at1g17145',\n",
       "       'at1g18540', 'at1g18640', 'at1g18650', 'at1g19397', 'at1g19490',\n",
       "       'at1g20070', 'at1g20720', 'at1g22090', 'at1g22600', 'at1g22840',\n",
       "       'at1g23020', 'at1g23050', 'at1g23850', 'at1g23950', 'at1g23960',\n",
       "       'at1g23970', 'at1g24020', 'at1g26250', 'at1g26340', 'at1g26880',\n",
       "       'at1g26945', 'at1g27300', 'at1g27380', 'at1g27461', 'at1g27540',\n",
       "       'at1g27990', 'at1g28306', 'at1g28510', 'at1g29355', 'at1g29465',\n",
       "       'at1g30500', 'at1g30580', 'at1g31460', 'at1g31580', 'at1g31750',\n",
       "       'at1g32210', 'at1g32560', 'at1g32630', 'at1g32990', 'at1g33050',\n",
       "       'at1g33102', 'at1g33640', 'at1g33790', 'at1g33800', 'at1g34030',\n",
       "       'at1g34047', 'at1g34065', 'at1g34430', 'at1g36390', 'at1g43560',\n",
       "       'at1g43780', 'at1g43800', 'at1g45976', 'at1g47128', 'at1g47210',\n",
       "       'at1g47540', 'at1g47970', 'at1g48350', 'at1g48390', 'at1g48630',\n",
       "       'at1g49032', 'at1g49940', 'at1g50290', 'at1g50900', 'at1g51090',\n",
       "       'at1g51160', 'at1g51402', 'at1g51920', 'at1g51960', 'at1g52220',\n",
       "       'at1g52300', 'at1g52670', 'at1g52690', 'at1g53300', 'at1g54720',\n",
       "       'at1g54860', 'at1g55675', 'at1g55990', 'at1g56580', 'at1g56660',\n",
       "       'at1g56700', 'at1g57660', 'at1g58220', 'at1g58235', 'at1g58380',\n",
       "       'at1g60090', 'at1g60960', 'at1g61340', 'at1g61560', 'at1g61563',\n",
       "       'at1g61575', 'at1g62980', 'at1g63220', 'at1g64050', 'at1g64065',\n",
       "       'at1g64370', 'at1g64510', 'at1g64650', 'at1g64840', 'at1g65090',\n",
       "       'at1g65340', 'at1g65840', 'at1g65845', 'at1g66180', 'at1g67430',\n",
       "       'at1g67870', 'at1g67920', 'at1g68240', 'at1g68250', 'at1g68560',\n",
       "       'at1g68945', 'at1g69040', 'at1g69620', 'at1g69740', 'at1g70780',\n",
       "       'at1g70830', 'at1g70985', 'at1g71500', 'at1g72070', 'at1g72645',\n",
       "       'at1g72970', 'at1g73530', 'at1g75710', 'at1g75810', 'at1g77360',\n",
       "       'at1g77880', 'at1g77960', 'at1g78060', 'at1g78260', 'at1g78300',\n",
       "       'at1g78630', 'at1g79260', 'at1g80180', 'at1g80360', 'at1g80460',\n",
       "       'at1g80560', 'at1g80610', 'at1g80980', 'at2g01100', 'at2g01400',\n",
       "       'at2g02050', 'at2g02100', 'at2g03470', 'at2g03810', 'at2g04030',\n",
       "       'at2g04050', 'at2g04360', 'at2g04530', 'at2g05440', 'at2g05580',\n",
       "       'at2g05710', 'at2g05920', 'at2g06040', 'at2g06095', 'at2g07200',\n",
       "       'at2g07505', 'at2g08986', 'at2g11522', 'at2g11891', 'at2g13547',\n",
       "       'at2g13820', 'at2g14285', 'at2g15090', 'at2g15960', 'at2g16060',\n",
       "       'at2g16370', 'at2g16440', 'at2g16780', 'at2g16850', 'at2g18340',\n",
       "       'at2g18680', 'at2g19180', 'at2g19260', 'at2g19320', 'at2g19330',\n",
       "       'at2g19590', 'at2g21195', 'at2g21490', 'at2g21580', 'at2g21720',\n",
       "       'at2g22080', 'at2g22170', 'at2g22330', 'at2g22510', 'at2g22780',\n",
       "       'at2g22820', 'at2g22890', 'at2g24790', 'at2g25510', 'at2g25625',\n",
       "       'at2g25964', 'at2g26550', 'at2g26930', 'at2g27090', 'at2g27370',\n",
       "       'at2g27380', 'at2g27420', 'at2g28240', 'at2g28671', 'at2g29570',\n",
       "       'at2g29980', 'at2g30050', 'at2g30100', 'at2g30200', 'at2g30520',\n",
       "       'at2g31490', 'at2g32487', 'at2g33040', 'at2g33150', 'at2g33370',\n",
       "       'at2g33520', 'at2g34310', 'at2g34730', 'at2g34925', 'at2g35240',\n",
       "       'at2g35300', 'at2g35310', 'at2g36220', 'at2g36270', 'at2g36310',\n",
       "       'at2g36340', 'at2g36620', 'at2g36640', 'at2g36880', 'at2g36990',\n",
       "       'at2g37140', 'at2g37640', 'at2g37660', 'at2g37750', 'at2g38465',\n",
       "       'at2g38540', 'at2g38800', 'at2g39130', 'at2g39300', 'at2g39670',\n",
       "       'at2g40020', 'at2g40110', 'at2g40113', 'at2g40220', 'at2g40590',\n",
       "       'at2g41070', 'at2g41260', 'at2g41280', 'at2g41470', 'at2g41540',\n",
       "       'at2g42560', 'at2g42570', 'at2g43110', 'at2g43150', 'at2g43390',\n",
       "       'at2g43450', 'at2g43460', 'at2g43510', 'at2g43520', 'at2g43560',\n",
       "       'at2g43910', 'at2g44120', 'at2g44160', 'at2g44500', 'at2g44650',\n",
       "       'at2g44730', 'at2g45070', 'at2g45180', 'at2g45360', 'at2g45450',\n",
       "       'at2g45740', 'at2g46550', 'at2g46740', 'at2g47050', 'at2g47240',\n",
       "       'at2g47460', 'at2g47610', 'at2g47650', 'at2g47940', 'at2g48140',\n",
       "       'at3g01240', 'at3g01319', 'at3g01380', 'at3g02060', 'at3g02560',\n",
       "       'at3g03630', 'at3g04070', 'at3g04340', 'at3g04640', 'at3g04840',\n",
       "       'at3g04920', 'at3g05080', 'at3g05420', 'at3g05600', 'at3g05730',\n",
       "       'at3g05910', 'at3g06750', 'at3g06860', 'at3g06890', 'at3g07110',\n",
       "       'at3g07150', 'at3g07470', 'at3g07480', 'at3g09860', 'at3g10610',\n",
       "       'at3g10800', 'at3g11420', 'at3g11710', 'at3g12320', 'at3g12510',\n",
       "       'at3g12835', 'at3g12955', 'at3g13180', 'at3g13435', 'at3g13480',\n",
       "       'at3g13580', 'at3g13750', 'at3g13790', 'at3g13980', 'at3g14060',\n",
       "       'at3g14415', 'at3g14595', 'at3g15190', 'at3g15251', 'at3g15280',\n",
       "       'at3g15780', 'at3g16080', 'at3g16450', 'at3g16460', 'at3g16500',\n",
       "       'at3g16660', 'at3g17520', 'at3g17790', 'at3g17940', 'at3g18291',\n",
       "       'at3g18390', 'at3g18410', 'at3g18530', 'at3g18770', 'at3g18980',\n",
       "       'at3g19030', 'at3g19150', 'at3g19860', 'at3g19920', 'at3g20340',\n",
       "       'at3g20390', 'at3g20440', 'at3g20865', 'at3g21200', 'at3g21300',\n",
       "       'at3g22120', 'at3g22620', 'at3g23390', 'at3g23440', 'at3g23510',\n",
       "       'at3g23530', 'at3g23810', 'at3g23990', 'at3g24150', 'at3g24650',\n",
       "       'at3g25530', 'at3g25870', 'at3g27060', 'at3g27820', 'at3g27960',\n",
       "       'at3g29140', 'at3g43800', 'at3g44006', 'at3g44590', 'at3g44890',\n",
       "       'at3g44990', 'at3g45310', 'at3g45900', 'at3g46666', 'at3g48140',\n",
       "       'at3g48510', 'at3g48730', 'at3g49300', 'at3g49330', 'at3g49670',\n",
       "       'at3g49680', 'at3g49960', 'at3g50910', 'at3g50970', 'at3g50980',\n",
       "       'at3g51642', 'at3g51870', 'at3g52110', 'at3g52150', 'at3g52230',\n",
       "       'at3g52360', 'at3g52770', 'at3g53040', 'at3g53740', 'at3g53890',\n",
       "       'at3g53900', 'at3g54110', 'at3g54210', 'at3g54530', 'at3g54560',\n",
       "       'at3g54680', 'at3g55400', 'at3g56260', 'at3g56330', 'at3g56360',\n",
       "       'at3g58470', 'at3g59700', 'at3g59920', 'at3g60040', 'at3g60245',\n",
       "       'at3g60290', 'at3g60370', 'at3g61070', 'at3g61410', 'at3g61640',\n",
       "       'at3g61650', 'at3g61820', 'at3g62600', 'at3g63040', 'at3g63160',\n",
       "       'at3g63410', 'at3g63420', 'at4g00670', 'at4g01050', 'at4g01310',\n",
       "       'at4g02230', 'at4g02250', 'at4g02465', 'at4g02770', 'at4g02790',\n",
       "       'at4g03210', 'at4g03505', 'at4g03520', 'at4g03540', 'at4g04350',\n",
       "       'at4g04640', 'at4g05071', 'at4g07408', 'at4g08330', 'at4g08520',\n",
       "       'at4g09030', 'at4g09040', 'at4g09650', 'at4g09840', 'at4g11010',\n",
       "       'at4g11320', 'at4g12060', 'at4g12420', 'at4g12910', 'at4g13030',\n",
       "       'at4g13930', 'at4g14342', 'at4g14520', 'at4g14690', 'at4g14930',\n",
       "       'at4g15530', 'at4g15650', 'at4g16024', 'at4g16410', 'at4g16530',\n",
       "       'at4g16720', 'at4g16790', 'at4g17190', 'at4g17250', 'at4g17600',\n",
       "       'at4g18100', 'at4g18280', 'at4g18390', 'at4g18510', 'at4g18650',\n",
       "       'at4g18690', 'at4g19003', 'at4g19080', 'at4g19270', 'at4g19950',\n",
       "       'at4g20000', 'at4g20880', 'at4g21020', 'at4g21770', 'at4g22010',\n",
       "       'at4g23670', 'at4g23680', 'at4g23710', 'at4g23870', 'at4g24150',\n",
       "       'at4g24190', 'at4g25170', 'at4g25260', 'at4g25570', 'at4g25580',\n",
       "       'at4g25630', 'at4g25690', 'at4g25707', 'at4g25740', 'at4g26050',\n",
       "       'at4g26320', 'at4g27460', 'at4g27530', 'at4g27652', 'at4g27657',\n",
       "       'at4g27720', 'at4g28260', 'at4g28330', 'at4g29030', 'at4g29690',\n",
       "       'at4g30097', 'at4g30280', 'at4g30330', 'at4g30620', 'at4g30630',\n",
       "       'at4g30740', 'at4g30750', 'at4g30810', 'at4g31355', 'at4g31700',\n",
       "       'at4g31830', 'at4g31875', 'at4g32240', 'at4g32690', 'at4g33030',\n",
       "       'at4g33210', 'at4g33467', 'at4g33610', 'at4g33680', 'at4g33865',\n",
       "       'at4g33980', 'at4g34220', 'at4g34260', 'at4g34290', 'at4g34600',\n",
       "       'at4g34670', 'at4g34790', 'at4g34810', 'at4g35000', 'at4g35050',\n",
       "       'at4g35490', 'at4g35940', 'at4g36250', 'at4g36370', 'at4g36510',\n",
       "       'at4g36600', 'at4g36930', 'at4g37483', 'at4g37510', 'at4g37830',\n",
       "       'at4g38080', 'at4g38100', 'at4g38781', 'at4g38810', 'at4g39130',\n",
       "       'at4g39140', 'at4g39330', 'at4g39675', 'at4g39980', 'at5g01015',\n",
       "       'at5g01870', 'at5g02000', 'at5g02020', 'at5g02890', 'at5g03180',\n",
       "       'at5g03370', 'at5g03545', 'at5g03940', 'at5g03995', 'at5g04010',\n",
       "       'at5g04750', 'at5g05220', 'at5g05290', 'at5g05640', 'at5g05965',\n",
       "       'at5g06200', 'at5g06340', 'at5g06755', 'at5g07090', 'at5g07190',\n",
       "       'at5g08150', 'at5g08240', 'at5g08530', 'at5g09520', 'at5g09530',\n",
       "       'at5g09650', 'at5g09805', 'at5g09978', 'at5g09990', 'at5g10160',\n",
       "       'at5g10360', 'at5g10745', 'at5g10910', 'at5g11950', 'at5g13170',\n",
       "       'at5g13220', 'at5g13310', 'at5g13340', 'at5g13510', 'at5g13870',\n",
       "       'at5g13900', 'at5g13970', 'at5g14450', 'at5g14920', 'at5g15120',\n",
       "       'at5g15230', 'at5g17560', 'at5g17770', 'at5g17920', 'at5g18660',\n",
       "       'at5g18850', 'at5g19110', 'at5g19190', 'at5g19520', 'at5g19740',\n",
       "       'at5g19760', 'at5g20020', 'at5g20060', 'at5g20080', 'at5g20190',\n",
       "       'at5g20250', 'at5g20400', 'at5g20500', 'at5g20610', 'at5g20740',\n",
       "       'at5g20935', 'at5g21020', 'at5g21105', 'at5g22440', 'at5g22500',\n",
       "       'at5g22545', 'at5g22640', 'at5g22880', 'at5g23340', 'at5g23460',\n",
       "       'at5g23840', 'at5g24130', 'at5g25280', 'at5g25750', 'at5g27700',\n",
       "       'at5g28920', 'at5g30510', 'at5g33355', 'at5g34850', 'at5g35320',\n",
       "       'at5g35375', 'at5g35660', 'at5g35740', 'at5g38410', 'at5g38430',\n",
       "       'at5g38480', 'at5g38565', 'at5g39785', 'at5g39970', 'at5g40450',\n",
       "       'at5g41850', 'at5g42290', 'at5g42530', 'at5g42570', 'at5g42825',\n",
       "       'at5g42900', 'at5g42965', 'at5g43770', 'at5g44310', 'at5g44600',\n",
       "       'at5g45310', 'at5g45350', 'at5g45670', 'at5g45860', 'at5g45870',\n",
       "       'at5g45950', 'at5g46110', 'at5g46295', 'at5g47110', 'at5g47175',\n",
       "       'at5g47200', 'at5g47590', 'at5g47930', 'at5g48110', 'at5g48300',\n",
       "       'at5g48470', 'at5g48610', 'at5g48760', 'at5g49360', 'at5g49630',\n",
       "       'at5g49640', 'at5g49800', 'at5g50360', 'at5g50375', 'at5g50740',\n",
       "       'at5g51110', 'at5g51140', 'at5g51580', 'at5g51880', 'at5g52300',\n",
       "       'at5g52310', 'at5g52520', 'at5g52530', 'at5g53170', 'at5g53895',\n",
       "       'at5g54160', 'at5g54190', 'at5g54540', 'at5g55135', 'at5g55750',\n",
       "       'at5g56100', 'at5g56550', 'at5g56710', 'at5g56930', 'at5g57123',\n",
       "       'at5g59170', 'at5g59790', 'at5g60360', 'at5g60860', 'at5g60890',\n",
       "       'at5g61130', 'at5g61170', 'at5g61490', 'at5g61495', 'at5g61610',\n",
       "       'at5g62030', 'at5g62300', 'at5g63400', 'at5g63810', 'at5g63890',\n",
       "       'at5g64120', 'at5g64230', 'at5g64310', 'at5g64460', 'at5g64880',\n",
       "       'at5g64905', 'at5g65110', 'at5g65495', 'at5g65660', 'at5g66053',\n",
       "       'at5g66280', 'at5g66470', 'at5g66570', 'at5g66580', 'at5g67450',\n",
       "       'atcg00040', 'atcg00160', 'atcg00180', 'atcg00190', 'atcg00380',\n",
       "       'atcg00520', 'atcg00860', 'atcg01310', 'atmg00300', 'atmg01210',\n",
       "       'atmg01220'], dtype=object)"
      ]
     },
     "execution_count": 16,
     "metadata": {},
     "output_type": "execute_result"
    }
   ],
   "source": [
    "ga_genes"
   ]
  },
  {
   "cell_type": "markdown",
   "id": "9dda8a09",
   "metadata": {
    "papermill": {
     "duration": 0.026423,
     "end_time": "2024-10-24T15:37:43.948376",
     "exception": false,
     "start_time": "2024-10-24T15:37:43.921953",
     "status": "completed"
    },
    "tags": []
   },
   "source": [
    "### 3.2 Check variance of destroyed TAI and its new p-value"
   ]
  },
  {
   "cell_type": "code",
   "execution_count": 17,
   "id": "9bbbd4e7",
   "metadata": {
    "execution": {
     "iopub.execute_input": "2024-10-24T15:37:44.000832Z",
     "iopub.status.busy": "2024-10-24T15:37:44.000717Z",
     "iopub.status.idle": "2024-10-24T15:37:44.607869Z",
     "shell.execute_reply": "2024-10-24T15:37:44.607637Z"
    },
    "papermill": {
     "duration": 0.63362,
     "end_time": "2024-10-24T15:37:44.608535",
     "exception": false,
     "start_time": "2024-10-24T15:37:43.974915",
     "status": "completed"
    },
    "tags": []
   },
   "outputs": [
    {
     "data": {
      "image/png": "[encoded data removed]",
      "text/plain": [
       "<Figure size 640x480 with 1 Axes>"
      ]
     },
     "metadata": {},
     "output_type": "display_data"
    }
   ],
   "source": [
    "new_data = expression_data.remove_genes(ga_genes)\n",
    "plt.plot(expression_data.tai, label=\"Real TAI\", color=\"blue\")\n",
    "plt.plot(new_data.tai, label=\"Destroyed TAI\", color=\"red\")\n",
    "\n",
    "plt.legend()\n",
    "plt.show()"
   ]
  },
  {
   "cell_type": "code",
   "execution_count": 18,
   "id": "c9aa1eb1",
   "metadata": {
    "execution": {
     "iopub.execute_input": "2024-10-24T15:37:44.662164Z",
     "iopub.status.busy": "2024-10-24T15:37:44.662027Z",
     "iopub.status.idle": "2024-10-24T15:37:44.673218Z",
     "shell.execute_reply": "2024-10-24T15:37:44.673009Z"
    },
    "papermill": {
     "duration": 0.037614,
     "end_time": "2024-10-24T15:37:44.673878",
     "exception": false,
     "start_time": "2024-10-24T15:37:44.636264",
     "status": "completed"
    },
    "tags": []
   },
   "outputs": [
    {
     "name": "stdout",
     "output_type": "stream",
     "text": [
      "destroyed TAI p-value: 0.6212942474241432\n"
     ]
    }
   ],
   "source": [
    "new_tai_var = np.var(new_data.tai).item()\n",
    "print(\"destroyed TAI p-value:\", get_p_value(new_tai_var))"
   ]
  },
  {
   "cell_type": "code",
   "execution_count": 19,
   "id": "29ecb257",
   "metadata": {
    "execution": {
     "iopub.execute_input": "2024-10-24T15:37:44.728064Z",
     "iopub.status.busy": "2024-10-24T15:37:44.727950Z",
     "iopub.status.idle": "2024-10-24T15:37:44.815853Z",
     "shell.execute_reply": "2024-10-24T15:37:44.815569Z"
    },
    "papermill": {
     "duration": 0.117469,
     "end_time": "2024-10-24T15:37:44.816581",
     "exception": false,
     "start_time": "2024-10-24T15:37:44.699112",
     "status": "completed"
    },
    "tags": []
   },
   "outputs": [
    {
     "data": {
      "image/png": "[encoded data removed]",
      "text/plain": [
       "<Figure size 640x480 with 1 Axes>"
      ]
     },
     "metadata": {},
     "output_type": "display_data"
    }
   ],
   "source": [
    "plt.hist(permutation_comp_vars, density=True, bins=100, label=\"Random gene age TAI variance\")\n",
    "plt.axvline(x=tai_var, label=\"True TAI variance\", color=\"red\")\n",
    "\n",
    "\n",
    "x = np.linspace(0, tai_var, 200)\n",
    "y = stats.gamma.pdf(x, a, loc=loc, scale=scale)\n",
    "plt.plot(x, y, label=\"Fitted gamma distribution\", linestyle=\"dashed\")\n",
    "plt.axvline(x=new_tai_var, label=\"Destroyed TAI variance\", color=\"black\")\n",
    "plt.legend()\n",
    "plt.show()"
   ]
  },
  {
   "cell_type": "markdown",
   "id": "d5570236",
   "metadata": {
    "papermill": {
     "duration": 0.024154,
     "end_time": "2024-10-24T15:37:44.867787",
     "exception": false,
     "start_time": "2024-10-24T15:37:44.843633",
     "status": "completed"
    },
    "tags": []
   },
   "source": [
    "### 3.3 Benchmark GA against greedy removal of genes with highest variance"
   ]
  },
  {
   "cell_type": "code",
   "execution_count": 20,
   "id": "f4dd2f48",
   "metadata": {
    "execution": {
     "iopub.execute_input": "2024-10-24T15:37:44.923722Z",
     "iopub.status.busy": "2024-10-24T15:37:44.923537Z",
     "iopub.status.idle": "2024-10-24T15:37:45.085344Z",
     "shell.execute_reply": "2024-10-24T15:37:45.085108Z"
    },
    "papermill": {
     "duration": 0.192301,
     "end_time": "2024-10-24T15:37:45.086056",
     "exception": false,
     "start_time": "2024-10-24T15:37:44.893755",
     "status": "completed"
    },
    "tags": []
   },
   "outputs": [
    {
     "data": {
      "text/html": [
       "<div>\n",
       "<style scoped>\n",
       "    .dataframe tbody tr th:only-of-type {\n",
       "        vertical-align: middle;\n",
       "    }\n",
       "\n",
       "    .dataframe tbody tr th {\n",
       "        vertical-align: top;\n",
       "    }\n",
       "\n",
       "    .dataframe thead th {\n",
       "        text-align: right;\n",
       "    }\n",
       "</style>\n",
       "<table border=\"1\" class=\"dataframe\">\n",
       "  <thead>\n",
       "    <tr style=\"text-align: right;\">\n",
       "      <th></th>\n",
       "      <th>Phylostratum</th>\n",
       "      <th>GeneID</th>\n",
       "      <th>Variance</th>\n",
       "    </tr>\n",
       "  </thead>\n",
       "  <tbody>\n",
       "    <tr>\n",
       "      <th>5072</th>\n",
       "      <td>0.963841</td>\n",
       "      <td>at1g68250</td>\n",
       "      <td>686.615332</td>\n",
       "    </tr>\n",
       "    <tr>\n",
       "      <th>9478</th>\n",
       "      <td>0.963841</td>\n",
       "      <td>at2g41260</td>\n",
       "      <td>587.813111</td>\n",
       "    </tr>\n",
       "    <tr>\n",
       "      <th>6674</th>\n",
       "      <td>0.963841</td>\n",
       "      <td>at2g05580</td>\n",
       "      <td>427.328322</td>\n",
       "    </tr>\n",
       "    <tr>\n",
       "      <th>21357</th>\n",
       "      <td>0.963841</td>\n",
       "      <td>at5g35660</td>\n",
       "      <td>410.527599</td>\n",
       "    </tr>\n",
       "    <tr>\n",
       "      <th>2857</th>\n",
       "      <td>0.963841</td>\n",
       "      <td>at1g32560</td>\n",
       "      <td>382.200755</td>\n",
       "    </tr>\n",
       "    <tr>\n",
       "      <th>...</th>\n",
       "      <td>...</td>\n",
       "      <td>...</td>\n",
       "      <td>...</td>\n",
       "    </tr>\n",
       "    <tr>\n",
       "      <th>22184</th>\n",
       "      <td>0.618291</td>\n",
       "      <td>at5g44640</td>\n",
       "      <td>0.000644</td>\n",
       "    </tr>\n",
       "    <tr>\n",
       "      <th>9210</th>\n",
       "      <td>0.926134</td>\n",
       "      <td>at2g38690</td>\n",
       "      <td>0.000595</td>\n",
       "    </tr>\n",
       "    <tr>\n",
       "      <th>117</th>\n",
       "      <td>0.618291</td>\n",
       "      <td>at1g02250</td>\n",
       "      <td>0.000572</td>\n",
       "    </tr>\n",
       "    <tr>\n",
       "      <th>2381</th>\n",
       "      <td>0.699120</td>\n",
       "      <td>at1g27220</td>\n",
       "      <td>0.000491</td>\n",
       "    </tr>\n",
       "    <tr>\n",
       "      <th>21068</th>\n",
       "      <td>0.699120</td>\n",
       "      <td>at5g26640</td>\n",
       "      <td>0.000292</td>\n",
       "    </tr>\n",
       "  </tbody>\n",
       "</table>\n",
       "<p>24558 rows × 3 columns</p>\n",
       "</div>"
      ],
      "text/plain": [
       "       Phylostratum     GeneID    Variance\n",
       "5072       0.963841  at1g68250  686.615332\n",
       "9478       0.963841  at2g41260  587.813111\n",
       "6674       0.963841  at2g05580  427.328322\n",
       "21357      0.963841  at5g35660  410.527599\n",
       "2857       0.963841  at1g32560  382.200755\n",
       "...             ...        ...         ...\n",
       "22184      0.618291  at5g44640    0.000644\n",
       "9210       0.926134  at2g38690    0.000595\n",
       "117        0.618291  at1g02250    0.000572\n",
       "2381       0.699120  at1g27220    0.000491\n",
       "21068      0.699120  at5g26640    0.000292\n",
       "\n",
       "[24558 rows x 3 columns]"
      ]
     },
     "execution_count": 20,
     "metadata": {},
     "output_type": "execute_result"
    }
   ],
   "source": [
    "gene_variances = expression_data.gene_variances.sort_values('Variance', ascending=False)\n",
    "gene_variances"
   ]
  },
  {
   "cell_type": "code",
   "execution_count": 21,
   "id": "7fc9019e",
   "metadata": {
    "execution": {
     "iopub.execute_input": "2024-10-24T15:37:45.144895Z",
     "iopub.status.busy": "2024-10-24T15:37:45.144778Z",
     "iopub.status.idle": "2024-10-24T15:37:45.152976Z",
     "shell.execute_reply": "2024-10-24T15:37:45.152725Z"
    },
    "papermill": {
     "duration": 0.037823,
     "end_time": "2024-10-24T15:37:45.153641",
     "exception": false,
     "start_time": "2024-10-24T15:37:45.115818",
     "status": "completed"
    },
    "tags": []
   },
   "outputs": [],
   "source": [
    "k_top = len(ga_genes)\n",
    "\n",
    "highest_var_genes = gene_variances.head(k_top)['GeneID'].to_numpy()"
   ]
  },
  {
   "cell_type": "code",
   "execution_count": 22,
   "id": "613ca74a",
   "metadata": {
    "execution": {
     "iopub.execute_input": "2024-10-24T15:37:45.216478Z",
     "iopub.status.busy": "2024-10-24T15:37:45.216361Z",
     "iopub.status.idle": "2024-10-24T15:37:45.819682Z",
     "shell.execute_reply": "2024-10-24T15:37:45.819460Z"
    },
    "papermill": {
     "duration": 0.635632,
     "end_time": "2024-10-24T15:37:45.820321",
     "exception": false,
     "start_time": "2024-10-24T15:37:45.184689",
     "status": "completed"
    },
    "tags": []
   },
   "outputs": [
    {
     "data": {
      "image/png": "[encoded data removed]",
      "text/plain": [
       "<Figure size 640x480 with 1 Axes>"
      ]
     },
     "metadata": {},
     "output_type": "display_data"
    }
   ],
   "source": [
    "greedy_data = expression_data.remove_genes(highest_var_genes)\n",
    "plt.plot(expression_data.tai, label=\"Real TAI\", color=\"blue\")\n",
    "plt.plot(new_data.tai, label=\"Destroyed TAI\", color=\"red\")\n",
    "plt.plot(greedy_data.tai, label=\"Greedy TAI\", color=\"green\")\n",
    "\n",
    "plt.legend()\n",
    "plt.show()"
   ]
  },
  {
   "cell_type": "code",
   "execution_count": 23,
   "id": "066a3d07",
   "metadata": {
    "execution": {
     "iopub.execute_input": "2024-10-24T15:37:45.883400Z",
     "iopub.status.busy": "2024-10-24T15:37:45.883305Z",
     "iopub.status.idle": "2024-10-24T15:37:45.892319Z",
     "shell.execute_reply": "2024-10-24T15:37:45.892119Z"
    },
    "papermill": {
     "duration": 0.040117,
     "end_time": "2024-10-24T15:37:45.892858",
     "exception": false,
     "start_time": "2024-10-24T15:37:45.852741",
     "status": "completed"
    },
    "tags": []
   },
   "outputs": [
    {
     "name": "stdout",
     "output_type": "stream",
     "text": [
      "p-value:  7.266877179222137e-15\n"
     ]
    }
   ],
   "source": [
    "greedy_tai_var = np.var(greedy_data.tai).item()\n",
    "print(\"p-value: \", get_p_value(greedy_tai_var))"
   ]
  },
  {
   "cell_type": "markdown",
   "id": "e9dc28a6",
   "metadata": {
    "papermill": {
     "duration": 0.029301,
     "end_time": "2024-10-24T15:37:45.950338",
     "exception": false,
     "start_time": "2024-10-24T15:37:45.921037",
     "status": "completed"
    },
    "tags": []
   },
   "source": [
    "Conversely, however, the genes that were extracted by GATAI tend to have a high variance (but they need to be carefully selected, it's not as simple as picking the most variant ones, hence the need for the GA approach)"
   ]
  },
  {
   "cell_type": "code",
   "execution_count": 24,
   "id": "5b308cac",
   "metadata": {
    "execution": {
     "iopub.execute_input": "2024-10-24T15:37:46.008066Z",
     "iopub.status.busy": "2024-10-24T15:37:46.007949Z",
     "iopub.status.idle": "2024-10-24T15:37:46.016885Z",
     "shell.execute_reply": "2024-10-24T15:37:46.016698Z"
    },
    "papermill": {
     "duration": 0.036734,
     "end_time": "2024-10-24T15:37:46.017450",
     "exception": false,
     "start_time": "2024-10-24T15:37:45.980716",
     "status": "completed"
    },
    "tags": []
   },
   "outputs": [
    {
     "name": "stdout",
     "output_type": "stream",
     "text": [
      "Number of GA selected genes which are also part of the top_k most variant subset of genes in the dataset: 206 out of 796\n"
     ]
    }
   ],
   "source": [
    "common_genes = np.intersect1d(ga_genes, highest_var_genes)\n",
    "\n",
    "print(\"Number of GA selected genes which are also part of the top_k most variant subset of genes in the dataset:\", len(common_genes), \"out of\", len(ga_genes))"
   ]
  }
 ],
 "metadata": {
  "kernelspec": {
   "display_name": "gatai-reproduction-YJP4mtSF-py3.12",
   "language": "python",
   "name": "python3"
  },
  "language_info": {
   "codemirror_mode": {
    "name": "ipython",
    "version": 3
   },
   "file_extension": ".py",
   "mimetype": "text/x-python",
   "name": "python",
   "nbconvert_exporter": "python",
   "pygments_lexer": "ipython3",
   "version": "3.12.6"
  },
  "papermill": {
   "default_parameters": {},
   "duration": 779.141008,
   "end_time": "2024-10-24T15:37:48.668030",
   "environment_variables": {},
   "exception": null,
   "input_path": "tai_destroyer.ipynb",
   "output_path": "results/athaliana/germination.ipynb",
   "parameters": {
    "data_path": "data/processed_data/germination.csv",
    "transformation": "sqrt"
   },
   "start_time": "2024-10-24T15:24:49.527022",
   "version": "2.6.0"
  }
 },
 "nbformat": 4,
 "nbformat_minor": 5
}