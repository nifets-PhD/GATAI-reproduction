{
 "cells": [
  {
   "cell_type": "code",
   "execution_count": 1,
   "id": "bafb5aa7",
   "metadata": {
    "execution": {
     "iopub.execute_input": "2024-10-24T15:41:10.713694Z",
     "iopub.status.busy": "2024-10-24T15:41:10.713345Z",
     "iopub.status.idle": "2024-10-24T15:41:10.726925Z",
     "shell.execute_reply": "2024-10-24T15:41:10.726607Z"
    },
    "papermill": {
     "duration": 0.031023,
     "end_time": "2024-10-24T15:41:10.728013",
     "exception": false,
     "start_time": "2024-10-24T15:41:10.696990",
     "status": "completed"
    },
    "tags": []
   },
   "outputs": [],
   "source": [
    "%load_ext autoreload\n",
    "%autoreload 2"
   ]
  },
  {
   "cell_type": "code",
   "execution_count": 2,
   "id": "8e093d0b",
   "metadata": {
    "execution": {
     "iopub.execute_input": "2024-10-24T15:41:10.754729Z",
     "iopub.status.busy": "2024-10-24T15:41:10.754513Z",
     "iopub.status.idle": "2024-10-24T15:41:10.761020Z",
     "shell.execute_reply": "2024-10-24T15:41:10.760711Z"
    },
    "papermill": {
     "duration": 0.02014,
     "end_time": "2024-10-24T15:41:10.761847",
     "exception": false,
     "start_time": "2024-10-24T15:41:10.741707",
     "status": "completed"
    },
    "tags": []
   },
   "outputs": [],
   "source": [
    "import logging\n",
    "\n",
    "logging.basicConfig(format='%(asctime)s %(levelname)s:%(message)s', level=logging.INFO)"
   ]
  },
  {
   "cell_type": "markdown",
   "id": "53c2144a",
   "metadata": {
    "papermill": {
     "duration": 0.011034,
     "end_time": "2024-10-24T15:41:10.784564",
     "exception": false,
     "start_time": "2024-10-24T15:41:10.773530",
     "status": "completed"
    },
    "tags": []
   },
   "source": [
    "## 1. Load expression data\n",
    "\n",
    "The `transformation` value can be one of `\"none\"`, `\"sqrt\"` or `\"log\"`, which determines how the expression data should be transformed in order to reduce outlier influence."
   ]
  },
  {
   "cell_type": "code",
   "execution_count": 3,
   "id": "cfde5f3f",
   "metadata": {
    "execution": {
     "iopub.execute_input": "2024-10-24T15:41:10.802824Z",
     "iopub.status.busy": "2024-10-24T15:41:10.802646Z",
     "iopub.status.idle": "2024-10-24T15:41:10.809208Z",
     "shell.execute_reply": "2024-10-24T15:41:10.808878Z"
    },
    "papermill": {
     "duration": 0.016706,
     "end_time": "2024-10-24T15:41:10.810105",
     "exception": false,
     "start_time": "2024-10-24T15:41:10.793399",
     "status": "completed"
    },
    "tags": [
     "parameters"
    ]
   },
   "outputs": [],
   "source": [
    "data_path: str = \"data/Athaliana.csv\"\n",
    "transformation: str = \"log\""
   ]
  },
  {
   "cell_type": "code",
   "execution_count": 4,
   "id": "db486b2e",
   "metadata": {
    "execution": {
     "iopub.execute_input": "2024-10-24T15:41:10.831969Z",
     "iopub.status.busy": "2024-10-24T15:41:10.831779Z",
     "iopub.status.idle": "2024-10-24T15:41:10.837562Z",
     "shell.execute_reply": "2024-10-24T15:41:10.837278Z"
    },
    "papermill": {
     "duration": 0.016681,
     "end_time": "2024-10-24T15:41:10.838420",
     "exception": false,
     "start_time": "2024-10-24T15:41:10.821739",
     "status": "completed"
    },
    "tags": [
     "injected-parameters"
    ]
   },
   "outputs": [],
   "source": [
    "# Parameters\n",
    "data_path = \"data/processed_data/floral_transition.csv\"\n",
    "transformation = \"sqrt\"\n"
   ]
  },
  {
   "cell_type": "code",
   "execution_count": 5,
   "id": "a2f98696",
   "metadata": {
    "execution": {
     "iopub.execute_input": "2024-10-24T15:41:10.856437Z",
     "iopub.status.busy": "2024-10-24T15:41:10.856294Z",
     "iopub.status.idle": "2024-10-24T15:41:11.952007Z",
     "shell.execute_reply": "2024-10-24T15:41:11.951707Z"
    },
    "papermill": {
     "duration": 1.105648,
     "end_time": "2024-10-24T15:41:11.952658",
     "exception": false,
     "start_time": "2024-10-24T15:41:10.847010",
     "status": "completed"
    },
    "tags": []
   },
   "outputs": [
    {
     "data": {
      "text/html": [
       "<div>\n",
       "<style scoped>\n",
       "    .dataframe tbody tr th:only-of-type {\n",
       "        vertical-align: middle;\n",
       "    }\n",
       "\n",
       "    .dataframe tbody tr th {\n",
       "        vertical-align: top;\n",
       "    }\n",
       "\n",
       "    .dataframe thead th {\n",
       "        text-align: right;\n",
       "    }\n",
       "</style>\n",
       "<table border=\"1\" class=\"dataframe\">\n",
       "  <thead>\n",
       "    <tr style=\"text-align: right;\">\n",
       "      <th></th>\n",
       "      <th>Phylostratum</th>\n",
       "      <th>GeneID</th>\n",
       "      <th>TP1</th>\n",
       "      <th>TP2</th>\n",
       "      <th>TP3</th>\n",
       "      <th>TP4</th>\n",
       "      <th>TP5</th>\n",
       "      <th>TP6</th>\n",
       "      <th>TP7</th>\n",
       "    </tr>\n",
       "  </thead>\n",
       "  <tbody>\n",
       "    <tr>\n",
       "      <th>0</th>\n",
       "      <td>0.705924</td>\n",
       "      <td>at1g01010</td>\n",
       "      <td>2.416764</td>\n",
       "      <td>2.619943</td>\n",
       "      <td>2.473723</td>\n",
       "      <td>2.317008</td>\n",
       "      <td>2.461993</td>\n",
       "      <td>2.200697</td>\n",
       "      <td>2.821192</td>\n",
       "    </tr>\n",
       "    <tr>\n",
       "      <th>1</th>\n",
       "      <td>0.705924</td>\n",
       "      <td>at1g01020</td>\n",
       "      <td>2.495246</td>\n",
       "      <td>2.582087</td>\n",
       "      <td>2.597364</td>\n",
       "      <td>2.730747</td>\n",
       "      <td>2.676457</td>\n",
       "      <td>2.747086</td>\n",
       "      <td>2.528967</td>\n",
       "    </tr>\n",
       "    <tr>\n",
       "      <th>2</th>\n",
       "      <td>0.705924</td>\n",
       "      <td>at1g01040</td>\n",
       "      <td>4.854236</td>\n",
       "      <td>5.098336</td>\n",
       "      <td>4.767746</td>\n",
       "      <td>4.653653</td>\n",
       "      <td>4.478829</td>\n",
       "      <td>4.802210</td>\n",
       "      <td>5.142442</td>\n",
       "    </tr>\n",
       "    <tr>\n",
       "      <th>3</th>\n",
       "      <td>0.705924</td>\n",
       "      <td>at1g01050</td>\n",
       "      <td>7.181496</td>\n",
       "      <td>7.506390</td>\n",
       "      <td>6.705106</td>\n",
       "      <td>6.423444</td>\n",
       "      <td>6.339675</td>\n",
       "      <td>6.629789</td>\n",
       "      <td>7.240536</td>\n",
       "    </tr>\n",
       "    <tr>\n",
       "      <th>4</th>\n",
       "      <td>0.803240</td>\n",
       "      <td>at1g01060</td>\n",
       "      <td>8.396736</td>\n",
       "      <td>9.951856</td>\n",
       "      <td>9.385583</td>\n",
       "      <td>6.317615</td>\n",
       "      <td>6.784620</td>\n",
       "      <td>7.335279</td>\n",
       "      <td>8.912699</td>\n",
       "    </tr>\n",
       "    <tr>\n",
       "      <th>...</th>\n",
       "      <td>...</td>\n",
       "      <td>...</td>\n",
       "      <td>...</td>\n",
       "      <td>...</td>\n",
       "      <td>...</td>\n",
       "      <td>...</td>\n",
       "      <td>...</td>\n",
       "      <td>...</td>\n",
       "      <td>...</td>\n",
       "    </tr>\n",
       "    <tr>\n",
       "      <th>15491</th>\n",
       "      <td>0.705924</td>\n",
       "      <td>atcg00800</td>\n",
       "      <td>1.612615</td>\n",
       "      <td>1.629820</td>\n",
       "      <td>1.558312</td>\n",
       "      <td>1.470608</td>\n",
       "      <td>1.443992</td>\n",
       "      <td>2.084957</td>\n",
       "      <td>1.499900</td>\n",
       "    </tr>\n",
       "    <tr>\n",
       "      <th>15492</th>\n",
       "      <td>0.705924</td>\n",
       "      <td>atcg01020</td>\n",
       "      <td>2.706842</td>\n",
       "      <td>2.611193</td>\n",
       "      <td>2.253875</td>\n",
       "      <td>2.536521</td>\n",
       "      <td>2.097144</td>\n",
       "      <td>2.827260</td>\n",
       "      <td>2.295381</td>\n",
       "    </tr>\n",
       "    <tr>\n",
       "      <th>15493</th>\n",
       "      <td>0.903459</td>\n",
       "      <td>atmg00030</td>\n",
       "      <td>7.729567</td>\n",
       "      <td>8.570700</td>\n",
       "      <td>6.124332</td>\n",
       "      <td>4.631382</td>\n",
       "      <td>5.716684</td>\n",
       "      <td>9.702795</td>\n",
       "      <td>8.170928</td>\n",
       "    </tr>\n",
       "    <tr>\n",
       "      <th>15494</th>\n",
       "      <td>0.973735</td>\n",
       "      <td>atmg00660</td>\n",
       "      <td>2.344070</td>\n",
       "      <td>2.082176</td>\n",
       "      <td>2.293624</td>\n",
       "      <td>2.023964</td>\n",
       "      <td>1.956286</td>\n",
       "      <td>2.141461</td>\n",
       "      <td>2.098938</td>\n",
       "    </tr>\n",
       "    <tr>\n",
       "      <th>15495</th>\n",
       "      <td>0.991740</td>\n",
       "      <td>atmg01370</td>\n",
       "      <td>2.310436</td>\n",
       "      <td>2.597887</td>\n",
       "      <td>2.216054</td>\n",
       "      <td>2.029967</td>\n",
       "      <td>1.988388</td>\n",
       "      <td>2.013752</td>\n",
       "      <td>2.117456</td>\n",
       "    </tr>\n",
       "  </tbody>\n",
       "</table>\n",
       "<p>15496 rows × 9 columns</p>\n",
       "</div>"
      ],
      "text/plain": [
       "       Phylostratum     GeneID       TP1       TP2       TP3       TP4  \\\n",
       "0          0.705924  at1g01010  2.416764  2.619943  2.473723  2.317008   \n",
       "1          0.705924  at1g01020  2.495246  2.582087  2.597364  2.730747   \n",
       "2          0.705924  at1g01040  4.854236  5.098336  4.767746  4.653653   \n",
       "3          0.705924  at1g01050  7.181496  7.506390  6.705106  6.423444   \n",
       "4          0.803240  at1g01060  8.396736  9.951856  9.385583  6.317615   \n",
       "...             ...        ...       ...       ...       ...       ...   \n",
       "15491      0.705924  atcg00800  1.612615  1.629820  1.558312  1.470608   \n",
       "15492      0.705924  atcg01020  2.706842  2.611193  2.253875  2.536521   \n",
       "15493      0.903459  atmg00030  7.729567  8.570700  6.124332  4.631382   \n",
       "15494      0.973735  atmg00660  2.344070  2.082176  2.293624  2.023964   \n",
       "15495      0.991740  atmg01370  2.310436  2.597887  2.216054  2.029967   \n",
       "\n",
       "            TP5       TP6       TP7  \n",
       "0      2.461993  2.200697  2.821192  \n",
       "1      2.676457  2.747086  2.528967  \n",
       "2      4.478829  4.802210  5.142442  \n",
       "3      6.339675  6.629789  7.240536  \n",
       "4      6.784620  7.335279  8.912699  \n",
       "...         ...       ...       ...  \n",
       "15491  1.443992  2.084957  1.499900  \n",
       "15492  2.097144  2.827260  2.295381  \n",
       "15493  5.716684  9.702795  8.170928  \n",
       "15494  1.956286  2.141461  2.098938  \n",
       "15495  1.988388  2.013752  2.117456  \n",
       "\n",
       "[15496 rows x 9 columns]"
      ]
     },
     "execution_count": 5,
     "metadata": {},
     "output_type": "execute_result"
    }
   ],
   "source": [
    "from my_gatai import Expression_data\n",
    "\n",
    "expression_data = Expression_data.from_csv(data_path, \n",
    "                                           transformation=transformation)\n",
    "expression_data.full"
   ]
  },
  {
   "cell_type": "code",
   "execution_count": 6,
   "id": "f4756691",
   "metadata": {
    "execution": {
     "iopub.execute_input": "2024-10-24T15:41:11.973445Z",
     "iopub.status.busy": "2024-10-24T15:41:11.973305Z",
     "iopub.status.idle": "2024-10-24T15:41:11.982813Z",
     "shell.execute_reply": "2024-10-24T15:41:11.982612Z"
    },
    "papermill": {
     "duration": 0.019059,
     "end_time": "2024-10-24T15:41:11.983456",
     "exception": false,
     "start_time": "2024-10-24T15:41:11.964397",
     "status": "completed"
    },
    "tags": []
   },
   "outputs": [
    {
     "data": {
      "text/html": [
       "<div>\n",
       "<style scoped>\n",
       "    .dataframe tbody tr th:only-of-type {\n",
       "        vertical-align: middle;\n",
       "    }\n",
       "\n",
       "    .dataframe tbody tr th {\n",
       "        vertical-align: top;\n",
       "    }\n",
       "\n",
       "    .dataframe thead th {\n",
       "        text-align: right;\n",
       "    }\n",
       "</style>\n",
       "<table border=\"1\" class=\"dataframe\">\n",
       "  <thead>\n",
       "    <tr style=\"text-align: right;\">\n",
       "      <th></th>\n",
       "      <th>TP1</th>\n",
       "      <th>TP2</th>\n",
       "      <th>TP3</th>\n",
       "      <th>TP4</th>\n",
       "      <th>TP5</th>\n",
       "      <th>TP6</th>\n",
       "      <th>TP7</th>\n",
       "    </tr>\n",
       "  </thead>\n",
       "  <tbody>\n",
       "    <tr>\n",
       "      <th>0</th>\n",
       "      <td>0.000023</td>\n",
       "      <td>0.000025</td>\n",
       "      <td>0.000023</td>\n",
       "      <td>0.000022</td>\n",
       "      <td>0.000023</td>\n",
       "      <td>0.000021</td>\n",
       "      <td>0.000027</td>\n",
       "    </tr>\n",
       "    <tr>\n",
       "      <th>1</th>\n",
       "      <td>0.000024</td>\n",
       "      <td>0.000024</td>\n",
       "      <td>0.000025</td>\n",
       "      <td>0.000026</td>\n",
       "      <td>0.000025</td>\n",
       "      <td>0.000027</td>\n",
       "      <td>0.000024</td>\n",
       "    </tr>\n",
       "    <tr>\n",
       "      <th>2</th>\n",
       "      <td>0.000046</td>\n",
       "      <td>0.000048</td>\n",
       "      <td>0.000045</td>\n",
       "      <td>0.000044</td>\n",
       "      <td>0.000043</td>\n",
       "      <td>0.000046</td>\n",
       "      <td>0.000049</td>\n",
       "    </tr>\n",
       "    <tr>\n",
       "      <th>3</th>\n",
       "      <td>0.000068</td>\n",
       "      <td>0.000071</td>\n",
       "      <td>0.000064</td>\n",
       "      <td>0.000061</td>\n",
       "      <td>0.000060</td>\n",
       "      <td>0.000064</td>\n",
       "      <td>0.000069</td>\n",
       "    </tr>\n",
       "    <tr>\n",
       "      <th>4</th>\n",
       "      <td>0.000091</td>\n",
       "      <td>0.000107</td>\n",
       "      <td>0.000101</td>\n",
       "      <td>0.000068</td>\n",
       "      <td>0.000073</td>\n",
       "      <td>0.000081</td>\n",
       "      <td>0.000097</td>\n",
       "    </tr>\n",
       "    <tr>\n",
       "      <th>...</th>\n",
       "      <td>...</td>\n",
       "      <td>...</td>\n",
       "      <td>...</td>\n",
       "      <td>...</td>\n",
       "      <td>...</td>\n",
       "      <td>...</td>\n",
       "      <td>...</td>\n",
       "    </tr>\n",
       "    <tr>\n",
       "      <th>15491</th>\n",
       "      <td>0.000015</td>\n",
       "      <td>0.000015</td>\n",
       "      <td>0.000015</td>\n",
       "      <td>0.000014</td>\n",
       "      <td>0.000014</td>\n",
       "      <td>0.000020</td>\n",
       "      <td>0.000014</td>\n",
       "    </tr>\n",
       "    <tr>\n",
       "      <th>15492</th>\n",
       "      <td>0.000026</td>\n",
       "      <td>0.000025</td>\n",
       "      <td>0.000021</td>\n",
       "      <td>0.000024</td>\n",
       "      <td>0.000020</td>\n",
       "      <td>0.000027</td>\n",
       "      <td>0.000022</td>\n",
       "    </tr>\n",
       "    <tr>\n",
       "      <th>15493</th>\n",
       "      <td>0.000094</td>\n",
       "      <td>0.000104</td>\n",
       "      <td>0.000074</td>\n",
       "      <td>0.000056</td>\n",
       "      <td>0.000070</td>\n",
       "      <td>0.000120</td>\n",
       "      <td>0.000100</td>\n",
       "    </tr>\n",
       "    <tr>\n",
       "      <th>15494</th>\n",
       "      <td>0.000031</td>\n",
       "      <td>0.000027</td>\n",
       "      <td>0.000030</td>\n",
       "      <td>0.000027</td>\n",
       "      <td>0.000026</td>\n",
       "      <td>0.000029</td>\n",
       "      <td>0.000028</td>\n",
       "    </tr>\n",
       "    <tr>\n",
       "      <th>15495</th>\n",
       "      <td>0.000031</td>\n",
       "      <td>0.000035</td>\n",
       "      <td>0.000030</td>\n",
       "      <td>0.000027</td>\n",
       "      <td>0.000027</td>\n",
       "      <td>0.000027</td>\n",
       "      <td>0.000028</td>\n",
       "    </tr>\n",
       "  </tbody>\n",
       "</table>\n",
       "<p>15496 rows × 7 columns</p>\n",
       "</div>"
      ],
      "text/plain": [
       "            TP1       TP2       TP3       TP4       TP5       TP6       TP7\n",
       "0      0.000023  0.000025  0.000023  0.000022  0.000023  0.000021  0.000027\n",
       "1      0.000024  0.000024  0.000025  0.000026  0.000025  0.000027  0.000024\n",
       "2      0.000046  0.000048  0.000045  0.000044  0.000043  0.000046  0.000049\n",
       "3      0.000068  0.000071  0.000064  0.000061  0.000060  0.000064  0.000069\n",
       "4      0.000091  0.000107  0.000101  0.000068  0.000073  0.000081  0.000097\n",
       "...         ...       ...       ...       ...       ...       ...       ...\n",
       "15491  0.000015  0.000015  0.000015  0.000014  0.000014  0.000020  0.000014\n",
       "15492  0.000026  0.000025  0.000021  0.000024  0.000020  0.000027  0.000022\n",
       "15493  0.000094  0.000104  0.000074  0.000056  0.000070  0.000120  0.000100\n",
       "15494  0.000031  0.000027  0.000030  0.000027  0.000026  0.000029  0.000028\n",
       "15495  0.000031  0.000035  0.000030  0.000027  0.000027  0.000027  0.000028\n",
       "\n",
       "[15496 rows x 7 columns]"
      ]
     },
     "execution_count": 6,
     "metadata": {},
     "output_type": "execute_result"
    }
   ],
   "source": [
    "expression_data.p_matrix"
   ]
  },
  {
   "cell_type": "code",
   "execution_count": 7,
   "id": "8b18d02d",
   "metadata": {
    "execution": {
     "iopub.execute_input": "2024-10-24T15:41:11.998998Z",
     "iopub.status.busy": "2024-10-24T15:41:11.998817Z",
     "iopub.status.idle": "2024-10-24T15:41:12.007678Z",
     "shell.execute_reply": "2024-10-24T15:41:12.007434Z"
    },
    "papermill": {
     "duration": 0.01649,
     "end_time": "2024-10-24T15:41:12.008353",
     "exception": false,
     "start_time": "2024-10-24T15:41:11.991863",
     "status": "completed"
    },
    "tags": []
   },
   "outputs": [
    {
     "data": {
      "text/plain": [
       "TP1    0.745027\n",
       "TP2    0.745621\n",
       "TP3    0.745289\n",
       "TP4    0.744738\n",
       "TP5    0.744765\n",
       "TP6    0.744207\n",
       "TP7    0.744833\n",
       "dtype: float64"
      ]
     },
     "execution_count": 7,
     "metadata": {},
     "output_type": "execute_result"
    }
   ],
   "source": [
    "expression_data.tai"
   ]
  },
  {
   "cell_type": "markdown",
   "id": "43ff26e7",
   "metadata": {
    "papermill": {
     "duration": 0.003983,
     "end_time": "2024-10-24T15:41:12.019473",
     "exception": false,
     "start_time": "2024-10-24T15:41:12.015490",
     "status": "completed"
    },
    "tags": []
   },
   "source": [
    "### 1.1 Compute TAI value"
   ]
  },
  {
   "cell_type": "code",
   "execution_count": 8,
   "id": "d081d07a",
   "metadata": {
    "execution": {
     "iopub.execute_input": "2024-10-24T15:41:12.026802Z",
     "iopub.status.busy": "2024-10-24T15:41:12.026671Z",
     "iopub.status.idle": "2024-10-24T15:41:12.078221Z",
     "shell.execute_reply": "2024-10-24T15:41:12.078001Z"
    },
    "papermill": {
     "duration": 0.055896,
     "end_time": "2024-10-24T15:41:12.078895",
     "exception": false,
     "start_time": "2024-10-24T15:41:12.022999",
     "status": "completed"
    },
    "tags": []
   },
   "outputs": [
    {
     "data": {
      "image/png": "[encoded data removed]",
      "text/plain": [
       "<Figure size 640x480 with 1 Axes>"
      ]
     },
     "metadata": {},
     "output_type": "display_data"
    }
   ],
   "source": [
    "import matplotlib.pyplot as plt\n",
    "\n",
    "plt.plot(expression_data.tai)\n",
    "plt.show()"
   ]
  },
  {
   "cell_type": "markdown",
   "id": "ecc5bb72",
   "metadata": {
    "papermill": {
     "duration": 0.005844,
     "end_time": "2024-10-24T15:41:12.093758",
     "exception": false,
     "start_time": "2024-10-24T15:41:12.087914",
     "status": "completed"
    },
    "tags": []
   },
   "source": [
    "## 2. Flatline test"
   ]
  },
  {
   "cell_type": "markdown",
   "id": "32ed4523",
   "metadata": {
    "papermill": {
     "duration": 0.00644,
     "end_time": "2024-10-24T15:41:12.106452",
     "exception": false,
     "start_time": "2024-10-24T15:41:12.100012",
     "status": "completed"
    },
    "tags": []
   },
   "source": [
    "### 2.1. Compute variance of TAI curve"
   ]
  },
  {
   "cell_type": "code",
   "execution_count": 9,
   "id": "27df0c0d",
   "metadata": {
    "execution": {
     "iopub.execute_input": "2024-10-24T15:41:12.120603Z",
     "iopub.status.busy": "2024-10-24T15:41:12.120491Z",
     "iopub.status.idle": "2024-10-24T15:41:12.129355Z",
     "shell.execute_reply": "2024-10-24T15:41:12.129150Z"
    },
    "papermill": {
     "duration": 0.016367,
     "end_time": "2024-10-24T15:41:12.129956",
     "exception": false,
     "start_time": "2024-10-24T15:41:12.113589",
     "status": "completed"
    },
    "tags": []
   },
   "outputs": [
    {
     "data": {
      "text/plain": [
       "1.7327320619275862e-07"
      ]
     },
     "execution_count": 9,
     "metadata": {},
     "output_type": "execute_result"
    }
   ],
   "source": [
    "import numpy as np\n",
    "tai_var = np.var(expression_data.tai).item()\n",
    "tai_var"
   ]
  },
  {
   "cell_type": "markdown",
   "id": "1886df31",
   "metadata": {
    "papermill": {
     "duration": 0.00736,
     "end_time": "2024-10-24T15:41:12.145145",
     "exception": false,
     "start_time": "2024-10-24T15:41:12.137785",
     "status": "completed"
    },
    "tags": []
   },
   "source": [
    "### 2.2. Compute permutation variance distribution\n",
    "\n",
    "Permute the assigned gene ages between the genes to run the flat line test"
   ]
  },
  {
   "cell_type": "code",
   "execution_count": 10,
   "id": "2e700164",
   "metadata": {
    "execution": {
     "iopub.execute_input": "2024-10-24T15:41:12.158487Z",
     "iopub.status.busy": "2024-10-24T15:41:12.158379Z",
     "iopub.status.idle": "2024-10-24T15:41:15.533340Z",
     "shell.execute_reply": "2024-10-24T15:41:15.533094Z"
    },
    "papermill": {
     "duration": 3.382076,
     "end_time": "2024-10-24T15:41:15.534061",
     "exception": false,
     "start_time": "2024-10-24T15:41:12.151985",
     "status": "completed"
    },
    "tags": []
   },
   "outputs": [
    {
     "name": "stdout",
     "output_type": "stream",
     "text": [
      "Running permuations\n"
     ]
    },
    {
     "name": "stderr",
     "output_type": "stream",
     "text": [
      "\r",
      "  0%|                                                                                                                                                                                          | 0/10000 [00:00<?, ?it/s]"
     ]
    },
    {
     "name": "stderr",
     "output_type": "stream",
     "text": [
      "\r",
      "  3%|█████▊                                                                                                                                                                        | 331/10000 [00:00<00:02, 3304.28it/s]"
     ]
    },
    {
     "name": "stderr",
     "output_type": "stream",
     "text": [
      "\r",
      "  7%|███████████▌                                                                                                                                                                  | 662/10000 [00:00<00:02, 3272.62it/s]"
     ]
    },
    {
     "name": "stderr",
     "output_type": "stream",
     "text": [
      "\r",
      " 10%|█████████████████▏                                                                                                                                                            | 990/10000 [00:00<00:02, 3262.52it/s]"
     ]
    },
    {
     "name": "stderr",
     "output_type": "stream",
     "text": [
      "\r",
      " 13%|██████████████████████▊                                                                                                                                                      | 1317/10000 [00:00<00:02, 3262.69it/s]"
     ]
    },
    {
     "name": "stderr",
     "output_type": "stream",
     "text": [
      "\r",
      " 16%|████████████████████████████▍                                                                                                                                                | 1644/10000 [00:00<00:02, 2976.27it/s]"
     ]
    },
    {
     "name": "stderr",
     "output_type": "stream",
     "text": [
      "\r",
      " 20%|██████████████████████████████████                                                                                                                                           | 1971/10000 [00:00<00:02, 3067.19it/s]"
     ]
    },
    {
     "name": "stderr",
     "output_type": "stream",
     "text": [
      "\r",
      " 23%|███████████████████████████████████████▉                                                                                                                                     | 2310/10000 [00:00<00:02, 3167.64it/s]"
     ]
    },
    {
     "name": "stderr",
     "output_type": "stream",
     "text": [
      "\r",
      " 26%|█████████████████████████████████████████████▋                                                                                                                               | 2639/10000 [00:00<00:02, 3203.84it/s]"
     ]
    },
    {
     "name": "stderr",
     "output_type": "stream",
     "text": [
      "\r",
      " 30%|███████████████████████████████████████████████████▎                                                                                                                         | 2967/10000 [00:00<00:02, 3225.64it/s]"
     ]
    },
    {
     "name": "stderr",
     "output_type": "stream",
     "text": [
      "\r",
      " 33%|█████████████████████████████████████████████████████████▏                                                                                                                   | 3307/10000 [00:01<00:02, 3278.27it/s]"
     ]
    },
    {
     "name": "stderr",
     "output_type": "stream",
     "text": [
      "\r",
      " 36%|███████████████████████████████████████████████████████████████                                                                                                              | 3643/10000 [00:01<00:01, 3301.32it/s]"
     ]
    },
    {
     "name": "stderr",
     "output_type": "stream",
     "text": [
      "\r",
      " 40%|████████████████████████████████████████████████████████████████████▊                                                                                                        | 3979/10000 [00:01<00:01, 3317.62it/s]"
     ]
    },
    {
     "name": "stderr",
     "output_type": "stream",
     "text": [
      "\r",
      " 43%|██████████████████████████████████████████████████████████████████████████▌                                                                                                  | 4313/10000 [00:01<00:01, 3321.44it/s]"
     ]
    },
    {
     "name": "stderr",
     "output_type": "stream",
     "text": [
      "\r",
      " 46%|████████████████████████████████████████████████████████████████████████████████▍                                                                                            | 4646/10000 [00:01<00:01, 3298.27it/s]"
     ]
    },
    {
     "name": "stderr",
     "output_type": "stream",
     "text": [
      "\r",
      " 50%|██████████████████████████████████████████████████████████████████████████████████████▏                                                                                      | 4981/10000 [00:01<00:01, 3313.17it/s]"
     ]
    },
    {
     "name": "stderr",
     "output_type": "stream",
     "text": [
      "\r",
      " 53%|███████████████████████████████████████████████████████████████████████████████████████████▉                                                                                 | 5317/10000 [00:01<00:01, 3327.15it/s]"
     ]
    },
    {
     "name": "stderr",
     "output_type": "stream",
     "text": [
      "\r",
      " 56%|█████████████████████████████████████████████████████████████████████████████████████████████████▋                                                                           | 5650/10000 [00:01<00:01, 3308.84it/s]"
     ]
    },
    {
     "name": "stderr",
     "output_type": "stream",
     "text": [
      "\r",
      " 60%|███████████████████████████████████████████████████████████████████████████████████████████████████████▍                                                                     | 5982/10000 [00:01<00:01, 3309.54it/s]"
     ]
    },
    {
     "name": "stderr",
     "output_type": "stream",
     "text": [
      "\r",
      " 63%|█████████████████████████████████████████████████████████████████████████████████████████████████████████████▎                                                               | 6319/10000 [00:01<00:01, 3325.68it/s]"
     ]
    },
    {
     "name": "stderr",
     "output_type": "stream",
     "text": [
      "\r",
      " 67%|███████████████████████████████████████████████████████████████████████████████████████████████████████████████████                                                          | 6652/10000 [00:02<00:01, 3306.51it/s]"
     ]
    },
    {
     "name": "stderr",
     "output_type": "stream",
     "text": [
      "\r",
      " 70%|████████████████████████████████████████████████████████████████████████████████████████████████████████████████████████▉                                                    | 6989/10000 [00:02<00:00, 3323.53it/s]"
     ]
    },
    {
     "name": "stderr",
     "output_type": "stream",
     "text": [
      "\r",
      " 73%|██████████████████████████████████████████████████████████████████████████████████████████████████████████████████████████████▋                                              | 7322/10000 [00:02<00:00, 3303.52it/s]"
     ]
    },
    {
     "name": "stderr",
     "output_type": "stream",
     "text": [
      "\r",
      " 77%|████████████████████████████████████████████████████████████████████████████████████████████████████████████████████████████████████▍                                        | 7653/10000 [00:02<00:00, 2993.46it/s]"
     ]
    },
    {
     "name": "stderr",
     "output_type": "stream",
     "text": [
      "\r",
      " 80%|█████████████████████████████████████████████████████████████████████████████████████████████████████████████████████████████████████████▊                                   | 7969/10000 [00:02<00:00, 3037.26it/s]"
     ]
    },
    {
     "name": "stderr",
     "output_type": "stream",
     "text": [
      "\r",
      " 83%|███████████████████████████████████████████████████████████████████████████████████████████████████████████████████████████████████████████████▏                             | 8277/10000 [00:02<00:00, 2887.11it/s]"
     ]
    },
    {
     "name": "stderr",
     "output_type": "stream",
     "text": [
      "\r",
      " 86%|████████████████████████████████████████████████████████████████████████████████████████████████████████████████████████████████████████████████████▉                        | 8607/10000 [00:02<00:00, 3001.24it/s]"
     ]
    },
    {
     "name": "stderr",
     "output_type": "stream",
     "text": [
      "\r",
      " 89%|██████████████████████████████████████████████████████████████████████████████████████████████████████████████████████████████████████████████████████████▌                  | 8932/10000 [00:02<00:00, 3069.32it/s]"
     ]
    },
    {
     "name": "stderr",
     "output_type": "stream",
     "text": [
      "\r",
      " 93%|████████████████████████████████████████████████████████████████████████████████████████████████████████████████████████████████████████████████████████████████▏            | 9260/10000 [00:02<00:00, 3127.65it/s]"
     ]
    },
    {
     "name": "stderr",
     "output_type": "stream",
     "text": [
      "\r",
      " 96%|█████████████████████████████████████████████████████████████████████████████████████████████████████████████████████████████████████████████████████████████████████▉       | 9590/10000 [00:02<00:00, 3175.44it/s]"
     ]
    },
    {
     "name": "stderr",
     "output_type": "stream",
     "text": [
      "\r",
      " 99%|███████████████████████████████████████████████████████████████████████████████████████████████████████████████████████████████████████████████████████████████████████████▍ | 9910/10000 [00:03<00:00, 3166.35it/s]"
     ]
    },
    {
     "name": "stderr",
     "output_type": "stream",
     "text": [
      "\r",
      "100%|████████████████████████████████████████████████████████████████████████████████████████████████████████████████████████████████████████████████████████████████████████████| 10000/10000 [00:03<00:00, 3197.00it/s]"
     ]
    },
    {
     "name": "stderr",
     "output_type": "stream",
     "text": [
      "\n"
     ]
    }
   ],
   "source": [
    "from gatai.utils import comp_vars\n",
    "\n",
    "num_permutations = 10000\n",
    "permutation_comp_vars = comp_vars(expression_data, num_permutations)"
   ]
  },
  {
   "cell_type": "markdown",
   "id": "ac6b0e77",
   "metadata": {
    "papermill": {
     "duration": 0.008572,
     "end_time": "2024-10-24T15:41:15.554463",
     "exception": false,
     "start_time": "2024-10-24T15:41:15.545891",
     "status": "completed"
    },
    "tags": []
   },
   "source": [
    "### 2.3. Fit the random variances to a Gamma distribution and compute the p-value of the true TAI"
   ]
  },
  {
   "cell_type": "code",
   "execution_count": 11,
   "id": "7f1ee687",
   "metadata": {
    "execution": {
     "iopub.execute_input": "2024-10-24T15:41:15.573968Z",
     "iopub.status.busy": "2024-10-24T15:41:15.573804Z",
     "iopub.status.idle": "2024-10-24T15:41:15.583546Z",
     "shell.execute_reply": "2024-10-24T15:41:15.583267Z"
    },
    "papermill": {
     "duration": 0.019102,
     "end_time": "2024-10-24T15:41:15.584266",
     "exception": false,
     "start_time": "2024-10-24T15:41:15.565164",
     "status": "completed"
    },
    "tags": []
   },
   "outputs": [
    {
     "name": "stdout",
     "output_type": "stream",
     "text": [
      "Gamma fit params: 0.6271814827775907 1.074767757073636e-09 9.426814478126993e-09\n"
     ]
    }
   ],
   "source": [
    "from flatline import fit_gamma, p_value_function\n",
    "\n",
    "# NOTE: the default fitting method used by scipy doesn't achieve a very good fit, so use \"MM\"\n",
    "a, loc, scale = fit_gamma(permutation_comp_vars)\n",
    "get_p_value = p_value_function(a, loc, scale)\n",
    "print(\"Gamma fit params:\", a, loc, scale)"
   ]
  },
  {
   "cell_type": "code",
   "execution_count": 12,
   "id": "8b70d25d",
   "metadata": {
    "execution": {
     "iopub.execute_input": "2024-10-24T15:41:15.606213Z",
     "iopub.status.busy": "2024-10-24T15:41:15.606101Z",
     "iopub.status.idle": "2024-10-24T15:41:15.614738Z",
     "shell.execute_reply": "2024-10-24T15:41:15.614530Z"
    },
    "papermill": {
     "duration": 0.019031,
     "end_time": "2024-10-24T15:41:15.615308",
     "exception": false,
     "start_time": "2024-10-24T15:41:15.596277",
     "status": "completed"
    },
    "tags": []
   },
   "outputs": [
    {
     "name": "stdout",
     "output_type": "stream",
     "text": [
      "p-value of TAI: 2.708575585799181e-09\n"
     ]
    }
   ],
   "source": [
    "print(\"p-value of TAI:\", get_p_value(tai_var))"
   ]
  },
  {
   "cell_type": "markdown",
   "id": "0691aad4",
   "metadata": {
    "papermill": {
     "duration": 0.008293,
     "end_time": "2024-10-24T15:41:15.636648",
     "exception": false,
     "start_time": "2024-10-24T15:41:15.628355",
     "status": "completed"
    },
    "tags": []
   },
   "source": [
    "### 2.4. Visually compare the random TAI variances against the true one"
   ]
  },
  {
   "cell_type": "code",
   "execution_count": 13,
   "id": "ed4b90ae",
   "metadata": {
    "execution": {
     "iopub.execute_input": "2024-10-24T15:41:15.656159Z",
     "iopub.status.busy": "2024-10-24T15:41:15.656049Z",
     "iopub.status.idle": "2024-10-24T15:41:15.737722Z",
     "shell.execute_reply": "2024-10-24T15:41:15.737520Z"
    },
    "papermill": {
     "duration": 0.092687,
     "end_time": "2024-10-24T15:41:15.738379",
     "exception": false,
     "start_time": "2024-10-24T15:41:15.645692",
     "status": "completed"
    },
    "tags": []
   },
   "outputs": [
    {
     "data": {
      "image/png": "[encoded data removed]",
      "text/plain": [
       "<Figure size 640x480 with 1 Axes>"
      ]
     },
     "metadata": {},
     "output_type": "display_data"
    }
   ],
   "source": [
    "from scipy import stats\n",
    "plt.hist(permutation_comp_vars, density=True, bins=100, label=\"Random gene age TAI variance\")\n",
    "plt.axvline(x=tai_var, label=\"True TAI variance\", color=\"red\")\n",
    "\n",
    "x = np.linspace(0, tai_var, 200)\n",
    "y = stats.gamma.pdf(x, a, loc=loc, scale=scale)\n",
    "plt.plot(x, y, label=\"Fitted gamma distribution\", linestyle=\"dashed\")\n",
    "\n",
    "plt.legend()\n",
    "plt.show()"
   ]
  },
  {
   "cell_type": "markdown",
   "id": "a758f3cd",
   "metadata": {
    "papermill": {
     "duration": 0.010083,
     "end_time": "2024-10-24T15:41:15.762598",
     "exception": false,
     "start_time": "2024-10-24T15:41:15.752515",
     "status": "completed"
    },
    "tags": []
   },
   "source": [
    "## 3. Destroy TAI signal with GATAI"
   ]
  },
  {
   "cell_type": "markdown",
   "id": "eddc71b0",
   "metadata": {
    "papermill": {
     "duration": 0.010037,
     "end_time": "2024-10-24T15:41:15.782061",
     "exception": false,
     "start_time": "2024-10-24T15:41:15.772024",
     "status": "completed"
    },
    "tags": []
   },
   "source": [
    "### 3.1 Run genetic algorithm to extract genes that break the pattern\n",
    "Note that the transformation used for the expression data heavily influences the number of genes that get extracted, as well as the number of generations needed for convergence.\n",
    "\n",
    "Also, with transformations applied, older genes are better represented"
   ]
  },
  {
   "cell_type": "code",
   "execution_count": 14,
   "id": "9d335475",
   "metadata": {
    "execution": {
     "iopub.execute_input": "2024-10-24T15:41:15.801562Z",
     "iopub.status.busy": "2024-10-24T15:41:15.801366Z",
     "iopub.status.idle": "2024-10-24T15:48:01.432186Z",
     "shell.execute_reply": "2024-10-24T15:48:01.431958Z"
    },
    "papermill": {
     "duration": 405.641262,
     "end_time": "2024-10-24T15:48:01.432820",
     "exception": false,
     "start_time": "2024-10-24T15:41:15.791558",
     "status": "completed"
    },
    "tags": []
   },
   "outputs": [
    {
     "name": "stdout",
     "output_type": "stream",
     "text": [
      "gen\tisland\tNum removed\tVariance\n",
      "0  \t      \t5          \t1.97942 \n"
     ]
    },
    {
     "name": "stdout",
     "output_type": "stream",
     "text": [
      "10 \t1     \t363        \t1.67066 \n",
      "10 \t2     \t359        \t1.62537 \n",
      "10 \t3     \t299        \t1.67113 \n",
      "10 \t4     \t375        \t1.83191 \n",
      "\n",
      "\n"
     ]
    },
    {
     "name": "stdout",
     "output_type": "stream",
     "text": [
      "20 \t1     \t276        \t1.65882 \n",
      "20 \t2     \t289        \t1.56646 \n",
      "20 \t3     \t341        \t1.54112 \n",
      "20 \t4     \t421        \t1.59347 \n",
      "\n",
      "\n"
     ]
    },
    {
     "name": "stdout",
     "output_type": "stream",
     "text": [
      "30 \t1     \t391        \t1.46881 \n",
      "30 \t2     \t254        \t1.52571 \n",
      "30 \t3     \t411        \t1.50475 \n",
      "30 \t4     \t393        \t1.51012 \n",
      "\n",
      "\n"
     ]
    },
    {
     "name": "stdout",
     "output_type": "stream",
     "text": [
      "40 \t1     \t464        \t1.46717 \n",
      "40 \t2     \t334        \t1.43314 \n",
      "40 \t3     \t462        \t1.45463 \n",
      "40 \t4     \t470        \t1.46558 \n",
      "\n",
      "\n"
     ]
    },
    {
     "name": "stdout",
     "output_type": "stream",
     "text": [
      "50 \t1     \t524        \t1.43997 \n",
      "50 \t2     \t453        \t1.43134 \n",
      "50 \t3     \t322        \t1.42532 \n",
      "50 \t4     \t467        \t1.42303 \n",
      "\n",
      "\n"
     ]
    },
    {
     "name": "stdout",
     "output_type": "stream",
     "text": [
      "60 \t1     \t366        \t1.41766 \n",
      "60 \t2     \t459        \t1.38496 \n",
      "60 \t3     \t386        \t1.40585 \n",
      "60 \t4     \t380        \t1.41395 \n",
      "\n",
      "\n"
     ]
    },
    {
     "name": "stdout",
     "output_type": "stream",
     "text": [
      "70 \t1     \t447        \t1.36236 \n",
      "70 \t2     \t561        \t1.36354 \n",
      "70 \t3     \t504        \t1.37151 \n",
      "70 \t4     \t515        \t1.35999 \n",
      "\n",
      "\n"
     ]
    },
    {
     "name": "stdout",
     "output_type": "stream",
     "text": [
      "80 \t1     \t350        \t1.34645 \n",
      "80 \t2     \t514        \t1.35278 \n",
      "80 \t3     \t558        \t1.33826 \n",
      "80 \t4     \t756        \t1.3478  \n",
      "\n",
      "\n"
     ]
    },
    {
     "name": "stdout",
     "output_type": "stream",
     "text": [
      "90 \t1     \t401        \t1.31552 \n",
      "90 \t2     \t412        \t1.31753 \n",
      "90 \t3     \t327        \t1.33146 \n",
      "90 \t4     \t533        \t1.31302 \n",
      "\n",
      "\n"
     ]
    },
    {
     "name": "stdout",
     "output_type": "stream",
     "text": [
      "100\t1     \t509        \t1.29216 \n",
      "100\t2     \t441        \t1.3008  \n",
      "100\t3     \t395        \t1.31101 \n",
      "100\t4     \t690        \t1.29047 \n",
      "\n",
      "\n"
     ]
    },
    {
     "name": "stdout",
     "output_type": "stream",
     "text": [
      "110\t1     \t565        \t1.25901 \n",
      "110\t2     \t642        \t1.26851 \n",
      "110\t3     \t479        \t1.28738 \n",
      "110\t4     \t501        \t1.29268 \n",
      "\n",
      "\n"
     ]
    },
    {
     "name": "stdout",
     "output_type": "stream",
     "text": [
      "120\t1     \t617        \t1.2495  \n",
      "120\t2     \t740        \t1.24327 \n",
      "120\t3     \t837        \t1.25338 \n",
      "120\t4     \t1024       \t1.24601 \n",
      "\n",
      "\n"
     ]
    },
    {
     "name": "stdout",
     "output_type": "stream",
     "text": [
      "130\t1     \t938        \t1.23285 \n",
      "130\t2     \t680        \t1.2403  \n",
      "130\t3     \t842        \t1.23155 \n",
      "130\t4     \t992        \t1.22666 \n",
      "\n",
      "\n"
     ]
    },
    {
     "name": "stdout",
     "output_type": "stream",
     "text": [
      "140\t1     \t958        \t1.2233  \n",
      "140\t2     \t937        \t1.22078 \n",
      "140\t3     \t973        \t1.22576 \n",
      "140\t4     \t1128       \t1.21754 \n",
      "\n",
      "\n"
     ]
    },
    {
     "name": "stdout",
     "output_type": "stream",
     "text": [
      "150\t1     \t1145       \t1.20239 \n",
      "150\t2     \t766        \t1.2038  \n",
      "150\t3     \t702        \t1.21177 \n",
      "150\t4     \t1230       \t1.20414 \n",
      "\n",
      "\n"
     ]
    },
    {
     "name": "stdout",
     "output_type": "stream",
     "text": [
      "160\t1     \t765        \t1.18796 \n",
      "160\t2     \t772        \t1.19304 \n",
      "160\t3     \t902        \t1.19329 \n",
      "160\t4     \t1052       \t1.18021 \n",
      "\n",
      "\n"
     ]
    },
    {
     "name": "stdout",
     "output_type": "stream",
     "text": [
      "170\t1     \t869        \t1.18079 \n",
      "170\t2     \t811        \t1.17542 \n",
      "170\t3     \t838        \t1.18036 \n",
      "170\t4     \t923        \t1.17938 \n",
      "\n",
      "\n"
     ]
    },
    {
     "name": "stdout",
     "output_type": "stream",
     "text": [
      "180\t1     \t873        \t1.16231 \n",
      "180\t2     \t759        \t1.17643 \n",
      "180\t3     \t992        \t1.16203 \n",
      "180\t4     \t1060       \t1.16066 \n",
      "\n",
      "\n"
     ]
    },
    {
     "name": "stdout",
     "output_type": "stream",
     "text": [
      "190\t1     \t932        \t1.15681 \n",
      "190\t2     \t1044       \t1.15835 \n",
      "190\t3     \t831        \t1.15476 \n",
      "190\t4     \t992        \t1.15056 \n",
      "\n",
      "\n"
     ]
    },
    {
     "name": "stdout",
     "output_type": "stream",
     "text": [
      "200\t1     \t894        \t1.14974 \n",
      "200\t2     \t966        \t1.14938 \n",
      "200\t3     \t899        \t1.15401 \n",
      "200\t4     \t1141       \t1.1437  \n",
      "\n",
      "\n"
     ]
    },
    {
     "name": "stdout",
     "output_type": "stream",
     "text": [
      "210\t1     \t1145       \t1.14425 \n",
      "210\t2     \t1177       \t1.13881 \n",
      "210\t3     \t730        \t1.1442  \n",
      "210\t4     \t1145       \t1.13166 \n",
      "\n",
      "\n"
     ]
    },
    {
     "name": "stdout",
     "output_type": "stream",
     "text": [
      "220\t1     \t1189       \t1.13197 \n",
      "220\t2     \t1095       \t1.12266 \n",
      "220\t3     \t1160       \t1.13547 \n",
      "220\t4     \t1203       \t1.1334  \n",
      "\n",
      "\n"
     ]
    },
    {
     "name": "stdout",
     "output_type": "stream",
     "text": [
      "230\t1     \t1195       \t1.12374 \n",
      "230\t2     \t1123       \t1.12405 \n",
      "230\t3     \t1066       \t1.12013 \n",
      "230\t4     \t1074       \t1.12259 \n",
      "\n",
      "\n"
     ]
    },
    {
     "name": "stdout",
     "output_type": "stream",
     "text": [
      "240\t1     \t1192       \t1.10989 \n",
      "240\t2     \t1143       \t1.12121 \n",
      "240\t3     \t1160       \t1.11523 \n",
      "240\t4     \t1155       \t1.10881 \n",
      "\n",
      "\n"
     ]
    },
    {
     "name": "stdout",
     "output_type": "stream",
     "text": [
      "250\t1     \t1131       \t1.11402 \n",
      "250\t2     \t1214       \t1.10493 \n",
      "250\t3     \t1192       \t1.10989 \n",
      "250\t4     \t1163       \t1.10571 \n",
      "\n",
      "\n"
     ]
    },
    {
     "name": "stdout",
     "output_type": "stream",
     "text": [
      "260\t1     \t1036       \t1.1087  \n",
      "260\t2     \t1163       \t1.10571 \n",
      "260\t3     \t1210       \t1.09679 \n",
      "260\t4     \t1215       \t1.10142 \n",
      "\n",
      "\n"
     ]
    },
    {
     "name": "stdout",
     "output_type": "stream",
     "text": [
      "270\t1     \t1279       \t1.09368 \n",
      "270\t2     \t1157       \t1.09575 \n",
      "270\t3     \t1298       \t1.09473 \n",
      "270\t4     \t1413       \t1.08972 \n",
      "\n",
      "\n"
     ]
    },
    {
     "name": "stdout",
     "output_type": "stream",
     "text": [
      "280\t1     \t1386       \t1.08797 \n",
      "280\t2     \t1413       \t1.08972 \n",
      "280\t3     \t1409       \t1.08745 \n",
      "280\t4     \t1146       \t1.08389 \n",
      "\n",
      "\n"
     ]
    },
    {
     "name": "stdout",
     "output_type": "stream",
     "text": [
      "290\t1     \t1189       \t1.08092 \n",
      "290\t2     \t1146       \t1.08389 \n",
      "290\t3     \t1312       \t1.07334 \n",
      "290\t4     \t1302       \t1.07389 \n",
      "\n",
      "\n"
     ]
    },
    {
     "name": "stdout",
     "output_type": "stream",
     "text": [
      "300\t1     \t1278       \t1.07306 \n",
      "300\t2     \t1302       \t1.07389 \n",
      "300\t3     \t1243       \t1.07179 \n",
      "300\t4     \t1343       \t1.06811 \n",
      "\n",
      "\n"
     ]
    },
    {
     "name": "stdout",
     "output_type": "stream",
     "text": [
      "310\t1     \t1377       \t1.06491 \n",
      "310\t2     \t1398       \t1.06766 \n",
      "310\t3     \t1440       \t1.06102 \n",
      "310\t4     \t1356       \t1.06255 \n",
      "\n",
      "\n"
     ]
    },
    {
     "name": "stdout",
     "output_type": "stream",
     "text": [
      "320\t1     \t1507       \t1.05626 \n",
      "320\t2     \t1356       \t1.06255 \n",
      "320\t3     \t1318       \t1.0566  \n",
      "320\t4     \t1442       \t1.05611 \n",
      "\n",
      "\n"
     ]
    },
    {
     "name": "stdout",
     "output_type": "stream",
     "text": [
      "330\t1     \t1376       \t1.05195 \n",
      "330\t2     \t1437       \t1.05497 \n",
      "330\t3     \t1478       \t1.05571 \n",
      "330\t4     \t1401       \t1.05205 \n",
      "\n",
      "\n"
     ]
    },
    {
     "name": "stdout",
     "output_type": "stream",
     "text": [
      "340\t1     \t1263       \t1.05051 \n",
      "340\t2     \t1293       \t1.04986 \n",
      "340\t3     \t1376       \t1.05195 \n",
      "340\t4     \t1355       \t1.0463  \n",
      "\n",
      "\n"
     ]
    },
    {
     "name": "stdout",
     "output_type": "stream",
     "text": [
      "350\t1     \t1321       \t1.04547 \n",
      "350\t2     \t1355       \t1.0463  \n",
      "350\t3     \t1324       \t1.04742 \n",
      "350\t4     \t1280       \t1.04473 \n",
      "\n",
      "\n"
     ]
    },
    {
     "name": "stdout",
     "output_type": "stream",
     "text": [
      "360\t1     \t1501       \t1.03847 \n",
      "360\t2     \t1258       \t1.03649 \n",
      "360\t3     \t1349       \t1.04449 \n",
      "360\t4     \t1448       \t1.03959 \n",
      "\n",
      "\n"
     ]
    },
    {
     "name": "stdout",
     "output_type": "stream",
     "text": [
      "370\t1     \t1440       \t1.029   \n",
      "370\t2     \t1422       \t1.03816 \n",
      "370\t3     \t1408       \t1.02299 \n",
      "370\t4     \t1455       \t1.02673 \n",
      "\n",
      "\n"
     ]
    },
    {
     "name": "stdout",
     "output_type": "stream",
     "text": [
      "380\t1     \t1400       \t1.02175 \n",
      "380\t2     \t1508       \t1.02499 \n",
      "380\t3     \t1441       \t1.01558 \n",
      "380\t4     \t1357       \t1.01899 \n",
      "\n",
      "\n"
     ]
    },
    {
     "name": "stdout",
     "output_type": "stream",
     "text": [
      "390\t1     \t1484       \t1.00923 \n",
      "390\t2     \t1357       \t1.01899 \n",
      "390\t3     \t1447       \t1.00994 \n",
      "390\t4     \t1434       \t1.01311 \n",
      "\n",
      "\n"
     ]
    },
    {
     "name": "stdout",
     "output_type": "stream",
     "text": [
      "400\t1     \t1447       \t1.00994 \n",
      "400\t2     \t1472       \t1.00907 \n",
      "400\t3     \t1551       \t1.00541 \n",
      "400\t4     \t1623       \t0.994219\n",
      "\n",
      "\n"
     ]
    },
    {
     "name": "stdout",
     "output_type": "stream",
     "text": [
      "410\t1     \t1625       \t0.993447\n",
      "410\t2     \t1623       \t0.994219\n",
      "410\t3     \t1626       \t0.994346\n",
      "410\t4     \t1509       \t1.00136 \n",
      "\n",
      "\n"
     ]
    },
    {
     "name": "stdout",
     "output_type": "stream",
     "text": [
      "420\t1     \t1637       \t0.988429\n",
      "420\t2     \t1617       \t0.993214\n",
      "420\t3     \t1623       \t0.993006\n",
      "420\t4     \t1639       \t0.990715\n",
      "\n",
      "\n"
     ]
    },
    {
     "name": "stdout",
     "output_type": "stream",
     "text": [
      "430\t1     \t1675       \t0.986493\n",
      "430\t2     \t1577       \t0.990326\n",
      "430\t3     \t1653       \t0.986921\n",
      "430\t4     \t1741       \t0.986175\n",
      "\n",
      "\n"
     ]
    },
    {
     "name": "stdout",
     "output_type": "stream",
     "text": [
      "440\t1     \t1753       \t0.977451\n",
      "440\t2     \t1625       \t0.982962\n",
      "440\t3     \t1695       \t0.981823\n",
      "440\t4     \t1771       \t0.975514\n",
      "\n",
      "\n"
     ]
    },
    {
     "name": "stdout",
     "output_type": "stream",
     "text": [
      "450\t1     \t1777       \t0.973526\n",
      "450\t2     \t1869       \t0.965961\n",
      "450\t3     \t1802       \t0.967021\n",
      "450\t4     \t1769       \t0.975485\n",
      "\n",
      "\n"
     ]
    },
    {
     "name": "stdout",
     "output_type": "stream",
     "text": [
      "460\t1     \t1820       \t0.963498\n",
      "460\t2     \t1788       \t0.96506 \n",
      "460\t3     \t1838       \t0.957801\n",
      "460\t4     \t1861       \t0.956927\n",
      "\n",
      "\n"
     ]
    },
    {
     "name": "stdout",
     "output_type": "stream",
     "text": [
      "470\t1     \t1757       \t0.952084\n",
      "470\t2     \t1854       \t0.95362 \n",
      "470\t3     \t1943       \t0.955345\n",
      "470\t4     \t1846       \t0.956387\n",
      "\n",
      "\n"
     ]
    },
    {
     "name": "stdout",
     "output_type": "stream",
     "text": [
      "480\t1     \t1833       \t0.950605\n",
      "480\t2     \t1663       \t0.962437\n",
      "480\t3     \t1746       \t0.947237\n",
      "480\t4     \t1786       \t0.951049\n",
      "\n",
      "\n"
     ]
    },
    {
     "name": "stdout",
     "output_type": "stream",
     "text": [
      "490\t1     \t1758       \t0.947601\n",
      "490\t2     \t1787       \t0.947181\n",
      "490\t3     \t1874       \t0.943922\n",
      "490\t4     \t1699       \t0.942542\n",
      "\n",
      "\n"
     ]
    },
    {
     "name": "stdout",
     "output_type": "stream",
     "text": [
      "500\t1     \t1627       \t0.951462\n",
      "500\t2     \t1806       \t0.943834\n",
      "500\t3     \t1800       \t0.940322\n",
      "500\t4     \t1761       \t0.933925\n",
      "\n",
      "\n"
     ]
    },
    {
     "name": "stdout",
     "output_type": "stream",
     "text": [
      "510\t1     \t1748       \t0.929274\n",
      "510\t2     \t1747       \t0.932297\n",
      "510\t3     \t1799       \t0.935621\n",
      "510\t4     \t1806       \t0.929185\n",
      "\n",
      "\n"
     ]
    },
    {
     "name": "stdout",
     "output_type": "stream",
     "text": [
      "520\t1     \t1707       \t0.921002\n",
      "520\t2     \t1738       \t0.926224\n",
      "520\t3     \t1867       \t0.926835\n",
      "520\t4     \t1737       \t0.927305\n",
      "\n",
      "\n"
     ]
    },
    {
     "name": "stdout",
     "output_type": "stream",
     "text": [
      "530\t1     \t1930       \t0.92295 \n",
      "530\t2     \t1699       \t0.924703\n",
      "530\t3     \t1690       \t0.920785\n",
      "530\t4     \t2005       \t0.917996\n",
      "\n",
      "\n"
     ]
    },
    {
     "name": "stdout",
     "output_type": "stream",
     "text": [
      "540\t1     \t1737       \t0.915869\n",
      "540\t2     \t2049       \t0.911572\n",
      "540\t3     \t1707       \t0.922237\n",
      "540\t4     \t1779       \t0.907792\n",
      "\n",
      "\n"
     ]
    },
    {
     "name": "stdout",
     "output_type": "stream",
     "text": [
      "550\t1     \t1646       \t0.902787\n",
      "550\t2     \t1779       \t0.907792\n",
      "550\t3     \t1818       \t0.90944 \n",
      "550\t4     \t1590       \t0.915866\n",
      "\n",
      "\n"
     ]
    },
    {
     "name": "stdout",
     "output_type": "stream",
     "text": [
      "560\t1     \t1829       \t0.900528\n",
      "560\t2     \t1633       \t0.901742\n",
      "560\t3     \t1803       \t0.906978\n",
      "560\t4     \t1805       \t0.901373\n",
      "\n",
      "\n"
     ]
    },
    {
     "name": "stdout",
     "output_type": "stream",
     "text": [
      "570\t1     \t1882       \t0.891071\n",
      "570\t2     \t1577       \t0.899866\n",
      "570\t3     \t1653       \t0.897077\n",
      "570\t4     \t1814       \t0.895864\n",
      "\n",
      "\n"
     ]
    },
    {
     "name": "stdout",
     "output_type": "stream",
     "text": [
      "580\t1     \t1631       \t0.8945  \n",
      "580\t2     \t1831       \t0.887274\n",
      "580\t3     \t1664       \t0.889863\n",
      "580\t4     \t1646       \t0.896121\n",
      "\n",
      "\n"
     ]
    },
    {
     "name": "stdout",
     "output_type": "stream",
     "text": [
      "590\t1     \t1750       \t0.878497\n",
      "590\t2     \t1712       \t0.891187\n",
      "590\t3     \t1712       \t0.881244\n",
      "590\t4     \t1813       \t0.885227\n",
      "\n",
      "\n"
     ]
    },
    {
     "name": "stdout",
     "output_type": "stream",
     "text": [
      "600\t1     \t1862       \t0.878503\n",
      "600\t2     \t1730       \t0.880894\n",
      "600\t3     \t1732       \t0.876958\n",
      "600\t4     \t1773       \t0.873701\n",
      "\n",
      "\n"
     ]
    },
    {
     "name": "stdout",
     "output_type": "stream",
     "text": [
      "610\t1     \t1796       \t0.869975\n",
      "610\t2     \t1805       \t0.867092\n",
      "610\t3     \t1832       \t0.873945\n",
      "610\t4     \t1863       \t0.869832\n",
      "\n",
      "\n"
     ]
    },
    {
     "name": "stdout",
     "output_type": "stream",
     "text": [
      "620\t1     \t1785       \t0.867602\n",
      "620\t2     \t1863       \t0.869832\n",
      "620\t3     \t1808       \t0.850763\n",
      "620\t4     \t1665       \t0.870575\n",
      "\n",
      "\n"
     ]
    },
    {
     "name": "stdout",
     "output_type": "stream",
     "text": [
      "630\t1     \t1865       \t0.849625\n",
      "630\t2     \t1707       \t0.86976 \n",
      "630\t3     \t1897       \t0.849607\n",
      "630\t4     \t1860       \t0.850391\n",
      "\n",
      "\n"
     ]
    },
    {
     "name": "stdout",
     "output_type": "stream",
     "text": [
      "640\t1     \t1790       \t0.843901\n",
      "640\t2     \t1723       \t0.859984\n",
      "640\t3     \t1897       \t0.851495\n",
      "640\t4     \t1942       \t0.837604\n",
      "\n",
      "\n"
     ]
    },
    {
     "name": "stdout",
     "output_type": "stream",
     "text": [
      "650\t1     \t1910       \t0.830167\n",
      "650\t2     \t1925       \t0.834596\n",
      "650\t3     \t1908       \t0.846374\n",
      "650\t4     \t1828       \t0.835391\n",
      "\n",
      "\n"
     ]
    },
    {
     "name": "stdout",
     "output_type": "stream",
     "text": [
      "660\t1     \t1852       \t0.827919\n",
      "660\t2     \t1876       \t0.835737\n",
      "660\t3     \t1935       \t0.8254  \n",
      "660\t4     \t1881       \t0.830831\n",
      "\n",
      "\n"
     ]
    },
    {
     "name": "stdout",
     "output_type": "stream",
     "text": [
      "670\t1     \t1989       \t0.822261\n",
      "670\t2     \t1834       \t0.830395\n",
      "670\t3     \t1905       \t0.823661\n",
      "670\t4     \t2084       \t0.81857 \n",
      "\n",
      "\n"
     ]
    },
    {
     "name": "stdout",
     "output_type": "stream",
     "text": [
      "680\t1     \t2112       \t0.815365\n",
      "680\t2     \t2068       \t0.814565\n",
      "680\t3     \t1989       \t0.822261\n",
      "680\t4     \t1866       \t0.807122\n",
      "\n",
      "\n"
     ]
    },
    {
     "name": "stdout",
     "output_type": "stream",
     "text": [
      "690\t1     \t1844       \t0.804469\n",
      "690\t2     \t1919       \t0.806353\n",
      "690\t3     \t1917       \t0.805869\n",
      "690\t4     \t1868       \t0.801367\n",
      "\n",
      "\n"
     ]
    },
    {
     "name": "stdout",
     "output_type": "stream",
     "text": [
      "700\t1     \t1825       \t0.796356\n",
      "700\t2     \t1847       \t0.797049\n",
      "700\t3     \t1906       \t0.803412\n",
      "700\t4     \t1825       \t0.794297\n",
      "\n",
      "\n"
     ]
    },
    {
     "name": "stdout",
     "output_type": "stream",
     "text": [
      "710\t1     \t1784       \t0.80353 \n",
      "710\t2     \t1809       \t0.791975\n",
      "710\t3     \t1951       \t0.792104\n",
      "710\t4     \t1965       \t0.789384\n",
      "\n",
      "\n"
     ]
    },
    {
     "name": "stdout",
     "output_type": "stream",
     "text": [
      "720\t1     \t1937       \t0.789231\n",
      "720\t2     \t1908       \t0.785726\n",
      "720\t3     \t1901       \t0.778655\n",
      "720\t4     \t1778       \t0.782231\n",
      "\n",
      "\n"
     ]
    },
    {
     "name": "stdout",
     "output_type": "stream",
     "text": [
      "730\t1     \t1958       \t0.776586\n",
      "730\t2     \t1841       \t0.778672\n",
      "730\t3     \t1938       \t0.759301\n",
      "730\t4     \t2005       \t0.760338\n",
      "\n",
      "\n"
     ]
    },
    {
     "name": "stdout",
     "output_type": "stream",
     "text": [
      "740\t1     \t2050       \t0.752197\n",
      "740\t2     \t1757       \t0.781887\n",
      "740\t3     \t1958       \t0.776586\n",
      "740\t4     \t2026       \t0.750459\n",
      "\n",
      "\n"
     ]
    },
    {
     "name": "stdout",
     "output_type": "stream",
     "text": [
      "750\t1     \t2071       \t0.744007\n",
      "750\t2     \t2026       \t0.750459\n",
      "750\t3     \t2109       \t0.747529\n",
      "750\t4     \t1853       \t0.759652\n",
      "\n",
      "\n"
     ]
    },
    {
     "name": "stdout",
     "output_type": "stream",
     "text": [
      "760\t1     \t2109       \t0.747529\n",
      "760\t2     \t2042       \t0.740705\n",
      "760\t3     \t2148       \t0.734193\n",
      "760\t4     \t2002       \t0.746952\n",
      "\n",
      "\n"
     ]
    },
    {
     "name": "stdout",
     "output_type": "stream",
     "text": [
      "770\t1     \t2148       \t0.734193\n",
      "770\t2     \t1991       \t0.744519\n",
      "770\t3     \t2020       \t0.739979\n",
      "770\t4     \t2112       \t0.723384\n",
      "\n",
      "\n"
     ]
    },
    {
     "name": "stdout",
     "output_type": "stream",
     "text": [
      "780\t1     \t2198       \t0.70255 \n",
      "780\t2     \t2058       \t0.723952\n",
      "780\t3     \t2100       \t0.72349 \n",
      "780\t4     \t2159       \t0.716997\n",
      "\n",
      "\n"
     ]
    },
    {
     "name": "stdout",
     "output_type": "stream",
     "text": [
      "790\t1     \t2113       \t0.703569\n",
      "790\t2     \t2196       \t0.699227\n",
      "790\t3     \t2243       \t0.698556\n",
      "790\t4     \t1895       \t0.720113\n",
      "\n",
      "\n"
     ]
    },
    {
     "name": "stdout",
     "output_type": "stream",
     "text": [
      "800\t1     \t2367       \t0.68956 \n",
      "800\t2     \t2042       \t0.709655\n",
      "800\t3     \t2252       \t0.688462\n",
      "800\t4     \t2363       \t0.690934\n",
      "\n",
      "\n"
     ]
    },
    {
     "name": "stdout",
     "output_type": "stream",
     "text": [
      "810\t1     \t2313       \t0.679709\n",
      "810\t2     \t2343       \t0.688689\n",
      "810\t3     \t2088       \t0.690922\n",
      "810\t4     \t2208       \t0.681029\n",
      "\n",
      "\n"
     ]
    },
    {
     "name": "stdout",
     "output_type": "stream",
     "text": [
      "820\t1     \t2158       \t0.688789\n",
      "820\t2     \t2208       \t0.681029\n",
      "820\t3     \t2313       \t0.679709\n",
      "820\t4     \t2326       \t0.673043\n",
      "\n",
      "\n"
     ]
    },
    {
     "name": "stdout",
     "output_type": "stream",
     "text": [
      "830\t1     \t2371       \t0.668269\n",
      "830\t2     \t2326       \t0.673043\n",
      "830\t3     \t2282       \t0.676793\n",
      "830\t4     \t2342       \t0.667787\n",
      "\n",
      "\n"
     ]
    },
    {
     "name": "stdout",
     "output_type": "stream",
     "text": [
      "840\t1     \t2227       \t0.665503\n",
      "840\t2     \t2342       \t0.667787\n",
      "840\t3     \t2491       \t0.661094\n",
      "840\t4     \t2123       \t0.671309\n",
      "\n",
      "\n"
     ]
    },
    {
     "name": "stdout",
     "output_type": "stream",
     "text": [
      "850\t1     \t2176       \t0.65989 \n",
      "850\t2     \t2187       \t0.665965\n",
      "850\t3     \t2229       \t0.658296\n",
      "850\t4     \t2337       \t0.656684\n",
      "\n",
      "\n"
     ]
    },
    {
     "name": "stdout",
     "output_type": "stream",
     "text": [
      "860\t1     \t2087       \t0.662339\n",
      "860\t2     \t2133       \t0.661958\n",
      "860\t3     \t2155       \t0.657334\n",
      "860\t4     \t2236       \t0.639486\n",
      "\n",
      "\n"
     ]
    },
    {
     "name": "stdout",
     "output_type": "stream",
     "text": [
      "870\t1     \t2236       \t0.639486\n",
      "870\t2     \t2285       \t0.629035\n",
      "870\t3     \t2171       \t0.653797\n",
      "870\t4     \t2155       \t0.657334\n",
      "\n",
      "\n"
     ]
    },
    {
     "name": "stdout",
     "output_type": "stream",
     "text": [
      "880\t1     \t2213       \t0.635037\n",
      "880\t2     \t2291       \t0.638428\n",
      "880\t3     \t2321       \t0.60759 \n",
      "880\t4     \t2060       \t0.649884\n",
      "\n",
      "\n"
     ]
    },
    {
     "name": "stdout",
     "output_type": "stream",
     "text": [
      "890\t1     \t2317       \t0.607155\n",
      "890\t2     \t2104       \t0.630855\n",
      "890\t3     \t2438       \t0.597832\n",
      "890\t4     \t2277       \t0.598566\n",
      "\n",
      "\n"
     ]
    },
    {
     "name": "stdout",
     "output_type": "stream",
     "text": [
      "900\t1     \t2291       \t0.58316 \n",
      "900\t2     \t2252       \t0.644344\n",
      "900\t3     \t2156       \t0.599682\n",
      "900\t4     \t2280       \t0.595519\n",
      "\n",
      "\n"
     ]
    },
    {
     "name": "stdout",
     "output_type": "stream",
     "text": [
      "910\t1     \t2217       \t0.592621\n",
      "910\t2     \t2239       \t0.581906\n",
      "910\t3     \t2398       \t0.566985\n",
      "910\t4     \t2236       \t0.597292\n",
      "\n",
      "\n"
     ]
    },
    {
     "name": "stdout",
     "output_type": "stream",
     "text": [
      "920\t1     \t2402       \t0.557281\n",
      "920\t2     \t2198       \t0.589475\n",
      "920\t3     \t2339       \t0.573938\n",
      "920\t4     \t2341       \t0.559474\n",
      "\n",
      "\n"
     ]
    },
    {
     "name": "stdout",
     "output_type": "stream",
     "text": [
      "930\t1     \t2388       \t0.558835\n",
      "930\t2     \t2373       \t0.555655\n",
      "930\t3     \t2313       \t0.568933\n",
      "930\t4     \t2356       \t0.56955 \n",
      "\n",
      "\n"
     ]
    },
    {
     "name": "stdout",
     "output_type": "stream",
     "text": [
      "940\t1     \t2283       \t0.572965\n",
      "940\t2     \t2395       \t0.550956\n",
      "940\t3     \t2395       \t0.550956\n",
      "940\t4     \t2403       \t0.561293\n",
      "\n",
      "\n"
     ]
    },
    {
     "name": "stdout",
     "output_type": "stream",
     "text": [
      "950\t1     \t2395       \t0.550956\n",
      "950\t2     \t2317       \t0.550715\n",
      "950\t3     \t2387       \t0.549323\n",
      "950\t4     \t2416       \t0.542663\n",
      "\n",
      "\n"
     ]
    },
    {
     "name": "stdout",
     "output_type": "stream",
     "text": [
      "960\t1     \t2383       \t0.534615\n",
      "960\t2     \t2317       \t0.550715\n",
      "960\t3     \t2434       \t0.548779\n",
      "960\t4     \t2454       \t0.537575\n",
      "\n",
      "\n"
     ]
    },
    {
     "name": "stdout",
     "output_type": "stream",
     "text": [
      "970\t1     \t2381       \t0.533973\n",
      "970\t2     \t2432       \t0.526794\n",
      "970\t3     \t2345       \t0.543536\n",
      "970\t4     \t2424       \t0.541033\n",
      "\n",
      "\n"
     ]
    },
    {
     "name": "stdout",
     "output_type": "stream",
     "text": [
      "980\t1     \t2208       \t0.536633\n",
      "980\t2     \t2381       \t0.533973\n",
      "980\t3     \t2404       \t0.525513\n",
      "980\t4     \t2328       \t0.539632\n",
      "\n",
      "\n"
     ]
    },
    {
     "name": "stdout",
     "output_type": "stream",
     "text": [
      "990\t1     \t2347       \t0.517946\n",
      "990\t2     \t2220       \t0.526914\n",
      "990\t3     \t2399       \t0.526369\n",
      "990\t4     \t2407       \t0.529355\n",
      "\n",
      "\n"
     ]
    },
    {
     "name": "stdout",
     "output_type": "stream",
     "text": [
      "1000\t1     \t2445       \t0.517082\n",
      "1000\t2     \t2347       \t0.517946\n",
      "1000\t3     \t2282       \t0.519892\n",
      "1000\t4     \t2379       \t0.51806 \n",
      "\n",
      "\n"
     ]
    },
    {
     "name": "stdout",
     "output_type": "stream",
     "text": [
      "1010\t1     \t2404       \t0.510994\n",
      "1010\t2     \t2329       \t0.509388\n",
      "1010\t3     \t2314       \t0.506414\n",
      "1010\t4     \t2389       \t0.504943\n",
      "\n",
      "\n"
     ]
    },
    {
     "name": "stdout",
     "output_type": "stream",
     "text": [
      "1020\t1     \t2243       \t0.49877 \n",
      "1020\t2     \t2388       \t0.504938\n",
      "1020\t3     \t2308       \t0.501321\n",
      "1020\t4     \t2316       \t0.511322\n",
      "\n",
      "\n"
     ]
    },
    {
     "name": "stdout",
     "output_type": "stream",
     "text": [
      "1030\t1     \t2223       \t0.496851\n",
      "1030\t2     \t2235       \t0.49855 \n",
      "1030\t3     \t2301       \t0.475594\n",
      "1030\t4     \t2222       \t0.512176\n",
      "\n",
      "\n"
     ]
    },
    {
     "name": "stdout",
     "output_type": "stream",
     "text": [
      "1040\t1     \t2172       \t0.50394 \n",
      "1040\t2     \t2223       \t0.496851\n",
      "1040\t3     \t2329       \t0.471579\n",
      "1040\t4     \t2356       \t0.472011\n",
      "\n",
      "\n"
     ]
    },
    {
     "name": "stdout",
     "output_type": "stream",
     "text": [
      "1050\t1     \t2386       \t0.467236\n",
      "1050\t2     \t2227       \t0.49172 \n",
      "1050\t3     \t2430       \t0.469768\n",
      "1050\t4     \t2388       \t0.466599\n",
      "\n",
      "\n"
     ]
    },
    {
     "name": "stdout",
     "output_type": "stream",
     "text": [
      "1060\t1     \t2431       \t0.461207\n",
      "1060\t2     \t2388       \t0.463407\n",
      "1060\t3     \t2300       \t0.472113\n",
      "1060\t4     \t2388       \t0.466599\n",
      "\n",
      "\n"
     ]
    },
    {
     "name": "stdout",
     "output_type": "stream",
     "text": [
      "1070\t1     \t2431       \t0.461207\n",
      "1070\t2     \t2431       \t0.461207\n",
      "1070\t3     \t2466       \t0.451201\n",
      "1070\t4     \t2431       \t0.446965\n",
      "\n",
      "\n"
     ]
    },
    {
     "name": "stdout",
     "output_type": "stream",
     "text": [
      "1080\t1     \t2482       \t0.43113 \n",
      "1080\t2     \t2367       \t0.455259\n",
      "1080\t3     \t2448       \t0.447499\n",
      "1080\t4     \t2475       \t0.428994\n",
      "\n",
      "\n"
     ]
    },
    {
     "name": "stdout",
     "output_type": "stream",
     "text": [
      "1090\t1     \t2412       \t0.431555\n",
      "1090\t2     \t2475       \t0.428994\n",
      "1090\t3     \t2482       \t0.43113 \n",
      "1090\t4     \t2364       \t0.428154\n",
      "\n",
      "\n"
     ]
    },
    {
     "name": "stdout",
     "output_type": "stream",
     "text": [
      "1100\t1     \t2364       \t0.428154\n",
      "1100\t2     \t2363       \t0.427944\n",
      "1100\t3     \t2475       \t0.428994\n",
      "1100\t4     \t2582       \t0.412153\n",
      "\n",
      "\n"
     ]
    },
    {
     "name": "stdout",
     "output_type": "stream",
     "text": [
      "1110\t1     \t2484       \t0.423363\n",
      "1110\t2     \t2548       \t0.402885\n",
      "1110\t3     \t2422       \t0.418104\n",
      "1110\t4     \t2331       \t0.423478\n",
      "\n",
      "\n"
     ]
    },
    {
     "name": "stdout",
     "output_type": "stream",
     "text": [
      "1120\t1     \t2534       \t0.412576\n",
      "1120\t2     \t2525       \t0.39871 \n",
      "1120\t3     \t2390       \t0.419568\n",
      "1120\t4     \t2383       \t0.416211\n",
      "\n",
      "\n"
     ]
    },
    {
     "name": "stdout",
     "output_type": "stream",
     "text": [
      "1130\t1     \t2516       \t0.409929\n",
      "1130\t2     \t2487       \t0.400169\n",
      "1130\t3     \t2570       \t0.398699\n",
      "1130\t4     \t2324       \t0.422948\n",
      "\n",
      "\n"
     ]
    },
    {
     "name": "stdout",
     "output_type": "stream",
     "text": [
      "1140\t1     \t2633       \t0.395923\n",
      "1140\t2     \t2429       \t0.406248\n",
      "1140\t3     \t2593       \t0.388334\n",
      "1140\t4     \t2598       \t0.394123\n",
      "\n",
      "\n"
     ]
    },
    {
     "name": "stdout",
     "output_type": "stream",
     "text": [
      "1150\t1     \t2593       \t0.388334\n",
      "1150\t2     \t2598       \t0.394123\n",
      "1150\t3     \t2534       \t0.390125\n",
      "1150\t4     \t2558       \t0.392015\n",
      "\n",
      "\n"
     ]
    },
    {
     "name": "stdout",
     "output_type": "stream",
     "text": [
      "1160\t1     \t2559       \t0.383826\n",
      "1160\t2     \t2593       \t0.388334\n",
      "1160\t3     \t2448       \t0.379545\n",
      "1160\t4     \t2521       \t0.386142\n",
      "\n",
      "\n"
     ]
    },
    {
     "name": "stdout",
     "output_type": "stream",
     "text": [
      "1170\t1     \t2487       \t0.390228\n",
      "1170\t2     \t2502       \t0.383824\n",
      "1170\t3     \t2448       \t0.379545\n",
      "1170\t4     \t2500       \t0.353755\n",
      "\n",
      "\n"
     ]
    },
    {
     "name": "stdout",
     "output_type": "stream",
     "text": [
      "1180\t1     \t2411       \t0.358229\n",
      "1180\t2     \t2478       \t0.35344 \n",
      "1180\t3     \t2470       \t0.368304\n",
      "1180\t4     \t2429       \t0.372089\n",
      "\n",
      "\n"
     ]
    },
    {
     "name": "stdout",
     "output_type": "stream",
     "text": [
      "1190\t1     \t2520       \t0.36649 \n",
      "1190\t2     \t2375       \t0.353968\n",
      "1190\t3     \t2466       \t0.349272\n",
      "1190\t4     \t2478       \t0.35344 \n",
      "\n",
      "\n"
     ]
    },
    {
     "name": "stdout",
     "output_type": "stream",
     "text": [
      "1200\t1     \t2478       \t0.35344 \n",
      "1200\t2     \t2445       \t0.374394\n",
      "1200\t3     \t2453       \t0.347672\n",
      "1200\t4     \t2511       \t0.335287\n",
      "\n",
      "\n"
     ]
    },
    {
     "name": "stdout",
     "output_type": "stream",
     "text": [
      "1210\t1     \t2494       \t0.329067\n",
      "1210\t2     \t2511       \t0.335287\n",
      "1210\t3     \t2438       \t0.340937\n",
      "1210\t4     \t2537       \t0.331121\n",
      "\n",
      "\n"
     ]
    },
    {
     "name": "stdout",
     "output_type": "stream",
     "text": [
      "1220\t1     \t2500       \t0.334765\n",
      "1220\t2     \t2449       \t0.322958\n",
      "1220\t3     \t2498       \t0.321039\n",
      "1220\t4     \t2619       \t0.324402\n",
      "\n",
      "\n"
     ]
    },
    {
     "name": "stdout",
     "output_type": "stream",
     "text": [
      "1230\t1     \t2553       \t0.312864\n",
      "1230\t2     \t2580       \t0.316805\n",
      "1230\t3     \t2490       \t0.320098\n",
      "1230\t4     \t2472       \t0.321566\n",
      "\n",
      "\n"
     ]
    },
    {
     "name": "stdout",
     "output_type": "stream",
     "text": [
      "1240\t1     \t2466       \t0.320096\n",
      "1240\t2     \t2553       \t0.312864\n",
      "1240\t3     \t2397       \t0.326721\n",
      "1240\t4     \t2498       \t0.317659\n",
      "\n",
      "\n"
     ]
    },
    {
     "name": "stdout",
     "output_type": "stream",
     "text": [
      "1250\t1     \t2549       \t0.310351\n",
      "1250\t2     \t2367       \t0.311714\n",
      "1250\t3     \t2604       \t0.309098\n",
      "1250\t4     \t2498       \t0.317659\n",
      "\n",
      "\n"
     ]
    },
    {
     "name": "stdout",
     "output_type": "stream",
     "text": [
      "1260\t1     \t2604       \t0.309098\n",
      "1260\t2     \t2334       \t0.315661\n",
      "1260\t3     \t2414       \t0.309825\n",
      "1260\t4     \t2396       \t0.309099\n",
      "\n",
      "\n"
     ]
    },
    {
     "name": "stdout",
     "output_type": "stream",
     "text": [
      "1270\t1     \t2604       \t0.309098\n",
      "1270\t2     \t2604       \t0.309098\n",
      "1270\t3     \t2653       \t0.295656\n",
      "1270\t4     \t2448       \t0.295654\n",
      "\n",
      "\n"
     ]
    },
    {
     "name": "stdout",
     "output_type": "stream",
     "text": [
      "1280\t1     \t2701       \t0.284241\n",
      "1280\t2     \t2585       \t0.30586 \n",
      "1280\t3     \t2292       \t0.297563\n",
      "1280\t4     \t2396       \t0.292864\n",
      "\n",
      "\n"
     ]
    },
    {
     "name": "stdout",
     "output_type": "stream",
     "text": [
      "1290\t1     \t2668       \t0.285702\n",
      "1290\t2     \t2697       \t0.284349\n",
      "1290\t3     \t2701       \t0.284241\n",
      "1290\t4     \t2236       \t0.334441\n",
      "\n",
      "\n"
     ]
    },
    {
     "name": "stdout",
     "output_type": "stream",
     "text": [
      "1300\t1     \t2367       \t0.297236\n",
      "1300\t2     \t2668       \t0.285702\n",
      "1300\t3     \t2742       \t0.272095\n",
      "1300\t4     \t2729       \t0.271891\n",
      "\n",
      "\n"
     ]
    },
    {
     "name": "stdout",
     "output_type": "stream",
     "text": [
      "1310\t1     \t2692       \t0.267939\n",
      "1310\t2     \t2729       \t0.271891\n",
      "1310\t3     \t2789       \t0.270225\n",
      "1310\t4     \t2834       \t0.269285\n",
      "\n",
      "\n"
     ]
    },
    {
     "name": "stdout",
     "output_type": "stream",
     "text": [
      "1320\t1     \t2774       \t0.261722\n",
      "1320\t2     \t2834       \t0.269285\n",
      "1320\t3     \t2692       \t0.267939\n",
      "1320\t4     \t2789       \t0.270225\n",
      "\n",
      "\n"
     ]
    },
    {
     "name": "stdout",
     "output_type": "stream",
     "text": [
      "1330\t1     \t2742       \t0.249216\n",
      "1330\t2     \t2759       \t0.248999\n",
      "1330\t3     \t2840       \t0.265865\n",
      "1330\t4     \t2940       \t0.256298\n",
      "\n",
      "\n"
     ]
    },
    {
     "name": "stdout",
     "output_type": "stream",
     "text": [
      "1340\t1     \t2692       \t0.267939\n",
      "1340\t2     \t2742       \t0.249216\n",
      "1340\t3     \t2742       \t0.244502\n",
      "1340\t4     \t2933       \t0.25109 \n",
      "\n",
      "\n"
     ]
    },
    {
     "name": "stdout",
     "output_type": "stream",
     "text": [
      "1350\t1     \t2793       \t0.238486\n",
      "1350\t2     \t2643       \t0.25661 \n",
      "1350\t3     \t2675       \t0.251611\n",
      "1350\t4     \t2742       \t0.244502\n",
      "\n",
      "\n"
     ]
    },
    {
     "name": "stdout",
     "output_type": "stream",
     "text": [
      "1360\t1     \t2768       \t0.235438\n",
      "1360\t2     \t2793       \t0.238486\n",
      "1360\t3     \t2793       \t0.238486\n",
      "1360\t4     \t2764       \t0.229708\n",
      "\n",
      "\n"
     ]
    },
    {
     "name": "stdout",
     "output_type": "stream",
     "text": [
      "1370\t1     \t2740       \t0.242647\n",
      "1370\t2     \t2735       \t0.223278\n",
      "1370\t3     \t2762       \t0.223062\n",
      "1370\t4     \t2671       \t0.249749\n",
      "\n",
      "\n"
     ]
    },
    {
     "name": "stdout",
     "output_type": "stream",
     "text": [
      "1380\t1     \t2715       \t0.245565\n",
      "1380\t2     \t2641       \t0.239229\n",
      "1380\t3     \t2762       \t0.223062\n",
      "1380\t4     \t2792       \t0.222089\n",
      "\n",
      "\n"
     ]
    },
    {
     "name": "stdout",
     "output_type": "stream",
     "text": [
      "1390\t1     \t2762       \t0.223062\n",
      "1390\t2     \t2792       \t0.222089\n",
      "1390\t3     \t2788       \t0.215983\n",
      "1390\t4     \t2792       \t0.213155\n",
      "\n",
      "\n"
     ]
    },
    {
     "name": "stdout",
     "output_type": "stream",
     "text": [
      "1400\t1     \t2792       \t0.213155\n",
      "1400\t2     \t2792       \t0.213155\n",
      "1400\t3     \t2815       \t0.215678\n",
      "1400\t4     \t2851       \t0.214091\n",
      "\n",
      "\n"
     ]
    },
    {
     "name": "stdout",
     "output_type": "stream",
     "text": [
      "1410\t1     \t2792       \t0.213155\n",
      "1410\t2     \t2792       \t0.213155\n",
      "1410\t3     \t2811       \t-0      \n",
      "1410\t4     \t2790       \t-0      \n",
      "\n",
      "\n"
     ]
    },
    {
     "name": "stdout",
     "output_type": "stream",
     "text": [
      "1420\t1     \t2744       \t-0      \n",
      "1420\t2     \t2747       \t0.213987\n",
      "1420\t3     \t2811       \t-0      \n",
      "1420\t4     \t2777       \t-0      \n",
      "\n",
      "\n"
     ]
    },
    {
     "name": "stdout",
     "output_type": "stream",
     "text": [
      "1430\t1     \t2744       \t-0      \n",
      "1430\t2     \t2747       \t0.213987\n",
      "1430\t3     \t2808       \t-0      \n",
      "1430\t4     \t2765       \t-0      \n",
      "\n",
      "\n"
     ]
    },
    {
     "name": "stdout",
     "output_type": "stream",
     "text": [
      "1440\t1     \t2735       \t-0      \n",
      "1440\t2     \t2747       \t0.213987\n",
      "1440\t3     \t2742       \t-0      \n",
      "1440\t4     \t2772       \t-0      \n",
      "\n",
      "\n"
     ]
    },
    {
     "name": "stdout",
     "output_type": "stream",
     "text": [
      "1450\t1     \t2718       \t0.213155\n",
      "1450\t2     \t2690       \t-0      \n",
      "1450\t3     \t2742       \t-0      \n",
      "1450\t4     \t2751       \t-0      \n",
      "\n",
      "\n"
     ]
    },
    {
     "name": "stdout",
     "output_type": "stream",
     "text": [
      "1460\t1     \t2751       \t-0      \n",
      "1460\t2     \t2690       \t-0      \n",
      "1460\t3     \t2626       \t-0      \n",
      "1460\t4     \t2703       \t-0      \n",
      "\n",
      "\n"
     ]
    },
    {
     "name": "stdout",
     "output_type": "stream",
     "text": [
      "1470\t1     \t2703       \t-0      \n",
      "1470\t2     \t2751       \t-0      \n",
      "1470\t3     \t2670       \t-0      \n",
      "1470\t4     \t2582       \t-0      \n",
      "\n",
      "\n"
     ]
    },
    {
     "name": "stdout",
     "output_type": "stream",
     "text": [
      "1480\t1     \t2673       \t-0      \n",
      "1480\t2     \t2751       \t-0      \n",
      "1480\t3     \t2686       \t-0      \n",
      "1480\t4     \t2582       \t-0      \n",
      "\n",
      "\n"
     ]
    },
    {
     "name": "stdout",
     "output_type": "stream",
     "text": [
      "1490\t1     \t2554       \t-0      \n",
      "1490\t2     \t2673       \t-0      \n",
      "1490\t3     \t2639       \t-0      \n",
      "1490\t4     \t2529       \t-0      \n",
      "\n",
      "\n"
     ]
    },
    {
     "name": "stdout",
     "output_type": "stream",
     "text": [
      "1500\t1     \t2506       \t-0      \n",
      "1500\t2     \t2554       \t-0      \n",
      "1500\t3     \t2673       \t-0      \n",
      "1500\t4     \t2508       \t-0      \n",
      "\n",
      "\n"
     ]
    },
    {
     "name": "stdout",
     "output_type": "stream",
     "text": [
      "1510\t1     \t2506       \t-0      \n",
      "1510\t2     \t2494       \t-0      \n",
      "1510\t3     \t2488       \t-0      \n",
      "1510\t4     \t2664       \t-0      \n",
      "\n",
      "\n"
     ]
    },
    {
     "name": "stdout",
     "output_type": "stream",
     "text": [
      "1520\t1     \t2444       \t-0      \n",
      "1520\t2     \t2494       \t-0      \n",
      "1520\t3     \t2463       \t-0      \n",
      "1520\t4     \t2488       \t-0      \n",
      "\n",
      "\n"
     ]
    },
    {
     "name": "stdout",
     "output_type": "stream",
     "text": [
      "1530\t1     \t2264       \t0.287786\n",
      "1530\t2     \t2443       \t-0      \n",
      "1530\t3     \t2443       \t-0      \n",
      "1530\t4     \t2433       \t-0      \n",
      "\n",
      "\n"
     ]
    },
    {
     "name": "stdout",
     "output_type": "stream",
     "text": [
      "1540\t1     \t2407       \t-0      \n",
      "1540\t2     \t2414       \t-0      \n",
      "1540\t3     \t2415       \t-0      \n",
      "1540\t4     \t2436       \t-0      \n",
      "\n",
      "\n"
     ]
    },
    {
     "name": "stdout",
     "output_type": "stream",
     "text": [
      "1550\t1     \t2373       \t-0      \n",
      "1550\t2     \t2324       \t-0      \n",
      "1550\t3     \t2401       \t-0      \n",
      "1550\t4     \t2390       \t-0      \n",
      "\n",
      "\n"
     ]
    },
    {
     "name": "stdout",
     "output_type": "stream",
     "text": [
      "1560\t1     \t2339       \t-0      \n",
      "1560\t2     \t2233       \t0.233849\n",
      "1560\t3     \t2324       \t-0      \n",
      "1560\t4     \t2355       \t-0      \n",
      "\n",
      "\n"
     ]
    },
    {
     "name": "stdout",
     "output_type": "stream",
     "text": [
      "1570\t1     \t2310       \t-0      \n",
      "1570\t2     \t2230       \t0.232821\n",
      "1570\t3     \t2290       \t-0      \n",
      "1570\t4     \t2263       \t-0      \n",
      "\n",
      "\n"
     ]
    },
    {
     "name": "stdout",
     "output_type": "stream",
     "text": [
      "1580\t1     \t2241       \t-0      \n",
      "1580\t2     \t2310       \t-0      \n",
      "1580\t3     \t2327       \t-0      \n",
      "1580\t4     \t2261       \t-0      \n",
      "\n",
      "\n"
     ]
    },
    {
     "name": "stdout",
     "output_type": "stream",
     "text": [
      "1590\t1     \t2233       \t-0      \n",
      "1590\t2     \t2241       \t-0      \n",
      "1590\t3     \t2302       \t-0      \n",
      "1590\t4     \t2308       \t-0      \n",
      "\n",
      "\n"
     ]
    },
    {
     "name": "stdout",
     "output_type": "stream",
     "text": [
      "1600\t1     \t2085       \t-0      \n",
      "1600\t2     \t2198       \t-0      \n",
      "1600\t3     \t2134       \t0.220225\n",
      "1600\t4     \t2302       \t-0      \n",
      "\n",
      "\n"
     ]
    },
    {
     "name": "stdout",
     "output_type": "stream",
     "text": [
      "1610\t1     \t2290       \t-0      \n",
      "1610\t2     \t2077       \t-0      \n",
      "1610\t3     \t2178       \t-0      \n",
      "1610\t4     \t2285       \t-0      \n",
      "\n",
      "\n"
     ]
    },
    {
     "name": "stdout",
     "output_type": "stream",
     "text": [
      "1620\t1     \t2274       \t-0      \n",
      "1620\t2     \t2007       \t0.215246\n",
      "1620\t3     \t2077       \t-0      \n",
      "1620\t4     \t2147       \t-0      \n",
      "\n",
      "\n"
     ]
    },
    {
     "name": "stdout",
     "output_type": "stream",
     "text": [
      "1630\t1     \t2146       \t-0      \n",
      "1630\t2     \t1999       \t0.227839\n",
      "1630\t3     \t2077       \t-0      \n",
      "1630\t4     \t2060       \t-0      \n",
      "\n",
      "\n"
     ]
    },
    {
     "name": "stdout",
     "output_type": "stream",
     "text": [
      "1640\t1     \t2060       \t-0      \n",
      "1640\t2     \t2146       \t-0      \n",
      "1640\t3     \t2052       \t-0      \n",
      "1640\t4     \t2008       \t0.220346\n",
      "\n",
      "\n"
     ]
    },
    {
     "name": "stdout",
     "output_type": "stream",
     "text": [
      "1650\t1     \t2047       \t-0      \n",
      "1650\t2     \t2112       \t-0      \n",
      "1650\t3     \t2027       \t0.210772\n",
      "1650\t4     \t2020       \t-0      \n",
      "\n",
      "\n"
     ]
    },
    {
     "name": "stdout",
     "output_type": "stream",
     "text": [
      "1660\t1     \t2006       \t-0      \n",
      "1660\t2     \t2107       \t0.217018\n",
      "1660\t3     \t2112       \t-0      \n",
      "1660\t4     \t2020       \t-0      \n",
      "\n",
      "\n"
     ]
    },
    {
     "name": "stdout",
     "output_type": "stream",
     "text": [
      "1670\t1     \t2020       \t-0      \n",
      "1670\t2     \t1986       \t-0      \n",
      "1670\t3     \t2096       \t-0      \n",
      "1670\t4     \t2014       \t-0      \n",
      "\n",
      "\n"
     ]
    },
    {
     "name": "stdout",
     "output_type": "stream",
     "text": [
      "1680\t1     \t2014       \t-0      \n",
      "1680\t2     \t2020       \t-0      \n",
      "1680\t3     \t1986       \t-0      \n",
      "1680\t4     \t2066       \t-0      \n",
      "\n",
      "\n"
     ]
    },
    {
     "name": "stdout",
     "output_type": "stream",
     "text": [
      "1690\t1     \t1939       \t0.236704\n",
      "1690\t2     \t2004       \t-0      \n",
      "1690\t3     \t1844       \t-0      \n",
      "1690\t4     \t1956       \t-0      \n",
      "\n",
      "\n"
     ]
    },
    {
     "name": "stdout",
     "output_type": "stream",
     "text": [
      "1700\t1     \t1956       \t-0      \n",
      "1700\t2     \t1983       \t0.210662\n",
      "1700\t3     \t2004       \t-0      \n",
      "1700\t4     \t1844       \t-0      \n",
      "\n",
      "\n"
     ]
    },
    {
     "name": "stdout",
     "output_type": "stream",
     "text": [
      "1710\t1     \t1956       \t-0      \n",
      "1710\t2     \t1958       \t-0      \n",
      "1710\t3     \t1974       \t-0      \n",
      "1710\t4     \t1843       \t-0      \n",
      "\n",
      "\n"
     ]
    },
    {
     "name": "stdout",
     "output_type": "stream",
     "text": [
      "1720\t1     \t1843       \t-0      \n",
      "1720\t2     \t1953       \t-0      \n",
      "1720\t3     \t1974       \t-0      \n",
      "1720\t4     \t1835       \t-0      \n",
      "\n",
      "\n"
     ]
    },
    {
     "name": "stdout",
     "output_type": "stream",
     "text": [
      "1730\t1     \t1813       \t-0      \n",
      "1730\t2     \t1843       \t-0      \n",
      "1730\t3     \t1906       \t-0      \n",
      "1730\t4     \t1954       \t-0      \n",
      "\n",
      "\n"
     ]
    },
    {
     "name": "stdout",
     "output_type": "stream",
     "text": [
      "1740\t1     \t1811       \t-0      \n",
      "1740\t2     \t1813       \t-0      \n",
      "1740\t3     \t1906       \t-0      \n",
      "1740\t4     \t1836       \t-0      \n",
      "\n",
      "\n"
     ]
    },
    {
     "name": "stdout",
     "output_type": "stream",
     "text": [
      "1750\t1     \t1810       \t-0      \n",
      "1750\t2     \t1806       \t-0      \n",
      "1750\t3     \t1813       \t-0      \n",
      "1750\t4     \t1836       \t-0      \n",
      "\n",
      "\n"
     ]
    },
    {
     "name": "stdout",
     "output_type": "stream",
     "text": [
      "1760\t1     \t1681       \t0.231892\n",
      "1760\t2     \t1793       \t-0      \n",
      "1760\t3     \t1806       \t-0      \n",
      "1760\t4     \t1813       \t-0      \n",
      "\n",
      "\n"
     ]
    },
    {
     "name": "stdout",
     "output_type": "stream",
     "text": [
      "1770\t1     \t1813       \t-0      \n",
      "1770\t2     \t1778       \t0.217949\n",
      "1770\t3     \t1793       \t-0      \n",
      "1770\t4     \t1799       \t-0      \n",
      "\n",
      "\n"
     ]
    },
    {
     "name": "stdout",
     "output_type": "stream",
     "text": [
      "1780\t1     \t1796       \t-0      \n",
      "1780\t2     \t1803       \t-0      \n",
      "1780\t3     \t1765       \t-0      \n",
      "1780\t4     \t1793       \t-0      \n",
      "\n",
      "\n"
     ]
    },
    {
     "name": "stdout",
     "output_type": "stream",
     "text": [
      "1790\t1     \t1793       \t-0      \n",
      "1790\t2     \t1765       \t-0      \n",
      "1790\t3     \t1747       \t-0      \n",
      "1790\t4     \t1782       \t-0      \n",
      "\n",
      "\n"
     ]
    },
    {
     "name": "stdout",
     "output_type": "stream",
     "text": [
      "1800\t1     \t1739       \t-0      \n",
      "1800\t2     \t1789       \t-0      \n",
      "1800\t3     \t1747       \t-0      \n",
      "1800\t4     \t1745       \t-0      \n",
      "\n",
      "\n"
     ]
    },
    {
     "name": "stdout",
     "output_type": "stream",
     "text": [
      "1810\t1     \t1745       \t-0      \n",
      "1810\t2     \t1734       \t-0      \n",
      "1810\t3     \t1747       \t-0      \n",
      "1810\t4     \t1713       \t-0      \n",
      "\n",
      "\n"
     ]
    },
    {
     "name": "stdout",
     "output_type": "stream",
     "text": [
      "1820\t1     \t1712       \t-0      \n",
      "1820\t2     \t1729       \t-0      \n",
      "1820\t3     \t1743       \t0.235427\n",
      "1820\t4     \t1744       \t-0      \n",
      "\n",
      "\n"
     ]
    },
    {
     "name": "stdout",
     "output_type": "stream",
     "text": [
      "1830\t1     \t1744       \t-0      \n",
      "1830\t2     \t1712       \t-0      \n",
      "1830\t3     \t1729       \t-0      \n",
      "1830\t4     \t1788       \t0.214934\n",
      "\n",
      "\n"
     ]
    },
    {
     "name": "stdout",
     "output_type": "stream",
     "text": [
      "1840\t1     \t1738       \t-0      \n",
      "1840\t2     \t1707       \t0.211795\n",
      "1840\t3     \t1699       \t-0      \n",
      "1840\t4     \t1788       \t0.214934\n",
      "\n",
      "\n"
     ]
    },
    {
     "name": "stdout",
     "output_type": "stream",
     "text": [
      "1850\t1     \t1687       \t0.21244 \n",
      "1850\t2     \t1738       \t-0      \n",
      "1850\t3     \t1699       \t-0      \n",
      "1850\t4     \t1713       \t0.218791\n",
      "\n",
      "\n"
     ]
    },
    {
     "name": "stdout",
     "output_type": "stream",
     "text": [
      "1860\t1     \t1669       \t0.214091\n",
      "1860\t2     \t1676       \t0.210976\n",
      "1860\t3     \t1675       \t-0      \n",
      "1860\t4     \t1651       \t0.22785 \n",
      "\n",
      "\n"
     ]
    },
    {
     "name": "stdout",
     "output_type": "stream",
     "text": [
      "1870\t1     \t1669       \t0.214091\n",
      "1870\t2     \t1676       \t0.210976\n",
      "1870\t3     \t1669       \t-0      \n",
      "1870\t4     \t1675       \t-0      \n",
      "\n",
      "\n"
     ]
    },
    {
     "name": "stdout",
     "output_type": "stream",
     "text": [
      "1880\t1     \t1648       \t0.216602\n",
      "1880\t2     \t1670       \t0.210974\n",
      "1880\t3     \t1676       \t0.210976\n",
      "1880\t4     \t1669       \t-0      \n",
      "\n",
      "\n"
     ]
    },
    {
     "name": "stdout",
     "output_type": "stream",
     "text": [
      "1890\t1     \t1658       \t-0      \n",
      "1890\t2     \t1666       \t0.212328\n",
      "1890\t3     \t1670       \t0.210974\n",
      "1890\t4     \t1669       \t-0      \n",
      "\n",
      "\n"
     ]
    },
    {
     "name": "stdout",
     "output_type": "stream",
     "text": [
      "1900\t1     \t1658       \t-0      \n",
      "1900\t2     \t1655       \t-0      \n",
      "1900\t3     \t1665       \t-0      \n",
      "1900\t4     \t1669       \t-0      \n",
      "\n",
      "\n"
     ]
    },
    {
     "name": "stdout",
     "output_type": "stream",
     "text": [
      "1910\t1     \t1646       \t-0      \n",
      "1910\t2     \t1658       \t-0      \n",
      "1910\t3     \t1651       \t-0      \n",
      "1910\t4     \t1654       \t-0      \n",
      "\n",
      "\n"
     ]
    },
    {
     "name": "stdout",
     "output_type": "stream",
     "text": [
      "1920\t1     \t1643       \t-0      \n",
      "1920\t2     \t1646       \t-0      \n",
      "1920\t3     \t1632       \t0.216809\n",
      "1920\t4     \t1651       \t-0      \n",
      "\n",
      "\n"
     ]
    },
    {
     "name": "stdout",
     "output_type": "stream",
     "text": [
      "1930\t1     \t1616       \t-0      \n",
      "1930\t2     \t1637       \t-0      \n",
      "1930\t3     \t1646       \t-0      \n",
      "1930\t4     \t1618       \t0.215562\n",
      "\n",
      "\n"
     ]
    },
    {
     "name": "stdout",
     "output_type": "stream",
     "text": [
      "1940\t1     \t1594       \t0.216604\n",
      "1940\t2     \t1608       \t-0      \n",
      "1940\t3     \t1633       \t-0      \n",
      "1940\t4     \t1609       \t-0      \n",
      "\n",
      "\n"
     ]
    },
    {
     "name": "stdout",
     "output_type": "stream",
     "text": [
      "1950\t1     \t1609       \t-0      \n",
      "1950\t2     \t1606       \t-0      \n",
      "1950\t3     \t1617       \t-0      \n",
      "1950\t4     \t1607       \t0.223064\n",
      "\n",
      "\n"
     ]
    },
    {
     "name": "stdout",
     "output_type": "stream",
     "text": [
      "1960\t1     \t1566       \t0.21619 \n",
      "1960\t2     \t1609       \t-0      \n",
      "1960\t3     \t1606       \t-0      \n",
      "1960\t4     \t1617       \t-0      \n",
      "\n",
      "\n"
     ]
    },
    {
     "name": "stdout",
     "output_type": "stream",
     "text": [
      "1970\t1     \t1593       \t-0      \n",
      "1970\t2     \t1565       \t0.215558\n",
      "1970\t3     \t1609       \t-0      \n",
      "1970\t4     \t1606       \t-0      \n",
      "\n",
      "\n"
     ]
    },
    {
     "name": "stdout",
     "output_type": "stream",
     "text": [
      "1980\t1     \t1606       \t-0      \n",
      "1980\t2     \t1585       \t-0      \n",
      "1980\t3     \t1587       \t-0      \n",
      "1980\t4     \t1600       \t-0      \n",
      "\n",
      "\n"
     ]
    },
    {
     "name": "stdout",
     "output_type": "stream",
     "text": [
      "1990\t1     \t1586       \t-0      \n",
      "1990\t2     \t1606       \t-0      \n",
      "1990\t3     \t1585       \t-0      \n",
      "1990\t4     \t1578       \t-0      \n",
      "\n",
      "\n"
     ]
    },
    {
     "name": "stdout",
     "output_type": "stream",
     "text": [
      "2000\t1     \t1573       \t-0      \n",
      "2000\t2     \t1586       \t-0      \n",
      "2000\t3     \t1606       \t-0      \n",
      "2000\t4     \t1585       \t-0      \n",
      "\n",
      "\n"
     ]
    },
    {
     "name": "stdout",
     "output_type": "stream",
     "text": [
      "2010\t1     \t1573       \t-0      \n",
      "2010\t2     \t1573       \t-0      \n",
      "2010\t3     \t1586       \t-0      \n",
      "2010\t4     \t1585       \t-0      \n",
      "\n",
      "\n"
     ]
    },
    {
     "name": "stdout",
     "output_type": "stream",
     "text": [
      "2020\t1     \t1564       \t-0      \n",
      "2020\t2     \t1569       \t-0      \n",
      "2020\t3     \t1573       \t-0      \n",
      "2020\t4     \t1563       \t-0      \n",
      "\n",
      "\n"
     ]
    },
    {
     "name": "stdout",
     "output_type": "stream",
     "text": [
      "2030\t1     \t1540       \t-0      \n",
      "2030\t2     \t1569       \t-0      \n",
      "2030\t3     \t1554       \t-0      \n",
      "2030\t4     \t1573       \t-0      \n",
      "\n",
      "\n"
     ]
    },
    {
     "name": "stdout",
     "output_type": "stream",
     "text": [
      "2040\t1     \t1573       \t-0      \n",
      "2040\t2     \t1524       \t-0      \n",
      "2040\t3     \t1569       \t-0      \n",
      "2040\t4     \t1532       \t-0      \n",
      "\n",
      "\n"
     ]
    },
    {
     "name": "stdout",
     "output_type": "stream",
     "text": [
      "2050\t1     \t1532       \t-0      \n",
      "2050\t2     \t1524       \t-0      \n",
      "2050\t3     \t1524       \t-0      \n",
      "2050\t4     \t1531       \t-0      \n",
      "\n",
      "\n"
     ]
    },
    {
     "name": "stdout",
     "output_type": "stream",
     "text": [
      "2060\t1     \t1515       \t-0      \n",
      "2060\t2     \t1520       \t-0      \n",
      "2060\t3     \t1514       \t-0      \n",
      "2060\t4     \t1519       \t0.224833\n",
      "\n",
      "\n"
     ]
    },
    {
     "name": "stdout",
     "output_type": "stream",
     "text": [
      "2070\t1     \t1516       \t0.213258\n",
      "2070\t2     \t1508       \t-0      \n",
      "2070\t3     \t1520       \t-0      \n",
      "2070\t4     \t1514       \t-0      \n",
      "\n",
      "\n"
     ]
    },
    {
     "name": "stdout",
     "output_type": "stream",
     "text": [
      "2080\t1     \t1487       \t-0      \n",
      "2080\t2     \t1500       \t-0      \n",
      "2080\t3     \t1520       \t-0      \n",
      "2080\t4     \t1503       \t-0      \n",
      "\n",
      "\n"
     ]
    },
    {
     "name": "stdout",
     "output_type": "stream",
     "text": [
      "2090\t1     \t1473       \t-0      \n",
      "2090\t2     \t1487       \t-0      \n",
      "2090\t3     \t1505       \t-0      \n",
      "2090\t4     \t1499       \t-0      \n",
      "\n",
      "\n"
     ]
    },
    {
     "name": "stdout",
     "output_type": "stream",
     "text": [
      "2100\t1     \t1499       \t-0      \n",
      "2100\t2     \t1473       \t-0      \n",
      "2100\t3     \t1487       \t-0      \n",
      "2100\t4     \t1539       \t0.218063\n",
      "\n",
      "\n"
     ]
    },
    {
     "name": "stdout",
     "output_type": "stream",
     "text": [
      "2110\t1     \t1472       \t0.218058\n",
      "2110\t2     \t1470       \t-0      \n",
      "2110\t3     \t1473       \t-0      \n",
      "2110\t4     \t1669       \t0.212328\n",
      "\n",
      "\n"
     ]
    },
    {
     "name": "stdout",
     "output_type": "stream",
     "text": [
      "2120\t1     \t1669       \t0.212328\n",
      "2120\t2     \t1453       \t0.226811\n",
      "2120\t3     \t1461       \t-0      \n",
      "2120\t4     \t1473       \t-0      \n",
      "\n",
      "\n"
     ]
    },
    {
     "name": "stdout",
     "output_type": "stream",
     "text": [
      "2130\t1     \t1473       \t-0      \n",
      "2130\t2     \t1669       \t0.212328\n",
      "2130\t3     \t1529       \t-0      \n",
      "2130\t4     \t1461       \t-0      \n",
      "\n",
      "\n"
     ]
    },
    {
     "name": "stdout",
     "output_type": "stream",
     "text": [
      "2140\t1     \t1471       \t-0      \n",
      "2140\t2     \t1473       \t-0      \n",
      "2140\t3     \t1523       \t-0      \n",
      "2140\t4     \t1454       \t-0      \n",
      "\n",
      "\n"
     ]
    },
    {
     "name": "stdout",
     "output_type": "stream",
     "text": [
      "2150\t1     \t1471       \t-0      \n",
      "2150\t2     \t1471       \t-0      \n",
      "2150\t3     \t1522       \t-0      \n",
      "2150\t4     \t1453       \t-0      \n",
      "\n",
      "\n"
     ]
    },
    {
     "name": "stdout",
     "output_type": "stream",
     "text": [
      "2160\t1     \t1453       \t-0      \n",
      "2160\t2     \t1471       \t-0      \n",
      "2160\t3     \t1462       \t-0      \n",
      "2160\t4     \t1442       \t-0      \n",
      "\n",
      "\n"
     ]
    },
    {
     "name": "stdout",
     "output_type": "stream",
     "text": [
      "2170\t1     \t1442       \t-0      \n",
      "2170\t2     \t1442       \t-0      \n",
      "2170\t3     \t1462       \t-0      \n",
      "2170\t4     \t1437       \t-0      \n",
      "\n",
      "\n"
     ]
    },
    {
     "name": "stdout",
     "output_type": "stream",
     "text": [
      "2180\t1     \t1437       \t-0      \n",
      "2180\t2     \t1442       \t-0      \n",
      "2180\t3     \t1440       \t-0      \n",
      "2180\t4     \t1424       \t-0      \n",
      "\n",
      "\n"
     ]
    },
    {
     "name": "stdout",
     "output_type": "stream",
     "text": [
      "2190\t1     \t1431       \t-0      \n",
      "2190\t2     \t1433       \t-0      \n",
      "2190\t3     \t1406       \t-0      \n",
      "2190\t4     \t1407       \t-0      \n",
      "\n",
      "\n"
     ]
    },
    {
     "name": "stdout",
     "output_type": "stream",
     "text": [
      "2200\t1     \t1404       \t-0      \n",
      "2200\t2     \t1417       \t-0      \n",
      "2200\t3     \t1433       \t-0      \n",
      "2200\t4     \t1406       \t-0      \n",
      "\n",
      "\n"
     ]
    },
    {
     "name": "stdout",
     "output_type": "stream",
     "text": [
      "2210\t1     \t1343       \t0.236715\n",
      "2210\t2     \t1403       \t-0      \n",
      "2210\t3     \t1433       \t-0      \n",
      "2210\t4     \t1390       \t-0      \n",
      "\n",
      "\n"
     ]
    },
    {
     "name": "stdout",
     "output_type": "stream",
     "text": [
      "2220\t1     \t1390       \t-0      \n",
      "2220\t2     \t1403       \t-0      \n",
      "2220\t3     \t1403       \t-0      \n",
      "2220\t4     \t1440       \t0.218166\n",
      "\n",
      "\n"
     ]
    },
    {
     "name": "stdout",
     "output_type": "stream",
     "text": [
      "2230\t1     \t1390       \t-0      \n",
      "2230\t2     \t1389       \t0.214513\n",
      "2230\t3     \t1402       \t-0      \n",
      "2230\t4     \t1402       \t-0      \n",
      "\n",
      "\n"
     ]
    },
    {
     "name": "stdout",
     "output_type": "stream",
     "text": [
      "2240\t1     \t1375       \t-0      \n",
      "2240\t2     \t1390       \t-0      \n",
      "2240\t3     \t1389       \t0.214513\n",
      "2240\t4     \t1402       \t-0      \n",
      "\n",
      "\n"
     ]
    },
    {
     "name": "stdout",
     "output_type": "stream",
     "text": [
      "2250\t1     \t1427       \t0.213371\n",
      "2250\t2     \t1375       \t-0      \n",
      "2250\t3     \t1390       \t-0      \n",
      "2250\t4     \t1391       \t-0      \n",
      "\n",
      "\n"
     ]
    },
    {
     "name": "stdout",
     "output_type": "stream",
     "text": [
      "2260\t1     \t1360       \t0.216605\n",
      "2260\t2     \t1362       \t-0      \n",
      "2260\t3     \t1296       \t0.233953\n",
      "2260\t4     \t1389       \t-0      \n",
      "\n",
      "\n"
     ]
    },
    {
     "name": "stdout",
     "output_type": "stream",
     "text": [
      "2270\t1     \t1389       \t-0      \n",
      "2270\t2     \t1337       \t-0      \n",
      "2270\t3     \t1365       \t0.222406\n",
      "2270\t4     \t1388       \t0.21169 \n",
      "\n",
      "\n"
     ]
    },
    {
     "name": "stdout",
     "output_type": "stream",
     "text": [
      "2280\t1     \t1374       \t-0      \n",
      "2280\t2     \t1337       \t-0      \n",
      "2280\t3     \t1337       \t-0      \n",
      "2280\t4     \t1361       \t0.222403\n",
      "\n",
      "\n"
     ]
    },
    {
     "name": "stdout",
     "output_type": "stream",
     "text": [
      "2290\t1     \t1301       \t0.220235\n",
      "2290\t2     \t1337       \t-0      \n",
      "2290\t3     \t1337       \t-0      \n",
      "2290\t4     \t1337       \t-0      \n",
      "\n",
      "\n"
     ]
    },
    {
     "name": "stdout",
     "output_type": "stream",
     "text": [
      "2300\t1     \t1337       \t-0      \n",
      "2300\t2     \t1328       \t-0      \n",
      "2300\t3     \t1334       \t-0      \n",
      "2300\t4     \t1337       \t-0      \n",
      "\n",
      "\n"
     ]
    },
    {
     "name": "stdout",
     "output_type": "stream",
     "text": [
      "2310\t1     \t1316       \t-0      \n",
      "2310\t2     \t1337       \t-0      \n",
      "2310\t3     \t1328       \t-0      \n",
      "2310\t4     \t1334       \t-0      \n",
      "\n",
      "\n"
     ]
    },
    {
     "name": "stdout",
     "output_type": "stream",
     "text": [
      "2320\t1     \t1312       \t-0      \n",
      "2320\t2     \t1332       \t-0      \n",
      "2320\t3     \t1308       \t0.215781\n",
      "2320\t4     \t1328       \t-0      \n",
      "\n",
      "\n"
     ]
    },
    {
     "name": "stdout",
     "output_type": "stream",
     "text": [
      "2330\t1     \t1328       \t-0      \n",
      "2330\t2     \t1312       \t-0      \n",
      "2330\t3     \t1308       \t0.215781\n",
      "2330\t4     \t1317       \t-0      \n",
      "\n",
      "\n"
     ]
    },
    {
     "name": "stdout",
     "output_type": "stream",
     "text": [
      "2340\t1     \t1310       \t-0      \n",
      "2340\t2     \t1312       \t-0      \n",
      "2340\t3     \t1312       \t-0      \n",
      "2340\t4     \t1293       \t-0      \n",
      "\n",
      "\n"
     ]
    },
    {
     "name": "stdout",
     "output_type": "stream",
     "text": [
      "2350\t1     \t1293       \t-0      \n",
      "2350\t2     \t1310       \t-0      \n",
      "2350\t3     \t1306       \t-0      \n",
      "2350\t4     \t1292       \t0.217016\n",
      "\n",
      "\n"
     ]
    },
    {
     "name": "stdout",
     "output_type": "stream",
     "text": [
      "2360\t1     \t1292       \t0.217016\n",
      "2360\t2     \t1282       \t-0      \n",
      "2360\t3     \t1294       \t-0      \n",
      "2360\t4     \t1306       \t-0      \n",
      "\n",
      "\n"
     ]
    },
    {
     "name": "stdout",
     "output_type": "stream",
     "text": [
      "2370\t1     \t1306       \t-0      \n",
      "2370\t2     \t1260       \t0.226605\n",
      "2370\t3     \t1282       \t-0      \n",
      "2370\t4     \t1294       \t-0      \n",
      "\n",
      "\n"
     ]
    },
    {
     "name": "stdout",
     "output_type": "stream",
     "text": [
      "2380\t1     \t1294       \t-0      \n",
      "2380\t2     \t1306       \t-0      \n",
      "2380\t3     \t1281       \t-0      \n",
      "2380\t4     \t1270       \t-0      \n",
      "\n",
      "\n"
     ]
    },
    {
     "name": "stdout",
     "output_type": "stream",
     "text": [
      "2390\t1     \t1263       \t-0      \n",
      "2390\t2     \t1280       \t-0      \n",
      "2390\t3     \t1306       \t-0      \n",
      "2390\t4     \t1281       \t-0      \n",
      "\n",
      "\n"
     ]
    },
    {
     "name": "stdout",
     "output_type": "stream",
     "text": [
      "2400\t1     \t1281       \t-0      \n",
      "2400\t2     \t1248       \t-0      \n",
      "2400\t3     \t1280       \t-0      \n",
      "2400\t4     \t1261       \t-0      \n",
      "\n",
      "\n"
     ]
    },
    {
     "name": "stdout",
     "output_type": "stream",
     "text": [
      "2410\t1     \t1261       \t-0      \n",
      "2410\t2     \t1278       \t-0      \n",
      "2410\t3     \t1248       \t-0      \n",
      "2410\t4     \t1250       \t-0      \n",
      "\n",
      "\n"
     ]
    },
    {
     "name": "stdout",
     "output_type": "stream",
     "text": [
      "2420\t1     \t1250       \t-0      \n",
      "2420\t2     \t1261       \t-0      \n",
      "2420\t3     \t1239       \t-0      \n",
      "2420\t4     \t1305       \t0.220221\n",
      "\n",
      "\n"
     ]
    },
    {
     "name": "stdout",
     "output_type": "stream",
     "text": [
      "2430\t1     \t1250       \t-0      \n",
      "2430\t2     \t1250       \t-0      \n",
      "2430\t3     \t1239       \t-0      \n",
      "2430\t4     \t1305       \t0.220221\n",
      "\n",
      "\n"
     ]
    },
    {
     "name": "stdout",
     "output_type": "stream",
     "text": [
      "2440\t1     \t1250       \t-0      \n",
      "2440\t2     \t1248       \t-0      \n",
      "2440\t3     \t1238       \t-0      \n",
      "2440\t4     \t1239       \t-0      \n",
      "\n",
      "\n"
     ]
    },
    {
     "name": "stdout",
     "output_type": "stream",
     "text": [
      "2450\t1     \t1237       \t-0      \n",
      "2450\t2     \t1245       \t-0      \n",
      "2450\t3     \t1247       \t-0      \n",
      "2450\t4     \t1238       \t-0      \n",
      "\n",
      "\n"
     ]
    },
    {
     "name": "stdout",
     "output_type": "stream",
     "text": [
      "2460\t1     \t1232       \t-0      \n",
      "2460\t2     \t1237       \t-0      \n",
      "2460\t3     \t1245       \t-0      \n",
      "2460\t4     \t1217       \t-0      \n",
      "\n",
      "\n"
     ]
    },
    {
     "name": "stdout",
     "output_type": "stream",
     "text": [
      "2470\t1     \t1217       \t-0      \n",
      "2470\t2     \t1214       \t-0      \n",
      "2470\t3     \t1245       \t-0      \n",
      "2470\t4     \t1245       \t-0      \n",
      "\n",
      "\n"
     ]
    },
    {
     "name": "stdout",
     "output_type": "stream",
     "text": [
      "2480\t1     \t1208       \t-0      \n",
      "2480\t2     \t1193       \t0.240472\n",
      "2480\t3     \t1214       \t-0      \n",
      "2480\t4     \t1231       \t-0      \n",
      "\n",
      "\n"
     ]
    },
    {
     "name": "stdout",
     "output_type": "stream",
     "text": [
      "2490\t1     \t1196       \t-0      \n",
      "2490\t2     \t1151       \t0.240788\n",
      "2490\t3     \t1202       \t-0      \n",
      "2490\t4     \t1231       \t-0      \n",
      "\n",
      "\n"
     ]
    },
    {
     "name": "stdout",
     "output_type": "stream",
     "text": [
      "2500\t1     \t1225       \t-0      \n",
      "2500\t2     \t1196       \t-0      \n",
      "2500\t3     \t1252       \t-0      \n",
      "2500\t4     \t1199       \t-0      \n",
      "\n",
      "\n"
     ]
    },
    {
     "name": "stdout",
     "output_type": "stream",
     "text": [
      "2510\t1     \t1185       \t-0      \n",
      "2510\t2     \t1190       \t-0      \n",
      "2510\t3     \t1243       \t-0      \n",
      "2510\t4     \t1199       \t-0      \n",
      "\n",
      "\n"
     ]
    },
    {
     "name": "stdout",
     "output_type": "stream",
     "text": [
      "2520\t1     \t1183       \t-0      \n",
      "2520\t2     \t1185       \t-0      \n",
      "2520\t3     \t1190       \t-0      \n",
      "2520\t4     \t1167       \t0.218791\n",
      "\n",
      "\n"
     ]
    },
    {
     "name": "stdout",
     "output_type": "stream",
     "text": [
      "2530\t1     \t1167       \t0.218791\n",
      "2530\t2     \t1174       \t-0      \n",
      "2530\t3     \t1185       \t-0      \n",
      "2530\t4     \t1161       \t0.228465\n",
      "\n",
      "\n"
     ]
    },
    {
     "name": "stdout",
     "output_type": "stream",
     "text": [
      "2540\t1     \t1161       \t0.228465\n",
      "2540\t2     \t1174       \t-0      \n",
      "2540\t3     \t1170       \t-0      \n",
      "2540\t4     \t1185       \t-0      \n",
      "\n",
      "\n"
     ]
    },
    {
     "name": "stdout",
     "output_type": "stream",
     "text": [
      "2550\t1     \t1185       \t-0      \n",
      "2550\t2     \t1173       \t-0      \n",
      "2550\t3     \t1216       \t-0      \n",
      "2550\t4     \t1170       \t-0      \n",
      "\n",
      "\n"
     ]
    },
    {
     "name": "stdout",
     "output_type": "stream",
     "text": [
      "2560\t1     \t1170       \t-0      \n",
      "2560\t2     \t1184       \t-0      \n",
      "2560\t3     \t1173       \t-0      \n",
      "2560\t4     \t1199       \t0.214826\n",
      "\n",
      "\n"
     ]
    },
    {
     "name": "stdout",
     "output_type": "stream",
     "text": [
      "2570\t1     \t1161       \t-0      \n",
      "2570\t2     \t1159       \t-0      \n",
      "2570\t3     \t1165       \t-0      \n",
      "2570\t4     \t1169       \t-0      \n",
      "\n",
      "\n"
     ]
    },
    {
     "name": "stdout",
     "output_type": "stream",
     "text": [
      "2580\t1     \t1169       \t-0      \n",
      "2580\t2     \t1155       \t-0      \n",
      "2580\t3     \t1159       \t-0      \n",
      "2580\t4     \t1165       \t-0      \n",
      "\n",
      "\n"
     ]
    },
    {
     "name": "stdout",
     "output_type": "stream",
     "text": [
      "2590\t1     \t1163       \t0.211797\n",
      "2590\t2     \t1169       \t-0      \n",
      "2590\t3     \t1155       \t-0      \n",
      "2590\t4     \t1159       \t-0      \n",
      "\n",
      "\n"
     ]
    },
    {
     "name": "stdout",
     "output_type": "stream",
     "text": [
      "2600\t1     \t1149       \t0.21202 \n",
      "2600\t2     \t1166       \t-0      \n",
      "2600\t3     \t1161       \t-0      \n",
      "2600\t4     \t1154       \t-0      \n",
      "\n",
      "\n"
     ]
    },
    {
     "name": "stdout",
     "output_type": "stream",
     "text": [
      "2610\t1     \t1149       \t0.21202 \n",
      "2610\t2     \t1216       \t-0      \n",
      "2610\t3     \t1156       \t-0      \n",
      "2610\t4     \t1148       \t-0      \n",
      "\n",
      "\n"
     ]
    },
    {
     "name": "stdout",
     "output_type": "stream",
     "text": [
      "2620\t1     \t1148       \t-0      \n",
      "2620\t2     \t1216       \t-0      \n",
      "2620\t3     \t1213       \t-0      \n",
      "2620\t4     \t1156       \t-0      \n",
      "\n",
      "\n"
     ]
    },
    {
     "name": "stdout",
     "output_type": "stream",
     "text": [
      "2630\t1     \t1132       \t-0      \n",
      "2630\t2     \t1216       \t-0      \n",
      "2630\t3     \t1213       \t-0      \n",
      "2630\t4     \t1156       \t-0      \n",
      "\n",
      "\n"
     ]
    },
    {
     "name": "stdout",
     "output_type": "stream",
     "text": [
      "2640\t1     \t1111       \t-0      \n",
      "2640\t2     \t1216       \t-0      \n",
      "2640\t3     \t1213       \t-0      \n",
      "2640\t4     \t1146       \t-0      \n",
      "\n",
      "\n"
     ]
    },
    {
     "name": "stdout",
     "output_type": "stream",
     "text": [
      "2650\t1     \t1146       \t-0      \n",
      "2650\t2     \t1108       \t-0      \n",
      "2650\t3     \t1210       \t-0      \n",
      "2650\t4     \t1213       \t-0      \n",
      "\n",
      "\n"
     ]
    },
    {
     "name": "stdout",
     "output_type": "stream",
     "text": [
      "2660\t1     \t1213       \t-0      \n",
      "2660\t2     \t1146       \t-0      \n",
      "2660\t3     \t1107       \t-0      \n",
      "2660\t4     \t1202       \t-0      \n",
      "\n",
      "\n"
     ]
    },
    {
     "name": "stdout",
     "output_type": "stream",
     "text": [
      "2670\t1     \t1200       \t-0      \n",
      "2670\t2     \t1088       \t0.214823\n",
      "2670\t3     \t1138       \t-0      \n",
      "2670\t4     \t1107       \t-0      \n",
      "\n",
      "\n"
     ]
    },
    {
     "name": "stdout",
     "output_type": "stream",
     "text": [
      "2680\t1     \t1182       \t0.213681\n",
      "2680\t2     \t1200       \t-0      \n",
      "2680\t3     \t1131       \t-0      \n",
      "2680\t4     \t1105       \t-0      \n",
      "\n",
      "\n"
     ]
    },
    {
     "name": "stdout",
     "output_type": "stream",
     "text": [
      "2690\t1     \t1102       \t-0      \n",
      "2690\t2     \t1191       \t-0      \n",
      "2690\t3     \t1131       \t-0      \n",
      "2690\t4     \t1162       \t-0      \n",
      "\n",
      "\n"
     ]
    },
    {
     "name": "stdout",
     "output_type": "stream",
     "text": [
      "2700\t1     \t1098       \t-0      \n",
      "2700\t2     \t1191       \t-0      \n",
      "2700\t3     \t1130       \t-0      \n",
      "2700\t4     \t1152       \t-0      \n",
      "\n",
      "\n"
     ]
    },
    {
     "name": "stdout",
     "output_type": "stream",
     "text": [
      "2710\t1     \t1098       \t-0      \n",
      "2710\t2     \t1182       \t-0      \n",
      "2710\t3     \t1115       \t0.219709\n",
      "2710\t4     \t1121       \t-0      \n",
      "\n",
      "\n"
     ]
    },
    {
     "name": "stdout",
     "output_type": "stream",
     "text": [
      "2720\t1     \t1097       \t-0      \n",
      "2720\t2     \t1098       \t-0      \n",
      "2720\t3     \t1176       \t-0      \n",
      "2720\t4     \t1181       \t0.210559\n",
      "\n",
      "\n"
     ]
    },
    {
     "name": "stdout",
     "output_type": "stream",
     "text": [
      "2730\t1     \t1097       \t-0      \n",
      "2730\t2     \t1097       \t-0      \n",
      "2730\t3     \t1092       \t-0      \n",
      "2730\t4     \t1166       \t-0      \n",
      "\n",
      "\n"
     ]
    },
    {
     "name": "stdout",
     "output_type": "stream",
     "text": [
      "2740\t1     \t1097       \t-0      \n",
      "2740\t2     \t1071       \t0.224412\n",
      "2740\t3     \t1097       \t-0      \n",
      "2740\t4     \t1092       \t-0      \n",
      "\n",
      "\n"
     ]
    },
    {
     "name": "stdout",
     "output_type": "stream",
     "text": [
      "2750\t1     \t1092       \t-0      \n",
      "2750\t2     \t1097       \t-0      \n",
      "2750\t3     \t1077       \t0.213367\n",
      "2750\t4     \t1092       \t-0      \n",
      "\n",
      "\n"
     ]
    },
    {
     "name": "stdout",
     "output_type": "stream",
     "text": [
      "2760\t1     \t1092       \t-0      \n",
      "2760\t2     \t1092       \t-0      \n",
      "2760\t3     \t1097       \t-0      \n",
      "2760\t4     \t1092       \t-0      \n",
      "\n",
      "\n"
     ]
    },
    {
     "name": "stdout",
     "output_type": "stream",
     "text": [
      "2770\t1     \t1084       \t-0      \n",
      "2770\t2     \t1078       \t-0      \n",
      "2770\t3     \t1088       \t-0      \n",
      "2770\t4     \t1097       \t-0      \n",
      "\n",
      "\n"
     ]
    },
    {
     "name": "stdout",
     "output_type": "stream",
     "text": [
      "2780\t1     \t1070       \t-0      \n",
      "2780\t2     \t1084       \t-0      \n",
      "2780\t3     \t1075       \t-0      \n",
      "2780\t4     \t1088       \t-0      \n",
      "\n",
      "\n"
     ]
    },
    {
     "name": "stdout",
     "output_type": "stream",
     "text": [
      "2790\t1     \t1070       \t-0      \n",
      "2790\t2     \t1064       \t-0      \n",
      "2790\t3     \t1075       \t-0      \n",
      "2790\t4     \t1070       \t-0      \n",
      "\n",
      "\n"
     ]
    },
    {
     "name": "stdout",
     "output_type": "stream",
     "text": [
      "2800\t1     \t1057       \t-0      \n",
      "2800\t2     \t1064       \t-0      \n",
      "2800\t3     \t1056       \t-0      \n",
      "2800\t4     \t1075       \t-0      \n",
      "\n",
      "\n"
     ]
    },
    {
     "name": "stdout",
     "output_type": "stream",
     "text": [
      "2810\t1     \t1057       \t-0      \n",
      "2810\t2     \t1064       \t-0      \n",
      "2810\t3     \t1059       \t-0      \n",
      "2810\t4     \t1056       \t-0      \n",
      "\n",
      "\n"
     ]
    },
    {
     "name": "stdout",
     "output_type": "stream",
     "text": [
      "2820\t1     \t1056       \t-0      \n",
      "2820\t2     \t1051       \t-0      \n",
      "2820\t3     \t1059       \t-0      \n",
      "2820\t4     \t1055       \t-0      \n",
      "\n",
      "\n"
     ]
    },
    {
     "name": "stdout",
     "output_type": "stream",
     "text": [
      "2830\t1     \t1056       \t-0      \n",
      "2830\t2     \t1049       \t-0      \n",
      "2830\t3     \t1041       \t-0      \n",
      "2830\t4     \t1055       \t-0      \n",
      "\n",
      "\n"
     ]
    },
    {
     "name": "stdout",
     "output_type": "stream",
     "text": [
      "2840\t1     \t1055       \t-0      \n",
      "2840\t2     \t1042       \t-0      \n",
      "2840\t3     \t1041       \t-0      \n",
      "2840\t4     \t1035       \t0.228465\n",
      "\n",
      "\n"
     ]
    },
    {
     "name": "stdout",
     "output_type": "stream",
     "text": [
      "2850\t1     \t1035       \t0.22023 \n",
      "2850\t2     \t1041       \t-0      \n",
      "2850\t3     \t1041       \t-0      \n",
      "2850\t4     \t1038       \t-0      \n",
      "\n",
      "\n"
     ]
    },
    {
     "name": "stdout",
     "output_type": "stream",
     "text": [
      "2860\t1     \t1038       \t-0      \n",
      "2860\t2     \t1041       \t-0      \n",
      "2860\t3     \t1022       \t-0      \n",
      "2860\t4     \t1038       \t-0      \n",
      "\n",
      "\n"
     ]
    },
    {
     "name": "stdout",
     "output_type": "stream",
     "text": [
      "2870\t1     \t1038       \t-0      \n",
      "2870\t2     \t1036       \t-0      \n",
      "2870\t3     \t1020       \t-0      \n",
      "2870\t4     \t1016       \t-0      \n",
      "\n",
      "\n"
     ]
    },
    {
     "name": "stdout",
     "output_type": "stream",
     "text": [
      "2880\t1     \t1016       \t-0      \n",
      "2880\t2     \t1031       \t0.212329\n",
      "2880\t3     \t1020       \t-0      \n",
      "2880\t4     \t1017       \t-0      \n",
      "\n",
      "\n"
     ]
    },
    {
     "name": "stdout",
     "output_type": "stream",
     "text": [
      "2890\t1     \t1016       \t-0      \n",
      "2890\t2     \t1029       \t0.221681\n",
      "2890\t3     \t1031       \t0.212329\n",
      "2890\t4     \t1009       \t-0      \n",
      "\n",
      "\n"
     ]
    },
    {
     "name": "stdout",
     "output_type": "stream",
     "text": [
      "2900\t1     \t1009       \t-0      \n",
      "2900\t2     \t1008       \t-0      \n",
      "2900\t3     \t1100       \t-0      \n",
      "2900\t4     \t1009       \t-0      \n",
      "\n",
      "\n"
     ]
    },
    {
     "name": "stdout",
     "output_type": "stream",
     "text": [
      "2910\t1     \t1009       \t-0      \n",
      "2910\t2     \t1009       \t-0      \n",
      "2910\t3     \t1006       \t-0      \n",
      "2910\t4     \t1007       \t-0      \n",
      "\n",
      "\n"
     ]
    },
    {
     "name": "stdout",
     "output_type": "stream",
     "text": [
      "2920\t1     \t1007       \t-0      \n",
      "2920\t2     \t1007       \t-0      \n",
      "2920\t3     \t1006       \t-0      \n",
      "2920\t4     \t1006       \t-0      \n",
      "\n",
      "\n"
     ]
    },
    {
     "name": "stdout",
     "output_type": "stream",
     "text": [
      "2930\t1     \t967        \t0.231462\n",
      "2930\t2     \t1007       \t-0      \n",
      "2930\t3     \t1004       \t-0      \n",
      "2930\t4     \t1004       \t-0      \n",
      "\n",
      "\n"
     ]
    },
    {
     "name": "stdout",
     "output_type": "stream",
     "text": [
      "2940\t1     \t1001       \t-0      \n",
      "2940\t2     \t1007       \t-0      \n",
      "2940\t3     \t1004       \t-0      \n",
      "2940\t4     \t1002       \t-0      \n",
      "\n",
      "\n"
     ]
    },
    {
     "name": "stdout",
     "output_type": "stream",
     "text": [
      "2950\t1     \t999        \t-0      \n",
      "2950\t2     \t1006       \t-0      \n",
      "2950\t3     \t1007       \t-0      \n",
      "2950\t4     \t1004       \t-0      \n",
      "\n",
      "\n"
     ]
    },
    {
     "name": "stdout",
     "output_type": "stream",
     "text": [
      "2960\t1     \t1002       \t-0      \n",
      "2960\t2     \t999        \t-0      \n",
      "2960\t3     \t1005       \t-0      \n",
      "2960\t4     \t1007       \t-0      \n",
      "\n",
      "\n"
     ]
    },
    {
     "name": "stdout",
     "output_type": "stream",
     "text": [
      "2970\t1     \t964        \t0.224413\n",
      "2970\t2     \t999        \t-0      \n",
      "2970\t3     \t1005       \t-0      \n",
      "2970\t4     \t1005       \t-0      \n",
      "\n",
      "\n"
     ]
    },
    {
     "name": "stdout",
     "output_type": "stream",
     "text": [
      "2980\t1     \t1005       \t-0      \n",
      "2980\t2     \t999        \t-0      \n",
      "2980\t3     \t999        \t-0      \n",
      "2980\t4     \t1126       \t-0      \n",
      "\n",
      "\n"
     ]
    },
    {
     "name": "stdout",
     "output_type": "stream",
     "text": [
      "2990\t1     \t1002       \t-0      \n",
      "2990\t2     \t989        \t-0      \n",
      "2990\t3     \t998        \t-0      \n",
      "2990\t4     \t999        \t-0      \n",
      "\n",
      "\n"
     ]
    },
    {
     "name": "stdout",
     "output_type": "stream",
     "text": [
      "3000\t1     \t983        \t-0      \n",
      "3000\t2     \t989        \t-0      \n",
      "3000\t3     \t988        \t-0      \n",
      "3000\t4     \t998        \t-0      \n",
      "\n",
      "\n"
     ]
    },
    {
     "name": "stdout",
     "output_type": "stream",
     "text": [
      "3010\t1     \t998        \t-0      \n",
      "3010\t2     \t983        \t-0      \n",
      "3010\t3     \t988        \t-0      \n",
      "3010\t4     \t988        \t-0      \n",
      "\n",
      "\n"
     ]
    },
    {
     "name": "stdout",
     "output_type": "stream",
     "text": [
      "3020\t1     \t985        \t-0      \n",
      "3020\t2     \t981        \t-0      \n",
      "3020\t3     \t978        \t-0      \n",
      "3020\t4     \t984        \t-0      \n",
      "\n",
      "\n"
     ]
    },
    {
     "name": "stdout",
     "output_type": "stream",
     "text": [
      "3030\t1     \t984        \t-0      \n",
      "3030\t2     \t981        \t-0      \n",
      "3030\t3     \t978        \t-0      \n",
      "3030\t4     \t975        \t-0      \n",
      "\n",
      "\n"
     ]
    },
    {
     "name": "stdout",
     "output_type": "stream",
     "text": [
      "3040\t1     \t975        \t-0      \n",
      "3040\t2     \t981        \t-0      \n",
      "3040\t3     \t981        \t-0      \n",
      "3040\t4     \t973        \t-0      \n",
      "\n",
      "\n"
     ]
    },
    {
     "name": "stdout",
     "output_type": "stream",
     "text": [
      "3050\t1     \t973        \t-0      \n",
      "3050\t2     \t975        \t-0      \n",
      "3050\t3     \t979        \t-0      \n",
      "3050\t4     \t1028       \t0.229395\n",
      "\n",
      "\n"
     ]
    },
    {
     "name": "stdout",
     "output_type": "stream",
     "text": [
      "3060\t1     \t973        \t-0      \n",
      "3060\t2     \t959        \t0.218371\n",
      "3060\t3     \t975        \t-0      \n",
      "3060\t4     \t976        \t-0      \n",
      "\n",
      "\n"
     ]
    },
    {
     "name": "stdout",
     "output_type": "stream",
     "text": [
      "3070\t1     \t973        \t-0      \n",
      "3070\t2     \t973        \t-0      \n",
      "3070\t3     \t973        \t-0      \n",
      "3070\t4     \t975        \t-0      \n",
      "\n",
      "\n"
     ]
    },
    {
     "name": "stdout",
     "output_type": "stream",
     "text": [
      "3080\t1     \t972        \t-0      \n",
      "3080\t2     \t973        \t-0      \n",
      "3080\t3     \t973        \t-0      \n",
      "3080\t4     \t973        \t-0      \n",
      "\n",
      "\n"
     ]
    },
    {
     "name": "stdout",
     "output_type": "stream",
     "text": [
      "3090\t1     \t973        \t-0      \n",
      "3090\t2     \t972        \t-0      \n",
      "3090\t3     \t965        \t-0      \n",
      "3090\t4     \t971        \t-0      \n",
      "\n",
      "\n"
     ]
    },
    {
     "name": "stdout",
     "output_type": "stream",
     "text": [
      "3100\t1     \t971        \t-0      \n",
      "3100\t2     \t960        \t0.215038\n",
      "3100\t3     \t958        \t-0      \n",
      "3100\t4     \t965        \t-0      \n",
      "\n",
      "\n"
     ]
    },
    {
     "name": "stdout",
     "output_type": "stream",
     "text": [
      "3110\t1     \t965        \t-0      \n",
      "3110\t2     \t957        \t-0      \n",
      "3110\t3     \t958        \t-0      \n",
      "3110\t4     \t954        \t-0      \n",
      "\n",
      "\n"
     ]
    },
    {
     "name": "stdout",
     "output_type": "stream",
     "text": [
      "3120\t1     \t954        \t-0      \n",
      "3120\t2     \t965        \t-0      \n",
      "3120\t3     \t957        \t-0      \n",
      "3120\t4     \t952        \t-0      \n",
      "\n",
      "\n"
     ]
    },
    {
     "name": "stdout",
     "output_type": "stream",
     "text": [
      "3130\t1     \t952        \t-0      \n",
      "3130\t2     \t965        \t-0      \n",
      "3130\t3     \t954        \t-0      \n",
      "3130\t4     \t951        \t-0      \n",
      "\n",
      "\n"
     ]
    },
    {
     "name": "stdout",
     "output_type": "stream",
     "text": [
      "3140\t1     \t951        \t-0      \n",
      "3140\t2     \t943        \t-0      \n",
      "3140\t3     \t953        \t-0      \n",
      "3140\t4     \t1007       \t0.227021\n",
      "\n",
      "\n"
     ]
    },
    {
     "name": "stdout",
     "output_type": "stream",
     "text": [
      "3150\t1     \t951        \t-0      \n",
      "3150\t2     \t943        \t-0      \n",
      "3150\t3     \t943        \t-0      \n",
      "3150\t4     \t952        \t-0      \n",
      "\n",
      "\n"
     ]
    },
    {
     "name": "stdout",
     "output_type": "stream",
     "text": [
      "3160\t1     \t947        \t-0      \n",
      "3160\t2     \t939        \t-0      \n",
      "3160\t3     \t938        \t-0      \n",
      "3160\t4     \t941        \t-0      \n",
      "\n",
      "\n"
     ]
    },
    {
     "name": "stdout",
     "output_type": "stream",
     "text": [
      "3170\t1     \t941        \t-0      \n",
      "3170\t2     \t947        \t-0      \n",
      "3170\t3     \t938        \t-0      \n",
      "3170\t4     \t938        \t-0      \n",
      "\n",
      "\n"
     ]
    },
    {
     "name": "stdout",
     "output_type": "stream",
     "text": [
      "3180\t1     \t938        \t-0      \n",
      "3180\t2     \t941        \t-0      \n",
      "3180\t3     \t935        \t-0      \n",
      "3180\t4     \t935        \t-0      \n",
      "\n",
      "\n"
     ]
    },
    {
     "name": "stdout",
     "output_type": "stream",
     "text": [
      "3190\t1     \t935        \t-0      \n",
      "3190\t2     \t938        \t-0      \n",
      "3190\t3     \t931        \t-0      \n",
      "3190\t4     \t933        \t-0      \n",
      "\n",
      "\n"
     ]
    },
    {
     "name": "stdout",
     "output_type": "stream",
     "text": [
      "3200\t1     \t933        \t-0      \n",
      "3200\t2     \t935        \t-0      \n",
      "3200\t3     \t931        \t-0      \n",
      "3200\t4     \t932        \t-0      \n",
      "\n",
      "\n"
     ]
    },
    {
     "name": "stdout",
     "output_type": "stream",
     "text": [
      "3210\t1     \t932        \t-0      \n",
      "3210\t2     \t933        \t-0      \n",
      "3210\t3     \t931        \t-0      \n",
      "3210\t4     \t931        \t-0      \n",
      "\n",
      "\n"
     ]
    },
    {
     "name": "stdout",
     "output_type": "stream",
     "text": [
      "3220\t1     \t931        \t-0      \n",
      "3220\t2     \t932        \t-0      \n",
      "3220\t3     \t924        \t-0      \n",
      "3220\t4     \t931        \t-0      \n",
      "\n",
      "\n"
     ]
    },
    {
     "name": "stdout",
     "output_type": "stream",
     "text": [
      "3230\t1     \t928        \t-0      \n",
      "3230\t2     \t932        \t-0      \n",
      "3230\t3     \t967        \t0.219912\n",
      "3230\t4     \t924        \t-0      \n",
      "\n",
      "\n"
     ]
    },
    {
     "name": "stdout",
     "output_type": "stream",
     "text": [
      "3240\t1     \t924        \t-0      \n",
      "3240\t2     \t928        \t-0      \n",
      "3240\t3     \t932        \t-0      \n",
      "3240\t4     \t920        \t-0      \n",
      "\n",
      "\n"
     ]
    },
    {
     "name": "stdout",
     "output_type": "stream",
     "text": [
      "3250\t1     \t909        \t0.223277\n",
      "3250\t2     \t924        \t-0      \n",
      "3250\t3     \t928        \t-0      \n",
      "3250\t4     \t916        \t-0      \n",
      "\n",
      "\n"
     ]
    },
    {
     "name": "stdout",
     "output_type": "stream",
     "text": [
      "3260\t1     \t916        \t-0      \n",
      "3260\t2     \t924        \t-0      \n",
      "3260\t3     \t925        \t-0      \n",
      "3260\t4     \t924        \t-0      \n",
      "\n",
      "\n"
     ]
    },
    {
     "name": "stdout",
     "output_type": "stream",
     "text": [
      "3270\t1     \t916        \t-0      \n",
      "3270\t2     \t916        \t-0      \n",
      "3270\t3     \t917        \t-0      \n",
      "3270\t4     \t919        \t-0      \n",
      "\n",
      "\n"
     ]
    },
    {
     "name": "stdout",
     "output_type": "stream",
     "text": [
      "3280\t1     \t912        \t-0      \n",
      "3280\t2     \t916        \t-0      \n",
      "3280\t3     \t911        \t-0      \n",
      "3280\t4     \t913        \t-0      \n",
      "\n",
      "\n"
     ]
    },
    {
     "name": "stdout",
     "output_type": "stream",
     "text": [
      "3290\t1     \t910        \t-0      \n",
      "3290\t2     \t908        \t-0      \n",
      "3290\t3     \t899        \t0.22317 \n",
      "3290\t4     \t905        \t-0      \n",
      "\n",
      "\n"
     ]
    },
    {
     "name": "stdout",
     "output_type": "stream",
     "text": [
      "3300\t1     \t905        \t-0      \n",
      "3300\t2     \t908        \t-0      \n",
      "3300\t3     \t908        \t-0      \n",
      "3300\t4     \t971        \t-0      \n",
      "\n",
      "\n"
     ]
    },
    {
     "name": "stdout",
     "output_type": "stream",
     "text": [
      "3310\t1     \t905        \t-0      \n",
      "3310\t2     \t905        \t-0      \n",
      "3310\t3     \t908        \t-0      \n",
      "3310\t4     \t908        \t-0      \n",
      "\n",
      "\n"
     ]
    },
    {
     "name": "stdout",
     "output_type": "stream",
     "text": [
      "3320\t1     \t905        \t-0      \n",
      "3320\t2     \t904        \t-0      \n",
      "3320\t3     \t905        \t-0      \n",
      "3320\t4     \t908        \t-0      \n",
      "\n",
      "\n"
     ]
    },
    {
     "name": "stdout",
     "output_type": "stream",
     "text": [
      "3330\t1     \t905        \t-0      \n",
      "3330\t2     \t905        \t-0      \n",
      "3330\t3     \t904        \t-0      \n",
      "3330\t4     \t905        \t-0      \n",
      "\n",
      "\n"
     ]
    },
    {
     "name": "stdout",
     "output_type": "stream",
     "text": [
      "3340\t1     \t905        \t-0      \n",
      "3340\t2     \t905        \t-0      \n",
      "3340\t3     \t904        \t-0      \n",
      "3340\t4     \t904        \t-0      \n",
      "\n",
      "\n"
     ]
    },
    {
     "name": "stdout",
     "output_type": "stream",
     "text": [
      "3350\t1     \t899        \t-0      \n",
      "3350\t2     \t905        \t-0      \n",
      "3350\t3     \t904        \t-0      \n",
      "3350\t4     \t903        \t-0      \n",
      "\n",
      "\n"
     ]
    },
    {
     "name": "stdout",
     "output_type": "stream",
     "text": [
      "3360\t1     \t899        \t-0      \n",
      "3360\t2     \t900        \t-0      \n",
      "3360\t3     \t903        \t-0      \n",
      "3360\t4     \t901        \t-0      \n",
      "\n",
      "\n"
     ]
    },
    {
     "name": "stdout",
     "output_type": "stream",
     "text": [
      "3370\t1     \t899        \t-0      \n",
      "3370\t2     \t896        \t0.213987\n",
      "3370\t3     \t892        \t-0      \n",
      "3370\t4     \t897        \t-0      \n",
      "\n",
      "\n"
     ]
    },
    {
     "name": "stdout",
     "output_type": "stream",
     "text": [
      "3380\t1     \t892        \t-0      \n",
      "3380\t2     \t896        \t0.213987\n",
      "3380\t3     \t892        \t-0      \n",
      "3380\t4     \t892        \t-0      \n",
      "\n",
      "\n"
     ]
    },
    {
     "name": "stdout",
     "output_type": "stream",
     "text": [
      "3390\t1     \t892        \t-0      \n",
      "3390\t2     \t892        \t-0      \n",
      "3390\t3     \t889        \t-0      \n",
      "3390\t4     \t892        \t-0      \n",
      "\n",
      "\n"
     ]
    },
    {
     "name": "stdout",
     "output_type": "stream",
     "text": [
      "3400\t1     \t891        \t-0      \n",
      "3400\t2     \t891        \t-0      \n",
      "3400\t3     \t892        \t-0      \n",
      "3400\t4     \t889        \t-0      \n",
      "\n",
      "\n"
     ]
    },
    {
     "name": "stdout",
     "output_type": "stream",
     "text": [
      "3410\t1     \t889        \t-0      \n",
      "3410\t2     \t891        \t-0      \n",
      "3410\t3     \t891        \t-0      \n",
      "3410\t4     \t888        \t-0      \n",
      "\n",
      "\n"
     ]
    },
    {
     "name": "stdout",
     "output_type": "stream",
     "text": [
      "3420\t1     \t880        \t-0      \n",
      "3420\t2     \t889        \t-0      \n",
      "3420\t3     \t891        \t-0      \n",
      "3420\t4     \t890        \t-0      \n",
      "\n",
      "\n"
     ]
    },
    {
     "name": "stdout",
     "output_type": "stream",
     "text": [
      "3430\t1     \t871        \t0.213783\n",
      "3430\t2     \t880        \t-0      \n",
      "3430\t3     \t889        \t-0      \n",
      "3430\t4     \t890        \t-0      \n",
      "\n",
      "\n"
     ]
    },
    {
     "name": "stdout",
     "output_type": "stream",
     "text": [
      "3440\t1     \t871        \t0.213783\n",
      "3440\t2     \t880        \t-0      \n",
      "3440\t3     \t879        \t-0      \n",
      "3440\t4     \t889        \t-0      \n",
      "\n",
      "\n"
     ]
    },
    {
     "name": "stdout",
     "output_type": "stream",
     "text": [
      "3450\t1     \t889        \t-0      \n",
      "3450\t2     \t871        \t0.213783\n",
      "3450\t3     \t879        \t-0      \n",
      "3450\t4     \t889        \t-0      \n",
      "\n",
      "\n"
     ]
    },
    {
     "name": "stdout",
     "output_type": "stream",
     "text": [
      "3460\t1     \t889        \t-0      \n",
      "3460\t2     \t859        \t0.229606\n",
      "3460\t3     \t879        \t-0      \n",
      "3460\t4     \t889        \t-0      \n",
      "\n",
      "\n"
     ]
    },
    {
     "name": "stdout",
     "output_type": "stream",
     "text": [
      "3470\t1     \t889        \t-0      \n",
      "3470\t2     \t889        \t-0      \n",
      "3470\t3     \t876        \t0.212438\n",
      "3470\t4     \t879        \t-0      \n",
      "\n",
      "\n"
     ]
    },
    {
     "name": "stdout",
     "output_type": "stream",
     "text": [
      "3480\t1     \t885        \t-0      \n",
      "3480\t2     \t889        \t-0      \n",
      "3480\t3     \t889        \t-0      \n",
      "3480\t4     \t879        \t-0      \n",
      "\n",
      "\n"
     ]
    },
    {
     "name": "stdout",
     "output_type": "stream",
     "text": [
      "3490\t1     \t879        \t-0      \n",
      "3490\t2     \t885        \t-0      \n",
      "3490\t3     \t889        \t-0      \n",
      "3490\t4     \t889        \t-0      \n",
      "\n",
      "\n"
     ]
    },
    {
     "name": "stdout",
     "output_type": "stream",
     "text": [
      "3500\t1     \t883        \t-0      \n",
      "3500\t2     \t879        \t-0      \n",
      "3500\t3     \t888        \t-0      \n",
      "3500\t4     \t889        \t-0      \n",
      "\n",
      "\n"
     ]
    },
    {
     "name": "stdout",
     "output_type": "stream",
     "text": [
      "3510\t1     \t882        \t-0      \n",
      "3510\t2     \t879        \t-0      \n",
      "3510\t3     \t879        \t-0      \n",
      "3510\t4     \t888        \t-0      \n",
      "\n",
      "\n"
     ]
    },
    {
     "name": "stdout",
     "output_type": "stream",
     "text": [
      "3520\t1     \t877        \t0.212124\n",
      "3520\t2     \t879        \t-0      \n",
      "3520\t3     \t879        \t-0      \n",
      "3520\t4     \t879        \t-0      \n",
      "\n",
      "\n"
     ]
    },
    {
     "name": "stdout",
     "output_type": "stream",
     "text": [
      "3530\t1     \t867        \t0.225761\n",
      "3530\t2     \t878        \t-0      \n",
      "3530\t3     \t878        \t-0      \n",
      "3530\t4     \t878        \t-0      \n",
      "\n",
      "\n"
     ]
    },
    {
     "name": "stdout",
     "output_type": "stream",
     "text": [
      "3540\t1     \t877        \t-0      \n",
      "3540\t2     \t873        \t0.214408\n",
      "3540\t3     \t878        \t-0      \n",
      "3540\t4     \t878        \t-0      \n",
      "\n",
      "\n"
     ]
    },
    {
     "name": "stdout",
     "output_type": "stream",
     "text": [
      "3550\t1     \t825        \t0.234591\n",
      "3550\t2     \t877        \t-0      \n",
      "3550\t3     \t876        \t-0      \n",
      "3550\t4     \t877        \t-0      \n",
      "\n",
      "\n"
     ]
    },
    {
     "name": "stdout",
     "output_type": "stream",
     "text": [
      "3560\t1     \t825        \t0.234591\n",
      "3560\t2     \t877        \t-0      \n",
      "3560\t3     \t877        \t-0      \n",
      "3560\t4     \t867        \t-0      \n",
      "\n",
      "\n"
     ]
    },
    {
     "name": "stdout",
     "output_type": "stream",
     "text": [
      "3570\t1     \t867        \t-0      \n",
      "3570\t2     \t871        \t-0      \n",
      "3570\t3     \t877        \t-0      \n",
      "3570\t4     \t867        \t-0      \n",
      "\n",
      "\n"
     ]
    },
    {
     "name": "stdout",
     "output_type": "stream",
     "text": [
      "3580\t1     \t867        \t-0      \n",
      "3580\t2     \t864        \t-0      \n",
      "3580\t3     \t877        \t-0      \n",
      "3580\t4     \t864        \t-0      \n",
      "\n",
      "\n"
     ]
    },
    {
     "name": "stdout",
     "output_type": "stream",
     "text": [
      "3590\t1     \t863        \t-0      \n",
      "3590\t2     \t864        \t-0      \n",
      "3590\t3     \t875        \t-0      \n",
      "3590\t4     \t877        \t-0      \n",
      "\n",
      "\n"
     ]
    },
    {
     "name": "stdout",
     "output_type": "stream",
     "text": [
      "3600\t1     \t863        \t-0      \n",
      "3600\t2     \t864        \t-0      \n",
      "3600\t3     \t864        \t-0      \n",
      "3600\t4     \t874        \t-0      \n",
      "\n",
      "\n"
     ]
    },
    {
     "name": "stdout",
     "output_type": "stream",
     "text": [
      "3610\t1     \t863        \t-0      \n",
      "3610\t2     \t863        \t-0      \n",
      "3610\t3     \t863        \t-0      \n",
      "3610\t4     \t864        \t-0      \n",
      "\n",
      "\n"
     ]
    },
    {
     "name": "stdout",
     "output_type": "stream",
     "text": [
      "3620\t1     \t864        \t-0      \n",
      "3620\t2     \t863        \t-0      \n",
      "3620\t3     \t859        \t-0      \n",
      "3620\t4     \t863        \t-0      \n",
      "\n",
      "\n"
     ]
    },
    {
     "name": "stdout",
     "output_type": "stream",
     "text": [
      "3630\t1     \t863        \t-0      \n",
      "3630\t2     \t862        \t-0      \n",
      "3630\t3     \t859        \t-0      \n",
      "3630\t4     \t922        \t-0      \n",
      "\n",
      "\n"
     ]
    },
    {
     "name": "stdout",
     "output_type": "stream",
     "text": [
      "3640\t1     \t863        \t-0      \n",
      "3640\t2     \t861        \t-0      \n",
      "3640\t3     \t859        \t-0      \n",
      "3640\t4     \t859        \t-0      \n",
      "\n",
      "\n"
     ]
    },
    {
     "name": "stdout",
     "output_type": "stream",
     "text": [
      "3650\t1     \t859        \t-0      \n",
      "3650\t2     \t861        \t-0      \n",
      "3650\t3     \t854        \t-0      \n",
      "3650\t4     \t859        \t-0      \n",
      "\n",
      "\n"
     ]
    },
    {
     "name": "stdout",
     "output_type": "stream",
     "text": [
      "3660\t1     \t859        \t-0      \n",
      "3660\t2     \t859        \t-0      \n",
      "3660\t3     \t854        \t-0      \n",
      "3660\t4     \t853        \t-0      \n",
      "\n",
      "\n"
     ]
    },
    {
     "name": "stdout",
     "output_type": "stream",
     "text": [
      "3670\t1     \t853        \t-0      \n",
      "3670\t2     \t858        \t-0      \n",
      "3670\t3     \t854        \t-0      \n",
      "3670\t4     \t853        \t-0      \n",
      "\n",
      "\n"
     ]
    },
    {
     "name": "stdout",
     "output_type": "stream",
     "text": [
      "3680\t1     \t851        \t-0      \n",
      "3680\t2     \t846        \t0.215243\n",
      "3680\t3     \t852        \t-0      \n",
      "3680\t4     \t853        \t-0      \n",
      "\n",
      "\n"
     ]
    },
    {
     "name": "stdout",
     "output_type": "stream",
     "text": [
      "3690\t1     \t843        \t0.21409 \n",
      "3690\t2     \t851        \t-0      \n",
      "3690\t3     \t919        \t0.212743\n",
      "3690\t4     \t852        \t-0      \n",
      "\n",
      "\n"
     ]
    },
    {
     "name": "stdout",
     "output_type": "stream",
     "text": [
      "3700\t1     \t852        \t-0      \n",
      "3700\t2     \t851        \t-0      \n",
      "3700\t3     \t919        \t0.212743\n",
      "3700\t4     \t852        \t-0      \n",
      "\n",
      "\n"
     ]
    },
    {
     "name": "stdout",
     "output_type": "stream",
     "text": [
      "3710\t1     \t852        \t-0      \n",
      "3710\t2     \t851        \t-0      \n",
      "3710\t3     \t976        \t0.21056 \n",
      "3710\t4     \t852        \t-0      \n",
      "\n",
      "\n"
     ]
    },
    {
     "name": "stdout",
     "output_type": "stream",
     "text": [
      "3720\t1     \t852        \t-0      \n",
      "3720\t2     \t850        \t-0      \n",
      "3720\t3     \t982        \t-0      \n",
      "3720\t4     \t852        \t-0      \n",
      "\n",
      "\n"
     ]
    },
    {
     "name": "stdout",
     "output_type": "stream",
     "text": [
      "3730\t1     \t852        \t-0      \n",
      "3730\t2     \t850        \t-0      \n",
      "3730\t3     \t848        \t-0      \n",
      "3730\t4     \t851        \t-0      \n",
      "\n",
      "\n"
     ]
    },
    {
     "name": "stdout",
     "output_type": "stream",
     "text": [
      "3740\t1     \t851        \t-0      \n",
      "3740\t2     \t850        \t-0      \n",
      "3740\t3     \t848        \t-0      \n",
      "3740\t4     \t843        \t0.218058\n",
      "\n",
      "\n"
     ]
    },
    {
     "name": "stdout",
     "output_type": "stream",
     "text": [
      "3750\t1     \t849        \t-0      \n",
      "3750\t2     \t851        \t-0      \n",
      "3750\t3     \t846        \t-0      \n",
      "3750\t4     \t848        \t-0      \n",
      "\n",
      "\n"
     ]
    },
    {
     "name": "stdout",
     "output_type": "stream",
     "text": [
      "3760\t1     \t837        \t0.216084\n",
      "3760\t2     \t846        \t-0      \n",
      "3760\t3     \t845        \t-0      \n",
      "3760\t4     \t844        \t-0      \n",
      "\n",
      "\n"
     ]
    },
    {
     "name": "stdout",
     "output_type": "stream",
     "text": [
      "3770\t1     \t844        \t-0      \n",
      "3770\t2     \t846        \t-0      \n",
      "3770\t3     \t846        \t-0      \n",
      "3770\t4     \t843        \t-0      \n",
      "\n",
      "\n"
     ]
    },
    {
     "name": "stdout",
     "output_type": "stream",
     "text": [
      "3780\t1     \t841        \t-0      \n",
      "3780\t2     \t844        \t-0      \n",
      "3780\t3     \t838        \t-0      \n",
      "3780\t4     \t826        \t-0      \n",
      "\n",
      "\n"
     ]
    },
    {
     "name": "stdout",
     "output_type": "stream",
     "text": [
      "3790\t1     \t826        \t-0      \n",
      "3790\t2     \t838        \t-0      \n",
      "3790\t3     \t838        \t-0      \n",
      "3790\t4     \t894        \t0.217946\n",
      "\n",
      "\n"
     ]
    },
    {
     "name": "stdout",
     "output_type": "stream",
     "text": [
      "3800\t1     \t894        \t0.217946\n",
      "3800\t2     \t826        \t-0      \n",
      "3800\t3     \t837        \t-0      \n",
      "3800\t4     \t838        \t-0      \n",
      "\n",
      "\n"
     ]
    },
    {
     "name": "stdout",
     "output_type": "stream",
     "text": [
      "3810\t1     \t838        \t-0      \n",
      "3810\t2     \t813        \t0.223062\n",
      "3810\t3     \t826        \t-0      \n",
      "3810\t4     \t837        \t-0      \n",
      "\n",
      "\n"
     ]
    },
    {
     "name": "stdout",
     "output_type": "stream",
     "text": [
      "3820\t1     \t837        \t-0      \n",
      "3820\t2     \t838        \t-0      \n",
      "3820\t3     \t824        \t-0      \n",
      "3820\t4     \t826        \t-0      \n",
      "\n",
      "\n"
     ]
    },
    {
     "name": "stdout",
     "output_type": "stream",
     "text": [
      "3830\t1     \t826        \t-0      \n",
      "3830\t2     \t797        \t0.235221\n",
      "3830\t3     \t836        \t-0      \n",
      "3830\t4     \t824        \t-0      \n",
      "\n",
      "\n"
     ]
    },
    {
     "name": "stdout",
     "output_type": "stream",
     "text": [
      "3840\t1     \t872        \t0.225865\n",
      "3840\t2     \t826        \t-0      \n",
      "3840\t3     \t856        \t0.235869\n",
      "3840\t4     \t818        \t-0      \n",
      "\n",
      "\n"
     ]
    },
    {
     "name": "stdout",
     "output_type": "stream",
     "text": [
      "3850\t1     \t816        \t-0      \n",
      "3850\t2     \t825        \t-0      \n",
      "3850\t3     \t848        \t0.234486\n",
      "3850\t4     \t818        \t-0      \n",
      "\n",
      "\n"
     ]
    },
    {
     "name": "stdout",
     "output_type": "stream",
     "text": [
      "3860\t1     \t818        \t-0      \n",
      "3860\t2     \t816        \t-0      \n",
      "3860\t3     \t825        \t-0      \n",
      "3860\t4     \t818        \t-0      \n",
      "\n",
      "\n"
     ]
    },
    {
     "name": "stdout",
     "output_type": "stream",
     "text": [
      "3870\t1     \t818        \t-0      \n",
      "3870\t2     \t810        \t-0      \n",
      "3870\t3     \t816        \t-0      \n",
      "3870\t4     \t818        \t-0      \n",
      "\n",
      "\n"
     ]
    },
    {
     "name": "stdout",
     "output_type": "stream",
     "text": [
      "3880\t1     \t817        \t-0      \n",
      "3880\t2     \t818        \t-0      \n",
      "3880\t3     \t810        \t-0      \n",
      "3880\t4     \t816        \t-0      \n",
      "\n",
      "\n"
     ]
    },
    {
     "name": "stdout",
     "output_type": "stream",
     "text": [
      "3890\t1     \t816        \t-0      \n",
      "3890\t2     \t817        \t-0      \n",
      "3890\t3     \t853        \t0.222612\n",
      "3890\t4     \t810        \t-0      \n",
      "\n",
      "\n"
     ]
    },
    {
     "name": "stdout",
     "output_type": "stream",
     "text": [
      "3900\t1     \t810        \t-0      \n",
      "3900\t2     \t817        \t-0      \n",
      "3900\t3     \t853        \t0.222612\n",
      "3900\t4     \t810        \t-0      \n",
      "\n",
      "\n"
     ]
    },
    {
     "name": "stdout",
     "output_type": "stream",
     "text": [
      "3910\t1     \t808        \t-0      \n",
      "3910\t2     \t810        \t-0      \n",
      "3910\t3     \t853        \t0.222612\n",
      "3910\t4     \t810        \t-0      \n",
      "\n",
      "\n"
     ]
    },
    {
     "name": "stdout",
     "output_type": "stream",
     "text": [
      "3920\t1     \t810        \t-0      \n",
      "3920\t2     \t805        \t-0      \n",
      "3920\t3     \t845        \t0.231774\n",
      "3920\t4     \t810        \t-0      \n",
      "\n",
      "\n"
     ]
    },
    {
     "name": "stdout",
     "output_type": "stream",
     "text": [
      "3930\t1     \t810        \t-0      \n",
      "3930\t2     \t801        \t0.220341\n",
      "3930\t3     \t805        \t-0      \n",
      "3930\t4     \t807        \t-0      \n",
      "\n",
      "\n"
     ]
    },
    {
     "name": "stdout",
     "output_type": "stream",
     "text": [
      "3940\t1     \t807        \t-0      \n",
      "3940\t2     \t810        \t-0      \n",
      "3940\t3     \t805        \t-0      \n",
      "3940\t4     \t802        \t-0      \n",
      "\n",
      "\n"
     ]
    },
    {
     "name": "stdout",
     "output_type": "stream",
     "text": [
      "3950\t1     \t802        \t-0      \n",
      "3950\t2     \t807        \t-0      \n",
      "3950\t3     \t805        \t-0      \n",
      "3950\t4     \t805        \t-0      \n",
      "\n",
      "\n"
     ]
    },
    {
     "name": "stdout",
     "output_type": "stream",
     "text": [
      "3960\t1     \t800        \t-0      \n",
      "3960\t2     \t802        \t-0      \n",
      "3960\t3     \t805        \t-0      \n",
      "3960\t4     \t804        \t-0      \n",
      "\n",
      "\n"
     ]
    },
    {
     "name": "stdout",
     "output_type": "stream",
     "text": [
      "3970\t1     \t799        \t-0      \n",
      "3970\t2     \t800        \t-0      \n",
      "3970\t3     \t801        \t-0      \n",
      "3970\t4     \t863        \t-0      \n",
      "\n",
      "\n"
     ]
    },
    {
     "name": "stdout",
     "output_type": "stream",
     "text": [
      "3980\t1     \t863        \t-0      \n",
      "3980\t2     \t799        \t-0      \n",
      "3980\t3     \t800        \t-0      \n",
      "3980\t4     \t863        \t-0      \n",
      "\n",
      "\n"
     ]
    },
    {
     "name": "stdout",
     "output_type": "stream",
     "text": [
      "3990\t1     \t861        \t-0      \n",
      "3990\t2     \t791        \t-0      \n",
      "3990\t3     \t793        \t-0      \n",
      "3990\t4     \t796        \t-0      \n",
      "\n",
      "\n"
     ]
    },
    {
     "name": "stdout",
     "output_type": "stream",
     "text": [
      "4000\t1     \t796        \t-0      \n",
      "4000\t2     \t787        \t0.223067\n",
      "4000\t3     \t791        \t-0      \n",
      "4000\t4     \t787        \t-0      \n",
      "\n",
      "\n"
     ]
    },
    {
     "name": "stdout",
     "output_type": "stream",
     "text": [
      "4010\t1     \t785        \t0.220867\n",
      "4010\t2     \t796        \t-0      \n",
      "4010\t3     \t787        \t0.223067\n",
      "4010\t4     \t787        \t-0      \n",
      "\n",
      "\n"
     ]
    },
    {
     "name": "stdout",
     "output_type": "stream",
     "text": [
      "4020\t1     \t786        \t-0      \n",
      "4020\t2     \t796        \t-0      \n",
      "4020\t3     \t850        \t0.21244 \n",
      "4020\t4     \t787        \t-0      \n",
      "\n",
      "\n"
     ]
    },
    {
     "name": "stdout",
     "output_type": "stream",
     "text": [
      "4030\t1     \t786        \t-0      \n",
      "4030\t2     \t796        \t-0      \n",
      "4030\t3     \t796        \t-0      \n",
      "4030\t4     \t786        \t-0      \n",
      "\n",
      "\n"
     ]
    },
    {
     "name": "stdout",
     "output_type": "stream",
     "text": [
      "4040\t1     \t786        \t-0      \n",
      "4040\t2     \t796        \t-0      \n",
      "4040\t3     \t794        \t-0      \n",
      "4040\t4     \t786        \t-0      \n",
      "\n",
      "\n"
     ]
    },
    {
     "name": "stdout",
     "output_type": "stream",
     "text": [
      "4050\t1     \t779        \t-0      \n",
      "4050\t2     \t786        \t-0      \n",
      "4050\t3     \t794        \t-0      \n",
      "4050\t4     \t786        \t-0      \n",
      "\n",
      "\n"
     ]
    },
    {
     "name": "stdout",
     "output_type": "stream",
     "text": [
      "4060\t1     \t779        \t-0      \n",
      "4060\t2     \t779        \t-0      \n",
      "4060\t3     \t785        \t-0      \n",
      "4060\t4     \t786        \t-0      \n",
      "\n",
      "\n"
     ]
    },
    {
     "name": "stdout",
     "output_type": "stream",
     "text": [
      "4070\t1     \t786        \t-0      \n",
      "4070\t2     \t779        \t-0      \n",
      "4070\t3     \t780        \t0.214304\n",
      "4070\t4     \t784        \t-0      \n",
      "\n",
      "\n"
     ]
    },
    {
     "name": "stdout",
     "output_type": "stream",
     "text": [
      "4080\t1     \t786        \t-0      \n",
      "4080\t2     \t778        \t-0      \n",
      "4080\t3     \t779        \t-0      \n",
      "4080\t4     \t784        \t-0      \n",
      "\n",
      "\n"
     ]
    },
    {
     "name": "stdout",
     "output_type": "stream",
     "text": [
      "4090\t1     \t784        \t-0      \n",
      "4090\t2     \t778        \t-0      \n",
      "4090\t3     \t778        \t-0      \n",
      "4090\t4     \t779        \t-0      \n",
      "\n",
      "\n"
     ]
    },
    {
     "name": "stdout",
     "output_type": "stream",
     "text": [
      "4100\t1     \t784        \t-0      \n",
      "4100\t2     \t778        \t-0      \n",
      "4100\t3     \t777        \t-0      \n",
      "4100\t4     \t779        \t-0      \n",
      "\n",
      "\n"
     ]
    },
    {
     "name": "stdout",
     "output_type": "stream",
     "text": [
      "4110\t1     \t774        \t0.216295\n",
      "4110\t2     \t777        \t-0      \n",
      "4110\t3     \t778        \t-0      \n",
      "4110\t4     \t777        \t-0      \n",
      "\n",
      "\n"
     ]
    },
    {
     "name": "stdout",
     "output_type": "stream",
     "text": [
      "4120\t1     \t777        \t-0      \n",
      "4120\t2     \t774        \t0.216295\n",
      "4120\t3     \t774        \t-0      \n",
      "4120\t4     \t776        \t-0      \n",
      "\n",
      "\n"
     ]
    },
    {
     "name": "stdout",
     "output_type": "stream",
     "text": [
      "4130\t1     \t776        \t-0      \n",
      "4130\t2     \t774        \t0.216295\n",
      "4130\t3     \t774        \t-0      \n",
      "4130\t4     \t774        \t-0      \n",
      "\n",
      "\n"
     ]
    },
    {
     "name": "stdout",
     "output_type": "stream",
     "text": [
      "4140\t1     \t769        \t0.221983\n",
      "4140\t2     \t776        \t-0      \n",
      "4140\t3     \t843        \t0.214614\n",
      "4140\t4     \t774        \t-0      \n",
      "\n",
      "\n"
     ]
    },
    {
     "name": "stdout",
     "output_type": "stream",
     "text": [
      "4150\t1     \t774        \t-0      \n",
      "4150\t2     \t756        \t0.235654\n",
      "4150\t3     \t776        \t-0      \n",
      "4150\t4     \t774        \t-0      \n",
      "\n",
      "\n"
     ]
    },
    {
     "name": "stdout",
     "output_type": "stream",
     "text": [
      "4160\t1     \t774        \t-0      \n",
      "4160\t2     \t759        \t0.235436\n",
      "4160\t3     \t776        \t-0      \n",
      "4160\t4     \t773        \t-0      \n",
      "\n",
      "\n"
     ]
    },
    {
     "name": "stdout",
     "output_type": "stream",
     "text": [
      "4170\t1     \t773        \t-0      \n",
      "4170\t2     \t774        \t-0      \n",
      "4170\t3     \t776        \t-0      \n",
      "4170\t4     \t776        \t-0      \n",
      "\n",
      "\n"
     ]
    },
    {
     "name": "stdout",
     "output_type": "stream",
     "text": [
      "4180\t1     \t772        \t-0      \n",
      "4180\t2     \t773        \t-0      \n",
      "4180\t3     \t775        \t-0      \n",
      "4180\t4     \t776        \t-0      \n",
      "\n",
      "\n"
     ]
    },
    {
     "name": "stdout",
     "output_type": "stream",
     "text": [
      "4190\t1     \t772        \t-0      \n",
      "4190\t2     \t772        \t-0      \n",
      "4190\t3     \t775        \t-0      \n",
      "4190\t4     \t775        \t-0      \n",
      "\n",
      "\n"
     ]
    },
    {
     "name": "stdout",
     "output_type": "stream",
     "text": [
      "4200\t1     \t768        \t-0      \n",
      "4200\t2     \t772        \t-0      \n",
      "4200\t3     \t774        \t-0      \n",
      "4200\t4     \t775        \t-0      \n",
      "\n",
      "\n"
     ]
    },
    {
     "name": "stdout",
     "output_type": "stream",
     "text": [
      "4210\t1     \t775        \t-0      \n",
      "4210\t2     \t768        \t-0      \n",
      "4210\t3     \t772        \t-0      \n",
      "4210\t4     \t774        \t-0      \n",
      "\n",
      "\n"
     ]
    },
    {
     "name": "stdout",
     "output_type": "stream",
     "text": [
      "4220\t1     \t773        \t-0      \n",
      "4220\t2     \t763        \t-0      \n",
      "4220\t3     \t768        \t-0      \n",
      "4220\t4     \t774        \t-0      \n",
      "\n",
      "\n"
     ]
    },
    {
     "name": "stdout",
     "output_type": "stream",
     "text": [
      "4230\t1     \t769        \t0.21733 \n",
      "4230\t2     \t763        \t-0      \n",
      "4230\t3     \t894        \t-0      \n",
      "4230\t4     \t768        \t-0      \n",
      "\n",
      "\n"
     ]
    },
    {
     "name": "stdout",
     "output_type": "stream",
     "text": [
      "4240\t1     \t768        \t-0      \n",
      "4240\t2     \t763        \t-0      \n",
      "4240\t3     \t763        \t-0      \n",
      "4240\t4     \t882        \t-0      \n",
      "\n",
      "\n"
     ]
    },
    {
     "name": "stdout",
     "output_type": "stream",
     "text": [
      "4250\t1     \t761        \t0.212542\n",
      "4250\t2     \t763        \t-0      \n",
      "4250\t3     \t763        \t-0      \n",
      "4250\t4     \t763        \t-0      \n",
      "\n",
      "\n"
     ]
    },
    {
     "name": "stdout",
     "output_type": "stream",
     "text": [
      "4260\t1     \t761        \t0.212542\n",
      "4260\t2     \t763        \t-0      \n",
      "4260\t3     \t763        \t-0      \n",
      "4260\t4     \t762        \t-0      \n",
      "\n",
      "\n"
     ]
    },
    {
     "name": "stdout",
     "output_type": "stream",
     "text": [
      "4270\t1     \t752        \t0.215555\n",
      "4270\t2     \t762        \t-0      \n",
      "4270\t3     \t763        \t-0      \n",
      "4270\t4     \t762        \t-0      \n",
      "\n",
      "\n"
     ]
    },
    {
     "name": "stdout",
     "output_type": "stream",
     "text": [
      "4280\t1     \t752        \t0.215555\n",
      "4280\t2     \t762        \t-0      \n",
      "4280\t3     \t763        \t-0      \n",
      "4280\t4     \t761        \t-0      \n",
      "\n",
      "\n"
     ]
    },
    {
     "name": "stdout",
     "output_type": "stream",
     "text": [
      "4290\t1     \t759        \t-0      \n",
      "4290\t2     \t761        \t-0      \n",
      "4290\t3     \t759        \t-0      \n",
      "4290\t4     \t763        \t-0      \n",
      "\n",
      "\n"
     ]
    },
    {
     "name": "stdout",
     "output_type": "stream",
     "text": [
      "4300\t1     \t759        \t-0      \n",
      "4300\t2     \t742        \t0.227125\n",
      "4300\t3     \t761        \t-0      \n",
      "4300\t4     \t759        \t-0      \n",
      "\n",
      "\n"
     ]
    },
    {
     "name": "stdout",
     "output_type": "stream",
     "text": [
      "4310\t1     \t759        \t-0      \n",
      "4310\t2     \t759        \t-0      \n",
      "4310\t3     \t953        \t0.214093\n",
      "4310\t4     \t759        \t-0      \n",
      "\n",
      "\n"
     ]
    },
    {
     "name": "stdout",
     "output_type": "stream",
     "text": [
      "4320\t1     \t758        \t-0      \n",
      "4320\t2     \t759        \t-0      \n",
      "4320\t3     \t759        \t-0      \n",
      "4320\t4     \t759        \t-0      \n",
      "\n",
      "\n"
     ]
    },
    {
     "name": "stdout",
     "output_type": "stream",
     "text": [
      "4330\t1     \t750        \t0.22076 \n",
      "4330\t2     \t758        \t-0      \n",
      "4330\t3     \t759        \t-0      \n",
      "4330\t4     \t759        \t-0      \n",
      "\n",
      "\n"
     ]
    },
    {
     "name": "stdout",
     "output_type": "stream",
     "text": [
      "4340\t1     \t759        \t-0      \n",
      "4340\t2     \t756        \t-0      \n",
      "4340\t3     \t759        \t-0      \n",
      "4340\t4     \t759        \t-0      \n",
      "\n",
      "\n"
     ]
    },
    {
     "name": "stdout",
     "output_type": "stream",
     "text": [
      "4350\t1     \t753        \t0.22045 \n",
      "4350\t2     \t758        \t-0      \n",
      "4350\t3     \t756        \t-0      \n",
      "4350\t4     \t759        \t-0      \n",
      "\n",
      "\n"
     ]
    },
    {
     "name": "stdout",
     "output_type": "stream",
     "text": [
      "4360\t1     \t754        \t0.219198\n",
      "4360\t2     \t820        \t0.220342\n",
      "4360\t3     \t758        \t-0      \n",
      "4360\t4     \t756        \t-0      \n",
      "\n",
      "\n"
     ]
    },
    {
     "name": "stdout",
     "output_type": "stream",
     "text": [
      "4370\t1     \t749        \t0.220449\n",
      "4370\t2     \t754        \t0.219198\n",
      "4370\t3     \t889        \t0.213681\n",
      "4370\t4     \t756        \t-0      \n",
      "\n",
      "\n"
     ]
    },
    {
     "name": "stdout",
     "output_type": "stream",
     "text": [
      "4380\t1     \t744        \t0.225657\n",
      "4380\t2     \t749        \t0.220449\n",
      "4380\t3     \t823        \t0.214715\n",
      "4380\t4     \t756        \t-0      \n",
      "\n",
      "\n"
     ]
    },
    {
     "name": "stdout",
     "output_type": "stream",
     "text": [
      "4390\t1     \t756        \t-0      \n",
      "4390\t2     \t749        \t0.220449\n",
      "4390\t3     \t822        \t0.216089\n",
      "4390\t4     \t753        \t-0      \n",
      "\n",
      "\n"
     ]
    },
    {
     "name": "stdout",
     "output_type": "stream",
     "text": [
      "4400\t1     \t753        \t-0      \n",
      "4400\t2     \t739        \t0.226297\n",
      "4400\t3     \t883        \t0.21525 \n",
      "4400\t4     \t891        \t-0      \n",
      "\n",
      "\n"
     ]
    },
    {
     "name": "stdout",
     "output_type": "stream",
     "text": [
      "4410\t1     \t753        \t-0      \n",
      "4410\t2     \t753        \t-0      \n",
      "4410\t3     \t956        \t0.210765\n",
      "4410\t4     \t822        \t0.216089\n",
      "\n",
      "\n"
     ]
    },
    {
     "name": "stdout",
     "output_type": "stream",
     "text": [
      "4420\t1     \t753        \t-0      \n",
      "4420\t2     \t753        \t-0      \n",
      "4420\t3     \t753        \t-0      \n",
      "4420\t4     \t786        \t0.231774\n",
      "\n",
      "\n"
     ]
    },
    {
     "name": "stdout",
     "output_type": "stream",
     "text": [
      "4430\t1     \t753        \t-0      \n",
      "4430\t2     \t752        \t-0      \n",
      "4430\t3     \t753        \t-0      \n",
      "4430\t4     \t753        \t-0      \n",
      "\n",
      "\n"
     ]
    },
    {
     "name": "stdout",
     "output_type": "stream",
     "text": [
      "4440\t1     \t753        \t-0      \n",
      "4440\t2     \t750        \t0.214089\n",
      "4440\t3     \t751        \t-0      \n",
      "4440\t4     \t753        \t-0      \n",
      "\n",
      "\n"
     ]
    },
    {
     "name": "stdout",
     "output_type": "stream",
     "text": [
      "4450\t1     \t753        \t-0      \n",
      "4450\t2     \t741        \t0.222952\n",
      "4450\t3     \t750        \t-0      \n",
      "4450\t4     \t751        \t-0      \n",
      "\n",
      "\n"
     ]
    },
    {
     "name": "stdout",
     "output_type": "stream",
     "text": [
      "4460\t1     \t751        \t-0      \n",
      "4460\t2     \t753        \t-0      \n",
      "4460\t3     \t890        \t-0      \n",
      "4460\t4     \t750        \t-0      \n",
      "\n",
      "\n"
     ]
    },
    {
     "name": "stdout",
     "output_type": "stream",
     "text": [
      "4470\t1     \t750        \t-0      \n",
      "4470\t2     \t751        \t-0      \n",
      "4470\t3     \t753        \t-0      \n",
      "4470\t4     \t818        \t-0      \n",
      "\n",
      "\n"
     ]
    },
    {
     "name": "stdout",
     "output_type": "stream",
     "text": [
      "4480\t1     \t750        \t-0      \n",
      "4480\t2     \t750        \t-0      \n",
      "4480\t3     \t753        \t-0      \n",
      "4480\t4     \t753        \t-0      \n",
      "\n",
      "\n"
     ]
    },
    {
     "name": "stdout",
     "output_type": "stream",
     "text": [
      "4490\t1     \t750        \t-0      \n",
      "4490\t2     \t750        \t-0      \n",
      "4490\t3     \t750        \t-0      \n",
      "4490\t4     \t753        \t-0      \n",
      "\n",
      "\n"
     ]
    },
    {
     "name": "stdout",
     "output_type": "stream",
     "text": [
      "4500\t1     \t750        \t-0      \n",
      "4500\t2     \t750        \t-0      \n",
      "4500\t3     \t876        \t0.220451\n",
      "4500\t4     \t750        \t-0      \n",
      "\n",
      "\n"
     ]
    },
    {
     "name": "stdout",
     "output_type": "stream",
     "text": [
      "4510\t1     \t749        \t-0      \n",
      "4510\t2     \t749        \t-0      \n",
      "4510\t3     \t750        \t-0      \n",
      "4510\t4     \t750        \t-0      \n",
      "\n",
      "\n"
     ]
    },
    {
     "name": "stdout",
     "output_type": "stream",
     "text": [
      "4520\t1     \t749        \t-0      \n",
      "4520\t2     \t749        \t-0      \n",
      "4520\t3     \t750        \t-0      \n",
      "4520\t4     \t750        \t-0      \n",
      "\n",
      "\n"
     ]
    },
    {
     "name": "stdout",
     "output_type": "stream",
     "text": [
      "4530\t1     \t750        \t-0      \n",
      "4530\t2     \t749        \t-0      \n",
      "4530\t3     \t750        \t-0      \n",
      "4530\t4     \t750        \t-0      \n",
      "\n",
      "\n"
     ]
    },
    {
     "name": "stdout",
     "output_type": "stream",
     "text": [
      "4540\t1     \t750        \t-0      \n",
      "4540\t2     \t749        \t-0      \n",
      "4540\t3     \t750        \t-0      \n",
      "4540\t4     \t749        \t-0      \n",
      "\n",
      "\n"
     ]
    },
    {
     "name": "stdout",
     "output_type": "stream",
     "text": [
      "4550\t1     \t749        \t-0      \n",
      "4550\t2     \t749        \t-0      \n",
      "4550\t3     \t749        \t-0      \n",
      "4550\t4     \t750        \t-0      \n",
      "\n",
      "\n"
     ]
    },
    {
     "name": "stdout",
     "output_type": "stream",
     "text": [
      "4560\t1     \t749        \t-0      \n",
      "4560\t2     \t748        \t-0      \n",
      "4560\t3     \t749        \t-0      \n",
      "4560\t4     \t748        \t-0      \n",
      "\n",
      "\n"
     ]
    },
    {
     "name": "stdout",
     "output_type": "stream",
     "text": [
      "4570\t1     \t748        \t-0      \n",
      "4570\t2     \t748        \t-0      \n",
      "4570\t3     \t748        \t-0      \n",
      "4570\t4     \t742        \t-0      \n",
      "\n",
      "\n"
     ]
    },
    {
     "name": "stdout",
     "output_type": "stream",
     "text": [
      "4580\t1     \t748        \t-0      \n",
      "4580\t2     \t748        \t-0      \n",
      "4580\t3     \t748        \t-0      \n",
      "4580\t4     \t735        \t-0      \n",
      "\n",
      "\n"
     ]
    },
    {
     "name": "stdout",
     "output_type": "stream",
     "text": [
      "4590\t1     \t748        \t-0      \n",
      "4590\t2     \t748        \t-0      \n",
      "4590\t3     \t748        \t-0      \n",
      "4590\t4     \t735        \t-0      \n",
      "\n",
      "\n"
     ]
    },
    {
     "name": "stdout",
     "output_type": "stream",
     "text": [
      "4600\t1     \t735        \t-0      \n",
      "4600\t2     \t747        \t-0      \n",
      "4600\t3     \t748        \t-0      \n",
      "4600\t4     \t748        \t-0      \n",
      "\n",
      "\n"
     ]
    },
    {
     "name": "stdout",
     "output_type": "stream",
     "text": [
      "4610\t1     \t735        \t-0      \n",
      "4610\t2     \t735        \t-0      \n",
      "4610\t3     \t747        \t-0      \n",
      "4610\t4     \t748        \t-0      \n",
      "\n",
      "\n"
     ]
    },
    {
     "name": "stdout",
     "output_type": "stream",
     "text": [
      "4620\t1     \t732        \t-0      \n",
      "4620\t2     \t732        \t-0      \n",
      "4620\t3     \t735        \t-0      \n",
      "4620\t4     \t747        \t-0      \n",
      "\n",
      "\n"
     ]
    },
    {
     "name": "stdout",
     "output_type": "stream",
     "text": [
      "4630\t1     \t732        \t-0      \n",
      "4630\t2     \t732        \t-0      \n",
      "4630\t3     \t732        \t-0      \n",
      "4630\t4     \t735        \t-0      \n",
      "\n",
      "\n"
     ]
    },
    {
     "name": "stdout",
     "output_type": "stream",
     "text": [
      "4640\t1     \t732        \t-0      \n",
      "4640\t2     \t732        \t-0      \n",
      "4640\t3     \t727        \t-0      \n",
      "4640\t4     \t732        \t-0      \n",
      "\n",
      "\n"
     ]
    },
    {
     "name": "stdout",
     "output_type": "stream",
     "text": [
      "4650\t1     \t732        \t-0      \n",
      "4650\t2     \t731        \t-0      \n",
      "4650\t3     \t732        \t-0      \n",
      "4650\t4     \t727        \t-0      \n",
      "\n",
      "\n"
     ]
    },
    {
     "name": "stdout",
     "output_type": "stream",
     "text": [
      "4660\t1     \t732        \t-0      \n",
      "4660\t2     \t731        \t-0      \n",
      "4660\t3     \t731        \t-0      \n",
      "4660\t4     \t727        \t-0      \n",
      "\n",
      "\n"
     ]
    },
    {
     "name": "stdout",
     "output_type": "stream",
     "text": [
      "4670\t1     \t727        \t-0      \n",
      "4670\t2     \t732        \t-0      \n",
      "4670\t3     \t731        \t-0      \n",
      "4670\t4     \t727        \t-0      \n",
      "\n",
      "\n"
     ]
    },
    {
     "name": "stdout",
     "output_type": "stream",
     "text": [
      "4680\t1     \t725        \t-0      \n",
      "4680\t2     \t725        \t0.217738\n",
      "4680\t3     \t731        \t-0      \n",
      "4680\t4     \t727        \t-0      \n",
      "\n",
      "\n"
     ]
    },
    {
     "name": "stdout",
     "output_type": "stream",
     "text": [
      "4690\t1     \t727        \t-0      \n",
      "4690\t2     \t725        \t-0      \n",
      "4690\t3     \t731        \t-0      \n",
      "4690\t4     \t727        \t-0      \n",
      "\n",
      "\n"
     ]
    },
    {
     "name": "stdout",
     "output_type": "stream",
     "text": [
      "4700\t1     \t727        \t-0      \n",
      "4700\t2     \t725        \t-0      \n",
      "4700\t3     \t725        \t-0      \n",
      "4700\t4     \t727        \t-0      \n",
      "\n",
      "\n"
     ]
    },
    {
     "name": "stdout",
     "output_type": "stream",
     "text": [
      "4710\t1     \t727        \t-0      \n",
      "4710\t2     \t725        \t-0      \n",
      "4710\t3     \t725        \t-0      \n",
      "4710\t4     \t725        \t-0      \n",
      "\n",
      "\n"
     ]
    },
    {
     "name": "stdout",
     "output_type": "stream",
     "text": [
      "4720\t1     \t725        \t-0      \n",
      "4720\t2     \t724        \t-0      \n",
      "4720\t3     \t725        \t-0      \n",
      "4720\t4     \t725        \t-0      \n",
      "\n",
      "\n"
     ]
    },
    {
     "name": "stdout",
     "output_type": "stream",
     "text": [
      "4730\t1     \t725        \t-0      \n",
      "4730\t2     \t724        \t-0      \n",
      "4730\t3     \t724        \t-0      \n",
      "4730\t4     \t725        \t-0      \n",
      "\n",
      "\n"
     ]
    },
    {
     "name": "stdout",
     "output_type": "stream",
     "text": [
      "4740\t1     \t724        \t-0      \n",
      "4740\t2     \t720        \t-0      \n",
      "4740\t3     \t721        \t-0      \n",
      "4740\t4     \t724        \t-0      \n",
      "\n",
      "\n"
     ]
    },
    {
     "name": "stdout",
     "output_type": "stream",
     "text": [
      "4750\t1     \t715        \t-0      \n",
      "4750\t2     \t720        \t-0      \n",
      "4750\t3     \t720        \t-0      \n",
      "4750\t4     \t724        \t-0      \n",
      "\n",
      "\n"
     ]
    },
    {
     "name": "stdout",
     "output_type": "stream",
     "text": [
      "4760\t1     \t715        \t-0      \n",
      "4760\t2     \t715        \t-0      \n",
      "4760\t3     \t715        \t-0      \n",
      "4760\t4     \t720        \t-0      \n",
      "\n",
      "\n"
     ]
    },
    {
     "name": "stdout",
     "output_type": "stream",
     "text": [
      "4770\t1     \t715        \t-0      \n",
      "4770\t2     \t715        \t-0      \n",
      "4770\t3     \t715        \t-0      \n",
      "4770\t4     \t715        \t-0      \n",
      "\n",
      "\n"
     ]
    },
    {
     "name": "stdout",
     "output_type": "stream",
     "text": [
      "4780\t1     \t714        \t-0      \n",
      "4780\t2     \t715        \t-0      \n",
      "4780\t3     \t715        \t-0      \n",
      "4780\t4     \t715        \t-0      \n",
      "\n",
      "\n"
     ]
    },
    {
     "name": "stdout",
     "output_type": "stream",
     "text": [
      "4790\t1     \t713        \t0.211688\n",
      "4790\t2     \t714        \t-0      \n",
      "4790\t3     \t714        \t-0      \n",
      "4790\t4     \t715        \t-0      \n",
      "\n",
      "\n"
     ]
    },
    {
     "name": "stdout",
     "output_type": "stream",
     "text": [
      "4800\t1     \t715        \t-0      \n",
      "4800\t2     \t714        \t-0      \n",
      "4800\t3     \t714        \t-0      \n",
      "4800\t4     \t714        \t-0      \n",
      "\n",
      "\n"
     ]
    },
    {
     "name": "stdout",
     "output_type": "stream",
     "text": [
      "4810\t1     \t714        \t-0      \n",
      "4810\t2     \t714        \t-0      \n",
      "4810\t3     \t714        \t-0      \n",
      "4810\t4     \t714        \t-0      \n",
      "\n",
      "\n"
     ]
    },
    {
     "name": "stdout",
     "output_type": "stream",
     "text": [
      "4820\t1     \t714        \t-0      \n",
      "4820\t2     \t713        \t-0      \n",
      "4820\t3     \t706        \t0.222829\n",
      "4820\t4     \t714        \t-0      \n",
      "\n",
      "\n"
     ]
    },
    {
     "name": "stdout",
     "output_type": "stream",
     "text": [
      "4830\t1     \t714        \t-0      \n",
      "4830\t2     \t709        \t0.21243 \n",
      "4830\t3     \t713        \t-0      \n",
      "4830\t4     \t713        \t-0      \n",
      "\n",
      "\n"
     ]
    },
    {
     "name": "stdout",
     "output_type": "stream",
     "text": [
      "4840\t1     \t713        \t-0      \n",
      "4840\t2     \t714        \t-0      \n",
      "4840\t3     \t713        \t-0      \n",
      "4840\t4     \t702        \t0.222298\n",
      "\n",
      "\n"
     ]
    },
    {
     "name": "stdout",
     "output_type": "stream",
     "text": [
      "4850\t1     \t712        \t-0      \n",
      "4850\t2     \t713        \t-0      \n",
      "4850\t3     \t713        \t-0      \n",
      "4850\t4     \t713        \t-0      \n",
      "\n",
      "\n"
     ]
    },
    {
     "name": "stdout",
     "output_type": "stream",
     "text": [
      "4860\t1     \t709        \t0.214824\n",
      "4860\t2     \t712        \t-0      \n",
      "4860\t3     \t713        \t-0      \n",
      "4860\t4     \t713        \t-0      \n",
      "\n",
      "\n"
     ]
    },
    {
     "name": "stdout",
     "output_type": "stream",
     "text": [
      "4870\t1     \t712        \t-0      \n",
      "4870\t2     \t705        \t0.217014\n",
      "4870\t3     \t712        \t-0      \n",
      "4870\t4     \t756        \t0.235766\n",
      "\n",
      "\n"
     ]
    },
    {
     "name": "stdout",
     "output_type": "stream",
     "text": [
      "4880\t1     \t705        \t0.215249\n",
      "4880\t2     \t712        \t-0      \n",
      "4880\t3     \t777        \t-0      \n",
      "4880\t4     \t712        \t-0      \n",
      "\n",
      "\n"
     ]
    },
    {
     "name": "stdout",
     "output_type": "stream",
     "text": [
      "4890\t1     \t712        \t-0      \n",
      "4890\t2     \t712        \t-0      \n",
      "4890\t3     \t706        \t0.214936\n",
      "4890\t4     \t709        \t-0      \n",
      "\n",
      "\n"
     ]
    },
    {
     "name": "stdout",
     "output_type": "stream",
     "text": [
      "4900\t1     \t709        \t-0      \n",
      "4900\t2     \t712        \t-0      \n",
      "4900\t3     \t767        \t0.215568\n",
      "4900\t4     \t783        \t0.212435\n",
      "\n",
      "\n"
     ]
    },
    {
     "name": "stdout",
     "output_type": "stream",
     "text": [
      "4910\t1     \t709        \t-0      \n",
      "4910\t2     \t709        \t-0      \n",
      "4910\t3     \t712        \t-0      \n",
      "4910\t4     \t836        \t0.215558\n",
      "\n",
      "\n"
     ]
    },
    {
     "name": "stdout",
     "output_type": "stream",
     "text": [
      "4920\t1     \t708        \t-0      \n",
      "4920\t2     \t709        \t-0      \n",
      "4920\t3     \t712        \t-0      \n",
      "4920\t4     \t750        \t0.228361\n",
      "\n",
      "\n"
     ]
    },
    {
     "name": "stdout",
     "output_type": "stream",
     "text": [
      "4930\t1     \t708        \t-0      \n",
      "4930\t2     \t708        \t-0      \n",
      "4930\t3     \t709        \t-0      \n",
      "4930\t4     \t712        \t-0      \n",
      "\n",
      "\n"
     ]
    },
    {
     "name": "stdout",
     "output_type": "stream",
     "text": [
      "4940\t1     \t708        \t-0      \n",
      "4940\t2     \t708        \t-0      \n",
      "4940\t3     \t708        \t-0      \n",
      "4940\t4     \t709        \t-0      \n",
      "\n",
      "\n"
     ]
    },
    {
     "name": "stdout",
     "output_type": "stream",
     "text": [
      "4950\t1     \t707        \t-0      \n",
      "4950\t2     \t708        \t-0      \n",
      "4950\t3     \t708        \t-0      \n",
      "4950\t4     \t708        \t-0      \n",
      "\n",
      "\n"
     ]
    },
    {
     "name": "stdout",
     "output_type": "stream",
     "text": [
      "4960\t1     \t705        \t0.213372\n",
      "4960\t2     \t707        \t-0      \n",
      "4960\t3     \t707        \t-0      \n",
      "4960\t4     \t708        \t-0      \n",
      "\n",
      "\n"
     ]
    },
    {
     "name": "stdout",
     "output_type": "stream",
     "text": [
      "4970\t1     \t708        \t-0      \n",
      "4970\t2     \t707        \t-0      \n",
      "4970\t3     \t707        \t-0      \n",
      "4970\t4     \t707        \t-0      \n",
      "\n",
      "\n"
     ]
    },
    {
     "name": "stdout",
     "output_type": "stream",
     "text": [
      "4980\t1     \t707        \t-0      \n",
      "4980\t2     \t707        \t-0      \n",
      "4980\t3     \t707        \t-0      \n",
      "4980\t4     \t707        \t-0      \n",
      "\n",
      "\n"
     ]
    },
    {
     "name": "stdout",
     "output_type": "stream",
     "text": [
      "4990\t1     \t706        \t-0      \n",
      "4990\t2     \t703        \t-0      \n",
      "4990\t3     \t707        \t-0      \n",
      "4990\t4     \t707        \t-0      \n",
      "\n",
      "\n"
     ]
    },
    {
     "name": "stdout",
     "output_type": "stream",
     "text": [
      "5000\t1     \t706        \t-0      \n",
      "5000\t2     \t700        \t0.215561\n",
      "5000\t3     \t703        \t-0      \n",
      "5000\t4     \t707        \t-0      \n",
      "\n",
      "\n"
     ]
    },
    {
     "name": "stdout",
     "output_type": "stream",
     "text": [
      "5010\t1     \t706        \t-0      \n",
      "5010\t2     \t706        \t-0      \n",
      "5010\t3     \t703        \t-0      \n",
      "5010\t4     \t703        \t-0      \n",
      "\n",
      "\n"
     ]
    },
    {
     "name": "stdout",
     "output_type": "stream",
     "text": [
      "5020\t1     \t703        \t-0      \n",
      "5020\t2     \t706        \t-0      \n",
      "5020\t3     \t702        \t-0      \n",
      "5020\t4     \t703        \t-0      \n",
      "\n",
      "\n"
     ]
    },
    {
     "name": "stdout",
     "output_type": "stream",
     "text": [
      "5030\t1     \t703        \t-0      \n",
      "5030\t2     \t703        \t-0      \n",
      "5030\t3     \t700        \t0.210772\n",
      "5030\t4     \t702        \t-0      \n",
      "\n",
      "\n"
     ]
    },
    {
     "name": "stdout",
     "output_type": "stream",
     "text": [
      "5040\t1     \t701        \t-0      \n",
      "5040\t2     \t702        \t-0      \n",
      "5040\t3     \t703        \t-0      \n",
      "5040\t4     \t702        \t-0      \n",
      "\n",
      "\n"
     ]
    },
    {
     "name": "stdout",
     "output_type": "stream",
     "text": [
      "5050\t1     \t699        \t0.213579\n",
      "5050\t2     \t701        \t-0      \n",
      "5050\t3     \t703        \t-0      \n",
      "5050\t4     \t702        \t-0      \n",
      "\n",
      "\n"
     ]
    },
    {
     "name": "stdout",
     "output_type": "stream",
     "text": [
      "5060\t1     \t702        \t-0      \n",
      "5060\t2     \t692        \t0.217744\n",
      "5060\t3     \t701        \t-0      \n",
      "5060\t4     \t701        \t-0      \n",
      "\n",
      "\n"
     ]
    },
    {
     "name": "stdout",
     "output_type": "stream",
     "text": [
      "5070\t1     \t701        \t-0      \n",
      "5070\t2     \t701        \t-0      \n",
      "5070\t3     \t701        \t-0      \n",
      "5070\t4     \t701        \t-0      \n",
      "\n",
      "\n"
     ]
    },
    {
     "name": "stdout",
     "output_type": "stream",
     "text": [
      "5080\t1     \t700        \t-0      \n",
      "5080\t2     \t701        \t-0      \n",
      "5080\t3     \t700        \t-0      \n",
      "5080\t4     \t701        \t-0      \n",
      "\n",
      "\n"
     ]
    },
    {
     "name": "stdout",
     "output_type": "stream",
     "text": [
      "5090\t1     \t700        \t-0      \n",
      "5090\t2     \t701        \t-0      \n",
      "5090\t3     \t700        \t-0      \n",
      "5090\t4     \t700        \t-0      \n",
      "\n",
      "\n"
     ]
    },
    {
     "name": "stdout",
     "output_type": "stream",
     "text": [
      "5100\t1     \t698        \t-0      \n",
      "5100\t2     \t700        \t-0      \n",
      "5100\t3     \t699        \t-0      \n",
      "5100\t4     \t700        \t-0      \n",
      "\n",
      "\n"
     ]
    },
    {
     "name": "stdout",
     "output_type": "stream",
     "text": [
      "5110\t1     \t700        \t-0      \n",
      "5110\t2     \t698        \t-0      \n",
      "5110\t3     \t697        \t0.213379\n",
      "5110\t4     \t699        \t-0      \n",
      "\n",
      "\n"
     ]
    },
    {
     "name": "stdout",
     "output_type": "stream",
     "text": [
      "5120\t1     \t699        \t-0      \n",
      "5120\t2     \t700        \t-0      \n",
      "5120\t3     \t698        \t-0      \n",
      "5120\t4     \t699        \t-0      \n",
      "\n",
      "\n"
     ]
    },
    {
     "name": "stdout",
     "output_type": "stream",
     "text": [
      "5130\t1     \t698        \t-0      \n",
      "5130\t2     \t698        \t-0      \n",
      "5130\t3     \t698        \t-0      \n",
      "5130\t4     \t698        \t-0      \n",
      "\n",
      "\n"
     ]
    },
    {
     "name": "stdout",
     "output_type": "stream",
     "text": [
      "5140\t1     \t689        \t0.227226\n",
      "5140\t2     \t698        \t-0      \n",
      "5140\t3     \t698        \t-0      \n",
      "5140\t4     \t698        \t-0      \n",
      "\n",
      "\n"
     ]
    },
    {
     "name": "stdout",
     "output_type": "stream",
     "text": [
      "5150\t1     \t686        \t0.232401\n",
      "5150\t2     \t698        \t-0      \n",
      "5150\t3     \t698        \t-0      \n",
      "5150\t4     \t696        \t-0      \n",
      "\n",
      "\n"
     ]
    },
    {
     "name": "stdout",
     "output_type": "stream",
     "text": [
      "5160\t1     \t696        \t-0      \n",
      "5160\t2     \t698        \t-0      \n",
      "5160\t3     \t697        \t-0      \n",
      "5160\t4     \t698        \t-0      \n",
      "\n",
      "\n"
     ]
    },
    {
     "name": "stdout",
     "output_type": "stream",
     "text": [
      "5170\t1     \t696        \t-0      \n",
      "5170\t2     \t696        \t-0      \n",
      "5170\t3     \t696        \t0.212022\n",
      "5170\t4     \t697        \t-0      \n",
      "\n",
      "\n"
     ]
    },
    {
     "name": "stdout",
     "output_type": "stream",
     "text": [
      "5180\t1     \t696        \t-0      \n",
      "5180\t2     \t696        \t-0      \n",
      "5180\t3     \t769        \t-0      \n",
      "5180\t4     \t697        \t-0      \n",
      "\n",
      "\n"
     ]
    },
    {
     "name": "stdout",
     "output_type": "stream",
     "text": [
      "5190\t1     \t696        \t-0      \n",
      "5190\t2     \t695        \t-0      \n",
      "5190\t3     \t696        \t-0      \n",
      "5190\t4     \t697        \t-0      \n",
      "\n",
      "\n"
     ]
    },
    {
     "name": "stdout",
     "output_type": "stream",
     "text": [
      "5200\t1     \t696        \t-0      \n",
      "5200\t2     \t696        \t-0      \n",
      "5200\t3     \t695        \t-0      \n",
      "5200\t4     \t697        \t-0      \n",
      "\n",
      "\n"
     ]
    },
    {
     "name": "stdout",
     "output_type": "stream",
     "text": [
      "5210\t1     \t696        \t-0      \n",
      "5210\t2     \t696        \t-0      \n",
      "5210\t3     \t695        \t-0      \n",
      "5210\t4     \t695        \t-0      \n",
      "\n",
      "\n"
     ]
    },
    {
     "name": "stdout",
     "output_type": "stream",
     "text": [
      "5220\t1     \t694        \t-0      \n",
      "5220\t2     \t696        \t-0      \n",
      "5220\t3     \t695        \t-0      \n",
      "5220\t4     \t695        \t-0      \n",
      "\n",
      "\n"
     ]
    },
    {
     "name": "stdout",
     "output_type": "stream",
     "text": [
      "5230\t1     \t695        \t-0      \n",
      "5230\t2     \t694        \t-0      \n",
      "5230\t3     \t694        \t-0      \n",
      "5230\t4     \t695        \t-0      \n",
      "\n",
      "\n"
     ]
    },
    {
     "name": "stdout",
     "output_type": "stream",
     "text": [
      "5240\t1     \t695        \t-0      \n",
      "5240\t2     \t694        \t-0      \n",
      "5240\t3     \t694        \t-0      \n",
      "5240\t4     \t694        \t-0      \n",
      "\n",
      "\n"
     ]
    },
    {
     "name": "stdout",
     "output_type": "stream",
     "text": [
      "5250\t1     \t695        \t-0      \n",
      "5250\t2     \t694        \t-0      \n",
      "5250\t3     \t694        \t-0      \n",
      "5250\t4     \t694        \t-0      \n",
      "\n",
      "\n"
     ]
    },
    {
     "name": "stdout",
     "output_type": "stream",
     "text": [
      "5260\t1     \t695        \t-0      \n",
      "5260\t2     \t694        \t-0      \n",
      "5260\t3     \t694        \t-0      \n",
      "5260\t4     \t694        \t-0      \n",
      "\n",
      "\n"
     ]
    },
    {
     "name": "stdout",
     "output_type": "stream",
     "text": [
      "5270\t1     \t694        \t-0      \n",
      "5270\t2     \t694        \t-0      \n",
      "5270\t3     \t694        \t-0      \n",
      "5270\t4     \t694        \t-0      \n",
      "\n",
      "\n"
     ]
    },
    {
     "name": "stdout",
     "output_type": "stream",
     "text": [
      "5280\t1     \t694        \t-0      \n",
      "5280\t2     \t694        \t-0      \n",
      "5280\t3     \t694        \t-0      \n",
      "5280\t4     \t694        \t-0      \n",
      "\n",
      "\n"
     ]
    },
    {
     "name": "stdout",
     "output_type": "stream",
     "text": [
      "5290\t1     \t693        \t-0      \n",
      "5290\t2     \t694        \t-0      \n",
      "5290\t3     \t694        \t-0      \n",
      "5290\t4     \t694        \t-0      \n",
      "\n",
      "\n"
     ]
    },
    {
     "name": "stdout",
     "output_type": "stream",
     "text": [
      "5300\t1     \t694        \t-0      \n",
      "5300\t2     \t693        \t-0      \n",
      "5300\t3     \t694        \t-0      \n",
      "5300\t4     \t694        \t-0      \n",
      "\n",
      "\n"
     ]
    },
    {
     "name": "stdout",
     "output_type": "stream",
     "text": [
      "5310\t1     \t694        \t-0      \n",
      "5310\t2     \t693        \t-0      \n",
      "5310\t3     \t693        \t-0      \n",
      "5310\t4     \t694        \t-0      \n",
      "\n",
      "\n"
     ]
    },
    {
     "name": "stdout",
     "output_type": "stream",
     "text": [
      "5320\t1     \t694        \t-0      \n",
      "5320\t2     \t693        \t-0      \n",
      "5320\t3     \t689        \t-0      \n",
      "5320\t4     \t693        \t-0      \n",
      "\n",
      "\n"
     ]
    },
    {
     "name": "stdout",
     "output_type": "stream",
     "text": [
      "5330\t1     \t694        \t-0      \n",
      "5330\t2     \t693        \t-0      \n",
      "5330\t3     \t693        \t-0      \n",
      "5330\t4     \t689        \t-0      \n",
      "\n",
      "\n"
     ]
    },
    {
     "name": "stdout",
     "output_type": "stream",
     "text": [
      "5340\t1     \t694        \t-0      \n",
      "5340\t2     \t693        \t-0      \n",
      "5340\t3     \t693        \t-0      \n",
      "5340\t4     \t689        \t-0      \n",
      "\n",
      "\n"
     ]
    },
    {
     "name": "stdout",
     "output_type": "stream",
     "text": [
      "5350\t1     \t689        \t-0      \n",
      "5350\t2     \t693        \t-0      \n",
      "5350\t3     \t691        \t-0      \n",
      "5350\t4     \t689        \t-0      \n",
      "\n",
      "\n"
     ]
    },
    {
     "name": "stdout",
     "output_type": "stream",
     "text": [
      "5360\t1     \t689        \t-0      \n",
      "5360\t2     \t689        \t-0      \n",
      "5360\t3     \t693        \t-0      \n",
      "5360\t4     \t687        \t-0      \n",
      "\n",
      "\n"
     ]
    },
    {
     "name": "stdout",
     "output_type": "stream",
     "text": [
      "5370\t1     \t687        \t-0      \n",
      "5370\t2     \t689        \t-0      \n",
      "5370\t3     \t689        \t-0      \n",
      "5370\t4     \t687        \t-0      \n",
      "\n",
      "\n"
     ]
    },
    {
     "name": "stdout",
     "output_type": "stream",
     "text": [
      "5380\t1     \t663        \t0.238382\n",
      "5380\t2     \t687        \t-0      \n",
      "5380\t3     \t689        \t-0      \n",
      "5380\t4     \t687        \t-0      \n",
      "\n",
      "\n"
     ]
    },
    {
     "name": "stdout",
     "output_type": "stream",
     "text": [
      "5390\t1     \t687        \t-0      \n",
      "5390\t2     \t663        \t0.238382\n",
      "5390\t3     \t687        \t-0      \n",
      "5390\t4     \t686        \t-0      \n",
      "\n",
      "\n"
     ]
    },
    {
     "name": "stdout",
     "output_type": "stream",
     "text": [
      "5400\t1     \t687        \t-0      \n",
      "5400\t2     \t687        \t-0      \n",
      "5400\t3     \t730        \t0.227851\n",
      "5400\t4     \t685        \t-0      \n",
      "\n",
      "\n"
     ]
    },
    {
     "name": "stdout",
     "output_type": "stream",
     "text": [
      "5410\t1     \t685        \t-0      \n",
      "5410\t2     \t687        \t-0      \n",
      "5410\t3     \t687        \t-0      \n",
      "5410\t4     \t683        \t0.214823\n",
      "\n",
      "\n"
     ]
    },
    {
     "name": "stdout",
     "output_type": "stream",
     "text": [
      "5420\t1     \t685        \t-0      \n",
      "5420\t2     \t685        \t-0      \n",
      "5420\t3     \t687        \t-0      \n",
      "5420\t4     \t687        \t-0      \n",
      "\n",
      "\n"
     ]
    },
    {
     "name": "stdout",
     "output_type": "stream",
     "text": [
      "5430\t1     \t685        \t-0      \n",
      "5430\t2     \t685        \t-0      \n",
      "5430\t3     \t684        \t-0      \n",
      "5430\t4     \t686        \t-0      \n",
      "\n",
      "\n"
     ]
    },
    {
     "name": "stdout",
     "output_type": "stream",
     "text": [
      "5440\t1     \t685        \t-0      \n",
      "5440\t2     \t685        \t-0      \n",
      "5440\t3     \t685        \t-0      \n",
      "5440\t4     \t684        \t-0      \n",
      "\n",
      "\n"
     ]
    },
    {
     "name": "stdout",
     "output_type": "stream",
     "text": [
      "5450\t1     \t683        \t-0      \n",
      "5450\t2     \t685        \t-0      \n",
      "5450\t3     \t685        \t-0      \n",
      "5450\t4     \t804        \t0.233029\n",
      "\n",
      "\n"
     ]
    },
    {
     "name": "stdout",
     "output_type": "stream",
     "text": [
      "5460\t1     \t683        \t-0      \n",
      "5460\t2     \t684        \t-0      \n",
      "5460\t3     \t685        \t-0      \n",
      "5460\t4     \t685        \t-0      \n",
      "\n",
      "\n"
     ]
    },
    {
     "name": "stdout",
     "output_type": "stream",
     "text": [
      "5470\t1     \t683        \t-0      \n",
      "5470\t2     \t683        \t-0      \n",
      "5470\t3     \t684        \t-0      \n",
      "5470\t4     \t685        \t-0      \n",
      "\n",
      "\n"
     ]
    },
    {
     "name": "stdout",
     "output_type": "stream",
     "text": [
      "5480\t1     \t683        \t-0      \n",
      "5480\t2     \t679        \t-0      \n",
      "5480\t3     \t683        \t-0      \n",
      "5480\t4     \t684        \t-0      \n",
      "\n",
      "\n"
     ]
    },
    {
     "name": "stdout",
     "output_type": "stream",
     "text": [
      "5490\t1     \t682        \t-0      \n",
      "5490\t2     \t679        \t-0      \n",
      "5490\t3     \t679        \t-0      \n",
      "5490\t4     \t683        \t-0      \n",
      "\n",
      "\n"
     ]
    },
    {
     "name": "stdout",
     "output_type": "stream",
     "text": [
      "5500\t1     \t683        \t-0      \n",
      "5500\t2     \t679        \t-0      \n",
      "5500\t3     \t673        \t0.222612\n",
      "5500\t4     \t679        \t-0      \n",
      "\n",
      "\n"
     ]
    },
    {
     "name": "stdout",
     "output_type": "stream",
     "text": [
      "5510\t1     \t679        \t-0      \n",
      "5510\t2     \t679        \t-0      \n",
      "5510\t3     \t679        \t-0      \n",
      "5510\t4     \t735        \t0.217945\n",
      "\n",
      "\n"
     ]
    },
    {
     "name": "stdout",
     "output_type": "stream",
     "text": [
      "5520\t1     \t679        \t-0      \n",
      "5520\t2     \t679        \t-0      \n",
      "5520\t3     \t679        \t-0      \n",
      "5520\t4     \t679        \t-0      \n",
      "\n",
      "\n"
     ]
    },
    {
     "name": "stdout",
     "output_type": "stream",
     "text": [
      "5530\t1     \t679        \t-0      \n",
      "5530\t2     \t679        \t-0      \n",
      "5530\t3     \t679        \t-0      \n",
      "5530\t4     \t679        \t-0      \n",
      "\n",
      "\n"
     ]
    },
    {
     "name": "stdout",
     "output_type": "stream",
     "text": [
      "5540\t1     \t679        \t-0      \n",
      "5540\t2     \t679        \t-0      \n",
      "5540\t3     \t679        \t-0      \n",
      "5540\t4     \t679        \t-0      \n",
      "\n",
      "\n"
     ]
    },
    {
     "name": "stdout",
     "output_type": "stream",
     "text": [
      "5550\t1     \t679        \t-0      \n",
      "5550\t2     \t678        \t-0      \n",
      "5550\t3     \t679        \t-0      \n",
      "5550\t4     \t679        \t-0      \n",
      "\n",
      "\n"
     ]
    },
    {
     "name": "stdout",
     "output_type": "stream",
     "text": [
      "5560\t1     \t678        \t-0      \n",
      "5560\t2     \t678        \t-0      \n",
      "5560\t3     \t678        \t-0      \n",
      "5560\t4     \t678        \t-0      \n",
      "\n",
      "\n"
     ]
    },
    {
     "name": "stdout",
     "output_type": "stream",
     "text": [
      "5570\t1     \t678        \t-0      \n",
      "5570\t2     \t677        \t-0      \n",
      "5570\t3     \t678        \t-0      \n",
      "5570\t4     \t678        \t-0      \n",
      "\n",
      "\n"
     ]
    },
    {
     "name": "stdout",
     "output_type": "stream",
     "text": [
      "5580\t1     \t678        \t-0      \n",
      "5580\t2     \t677        \t-0      \n",
      "5580\t3     \t677        \t-0      \n",
      "5580\t4     \t678        \t-0      \n",
      "\n",
      "\n"
     ]
    },
    {
     "name": "stdout",
     "output_type": "stream",
     "text": [
      "5590\t1     \t678        \t-0      \n",
      "5590\t2     \t678        \t-0      \n",
      "5590\t3     \t677        \t-0      \n",
      "5590\t4     \t677        \t-0      \n",
      "\n",
      "\n"
     ]
    },
    {
     "name": "stdout",
     "output_type": "stream",
     "text": [
      "5600\t1     \t677        \t-0      \n",
      "5600\t2     \t678        \t-0      \n",
      "5600\t3     \t677        \t-0      \n",
      "5600\t4     \t672        \t0.21837 \n",
      "\n",
      "\n"
     ]
    },
    {
     "name": "stdout",
     "output_type": "stream",
     "text": [
      "5610\t1     \t671        \t0.214201\n",
      "5610\t2     \t677        \t-0      \n",
      "5610\t3     \t677        \t-0      \n",
      "5610\t4     \t744        \t0.217118\n",
      "\n",
      "\n"
     ]
    },
    {
     "name": "stdout",
     "output_type": "stream",
     "text": [
      "5620\t1     \t671        \t0.214201\n",
      "5620\t2     \t677        \t-0      \n",
      "5620\t3     \t676        \t-0      \n",
      "5620\t4     \t744        \t0.218374\n",
      "\n",
      "\n"
     ]
    },
    {
     "name": "stdout",
     "output_type": "stream",
     "text": [
      "5630\t1     \t659        \t0.227849\n",
      "5630\t2     \t677        \t-0      \n",
      "5630\t3     \t676        \t-0      \n",
      "5630\t4     \t819        \t-0      \n",
      "\n",
      "\n"
     ]
    },
    {
     "name": "stdout",
     "output_type": "stream",
     "text": [
      "5640\t1     \t735        \t0.223795\n",
      "5640\t2     \t677        \t-0      \n",
      "5640\t3     \t676        \t-0      \n",
      "5640\t4     \t676        \t-0      \n",
      "\n",
      "\n"
     ]
    },
    {
     "name": "stdout",
     "output_type": "stream",
     "text": [
      "5650\t1     \t676        \t-0      \n",
      "5650\t2     \t677        \t-0      \n",
      "5650\t3     \t676        \t-0      \n",
      "5650\t4     \t676        \t-0      \n",
      "\n",
      "\n"
     ]
    },
    {
     "name": "stdout",
     "output_type": "stream",
     "text": [
      "5660\t1     \t676        \t-0      \n",
      "5660\t2     \t677        \t-0      \n",
      "5660\t3     \t676        \t-0      \n",
      "5660\t4     \t676        \t-0      \n",
      "\n",
      "\n"
     ]
    },
    {
     "name": "stdout",
     "output_type": "stream",
     "text": [
      "5670\t1     \t676        \t-0      \n",
      "5670\t2     \t676        \t-0      \n",
      "5670\t3     \t676        \t-0      \n",
      "5670\t4     \t675        \t-0      \n",
      "\n",
      "\n"
     ]
    },
    {
     "name": "stdout",
     "output_type": "stream",
     "text": [
      "5680\t1     \t675        \t-0      \n",
      "5680\t2     \t676        \t-0      \n",
      "5680\t3     \t675        \t-0      \n",
      "5680\t4     \t675        \t-0      \n",
      "\n",
      "\n"
     ]
    },
    {
     "name": "stdout",
     "output_type": "stream",
     "text": [
      "5690\t1     \t672        \t-0      \n",
      "5690\t2     \t675        \t-0      \n",
      "5690\t3     \t669        \t0.214831\n",
      "5690\t4     \t675        \t-0      \n",
      "\n",
      "\n"
     ]
    },
    {
     "name": "stdout",
     "output_type": "stream",
     "text": [
      "5700\t1     \t675        \t-0      \n",
      "5700\t2     \t672        \t-0      \n",
      "5700\t3     \t675        \t-0      \n",
      "5700\t4     \t675        \t-0      \n",
      "\n",
      "\n"
     ]
    },
    {
     "name": "stdout",
     "output_type": "stream",
     "text": [
      "5710\t1     \t675        \t-0      \n",
      "5710\t2     \t672        \t-0      \n",
      "5710\t3     \t672        \t-0      \n",
      "5710\t4     \t675        \t-0      \n",
      "\n",
      "\n"
     ]
    },
    {
     "name": "stdout",
     "output_type": "stream",
     "text": [
      "5720\t1     \t674        \t-0      \n",
      "5720\t2     \t672        \t-0      \n",
      "5720\t3     \t672        \t-0      \n",
      "5720\t4     \t672        \t-0      \n",
      "\n",
      "\n"
     ]
    },
    {
     "name": "stdout",
     "output_type": "stream",
     "text": [
      "5730\t1     \t672        \t-0      \n",
      "5730\t2     \t672        \t-0      \n",
      "5730\t3     \t672        \t-0      \n",
      "5730\t4     \t672        \t-0      \n",
      "\n",
      "\n"
     ]
    },
    {
     "name": "stdout",
     "output_type": "stream",
     "text": [
      "5740\t1     \t665        \t0.22483 \n",
      "5740\t2     \t672        \t-0      \n",
      "5740\t3     \t672        \t-0      \n",
      "5740\t4     \t672        \t-0      \n",
      "\n",
      "\n"
     ]
    },
    {
     "name": "stdout",
     "output_type": "stream",
     "text": [
      "5750\t1     \t672        \t-0      \n",
      "5750\t2     \t671        \t-0      \n",
      "5750\t3     \t670        \t-0      \n",
      "5750\t4     \t672        \t-0      \n",
      "\n",
      "\n"
     ]
    },
    {
     "name": "stdout",
     "output_type": "stream",
     "text": [
      "5760\t1     \t672        \t-0      \n",
      "5760\t2     \t666        \t0.216088\n",
      "5760\t3     \t670        \t-0      \n",
      "5760\t4     \t670        \t-0      \n",
      "\n",
      "\n"
     ]
    },
    {
     "name": "stdout",
     "output_type": "stream",
     "text": [
      "5770\t1     \t670        \t-0      \n",
      "5770\t2     \t666        \t0.216088\n",
      "5770\t3     \t669        \t-0      \n",
      "5770\t4     \t670        \t-0      \n",
      "\n",
      "\n"
     ]
    },
    {
     "name": "stdout",
     "output_type": "stream",
     "text": [
      "5780\t1     \t669        \t-0      \n",
      "5780\t2     \t670        \t-0      \n",
      "5780\t3     \t669        \t-0      \n",
      "5780\t4     \t669        \t-0      \n",
      "\n",
      "\n"
     ]
    },
    {
     "name": "stdout",
     "output_type": "stream",
     "text": [
      "5790\t1     \t669        \t-0      \n",
      "5790\t2     \t669        \t-0      \n",
      "5790\t3     \t722        \t0.233131\n",
      "5790\t4     \t668        \t-0      \n",
      "\n",
      "\n"
     ]
    },
    {
     "name": "stdout",
     "output_type": "stream",
     "text": [
      "5800\t1     \t668        \t-0      \n",
      "5800\t2     \t669        \t-0      \n",
      "5800\t3     \t716        \t0.233969\n",
      "5800\t4     \t667        \t-0      \n",
      "\n",
      "\n"
     ]
    },
    {
     "name": "stdout",
     "output_type": "stream",
     "text": [
      "5810\t1     \t667        \t-0      \n",
      "5810\t2     \t668        \t-0      \n",
      "5810\t3     \t716        \t0.233969\n",
      "5810\t4     \t727        \t0.210769\n",
      "\n",
      "\n"
     ]
    },
    {
     "name": "stdout",
     "output_type": "stream",
     "text": [
      "5820\t1     \t667        \t-0      \n",
      "5820\t2     \t667        \t-0      \n",
      "5820\t3     \t668        \t-0      \n",
      "5820\t4     \t803        \t-0      \n",
      "\n",
      "\n"
     ]
    },
    {
     "name": "stdout",
     "output_type": "stream",
     "text": [
      "5830\t1     \t667        \t-0      \n",
      "5830\t2     \t667        \t-0      \n",
      "5830\t3     \t667        \t-0      \n",
      "5830\t4     \t726        \t-0      \n",
      "\n",
      "\n"
     ]
    },
    {
     "name": "stdout",
     "output_type": "stream",
     "text": [
      "5840\t1     \t667        \t-0      \n",
      "5840\t2     \t667        \t-0      \n",
      "5840\t3     \t665        \t-0      \n",
      "5840\t4     \t724        \t-0      \n",
      "\n",
      "\n"
     ]
    },
    {
     "name": "stdout",
     "output_type": "stream",
     "text": [
      "5850\t1     \t666        \t-0      \n",
      "5850\t2     \t667        \t-0      \n",
      "5850\t3     \t665        \t-0      \n",
      "5850\t4     \t665        \t-0      \n",
      "\n",
      "\n"
     ]
    },
    {
     "name": "stdout",
     "output_type": "stream",
     "text": [
      "5860\t1     \t665        \t-0      \n",
      "5860\t2     \t666        \t-0      \n",
      "5860\t3     \t665        \t-0      \n",
      "5860\t4     \t665        \t-0      \n",
      "\n",
      "\n"
     ]
    },
    {
     "name": "stdout",
     "output_type": "stream",
     "text": [
      "5870\t1     \t665        \t-0      \n",
      "5870\t2     \t665        \t-0      \n",
      "5870\t3     \t665        \t-0      \n",
      "5870\t4     \t665        \t-0      \n",
      "\n",
      "\n"
     ]
    },
    {
     "name": "stdout",
     "output_type": "stream",
     "text": [
      "5880\t1     \t664        \t-0      \n",
      "5880\t2     \t665        \t-0      \n",
      "5880\t3     \t665        \t-0      \n",
      "5880\t4     \t665        \t-0      \n",
      "\n",
      "\n"
     ]
    },
    {
     "name": "stdout",
     "output_type": "stream",
     "text": [
      "5890\t1     \t664        \t-0      \n",
      "5890\t2     \t664        \t-0      \n",
      "5890\t3     \t665        \t-0      \n",
      "5890\t4     \t665        \t-0      \n",
      "\n",
      "\n"
     ]
    },
    {
     "name": "stdout",
     "output_type": "stream",
     "text": [
      "5900\t1     \t662        \t-0      \n",
      "5900\t2     \t664        \t-0      \n",
      "5900\t3     \t664        \t-0      \n",
      "5900\t4     \t665        \t-0      \n",
      "\n",
      "\n"
     ]
    },
    {
     "name": "stdout",
     "output_type": "stream",
     "text": [
      "5910\t1     \t662        \t-0      \n",
      "5910\t2     \t662        \t-0      \n",
      "5910\t3     \t664        \t-0      \n",
      "5910\t4     \t664        \t-0      \n",
      "\n",
      "\n"
     ]
    },
    {
     "name": "stdout",
     "output_type": "stream",
     "text": [
      "5920\t1     \t664        \t-0      \n",
      "5920\t2     \t662        \t-0      \n",
      "5920\t3     \t662        \t-0      \n",
      "5920\t4     \t664        \t-0      \n",
      "\n",
      "\n"
     ]
    },
    {
     "name": "stdout",
     "output_type": "stream",
     "text": [
      "5930\t1     \t664        \t-0      \n",
      "5930\t2     \t662        \t-0      \n",
      "5930\t3     \t662        \t-0      \n",
      "5930\t4     \t662        \t-0      \n",
      "\n",
      "\n"
     ]
    },
    {
     "name": "stdout",
     "output_type": "stream",
     "text": [
      "5940\t1     \t662        \t-0      \n",
      "5940\t2     \t660        \t-0      \n",
      "5940\t3     \t662        \t-0      \n",
      "5940\t4     \t662        \t-0      \n",
      "\n",
      "\n"
     ]
    },
    {
     "name": "stdout",
     "output_type": "stream",
     "text": [
      "5950\t1     \t662        \t-0      \n",
      "5950\t2     \t662        \t-0      \n",
      "5950\t3     \t660        \t-0      \n",
      "5950\t4     \t662        \t-0      \n",
      "\n",
      "\n"
     ]
    },
    {
     "name": "stdout",
     "output_type": "stream",
     "text": [
      "5960\t1     \t662        \t-0      \n",
      "5960\t2     \t662        \t-0      \n",
      "5960\t3     \t660        \t-0      \n",
      "5960\t4     \t660        \t-0      \n",
      "\n",
      "\n"
     ]
    },
    {
     "name": "stdout",
     "output_type": "stream",
     "text": [
      "5970\t1     \t659        \t-0      \n",
      "5970\t2     \t662        \t-0      \n",
      "5970\t3     \t660        \t-0      \n",
      "5970\t4     \t660        \t-0      \n",
      "\n",
      "\n"
     ]
    },
    {
     "name": "stdout",
     "output_type": "stream",
     "text": [
      "5980\t1     \t659        \t-0      \n",
      "5980\t2     \t659        \t-0      \n",
      "5980\t3     \t660        \t-0      \n",
      "5980\t4     \t660        \t-0      \n",
      "\n",
      "\n"
     ]
    },
    {
     "name": "stdout",
     "output_type": "stream",
     "text": [
      "5990\t1     \t660        \t-0      \n",
      "5990\t2     \t659        \t-0      \n",
      "5990\t3     \t659        \t-0      \n",
      "5990\t4     \t660        \t-0      \n",
      "\n",
      "\n"
     ]
    },
    {
     "name": "stdout",
     "output_type": "stream",
     "text": [
      "6000\t1     \t660        \t-0      \n",
      "6000\t2     \t659        \t-0      \n",
      "6000\t3     \t659        \t-0      \n",
      "6000\t4     \t659        \t-0      \n",
      "\n",
      "\n"
     ]
    },
    {
     "name": "stdout",
     "output_type": "stream",
     "text": [
      "6010\t1     \t659        \t-0      \n",
      "6010\t2     \t659        \t-0      \n",
      "6010\t3     \t659        \t-0      \n",
      "6010\t4     \t659        \t-0      \n",
      "\n",
      "\n"
     ]
    },
    {
     "name": "stdout",
     "output_type": "stream",
     "text": [
      "6020\t1     \t659        \t-0      \n",
      "6020\t2     \t659        \t-0      \n",
      "6020\t3     \t659        \t-0      \n",
      "6020\t4     \t659        \t-0      \n",
      "\n",
      "\n"
     ]
    },
    {
     "name": "stdout",
     "output_type": "stream",
     "text": [
      "6030\t1     \t659        \t-0      \n",
      "6030\t2     \t659        \t-0      \n",
      "6030\t3     \t659        \t-0      \n",
      "6030\t4     \t658        \t-0      \n",
      "\n",
      "\n"
     ]
    },
    {
     "name": "stdout",
     "output_type": "stream",
     "text": [
      "6040\t1     \t658        \t-0      \n",
      "6040\t2     \t659        \t-0      \n",
      "6040\t3     \t659        \t-0      \n",
      "6040\t4     \t658        \t-0      \n",
      "\n",
      "\n"
     ]
    },
    {
     "name": "stdout",
     "output_type": "stream",
     "text": [
      "6050\t1     \t658        \t-0      \n",
      "6050\t2     \t659        \t-0      \n",
      "6050\t3     \t659        \t-0      \n",
      "6050\t4     \t658        \t-0      \n",
      "\n",
      "\n"
     ]
    },
    {
     "name": "stdout",
     "output_type": "stream",
     "text": [
      "6060\t1     \t657        \t-0      \n",
      "6060\t2     \t658        \t-0      \n",
      "6060\t3     \t659        \t-0      \n",
      "6060\t4     \t658        \t-0      \n",
      "\n",
      "\n"
     ]
    },
    {
     "name": "stdout",
     "output_type": "stream",
     "text": [
      "6070\t1     \t657        \t-0      \n",
      "6070\t2     \t657        \t-0      \n",
      "6070\t3     \t658        \t-0      \n",
      "6070\t4     \t658        \t-0      \n",
      "\n",
      "\n"
     ]
    },
    {
     "name": "stdout",
     "output_type": "stream",
     "text": [
      "6080\t1     \t657        \t-0      \n",
      "6080\t2     \t657        \t-0      \n",
      "6080\t3     \t657        \t-0      \n",
      "6080\t4     \t658        \t-0      \n",
      "\n",
      "\n"
     ]
    },
    {
     "name": "stdout",
     "output_type": "stream",
     "text": [
      "6090\t1     \t657        \t-0      \n",
      "6090\t2     \t657        \t-0      \n",
      "6090\t3     \t657        \t-0      \n",
      "6090\t4     \t657        \t-0      \n",
      "\n",
      "\n"
     ]
    },
    {
     "name": "stdout",
     "output_type": "stream",
     "text": [
      "6100\t1     \t657        \t-0      \n",
      "6100\t2     \t657        \t-0      \n",
      "6100\t3     \t657        \t-0      \n",
      "6100\t4     \t657        \t-0      \n",
      "\n",
      "\n"
     ]
    },
    {
     "name": "stdout",
     "output_type": "stream",
     "text": [
      "6110\t1     \t657        \t-0      \n",
      "6110\t2     \t657        \t-0      \n",
      "6110\t3     \t657        \t-0      \n",
      "6110\t4     \t657        \t-0      \n",
      "\n",
      "\n"
     ]
    },
    {
     "name": "stdout",
     "output_type": "stream",
     "text": [
      "6120\t1     \t657        \t-0      \n",
      "6120\t2     \t657        \t-0      \n",
      "6120\t3     \t657        \t-0      \n",
      "6120\t4     \t657        \t-0      \n",
      "\n",
      "\n"
     ]
    },
    {
     "name": "stdout",
     "output_type": "stream",
     "text": [
      "6130\t1     \t657        \t-0      \n",
      "6130\t2     \t657        \t-0      \n",
      "6130\t3     \t657        \t-0      \n",
      "6130\t4     \t656        \t-0      \n",
      "\n",
      "\n"
     ]
    },
    {
     "name": "stdout",
     "output_type": "stream",
     "text": [
      "6140\t1     \t656        \t-0      \n",
      "6140\t2     \t656        \t-0      \n",
      "6140\t3     \t656        \t-0      \n",
      "6140\t4     \t657        \t-0      \n",
      "\n",
      "\n"
     ]
    },
    {
     "name": "stdout",
     "output_type": "stream",
     "text": [
      "6150\t1     \t656        \t-0      \n",
      "6150\t2     \t656        \t-0      \n",
      "6150\t3     \t656        \t-0      \n",
      "6150\t4     \t656        \t-0      \n",
      "\n",
      "\n"
     ]
    },
    {
     "name": "stdout",
     "output_type": "stream",
     "text": [
      "6160\t1     \t656        \t-0      \n",
      "6160\t2     \t656        \t-0      \n",
      "6160\t3     \t656        \t-0      \n",
      "6160\t4     \t656        \t-0      \n",
      "\n",
      "\n"
     ]
    },
    {
     "name": "stdout",
     "output_type": "stream",
     "text": [
      "6170\t1     \t656        \t-0      \n",
      "6170\t2     \t656        \t-0      \n",
      "6170\t3     \t656        \t-0      \n",
      "6170\t4     \t655        \t-0      \n",
      "\n",
      "\n"
     ]
    },
    {
     "name": "stdout",
     "output_type": "stream",
     "text": [
      "6180\t1     \t655        \t-0      \n",
      "6180\t2     \t656        \t-0      \n",
      "6180\t3     \t656        \t-0      \n",
      "6180\t4     \t656        \t-0      \n",
      "\n",
      "\n"
     ]
    },
    {
     "name": "stdout",
     "output_type": "stream",
     "text": [
      "6190\t1     \t655        \t-0      \n",
      "6190\t2     \t655        \t-0      \n",
      "6190\t3     \t655        \t-0      \n",
      "6190\t4     \t656        \t-0      \n",
      "\n",
      "\n"
     ]
    },
    {
     "name": "stdout",
     "output_type": "stream",
     "text": [
      "6200\t1     \t655        \t-0      \n",
      "6200\t2     \t655        \t-0      \n",
      "6200\t3     \t655        \t-0      \n",
      "6200\t4     \t655        \t-0      \n",
      "\n",
      "\n"
     ]
    },
    {
     "name": "stdout",
     "output_type": "stream",
     "text": [
      "6210\t1     \t655        \t-0      \n",
      "6210\t2     \t655        \t-0      \n",
      "6210\t3     \t655        \t-0      \n",
      "6210\t4     \t655        \t-0      \n",
      "\n",
      "\n"
     ]
    },
    {
     "name": "stdout",
     "output_type": "stream",
     "text": [
      "6220\t1     \t655        \t-0      \n",
      "6220\t2     \t655        \t-0      \n",
      "6220\t3     \t655        \t-0      \n",
      "6220\t4     \t654        \t-0      \n",
      "\n",
      "\n"
     ]
    },
    {
     "name": "stdout",
     "output_type": "stream",
     "text": [
      "6230\t1     \t654        \t-0      \n",
      "6230\t2     \t655        \t-0      \n",
      "6230\t3     \t654        \t-0      \n",
      "6230\t4     \t655        \t-0      \n",
      "\n",
      "\n"
     ]
    },
    {
     "name": "stdout",
     "output_type": "stream",
     "text": [
      "6240\t1     \t654        \t-0      \n",
      "6240\t2     \t654        \t-0      \n",
      "6240\t3     \t787        \t-0      \n",
      "6240\t4     \t654        \t-0      \n",
      "\n",
      "\n"
     ]
    },
    {
     "name": "stdout",
     "output_type": "stream",
     "text": [
      "6250\t1     \t654        \t-0      \n",
      "6250\t2     \t649        \t0.218792\n",
      "6250\t3     \t654        \t-0      \n",
      "6250\t4     \t654        \t-0      \n",
      "\n",
      "\n"
     ]
    },
    {
     "name": "stdout",
     "output_type": "stream",
     "text": [
      "6260\t1     \t654        \t-0      \n",
      "6260\t2     \t648        \t0.220239\n",
      "6260\t3     \t654        \t-0      \n",
      "6260\t4     \t654        \t-0      \n",
      "\n",
      "\n"
     ]
    },
    {
     "name": "stdout",
     "output_type": "stream",
     "text": [
      "6270\t1     \t654        \t-0      \n",
      "6270\t2     \t654        \t-0      \n",
      "6270\t3     \t654        \t-0      \n",
      "6270\t4     \t654        \t-0      \n",
      "\n",
      "\n"
     ]
    },
    {
     "name": "stdout",
     "output_type": "stream",
     "text": [
      "6280\t1     \t654        \t-0      \n",
      "6280\t2     \t654        \t-0      \n",
      "6280\t3     \t653        \t-0      \n",
      "6280\t4     \t654        \t-0      \n",
      "\n",
      "\n"
     ]
    },
    {
     "name": "stdout",
     "output_type": "stream",
     "text": [
      "6290\t1     \t654        \t-0      \n",
      "6290\t2     \t653        \t-0      \n",
      "6290\t3     \t653        \t-0      \n",
      "6290\t4     \t653        \t-0      \n",
      "\n",
      "\n"
     ]
    },
    {
     "name": "stdout",
     "output_type": "stream",
     "text": [
      "6300\t1     \t654        \t-0      \n",
      "6300\t2     \t653        \t-0      \n",
      "6300\t3     \t653        \t-0      \n",
      "6300\t4     \t653        \t-0      \n",
      "\n",
      "\n"
     ]
    },
    {
     "name": "stdout",
     "output_type": "stream",
     "text": [
      "6310\t1     \t653        \t-0      \n",
      "6310\t2     \t653        \t-0      \n",
      "6310\t3     \t653        \t-0      \n",
      "6310\t4     \t653        \t-0      \n",
      "\n",
      "\n"
     ]
    },
    {
     "name": "stdout",
     "output_type": "stream",
     "text": [
      "6320\t1     \t653        \t-0      \n",
      "6320\t2     \t653        \t-0      \n",
      "6320\t3     \t653        \t-0      \n",
      "6320\t4     \t653        \t-0      \n",
      "\n",
      "\n"
     ]
    },
    {
     "name": "stdout",
     "output_type": "stream",
     "text": [
      "6330\t1     \t653        \t-0      \n",
      "6330\t2     \t653        \t-0      \n",
      "6330\t3     \t653        \t-0      \n",
      "6330\t4     \t653        \t-0      \n",
      "\n",
      "\n"
     ]
    },
    {
     "name": "stdout",
     "output_type": "stream",
     "text": [
      "6340\t1     \t652        \t-0      \n",
      "6340\t2     \t653        \t-0      \n",
      "6340\t3     \t653        \t-0      \n",
      "6340\t4     \t653        \t-0      \n",
      "\n",
      "\n"
     ]
    },
    {
     "name": "stdout",
     "output_type": "stream",
     "text": [
      "6350\t1     \t652        \t-0      \n",
      "6350\t2     \t652        \t-0      \n",
      "6350\t3     \t653        \t-0      \n",
      "6350\t4     \t653        \t-0      \n",
      "\n",
      "\n"
     ]
    },
    {
     "name": "stdout",
     "output_type": "stream",
     "text": [
      "6360\t1     \t652        \t-0      \n",
      "6360\t2     \t652        \t-0      \n",
      "6360\t3     \t652        \t-0      \n",
      "6360\t4     \t653        \t-0      \n",
      "\n",
      "\n"
     ]
    },
    {
     "name": "stdout",
     "output_type": "stream",
     "text": [
      "6370\t1     \t652        \t-0      \n",
      "6370\t2     \t652        \t-0      \n",
      "6370\t3     \t652        \t-0      \n",
      "6370\t4     \t652        \t-0      \n",
      "\n",
      "\n"
     ]
    },
    {
     "name": "stdout",
     "output_type": "stream",
     "text": [
      "6380\t1     \t652        \t-0      \n",
      "6380\t2     \t652        \t-0      \n",
      "6380\t3     \t652        \t-0      \n",
      "6380\t4     \t652        \t-0      \n",
      "\n",
      "\n"
     ]
    },
    {
     "name": "stdout",
     "output_type": "stream",
     "text": [
      "6390\t1     \t652        \t-0      \n",
      "6390\t2     \t652        \t-0      \n",
      "6390\t3     \t652        \t-0      \n",
      "6390\t4     \t652        \t-0      \n",
      "\n",
      "\n"
     ]
    },
    {
     "name": "stdout",
     "output_type": "stream",
     "text": [
      "6400\t1     \t652        \t-0      \n",
      "6400\t2     \t652        \t-0      \n",
      "6400\t3     \t652        \t-0      \n",
      "6400\t4     \t652        \t-0      \n",
      "\n",
      "\n"
     ]
    },
    {
     "name": "stdout",
     "output_type": "stream",
     "text": [
      "6410\t1     \t652        \t-0      \n",
      "6410\t2     \t652        \t-0      \n",
      "6410\t3     \t652        \t-0      \n",
      "6410\t4     \t652        \t-0      \n",
      "\n",
      "\n"
     ]
    },
    {
     "name": "stdout",
     "output_type": "stream",
     "text": [
      "6420\t1     \t652        \t-0      \n",
      "6420\t2     \t652        \t-0      \n",
      "6420\t3     \t652        \t-0      \n",
      "6420\t4     \t652        \t-0      \n",
      "\n",
      "\n"
     ]
    },
    {
     "name": "stdout",
     "output_type": "stream",
     "text": [
      "6430\t1     \t652        \t-0      \n",
      "6430\t2     \t652        \t-0      \n",
      "6430\t3     \t652        \t-0      \n",
      "6430\t4     \t652        \t-0      \n",
      "\n",
      "\n"
     ]
    },
    {
     "name": "stdout",
     "output_type": "stream",
     "text": [
      "6440\t1     \t652        \t-0      \n",
      "6440\t2     \t652        \t-0      \n",
      "6440\t3     \t652        \t-0      \n",
      "6440\t4     \t652        \t-0      \n",
      "\n",
      "\n"
     ]
    },
    {
     "name": "stdout",
     "output_type": "stream",
     "text": [
      "6450\t1     \t652        \t-0      \n",
      "6450\t2     \t652        \t-0      \n",
      "6450\t3     \t652        \t-0      \n",
      "6450\t4     \t652        \t-0      \n",
      "\n",
      "\n"
     ]
    },
    {
     "name": "stdout",
     "output_type": "stream",
     "text": [
      "6460\t1     \t652        \t-0      \n",
      "6460\t2     \t652        \t-0      \n",
      "6460\t3     \t652        \t-0      \n",
      "6460\t4     \t652        \t-0      \n",
      "\n",
      "\n"
     ]
    },
    {
     "name": "stdout",
     "output_type": "stream",
     "text": [
      "6470\t1     \t652        \t-0      \n",
      "6470\t2     \t652        \t-0      \n",
      "6470\t3     \t652        \t-0      \n",
      "6470\t4     \t652        \t-0      \n",
      "\n",
      "\n"
     ]
    },
    {
     "name": "stdout",
     "output_type": "stream",
     "text": [
      "6480\t1     \t652        \t-0      \n",
      "6480\t2     \t652        \t-0      \n",
      "6480\t3     \t652        \t-0      \n",
      "6480\t4     \t652        \t-0      \n",
      "\n",
      "\n"
     ]
    },
    {
     "name": "stdout",
     "output_type": "stream",
     "text": [
      "6490\t1     \t652        \t-0      \n",
      "6490\t2     \t652        \t-0      \n",
      "6490\t3     \t652        \t-0      \n",
      "6490\t4     \t652        \t-0      \n",
      "\n",
      "\n"
     ]
    },
    {
     "name": "stdout",
     "output_type": "stream",
     "text": [
      "6500\t1     \t652        \t-0      \n",
      "6500\t2     \t652        \t-0      \n",
      "6500\t3     \t652        \t-0      \n",
      "6500\t4     \t652        \t-0      \n",
      "\n",
      "\n"
     ]
    },
    {
     "name": "stdout",
     "output_type": "stream",
     "text": [
      "6510\t1     \t652        \t-0      \n",
      "6510\t2     \t651        \t-0      \n",
      "6510\t3     \t652        \t-0      \n",
      "6510\t4     \t652        \t-0      \n",
      "\n",
      "\n"
     ]
    },
    {
     "name": "stdout",
     "output_type": "stream",
     "text": [
      "6520\t1     \t652        \t-0      \n",
      "6520\t2     \t651        \t-0      \n",
      "6520\t3     \t651        \t-0      \n",
      "6520\t4     \t652        \t-0      \n",
      "\n",
      "\n"
     ]
    },
    {
     "name": "stdout",
     "output_type": "stream",
     "text": [
      "6530\t1     \t652        \t-0      \n",
      "6530\t2     \t651        \t-0      \n",
      "6530\t3     \t651        \t-0      \n",
      "6530\t4     \t651        \t-0      \n",
      "\n",
      "\n"
     ]
    },
    {
     "name": "stdout",
     "output_type": "stream",
     "text": [
      "6540\t1     \t652        \t-0      \n",
      "6540\t2     \t651        \t-0      \n",
      "6540\t3     \t651        \t-0      \n",
      "6540\t4     \t651        \t-0      \n",
      "\n",
      "\n"
     ]
    },
    {
     "name": "stdout",
     "output_type": "stream",
     "text": [
      "6550\t1     \t652        \t-0      \n",
      "6550\t2     \t651        \t-0      \n",
      "6550\t3     \t651        \t-0      \n",
      "6550\t4     \t651        \t-0      \n",
      "\n",
      "\n"
     ]
    },
    {
     "name": "stdout",
     "output_type": "stream",
     "text": [
      "6560\t1     \t651        \t-0      \n",
      "6560\t2     \t651        \t-0      \n",
      "6560\t3     \t651        \t-0      \n",
      "6560\t4     \t651        \t-0      \n",
      "\n",
      "\n"
     ]
    },
    {
     "name": "stdout",
     "output_type": "stream",
     "text": [
      "6570\t1     \t651        \t-0      \n",
      "6570\t2     \t651        \t-0      \n",
      "6570\t3     \t651        \t-0      \n",
      "6570\t4     \t651        \t-0      \n",
      "\n",
      "\n"
     ]
    },
    {
     "name": "stdout",
     "output_type": "stream",
     "text": [
      "6580\t1     \t651        \t-0      \n",
      "6580\t2     \t651        \t-0      \n",
      "6580\t3     \t651        \t-0      \n",
      "6580\t4     \t651        \t-0      \n",
      "\n",
      "\n"
     ]
    },
    {
     "name": "stdout",
     "output_type": "stream",
     "text": [
      "6590\t1     \t651        \t-0      \n",
      "6590\t2     \t651        \t-0      \n",
      "6590\t3     \t651        \t-0      \n",
      "6590\t4     \t651        \t-0      \n",
      "\n",
      "\n"
     ]
    },
    {
     "name": "stdout",
     "output_type": "stream",
     "text": [
      "6600\t1     \t651        \t-0      \n",
      "6600\t2     \t651        \t-0      \n",
      "6600\t3     \t651        \t-0      \n",
      "6600\t4     \t651        \t-0      \n",
      "\n",
      "\n"
     ]
    },
    {
     "name": "stdout",
     "output_type": "stream",
     "text": [
      "6610\t1     \t651        \t-0      \n",
      "6610\t2     \t651        \t-0      \n",
      "6610\t3     \t651        \t-0      \n",
      "6610\t4     \t651        \t-0      \n",
      "\n",
      "\n"
     ]
    },
    {
     "name": "stdout",
     "output_type": "stream",
     "text": [
      "6620\t1     \t651        \t-0      \n",
      "6620\t2     \t651        \t-0      \n",
      "6620\t3     \t651        \t-0      \n",
      "6620\t4     \t651        \t-0      \n",
      "\n",
      "\n"
     ]
    },
    {
     "name": "stdout",
     "output_type": "stream",
     "text": [
      "6630\t1     \t651        \t-0      \n",
      "6630\t2     \t651        \t-0      \n",
      "6630\t3     \t651        \t-0      \n",
      "6630\t4     \t651        \t-0      \n",
      "\n",
      "\n"
     ]
    },
    {
     "name": "stdout",
     "output_type": "stream",
     "text": [
      "6640\t1     \t649        \t-0      \n",
      "6640\t2     \t651        \t-0      \n",
      "6640\t3     \t651        \t-0      \n",
      "6640\t4     \t651        \t-0      \n",
      "\n",
      "\n"
     ]
    },
    {
     "name": "stdout",
     "output_type": "stream",
     "text": [
      "6650\t1     \t649        \t-0      \n",
      "6650\t2     \t649        \t-0      \n",
      "6650\t3     \t651        \t-0      \n",
      "6650\t4     \t651        \t-0      \n",
      "\n",
      "\n"
     ]
    },
    {
     "name": "stdout",
     "output_type": "stream",
     "text": [
      "6660\t1     \t649        \t-0      \n",
      "6660\t2     \t649        \t-0      \n",
      "6660\t3     \t651        \t-0      \n",
      "6660\t4     \t651        \t-0      \n",
      "\n",
      "\n"
     ]
    },
    {
     "name": "stdout",
     "output_type": "stream",
     "text": [
      "6670\t1     \t649        \t-0      \n",
      "6670\t2     \t649        \t-0      \n",
      "6670\t3     \t649        \t-0      \n",
      "6670\t4     \t651        \t-0      \n",
      "\n",
      "\n"
     ]
    },
    {
     "name": "stdout",
     "output_type": "stream",
     "text": [
      "6680\t1     \t649        \t-0      \n",
      "6680\t2     \t649        \t-0      \n",
      "6680\t3     \t649        \t-0      \n",
      "6680\t4     \t649        \t-0      \n",
      "\n",
      "\n"
     ]
    },
    {
     "name": "stdout",
     "output_type": "stream",
     "text": [
      "6690\t1     \t649        \t-0      \n",
      "6690\t2     \t649        \t-0      \n",
      "6690\t3     \t649        \t-0      \n",
      "6690\t4     \t649        \t-0      \n",
      "\n",
      "\n"
     ]
    },
    {
     "name": "stdout",
     "output_type": "stream",
     "text": [
      "6700\t1     \t648        \t-0      \n",
      "6700\t2     \t649        \t-0      \n",
      "6700\t3     \t649        \t-0      \n",
      "6700\t4     \t649        \t-0      \n",
      "\n",
      "\n"
     ]
    },
    {
     "name": "stdout",
     "output_type": "stream",
     "text": [
      "6710\t1     \t649        \t-0      \n",
      "6710\t2     \t648        \t-0      \n",
      "6710\t3     \t649        \t-0      \n",
      "6710\t4     \t649        \t-0      \n",
      "\n",
      "\n"
     ]
    },
    {
     "name": "stdout",
     "output_type": "stream",
     "text": [
      "6720\t1     \t649        \t-0      \n",
      "6720\t2     \t649        \t-0      \n",
      "6720\t3     \t648        \t-0      \n",
      "6720\t4     \t649        \t-0      \n",
      "\n",
      "\n"
     ]
    },
    {
     "name": "stdout",
     "output_type": "stream",
     "text": [
      "6730\t1     \t649        \t-0      \n",
      "6730\t2     \t649        \t-0      \n",
      "6730\t3     \t639        \t0.220865\n",
      "6730\t4     \t648        \t-0      \n",
      "\n",
      "\n"
     ]
    },
    {
     "name": "stdout",
     "output_type": "stream",
     "text": [
      "6740\t1     \t648        \t-0      \n",
      "6740\t2     \t649        \t-0      \n",
      "6740\t3     \t649        \t-0      \n",
      "6740\t4     \t648        \t-0      \n",
      "\n",
      "\n"
     ]
    },
    {
     "name": "stdout",
     "output_type": "stream",
     "text": [
      "6750\t1     \t648        \t-0      \n",
      "6750\t2     \t648        \t-0      \n",
      "6750\t3     \t649        \t-0      \n",
      "6750\t4     \t648        \t-0      \n",
      "\n",
      "\n"
     ]
    },
    {
     "name": "stdout",
     "output_type": "stream",
     "text": [
      "6760\t1     \t648        \t-0      \n",
      "6760\t2     \t648        \t-0      \n",
      "6760\t3     \t649        \t-0      \n",
      "6760\t4     \t648        \t-0      \n",
      "\n",
      "\n"
     ]
    },
    {
     "name": "stdout",
     "output_type": "stream",
     "text": [
      "6770\t1     \t648        \t-0      \n",
      "6770\t2     \t648        \t-0      \n",
      "6770\t3     \t648        \t-0      \n",
      "6770\t4     \t648        \t-0      \n",
      "\n",
      "\n"
     ]
    },
    {
     "name": "stdout",
     "output_type": "stream",
     "text": [
      "6780\t1     \t648        \t-0      \n",
      "6780\t2     \t648        \t-0      \n",
      "6780\t3     \t648        \t-0      \n",
      "6780\t4     \t648        \t-0      \n",
      "\n",
      "\n"
     ]
    },
    {
     "name": "stdout",
     "output_type": "stream",
     "text": [
      "6790\t1     \t648        \t-0      \n",
      "6790\t2     \t648        \t-0      \n",
      "6790\t3     \t648        \t-0      \n",
      "6790\t4     \t648        \t-0      \n",
      "\n",
      "\n"
     ]
    },
    {
     "name": "stdout",
     "output_type": "stream",
     "text": [
      "6800\t1     \t648        \t-0      \n",
      "6800\t2     \t648        \t-0      \n",
      "6800\t3     \t648        \t-0      \n",
      "6800\t4     \t648        \t-0      \n",
      "\n",
      "\n"
     ]
    },
    {
     "name": "stdout",
     "output_type": "stream",
     "text": [
      "6810\t1     \t648        \t-0      \n",
      "6810\t2     \t648        \t-0      \n",
      "6810\t3     \t648        \t-0      \n",
      "6810\t4     \t648        \t-0      \n",
      "\n",
      "\n"
     ]
    },
    {
     "name": "stdout",
     "output_type": "stream",
     "text": [
      "6820\t1     \t648        \t-0      \n",
      "6820\t2     \t648        \t-0      \n",
      "6820\t3     \t648        \t-0      \n",
      "6820\t4     \t648        \t-0      \n",
      "\n",
      "\n"
     ]
    },
    {
     "name": "stdout",
     "output_type": "stream",
     "text": [
      "6830\t1     \t648        \t-0      \n",
      "6830\t2     \t648        \t-0      \n",
      "6830\t3     \t648        \t-0      \n",
      "6830\t4     \t648        \t-0      \n",
      "\n",
      "\n"
     ]
    },
    {
     "name": "stdout",
     "output_type": "stream",
     "text": [
      "6840\t1     \t648        \t-0      \n",
      "6840\t2     \t648        \t-0      \n",
      "6840\t3     \t648        \t-0      \n",
      "6840\t4     \t648        \t-0      \n",
      "\n",
      "\n"
     ]
    },
    {
     "name": "stdout",
     "output_type": "stream",
     "text": [
      "6850\t1     \t648        \t-0      \n",
      "6850\t2     \t648        \t-0      \n",
      "6850\t3     \t648        \t-0      \n",
      "6850\t4     \t648        \t-0      \n",
      "\n",
      "\n"
     ]
    },
    {
     "name": "stdout",
     "output_type": "stream",
     "text": [
      "6860\t1     \t648        \t-0      \n",
      "6860\t2     \t648        \t-0      \n",
      "6860\t3     \t648        \t-0      \n",
      "6860\t4     \t648        \t-0      \n",
      "\n",
      "\n"
     ]
    },
    {
     "name": "stdout",
     "output_type": "stream",
     "text": [
      "6870\t1     \t648        \t-0      \n",
      "6870\t2     \t648        \t-0      \n",
      "6870\t3     \t648        \t-0      \n",
      "6870\t4     \t647        \t-0      \n",
      "\n",
      "\n"
     ]
    },
    {
     "name": "stdout",
     "output_type": "stream",
     "text": [
      "6880\t1     \t647        \t-0      \n",
      "6880\t2     \t648        \t-0      \n",
      "6880\t3     \t648        \t-0      \n",
      "6880\t4     \t648        \t-0      \n",
      "\n",
      "\n"
     ]
    },
    {
     "name": "stdout",
     "output_type": "stream",
     "text": [
      "6890\t1     \t647        \t-0      \n",
      "6890\t2     \t648        \t-0      \n",
      "6890\t3     \t648        \t-0      \n",
      "6890\t4     \t648        \t-0      \n",
      "\n",
      "\n"
     ]
    },
    {
     "name": "stdout",
     "output_type": "stream",
     "text": [
      "6900\t1     \t647        \t-0      \n",
      "6900\t2     \t647        \t-0      \n",
      "6900\t3     \t648        \t-0      \n",
      "6900\t4     \t648        \t-0      \n",
      "\n",
      "\n"
     ]
    },
    {
     "name": "stdout",
     "output_type": "stream",
     "text": [
      "6910\t1     \t647        \t-0      \n",
      "6910\t2     \t647        \t-0      \n",
      "6910\t3     \t647        \t-0      \n",
      "6910\t4     \t648        \t-0      \n",
      "\n",
      "\n"
     ]
    },
    {
     "name": "stdout",
     "output_type": "stream",
     "text": [
      "6920\t1     \t647        \t-0      \n",
      "6920\t2     \t647        \t-0      \n",
      "6920\t3     \t647        \t-0      \n",
      "6920\t4     \t647        \t-0      \n",
      "\n",
      "\n"
     ]
    },
    {
     "name": "stdout",
     "output_type": "stream",
     "text": [
      "6930\t1     \t647        \t-0      \n",
      "6930\t2     \t647        \t-0      \n",
      "6930\t3     \t647        \t-0      \n",
      "6930\t4     \t647        \t-0      \n",
      "\n",
      "\n"
     ]
    },
    {
     "name": "stdout",
     "output_type": "stream",
     "text": [
      "6940\t1     \t647        \t-0      \n",
      "6940\t2     \t647        \t-0      \n",
      "6940\t3     \t647        \t-0      \n",
      "6940\t4     \t647        \t-0      \n",
      "\n",
      "\n"
     ]
    },
    {
     "name": "stdout",
     "output_type": "stream",
     "text": [
      "6950\t1     \t647        \t-0      \n",
      "6950\t2     \t647        \t-0      \n",
      "6950\t3     \t647        \t-0      \n",
      "6950\t4     \t647        \t-0      \n",
      "\n",
      "\n"
     ]
    },
    {
     "name": "stdout",
     "output_type": "stream",
     "text": [
      "6960\t1     \t647        \t-0      \n",
      "6960\t2     \t647        \t-0      \n",
      "6960\t3     \t647        \t-0      \n",
      "6960\t4     \t647        \t-0      \n",
      "\n",
      "\n"
     ]
    },
    {
     "name": "stdout",
     "output_type": "stream",
     "text": [
      "6970\t1     \t647        \t-0      \n",
      "6970\t2     \t647        \t-0      \n",
      "6970\t3     \t647        \t-0      \n",
      "6970\t4     \t647        \t-0      \n",
      "\n",
      "\n"
     ]
    },
    {
     "name": "stdout",
     "output_type": "stream",
     "text": [
      "6980\t1     \t647        \t-0      \n",
      "6980\t2     \t647        \t-0      \n",
      "6980\t3     \t647        \t-0      \n",
      "6980\t4     \t647        \t-0      \n",
      "\n",
      "\n"
     ]
    },
    {
     "name": "stdout",
     "output_type": "stream",
     "text": [
      "6990\t1     \t647        \t-0      \n",
      "6990\t2     \t647        \t-0      \n",
      "6990\t3     \t647        \t-0      \n",
      "6990\t4     \t647        \t-0      \n",
      "\n",
      "\n"
     ]
    },
    {
     "name": "stdout",
     "output_type": "stream",
     "text": [
      "7000\t1     \t647        \t-0      \n",
      "7000\t2     \t647        \t-0      \n",
      "7000\t3     \t647        \t-0      \n",
      "7000\t4     \t647        \t-0      \n",
      "\n",
      "\n"
     ]
    },
    {
     "name": "stdout",
     "output_type": "stream",
     "text": [
      "7010\t1     \t647        \t-0      \n",
      "7010\t2     \t647        \t-0      \n",
      "7010\t3     \t647        \t-0      \n",
      "7010\t4     \t647        \t-0      \n",
      "\n",
      "\n"
     ]
    },
    {
     "name": "stdout",
     "output_type": "stream",
     "text": [
      "7020\t1     \t647        \t-0      \n",
      "7020\t2     \t647        \t-0      \n",
      "7020\t3     \t647        \t-0      \n",
      "7020\t4     \t647        \t-0      \n",
      "\n",
      "\n"
     ]
    },
    {
     "name": "stdout",
     "output_type": "stream",
     "text": [
      "7030\t1     \t647        \t-0      \n",
      "7030\t2     \t647        \t-0      \n",
      "7030\t3     \t647        \t-0      \n",
      "7030\t4     \t647        \t-0      \n",
      "\n",
      "\n"
     ]
    },
    {
     "name": "stdout",
     "output_type": "stream",
     "text": [
      "7040\t1     \t647        \t-0      \n",
      "7040\t2     \t647        \t-0      \n",
      "7040\t3     \t647        \t-0      \n",
      "7040\t4     \t647        \t-0      \n",
      "\n",
      "\n"
     ]
    },
    {
     "name": "stdout",
     "output_type": "stream",
     "text": [
      "7050\t1     \t647        \t-0      \n",
      "7050\t2     \t647        \t-0      \n",
      "7050\t3     \t647        \t-0      \n",
      "7050\t4     \t647        \t-0      \n",
      "\n",
      "\n"
     ]
    },
    {
     "name": "stdout",
     "output_type": "stream",
     "text": [
      "7060\t1     \t647        \t-0      \n",
      "7060\t2     \t647        \t-0      \n",
      "7060\t3     \t647        \t-0      \n",
      "7060\t4     \t647        \t-0      \n",
      "\n",
      "\n"
     ]
    },
    {
     "name": "stdout",
     "output_type": "stream",
     "text": [
      "7070\t1     \t647        \t-0      \n",
      "7070\t2     \t647        \t-0      \n",
      "7070\t3     \t647        \t-0      \n",
      "7070\t4     \t647        \t-0      \n",
      "\n",
      "\n"
     ]
    },
    {
     "name": "stdout",
     "output_type": "stream",
     "text": [
      "7080\t1     \t647        \t-0      \n",
      "7080\t2     \t647        \t-0      \n",
      "7080\t3     \t647        \t-0      \n",
      "7080\t4     \t647        \t-0      \n",
      "\n",
      "\n"
     ]
    },
    {
     "name": "stdout",
     "output_type": "stream",
     "text": [
      "7090\t1     \t647        \t-0      \n",
      "7090\t2     \t647        \t-0      \n",
      "7090\t3     \t647        \t-0      \n",
      "7090\t4     \t647        \t-0      \n",
      "\n",
      "\n"
     ]
    },
    {
     "name": "stdout",
     "output_type": "stream",
     "text": [
      "7100\t1     \t647        \t-0      \n",
      "7100\t2     \t647        \t-0      \n",
      "7100\t3     \t647        \t-0      \n",
      "7100\t4     \t647        \t-0      \n",
      "\n",
      "\n"
     ]
    },
    {
     "name": "stdout",
     "output_type": "stream",
     "text": [
      "7110\t1     \t647        \t-0      \n",
      "7110\t2     \t647        \t-0      \n",
      "7110\t3     \t647        \t-0      \n",
      "7110\t4     \t647        \t-0      \n",
      "\n",
      "\n"
     ]
    }
   ],
   "source": [
    "from my_gatai import get_extracted_genes\n",
    "\n",
    "ga_genes = get_extracted_genes(expression_data, permutation_comp_vars)"
   ]
  },
  {
   "cell_type": "markdown",
   "id": "dbdefafb",
   "metadata": {
    "papermill": {
     "duration": 0.021687,
     "end_time": "2024-10-24T15:48:01.480971",
     "exception": false,
     "start_time": "2024-10-24T15:48:01.459284",
     "status": "completed"
    },
    "tags": []
   },
   "source": [
    "#### Genes extracted"
   ]
  },
  {
   "cell_type": "code",
   "execution_count": 15,
   "id": "e0e87e5c",
   "metadata": {
    "execution": {
     "iopub.execute_input": "2024-10-24T15:48:01.532765Z",
     "iopub.status.busy": "2024-10-24T15:48:01.532645Z",
     "iopub.status.idle": "2024-10-24T15:48:01.541261Z",
     "shell.execute_reply": "2024-10-24T15:48:01.541021Z"
    },
    "papermill": {
     "duration": 0.034121,
     "end_time": "2024-10-24T15:48:01.541913",
     "exception": false,
     "start_time": "2024-10-24T15:48:01.507792",
     "status": "completed"
    },
    "tags": []
   },
   "outputs": [
    {
     "data": {
      "text/plain": [
       "424"
      ]
     },
     "execution_count": 15,
     "metadata": {},
     "output_type": "execute_result"
    }
   ],
   "source": [
    "len(ga_genes)"
   ]
  },
  {
   "cell_type": "code",
   "execution_count": 16,
   "id": "32142278",
   "metadata": {
    "execution": {
     "iopub.execute_input": "2024-10-24T15:48:01.593214Z",
     "iopub.status.busy": "2024-10-24T15:48:01.593061Z",
     "iopub.status.idle": "2024-10-24T15:48:01.601899Z",
     "shell.execute_reply": "2024-10-24T15:48:01.601716Z"
    },
    "papermill": {
     "duration": 0.035207,
     "end_time": "2024-10-24T15:48:01.602469",
     "exception": false,
     "start_time": "2024-10-24T15:48:01.567262",
     "status": "completed"
    },
    "tags": []
   },
   "outputs": [
    {
     "data": {
      "text/plain": [
       "array(['at1g02450', 'at1g02640', 'at1g03080', 'at1g05710', 'at1g06420',\n",
       "       'at1g06850', 'at1g07135', 'at1g07590', 'at1g08720', 'at1g09070',\n",
       "       'at1g09415', 'at1g09690', 'at1g10380', 'at1g10990', 'at1g11960',\n",
       "       'at1g13600', 'at1g14480', 'at1g14642', 'at1g14760', 'at1g15690',\n",
       "       'at1g16630', 'at1g16790', 'at1g17490', 'at1g19770', 'at1g19960',\n",
       "       'at1g20070', 'at1g20100', 'at1g20620', 'at1g21090', 'at1g21310',\n",
       "       'at1g21520', 'at1g21560', 'at1g22220', 'at1g23840', 'at1g24145',\n",
       "       'at1g24147', 'at1g24575', 'at1g26580', 'at1g27660', 'at1g27730',\n",
       "       'at1g28400', 'at1g28520', 'at1g29670', 'at1g29910', 'at1g30515',\n",
       "       'at1g31130', 'at1g31580', 'at1g32570', 'at1g32640', 'at1g32920',\n",
       "       'at1g42990', 'at1g44810', 'at1g47340', 'at1g49310', 'at1g49475',\n",
       "       'at1g49750', 'at1g51430', 'at1g51960', 'at1g52040', 'at1g52300',\n",
       "       'at1g52400', 'at1g52980', 'at1g55152', 'at1g55330', 'at1g56020',\n",
       "       'at1g56070', 'at1g56660', 'at1g58150', 'at1g58235', 'at1g61660',\n",
       "       'at1g62250', 'at1g64370', 'at1g64561', 'at1g65710', 'at1g65845',\n",
       "       'at1g67035', 'at1g67090', 'at1g67785', 'at1g67860', 'at1g67865',\n",
       "       'at1g67870', 'at1g68480', 'at1g69230', 'at1g69610', 'at1g70470',\n",
       "       'at1g70830', 'at1g72600', 'at1g72790', 'at1g72800', 'at1g73130',\n",
       "       'at1g73805', 'at1g74458', 'at1g75040', 'at1g75860', 'at1g76100',\n",
       "       'at1g76930', 'at1g79970', 'at1g80450', 'at1g80520', 'at2g01913',\n",
       "       'at2g02170', 'at2g03430', 'at2g03810', 'at2g04378', 'at2g04515',\n",
       "       'at2g04780', 'at2g05380', 'at2g05520', 'at2g05632', 'at2g14890',\n",
       "       'at2g15960', 'at2g17300', 'at2g17442', 'at2g17540', 'at2g17840',\n",
       "       'at2g21560', 'at2g22510', 'at2g22860', 'at2g23810', 'at2g24700',\n",
       "       'at2g25250', 'at2g25510', 'at2g25590', 'at2g26110', 'at2g26860',\n",
       "       'at2g28330', 'at2g29995', 'at2g31018', 'at2g31150', 'at2g33020',\n",
       "       'at2g34160', 'at2g35470', 'at2g35820', 'at2g35950', 'at2g36120',\n",
       "       'at2g36220', 'at2g36240', 'at2g36420', 'at2g36650', 'at2g38540',\n",
       "       'at2g38800', 'at2g39330', 'at2g39560', 'at2g39770', 'at2g39870',\n",
       "       'at2g41100', 'at2g41180', 'at2g41430', 'at2g41940', 'at2g42760',\n",
       "       'at2g42800', 'at2g42840', 'at2g43150', 'at2g43530', 'at2g43630',\n",
       "       'at2g45450', 'at2g45860', 'at2g46150', 'at2g46630', 'at2g47930',\n",
       "       'at3g02080', 'at3g02640', 'at3g03020', 'at3g03360', 'at3g03780',\n",
       "       'at3g04120', 'at3g05727', 'at3g05750', 'at3g05980', 'at3g06019',\n",
       "       'at3g06020', 'at3g06435', 'at3g07230', 'at3g08580', 'at3g10525',\n",
       "       'at3g11810', 'at3g11880', 'at3g12870', 'at3g13403', 'at3g13404',\n",
       "       'at3g13520', 'at3g13750', 'at3g13960', 'at3g14060', 'at3g14230',\n",
       "       'at3g14560', 'at3g15450', 'at3g16070', 'at3g16470', 'at3g17120',\n",
       "       'at3g17130', 'at3g17390', 'at3g17680', 'at3g17820', 'at3g18535',\n",
       "       'at3g18800', 'at3g19030', 'at3g19200', 'at3g19680', 'at3g20180',\n",
       "       'at3g20620', 'at3g20640', 'at3g22231', 'at3g22235', 'at3g23010',\n",
       "       'at3g23110', 'at3g23120', 'at3g23170', 'at3g23740', 'at3g23810',\n",
       "       'at3g23820', 'at3g24770', 'at3g25130', 'at3g25882', 'at3g26539',\n",
       "       'at3g26650', 'at3g26960', 'at3g27906', 'at3g29075', 'at3g29375',\n",
       "       'at3g30775', 'at3g44430', 'at3g44735', 'at3g45160', 'at3g45230',\n",
       "       'at3g47640', 'at3g49240', 'at3g49551', 'at3g50480', 'at3g50550',\n",
       "       'at3g50740', 'at3g52770', 'at3g53020', 'at3g53350', 'at3g53460',\n",
       "       'at3g54390', 'at3g54500', 'at3g54680', 'at3g54810', 'at3g54890',\n",
       "       'at3g55440', 'at3g55515', 'at3g56590', 'at3g57520', 'at3g57540',\n",
       "       'at3g57970', 'at3g58120', 'at3g58820', 'at3g59190', 'at3g59270',\n",
       "       'at3g60900', 'at3g61898', 'at3g62870', 'at4g00780', 'at4g00850',\n",
       "       'at4g00872', 'at4g00895', 'at4g00955', 'at4g01590', 'at4g01895',\n",
       "       'at4g01960', 'at4g02440', 'at4g03260', 'at4g03443', 'at4g05010',\n",
       "       'at4g09030', 'at4g10270', 'at4g10470', 'at4g11211', 'at4g12340',\n",
       "       'at4g12540', 'at4g12730', 'at4g12990', 'at4g13430', 'at4g13940',\n",
       "       'at4g14020', 'at4g15210', 'at4g16008', 'at4g16720', 'at4g16790',\n",
       "       'at4g16980', 'at4g17085', 'at4g18580', 'at4g18730', 'at4g18760',\n",
       "       'at4g19200', 'at4g19660', 'at4g20300', 'at4g21960', 'at4g22160',\n",
       "       'at4g22485', 'at4g23170', 'at4g26130', 'at4g28310', 'at4g28330',\n",
       "       'at4g29060', 'at4g30460', 'at4g31130', 'at4g31610', 'at4g31650',\n",
       "       'at4g32020', 'at4g32240', 'at4g33660', 'at4g33960', 'at4g34000',\n",
       "       'at4g34400', 'at4g34560', 'at4g34600', 'at4g35320', 'at4g37450',\n",
       "       'at4g37483', 'at4g37740', 'at4g38080', 'at4g39190', 'at5g01120',\n",
       "       'at5g02480', 'at5g02550', 'at5g02690', 'at5g03890', 'at5g04080',\n",
       "       'at5g04470', 'at5g05600', 'at5g07240', 'at5g08430', 'at5g09976',\n",
       "       'at5g09980', 'at5g10310', 'at5g10430', 'at5g10946', 'at5g11740',\n",
       "       'at5g11890', 'at5g12900', 'at5g13630', 'at5g13890', 'at5g13930',\n",
       "       'at5g15190', 'at5g15630', 'at5g16730', 'at5g17650', 'at5g17920',\n",
       "       'at5g18040', 'at5g18380', 'at5g18670', 'at5g18690', 'at5g19100',\n",
       "       'at5g19120', 'at5g19240', 'at5g19250', 'at5g19260', 'at5g19875',\n",
       "       'at5g20250', 'at5g20290', 'at5g21020', 'at5g22090', 'at5g22210',\n",
       "       'at5g22545', 'at5g22700', 'at5g22875', 'at5g23280', 'at5g23460',\n",
       "       'at5g24920', 'at5g25475', 'at5g25980', 'at5g26000', 'at5g26690',\n",
       "       'at5g26770', 'at5g26790', 'at5g28919', 'at5g35995', 'at5g37510',\n",
       "       'at5g38320', 'at5g38980', 'at5g40800', 'at5g40830', 'at5g41080',\n",
       "       'at5g41560', 'at5g42060', 'at5g42330', 'at5g42530', 'at5g42825',\n",
       "       'at5g43070', 'at5g43150', 'at5g44660', 'at5g44860', 'at5g45100',\n",
       "       'at5g45110', 'at5g45350', 'at5g45490', 'at5g45500', 'at5g46915',\n",
       "       'at5g48660', 'at5g49280', 'at5g49440', 'at5g52760', 'at5g53880',\n",
       "       'at5g54610', 'at5g54810', 'at5g55680', 'at5g56120', 'at5g56170',\n",
       "       'at5g56250', 'at5g56540', 'at5g57785', 'at5g57870', 'at5g58375',\n",
       "       'at5g58790', 'at5g58930', 'at5g59305', 'at5g60390', 'at5g60840',\n",
       "       'at5g61400', 'at5g62770', 'at5g62900', 'at5g63135', 'at5g64170',\n",
       "       'at5g64310', 'at5g64570', 'at5g64667', 'at5g64880', 'at5g65280',\n",
       "       'at5g65660', 'at5g66052', 'at5g66607', 'at5g66800'], dtype=object)"
      ]
     },
     "execution_count": 16,
     "metadata": {},
     "output_type": "execute_result"
    }
   ],
   "source": [
    "ga_genes"
   ]
  },
  {
   "cell_type": "markdown",
   "id": "ff4c54f2",
   "metadata": {
    "papermill": {
     "duration": 0.025077,
     "end_time": "2024-10-24T15:48:01.663589",
     "exception": false,
     "start_time": "2024-10-24T15:48:01.638512",
     "status": "completed"
    },
    "tags": []
   },
   "source": [
    "### 3.2 Check variance of destroyed TAI and its new p-value"
   ]
  },
  {
   "cell_type": "code",
   "execution_count": 17,
   "id": "bb795cc6",
   "metadata": {
    "execution": {
     "iopub.execute_input": "2024-10-24T15:48:01.715779Z",
     "iopub.status.busy": "2024-10-24T15:48:01.715663Z",
     "iopub.status.idle": "2024-10-24T15:48:02.102670Z",
     "shell.execute_reply": "2024-10-24T15:48:02.102400Z"
    },
    "papermill": {
     "duration": 0.413343,
     "end_time": "2024-10-24T15:48:02.103413",
     "exception": false,
     "start_time": "2024-10-24T15:48:01.690070",
     "status": "completed"
    },
    "tags": []
   },
   "outputs": [
    {
     "data": {
      "image/png": "[encoded data removed]",
      "text/plain": [
       "<Figure size 640x480 with 1 Axes>"
      ]
     },
     "metadata": {},
     "output_type": "display_data"
    }
   ],
   "source": [
    "new_data = expression_data.remove_genes(ga_genes)\n",
    "plt.plot(expression_data.tai, label=\"Real TAI\", color=\"blue\")\n",
    "plt.plot(new_data.tai, label=\"Destroyed TAI\", color=\"red\")\n",
    "\n",
    "plt.legend()\n",
    "plt.show()"
   ]
  },
  {
   "cell_type": "code",
   "execution_count": 18,
   "id": "035f8921",
   "metadata": {
    "execution": {
     "iopub.execute_input": "2024-10-24T15:48:02.163736Z",
     "iopub.status.busy": "2024-10-24T15:48:02.163599Z",
     "iopub.status.idle": "2024-10-24T15:48:02.173489Z",
     "shell.execute_reply": "2024-10-24T15:48:02.173219Z"
    },
    "papermill": {
     "duration": 0.036123,
     "end_time": "2024-10-24T15:48:02.174208",
     "exception": false,
     "start_time": "2024-10-24T15:48:02.138085",
     "status": "completed"
    },
    "tags": []
   },
   "outputs": [
    {
     "name": "stdout",
     "output_type": "stream",
     "text": [
      "destroyed TAI p-value: 0.5456327638961539\n"
     ]
    }
   ],
   "source": [
    "new_tai_var = np.var(new_data.tai).item()\n",
    "print(\"destroyed TAI p-value:\", get_p_value(new_tai_var))"
   ]
  },
  {
   "cell_type": "code",
   "execution_count": 19,
   "id": "a961ad16",
   "metadata": {
    "execution": {
     "iopub.execute_input": "2024-10-24T15:48:02.222927Z",
     "iopub.status.busy": "2024-10-24T15:48:02.222800Z",
     "iopub.status.idle": "2024-10-24T15:48:02.305184Z",
     "shell.execute_reply": "2024-10-24T15:48:02.304971Z"
    },
    "papermill": {
     "duration": 0.108239,
     "end_time": "2024-10-24T15:48:02.305861",
     "exception": false,
     "start_time": "2024-10-24T15:48:02.197622",
     "status": "completed"
    },
    "tags": []
   },
   "outputs": [
    {
     "data": {
      "image/png": "[encoded data removed]",
      "text/plain": [
       "<Figure size 640x480 with 1 Axes>"
      ]
     },
     "metadata": {},
     "output_type": "display_data"
    }
   ],
   "source": [
    "plt.hist(permutation_comp_vars, density=True, bins=100, label=\"Random gene age TAI variance\")\n",
    "plt.axvline(x=tai_var, label=\"True TAI variance\", color=\"red\")\n",
    "\n",
    "\n",
    "x = np.linspace(0, tai_var, 200)\n",
    "y = stats.gamma.pdf(x, a, loc=loc, scale=scale)\n",
    "plt.plot(x, y, label=\"Fitted gamma distribution\", linestyle=\"dashed\")\n",
    "plt.axvline(x=new_tai_var, label=\"Destroyed TAI variance\", color=\"black\")\n",
    "plt.legend()\n",
    "plt.show()"
   ]
  },
  {
   "cell_type": "markdown",
   "id": "f29ae35e",
   "metadata": {
    "papermill": {
     "duration": 0.027005,
     "end_time": "2024-10-24T15:48:02.358423",
     "exception": false,
     "start_time": "2024-10-24T15:48:02.331418",
     "status": "completed"
    },
    "tags": []
   },
   "source": [
    "### 3.3 Benchmark GA against greedy removal of genes with highest variance"
   ]
  },
  {
   "cell_type": "code",
   "execution_count": 20,
   "id": "d5504ec4",
   "metadata": {
    "execution": {
     "iopub.execute_input": "2024-10-24T15:48:02.430754Z",
     "iopub.status.busy": "2024-10-24T15:48:02.430616Z",
     "iopub.status.idle": "2024-10-24T15:48:02.544147Z",
     "shell.execute_reply": "2024-10-24T15:48:02.543838Z"
    },
    "papermill": {
     "duration": 0.161805,
     "end_time": "2024-10-24T15:48:02.544826",
     "exception": false,
     "start_time": "2024-10-24T15:48:02.383021",
     "status": "completed"
    },
    "tags": []
   },
   "outputs": [
    {
     "data": {
      "text/html": [
       "<div>\n",
       "<style scoped>\n",
       "    .dataframe tbody tr th:only-of-type {\n",
       "        vertical-align: middle;\n",
       "    }\n",
       "\n",
       "    .dataframe tbody tr th {\n",
       "        vertical-align: top;\n",
       "    }\n",
       "\n",
       "    .dataframe thead th {\n",
       "        text-align: right;\n",
       "    }\n",
       "</style>\n",
       "<table border=\"1\" class=\"dataframe\">\n",
       "  <thead>\n",
       "    <tr style=\"text-align: right;\">\n",
       "      <th></th>\n",
       "      <th>Phylostratum</th>\n",
       "      <th>GeneID</th>\n",
       "      <th>Variance</th>\n",
       "    </tr>\n",
       "  </thead>\n",
       "  <tbody>\n",
       "    <tr>\n",
       "      <th>10662</th>\n",
       "      <td>0.705924</td>\n",
       "      <td>at4g22505</td>\n",
       "      <td>79.366462</td>\n",
       "    </tr>\n",
       "    <tr>\n",
       "      <th>10660</th>\n",
       "      <td>0.705924</td>\n",
       "      <td>at4g22485</td>\n",
       "      <td>75.100151</td>\n",
       "    </tr>\n",
       "    <tr>\n",
       "      <th>2655</th>\n",
       "      <td>0.991740</td>\n",
       "      <td>at1g56660</td>\n",
       "      <td>47.590407</td>\n",
       "    </tr>\n",
       "    <tr>\n",
       "      <th>13413</th>\n",
       "      <td>0.705924</td>\n",
       "      <td>at5g26000</td>\n",
       "      <td>24.112823</td>\n",
       "    </tr>\n",
       "    <tr>\n",
       "      <th>3090</th>\n",
       "      <td>0.705924</td>\n",
       "      <td>at1g67090</td>\n",
       "      <td>23.803816</td>\n",
       "    </tr>\n",
       "    <tr>\n",
       "      <th>...</th>\n",
       "      <td>...</td>\n",
       "      <td>...</td>\n",
       "      <td>...</td>\n",
       "    </tr>\n",
       "    <tr>\n",
       "      <th>9295</th>\n",
       "      <td>0.705924</td>\n",
       "      <td>at3g60330</td>\n",
       "      <td>0.000298</td>\n",
       "    </tr>\n",
       "    <tr>\n",
       "      <th>917</th>\n",
       "      <td>0.705924</td>\n",
       "      <td>at1g14470</td>\n",
       "      <td>0.000297</td>\n",
       "    </tr>\n",
       "    <tr>\n",
       "      <th>802</th>\n",
       "      <td>0.705924</td>\n",
       "      <td>at1g12775</td>\n",
       "      <td>0.000286</td>\n",
       "    </tr>\n",
       "    <tr>\n",
       "      <th>7748</th>\n",
       "      <td>0.705924</td>\n",
       "      <td>at3g20420</td>\n",
       "      <td>0.000285</td>\n",
       "    </tr>\n",
       "    <tr>\n",
       "      <th>6896</th>\n",
       "      <td>0.705924</td>\n",
       "      <td>at3g08505</td>\n",
       "      <td>0.000231</td>\n",
       "    </tr>\n",
       "  </tbody>\n",
       "</table>\n",
       "<p>15496 rows × 3 columns</p>\n",
       "</div>"
      ],
      "text/plain": [
       "       Phylostratum     GeneID   Variance\n",
       "10662      0.705924  at4g22505  79.366462\n",
       "10660      0.705924  at4g22485  75.100151\n",
       "2655       0.991740  at1g56660  47.590407\n",
       "13413      0.705924  at5g26000  24.112823\n",
       "3090       0.705924  at1g67090  23.803816\n",
       "...             ...        ...        ...\n",
       "9295       0.705924  at3g60330   0.000298\n",
       "917        0.705924  at1g14470   0.000297\n",
       "802        0.705924  at1g12775   0.000286\n",
       "7748       0.705924  at3g20420   0.000285\n",
       "6896       0.705924  at3g08505   0.000231\n",
       "\n",
       "[15496 rows x 3 columns]"
      ]
     },
     "execution_count": 20,
     "metadata": {},
     "output_type": "execute_result"
    }
   ],
   "source": [
    "gene_variances = expression_data.gene_variances.sort_values('Variance', ascending=False)\n",
    "gene_variances"
   ]
  },
  {
   "cell_type": "code",
   "execution_count": 21,
   "id": "b666a2c8",
   "metadata": {
    "execution": {
     "iopub.execute_input": "2024-10-24T15:48:02.605055Z",
     "iopub.status.busy": "2024-10-24T15:48:02.604870Z",
     "iopub.status.idle": "2024-10-24T15:48:02.613847Z",
     "shell.execute_reply": "2024-10-24T15:48:02.613588Z"
    },
    "papermill": {
     "duration": 0.035997,
     "end_time": "2024-10-24T15:48:02.614571",
     "exception": false,
     "start_time": "2024-10-24T15:48:02.578574",
     "status": "completed"
    },
    "tags": []
   },
   "outputs": [],
   "source": [
    "k_top = len(ga_genes)\n",
    "\n",
    "highest_var_genes = gene_variances.head(k_top)['GeneID'].to_numpy()"
   ]
  },
  {
   "cell_type": "code",
   "execution_count": 22,
   "id": "f9c09088",
   "metadata": {
    "execution": {
     "iopub.execute_input": "2024-10-24T15:48:02.663814Z",
     "iopub.status.busy": "2024-10-24T15:48:02.663688Z",
     "iopub.status.idle": "2024-10-24T15:48:03.042934Z",
     "shell.execute_reply": "2024-10-24T15:48:03.042676Z"
    },
    "papermill": {
     "duration": 0.404052,
     "end_time": "2024-10-24T15:48:03.043648",
     "exception": false,
     "start_time": "2024-10-24T15:48:02.639596",
     "status": "completed"
    },
    "tags": []
   },
   "outputs": [
    {
     "data": {
      "image/png": "[encoded data removed]",
      "text/plain": [
       "<Figure size 640x480 with 1 Axes>"
      ]
     },
     "metadata": {},
     "output_type": "display_data"
    }
   ],
   "source": [
    "greedy_data = expression_data.remove_genes(highest_var_genes)\n",
    "plt.plot(expression_data.tai, label=\"Real TAI\", color=\"blue\")\n",
    "plt.plot(new_data.tai, label=\"Destroyed TAI\", color=\"red\")\n",
    "plt.plot(greedy_data.tai, label=\"Greedy TAI\", color=\"green\")\n",
    "\n",
    "plt.legend()\n",
    "plt.show()"
   ]
  },
  {
   "cell_type": "code",
   "execution_count": 23,
   "id": "e8040b71",
   "metadata": {
    "execution": {
     "iopub.execute_input": "2024-10-24T15:48:03.093993Z",
     "iopub.status.busy": "2024-10-24T15:48:03.093859Z",
     "iopub.status.idle": "2024-10-24T15:48:03.103898Z",
     "shell.execute_reply": "2024-10-24T15:48:03.103650Z"
    },
    "papermill": {
     "duration": 0.035544,
     "end_time": "2024-10-24T15:48:03.104605",
     "exception": false,
     "start_time": "2024-10-24T15:48:03.069061",
     "status": "completed"
    },
    "tags": []
   },
   "outputs": [
    {
     "name": "stdout",
     "output_type": "stream",
     "text": [
      "p-value:  8.420335376390258e-05\n"
     ]
    }
   ],
   "source": [
    "greedy_tai_var = np.var(greedy_data.tai).item()\n",
    "print(\"p-value: \", get_p_value(greedy_tai_var))"
   ]
  },
  {
   "cell_type": "markdown",
   "id": "7dacbaae",
   "metadata": {
    "papermill": {
     "duration": 0.041323,
     "end_time": "2024-10-24T15:48:03.172666",
     "exception": false,
     "start_time": "2024-10-24T15:48:03.131343",
     "status": "completed"
    },
    "tags": []
   },
   "source": [
    "Conversely, however, the genes that were extracted by GATAI tend to have a high variance (but they need to be carefully selected, it's not as simple as picking the most variant ones, hence the need for the GA approach)"
   ]
  },
  {
   "cell_type": "code",
   "execution_count": 24,
   "id": "91406de1",
   "metadata": {
    "execution": {
     "iopub.execute_input": "2024-10-24T15:48:03.223444Z",
     "iopub.status.busy": "2024-10-24T15:48:03.223316Z",
     "iopub.status.idle": "2024-10-24T15:48:03.231964Z",
     "shell.execute_reply": "2024-10-24T15:48:03.231734Z"
    },
    "papermill": {
     "duration": 0.034376,
     "end_time": "2024-10-24T15:48:03.232657",
     "exception": false,
     "start_time": "2024-10-24T15:48:03.198281",
     "status": "completed"
    },
    "tags": []
   },
   "outputs": [
    {
     "name": "stdout",
     "output_type": "stream",
     "text": [
      "Number of GA selected genes which are also part of the top_k most variant subset of genes in the dataset: 77 out of 424\n"
     ]
    }
   ],
   "source": [
    "common_genes = np.intersect1d(ga_genes, highest_var_genes)\n",
    "\n",
    "print(\"Number of GA selected genes which are also part of the top_k most variant subset of genes in the dataset:\", len(common_genes), \"out of\", len(ga_genes))"
   ]
  }
 ],
 "metadata": {
  "kernelspec": {
   "display_name": "gatai-reproduction-YJP4mtSF-py3.12",
   "language": "python",
   "name": "python3"
  },
  "language_info": {
   "codemirror_mode": {
    "name": "ipython",
    "version": 3
   },
   "file_extension": ".py",
   "mimetype": "text/x-python",
   "name": "python",
   "nbconvert_exporter": "python",
   "pygments_lexer": "ipython3",
   "version": "3.12.6"
  },
  "papermill": {
   "default_parameters": {},
   "duration": 416.096225,
   "end_time": "2024-10-24T15:48:05.880623",
   "environment_variables": {},
   "exception": null,
   "input_path": "tai_destroyer.ipynb",
   "output_path": "results/athaliana/floral_transition.ipynb",
   "parameters": {
    "data_path": "data/processed_data/floral_transition.csv",
    "transformation": "sqrt"
   },
   "start_time": "2024-10-24T15:41:09.784398",
   "version": "2.6.0"
  }
 },
 "nbformat": 4,
 "nbformat_minor": 5
}