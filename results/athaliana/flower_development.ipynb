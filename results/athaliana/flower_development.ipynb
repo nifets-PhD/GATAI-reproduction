{
 "cells": [
  {
   "cell_type": "code",
   "execution_count": 1,
   "id": "72153508",
   "metadata": {
    "execution": {
     "iopub.execute_input": "2024-10-24T15:51:52.073760Z",
     "iopub.status.busy": "2024-10-24T15:51:52.073512Z",
     "iopub.status.idle": "2024-10-24T15:51:52.093924Z",
     "shell.execute_reply": "2024-10-24T15:51:52.093503Z"
    },
    "papermill": {
     "duration": 0.03947,
     "end_time": "2024-10-24T15:51:52.095060",
     "exception": false,
     "start_time": "2024-10-24T15:51:52.055590",
     "status": "completed"
    },
    "tags": []
   },
   "outputs": [],
   "source": [
    "%load_ext autoreload\n",
    "%autoreload 2"
   ]
  },
  {
   "cell_type": "code",
   "execution_count": 2,
   "id": "1ff95148",
   "metadata": {
    "execution": {
     "iopub.execute_input": "2024-10-24T15:51:52.116234Z",
     "iopub.status.busy": "2024-10-24T15:51:52.116071Z",
     "iopub.status.idle": "2024-10-24T15:51:52.122520Z",
     "shell.execute_reply": "2024-10-24T15:51:52.122198Z"
    },
    "papermill": {
     "duration": 0.018709,
     "end_time": "2024-10-24T15:51:52.123372",
     "exception": false,
     "start_time": "2024-10-24T15:51:52.104663",
     "status": "completed"
    },
    "tags": []
   },
   "outputs": [],
   "source": [
    "import logging\n",
    "\n",
    "logging.basicConfig(format='%(asctime)s %(levelname)s:%(message)s', level=logging.INFO)"
   ]
  },
  {
   "cell_type": "markdown",
   "id": "153b1767",
   "metadata": {
    "papermill": {
     "duration": 0.010452,
     "end_time": "2024-10-24T15:51:52.148317",
     "exception": false,
     "start_time": "2024-10-24T15:51:52.137865",
     "status": "completed"
    },
    "tags": []
   },
   "source": [
    "## 1. Load expression data\n",
    "\n",
    "The `transformation` value can be one of `\"none\"`, `\"sqrt\"` or `\"log\"`, which determines how the expression data should be transformed in order to reduce outlier influence."
   ]
  },
  {
   "cell_type": "code",
   "execution_count": 3,
   "id": "bc0ee230",
   "metadata": {
    "execution": {
     "iopub.execute_input": "2024-10-24T15:51:52.165954Z",
     "iopub.status.busy": "2024-10-24T15:51:52.165806Z",
     "iopub.status.idle": "2024-10-24T15:51:52.172296Z",
     "shell.execute_reply": "2024-10-24T15:51:52.171973Z"
    },
    "papermill": {
     "duration": 0.016875,
     "end_time": "2024-10-24T15:51:52.173211",
     "exception": false,
     "start_time": "2024-10-24T15:51:52.156336",
     "status": "completed"
    },
    "tags": [
     "parameters"
    ]
   },
   "outputs": [],
   "source": [
    "data_path: str = \"data/Athaliana.csv\"\n",
    "transformation: str = \"log\""
   ]
  },
  {
   "cell_type": "code",
   "execution_count": 4,
   "id": "648959dd",
   "metadata": {
    "execution": {
     "iopub.execute_input": "2024-10-24T15:51:52.191084Z",
     "iopub.status.busy": "2024-10-24T15:51:52.190939Z",
     "iopub.status.idle": "2024-10-24T15:51:52.196268Z",
     "shell.execute_reply": "2024-10-24T15:51:52.195994Z"
    },
    "papermill": {
     "duration": 0.015241,
     "end_time": "2024-10-24T15:51:52.197085",
     "exception": false,
     "start_time": "2024-10-24T15:51:52.181844",
     "status": "completed"
    },
    "tags": [
     "injected-parameters"
    ]
   },
   "outputs": [],
   "source": [
    "# Parameters\n",
    "data_path = \"data/processed_data/flower_development.csv\"\n",
    "transformation = \"sqrt\"\n"
   ]
  },
  {
   "cell_type": "code",
   "execution_count": 5,
   "id": "1da3e16e",
   "metadata": {
    "execution": {
     "iopub.execute_input": "2024-10-24T15:51:52.224798Z",
     "iopub.status.busy": "2024-10-24T15:51:52.224450Z",
     "iopub.status.idle": "2024-10-24T15:51:57.331160Z",
     "shell.execute_reply": "2024-10-24T15:51:57.330893Z"
    },
    "papermill": {
     "duration": 5.124254,
     "end_time": "2024-10-24T15:51:57.331867",
     "exception": false,
     "start_time": "2024-10-24T15:51:52.207613",
     "status": "completed"
    },
    "tags": []
   },
   "outputs": [
    {
     "data": {
      "text/html": [
       "<div>\n",
       "<style scoped>\n",
       "    .dataframe tbody tr th:only-of-type {\n",
       "        vertical-align: middle;\n",
       "    }\n",
       "\n",
       "    .dataframe tbody tr th {\n",
       "        vertical-align: top;\n",
       "    }\n",
       "\n",
       "    .dataframe thead th {\n",
       "        text-align: right;\n",
       "    }\n",
       "</style>\n",
       "<table border=\"1\" class=\"dataframe\">\n",
       "  <thead>\n",
       "    <tr style=\"text-align: right;\">\n",
       "      <th></th>\n",
       "      <th>Phylostratum</th>\n",
       "      <th>GeneID</th>\n",
       "      <th>0d</th>\n",
       "      <th>1d</th>\n",
       "      <th>1.5d</th>\n",
       "      <th>2d</th>\n",
       "      <th>2.5d</th>\n",
       "      <th>3d</th>\n",
       "      <th>3.5d</th>\n",
       "    </tr>\n",
       "  </thead>\n",
       "  <tbody>\n",
       "    <tr>\n",
       "      <th>0</th>\n",
       "      <td>0.629125</td>\n",
       "      <td>at1g01010</td>\n",
       "      <td>18.696156</td>\n",
       "      <td>19.210598</td>\n",
       "      <td>18.808705</td>\n",
       "      <td>19.251766</td>\n",
       "      <td>19.590672</td>\n",
       "      <td>19.283186</td>\n",
       "      <td>19.326648</td>\n",
       "    </tr>\n",
       "    <tr>\n",
       "      <th>1</th>\n",
       "      <td>0.629125</td>\n",
       "      <td>at1g01020</td>\n",
       "      <td>69.945086</td>\n",
       "      <td>69.450019</td>\n",
       "      <td>67.477939</td>\n",
       "      <td>68.277205</td>\n",
       "      <td>68.870457</td>\n",
       "      <td>67.643630</td>\n",
       "      <td>67.065682</td>\n",
       "    </tr>\n",
       "    <tr>\n",
       "      <th>2</th>\n",
       "      <td>0.629125</td>\n",
       "      <td>at1g01040</td>\n",
       "      <td>95.806506</td>\n",
       "      <td>94.605920</td>\n",
       "      <td>94.862310</td>\n",
       "      <td>95.231359</td>\n",
       "      <td>91.687785</td>\n",
       "      <td>92.113375</td>\n",
       "      <td>90.464083</td>\n",
       "    </tr>\n",
       "    <tr>\n",
       "      <th>3</th>\n",
       "      <td>0.629125</td>\n",
       "      <td>at1g01050</td>\n",
       "      <td>114.515897</td>\n",
       "      <td>113.038000</td>\n",
       "      <td>112.347616</td>\n",
       "      <td>111.796414</td>\n",
       "      <td>109.248876</td>\n",
       "      <td>109.423211</td>\n",
       "      <td>109.129210</td>\n",
       "    </tr>\n",
       "    <tr>\n",
       "      <th>4</th>\n",
       "      <td>0.711680</td>\n",
       "      <td>at1g01060</td>\n",
       "      <td>42.951582</td>\n",
       "      <td>45.533775</td>\n",
       "      <td>42.946735</td>\n",
       "      <td>48.686965</td>\n",
       "      <td>42.082523</td>\n",
       "      <td>43.081593</td>\n",
       "      <td>45.252214</td>\n",
       "    </tr>\n",
       "    <tr>\n",
       "      <th>...</th>\n",
       "      <td>...</td>\n",
       "      <td>...</td>\n",
       "      <td>...</td>\n",
       "      <td>...</td>\n",
       "      <td>...</td>\n",
       "      <td>...</td>\n",
       "      <td>...</td>\n",
       "      <td>...</td>\n",
       "      <td>...</td>\n",
       "    </tr>\n",
       "    <tr>\n",
       "      <th>23240</th>\n",
       "      <td>0.915079</td>\n",
       "      <td>atmg01130</td>\n",
       "      <td>13.427803</td>\n",
       "      <td>13.026044</td>\n",
       "      <td>12.855557</td>\n",
       "      <td>13.226968</td>\n",
       "      <td>13.363204</td>\n",
       "      <td>13.228136</td>\n",
       "      <td>12.785334</td>\n",
       "    </tr>\n",
       "    <tr>\n",
       "      <th>23241</th>\n",
       "      <td>0.629125</td>\n",
       "      <td>atmg01360</td>\n",
       "      <td>49.052793</td>\n",
       "      <td>48.247400</td>\n",
       "      <td>49.260552</td>\n",
       "      <td>48.580143</td>\n",
       "      <td>50.174857</td>\n",
       "      <td>49.587341</td>\n",
       "      <td>47.444389</td>\n",
       "    </tr>\n",
       "    <tr>\n",
       "      <th>23242</th>\n",
       "      <td>0.972467</td>\n",
       "      <td>atmg01370</td>\n",
       "      <td>53.948433</td>\n",
       "      <td>48.472412</td>\n",
       "      <td>47.057956</td>\n",
       "      <td>47.342742</td>\n",
       "      <td>48.492482</td>\n",
       "      <td>49.311849</td>\n",
       "      <td>49.617690</td>\n",
       "    </tr>\n",
       "    <tr>\n",
       "      <th>23243</th>\n",
       "      <td>0.972467</td>\n",
       "      <td>atmg01400</td>\n",
       "      <td>8.204685</td>\n",
       "      <td>8.371647</td>\n",
       "      <td>8.130287</td>\n",
       "      <td>8.456361</td>\n",
       "      <td>7.977598</td>\n",
       "      <td>8.101373</td>\n",
       "      <td>8.006815</td>\n",
       "    </tr>\n",
       "    <tr>\n",
       "      <th>23244</th>\n",
       "      <td>0.629125</td>\n",
       "      <td>atmg01410</td>\n",
       "      <td>10.231079</td>\n",
       "      <td>9.859061</td>\n",
       "      <td>9.667252</td>\n",
       "      <td>9.641925</td>\n",
       "      <td>9.677099</td>\n",
       "      <td>9.633392</td>\n",
       "      <td>9.862479</td>\n",
       "    </tr>\n",
       "  </tbody>\n",
       "</table>\n",
       "<p>23245 rows × 9 columns</p>\n",
       "</div>"
      ],
      "text/plain": [
       "       Phylostratum     GeneID          0d          1d        1.5d  \\\n",
       "0          0.629125  at1g01010   18.696156   19.210598   18.808705   \n",
       "1          0.629125  at1g01020   69.945086   69.450019   67.477939   \n",
       "2          0.629125  at1g01040   95.806506   94.605920   94.862310   \n",
       "3          0.629125  at1g01050  114.515897  113.038000  112.347616   \n",
       "4          0.711680  at1g01060   42.951582   45.533775   42.946735   \n",
       "...             ...        ...         ...         ...         ...   \n",
       "23240      0.915079  atmg01130   13.427803   13.026044   12.855557   \n",
       "23241      0.629125  atmg01360   49.052793   48.247400   49.260552   \n",
       "23242      0.972467  atmg01370   53.948433   48.472412   47.057956   \n",
       "23243      0.972467  atmg01400    8.204685    8.371647    8.130287   \n",
       "23244      0.629125  atmg01410   10.231079    9.859061    9.667252   \n",
       "\n",
       "               2d        2.5d          3d        3.5d  \n",
       "0       19.251766   19.590672   19.283186   19.326648  \n",
       "1       68.277205   68.870457   67.643630   67.065682  \n",
       "2       95.231359   91.687785   92.113375   90.464083  \n",
       "3      111.796414  109.248876  109.423211  109.129210  \n",
       "4       48.686965   42.082523   43.081593   45.252214  \n",
       "...           ...         ...         ...         ...  \n",
       "23240   13.226968   13.363204   13.228136   12.785334  \n",
       "23241   48.580143   50.174857   49.587341   47.444389  \n",
       "23242   47.342742   48.492482   49.311849   49.617690  \n",
       "23243    8.456361    7.977598    8.101373    8.006815  \n",
       "23244    9.641925    9.677099    9.633392    9.862479  \n",
       "\n",
       "[23245 rows x 9 columns]"
      ]
     },
     "execution_count": 5,
     "metadata": {},
     "output_type": "execute_result"
    }
   ],
   "source": [
    "from my_gatai import Expression_data\n",
    "\n",
    "expression_data = Expression_data.from_csv(data_path, \n",
    "                                           transformation=transformation)\n",
    "expression_data.full"
   ]
  },
  {
   "cell_type": "code",
   "execution_count": 6,
   "id": "45cf30b7",
   "metadata": {
    "execution": {
     "iopub.execute_input": "2024-10-24T15:51:57.351919Z",
     "iopub.status.busy": "2024-10-24T15:51:57.351779Z",
     "iopub.status.idle": "2024-10-24T15:51:57.362168Z",
     "shell.execute_reply": "2024-10-24T15:51:57.361923Z"
    },
    "papermill": {
     "duration": 0.020427,
     "end_time": "2024-10-24T15:51:57.362854",
     "exception": false,
     "start_time": "2024-10-24T15:51:57.342427",
     "status": "completed"
    },
    "tags": []
   },
   "outputs": [
    {
     "data": {
      "text/html": [
       "<div>\n",
       "<style scoped>\n",
       "    .dataframe tbody tr th:only-of-type {\n",
       "        vertical-align: middle;\n",
       "    }\n",
       "\n",
       "    .dataframe tbody tr th {\n",
       "        vertical-align: top;\n",
       "    }\n",
       "\n",
       "    .dataframe thead th {\n",
       "        text-align: right;\n",
       "    }\n",
       "</style>\n",
       "<table border=\"1\" class=\"dataframe\">\n",
       "  <thead>\n",
       "    <tr style=\"text-align: right;\">\n",
       "      <th></th>\n",
       "      <th>0d</th>\n",
       "      <th>1d</th>\n",
       "      <th>1.5d</th>\n",
       "      <th>2d</th>\n",
       "      <th>2.5d</th>\n",
       "      <th>3d</th>\n",
       "      <th>3.5d</th>\n",
       "    </tr>\n",
       "  </thead>\n",
       "  <tbody>\n",
       "    <tr>\n",
       "      <th>0</th>\n",
       "      <td>0.000014</td>\n",
       "      <td>0.000014</td>\n",
       "      <td>0.000014</td>\n",
       "      <td>0.000015</td>\n",
       "      <td>0.000015</td>\n",
       "      <td>0.000015</td>\n",
       "      <td>0.000015</td>\n",
       "    </tr>\n",
       "    <tr>\n",
       "      <th>1</th>\n",
       "      <td>0.000053</td>\n",
       "      <td>0.000052</td>\n",
       "      <td>0.000051</td>\n",
       "      <td>0.000051</td>\n",
       "      <td>0.000052</td>\n",
       "      <td>0.000051</td>\n",
       "      <td>0.000051</td>\n",
       "    </tr>\n",
       "    <tr>\n",
       "      <th>2</th>\n",
       "      <td>0.000072</td>\n",
       "      <td>0.000071</td>\n",
       "      <td>0.000072</td>\n",
       "      <td>0.000072</td>\n",
       "      <td>0.000069</td>\n",
       "      <td>0.000069</td>\n",
       "      <td>0.000068</td>\n",
       "    </tr>\n",
       "    <tr>\n",
       "      <th>3</th>\n",
       "      <td>0.000086</td>\n",
       "      <td>0.000085</td>\n",
       "      <td>0.000085</td>\n",
       "      <td>0.000084</td>\n",
       "      <td>0.000082</td>\n",
       "      <td>0.000083</td>\n",
       "      <td>0.000082</td>\n",
       "    </tr>\n",
       "    <tr>\n",
       "      <th>4</th>\n",
       "      <td>0.000037</td>\n",
       "      <td>0.000039</td>\n",
       "      <td>0.000037</td>\n",
       "      <td>0.000042</td>\n",
       "      <td>0.000036</td>\n",
       "      <td>0.000037</td>\n",
       "      <td>0.000039</td>\n",
       "    </tr>\n",
       "    <tr>\n",
       "      <th>...</th>\n",
       "      <td>...</td>\n",
       "      <td>...</td>\n",
       "      <td>...</td>\n",
       "      <td>...</td>\n",
       "      <td>...</td>\n",
       "      <td>...</td>\n",
       "      <td>...</td>\n",
       "    </tr>\n",
       "    <tr>\n",
       "      <th>23240</th>\n",
       "      <td>0.000015</td>\n",
       "      <td>0.000014</td>\n",
       "      <td>0.000014</td>\n",
       "      <td>0.000015</td>\n",
       "      <td>0.000015</td>\n",
       "      <td>0.000015</td>\n",
       "      <td>0.000014</td>\n",
       "    </tr>\n",
       "    <tr>\n",
       "      <th>23241</th>\n",
       "      <td>0.000037</td>\n",
       "      <td>0.000036</td>\n",
       "      <td>0.000037</td>\n",
       "      <td>0.000037</td>\n",
       "      <td>0.000038</td>\n",
       "      <td>0.000037</td>\n",
       "      <td>0.000036</td>\n",
       "    </tr>\n",
       "    <tr>\n",
       "      <th>23242</th>\n",
       "      <td>0.000063</td>\n",
       "      <td>0.000056</td>\n",
       "      <td>0.000055</td>\n",
       "      <td>0.000055</td>\n",
       "      <td>0.000057</td>\n",
       "      <td>0.000058</td>\n",
       "      <td>0.000058</td>\n",
       "    </tr>\n",
       "    <tr>\n",
       "      <th>23243</th>\n",
       "      <td>0.000010</td>\n",
       "      <td>0.000010</td>\n",
       "      <td>0.000009</td>\n",
       "      <td>0.000010</td>\n",
       "      <td>0.000009</td>\n",
       "      <td>0.000009</td>\n",
       "      <td>0.000009</td>\n",
       "    </tr>\n",
       "    <tr>\n",
       "      <th>23244</th>\n",
       "      <td>0.000008</td>\n",
       "      <td>0.000007</td>\n",
       "      <td>0.000007</td>\n",
       "      <td>0.000007</td>\n",
       "      <td>0.000007</td>\n",
       "      <td>0.000007</td>\n",
       "      <td>0.000007</td>\n",
       "    </tr>\n",
       "  </tbody>\n",
       "</table>\n",
       "<p>23245 rows × 7 columns</p>\n",
       "</div>"
      ],
      "text/plain": [
       "             0d        1d      1.5d        2d      2.5d        3d      3.5d\n",
       "0      0.000014  0.000014  0.000014  0.000015  0.000015  0.000015  0.000015\n",
       "1      0.000053  0.000052  0.000051  0.000051  0.000052  0.000051  0.000051\n",
       "2      0.000072  0.000071  0.000072  0.000072  0.000069  0.000069  0.000068\n",
       "3      0.000086  0.000085  0.000085  0.000084  0.000082  0.000083  0.000082\n",
       "4      0.000037  0.000039  0.000037  0.000042  0.000036  0.000037  0.000039\n",
       "...         ...       ...       ...       ...       ...       ...       ...\n",
       "23240  0.000015  0.000014  0.000014  0.000015  0.000015  0.000015  0.000014\n",
       "23241  0.000037  0.000036  0.000037  0.000037  0.000038  0.000037  0.000036\n",
       "23242  0.000063  0.000056  0.000055  0.000055  0.000057  0.000058  0.000058\n",
       "23243  0.000010  0.000010  0.000009  0.000010  0.000009  0.000009  0.000009\n",
       "23244  0.000008  0.000007  0.000007  0.000007  0.000007  0.000007  0.000007\n",
       "\n",
       "[23245 rows x 7 columns]"
      ]
     },
     "execution_count": 6,
     "metadata": {},
     "output_type": "execute_result"
    }
   ],
   "source": [
    "expression_data.p_matrix"
   ]
  },
  {
   "cell_type": "code",
   "execution_count": 7,
   "id": "a38c280e",
   "metadata": {
    "execution": {
     "iopub.execute_input": "2024-10-24T15:51:57.383436Z",
     "iopub.status.busy": "2024-10-24T15:51:57.383331Z",
     "iopub.status.idle": "2024-10-24T15:51:57.392248Z",
     "shell.execute_reply": "2024-10-24T15:51:57.392060Z"
    },
    "papermill": {
     "duration": 0.017288,
     "end_time": "2024-10-24T15:51:57.392885",
     "exception": false,
     "start_time": "2024-10-24T15:51:57.375597",
     "status": "completed"
    },
    "tags": []
   },
   "outputs": [
    {
     "data": {
      "text/plain": [
       "0d      0.676534\n",
       "1d      0.676505\n",
       "1.5d    0.676489\n",
       "2d      0.676505\n",
       "2.5d    0.676563\n",
       "3d      0.676525\n",
       "3.5d    0.676500\n",
       "dtype: float64"
      ]
     },
     "execution_count": 7,
     "metadata": {},
     "output_type": "execute_result"
    }
   ],
   "source": [
    "expression_data.tai"
   ]
  },
  {
   "cell_type": "markdown",
   "id": "43908b2a",
   "metadata": {
    "papermill": {
     "duration": 0.007845,
     "end_time": "2024-10-24T15:51:57.410612",
     "exception": false,
     "start_time": "2024-10-24T15:51:57.402767",
     "status": "completed"
    },
    "tags": []
   },
   "source": [
    "### 1.1 Compute TAI value"
   ]
  },
  {
   "cell_type": "code",
   "execution_count": 8,
   "id": "e699ce00",
   "metadata": {
    "execution": {
     "iopub.execute_input": "2024-10-24T15:51:57.425766Z",
     "iopub.status.busy": "2024-10-24T15:51:57.425661Z",
     "iopub.status.idle": "2024-10-24T15:51:57.555547Z",
     "shell.execute_reply": "2024-10-24T15:51:57.555327Z"
    },
    "papermill": {
     "duration": 0.13716,
     "end_time": "2024-10-24T15:51:57.556203",
     "exception": false,
     "start_time": "2024-10-24T15:51:57.419043",
     "status": "completed"
    },
    "tags": []
   },
   "outputs": [
    {
     "data": {
      "image/png": "[encoded data removed]",
      "text/plain": [
       "<Figure size 640x480 with 1 Axes>"
      ]
     },
     "metadata": {},
     "output_type": "display_data"
    }
   ],
   "source": [
    "import matplotlib.pyplot as plt\n",
    "\n",
    "plt.plot(expression_data.tai)\n",
    "plt.show()"
   ]
  },
  {
   "cell_type": "markdown",
   "id": "82ea77d6",
   "metadata": {
    "papermill": {
     "duration": 0.007585,
     "end_time": "2024-10-24T15:51:57.573666",
     "exception": false,
     "start_time": "2024-10-24T15:51:57.566081",
     "status": "completed"
    },
    "tags": []
   },
   "source": [
    "## 2. Flatline test"
   ]
  },
  {
   "cell_type": "markdown",
   "id": "40c1a7d2",
   "metadata": {
    "papermill": {
     "duration": 0.007323,
     "end_time": "2024-10-24T15:51:57.588931",
     "exception": false,
     "start_time": "2024-10-24T15:51:57.581608",
     "status": "completed"
    },
    "tags": []
   },
   "source": [
    "### 2.1. Compute variance of TAI curve"
   ]
  },
  {
   "cell_type": "code",
   "execution_count": 9,
   "id": "f2f44c9c",
   "metadata": {
    "execution": {
     "iopub.execute_input": "2024-10-24T15:51:57.603929Z",
     "iopub.status.busy": "2024-10-24T15:51:57.603783Z",
     "iopub.status.idle": "2024-10-24T15:51:57.615010Z",
     "shell.execute_reply": "2024-10-24T15:51:57.614759Z"
    },
    "papermill": {
     "duration": 0.01955,
     "end_time": "2024-10-24T15:51:57.615718",
     "exception": false,
     "start_time": "2024-10-24T15:51:57.596168",
     "status": "completed"
    },
    "tags": []
   },
   "outputs": [
    {
     "data": {
      "text/plain": [
       "5.355204306945335e-10"
      ]
     },
     "execution_count": 9,
     "metadata": {},
     "output_type": "execute_result"
    }
   ],
   "source": [
    "import numpy as np\n",
    "tai_var = np.var(expression_data.tai).item()\n",
    "tai_var"
   ]
  },
  {
   "cell_type": "markdown",
   "id": "225aede5",
   "metadata": {
    "papermill": {
     "duration": 0.007593,
     "end_time": "2024-10-24T15:51:57.633578",
     "exception": false,
     "start_time": "2024-10-24T15:51:57.625985",
     "status": "completed"
    },
    "tags": []
   },
   "source": [
    "### 2.2. Compute permutation variance distribution\n",
    "\n",
    "Permute the assigned gene ages between the genes to run the flat line test"
   ]
  },
  {
   "cell_type": "code",
   "execution_count": 10,
   "id": "a61faa1d",
   "metadata": {
    "execution": {
     "iopub.execute_input": "2024-10-24T15:51:57.648010Z",
     "iopub.status.busy": "2024-10-24T15:51:57.647887Z",
     "iopub.status.idle": "2024-10-24T15:52:03.524065Z",
     "shell.execute_reply": "2024-10-24T15:52:03.523852Z"
    },
    "papermill": {
     "duration": 5.884645,
     "end_time": "2024-10-24T15:52:03.524778",
     "exception": false,
     "start_time": "2024-10-24T15:51:57.640133",
     "status": "completed"
    },
    "tags": []
   },
   "outputs": [
    {
     "name": "stdout",
     "output_type": "stream",
     "text": [
      "Running permuations\n"
     ]
    },
    {
     "name": "stderr",
     "output_type": "stream",
     "text": [
      "\r",
      "  0%|                                                                                                                                                                                          | 0/10000 [00:00<?, ?it/s]"
     ]
    },
    {
     "name": "stderr",
     "output_type": "stream",
     "text": [
      "\r",
      "  2%|███▎                                                                                                                                                                          | 189/10000 [00:00<00:05, 1889.70it/s]"
     ]
    },
    {
     "name": "stderr",
     "output_type": "stream",
     "text": [
      "\r",
      "  4%|███████▌                                                                                                                                                                      | 433/10000 [00:00<00:04, 2213.15it/s]"
     ]
    },
    {
     "name": "stderr",
     "output_type": "stream",
     "text": [
      "\r",
      "  7%|████████████                                                                                                                                                                  | 690/10000 [00:00<00:03, 2372.90it/s]"
     ]
    },
    {
     "name": "stderr",
     "output_type": "stream",
     "text": [
      "\r",
      "  9%|████████████████▎                                                                                                                                                             | 939/10000 [00:00<00:03, 2416.89it/s]"
     ]
    },
    {
     "name": "stderr",
     "output_type": "stream",
     "text": [
      "\r",
      " 12%|████████████████████▋                                                                                                                                                        | 1196/10000 [00:00<00:03, 2470.64it/s]"
     ]
    },
    {
     "name": "stderr",
     "output_type": "stream",
     "text": [
      "\r",
      " 14%|█████████████████████████                                                                                                                                                    | 1446/10000 [00:00<00:03, 2478.92it/s]"
     ]
    },
    {
     "name": "stderr",
     "output_type": "stream",
     "text": [
      "\r",
      " 17%|█████████████████████████████▎                                                                                                                                               | 1694/10000 [00:00<00:03, 2294.12it/s]"
     ]
    },
    {
     "name": "stderr",
     "output_type": "stream",
     "text": [
      "\r",
      " 19%|█████████████████████████████████▋                                                                                                                                           | 1947/10000 [00:00<00:03, 2364.21it/s]"
     ]
    },
    {
     "name": "stderr",
     "output_type": "stream",
     "text": [
      "\r",
      " 22%|█████████████████████████████████████▉                                                                                                                                       | 2195/10000 [00:00<00:03, 2398.59it/s]"
     ]
    },
    {
     "name": "stderr",
     "output_type": "stream",
     "text": [
      "\r",
      " 25%|██████████████████████████████████████████▍                                                                                                                                  | 2451/10000 [00:01<00:03, 2446.19it/s]"
     ]
    },
    {
     "name": "stderr",
     "output_type": "stream",
     "text": [
      "\r",
      " 27%|██████████████████████████████████████████████▊                                                                                                                              | 2704/10000 [00:01<00:02, 2468.56it/s]"
     ]
    },
    {
     "name": "stderr",
     "output_type": "stream",
     "text": [
      "\r",
      " 30%|███████████████████████████████████████████████████                                                                                                                          | 2954/10000 [00:01<00:02, 2477.68it/s]"
     ]
    },
    {
     "name": "stderr",
     "output_type": "stream",
     "text": [
      "\r",
      " 32%|███████████████████████████████████████████████████████▍                                                                                                                     | 3206/10000 [00:01<00:02, 2488.35it/s]"
     ]
    },
    {
     "name": "stderr",
     "output_type": "stream",
     "text": [
      "\r",
      " 35%|███████████████████████████████████████████████████████████▊                                                                                                                 | 3456/10000 [00:01<00:02, 2474.16it/s]"
     ]
    },
    {
     "name": "stderr",
     "output_type": "stream",
     "text": [
      "\r",
      " 37%|████████████████████████████████████████████████████████████████                                                                                                             | 3705/10000 [00:01<00:02, 2477.69it/s]"
     ]
    },
    {
     "name": "stderr",
     "output_type": "stream",
     "text": [
      "\r",
      " 40%|████████████████████████████████████████████████████████████████████▍                                                                                                        | 3953/10000 [00:01<00:02, 2465.81it/s]"
     ]
    },
    {
     "name": "stderr",
     "output_type": "stream",
     "text": [
      "\r",
      " 42%|████████████████████████████████████████████████████████████████████████▋                                                                                                    | 4200/10000 [00:01<00:02, 2463.10it/s]"
     ]
    },
    {
     "name": "stderr",
     "output_type": "stream",
     "text": [
      "\r",
      " 44%|████████████████████████████████████████████████████████████████████████████▉                                                                                                | 4448/10000 [00:01<00:02, 2467.60it/s]"
     ]
    },
    {
     "name": "stderr",
     "output_type": "stream",
     "text": [
      "\r",
      " 47%|█████████████████████████████████████████████████████████████████████████████████▏                                                                                           | 4695/10000 [00:01<00:02, 2432.51it/s]"
     ]
    },
    {
     "name": "stderr",
     "output_type": "stream",
     "text": [
      "\r",
      " 49%|█████████████████████████████████████████████████████████████████████████████████████▌                                                                                       | 4944/10000 [00:02<00:02, 2448.68it/s]"
     ]
    },
    {
     "name": "stderr",
     "output_type": "stream",
     "text": [
      "\r",
      " 52%|█████████████████████████████████████████████████████████████████████████████████████████▊                                                                                   | 5195/10000 [00:02<00:01, 2465.95it/s]"
     ]
    },
    {
     "name": "stderr",
     "output_type": "stream",
     "text": [
      "\r",
      " 54%|██████████████████████████████████████████████████████████████████████████████████████████████▏                                                                              | 5442/10000 [00:02<00:01, 2452.06it/s]"
     ]
    },
    {
     "name": "stderr",
     "output_type": "stream",
     "text": [
      "\r",
      " 57%|██████████████████████████████████████████████████████████████████████████████████████████████████▌                                                                          | 5694/10000 [00:02<00:01, 2471.16it/s]"
     ]
    },
    {
     "name": "stderr",
     "output_type": "stream",
     "text": [
      "\r",
      " 59%|██████████████████████████████████████████████████████████████████████████████████████████████████████▊                                                                      | 5946/10000 [00:02<00:01, 2484.80it/s]"
     ]
    },
    {
     "name": "stderr",
     "output_type": "stream",
     "text": [
      "\r",
      " 62%|███████████████████████████████████████████████████████████████████████████████████████████████████████████▏                                                                 | 6198/10000 [00:02<00:01, 2493.10it/s]"
     ]
    },
    {
     "name": "stderr",
     "output_type": "stream",
     "text": [
      "\r",
      " 64%|███████████████████████████████████████████████████████████████████████████████████████████████████████████████▌                                                             | 6450/10000 [00:02<00:01, 2499.56it/s]"
     ]
    },
    {
     "name": "stderr",
     "output_type": "stream",
     "text": [
      "\r",
      " 67%|███████████████████████████████████████████████████████████████████████████████████████████████████████████████████▉                                                         | 6703/10000 [00:02<00:01, 2506.69it/s]"
     ]
    },
    {
     "name": "stderr",
     "output_type": "stream",
     "text": [
      "\r",
      " 70%|████████████████████████████████████████████████████████████████████████████████████████████████████████████████████████▎                                                    | 6956/10000 [00:02<00:01, 2510.86it/s]"
     ]
    },
    {
     "name": "stderr",
     "output_type": "stream",
     "text": [
      "\r",
      " 72%|████████████████████████████████████████████████████████████████████████████████████████████████████████████████████████████▋                                                | 7208/10000 [00:02<00:01, 2486.97it/s]"
     ]
    },
    {
     "name": "stderr",
     "output_type": "stream",
     "text": [
      "\r",
      " 75%|█████████████████████████████████████████████████████████████████████████████████████████████████████████████████████████████████                                            | 7457/10000 [00:03<00:01, 2469.90it/s]"
     ]
    },
    {
     "name": "stderr",
     "output_type": "stream",
     "text": [
      "\r",
      " 77%|█████████████████████████████████████████████████████████████████████████████████████████████████████████████████████████████████████▎                                       | 7705/10000 [00:03<00:01, 2273.41it/s]"
     ]
    },
    {
     "name": "stderr",
     "output_type": "stream",
     "text": [
      "\r",
      " 79%|█████████████████████████████████████████████████████████████████████████████████████████████████████████████████████████████████████████▌                                   | 7949/10000 [00:03<00:00, 2317.53it/s]"
     ]
    },
    {
     "name": "stderr",
     "output_type": "stream",
     "text": [
      "\r",
      " 82%|█████████████████████████████████████████████████████████████████████████████████████████████████████████████████████████████████████████████▋                               | 8192/10000 [00:03<00:00, 2348.10it/s]"
     ]
    },
    {
     "name": "stderr",
     "output_type": "stream",
     "text": [
      "\r",
      " 84%|██████████████████████████████████████████████████████████████████████████████████████████████████████████████████████████████████████████████████                           | 8445/10000 [00:03<00:00, 2399.17it/s]"
     ]
    },
    {
     "name": "stderr",
     "output_type": "stream",
     "text": [
      "\r",
      " 87%|██████████████████████████████████████████████████████████████████████████████████████████████████████████████████████████████████████████████████████▍                      | 8695/10000 [00:03<00:00, 2428.42it/s]"
     ]
    },
    {
     "name": "stderr",
     "output_type": "stream",
     "text": [
      "\r",
      " 89%|██████████████████████████████████████████████████████████████████████████████████████████████████████████████████████████████████████████████████████████▋                  | 8939/10000 [00:03<00:00, 2428.43it/s]"
     ]
    },
    {
     "name": "stderr",
     "output_type": "stream",
     "text": [
      "\r",
      " 92%|██████████████████████████████████████████████████████████████████████████████████████████████████████████████████████████████████████████████████████████████▊              | 9183/10000 [00:03<00:00, 2428.27it/s]"
     ]
    },
    {
     "name": "stderr",
     "output_type": "stream",
     "text": [
      "\r",
      " 94%|███████████████████████████████████████████████████████████████████████████████████████████████████████████████████████████████████████████████████████████████████▏         | 9435/10000 [00:03<00:00, 2455.27it/s]"
     ]
    },
    {
     "name": "stderr",
     "output_type": "stream",
     "text": [
      "\r",
      " 97%|███████████████████████████████████████████████████████████████████████████████████████████████████████████████████████████████████████████████████████████████████████▍     | 9681/10000 [00:03<00:00, 2448.02it/s]"
     ]
    },
    {
     "name": "stderr",
     "output_type": "stream",
     "text": [
      "\r",
      " 99%|███████████████████████████████████████████████████████████████████████████████████████████████████████████████████████████████████████████████████████████████████████████▋ | 9927/10000 [00:04<00:00, 2430.27it/s]"
     ]
    },
    {
     "name": "stderr",
     "output_type": "stream",
     "text": [
      "\r",
      "100%|████████████████████████████████████████████████████████████████████████████████████████████████████████████████████████████████████████████████████████████████████████████| 10000/10000 [00:04<00:00, 2431.19it/s]"
     ]
    },
    {
     "name": "stderr",
     "output_type": "stream",
     "text": [
      "\n"
     ]
    }
   ],
   "source": [
    "from gatai.utils import comp_vars\n",
    "\n",
    "num_permutations = 10000\n",
    "permutation_comp_vars = comp_vars(expression_data, num_permutations)"
   ]
  },
  {
   "cell_type": "markdown",
   "id": "f067e68a",
   "metadata": {
    "papermill": {
     "duration": 0.01112,
     "end_time": "2024-10-24T15:52:03.549334",
     "exception": false,
     "start_time": "2024-10-24T15:52:03.538214",
     "status": "completed"
    },
    "tags": []
   },
   "source": [
    "### 2.3. Fit the random variances to a Gamma distribution and compute the p-value of the true TAI"
   ]
  },
  {
   "cell_type": "code",
   "execution_count": 11,
   "id": "d8b7d424",
   "metadata": {
    "execution": {
     "iopub.execute_input": "2024-10-24T15:52:03.568866Z",
     "iopub.status.busy": "2024-10-24T15:52:03.568707Z",
     "iopub.status.idle": "2024-10-24T15:52:03.583291Z",
     "shell.execute_reply": "2024-10-24T15:52:03.583082Z"
    },
    "papermill": {
     "duration": 0.024183,
     "end_time": "2024-10-24T15:52:03.583924",
     "exception": false,
     "start_time": "2024-10-24T15:52:03.559741",
     "status": "completed"
    },
    "tags": []
   },
   "outputs": [
    {
     "name": "stdout",
     "output_type": "stream",
     "text": [
      "Gamma fit params: 0.6557564903805214 1.6828359207166612e-10 1.034602549916629e-09\n"
     ]
    }
   ],
   "source": [
    "from flatline import fit_gamma, p_value_function\n",
    "\n",
    "# NOTE: the default fitting method used by scipy doesn't achieve a very good fit, so use \"MM\"\n",
    "a, loc, scale = fit_gamma(permutation_comp_vars)\n",
    "get_p_value = p_value_function(a, loc, scale)\n",
    "print(\"Gamma fit params:\", a, loc, scale)"
   ]
  },
  {
   "cell_type": "code",
   "execution_count": 12,
   "id": "2fb8e60f",
   "metadata": {
    "execution": {
     "iopub.execute_input": "2024-10-24T15:52:03.604602Z",
     "iopub.status.busy": "2024-10-24T15:52:03.604513Z",
     "iopub.status.idle": "2024-10-24T15:52:03.612629Z",
     "shell.execute_reply": "2024-10-24T15:52:03.612426Z"
    },
    "papermill": {
     "duration": 0.018895,
     "end_time": "2024-10-24T15:52:03.613207",
     "exception": false,
     "start_time": "2024-10-24T15:52:03.594312",
     "status": "completed"
    },
    "tags": []
   },
   "outputs": [
    {
     "name": "stdout",
     "output_type": "stream",
     "text": [
      "p-value of TAI: 0.5083299611588685\n"
     ]
    }
   ],
   "source": [
    "print(\"p-value of TAI:\", get_p_value(tai_var))"
   ]
  },
  {
   "cell_type": "markdown",
   "id": "36c87efe",
   "metadata": {
    "papermill": {
     "duration": 0.00841,
     "end_time": "2024-10-24T15:52:03.631485",
     "exception": false,
     "start_time": "2024-10-24T15:52:03.623075",
     "status": "completed"
    },
    "tags": []
   },
   "source": [
    "### 2.4. Visually compare the random TAI variances against the true one"
   ]
  },
  {
   "cell_type": "code",
   "execution_count": 13,
   "id": "b3c03a7d",
   "metadata": {
    "execution": {
     "iopub.execute_input": "2024-10-24T15:52:03.650766Z",
     "iopub.status.busy": "2024-10-24T15:52:03.650659Z",
     "iopub.status.idle": "2024-10-24T15:52:03.724049Z",
     "shell.execute_reply": "2024-10-24T15:52:03.723837Z"
    },
    "papermill": {
     "duration": 0.083774,
     "end_time": "2024-10-24T15:52:03.724691",
     "exception": false,
     "start_time": "2024-10-24T15:52:03.640917",
     "status": "completed"
    },
    "tags": []
   },
   "outputs": [
    {
     "data": {
      "image/png": "[encoded data removed]",
      "text/plain": [
       "<Figure size 640x480 with 1 Axes>"
      ]
     },
     "metadata": {},
     "output_type": "display_data"
    }
   ],
   "source": [
    "from scipy import stats\n",
    "plt.hist(permutation_comp_vars, density=True, bins=100, label=\"Random gene age TAI variance\")\n",
    "plt.axvline(x=tai_var, label=\"True TAI variance\", color=\"red\")\n",
    "\n",
    "x = np.linspace(0, tai_var, 200)\n",
    "y = stats.gamma.pdf(x, a, loc=loc, scale=scale)\n",
    "plt.plot(x, y, label=\"Fitted gamma distribution\", linestyle=\"dashed\")\n",
    "\n",
    "plt.legend()\n",
    "plt.show()"
   ]
  },
  {
   "cell_type": "markdown",
   "id": "546fd856",
   "metadata": {
    "papermill": {
     "duration": 0.013358,
     "end_time": "2024-10-24T15:52:03.751352",
     "exception": false,
     "start_time": "2024-10-24T15:52:03.737994",
     "status": "completed"
    },
    "tags": []
   },
   "source": [
    "## 3. Destroy TAI signal with GATAI"
   ]
  },
  {
   "cell_type": "markdown",
   "id": "2b027b78",
   "metadata": {
    "papermill": {
     "duration": 0.008839,
     "end_time": "2024-10-24T15:52:03.770130",
     "exception": false,
     "start_time": "2024-10-24T15:52:03.761291",
     "status": "completed"
    },
    "tags": []
   },
   "source": [
    "### 3.1 Run genetic algorithm to extract genes that break the pattern\n",
    "Note that the transformation used for the expression data heavily influences the number of genes that get extracted, as well as the number of generations needed for convergence.\n",
    "\n",
    "Also, with transformations applied, older genes are better represented"
   ]
  },
  {
   "cell_type": "code",
   "execution_count": 14,
   "id": "d744846e",
   "metadata": {
    "execution": {
     "iopub.execute_input": "2024-10-24T15:52:03.792540Z",
     "iopub.status.busy": "2024-10-24T15:52:03.792422Z",
     "iopub.status.idle": "2024-10-24T15:53:00.468458Z",
     "shell.execute_reply": "2024-10-24T15:53:00.468124Z"
    },
    "papermill": {
     "duration": 56.68912,
     "end_time": "2024-10-24T15:53:00.469165",
     "exception": false,
     "start_time": "2024-10-24T15:52:03.780045",
     "status": "completed"
    },
    "tags": []
   },
   "outputs": [
    {
     "name": "stdout",
     "output_type": "stream",
     "text": [
      "gen\tisland\tNum removed\tVariance\n",
      "0  \t      \t2          \t1.44065 \n"
     ]
    },
    {
     "name": "stdout",
     "output_type": "stream",
     "text": [
      "10 \t1     \t526        \t0.919306\n",
      "10 \t2     \t225        \t1.11691 \n",
      "10 \t3     \t334        \t1.10759 \n",
      "10 \t4     \t459        \t1.16341 \n",
      "\n",
      "\n"
     ]
    },
    {
     "name": "stdout",
     "output_type": "stream",
     "text": [
      "20 \t1     \t313        \t1.07846 \n",
      "20 \t2     \t506        \t0.879276\n",
      "20 \t3     \t604        \t0.843757\n",
      "20 \t4     \t544        \t0.925926\n",
      "\n",
      "\n"
     ]
    },
    {
     "name": "stdout",
     "output_type": "stream",
     "text": [
      "30 \t1     \t694        \t0.815023\n",
      "30 \t2     \t838        \t0.700955\n",
      "30 \t3     \t555        \t0.813429\n",
      "30 \t4     \t786        \t0.763542\n",
      "\n",
      "\n"
     ]
    },
    {
     "name": "stdout",
     "output_type": "stream",
     "text": [
      "40 \t1     \t785        \t0.737155\n",
      "40 \t2     \t733        \t0.714016\n",
      "40 \t3     \t784        \t-0      \n",
      "40 \t4     \t732        \t0.702664\n",
      "\n",
      "\n"
     ]
    },
    {
     "name": "stdout",
     "output_type": "stream",
     "text": [
      "50 \t1     \t501        \t-0      \n",
      "50 \t2     \t864        \t-0      \n",
      "50 \t3     \t691        \t-0      \n",
      "50 \t4     \t715        \t-0      \n",
      "\n",
      "\n"
     ]
    },
    {
     "name": "stdout",
     "output_type": "stream",
     "text": [
      "60 \t1     \t476        \t-0      \n",
      "60 \t2     \t485        \t-0      \n",
      "60 \t3     \t638        \t-0      \n",
      "60 \t4     \t581        \t-0      \n",
      "\n",
      "\n"
     ]
    },
    {
     "name": "stdout",
     "output_type": "stream",
     "text": [
      "70 \t1     \t475        \t-0      \n",
      "70 \t2     \t445        \t-0      \n",
      "70 \t3     \t476        \t-0      \n",
      "70 \t4     \t492        \t-0      \n",
      "\n",
      "\n"
     ]
    },
    {
     "name": "stdout",
     "output_type": "stream",
     "text": [
      "80 \t1     \t413        \t-0      \n",
      "80 \t2     \t429        \t-0      \n",
      "80 \t3     \t432        \t-0      \n",
      "80 \t4     \t446        \t-0      \n",
      "\n",
      "\n"
     ]
    },
    {
     "name": "stdout",
     "output_type": "stream",
     "text": [
      "90 \t1     \t414        \t-0      \n",
      "90 \t2     \t392        \t-0      \n",
      "90 \t3     \t341        \t-0      \n",
      "90 \t4     \t370        \t-0      \n",
      "\n",
      "\n"
     ]
    },
    {
     "name": "stdout",
     "output_type": "stream",
     "text": [
      "100\t1     \t341        \t-0      \n",
      "100\t2     \t367        \t-0      \n",
      "100\t3     \t372        \t-0      \n",
      "100\t4     \t324        \t-0      \n",
      "\n",
      "\n"
     ]
    },
    {
     "name": "stdout",
     "output_type": "stream",
     "text": [
      "110\t1     \t312        \t-0      \n",
      "110\t2     \t316        \t-0      \n",
      "110\t3     \t335        \t-0      \n",
      "110\t4     \t366        \t-0      \n",
      "\n",
      "\n"
     ]
    },
    {
     "name": "stdout",
     "output_type": "stream",
     "text": [
      "120\t1     \t275        \t-0      \n",
      "120\t2     \t238        \t-0      \n",
      "120\t3     \t291        \t-0      \n",
      "120\t4     \t289        \t-0      \n",
      "\n",
      "\n"
     ]
    },
    {
     "name": "stdout",
     "output_type": "stream",
     "text": [
      "130\t1     \t243        \t-0      \n",
      "130\t2     \t255        \t-0      \n",
      "130\t3     \t224        \t-0      \n",
      "130\t4     \t282        \t-0      \n",
      "\n",
      "\n"
     ]
    },
    {
     "name": "stdout",
     "output_type": "stream",
     "text": [
      "140\t1     \t269        \t-0      \n",
      "140\t2     \t238        \t-0      \n",
      "140\t3     \t163        \t-0      \n",
      "140\t4     \t211        \t-0      \n",
      "\n",
      "\n"
     ]
    },
    {
     "name": "stdout",
     "output_type": "stream",
     "text": [
      "150\t1     \t208        \t-0      \n",
      "150\t2     \t225        \t-0      \n",
      "150\t3     \t223        \t-0      \n",
      "150\t4     \t156        \t-0      \n",
      "\n",
      "\n"
     ]
    },
    {
     "name": "stdout",
     "output_type": "stream",
     "text": [
      "160\t1     \t144        \t-0      \n",
      "160\t2     \t182        \t-0      \n",
      "160\t3     \t147        \t-0      \n",
      "160\t4     \t220        \t-0      \n",
      "\n",
      "\n"
     ]
    },
    {
     "name": "stdout",
     "output_type": "stream",
     "text": [
      "170\t1     \t192        \t-0      \n",
      "170\t2     \t142        \t-0      \n",
      "170\t3     \t138        \t-0      \n",
      "170\t4     \t138        \t-0      \n",
      "\n",
      "\n"
     ]
    },
    {
     "name": "stdout",
     "output_type": "stream",
     "text": [
      "180\t1     \t129        \t-0      \n",
      "180\t2     \t135        \t-0      \n",
      "180\t3     \t121        \t-0      \n",
      "180\t4     \t106        \t-0      \n",
      "\n",
      "\n"
     ]
    },
    {
     "name": "stdout",
     "output_type": "stream",
     "text": [
      "190\t1     \t96         \t-0      \n",
      "190\t2     \t118        \t-0      \n",
      "190\t3     \t130        \t-0      \n",
      "190\t4     \t100        \t-0      \n",
      "\n",
      "\n"
     ]
    },
    {
     "name": "stdout",
     "output_type": "stream",
     "text": [
      "200\t1     \t94         \t-0      \n",
      "200\t2     \t95         \t-0      \n",
      "200\t3     \t108        \t-0      \n",
      "200\t4     \t91         \t-0      \n",
      "\n",
      "\n"
     ]
    },
    {
     "name": "stdout",
     "output_type": "stream",
     "text": [
      "210\t1     \t85         \t-0      \n",
      "210\t2     \t86         \t-0      \n",
      "210\t3     \t84         \t-0      \n",
      "210\t4     \t90         \t-0      \n",
      "\n",
      "\n"
     ]
    },
    {
     "name": "stdout",
     "output_type": "stream",
     "text": [
      "220\t1     \t85         \t-0      \n",
      "220\t2     \t82         \t-0      \n",
      "220\t3     \t82         \t-0      \n",
      "220\t4     \t78         \t-0      \n",
      "\n",
      "\n"
     ]
    },
    {
     "name": "stdout",
     "output_type": "stream",
     "text": [
      "230\t1     \t69         \t-0      \n",
      "230\t2     \t82         \t-0      \n",
      "230\t3     \t81         \t-0      \n",
      "230\t4     \t75         \t-0      \n",
      "\n",
      "\n"
     ]
    },
    {
     "name": "stdout",
     "output_type": "stream",
     "text": [
      "240\t1     \t73         \t-0      \n",
      "240\t2     \t45         \t-0      \n",
      "240\t3     \t77         \t-0      \n",
      "240\t4     \t78         \t-0      \n",
      "\n",
      "\n"
     ]
    },
    {
     "name": "stdout",
     "output_type": "stream",
     "text": [
      "250\t1     \t46         \t-0      \n",
      "250\t2     \t42         \t-0      \n",
      "250\t3     \t41         \t-0      \n",
      "250\t4     \t41         \t-0      \n",
      "\n",
      "\n"
     ]
    },
    {
     "name": "stdout",
     "output_type": "stream",
     "text": [
      "260\t1     \t38         \t-0      \n",
      "260\t2     \t38         \t-0      \n",
      "260\t3     \t36         \t-0      \n",
      "260\t4     \t39         \t-0      \n",
      "\n",
      "\n"
     ]
    },
    {
     "name": "stdout",
     "output_type": "stream",
     "text": [
      "270\t1     \t37         \t-0      \n",
      "270\t2     \t34         \t-0      \n",
      "270\t3     \t38         \t-0      \n",
      "270\t4     \t36         \t-0      \n",
      "\n",
      "\n"
     ]
    },
    {
     "name": "stdout",
     "output_type": "stream",
     "text": [
      "280\t1     \t35         \t-0      \n",
      "280\t2     \t32         \t-0      \n",
      "280\t3     \t37         \t-0      \n",
      "280\t4     \t35         \t-0      \n",
      "\n",
      "\n"
     ]
    },
    {
     "name": "stdout",
     "output_type": "stream",
     "text": [
      "290\t1     \t34         \t-0      \n",
      "290\t2     \t31         \t-0      \n",
      "290\t3     \t32         \t-0      \n",
      "290\t4     \t35         \t-0      \n",
      "\n",
      "\n"
     ]
    },
    {
     "name": "stdout",
     "output_type": "stream",
     "text": [
      "300\t1     \t33         \t-0      \n",
      "300\t2     \t29         \t-0      \n",
      "300\t3     \t31         \t-0      \n",
      "300\t4     \t32         \t-0      \n",
      "\n",
      "\n"
     ]
    },
    {
     "name": "stdout",
     "output_type": "stream",
     "text": [
      "310\t1     \t31         \t-0      \n",
      "310\t2     \t29         \t-0      \n",
      "310\t3     \t29         \t-0      \n",
      "310\t4     \t30         \t-0      \n",
      "\n",
      "\n"
     ]
    },
    {
     "name": "stdout",
     "output_type": "stream",
     "text": [
      "320\t1     \t30         \t-0      \n",
      "320\t2     \t29         \t-0      \n",
      "320\t3     \t29         \t-0      \n",
      "320\t4     \t29         \t-0      \n",
      "\n",
      "\n"
     ]
    },
    {
     "name": "stdout",
     "output_type": "stream",
     "text": [
      "330\t1     \t27         \t-0      \n",
      "330\t2     \t29         \t-0      \n",
      "330\t3     \t29         \t-0      \n",
      "330\t4     \t26         \t-0      \n",
      "\n",
      "\n"
     ]
    },
    {
     "name": "stdout",
     "output_type": "stream",
     "text": [
      "340\t1     \t26         \t-0      \n",
      "340\t2     \t26         \t-0      \n",
      "340\t3     \t29         \t-0      \n",
      "340\t4     \t29         \t-0      \n",
      "\n",
      "\n"
     ]
    },
    {
     "name": "stdout",
     "output_type": "stream",
     "text": [
      "350\t1     \t24         \t-0      \n",
      "350\t2     \t26         \t-0      \n",
      "350\t3     \t26         \t-0      \n",
      "350\t4     \t29         \t-0      \n",
      "\n",
      "\n"
     ]
    },
    {
     "name": "stdout",
     "output_type": "stream",
     "text": [
      "360\t1     \t24         \t-0      \n",
      "360\t2     \t24         \t-0      \n",
      "360\t3     \t26         \t-0      \n",
      "360\t4     \t26         \t-0      \n",
      "\n",
      "\n"
     ]
    },
    {
     "name": "stdout",
     "output_type": "stream",
     "text": [
      "370\t1     \t24         \t-0      \n",
      "370\t2     \t24         \t-0      \n",
      "370\t3     \t24         \t-0      \n",
      "370\t4     \t26         \t-0      \n",
      "\n",
      "\n"
     ]
    },
    {
     "name": "stdout",
     "output_type": "stream",
     "text": [
      "380\t1     \t24         \t-0      \n",
      "380\t2     \t24         \t-0      \n",
      "380\t3     \t24         \t-0      \n",
      "380\t4     \t24         \t-0      \n",
      "\n",
      "\n"
     ]
    },
    {
     "name": "stdout",
     "output_type": "stream",
     "text": [
      "390\t1     \t24         \t-0      \n",
      "390\t2     \t24         \t-0      \n",
      "390\t3     \t24         \t-0      \n",
      "390\t4     \t24         \t-0      \n",
      "\n",
      "\n"
     ]
    },
    {
     "name": "stdout",
     "output_type": "stream",
     "text": [
      "400\t1     \t24         \t-0      \n",
      "400\t2     \t24         \t-0      \n",
      "400\t3     \t24         \t-0      \n",
      "400\t4     \t24         \t-0      \n",
      "\n",
      "\n"
     ]
    },
    {
     "name": "stdout",
     "output_type": "stream",
     "text": [
      "410\t1     \t24         \t-0      \n",
      "410\t2     \t24         \t-0      \n",
      "410\t3     \t24         \t-0      \n",
      "410\t4     \t23         \t-0      \n",
      "\n",
      "\n"
     ]
    },
    {
     "name": "stdout",
     "output_type": "stream",
     "text": [
      "420\t1     \t23         \t-0      \n",
      "420\t2     \t24         \t-0      \n",
      "420\t3     \t24         \t-0      \n",
      "420\t4     \t23         \t-0      \n",
      "\n",
      "\n"
     ]
    },
    {
     "name": "stdout",
     "output_type": "stream",
     "text": [
      "430\t1     \t23         \t-0      \n",
      "430\t2     \t23         \t-0      \n",
      "430\t3     \t24         \t-0      \n",
      "430\t4     \t23         \t-0      \n",
      "\n",
      "\n"
     ]
    },
    {
     "name": "stdout",
     "output_type": "stream",
     "text": [
      "440\t1     \t23         \t-0      \n",
      "440\t2     \t23         \t-0      \n",
      "440\t3     \t23         \t-0      \n",
      "440\t4     \t23         \t-0      \n",
      "\n",
      "\n"
     ]
    },
    {
     "name": "stdout",
     "output_type": "stream",
     "text": [
      "450\t1     \t23         \t-0      \n",
      "450\t2     \t23         \t-0      \n",
      "450\t3     \t23         \t-0      \n",
      "450\t4     \t23         \t-0      \n",
      "\n",
      "\n"
     ]
    },
    {
     "name": "stdout",
     "output_type": "stream",
     "text": [
      "460\t1     \t23         \t-0      \n",
      "460\t2     \t23         \t-0      \n",
      "460\t3     \t23         \t-0      \n",
      "460\t4     \t23         \t-0      \n",
      "\n",
      "\n"
     ]
    },
    {
     "name": "stdout",
     "output_type": "stream",
     "text": [
      "470\t1     \t23         \t-0      \n",
      "470\t2     \t23         \t-0      \n",
      "470\t3     \t23         \t-0      \n",
      "470\t4     \t23         \t-0      \n",
      "\n",
      "\n"
     ]
    },
    {
     "name": "stdout",
     "output_type": "stream",
     "text": [
      "480\t1     \t23         \t-0      \n",
      "480\t2     \t23         \t-0      \n",
      "480\t3     \t23         \t-0      \n",
      "480\t4     \t23         \t-0      \n",
      "\n",
      "\n"
     ]
    },
    {
     "name": "stdout",
     "output_type": "stream",
     "text": [
      "490\t1     \t23         \t-0      \n",
      "490\t2     \t23         \t-0      \n",
      "490\t3     \t23         \t-0      \n",
      "490\t4     \t23         \t-0      \n",
      "\n",
      "\n"
     ]
    },
    {
     "name": "stdout",
     "output_type": "stream",
     "text": [
      "500\t1     \t23         \t-0      \n",
      "500\t2     \t23         \t-0      \n",
      "500\t3     \t23         \t-0      \n",
      "500\t4     \t23         \t-0      \n",
      "\n",
      "\n"
     ]
    },
    {
     "name": "stdout",
     "output_type": "stream",
     "text": [
      "510\t1     \t23         \t-0      \n",
      "510\t2     \t23         \t-0      \n",
      "510\t3     \t23         \t-0      \n",
      "510\t4     \t23         \t-0      \n",
      "\n",
      "\n"
     ]
    },
    {
     "name": "stdout",
     "output_type": "stream",
     "text": [
      "520\t1     \t23         \t-0      \n",
      "520\t2     \t23         \t-0      \n",
      "520\t3     \t23         \t-0      \n",
      "520\t4     \t23         \t-0      \n",
      "\n",
      "\n"
     ]
    },
    {
     "name": "stdout",
     "output_type": "stream",
     "text": [
      "530\t1     \t23         \t-0      \n",
      "530\t2     \t23         \t-0      \n",
      "530\t3     \t23         \t-0      \n",
      "530\t4     \t23         \t-0      \n",
      "\n",
      "\n"
     ]
    },
    {
     "name": "stdout",
     "output_type": "stream",
     "text": [
      "540\t1     \t23         \t-0      \n",
      "540\t2     \t23         \t-0      \n",
      "540\t3     \t23         \t-0      \n",
      "540\t4     \t23         \t-0      \n",
      "\n",
      "\n"
     ]
    },
    {
     "name": "stdout",
     "output_type": "stream",
     "text": [
      "550\t1     \t23         \t-0      \n",
      "550\t2     \t23         \t-0      \n",
      "550\t3     \t23         \t-0      \n",
      "550\t4     \t23         \t-0      \n",
      "\n",
      "\n"
     ]
    },
    {
     "name": "stdout",
     "output_type": "stream",
     "text": [
      "560\t1     \t23         \t-0      \n",
      "560\t2     \t23         \t-0      \n",
      "560\t3     \t23         \t-0      \n",
      "560\t4     \t23         \t-0      \n",
      "\n",
      "\n"
     ]
    },
    {
     "name": "stdout",
     "output_type": "stream",
     "text": [
      "570\t1     \t23         \t-0      \n",
      "570\t2     \t23         \t-0      \n",
      "570\t3     \t23         \t-0      \n",
      "570\t4     \t23         \t-0      \n",
      "\n",
      "\n"
     ]
    },
    {
     "name": "stdout",
     "output_type": "stream",
     "text": [
      "580\t1     \t23         \t-0      \n",
      "580\t2     \t23         \t-0      \n",
      "580\t3     \t23         \t-0      \n",
      "580\t4     \t23         \t-0      \n",
      "\n",
      "\n"
     ]
    },
    {
     "name": "stdout",
     "output_type": "stream",
     "text": [
      "590\t1     \t23         \t-0      \n",
      "590\t2     \t23         \t-0      \n",
      "590\t3     \t23         \t-0      \n",
      "590\t4     \t23         \t-0      \n",
      "\n",
      "\n"
     ]
    },
    {
     "name": "stdout",
     "output_type": "stream",
     "text": [
      "600\t1     \t23         \t-0      \n",
      "600\t2     \t23         \t-0      \n",
      "600\t3     \t23         \t-0      \n",
      "600\t4     \t23         \t-0      \n",
      "\n",
      "\n"
     ]
    },
    {
     "name": "stdout",
     "output_type": "stream",
     "text": [
      "610\t1     \t23         \t-0      \n",
      "610\t2     \t23         \t-0      \n",
      "610\t3     \t23         \t-0      \n",
      "610\t4     \t23         \t-0      \n",
      "\n",
      "\n"
     ]
    },
    {
     "name": "stdout",
     "output_type": "stream",
     "text": [
      "620\t1     \t23         \t-0      \n",
      "620\t2     \t23         \t-0      \n",
      "620\t3     \t23         \t-0      \n",
      "620\t4     \t23         \t-0      \n",
      "\n",
      "\n"
     ]
    },
    {
     "name": "stdout",
     "output_type": "stream",
     "text": [
      "630\t1     \t23         \t-0      \n",
      "630\t2     \t23         \t-0      \n",
      "630\t3     \t23         \t-0      \n",
      "630\t4     \t23         \t-0      \n",
      "\n",
      "\n"
     ]
    }
   ],
   "source": [
    "from my_gatai import get_extracted_genes\n",
    "\n",
    "ga_genes = get_extracted_genes(expression_data, permutation_comp_vars)"
   ]
  },
  {
   "cell_type": "markdown",
   "id": "edd7cc16",
   "metadata": {
    "papermill": {
     "duration": 0.009759,
     "end_time": "2024-10-24T15:53:00.492351",
     "exception": false,
     "start_time": "2024-10-24T15:53:00.482592",
     "status": "completed"
    },
    "tags": []
   },
   "source": [
    "#### Genes extracted"
   ]
  },
  {
   "cell_type": "code",
   "execution_count": 15,
   "id": "f8c5bbc3",
   "metadata": {
    "execution": {
     "iopub.execute_input": "2024-10-24T15:53:00.511954Z",
     "iopub.status.busy": "2024-10-24T15:53:00.511837Z",
     "iopub.status.idle": "2024-10-24T15:53:00.520457Z",
     "shell.execute_reply": "2024-10-24T15:53:00.520253Z"
    },
    "papermill": {
     "duration": 0.019349,
     "end_time": "2024-10-24T15:53:00.521094",
     "exception": false,
     "start_time": "2024-10-24T15:53:00.501745",
     "status": "completed"
    },
    "tags": []
   },
   "outputs": [
    {
     "data": {
      "text/plain": [
       "5"
      ]
     },
     "execution_count": 15,
     "metadata": {},
     "output_type": "execute_result"
    }
   ],
   "source": [
    "len(ga_genes)"
   ]
  },
  {
   "cell_type": "code",
   "execution_count": 16,
   "id": "2fd0c644",
   "metadata": {
    "execution": {
     "iopub.execute_input": "2024-10-24T15:53:00.545873Z",
     "iopub.status.busy": "2024-10-24T15:53:00.545769Z",
     "iopub.status.idle": "2024-10-24T15:53:00.553831Z",
     "shell.execute_reply": "2024-10-24T15:53:00.553631Z"
    },
    "papermill": {
     "duration": 0.018572,
     "end_time": "2024-10-24T15:53:00.554530",
     "exception": false,
     "start_time": "2024-10-24T15:53:00.535958",
     "status": "completed"
    },
    "tags": []
   },
   "outputs": [
    {
     "data": {
      "text/plain": [
       "array(['at2g03570', 'at3g23450', 'at4g11211', 'at5g21020', 'at5g43070'],\n",
       "      dtype=object)"
      ]
     },
     "execution_count": 16,
     "metadata": {},
     "output_type": "execute_result"
    }
   ],
   "source": [
    "ga_genes"
   ]
  },
  {
   "cell_type": "markdown",
   "id": "c5a082c5",
   "metadata": {
    "papermill": {
     "duration": 0.009674,
     "end_time": "2024-10-24T15:53:00.576069",
     "exception": false,
     "start_time": "2024-10-24T15:53:00.566395",
     "status": "completed"
    },
    "tags": []
   },
   "source": [
    "### 3.2 Check variance of destroyed TAI and its new p-value"
   ]
  },
  {
   "cell_type": "code",
   "execution_count": 17,
   "id": "ecab3bb5",
   "metadata": {
    "execution": {
     "iopub.execute_input": "2024-10-24T15:53:00.600224Z",
     "iopub.status.busy": "2024-10-24T15:53:00.600076Z",
     "iopub.status.idle": "2024-10-24T15:53:01.211210Z",
     "shell.execute_reply": "2024-10-24T15:53:01.210984Z"
    },
    "papermill": {
     "duration": 0.622861,
     "end_time": "2024-10-24T15:53:01.211864",
     "exception": false,
     "start_time": "2024-10-24T15:53:00.589003",
     "status": "completed"
    },
    "tags": []
   },
   "outputs": [
    {
     "data": {
      "image/png": "[encoded data removed]",
      "text/plain": [
       "<Figure size 640x480 with 1 Axes>"
      ]
     },
     "metadata": {},
     "output_type": "display_data"
    }
   ],
   "source": [
    "new_data = expression_data.remove_genes(ga_genes)\n",
    "plt.plot(expression_data.tai, label=\"Real TAI\", color=\"blue\")\n",
    "plt.plot(new_data.tai, label=\"Destroyed TAI\", color=\"red\")\n",
    "\n",
    "plt.legend()\n",
    "plt.show()"
   ]
  },
  {
   "cell_type": "code",
   "execution_count": 18,
   "id": "532813db",
   "metadata": {
    "execution": {
     "iopub.execute_input": "2024-10-24T15:53:01.237738Z",
     "iopub.status.busy": "2024-10-24T15:53:01.237638Z",
     "iopub.status.idle": "2024-10-24T15:53:01.246781Z",
     "shell.execute_reply": "2024-10-24T15:53:01.246564Z"
    },
    "papermill": {
     "duration": 0.022183,
     "end_time": "2024-10-24T15:53:01.247379",
     "exception": false,
     "start_time": "2024-10-24T15:53:01.225196",
     "status": "completed"
    },
    "tags": []
   },
   "outputs": [
    {
     "name": "stdout",
     "output_type": "stream",
     "text": [
      "destroyed TAI p-value: 0.6165828008612122\n"
     ]
    }
   ],
   "source": [
    "new_tai_var = np.var(new_data.tai).item()\n",
    "print(\"destroyed TAI p-value:\", get_p_value(new_tai_var))"
   ]
  },
  {
   "cell_type": "code",
   "execution_count": 19,
   "id": "4c9e5c51",
   "metadata": {
    "execution": {
     "iopub.execute_input": "2024-10-24T15:53:01.276102Z",
     "iopub.status.busy": "2024-10-24T15:53:01.276002Z",
     "iopub.status.idle": "2024-10-24T15:53:01.351442Z",
     "shell.execute_reply": "2024-10-24T15:53:01.351211Z"
    },
    "papermill": {
     "duration": 0.091698,
     "end_time": "2024-10-24T15:53:01.352088",
     "exception": false,
     "start_time": "2024-10-24T15:53:01.260390",
     "status": "completed"
    },
    "tags": []
   },
   "outputs": [
    {
     "data": {
      "image/png": "[encoded data removed]",
      "text/plain": [
       "<Figure size 640x480 with 1 Axes>"
      ]
     },
     "metadata": {},
     "output_type": "display_data"
    }
   ],
   "source": [
    "plt.hist(permutation_comp_vars, density=True, bins=100, label=\"Random gene age TAI variance\")\n",
    "plt.axvline(x=tai_var, label=\"True TAI variance\", color=\"red\")\n",
    "\n",
    "\n",
    "x = np.linspace(0, tai_var, 200)\n",
    "y = stats.gamma.pdf(x, a, loc=loc, scale=scale)\n",
    "plt.plot(x, y, label=\"Fitted gamma distribution\", linestyle=\"dashed\")\n",
    "plt.axvline(x=new_tai_var, label=\"Destroyed TAI variance\", color=\"black\")\n",
    "plt.legend()\n",
    "plt.show()"
   ]
  },
  {
   "cell_type": "markdown",
   "id": "7a8a4b6a",
   "metadata": {
    "papermill": {
     "duration": 0.010914,
     "end_time": "2024-10-24T15:53:01.377995",
     "exception": false,
     "start_time": "2024-10-24T15:53:01.367081",
     "status": "completed"
    },
    "tags": []
   },
   "source": [
    "### 3.3 Benchmark GA against greedy removal of genes with highest variance"
   ]
  },
  {
   "cell_type": "code",
   "execution_count": 20,
   "id": "8e3112fc",
   "metadata": {
    "execution": {
     "iopub.execute_input": "2024-10-24T15:53:01.401155Z",
     "iopub.status.busy": "2024-10-24T15:53:01.401037Z",
     "iopub.status.idle": "2024-10-24T15:53:01.556877Z",
     "shell.execute_reply": "2024-10-24T15:53:01.556626Z"
    },
    "papermill": {
     "duration": 0.168479,
     "end_time": "2024-10-24T15:53:01.557557",
     "exception": false,
     "start_time": "2024-10-24T15:53:01.389078",
     "status": "completed"
    },
    "tags": []
   },
   "outputs": [
    {
     "data": {
      "text/html": [
       "<div>\n",
       "<style scoped>\n",
       "    .dataframe tbody tr th:only-of-type {\n",
       "        vertical-align: middle;\n",
       "    }\n",
       "\n",
       "    .dataframe tbody tr th {\n",
       "        vertical-align: top;\n",
       "    }\n",
       "\n",
       "    .dataframe thead th {\n",
       "        text-align: right;\n",
       "    }\n",
       "</style>\n",
       "<table border=\"1\" class=\"dataframe\">\n",
       "  <thead>\n",
       "    <tr style=\"text-align: right;\">\n",
       "      <th></th>\n",
       "      <th>Phylostratum</th>\n",
       "      <th>GeneID</th>\n",
       "      <th>Variance</th>\n",
       "    </tr>\n",
       "  </thead>\n",
       "  <tbody>\n",
       "    <tr>\n",
       "      <th>9952</th>\n",
       "      <td>0.629125</td>\n",
       "      <td>at3g04290</td>\n",
       "      <td>351.166184</td>\n",
       "    </tr>\n",
       "    <tr>\n",
       "      <th>13457</th>\n",
       "      <td>0.629125</td>\n",
       "      <td>at3g54340</td>\n",
       "      <td>334.890561</td>\n",
       "    </tr>\n",
       "    <tr>\n",
       "      <th>11160</th>\n",
       "      <td>0.869090</td>\n",
       "      <td>at3g17010</td>\n",
       "      <td>292.661166</td>\n",
       "    </tr>\n",
       "    <tr>\n",
       "      <th>4886</th>\n",
       "      <td>0.805033</td>\n",
       "      <td>at1g68780</td>\n",
       "      <td>284.098520</td>\n",
       "    </tr>\n",
       "    <tr>\n",
       "      <th>2111</th>\n",
       "      <td>0.629125</td>\n",
       "      <td>at1g24260</td>\n",
       "      <td>269.499820</td>\n",
       "    </tr>\n",
       "    <tr>\n",
       "      <th>...</th>\n",
       "      <td>...</td>\n",
       "      <td>...</td>\n",
       "      <td>...</td>\n",
       "    </tr>\n",
       "    <tr>\n",
       "      <th>1635</th>\n",
       "      <td>0.711680</td>\n",
       "      <td>at1g18790</td>\n",
       "      <td>0.000555</td>\n",
       "    </tr>\n",
       "    <tr>\n",
       "      <th>18074</th>\n",
       "      <td>0.629125</td>\n",
       "      <td>at5g04380</td>\n",
       "      <td>0.000530</td>\n",
       "    </tr>\n",
       "    <tr>\n",
       "      <th>14972</th>\n",
       "      <td>0.629125</td>\n",
       "      <td>at4g10200</td>\n",
       "      <td>0.000508</td>\n",
       "    </tr>\n",
       "    <tr>\n",
       "      <th>1932</th>\n",
       "      <td>0.822370</td>\n",
       "      <td>at1g22230</td>\n",
       "      <td>0.000465</td>\n",
       "    </tr>\n",
       "    <tr>\n",
       "      <th>15701</th>\n",
       "      <td>0.906001</td>\n",
       "      <td>at4g17780</td>\n",
       "      <td>0.000431</td>\n",
       "    </tr>\n",
       "  </tbody>\n",
       "</table>\n",
       "<p>23245 rows × 3 columns</p>\n",
       "</div>"
      ],
      "text/plain": [
       "       Phylostratum     GeneID    Variance\n",
       "9952       0.629125  at3g04290  351.166184\n",
       "13457      0.629125  at3g54340  334.890561\n",
       "11160      0.869090  at3g17010  292.661166\n",
       "4886       0.805033  at1g68780  284.098520\n",
       "2111       0.629125  at1g24260  269.499820\n",
       "...             ...        ...         ...\n",
       "1635       0.711680  at1g18790    0.000555\n",
       "18074      0.629125  at5g04380    0.000530\n",
       "14972      0.629125  at4g10200    0.000508\n",
       "1932       0.822370  at1g22230    0.000465\n",
       "15701      0.906001  at4g17780    0.000431\n",
       "\n",
       "[23245 rows x 3 columns]"
      ]
     },
     "execution_count": 20,
     "metadata": {},
     "output_type": "execute_result"
    }
   ],
   "source": [
    "gene_variances = expression_data.gene_variances.sort_values('Variance', ascending=False)\n",
    "gene_variances"
   ]
  },
  {
   "cell_type": "code",
   "execution_count": 21,
   "id": "49d150d1",
   "metadata": {
    "execution": {
     "iopub.execute_input": "2024-10-24T15:53:01.585164Z",
     "iopub.status.busy": "2024-10-24T15:53:01.585050Z",
     "iopub.status.idle": "2024-10-24T15:53:01.593608Z",
     "shell.execute_reply": "2024-10-24T15:53:01.593374Z"
    },
    "papermill": {
     "duration": 0.02077,
     "end_time": "2024-10-24T15:53:01.594275",
     "exception": false,
     "start_time": "2024-10-24T15:53:01.573505",
     "status": "completed"
    },
    "tags": []
   },
   "outputs": [],
   "source": [
    "k_top = len(ga_genes)\n",
    "\n",
    "highest_var_genes = gene_variances.head(k_top)['GeneID'].to_numpy()"
   ]
  },
  {
   "cell_type": "code",
   "execution_count": 22,
   "id": "ad631eb1",
   "metadata": {
    "execution": {
     "iopub.execute_input": "2024-10-24T15:53:01.619985Z",
     "iopub.status.busy": "2024-10-24T15:53:01.619887Z",
     "iopub.status.idle": "2024-10-24T15:53:02.210151Z",
     "shell.execute_reply": "2024-10-24T15:53:02.209878Z"
    },
    "papermill": {
     "duration": 0.603835,
     "end_time": "2024-10-24T15:53:02.210861",
     "exception": false,
     "start_time": "2024-10-24T15:53:01.607026",
     "status": "completed"
    },
    "tags": []
   },
   "outputs": [
    {
     "data": {
      "image/png": "[encoded data removed]",
      "text/plain": [
       "<Figure size 640x480 with 1 Axes>"
      ]
     },
     "metadata": {},
     "output_type": "display_data"
    }
   ],
   "source": [
    "greedy_data = expression_data.remove_genes(highest_var_genes)\n",
    "plt.plot(expression_data.tai, label=\"Real TAI\", color=\"blue\")\n",
    "plt.plot(new_data.tai, label=\"Destroyed TAI\", color=\"red\")\n",
    "plt.plot(greedy_data.tai, label=\"Greedy TAI\", color=\"green\")\n",
    "\n",
    "plt.legend()\n",
    "plt.show()"
   ]
  },
  {
   "cell_type": "code",
   "execution_count": 23,
   "id": "f6bb9078",
   "metadata": {
    "execution": {
     "iopub.execute_input": "2024-10-24T15:53:02.237473Z",
     "iopub.status.busy": "2024-10-24T15:53:02.237345Z",
     "iopub.status.idle": "2024-10-24T15:53:02.247921Z",
     "shell.execute_reply": "2024-10-24T15:53:02.247704Z"
    },
    "papermill": {
     "duration": 0.024531,
     "end_time": "2024-10-24T15:53:02.248616",
     "exception": false,
     "start_time": "2024-10-24T15:53:02.224085",
     "status": "completed"
    },
    "tags": []
   },
   "outputs": [
    {
     "name": "stdout",
     "output_type": "stream",
     "text": [
      "p-value:  0.5391895797816353\n"
     ]
    }
   ],
   "source": [
    "greedy_tai_var = np.var(greedy_data.tai).item()\n",
    "print(\"p-value: \", get_p_value(greedy_tai_var))"
   ]
  },
  {
   "cell_type": "markdown",
   "id": "d70d1b08",
   "metadata": {
    "papermill": {
     "duration": 0.014874,
     "end_time": "2024-10-24T15:53:02.276516",
     "exception": false,
     "start_time": "2024-10-24T15:53:02.261642",
     "status": "completed"
    },
    "tags": []
   },
   "source": [
    "Conversely, however, the genes that were extracted by GATAI tend to have a high variance (but they need to be carefully selected, it's not as simple as picking the most variant ones, hence the need for the GA approach)"
   ]
  },
  {
   "cell_type": "code",
   "execution_count": 24,
   "id": "b1c4a8cf",
   "metadata": {
    "execution": {
     "iopub.execute_input": "2024-10-24T15:53:02.303154Z",
     "iopub.status.busy": "2024-10-24T15:53:02.303034Z",
     "iopub.status.idle": "2024-10-24T15:53:02.311455Z",
     "shell.execute_reply": "2024-10-24T15:53:02.311240Z"
    },
    "papermill": {
     "duration": 0.021322,
     "end_time": "2024-10-24T15:53:02.312118",
     "exception": false,
     "start_time": "2024-10-24T15:53:02.290796",
     "status": "completed"
    },
    "tags": []
   },
   "outputs": [
    {
     "name": "stdout",
     "output_type": "stream",
     "text": [
      "Number of GA selected genes which are also part of the top_k most variant subset of genes in the dataset: 0 out of 5\n"
     ]
    }
   ],
   "source": [
    "common_genes = np.intersect1d(ga_genes, highest_var_genes)\n",
    "\n",
    "print(\"Number of GA selected genes which are also part of the top_k most variant subset of genes in the dataset:\", len(common_genes), \"out of\", len(ga_genes))"
   ]
  }
 ],
 "metadata": {
  "kernelspec": {
   "display_name": "gatai-reproduction-YJP4mtSF-py3.12",
   "language": "python",
   "name": "python3"
  },
  "language_info": {
   "codemirror_mode": {
    "name": "ipython",
    "version": 3
   },
   "file_extension": ".py",
   "mimetype": "text/x-python",
   "name": "python",
   "nbconvert_exporter": "python",
   "pygments_lexer": "ipython3",
   "version": "3.12.6"
  },
  "papermill": {
   "default_parameters": {},
   "duration": 75.741956,
   "end_time": "2024-10-24T15:53:04.941827",
   "environment_variables": {},
   "exception": null,
   "input_path": "tai_destroyer.ipynb",
   "output_path": "results/athaliana/flower_development.ipynb",
   "parameters": {
    "data_path": "data/processed_data/flower_development.csv",
    "transformation": "sqrt"
   },
   "start_time": "2024-10-24T15:51:49.199871",
   "version": "2.6.0"
  }
 },
 "nbformat": 4,
 "nbformat_minor": 5
}