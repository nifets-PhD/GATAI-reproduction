{
 "cells": [
  {
   "cell_type": "code",
   "execution_count": null,
   "id": "2304a6ba",
   "metadata": {
    "papermill": {
     "duration": null,
     "end_time": null,
     "exception": null,
     "start_time": null,
     "status": "completed"
    },
    "tags": []
   },
   "outputs": [],
   "source": [
    "%load_ext autoreload\n",
    "%autoreload 2"
   ]
  },
  {
   "cell_type": "code",
   "execution_count": null,
   "id": "95fc2b98",
   "metadata": {
    "papermill": {
     "duration": null,
     "end_time": null,
     "exception": null,
     "start_time": null,
     "status": "completed"
    },
    "tags": []
   },
   "outputs": [],
   "source": [
    "import logging\n",
    "\n",
    "logging.basicConfig(format='%(asctime)s %(levelname)s:%(message)s', level=logging.INFO)"
   ]
  },
  {
   "cell_type": "markdown",
   "id": "9001f0b0",
   "metadata": {
    "papermill": {
     "duration": null,
     "end_time": null,
     "exception": null,
     "start_time": null,
     "status": "completed"
    },
    "tags": []
   },
   "source": [
    "## 1. Load expression data\n",
    "\n",
    "The `transformation` value can be one of `\"none\"`, `\"sqrt\"` or `\"log\"`, which determines how the expression data should be transformed in order to reduce outlier influence."
   ]
  },
  {
   "cell_type": "code",
   "execution_count": null,
   "id": "b9a652d2",
   "metadata": {
    "papermill": {
     "duration": null,
     "end_time": null,
     "exception": null,
     "start_time": null,
     "status": "completed"
    },
    "tags": [
     "parameters"
    ]
   },
   "outputs": [],
   "source": [
    "data_path: str = \"data/Athaliana.csv\"\n",
    "transformation: str = \"log\""
   ]
  },
  {
   "cell_type": "code",
   "execution_count": null,
   "id": "10e1113a",
   "metadata": {
    "papermill": {
     "duration": null,
     "end_time": null,
     "exception": null,
     "start_time": null,
     "status": "completed"
    },
    "tags": [
     "injected-parameters"
    ]
   },
   "outputs": [],
   "source": [
    "# Parameters\n",
    "data_path = \"data/processed_data/embryogenesis.csv\"\n",
    "transformation = \"sqrt\"\n"
   ]
  },
  {
   "cell_type": "code",
   "execution_count": null,
   "id": "de0ce52c",
   "metadata": {
    "papermill": {
     "duration": null,
     "end_time": null,
     "exception": null,
     "start_time": null,
     "status": "completed"
    },
    "tags": []
   },
   "outputs": [],
   "source": [
    "from my_gatai import Expression_data\n",
    "\n",
    "expression_data = Expression_data.from_csv(data_path, \n",
    "                                           transformation=transformation)\n",
    "expression_data.full"
   ]
  },
  {
   "cell_type": "code",
   "execution_count": null,
   "id": "81c572cc",
   "metadata": {
    "papermill": {
     "duration": null,
     "end_time": null,
     "exception": null,
     "start_time": null,
     "status": "completed"
    },
    "tags": []
   },
   "outputs": [],
   "source": [
    "expression_data.p_matrix"
   ]
  },
  {
   "cell_type": "code",
   "execution_count": null,
   "id": "ca4c961f",
   "metadata": {
    "papermill": {
     "duration": null,
     "end_time": null,
     "exception": null,
     "start_time": null,
     "status": "completed"
    },
    "tags": []
   },
   "outputs": [],
   "source": [
    "expression_data.tai"
   ]
  },
  {
   "cell_type": "markdown",
   "id": "86c0e910",
   "metadata": {
    "papermill": {
     "duration": null,
     "end_time": null,
     "exception": null,
     "start_time": null,
     "status": "completed"
    },
    "tags": []
   },
   "source": [
    "### 1.1 Compute TAI value"
   ]
  },
  {
   "cell_type": "code",
   "execution_count": null,
   "id": "5fc16b9b",
   "metadata": {
    "papermill": {
     "duration": null,
     "end_time": null,
     "exception": null,
     "start_time": null,
     "status": "completed"
    },
    "tags": []
   },
   "outputs": [],
   "source": [
    "import matplotlib.pyplot as plt\n",
    "\n",
    "plt.plot(expression_data.tai)\n",
    "plt.show()"
   ]
  },
  {
   "cell_type": "markdown",
   "id": "a2fdf893",
   "metadata": {
    "papermill": {
     "duration": null,
     "end_time": null,
     "exception": null,
     "start_time": null,
     "status": "completed"
    },
    "tags": []
   },
   "source": [
    "## 2. Flatline test"
   ]
  },
  {
   "cell_type": "markdown",
   "id": "3e2f4b56",
   "metadata": {
    "papermill": {
     "duration": null,
     "end_time": null,
     "exception": null,
     "start_time": null,
     "status": "completed"
    },
    "tags": []
   },
   "source": [
    "### 2.1. Compute variance of TAI curve"
   ]
  },
  {
   "cell_type": "code",
   "execution_count": null,
   "id": "553728f6",
   "metadata": {
    "papermill": {
     "duration": null,
     "end_time": null,
     "exception": null,
     "start_time": null,
     "status": "completed"
    },
    "tags": []
   },
   "outputs": [],
   "source": [
    "import numpy as np\n",
    "tai_var = np.var(expression_data.tai).item()\n",
    "tai_var"
   ]
  },
  {
   "cell_type": "markdown",
   "id": "10d8bc41",
   "metadata": {
    "papermill": {
     "duration": null,
     "end_time": null,
     "exception": null,
     "start_time": null,
     "status": "completed"
    },
    "tags": []
   },
   "source": [
    "### 2.2. Compute permutation variance distribution\n",
    "\n",
    "Permute the assigned gene ages between the genes to run the flat line test"
   ]
  },
  {
   "cell_type": "code",
   "execution_count": null,
   "id": "6309dd90",
   "metadata": {
    "papermill": {
     "duration": null,
     "end_time": null,
     "exception": null,
     "start_time": null,
     "status": "completed"
    },
    "tags": []
   },
   "outputs": [],
   "source": [
    "from gatai.utils import comp_vars\n",
    "\n",
    "num_permutations = 10000\n",
    "permutation_comp_vars = comp_vars(expression_data, num_permutations)"
   ]
  },
  {
   "cell_type": "markdown",
   "id": "0af211df",
   "metadata": {
    "papermill": {
     "duration": null,
     "end_time": null,
     "exception": null,
     "start_time": null,
     "status": "completed"
    },
    "tags": []
   },
   "source": [
    "### 2.3. Fit the random variances to a Gamma distribution and compute the p-value of the true TAI"
   ]
  },
  {
   "cell_type": "code",
   "execution_count": null,
   "id": "d94d97fd",
   "metadata": {
    "papermill": {
     "duration": null,
     "end_time": null,
     "exception": null,
     "start_time": null,
     "status": "completed"
    },
    "tags": []
   },
   "outputs": [],
   "source": [
    "from flatline import fit_gamma, p_value_function\n",
    "\n",
    "# NOTE: the default fitting method used by scipy doesn't achieve a very good fit, so use \"MM\"\n",
    "a, loc, scale = fit_gamma(permutation_comp_vars)\n",
    "get_p_value = p_value_function(a, loc, scale)\n",
    "print(\"Gamma fit params:\", a, loc, scale)"
   ]
  },
  {
   "cell_type": "code",
   "execution_count": null,
   "id": "9bac5898",
   "metadata": {
    "papermill": {
     "duration": null,
     "end_time": null,
     "exception": null,
     "start_time": null,
     "status": "completed"
    },
    "tags": []
   },
   "outputs": [],
   "source": [
    "print(\"p-value of TAI:\", get_p_value(tai_var))"
   ]
  },
  {
   "cell_type": "markdown",
   "id": "8fced6ec",
   "metadata": {
    "papermill": {
     "duration": null,
     "end_time": null,
     "exception": null,
     "start_time": null,
     "status": "completed"
    },
    "tags": []
   },
   "source": [
    "### 2.4. Visually compare the random TAI variances against the true one"
   ]
  },
  {
   "cell_type": "code",
   "execution_count": null,
   "id": "59f825ef",
   "metadata": {
    "papermill": {
     "duration": null,
     "end_time": null,
     "exception": null,
     "start_time": null,
     "status": "completed"
    },
    "tags": []
   },
   "outputs": [],
   "source": [
    "from scipy import stats\n",
    "plt.hist(permutation_comp_vars, density=True, bins=100, label=\"Random gene age TAI variance\")\n",
    "plt.axvline(x=tai_var, label=\"True TAI variance\", color=\"red\")\n",
    "\n",
    "x = np.linspace(0, tai_var, 200)\n",
    "y = stats.gamma.pdf(x, a, loc=loc, scale=scale)\n",
    "plt.plot(x, y, label=\"Fitted gamma distribution\", linestyle=\"dashed\")\n",
    "\n",
    "plt.legend()\n",
    "plt.show()"
   ]
  },
  {
   "cell_type": "markdown",
   "id": "b75c14d9",
   "metadata": {
    "papermill": {
     "duration": null,
     "end_time": null,
     "exception": null,
     "start_time": null,
     "status": "completed"
    },
    "tags": []
   },
   "source": [
    "## 3. Destroy TAI signal with GATAI"
   ]
  },
  {
   "cell_type": "markdown",
   "id": "cdc2e9b2",
   "metadata": {
    "papermill": {
     "duration": null,
     "end_time": null,
     "exception": null,
     "start_time": null,
     "status": "completed"
    },
    "tags": []
   },
   "source": [
    "### 3.1 Run genetic algorithm to extract genes that break the pattern\n",
    "Note that the transformation used for the expression data heavily influences the number of genes that get extracted, as well as the number of generations needed for convergence.\n",
    "\n",
    "Also, with transformations applied, older genes are better represented"
   ]
  },
  {
   "cell_type": "code",
   "execution_count": null,
   "id": "f07afce0",
   "metadata": {
    "papermill": {
     "duration": null,
     "end_time": null,
     "exception": null,
     "start_time": null,
     "status": "completed"
    },
    "tags": []
   },
   "outputs": [],
   "source": [
    "# # # from my_gatai import get_extracted_genes\n",
    "\n",
    "# # # ga_genes = get_extracted_genes(expression_data, permutation_comp_vars)"
   ]
  },
  {
   "cell_type": "markdown",
   "id": "6d2d9257",
   "metadata": {
    "papermill": {
     "duration": null,
     "end_time": null,
     "exception": null,
     "start_time": null,
     "status": "completed"
    },
    "tags": []
   },
   "source": [
    "#### Genes extracted"
   ]
  },
  {
   "cell_type": "code",
   "execution_count": null,
   "id": "53ebc25f",
   "metadata": {
    "papermill": {
     "duration": null,
     "end_time": null,
     "exception": null,
     "start_time": null,
     "status": "completed"
    },
    "tags": []
   },
   "outputs": [],
   "source": [
    "len(ga_genes)"
   ]
  },
  {
   "cell_type": "code",
   "execution_count": null,
   "id": "4cad3507",
   "metadata": {
    "papermill": {
     "duration": null,
     "end_time": null,
     "exception": null,
     "start_time": null,
     "status": "completed"
    },
    "tags": []
   },
   "outputs": [],
   "source": [
    "ga_genes"
   ]
  },
  {
   "cell_type": "markdown",
   "id": "6c42510b",
   "metadata": {
    "papermill": {
     "duration": null,
     "end_time": null,
     "exception": null,
     "start_time": null,
     "status": "completed"
    },
    "tags": []
   },
   "source": [
    "### 3.2 Check variance of destroyed TAI and its new p-value"
   ]
  },
  {
   "cell_type": "code",
   "execution_count": null,
   "id": "b250a457",
   "metadata": {
    "papermill": {
     "duration": null,
     "end_time": null,
     "exception": null,
     "start_time": null,
     "status": "completed"
    },
    "tags": []
   },
   "outputs": [],
   "source": [
    "new_data = expression_data.remove_genes(ga_genes)\n",
    "plt.plot(expression_data.tai, label=\"Real TAI\", color=\"blue\")\n",
    "plt.plot(new_data.tai, label=\"Destroyed TAI\", color=\"red\")\n",
    "\n",
    "plt.legend()\n",
    "plt.show()"
   ]
  },
  {
   "cell_type": "code",
   "execution_count": null,
   "id": "f60ab5e6",
   "metadata": {
    "papermill": {
     "duration": null,
     "end_time": null,
     "exception": null,
     "start_time": null,
     "status": "completed"
    },
    "tags": []
   },
   "outputs": [],
   "source": [
    "new_tai_var = np.var(new_data.tai).item()\n",
    "print(\"destroyed TAI p-value:\", get_p_value(new_tai_var))"
   ]
  },
  {
   "cell_type": "code",
   "execution_count": null,
   "id": "f4109eea",
   "metadata": {
    "papermill": {
     "duration": null,
     "end_time": null,
     "exception": null,
     "start_time": null,
     "status": "completed"
    },
    "tags": []
   },
   "outputs": [],
   "source": [
    "plt.hist(permutation_comp_vars, density=True, bins=100, label=\"Random gene age TAI variance\")\n",
    "plt.axvline(x=tai_var, label=\"True TAI variance\", color=\"red\")\n",
    "\n",
    "\n",
    "x = np.linspace(0, tai_var, 200)\n",
    "y = stats.gamma.pdf(x, a, loc=loc, scale=scale)\n",
    "plt.plot(x, y, label=\"Fitted gamma distribution\", linestyle=\"dashed\")\n",
    "plt.axvline(x=new_tai_var, label=\"Destroyed TAI variance\", color=\"black\")\n",
    "plt.legend()\n",
    "plt.show()"
   ]
  },
  {
   "cell_type": "markdown",
   "id": "d68353ae",
   "metadata": {
    "papermill": {
     "duration": null,
     "end_time": null,
     "exception": null,
     "start_time": null,
     "status": "completed"
    },
    "tags": []
   },
   "source": [
    "### 3.3 Benchmark GA against greedy removal of genes with highest variance"
   ]
  },
  {
   "cell_type": "code",
   "execution_count": null,
   "id": "a3e9114d",
   "metadata": {
    "papermill": {
     "duration": null,
     "end_time": null,
     "exception": null,
     "start_time": null,
     "status": "completed"
    },
    "tags": []
   },
   "outputs": [],
   "source": [
    "gene_variances = expression_data.gene_variances.sort_values('Variance', ascending=False)\n",
    "gene_variances"
   ]
  },
  {
   "cell_type": "code",
   "execution_count": null,
   "id": "4deb4def",
   "metadata": {
    "papermill": {
     "duration": null,
     "end_time": null,
     "exception": null,
     "start_time": null,
     "status": "completed"
    },
    "tags": []
   },
   "outputs": [],
   "source": [
    "k_top = len(ga_genes)\n",
    "\n",
    "highest_var_genes = gene_variances.head(k_top)['GeneID'].to_numpy()"
   ]
  },
  {
   "cell_type": "code",
   "execution_count": null,
   "id": "320c7fd9",
   "metadata": {
    "papermill": {
     "duration": null,
     "end_time": null,
     "exception": null,
     "start_time": null,
     "status": "completed"
    },
    "tags": []
   },
   "outputs": [],
   "source": [
    "greedy_data = expression_data.remove_genes(highest_var_genes)\n",
    "plt.plot(expression_data.tai, label=\"Real TAI\", color=\"blue\")\n",
    "plt.plot(new_data.tai, label=\"Destroyed TAI\", color=\"red\")\n",
    "plt.plot(greedy_data.tai, label=\"Greedy TAI\", color=\"green\")\n",
    "\n",
    "plt.legend()\n",
    "plt.show()"
   ]
  },
  {
   "cell_type": "code",
   "execution_count": null,
   "id": "dcfe078a",
   "metadata": {
    "papermill": {
     "duration": null,
     "end_time": null,
     "exception": null,
     "start_time": null,
     "status": "completed"
    },
    "tags": []
   },
   "outputs": [],
   "source": [
    "greedy_tai_var = np.var(greedy_data.tai).item()\n",
    "print(\"p-value: \", get_p_value(greedy_tai_var))"
   ]
  },
  {
   "cell_type": "markdown",
   "id": "8e2e21c7",
   "metadata": {
    "papermill": {
     "duration": null,
     "end_time": null,
     "exception": null,
     "start_time": null,
     "status": "completed"
    },
    "tags": []
   },
   "source": [
    "Conversely, however, the genes that were extracted by GATAI tend to have a high variance (but they need to be carefully selected, it's not as simple as picking the most variant ones, hence the need for the GA approach)"
   ]
  },
  {
   "cell_type": "code",
   "execution_count": null,
   "id": "6ffccdef",
   "metadata": {
    "papermill": {
     "duration": null,
     "end_time": null,
     "exception": null,
     "start_time": null,
     "status": "completed"
    },
    "tags": []
   },
   "outputs": [],
   "source": [
    "common_genes = np.intersect1d(ga_genes, highest_var_genes)\n",
    "\n",
    "print(\"Number of GA selected genes which are also part of the top_k most variant subset of genes in the dataset:\", len(common_genes), \"out of\", len(ga_genes))"
   ]
  }
 ],
 "metadata": {
  "kernelspec": {
   "display_name": "gatai-reproduction-YJP4mtSF-py3.12",
   "language": "python",
   "name": "python3"
  },
  "language_info": {
   "codemirror_mode": {
    "name": "ipython",
    "version": 3
   },
   "file_extension": ".py",
   "mimetype": "text/x-python",
   "name": "python",
   "nbconvert_exporter": "python",
   "pygments_lexer": "ipython3",
   "version": "3.12.6"
  },
  "papermill": {
   "default_parameters": {},
   "duration": 0.616428,
   "end_time": "2024-10-24T15:22:35.133053",
   "environment_variables": {},
   "exception": null,
   "input_path": "tai_destroyer.ipynb",
   "output_path": "results/athaliana/embryogenesis.ipynb",
   "parameters": {
    "data_path": "data/processed_data/embryogenesis.csv",
    "transformation": "sqrt"
   },
   "start_time": "2024-10-24T15:22:34.516625",
   "version": "2.6.0"
  }
 },
 "nbformat": 4,
 "nbformat_minor": 5
}