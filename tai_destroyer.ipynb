{
 "cells": [
  {
   "cell_type": "code",
   "execution_count": 13,
   "metadata": {},
   "outputs": [
    {
     "name": "stdout",
     "output_type": "stream",
     "text": [
      "The autoreload extension is already loaded. To reload it, use:\n",
      "  %reload_ext autoreload\n"
     ]
    }
   ],
   "source": [
    "%load_ext autoreload\n",
    "%autoreload 2"
   ]
  },
  {
   "cell_type": "code",
   "execution_count": 2,
   "metadata": {},
   "outputs": [],
   "source": [
    "import logging\n",
    "\n",
    "logging.basicConfig(format='%(asctime)s %(levelname)s:%(message)s', level=logging.INFO)"
   ]
  },
  {
   "cell_type": "markdown",
   "metadata": {},
   "source": [
    "## 1. Load expression data\n",
    "\n",
    "The `transformation` value can be one of `\"none\"`, `\"sqrt\"` or `\"log\"`, which determines how the expression data should be transformed in order to reduce outlier influence."
   ]
  },
  {
   "cell_type": "code",
   "execution_count": 14,
   "metadata": {
    "tags": [
     "parameters"
    ]
   },
   "outputs": [],
   "source": [
    "data_path: str = \"data/Athaliana.csv\"\n",
    "transformation: str = \"log\""
   ]
  },
  {
   "cell_type": "code",
   "execution_count": 15,
   "metadata": {},
   "outputs": [
    {
     "data": {
      "text/html": [
       "<div>\n",
       "<style scoped>\n",
       "    .dataframe tbody tr th:only-of-type {\n",
       "        vertical-align: middle;\n",
       "    }\n",
       "\n",
       "    .dataframe tbody tr th {\n",
       "        vertical-align: top;\n",
       "    }\n",
       "\n",
       "    .dataframe thead th {\n",
       "        text-align: right;\n",
       "    }\n",
       "</style>\n",
       "<table border=\"1\" class=\"dataframe\">\n",
       "  <thead>\n",
       "    <tr style=\"text-align: right;\">\n",
       "      <th></th>\n",
       "      <th>Phylostratum</th>\n",
       "      <th>GeneID</th>\n",
       "      <th>Zygote</th>\n",
       "      <th>Quadrant</th>\n",
       "      <th>Globular</th>\n",
       "      <th>Heart</th>\n",
       "      <th>Torpedo</th>\n",
       "      <th>Bent</th>\n",
       "      <th>Mature</th>\n",
       "    </tr>\n",
       "  </thead>\n",
       "  <tbody>\n",
       "    <tr>\n",
       "      <th>0</th>\n",
       "      <td>0.665923</td>\n",
       "      <td>AT1G01040</td>\n",
       "      <td>7.684616</td>\n",
       "      <td>7.556010</td>\n",
       "      <td>7.050604</td>\n",
       "      <td>7.164274</td>\n",
       "      <td>6.909007</td>\n",
       "      <td>6.871068</td>\n",
       "      <td>7.436869</td>\n",
       "    </tr>\n",
       "    <tr>\n",
       "      <th>1</th>\n",
       "      <td>0.665923</td>\n",
       "      <td>AT1G01050</td>\n",
       "      <td>7.314562</td>\n",
       "      <td>7.505662</td>\n",
       "      <td>7.418366</td>\n",
       "      <td>7.356127</td>\n",
       "      <td>7.311433</td>\n",
       "      <td>7.017187</td>\n",
       "      <td>6.977893</td>\n",
       "    </tr>\n",
       "    <tr>\n",
       "      <th>2</th>\n",
       "      <td>0.749960</td>\n",
       "      <td>AT1G01070</td>\n",
       "      <td>7.101505</td>\n",
       "      <td>7.118018</td>\n",
       "      <td>6.846093</td>\n",
       "      <td>6.835850</td>\n",
       "      <td>6.762982</td>\n",
       "      <td>6.777881</td>\n",
       "      <td>6.797738</td>\n",
       "    </tr>\n",
       "    <tr>\n",
       "      <th>3</th>\n",
       "      <td>0.665923</td>\n",
       "      <td>AT1G01080</td>\n",
       "      <td>6.925517</td>\n",
       "      <td>6.843093</td>\n",
       "      <td>7.075249</td>\n",
       "      <td>7.193290</td>\n",
       "      <td>7.239676</td>\n",
       "      <td>7.161602</td>\n",
       "      <td>6.759557</td>\n",
       "    </tr>\n",
       "    <tr>\n",
       "      <th>4</th>\n",
       "      <td>0.665923</td>\n",
       "      <td>AT1G01090</td>\n",
       "      <td>9.343609</td>\n",
       "      <td>9.727893</td>\n",
       "      <td>10.444871</td>\n",
       "      <td>10.591035</td>\n",
       "      <td>10.937251</td>\n",
       "      <td>11.112170</td>\n",
       "      <td>8.958484</td>\n",
       "    </tr>\n",
       "    <tr>\n",
       "      <th>...</th>\n",
       "      <td>...</td>\n",
       "      <td>...</td>\n",
       "      <td>...</td>\n",
       "      <td>...</td>\n",
       "      <td>...</td>\n",
       "      <td>...</td>\n",
       "      <td>...</td>\n",
       "      <td>...</td>\n",
       "      <td>...</td>\n",
       "    </tr>\n",
       "    <tr>\n",
       "      <th>25091</th>\n",
       "      <td>0.665923</td>\n",
       "      <td>AT5G67200</td>\n",
       "      <td>6.582219</td>\n",
       "      <td>6.596070</td>\n",
       "      <td>6.671822</td>\n",
       "      <td>6.704642</td>\n",
       "      <td>6.771374</td>\n",
       "      <td>6.697534</td>\n",
       "      <td>6.620210</td>\n",
       "    </tr>\n",
       "    <tr>\n",
       "      <th>25092</th>\n",
       "      <td>0.994581</td>\n",
       "      <td>AT5G67245</td>\n",
       "      <td>7.033339</td>\n",
       "      <td>7.044566</td>\n",
       "      <td>6.939101</td>\n",
       "      <td>7.041862</td>\n",
       "      <td>7.070173</td>\n",
       "      <td>6.894573</td>\n",
       "      <td>7.046004</td>\n",
       "    </tr>\n",
       "    <tr>\n",
       "      <th>25093</th>\n",
       "      <td>0.665923</td>\n",
       "      <td>AT5G67280</td>\n",
       "      <td>6.596707</td>\n",
       "      <td>6.619658</td>\n",
       "      <td>6.559663</td>\n",
       "      <td>6.435686</td>\n",
       "      <td>6.595369</td>\n",
       "      <td>6.763085</td>\n",
       "      <td>6.652929</td>\n",
       "    </tr>\n",
       "    <tr>\n",
       "      <th>25094</th>\n",
       "      <td>0.665923</td>\n",
       "      <td>AT5G67380</td>\n",
       "      <td>9.597377</td>\n",
       "      <td>7.794810</td>\n",
       "      <td>7.809637</td>\n",
       "      <td>7.781770</td>\n",
       "      <td>7.522221</td>\n",
       "      <td>7.573009</td>\n",
       "      <td>8.544600</td>\n",
       "    </tr>\n",
       "    <tr>\n",
       "      <th>25095</th>\n",
       "      <td>0.840453</td>\n",
       "      <td>AT5G67600</td>\n",
       "      <td>9.534719</td>\n",
       "      <td>9.534439</td>\n",
       "      <td>7.781079</td>\n",
       "      <td>7.796267</td>\n",
       "      <td>7.394587</td>\n",
       "      <td>7.862886</td>\n",
       "      <td>10.450088</td>\n",
       "    </tr>\n",
       "  </tbody>\n",
       "</table>\n",
       "<p>25096 rows × 9 columns</p>\n",
       "</div>"
      ],
      "text/plain": [
       "       Phylostratum     GeneID    Zygote  Quadrant   Globular      Heart  \\\n",
       "0          0.665923  AT1G01040  7.684616  7.556010   7.050604   7.164274   \n",
       "1          0.665923  AT1G01050  7.314562  7.505662   7.418366   7.356127   \n",
       "2          0.749960  AT1G01070  7.101505  7.118018   6.846093   6.835850   \n",
       "3          0.665923  AT1G01080  6.925517  6.843093   7.075249   7.193290   \n",
       "4          0.665923  AT1G01090  9.343609  9.727893  10.444871  10.591035   \n",
       "...             ...        ...       ...       ...        ...        ...   \n",
       "25091      0.665923  AT5G67200  6.582219  6.596070   6.671822   6.704642   \n",
       "25092      0.994581  AT5G67245  7.033339  7.044566   6.939101   7.041862   \n",
       "25093      0.665923  AT5G67280  6.596707  6.619658   6.559663   6.435686   \n",
       "25094      0.665923  AT5G67380  9.597377  7.794810   7.809637   7.781770   \n",
       "25095      0.840453  AT5G67600  9.534719  9.534439   7.781079   7.796267   \n",
       "\n",
       "         Torpedo       Bent     Mature  \n",
       "0       6.909007   6.871068   7.436869  \n",
       "1       7.311433   7.017187   6.977893  \n",
       "2       6.762982   6.777881   6.797738  \n",
       "3       7.239676   7.161602   6.759557  \n",
       "4      10.937251  11.112170   8.958484  \n",
       "...          ...        ...        ...  \n",
       "25091   6.771374   6.697534   6.620210  \n",
       "25092   7.070173   6.894573   7.046004  \n",
       "25093   6.595369   6.763085   6.652929  \n",
       "25094   7.522221   7.573009   8.544600  \n",
       "25095   7.394587   7.862886  10.450088  \n",
       "\n",
       "[25096 rows x 9 columns]"
      ]
     },
     "execution_count": 15,
     "metadata": {},
     "output_type": "execute_result"
    }
   ],
   "source": [
    "from my_gatai import Expression_data\n",
    "\n",
    "expression_data = Expression_data.from_csv(data_path, \n",
    "                                           transformation=transformation)\n",
    "expression_data.full"
   ]
  },
  {
   "cell_type": "code",
   "execution_count": 10,
   "metadata": {},
   "outputs": [
    {
     "data": {
      "text/html": [
       "<div>\n",
       "<style scoped>\n",
       "    .dataframe tbody tr th:only-of-type {\n",
       "        vertical-align: middle;\n",
       "    }\n",
       "\n",
       "    .dataframe tbody tr th {\n",
       "        vertical-align: top;\n",
       "    }\n",
       "\n",
       "    .dataframe thead th {\n",
       "        text-align: right;\n",
       "    }\n",
       "</style>\n",
       "<table border=\"1\" class=\"dataframe\">\n",
       "  <thead>\n",
       "    <tr style=\"text-align: right;\">\n",
       "      <th></th>\n",
       "      <th>Zygote</th>\n",
       "      <th>Quadrant</th>\n",
       "      <th>Globular</th>\n",
       "      <th>Heart</th>\n",
       "      <th>Torpedo</th>\n",
       "      <th>Bent</th>\n",
       "      <th>Mature</th>\n",
       "    </tr>\n",
       "  </thead>\n",
       "  <tbody>\n",
       "    <tr>\n",
       "      <th>0</th>\n",
       "      <td>0.000024</td>\n",
       "      <td>0.000022</td>\n",
       "      <td>0.000014</td>\n",
       "      <td>0.000016</td>\n",
       "      <td>0.000012</td>\n",
       "      <td>0.000011</td>\n",
       "      <td>0.000018</td>\n",
       "    </tr>\n",
       "    <tr>\n",
       "      <th>1</th>\n",
       "      <td>0.000017</td>\n",
       "      <td>0.000020</td>\n",
       "      <td>0.000020</td>\n",
       "      <td>0.000019</td>\n",
       "      <td>0.000018</td>\n",
       "      <td>0.000013</td>\n",
       "      <td>0.000011</td>\n",
       "    </tr>\n",
       "    <tr>\n",
       "      <th>2</th>\n",
       "      <td>0.000015</td>\n",
       "      <td>0.000016</td>\n",
       "      <td>0.000012</td>\n",
       "      <td>0.000013</td>\n",
       "      <td>0.000012</td>\n",
       "      <td>0.000012</td>\n",
       "      <td>0.000011</td>\n",
       "    </tr>\n",
       "    <tr>\n",
       "      <th>3</th>\n",
       "      <td>0.000011</td>\n",
       "      <td>0.000011</td>\n",
       "      <td>0.000014</td>\n",
       "      <td>0.000016</td>\n",
       "      <td>0.000017</td>\n",
       "      <td>0.000015</td>\n",
       "      <td>0.000009</td>\n",
       "    </tr>\n",
       "    <tr>\n",
       "      <th>4</th>\n",
       "      <td>0.000127</td>\n",
       "      <td>0.000189</td>\n",
       "      <td>0.000404</td>\n",
       "      <td>0.000479</td>\n",
       "      <td>0.000686</td>\n",
       "      <td>0.000788</td>\n",
       "      <td>0.000083</td>\n",
       "    </tr>\n",
       "    <tr>\n",
       "      <th>...</th>\n",
       "      <td>...</td>\n",
       "      <td>...</td>\n",
       "      <td>...</td>\n",
       "      <td>...</td>\n",
       "      <td>...</td>\n",
       "      <td>...</td>\n",
       "      <td>...</td>\n",
       "    </tr>\n",
       "    <tr>\n",
       "      <th>25091</th>\n",
       "      <td>0.000008</td>\n",
       "      <td>0.000008</td>\n",
       "      <td>0.000009</td>\n",
       "      <td>0.000010</td>\n",
       "      <td>0.000011</td>\n",
       "      <td>0.000010</td>\n",
       "      <td>0.000008</td>\n",
       "    </tr>\n",
       "    <tr>\n",
       "      <th>25092</th>\n",
       "      <td>0.000019</td>\n",
       "      <td>0.000019</td>\n",
       "      <td>0.000018</td>\n",
       "      <td>0.000021</td>\n",
       "      <td>0.000021</td>\n",
       "      <td>0.000017</td>\n",
       "      <td>0.000018</td>\n",
       "    </tr>\n",
       "    <tr>\n",
       "      <th>25093</th>\n",
       "      <td>0.000008</td>\n",
       "      <td>0.000008</td>\n",
       "      <td>0.000008</td>\n",
       "      <td>0.000007</td>\n",
       "      <td>0.000009</td>\n",
       "      <td>0.000010</td>\n",
       "      <td>0.000008</td>\n",
       "    </tr>\n",
       "    <tr>\n",
       "      <th>25094</th>\n",
       "      <td>0.000164</td>\n",
       "      <td>0.000027</td>\n",
       "      <td>0.000029</td>\n",
       "      <td>0.000029</td>\n",
       "      <td>0.000023</td>\n",
       "      <td>0.000023</td>\n",
       "      <td>0.000055</td>\n",
       "    </tr>\n",
       "    <tr>\n",
       "      <th>25095</th>\n",
       "      <td>0.000194</td>\n",
       "      <td>0.000197</td>\n",
       "      <td>0.000036</td>\n",
       "      <td>0.000037</td>\n",
       "      <td>0.000025</td>\n",
       "      <td>0.000039</td>\n",
       "      <td>0.000463</td>\n",
       "    </tr>\n",
       "  </tbody>\n",
       "</table>\n",
       "<p>25096 rows × 7 columns</p>\n",
       "</div>"
      ],
      "text/plain": [
       "         Zygote  Quadrant  Globular     Heart   Torpedo      Bent    Mature\n",
       "0      0.000024  0.000022  0.000014  0.000016  0.000012  0.000011  0.000018\n",
       "1      0.000017  0.000020  0.000020  0.000019  0.000018  0.000013  0.000011\n",
       "2      0.000015  0.000016  0.000012  0.000013  0.000012  0.000012  0.000011\n",
       "3      0.000011  0.000011  0.000014  0.000016  0.000017  0.000015  0.000009\n",
       "4      0.000127  0.000189  0.000404  0.000479  0.000686  0.000788  0.000083\n",
       "...         ...       ...       ...       ...       ...       ...       ...\n",
       "25091  0.000008  0.000008  0.000009  0.000010  0.000011  0.000010  0.000008\n",
       "25092  0.000019  0.000019  0.000018  0.000021  0.000021  0.000017  0.000018\n",
       "25093  0.000008  0.000008  0.000008  0.000007  0.000009  0.000010  0.000008\n",
       "25094  0.000164  0.000027  0.000029  0.000029  0.000023  0.000023  0.000055\n",
       "25095  0.000194  0.000197  0.000036  0.000037  0.000025  0.000039  0.000463\n",
       "\n",
       "[25096 rows x 7 columns]"
      ]
     },
     "execution_count": 10,
     "metadata": {},
     "output_type": "execute_result"
    }
   ],
   "source": [
    "expression_data.p_matrix"
   ]
  },
  {
   "cell_type": "code",
   "execution_count": 16,
   "metadata": {},
   "outputs": [
    {
     "data": {
      "text/plain": [
       "Zygote      0.727488\n",
       "Quadrant    0.727497\n",
       "Globular    0.727246\n",
       "Heart       0.727241\n",
       "Torpedo     0.727098\n",
       "Bent        0.726984\n",
       "Mature      0.727283\n",
       "dtype: float64"
      ]
     },
     "execution_count": 16,
     "metadata": {},
     "output_type": "execute_result"
    }
   ],
   "source": [
    "expression_data.tai"
   ]
  },
  {
   "cell_type": "markdown",
   "metadata": {},
   "source": [
    "### 1.1 Compute TAI value"
   ]
  },
  {
   "cell_type": "code",
   "execution_count": 17,
   "metadata": {},
   "outputs": [
    {
     "data": {
      "image/png": "[encoded data removed]",
      "text/plain": [
       "<Figure size 640x480 with 1 Axes>"
      ]
     },
     "metadata": {},
     "output_type": "display_data"
    }
   ],
   "source": [
    "import matplotlib.pyplot as plt\n",
    "\n",
    "plt.plot(expression_data.tai)\n",
    "plt.show()"
   ]
  },
  {
   "cell_type": "markdown",
   "metadata": {},
   "source": [
    "## 2. Flatline test"
   ]
  },
  {
   "cell_type": "markdown",
   "metadata": {},
   "source": [
    "### 2.1. Compute variance of TAI curve"
   ]
  },
  {
   "cell_type": "code",
   "execution_count": 8,
   "metadata": {},
   "outputs": [
    {
     "data": {
      "text/plain": [
       "3.0198515687824144e-08"
      ]
     },
     "execution_count": 8,
     "metadata": {},
     "output_type": "execute_result"
    }
   ],
   "source": [
    "import numpy as np\n",
    "tai_var = np.var(expression_data.tai).item()\n",
    "tai_var"
   ]
  },
  {
   "cell_type": "markdown",
   "metadata": {},
   "source": [
    "### 2.2. Compute permutation variance distribution\n",
    "\n",
    "Permute the assigned gene ages between the genes to run the flat line test"
   ]
  },
  {
   "cell_type": "code",
   "execution_count": 9,
   "metadata": {},
   "outputs": [
    {
     "name": "stdout",
     "output_type": "stream",
     "text": [
      "Running permuations\n"
     ]
    },
    {
     "name": "stderr",
     "output_type": "stream",
     "text": [
      "100%|██████████| 10000/10000 [00:05<00:00, 1959.47it/s]\n"
     ]
    }
   ],
   "source": [
    "from gatai.utils import comp_vars\n",
    "\n",
    "num_permutations = 10000\n",
    "permutation_comp_vars = comp_vars(expression_data, num_permutations)"
   ]
  },
  {
   "cell_type": "markdown",
   "metadata": {},
   "source": [
    "### 2.3. Fit the random variances to a Gamma distribution and compute the p-value of the true TAI"
   ]
  },
  {
   "cell_type": "code",
   "execution_count": 10,
   "metadata": {},
   "outputs": [
    {
     "name": "stdout",
     "output_type": "stream",
     "text": [
      "Gamma fit params: 0.8726671942061682 1.199955857361075e-10 6.172774574567844e-10\n"
     ]
    }
   ],
   "source": [
    "from flatline import fit_gamma, p_value_function\n",
    "\n",
    "# NOTE: the default fitting method used by scipy doesn't achieve a very good fit, so use \"MM\"\n",
    "a, loc, scale = fit_gamma(permutation_comp_vars)\n",
    "get_p_value = p_value_function(a, loc, scale)\n",
    "print(\"Gamma fit params:\", a, loc, scale)"
   ]
  },
  {
   "cell_type": "code",
   "execution_count": 11,
   "metadata": {},
   "outputs": [
    {
     "name": "stdout",
     "output_type": "stream",
     "text": [
      "p-value of TAI: 3.8343956162840936e-22\n"
     ]
    }
   ],
   "source": [
    "print(\"p-value of TAI:\", get_p_value(tai_var))"
   ]
  },
  {
   "cell_type": "markdown",
   "metadata": {},
   "source": [
    "### 2.4. Visually compare the random TAI variances against the true one"
   ]
  },
  {
   "cell_type": "code",
   "execution_count": 12,
   "metadata": {},
   "outputs": [
    {
     "data": {
      "image/png": "[encoded data removed]",
      "text/plain": [
       "<Figure size 640x480 with 1 Axes>"
      ]
     },
     "metadata": {},
     "output_type": "display_data"
    }
   ],
   "source": [
    "from scipy import stats\n",
    "plt.hist(permutation_comp_vars, density=True, bins=100, label=\"Random gene age TAI variance\")\n",
    "plt.axvline(x=tai_var, label=\"True TAI variance\", color=\"red\")\n",
    "\n",
    "x = np.linspace(0, tai_var, 200)\n",
    "y = stats.gamma.pdf(x, a, loc=loc, scale=scale)\n",
    "plt.plot(x, y, label=\"Fitted gamma distribution\", linestyle=\"dashed\")\n",
    "\n",
    "plt.legend()\n",
    "plt.show()"
   ]
  },
  {
   "cell_type": "markdown",
   "metadata": {},
   "source": [
    "## 3. Destroy TAI signal with GATAI"
   ]
  },
  {
   "cell_type": "markdown",
   "metadata": {},
   "source": [
    "### 3.0 Run greedy algorithm"
   ]
  },
  {
   "cell_type": "code",
   "execution_count": 13,
   "metadata": {},
   "outputs": [
    {
     "name": "stderr",
     "output_type": "stream",
     "text": [
      "2024-10-08 13:19:32,871 INFO:Step 0, Variance 3.0198515687813595e-08, P-value: 3.8343956163497605e-22\n",
      "2024-10-08 13:19:32,872 INFO:tai vector: [ 2.25828199e-04  2.34065841e-04 -1.70199714e-05 -2.12608566e-05\n",
      " -1.64171848e-04 -2.78340683e-04  2.08993185e-05]\n"
     ]
    },
    {
     "data": {
      "image/png": "[encoded data removed]",
      "text/plain": [
       "<Figure size 640x480 with 1 Axes>"
      ]
     },
     "metadata": {},
     "output_type": "display_data"
    }
   ],
   "source": [
    "from greedy import projection_greedy\n",
    "\n",
    "\n",
    "projection_genes = projection_greedy(expression_data, get_p_value, p_value_target=0.999999,top_k=200)"
   ]
  },
  {
   "cell_type": "code",
   "execution_count": 14,
   "metadata": {},
   "outputs": [
    {
     "data": {
      "text/plain": [
       "['AT1G56600',\n",
       " 'AT2G07675',\n",
       " 'AT2G18340',\n",
       " 'AT2G25440',\n",
       " 'AT2G43360',\n",
       " 'AT4G22870',\n",
       " 'AT5G42240',\n",
       " 'AT2G22500',\n",
       " 'AT2G25360',\n",
       " 'AT3G08770',\n",
       " 'AT3G61050',\n",
       " 'AT4G36600',\n",
       " 'AT4G37750',\n",
       " 'AT5G20570',\n",
       " 'AT5G41010',\n",
       " 'AT5G59320',\n",
       " 'AT1G02660',\n",
       " 'AT1G51700',\n",
       " 'AT5G05410',\n",
       " 'AT1G52040',\n",
       " 'AT5G25610',\n",
       " 'AT1G24020',\n",
       " 'AT1G48750',\n",
       " 'AT5G17460',\n",
       " 'AT5G48350',\n",
       " 'AT1G17140',\n",
       " 'AT2G26020',\n",
       " 'AT3G17150',\n",
       " 'AT4G17200',\n",
       " 'AT4G32105',\n",
       " 'AT5G42290',\n",
       " 'AT2G16900',\n",
       " 'AT1G12845',\n",
       " 'AT1G56100',\n",
       " 'AT3G15280',\n",
       " 'AT1G56415',\n",
       " 'AT1G71470',\n",
       " 'AT2G30560',\n",
       " 'AT3G06090',\n",
       " 'AT3G16895',\n",
       " 'AT3G24510',\n",
       " 'AT3G49270',\n",
       " 'AT3G49300',\n",
       " 'AT3G50970',\n",
       " 'AT4G27530',\n",
       " 'AT4G29285',\n",
       " 'AT5G09980',\n",
       " 'AT5G42235',\n",
       " 'AT5G64900',\n",
       " 'AT1G53285',\n",
       " 'AT1G75190',\n",
       " 'AT3G13370',\n",
       " 'AT5G53880',\n",
       " 'AT1G52827',\n",
       " 'AT5G67600']"
      ]
     },
     "execution_count": 14,
     "metadata": {},
     "output_type": "execute_result"
    }
   ],
   "source": [
    "projection_genes"
   ]
  },
  {
   "cell_type": "code",
   "execution_count": 16,
   "metadata": {},
   "outputs": [
    {
     "data": {
      "image/png": "[encoded data removed]",
      "text/plain": [
       "<Figure size 640x480 with 1 Axes>"
      ]
     },
     "metadata": {},
     "output_type": "display_data"
    }
   ],
   "source": [
    "projection_data = expression_data.remove_genes(projection_genes)\n",
    "plt.plot(expression_data.tai, label=\"Real TAI\", color=\"blue\")\n",
    "plt.plot(projection_data.tai, label=\"Destroyed TAI w/ projection greedy\", color=\"purple\")\n",
    "\n",
    "plt.legend()\n",
    "plt.show()"
   ]
  },
  {
   "cell_type": "code",
   "execution_count": 17,
   "metadata": {},
   "outputs": [
    {
     "data": {
      "text/plain": [
       "np.float64(2.2773352986366027e-08)"
      ]
     },
     "execution_count": 17,
     "metadata": {},
     "output_type": "execute_result"
    }
   ],
   "source": [
    "np.var(projection_data.tai)"
   ]
  },
  {
   "cell_type": "markdown",
   "metadata": {},
   "source": [
    "### 3.1 Run genetic algorithm to extract genes that break the pattern\n",
    "Note that the transformation used for the expression data heavily influences the number of genes that get extracted, as well as the number of generations needed for convergence.\n",
    "\n",
    "Also, with transformations applied, older genes are better represented"
   ]
  },
  {
   "cell_type": "code",
   "execution_count": null,
   "metadata": {},
   "outputs": [],
   "source": [
    "from my_gatai import get_extracted_genes\n",
    "\n",
    "ga_genes = get_extracted_genes(expression_data, permutation_comp_vars)"
   ]
  },
  {
   "cell_type": "markdown",
   "metadata": {},
   "source": [
    "#### Genes extracted"
   ]
  },
  {
   "cell_type": "code",
   "execution_count": null,
   "metadata": {},
   "outputs": [],
   "source": [
    "len(ga_genes)"
   ]
  },
  {
   "cell_type": "code",
   "execution_count": null,
   "metadata": {},
   "outputs": [],
   "source": [
    "ga_genes"
   ]
  },
  {
   "cell_type": "markdown",
   "metadata": {},
   "source": [
    "### 3.2 Check variance of destroyed TAI and its new p-value"
   ]
  },
  {
   "cell_type": "code",
   "execution_count": null,
   "metadata": {},
   "outputs": [],
   "source": [
    "new_data = expression_data.remove_genes(ga_genes)\n",
    "plt.plot(expression_data.tai, label=\"Real TAI\", color=\"blue\")\n",
    "plt.plot(new_data.tai, label=\"Destroyed TAI\", color=\"red\")\n",
    "\n",
    "plt.legend()\n",
    "plt.show()"
   ]
  },
  {
   "cell_type": "code",
   "execution_count": null,
   "metadata": {},
   "outputs": [],
   "source": [
    "new_tai_var = np.var(new_data.tai).item()\n",
    "print(\"destroyed TAI p-value:\", get_p_value(new_tai_var))"
   ]
  },
  {
   "cell_type": "code",
   "execution_count": null,
   "metadata": {},
   "outputs": [],
   "source": [
    "plt.hist(permutation_comp_vars, density=True, bins=100, label=\"Random gene age TAI variance\")\n",
    "plt.axvline(x=tai_var, label=\"True TAI variance\", color=\"red\")\n",
    "\n",
    "\n",
    "x = np.linspace(0, tai_var, 200)\n",
    "y = stats.gamma.pdf(x, a, loc=loc, scale=scale)\n",
    "plt.plot(x, y, label=\"Fitted gamma distribution\", linestyle=\"dashed\")\n",
    "plt.axvline(x=new_tai_var, label=\"Destroyed TAI variance\", color=\"black\")\n",
    "plt.legend()\n",
    "plt.show()"
   ]
  },
  {
   "cell_type": "markdown",
   "metadata": {},
   "source": [
    "### 3.3 Benchmark GA against greedy removal of genes with highest variance"
   ]
  },
  {
   "cell_type": "code",
   "execution_count": null,
   "metadata": {},
   "outputs": [],
   "source": [
    "gene_variances = expression_data.gene_variances.sort_values('Variance', ascending=False)\n",
    "gene_variances"
   ]
  },
  {
   "cell_type": "code",
   "execution_count": 16,
   "metadata": {},
   "outputs": [],
   "source": [
    "k_top = len(ga_genes)\n",
    "\n",
    "highest_var_genes = gene_variances.head(k_top)['GeneID'].to_numpy()"
   ]
  },
  {
   "cell_type": "code",
   "execution_count": null,
   "metadata": {},
   "outputs": [],
   "source": [
    "greedy_data = expression_data.remove_genes(highest_var_genes)\n",
    "plt.plot(expression_data.tai, label=\"Real TAI\", color=\"blue\")\n",
    "plt.plot(new_data.tai, label=\"Destroyed TAI\", color=\"red\")\n",
    "plt.plot(greedy_data.tai, label=\"Greedy TAI\", color=\"green\")\n",
    "\n",
    "plt.legend()\n",
    "plt.show()"
   ]
  },
  {
   "cell_type": "code",
   "execution_count": null,
   "metadata": {},
   "outputs": [],
   "source": [
    "greedy_tai_var = np.var(greedy_data.tai).item()\n",
    "print(\"p-value: \", get_p_value(greedy_tai_var))"
   ]
  },
  {
   "cell_type": "markdown",
   "metadata": {},
   "source": [
    "Conversely, however, the genes that were extracted by GATAI tend to have a high variance (but they need to be carefully selected, it's not as simple as picking the most variant ones, hence the need for the GA approach)"
   ]
  },
  {
   "cell_type": "code",
   "execution_count": null,
   "metadata": {},
   "outputs": [],
   "source": [
    "common_genes = np.intersect1d(ga_genes, highest_var_genes)\n",
    "\n",
    "print(\"Number of GA selected genes which are also part of the top_k most variant subset of genes in the dataset:\", len(common_genes), \"out of\", len(ga_genes))"
   ]
  },
  {
   "cell_type": "markdown",
   "metadata": {},
   "source": [
    "### 3.4 Stability of solutions"
   ]
  },
  {
   "cell_type": "markdown",
   "metadata": {},
   "source": [
    "There doesn't seem to be any way to set a seed for the computation run. This would be useful to have, to make results fully reproducible."
   ]
  },
  {
   "cell_type": "code",
   "execution_count": 20,
   "metadata": {},
   "outputs": [],
   "source": [
    "%%capture\n",
    "gene_sets = []\n",
    "\n",
    "for _ in range(3):\n",
    "    genes = get_extracted_genes(expression_data, permutation_comp_vars)\n",
    "    gene_sets.append(set(genes))"
   ]
  },
  {
   "cell_type": "code",
   "execution_count": null,
   "metadata": {},
   "outputs": [],
   "source": [
    "from matplotlib_venn import venn3\n",
    "\n",
    "venn3(gene_sets)\n",
    "plt.title(\"Overlap of genes extracted from 3 different GATAI run\")\n",
    "plt.show()"
   ]
  },
  {
   "cell_type": "markdown",
   "metadata": {},
   "source": [
    "#### Genes in common"
   ]
  },
  {
   "cell_type": "code",
   "execution_count": null,
   "metadata": {},
   "outputs": [],
   "source": [
    "np.array(list(gene_sets[0] & gene_sets[1] & gene_sets[2]))"
   ]
  }
 ],
 "metadata": {
  "kernelspec": {
   "display_name": "gatai-reproduction-YJP4mtSF-py3.12",
   "language": "python",
   "name": "python3"
  },
  "language_info": {
   "codemirror_mode": {
    "name": "ipython",
    "version": 3
   },
   "file_extension": ".py",
   "mimetype": "text/x-python",
   "name": "python",
   "nbconvert_exporter": "python",
   "pygments_lexer": "ipython3",
   "version": "3.12.6"
  }
 },
 "nbformat": 4,
 "nbformat_minor": 2
}
